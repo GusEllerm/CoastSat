{
 "cells": [
  {
   "cell_type": "code",
   "execution_count": 1,
   "metadata": {},
   "outputs": [
    {
     "data": {
      "text/html": [
       "<pre>✔️ 3.12 s (2025-04-10T11:35:16/2025-04-10T11:35:19)</pre>"
      ],
      "text/plain": [
       "<IPython.core.display.HTML object>"
      ]
     },
     "metadata": {},
     "output_type": "display_data"
    },
    {
     "data": {
      "text/plain": [
       "['Profiles_T3_T7/POETTO_2017_01_25_T7.csv',\n",
       " 'Profiles_T3_T7/POETTO_2017_04_06_T3.CSV',\n",
       " 'Profiles_T3_T7/POETTO_2017_04_06_T7.CSV',\n",
       " 'Profiles_T3_T7/POETTO_2018_10_09_T3.CSV',\n",
       " 'Profiles_T3_T7/POETTO_2018_10_09_T7.CSV',\n",
       " 'Profiles_T3_T7/POETTO_2018_10_09_T7_Modified.txt',\n",
       " 'Profiles_T3_T7/POETTO_2018_10_09_T7_Modifiedd.txt',\n",
       " 'Profiles_T3_T7/POETTO_2018_10_19_T3.CSV',\n",
       " 'Profiles_T3_T7/POETTO_2018_10_19_T7.CSV',\n",
       " 'Profiles_T3_T7/POETTO_2019_05_21_T3.CSV',\n",
       " 'Profiles_T3_T7/POETTO_2019_05_21_T7.CSV',\n",
       " 'Profiles_T3_T7/POETTO_2020_01_20_T3.CSV',\n",
       " 'Profiles_T3_T7/POETTO_2020_01_20_T7.CSV',\n",
       " 'Profiles_T3_T7/POETTO_2020_01_27_T3.CSV',\n",
       " 'Profiles_T3_T7/POETTO_2020_01_27_T7.CSV',\n",
       " 'Profiles_T3_T7/POETTO_2020_03_28_T3.csv',\n",
       " 'Profiles_T3_T7/POETTO_2020_03_28_T7.csv',\n",
       " 'Profiles_T3_T7/POETTO_2020_05_04_T3.CSV',\n",
       " 'Profiles_T3_T7/POETTO_2020_05_04_T7.CSV',\n",
       " 'Profiles_T3_T7/POETTO_2022_11_21_NEWEST.csv',\n",
       " 'Profiles_T3_T7/POETTO_2022_11_21_NEWEST_v2.csv',\n",
       " 'Profiles_T3_T7/POETTO_2022_11_21_T3.CSV',\n",
       " 'Profiles_T3_T7/POETTO_2022_11_21_T7.CSV',\n",
       " 'Profiles_T3_T7/POETTO_2023_06_09_T3.CSV',\n",
       " 'Profiles_T3_T7/POETTO_2023_06_09_T7.CSV',\n",
       " 'Profiles_T3_T7/POETTO_2024_06_20_T3.CSV',\n",
       " 'Profiles_T3_T7/POETTO_2024_06_20_T7.txt',\n",
       " 'Profiles_T3_T7/POETTO_2024_10_20_T3.txt',\n",
       " 'Profiles_T3_T7/POETTO_2024_10_20_T3_new.txt',\n",
       " 'Profiles_T3_T7/POETTO_2024_10_20_T7.csv',\n",
       " 'Profiles_T3_T7/POETTO_2024_10_20_T7.txt',\n",
       " 'Profiles_T3_T7/POETTO_2025_01_20_T3.txt',\n",
       " 'Profiles_T3_T7/POETTO_2025_01_20_T3_RAW.txt',\n",
       " 'Profiles_T3_T7/POETTO_2025_01_20_T7.txt',\n",
       " 'Profiles_T3_T7/POETTO_2025_01_20_T7_RAW.txt']"
      ]
     },
     "execution_count": 1,
     "metadata": {},
     "output_type": "execute_result"
    }
   ],
   "source": [
    "%load_ext autotime\n",
    "import geopandas as gpd\n",
    "import pandas as pd\n",
    "import numpy as np\n",
    "from tqdm.auto import tqdm\n",
    "tqdm.pandas()\n",
    "from glob import glob\n",
    "import os\n",
    "from shapely import line_interpolate_point, Point\n",
    "import matplotlib.pyplot as plt\n",
    "pd.set_option('display.max_columns', None)\n",
    "import plotly.express as px\n",
    "pd.options.plotting.backend = \"plotly\"\n",
    "files = sorted(glob(\"Profiles_T3_T7/*\"))\n",
    "files"
   ]
  },
  {
   "cell_type": "code",
   "execution_count": 2,
   "metadata": {},
   "outputs": [
    {
     "data": {
      "text/html": [
       "<pre>✔️ 11.8 s (2025-04-10T11:35:20/2025-04-10T11:35:31)</pre>"
      ],
      "text/plain": [
       "<IPython.core.display.HTML object>"
      ]
     },
     "metadata": {},
     "output_type": "display_data"
    },
    {
     "data": {
      "text/html": [
       "<div>\n",
       "<style scoped>\n",
       "    .dataframe tbody tr th:only-of-type {\n",
       "        vertical-align: middle;\n",
       "    }\n",
       "\n",
       "    .dataframe tbody tr th {\n",
       "        vertical-align: top;\n",
       "    }\n",
       "\n",
       "    .dataframe thead th {\n",
       "        text-align: right;\n",
       "    }\n",
       "</style>\n",
       "<table border=\"1\" class=\"dataframe\">\n",
       "  <thead>\n",
       "    <tr style=\"text-align: right;\">\n",
       "      <th></th>\n",
       "      <th>site_id</th>\n",
       "      <th>orientation</th>\n",
       "      <th>along_dist</th>\n",
       "      <th>along_dist_norm</th>\n",
       "      <th>beach_slope</th>\n",
       "      <th>cil</th>\n",
       "      <th>ciu</th>\n",
       "      <th>trend</th>\n",
       "      <th>n_points</th>\n",
       "      <th>n_points_nonan</th>\n",
       "      <th>r2_score</th>\n",
       "      <th>mae</th>\n",
       "      <th>mse</th>\n",
       "      <th>rmse</th>\n",
       "      <th>intercept</th>\n",
       "      <th>ERODIBILITY</th>\n",
       "      <th>geometry</th>\n",
       "    </tr>\n",
       "    <tr>\n",
       "      <th>id</th>\n",
       "      <th></th>\n",
       "      <th></th>\n",
       "      <th></th>\n",
       "      <th></th>\n",
       "      <th></th>\n",
       "      <th></th>\n",
       "      <th></th>\n",
       "      <th></th>\n",
       "      <th></th>\n",
       "      <th></th>\n",
       "      <th></th>\n",
       "      <th></th>\n",
       "      <th></th>\n",
       "      <th></th>\n",
       "      <th></th>\n",
       "      <th></th>\n",
       "      <th></th>\n",
       "    </tr>\n",
       "  </thead>\n",
       "  <tbody>\n",
       "    <tr>\n",
       "      <th>aus0001-0000</th>\n",
       "      <td>aus0001</td>\n",
       "      <td>104.347648</td>\n",
       "      <td>0.000000</td>\n",
       "      <td>0.000000</td>\n",
       "      <td>0.085</td>\n",
       "      <td>0.0545</td>\n",
       "      <td>0.2000</td>\n",
       "      <td>-1.456305</td>\n",
       "      <td>654.0</td>\n",
       "      <td>342.0</td>\n",
       "      <td>0.131951</td>\n",
       "      <td>28.721214</td>\n",
       "      <td>1321.059410</td>\n",
       "      <td>36.346381</td>\n",
       "      <td>179.407277</td>\n",
       "      <td>None</td>\n",
       "      <td>LINESTRING (153.26555 -24.7007, 153.26938 -24....</td>\n",
       "    </tr>\n",
       "    <tr>\n",
       "      <th>aus0001-0001</th>\n",
       "      <td>aus0001</td>\n",
       "      <td>93.495734</td>\n",
       "      <td>98.408334</td>\n",
       "      <td>0.002935</td>\n",
       "      <td>0.050</td>\n",
       "      <td>0.0387</td>\n",
       "      <td>0.0640</td>\n",
       "      <td>-0.833581</td>\n",
       "      <td>654.0</td>\n",
       "      <td>473.0</td>\n",
       "      <td>0.052783</td>\n",
       "      <td>26.029482</td>\n",
       "      <td>1092.336862</td>\n",
       "      <td>33.050520</td>\n",
       "      <td>210.629160</td>\n",
       "      <td>None</td>\n",
       "      <td>LINESTRING (153.26525 -24.7019, 153.2692 -24.7...</td>\n",
       "    </tr>\n",
       "    <tr>\n",
       "      <th>aus0001-0002</th>\n",
       "      <td>aus0001</td>\n",
       "      <td>82.069341</td>\n",
       "      <td>198.408334</td>\n",
       "      <td>0.005918</td>\n",
       "      <td>0.050</td>\n",
       "      <td>0.0428</td>\n",
       "      <td>0.0647</td>\n",
       "      <td>-0.282209</td>\n",
       "      <td>654.0</td>\n",
       "      <td>491.0</td>\n",
       "      <td>0.008220</td>\n",
       "      <td>22.896464</td>\n",
       "      <td>838.997233</td>\n",
       "      <td>28.965449</td>\n",
       "      <td>200.166307</td>\n",
       "      <td>None</td>\n",
       "      <td>LINESTRING (153.26539 -24.70316, 153.26931 -24...</td>\n",
       "    </tr>\n",
       "    <tr>\n",
       "      <th>aus0001-0003</th>\n",
       "      <td>aus0001</td>\n",
       "      <td>81.192757</td>\n",
       "      <td>298.402523</td>\n",
       "      <td>0.008900</td>\n",
       "      <td>0.055</td>\n",
       "      <td>0.0480</td>\n",
       "      <td>0.0659</td>\n",
       "      <td>0.089340</td>\n",
       "      <td>654.0</td>\n",
       "      <td>502.0</td>\n",
       "      <td>0.000987</td>\n",
       "      <td>20.770475</td>\n",
       "      <td>691.179232</td>\n",
       "      <td>26.290288</td>\n",
       "      <td>185.295473</td>\n",
       "      <td>None</td>\n",
       "      <td>LINESTRING (153.26555 -24.70408, 153.26945 -24...</td>\n",
       "    </tr>\n",
       "    <tr>\n",
       "      <th>aus0001-0004</th>\n",
       "      <td>aus0001</td>\n",
       "      <td>81.065473</td>\n",
       "      <td>398.402523</td>\n",
       "      <td>0.011882</td>\n",
       "      <td>0.075</td>\n",
       "      <td>0.0614</td>\n",
       "      <td>0.0922</td>\n",
       "      <td>0.361437</td>\n",
       "      <td>654.0</td>\n",
       "      <td>508.0</td>\n",
       "      <td>0.017461</td>\n",
       "      <td>19.528839</td>\n",
       "      <td>637.676213</td>\n",
       "      <td>25.252252</td>\n",
       "      <td>169.027861</td>\n",
       "      <td>None</td>\n",
       "      <td>LINESTRING (153.2657 -24.70497, 153.26961 -24....</td>\n",
       "    </tr>\n",
       "    <tr>\n",
       "      <th>...</th>\n",
       "      <td>...</td>\n",
       "      <td>...</td>\n",
       "      <td>...</td>\n",
       "      <td>...</td>\n",
       "      <td>...</td>\n",
       "      <td>...</td>\n",
       "      <td>...</td>\n",
       "      <td>...</td>\n",
       "      <td>...</td>\n",
       "      <td>...</td>\n",
       "      <td>...</td>\n",
       "      <td>...</td>\n",
       "      <td>...</td>\n",
       "      <td>...</td>\n",
       "      <td>...</td>\n",
       "      <td>...</td>\n",
       "      <td>...</td>\n",
       "    </tr>\n",
       "    <tr>\n",
       "      <th>sar2538-0004</th>\n",
       "      <td>sar2538</td>\n",
       "      <td>NaN</td>\n",
       "      <td>NaN</td>\n",
       "      <td>NaN</td>\n",
       "      <td>NaN</td>\n",
       "      <td>NaN</td>\n",
       "      <td>NaN</td>\n",
       "      <td>-0.072765</td>\n",
       "      <td>1220.0</td>\n",
       "      <td>1220.0</td>\n",
       "      <td>0.159922</td>\n",
       "      <td>1.468474</td>\n",
       "      <td>3.900855</td>\n",
       "      <td>1.975058</td>\n",
       "      <td>244.639331</td>\n",
       "      <td>Low</td>\n",
       "      <td>LINESTRING (9.33568 41.29334, 9.33294 41.29629)</td>\n",
       "    </tr>\n",
       "    <tr>\n",
       "      <th>sar2539-0000</th>\n",
       "      <td>sar2539</td>\n",
       "      <td>NaN</td>\n",
       "      <td>NaN</td>\n",
       "      <td>NaN</td>\n",
       "      <td>NaN</td>\n",
       "      <td>NaN</td>\n",
       "      <td>NaN</td>\n",
       "      <td>0.094468</td>\n",
       "      <td>388.0</td>\n",
       "      <td>378.0</td>\n",
       "      <td>0.023321</td>\n",
       "      <td>2.795524</td>\n",
       "      <td>24.861725</td>\n",
       "      <td>4.986153</td>\n",
       "      <td>214.008472</td>\n",
       "      <td>Low</td>\n",
       "      <td>LINESTRING (9.40022 41.3002, 9.40172 41.30362)</td>\n",
       "    </tr>\n",
       "    <tr>\n",
       "      <th>sar2539-0001</th>\n",
       "      <td>sar2539</td>\n",
       "      <td>NaN</td>\n",
       "      <td>NaN</td>\n",
       "      <td>NaN</td>\n",
       "      <td>NaN</td>\n",
       "      <td>NaN</td>\n",
       "      <td>NaN</td>\n",
       "      <td>0.161493</td>\n",
       "      <td>388.0</td>\n",
       "      <td>376.0</td>\n",
       "      <td>0.058879</td>\n",
       "      <td>3.099783</td>\n",
       "      <td>27.664877</td>\n",
       "      <td>5.259741</td>\n",
       "      <td>191.216499</td>\n",
       "      <td>Low</td>\n",
       "      <td>LINESTRING (9.39917 41.3019, 9.4035 41.30039)</td>\n",
       "    </tr>\n",
       "    <tr>\n",
       "      <th>sar2539-0002</th>\n",
       "      <td>sar2539</td>\n",
       "      <td>NaN</td>\n",
       "      <td>NaN</td>\n",
       "      <td>NaN</td>\n",
       "      <td>NaN</td>\n",
       "      <td>NaN</td>\n",
       "      <td>NaN</td>\n",
       "      <td>-0.285881</td>\n",
       "      <td>388.0</td>\n",
       "      <td>379.0</td>\n",
       "      <td>0.024153</td>\n",
       "      <td>5.867024</td>\n",
       "      <td>226.611071</td>\n",
       "      <td>15.053607</td>\n",
       "      <td>221.258244</td>\n",
       "      <td>Low</td>\n",
       "      <td>LINESTRING (9.40237 41.3022, 9.39864 41.29996)</td>\n",
       "    </tr>\n",
       "    <tr>\n",
       "      <th>sar2539-0003</th>\n",
       "      <td>sar2539</td>\n",
       "      <td>NaN</td>\n",
       "      <td>NaN</td>\n",
       "      <td>NaN</td>\n",
       "      <td>NaN</td>\n",
       "      <td>NaN</td>\n",
       "      <td>NaN</td>\n",
       "      <td>-0.138477</td>\n",
       "      <td>388.0</td>\n",
       "      <td>378.0</td>\n",
       "      <td>0.020862</td>\n",
       "      <td>3.761033</td>\n",
       "      <td>60.698187</td>\n",
       "      <td>7.790904</td>\n",
       "      <td>237.269584</td>\n",
       "      <td>Low</td>\n",
       "      <td>LINESTRING (9.40196 41.30034, 9.39943 41.3034)</td>\n",
       "    </tr>\n",
       "  </tbody>\n",
       "</table>\n",
       "<p>147182 rows × 17 columns</p>\n",
       "</div>"
      ],
      "text/plain": [
       "              site_id  orientation  along_dist  along_dist_norm  beach_slope  \\\n",
       "id                                                                             \n",
       "aus0001-0000  aus0001   104.347648    0.000000         0.000000        0.085   \n",
       "aus0001-0001  aus0001    93.495734   98.408334         0.002935        0.050   \n",
       "aus0001-0002  aus0001    82.069341  198.408334         0.005918        0.050   \n",
       "aus0001-0003  aus0001    81.192757  298.402523         0.008900        0.055   \n",
       "aus0001-0004  aus0001    81.065473  398.402523         0.011882        0.075   \n",
       "...               ...          ...         ...              ...          ...   \n",
       "sar2538-0004  sar2538          NaN         NaN              NaN          NaN   \n",
       "sar2539-0000  sar2539          NaN         NaN              NaN          NaN   \n",
       "sar2539-0001  sar2539          NaN         NaN              NaN          NaN   \n",
       "sar2539-0002  sar2539          NaN         NaN              NaN          NaN   \n",
       "sar2539-0003  sar2539          NaN         NaN              NaN          NaN   \n",
       "\n",
       "                 cil     ciu     trend  n_points  n_points_nonan  r2_score  \\\n",
       "id                                                                           \n",
       "aus0001-0000  0.0545  0.2000 -1.456305     654.0           342.0  0.131951   \n",
       "aus0001-0001  0.0387  0.0640 -0.833581     654.0           473.0  0.052783   \n",
       "aus0001-0002  0.0428  0.0647 -0.282209     654.0           491.0  0.008220   \n",
       "aus0001-0003  0.0480  0.0659  0.089340     654.0           502.0  0.000987   \n",
       "aus0001-0004  0.0614  0.0922  0.361437     654.0           508.0  0.017461   \n",
       "...              ...     ...       ...       ...             ...       ...   \n",
       "sar2538-0004     NaN     NaN -0.072765    1220.0          1220.0  0.159922   \n",
       "sar2539-0000     NaN     NaN  0.094468     388.0           378.0  0.023321   \n",
       "sar2539-0001     NaN     NaN  0.161493     388.0           376.0  0.058879   \n",
       "sar2539-0002     NaN     NaN -0.285881     388.0           379.0  0.024153   \n",
       "sar2539-0003     NaN     NaN -0.138477     388.0           378.0  0.020862   \n",
       "\n",
       "                    mae          mse       rmse   intercept ERODIBILITY  \\\n",
       "id                                                                        \n",
       "aus0001-0000  28.721214  1321.059410  36.346381  179.407277        None   \n",
       "aus0001-0001  26.029482  1092.336862  33.050520  210.629160        None   \n",
       "aus0001-0002  22.896464   838.997233  28.965449  200.166307        None   \n",
       "aus0001-0003  20.770475   691.179232  26.290288  185.295473        None   \n",
       "aus0001-0004  19.528839   637.676213  25.252252  169.027861        None   \n",
       "...                 ...          ...        ...         ...         ...   \n",
       "sar2538-0004   1.468474     3.900855   1.975058  244.639331         Low   \n",
       "sar2539-0000   2.795524    24.861725   4.986153  214.008472         Low   \n",
       "sar2539-0001   3.099783    27.664877   5.259741  191.216499         Low   \n",
       "sar2539-0002   5.867024   226.611071  15.053607  221.258244         Low   \n",
       "sar2539-0003   3.761033    60.698187   7.790904  237.269584         Low   \n",
       "\n",
       "                                                       geometry  \n",
       "id                                                               \n",
       "aus0001-0000  LINESTRING (153.26555 -24.7007, 153.26938 -24....  \n",
       "aus0001-0001  LINESTRING (153.26525 -24.7019, 153.2692 -24.7...  \n",
       "aus0001-0002  LINESTRING (153.26539 -24.70316, 153.26931 -24...  \n",
       "aus0001-0003  LINESTRING (153.26555 -24.70408, 153.26945 -24...  \n",
       "aus0001-0004  LINESTRING (153.2657 -24.70497, 153.26961 -24....  \n",
       "...                                                         ...  \n",
       "sar2538-0004    LINESTRING (9.33568 41.29334, 9.33294 41.29629)  \n",
       "sar2539-0000     LINESTRING (9.40022 41.3002, 9.40172 41.30362)  \n",
       "sar2539-0001      LINESTRING (9.39917 41.3019, 9.4035 41.30039)  \n",
       "sar2539-0002     LINESTRING (9.40237 41.3022, 9.39864 41.29996)  \n",
       "sar2539-0003     LINESTRING (9.40196 41.30034, 9.39943 41.3034)  \n",
       "\n",
       "[147182 rows x 17 columns]"
      ]
     },
     "execution_count": 2,
     "metadata": {},
     "output_type": "execute_result"
    }
   ],
   "source": [
    "transects = gpd.read_file(\"transects_extended.geojson\").set_index(\"id\")\n",
    "transects"
   ]
  },
  {
   "cell_type": "code",
   "execution_count": 3,
   "metadata": {},
   "outputs": [
    {
     "data": {
      "text/html": [
       "<pre>✔️ 864 ms (2025-04-10T11:35:31/2025-04-10T11:35:32)</pre>"
      ],
      "text/plain": [
       "<IPython.core.display.HTML object>"
      ]
     },
     "metadata": {},
     "output_type": "display_data"
    }
   ],
   "source": [
    "intersects = pd.read_csv(\"data/sar0941/transect_time_series.csv\")\n",
    "intersects.dates = pd.to_datetime(intersects.dates)\n",
    "transect_id = 'sar0941-0000'\n",
    "intersects[transect_id] = gpd.GeoSeries(line_interpolate_point(transects.geometry.to_crs(3003)[transect_id], intersects[transect_id]), crs=3003)"
   ]
  },
  {
   "cell_type": "code",
   "execution_count": 4,
   "metadata": {},
   "outputs": [
    {
     "data": {
      "text/html": [
       "<pre>✔️ 34.3 ms (2025-04-10T11:35:32/2025-04-10T11:35:32)</pre>"
      ],
      "text/plain": [
       "<IPython.core.display.HTML object>"
      ]
     },
     "metadata": {},
     "output_type": "display_data"
    },
    {
     "data": {
      "text/html": [
       "<div>\n",
       "<style scoped>\n",
       "    .dataframe tbody tr th:only-of-type {\n",
       "        vertical-align: middle;\n",
       "    }\n",
       "\n",
       "    .dataframe tbody tr th {\n",
       "        vertical-align: top;\n",
       "    }\n",
       "\n",
       "    .dataframe thead th {\n",
       "        text-align: right;\n",
       "    }\n",
       "</style>\n",
       "<table border=\"1\" class=\"dataframe\">\n",
       "  <thead>\n",
       "    <tr style=\"text-align: right;\">\n",
       "      <th></th>\n",
       "      <th>dates</th>\n",
       "      <th>satname</th>\n",
       "      <th>sar0941-0000</th>\n",
       "      <th>sar0941-0001</th>\n",
       "      <th>sar0941-0002</th>\n",
       "      <th>sar0941-0003</th>\n",
       "      <th>sar0941-0004</th>\n",
       "      <th>sar0941-0005</th>\n",
       "      <th>sar0941-0006</th>\n",
       "      <th>sar0941-0007</th>\n",
       "      <th>timediff</th>\n",
       "    </tr>\n",
       "  </thead>\n",
       "  <tbody>\n",
       "    <tr>\n",
       "      <th>767</th>\n",
       "      <td>2017-01-25 10:06:38+00:00</td>\n",
       "      <td>L8</td>\n",
       "      <td>POINT (1515236.007 4340431.221)</td>\n",
       "      <td>202.61</td>\n",
       "      <td>200.94</td>\n",
       "      <td>195.35</td>\n",
       "      <td>204.47</td>\n",
       "      <td>202.22</td>\n",
       "      <td>207.47</td>\n",
       "      <td>200.08</td>\n",
       "      <td>0 days 10:06:38</td>\n",
       "    </tr>\n",
       "    <tr>\n",
       "      <th>768</th>\n",
       "      <td>2017-01-26 10:02:22+00:00</td>\n",
       "      <td>L7</td>\n",
       "      <td>POINT (1515236.588 4340430.275)</td>\n",
       "      <td>203.36</td>\n",
       "      <td>206.11</td>\n",
       "      <td>204.49</td>\n",
       "      <td>NaN</td>\n",
       "      <td>NaN</td>\n",
       "      <td>-55.21</td>\n",
       "      <td>NaN</td>\n",
       "      <td>1 days 10:02:22</td>\n",
       "    </tr>\n",
       "    <tr>\n",
       "      <th>766</th>\n",
       "      <td>2017-01-09 10:06:43+00:00</td>\n",
       "      <td>L8</td>\n",
       "      <td>POINT (1515240.141 4340424.489)</td>\n",
       "      <td>209.10</td>\n",
       "      <td>203.17</td>\n",
       "      <td>201.10</td>\n",
       "      <td>208.10</td>\n",
       "      <td>211.57</td>\n",
       "      <td>211.66</td>\n",
       "      <td>204.62</td>\n",
       "      <td>15 days 13:53:17</td>\n",
       "    </tr>\n",
       "    <tr>\n",
       "      <th>769</th>\n",
       "      <td>2017-02-11 10:02:16+00:00</td>\n",
       "      <td>L7</td>\n",
       "      <td>None</td>\n",
       "      <td>NaN</td>\n",
       "      <td>192.32</td>\n",
       "      <td>189.09</td>\n",
       "      <td>NaN</td>\n",
       "      <td>NaN</td>\n",
       "      <td>NaN</td>\n",
       "      <td>196.77</td>\n",
       "      <td>17 days 10:02:16</td>\n",
       "    </tr>\n",
       "    <tr>\n",
       "      <th>765</th>\n",
       "      <td>2017-01-02 10:00:33+00:00</td>\n",
       "      <td>L8</td>\n",
       "      <td>POINT (1515240.225 4340424.352)</td>\n",
       "      <td>212.48</td>\n",
       "      <td>206.36</td>\n",
       "      <td>199.93</td>\n",
       "      <td>208.57</td>\n",
       "      <td>211.48</td>\n",
       "      <td>216.35</td>\n",
       "      <td>207.86</td>\n",
       "      <td>22 days 13:59:27</td>\n",
       "    </tr>\n",
       "    <tr>\n",
       "      <th>...</th>\n",
       "      <td>...</td>\n",
       "      <td>...</td>\n",
       "      <td>...</td>\n",
       "      <td>...</td>\n",
       "      <td>...</td>\n",
       "      <td>...</td>\n",
       "      <td>...</td>\n",
       "      <td>...</td>\n",
       "      <td>...</td>\n",
       "      <td>...</td>\n",
       "      <td>...</td>\n",
       "    </tr>\n",
       "    <tr>\n",
       "      <th>4</th>\n",
       "      <td>1984-06-07 09:34:42+00:00</td>\n",
       "      <td>L5</td>\n",
       "      <td>POINT (1515224.856 4340449.381)</td>\n",
       "      <td>181.85</td>\n",
       "      <td>175.61</td>\n",
       "      <td>185.80</td>\n",
       "      <td>189.06</td>\n",
       "      <td>192.88</td>\n",
       "      <td>200.27</td>\n",
       "      <td>188.61</td>\n",
       "      <td>11919 days 14:25:18</td>\n",
       "    </tr>\n",
       "    <tr>\n",
       "      <th>3</th>\n",
       "      <td>1984-05-31 09:28:23+00:00</td>\n",
       "      <td>L5</td>\n",
       "      <td>POINT (1515225.814 4340447.821)</td>\n",
       "      <td>181.54</td>\n",
       "      <td>176.86</td>\n",
       "      <td>179.99</td>\n",
       "      <td>182.05</td>\n",
       "      <td>188.07</td>\n",
       "      <td>188.85</td>\n",
       "      <td>181.16</td>\n",
       "      <td>11926 days 14:31:37</td>\n",
       "    </tr>\n",
       "    <tr>\n",
       "      <th>2</th>\n",
       "      <td>1984-05-06 09:33:51+00:00</td>\n",
       "      <td>L5</td>\n",
       "      <td>POINT (1515226.431 4340446.816)</td>\n",
       "      <td>179.34</td>\n",
       "      <td>175.95</td>\n",
       "      <td>175.88</td>\n",
       "      <td>179.33</td>\n",
       "      <td>183.80</td>\n",
       "      <td>185.50</td>\n",
       "      <td>182.47</td>\n",
       "      <td>11951 days 14:26:09</td>\n",
       "    </tr>\n",
       "    <tr>\n",
       "      <th>1</th>\n",
       "      <td>1984-04-29 09:27:29+00:00</td>\n",
       "      <td>L5</td>\n",
       "      <td>POINT (1515220.801 4340455.985)</td>\n",
       "      <td>172.37</td>\n",
       "      <td>172.57</td>\n",
       "      <td>176.45</td>\n",
       "      <td>185.43</td>\n",
       "      <td>182.83</td>\n",
       "      <td>190.28</td>\n",
       "      <td>170.60</td>\n",
       "      <td>11958 days 14:32:31</td>\n",
       "    </tr>\n",
       "    <tr>\n",
       "      <th>0</th>\n",
       "      <td>1984-04-13 09:27:31+00:00</td>\n",
       "      <td>L5</td>\n",
       "      <td>POINT (1515224.438 4340450.062)</td>\n",
       "      <td>179.36</td>\n",
       "      <td>174.43</td>\n",
       "      <td>174.54</td>\n",
       "      <td>178.48</td>\n",
       "      <td>183.40</td>\n",
       "      <td>182.55</td>\n",
       "      <td>175.31</td>\n",
       "      <td>11974 days 14:32:29</td>\n",
       "    </tr>\n",
       "  </tbody>\n",
       "</table>\n",
       "<p>1203 rows × 11 columns</p>\n",
       "</div>"
      ],
      "text/plain": [
       "                        dates satname                     sar0941-0000  \\\n",
       "767 2017-01-25 10:06:38+00:00      L8  POINT (1515236.007 4340431.221)   \n",
       "768 2017-01-26 10:02:22+00:00      L7  POINT (1515236.588 4340430.275)   \n",
       "766 2017-01-09 10:06:43+00:00      L8  POINT (1515240.141 4340424.489)   \n",
       "769 2017-02-11 10:02:16+00:00      L7                             None   \n",
       "765 2017-01-02 10:00:33+00:00      L8  POINT (1515240.225 4340424.352)   \n",
       "..                        ...     ...                              ...   \n",
       "4   1984-06-07 09:34:42+00:00      L5  POINT (1515224.856 4340449.381)   \n",
       "3   1984-05-31 09:28:23+00:00      L5  POINT (1515225.814 4340447.821)   \n",
       "2   1984-05-06 09:33:51+00:00      L5  POINT (1515226.431 4340446.816)   \n",
       "1   1984-04-29 09:27:29+00:00      L5  POINT (1515220.801 4340455.985)   \n",
       "0   1984-04-13 09:27:31+00:00      L5  POINT (1515224.438 4340450.062)   \n",
       "\n",
       "     sar0941-0001  sar0941-0002  sar0941-0003  sar0941-0004  sar0941-0005  \\\n",
       "767        202.61        200.94        195.35        204.47        202.22   \n",
       "768        203.36        206.11        204.49           NaN           NaN   \n",
       "766        209.10        203.17        201.10        208.10        211.57   \n",
       "769           NaN        192.32        189.09           NaN           NaN   \n",
       "765        212.48        206.36        199.93        208.57        211.48   \n",
       "..            ...           ...           ...           ...           ...   \n",
       "4          181.85        175.61        185.80        189.06        192.88   \n",
       "3          181.54        176.86        179.99        182.05        188.07   \n",
       "2          179.34        175.95        175.88        179.33        183.80   \n",
       "1          172.37        172.57        176.45        185.43        182.83   \n",
       "0          179.36        174.43        174.54        178.48        183.40   \n",
       "\n",
       "     sar0941-0006  sar0941-0007            timediff  \n",
       "767        207.47        200.08     0 days 10:06:38  \n",
       "768        -55.21           NaN     1 days 10:02:22  \n",
       "766        211.66        204.62    15 days 13:53:17  \n",
       "769           NaN        196.77    17 days 10:02:16  \n",
       "765        216.35        207.86    22 days 13:59:27  \n",
       "..            ...           ...                 ...  \n",
       "4          200.27        188.61 11919 days 14:25:18  \n",
       "3          188.85        181.16 11926 days 14:31:37  \n",
       "2          185.50        182.47 11951 days 14:26:09  \n",
       "1          190.28        170.60 11958 days 14:32:31  \n",
       "0          182.55        175.31 11974 days 14:32:29  \n",
       "\n",
       "[1203 rows x 11 columns]"
      ]
     },
     "execution_count": 4,
     "metadata": {},
     "output_type": "execute_result"
    }
   ],
   "source": [
    "intersects[\"timediff\"] = (intersects.dates - pd.to_datetime(\"2017-01-25 00:00:00+00:00\")).abs()\n",
    "intersects.sort_values(\"timediff\")"
   ]
  },
  {
   "cell_type": "code",
   "execution_count": 5,
   "metadata": {},
   "outputs": [
    {
     "data": {
      "text/html": [
       "<pre>✔️ 3.36 s (2025-04-10T11:35:33/2025-04-10T11:35:36)</pre>"
      ],
      "text/plain": [
       "<IPython.core.display.HTML object>"
      ]
     },
     "metadata": {},
     "output_type": "display_data"
    },
    {
     "data": {
      "text/html": [
       "<div style=\"width:100%;\"><div style=\"position:relative;width:100%;height:0;padding-bottom:60%;\"><span style=\"color:#565656\">Make this Notebook Trusted to load map: File -> Trust Notebook</span><iframe srcdoc=\"&lt;!DOCTYPE html&gt;\n",
       "&lt;html&gt;\n",
       "&lt;head&gt;\n",
       "    \n",
       "    &lt;meta http-equiv=&quot;content-type&quot; content=&quot;text/html; charset=UTF-8&quot; /&gt;\n",
       "    \n",
       "        &lt;script&gt;\n",
       "            L_NO_TOUCH = false;\n",
       "            L_DISABLE_3D = false;\n",
       "        &lt;/script&gt;\n",
       "    \n",
       "    &lt;style&gt;html, body {width: 100%;height: 100%;margin: 0;padding: 0;}&lt;/style&gt;\n",
       "    &lt;style&gt;#map {position:absolute;top:0;bottom:0;right:0;left:0;}&lt;/style&gt;\n",
       "    &lt;script src=&quot;https://cdn.jsdelivr.net/npm/leaflet@1.9.3/dist/leaflet.js&quot;&gt;&lt;/script&gt;\n",
       "    &lt;script src=&quot;https://code.jquery.com/jquery-3.7.1.min.js&quot;&gt;&lt;/script&gt;\n",
       "    &lt;script src=&quot;https://cdn.jsdelivr.net/npm/bootstrap@5.2.2/dist/js/bootstrap.bundle.min.js&quot;&gt;&lt;/script&gt;\n",
       "    &lt;script src=&quot;https://cdnjs.cloudflare.com/ajax/libs/Leaflet.awesome-markers/2.0.2/leaflet.awesome-markers.js&quot;&gt;&lt;/script&gt;\n",
       "    &lt;link rel=&quot;stylesheet&quot; href=&quot;https://cdn.jsdelivr.net/npm/leaflet@1.9.3/dist/leaflet.css&quot;/&gt;\n",
       "    &lt;link rel=&quot;stylesheet&quot; href=&quot;https://cdn.jsdelivr.net/npm/bootstrap@5.2.2/dist/css/bootstrap.min.css&quot;/&gt;\n",
       "    &lt;link rel=&quot;stylesheet&quot; href=&quot;https://netdna.bootstrapcdn.com/bootstrap/3.0.0/css/bootstrap-glyphicons.css&quot;/&gt;\n",
       "    &lt;link rel=&quot;stylesheet&quot; href=&quot;https://cdn.jsdelivr.net/npm/@fortawesome/fontawesome-free@6.2.0/css/all.min.css&quot;/&gt;\n",
       "    &lt;link rel=&quot;stylesheet&quot; href=&quot;https://cdnjs.cloudflare.com/ajax/libs/Leaflet.awesome-markers/2.0.2/leaflet.awesome-markers.css&quot;/&gt;\n",
       "    &lt;link rel=&quot;stylesheet&quot; href=&quot;https://cdn.jsdelivr.net/gh/python-visualization/folium/folium/templates/leaflet.awesome.rotate.min.css&quot;/&gt;\n",
       "    \n",
       "            &lt;meta name=&quot;viewport&quot; content=&quot;width=device-width,\n",
       "                initial-scale=1.0, maximum-scale=1.0, user-scalable=no&quot; /&gt;\n",
       "            &lt;style&gt;\n",
       "                #map_b370fc946bffb94ed155ee6f9d131b80 {\n",
       "                    position: relative;\n",
       "                    width: 100.0%;\n",
       "                    height: 100.0%;\n",
       "                    left: 0.0%;\n",
       "                    top: 0.0%;\n",
       "                }\n",
       "                .leaflet-container { font-size: 1rem; }\n",
       "            &lt;/style&gt;\n",
       "        \n",
       "    \n",
       "                    &lt;style&gt;\n",
       "                        .foliumtooltip {\n",
       "                            \n",
       "                        }\n",
       "                       .foliumtooltip table{\n",
       "                            margin: auto;\n",
       "                        }\n",
       "                        .foliumtooltip tr{\n",
       "                            text-align: left;\n",
       "                        }\n",
       "                        .foliumtooltip th{\n",
       "                            padding: 2px; padding-right: 8px;\n",
       "                        }\n",
       "                    &lt;/style&gt;\n",
       "            \n",
       "    &lt;script src=&quot;https://cdnjs.cloudflare.com/ajax/libs/d3/3.5.5/d3.min.js&quot;&gt;&lt;/script&gt;\n",
       "    \n",
       "                    &lt;style&gt;\n",
       "                        .foliumtooltip {\n",
       "                            \n",
       "                        }\n",
       "                       .foliumtooltip table{\n",
       "                            margin: auto;\n",
       "                        }\n",
       "                        .foliumtooltip tr{\n",
       "                            text-align: left;\n",
       "                        }\n",
       "                        .foliumtooltip th{\n",
       "                            padding: 2px; padding-right: 8px;\n",
       "                        }\n",
       "                    &lt;/style&gt;\n",
       "            \n",
       "&lt;/head&gt;\n",
       "&lt;body&gt;\n",
       "    \n",
       "    \n",
       "            &lt;div class=&quot;folium-map&quot; id=&quot;map_b370fc946bffb94ed155ee6f9d131b80&quot; &gt;&lt;/div&gt;\n",
       "        \n",
       "&lt;/body&gt;\n",
       "&lt;script&gt;\n",
       "    \n",
       "    \n",
       "            var map_b370fc946bffb94ed155ee6f9d131b80 = L.map(\n",
       "                &quot;map_b370fc946bffb94ed155ee6f9d131b80&quot;,\n",
       "                {\n",
       "                    center: [39.213318870954424, 9.175627030261722],\n",
       "                    crs: L.CRS.EPSG3857,\n",
       "                    ...{\n",
       "  &quot;zoom&quot;: 10,\n",
       "  &quot;zoomControl&quot;: true,\n",
       "  &quot;preferCanvas&quot;: false,\n",
       "}\n",
       "\n",
       "                }\n",
       "            );\n",
       "            L.control.scale().addTo(map_b370fc946bffb94ed155ee6f9d131b80);\n",
       "\n",
       "            \n",
       "\n",
       "        \n",
       "    \n",
       "            var tile_layer_d70fca7481d11e12ca633b8cd9ad771b = L.tileLayer(\n",
       "                &quot;https://tile.openstreetmap.org/{z}/{x}/{y}.png&quot;,\n",
       "                {\n",
       "  &quot;minZoom&quot;: 0,\n",
       "  &quot;maxZoom&quot;: 19,\n",
       "  &quot;maxNativeZoom&quot;: 19,\n",
       "  &quot;noWrap&quot;: false,\n",
       "  &quot;attribution&quot;: &quot;\\u0026copy; \\u003ca href=\\&quot;https://www.openstreetmap.org/copyright\\&quot;\\u003eOpenStreetMap\\u003c/a\\u003e contributors&quot;,\n",
       "  &quot;subdomains&quot;: &quot;abc&quot;,\n",
       "  &quot;detectRetina&quot;: false,\n",
       "  &quot;tms&quot;: false,\n",
       "  &quot;opacity&quot;: 1,\n",
       "}\n",
       "\n",
       "            );\n",
       "        \n",
       "    \n",
       "            tile_layer_d70fca7481d11e12ca633b8cd9ad771b.addTo(map_b370fc946bffb94ed155ee6f9d131b80);\n",
       "        \n",
       "    \n",
       "            map_b370fc946bffb94ed155ee6f9d131b80.fitBounds(\n",
       "                [[39.21291357208914, 9.175165634151103], [39.21372416981971, 9.17608842637234]],\n",
       "                {}\n",
       "            );\n",
       "        \n",
       "    \n",
       "        function geo_json_cd335bf2c5f2c613dc399b41f01a99bf_styler(feature) {\n",
       "            switch(feature.id) {\n",
       "                case &quot;0&quot;: \n",
       "                    return {&quot;color&quot;: &quot;#44bf70&quot;, &quot;fillColor&quot;: &quot;#44bf70&quot;, &quot;fillOpacity&quot;: 0.5, &quot;weight&quot;: 2};\n",
       "                case &quot;1&quot;: case &quot;56&quot;: \n",
       "                    return {&quot;color&quot;: &quot;#48c16e&quot;, &quot;fillColor&quot;: &quot;#48c16e&quot;, &quot;fillOpacity&quot;: 0.5, &quot;weight&quot;: 2};\n",
       "                case &quot;2&quot;: case &quot;59&quot;: \n",
       "                    return {&quot;color&quot;: &quot;#58c765&quot;, &quot;fillColor&quot;: &quot;#58c765&quot;, &quot;fillOpacity&quot;: 0.5, &quot;weight&quot;: 2};\n",
       "                case &quot;3&quot;: \n",
       "                    return {&quot;color&quot;: &quot;#7cd250&quot;, &quot;fillColor&quot;: &quot;#7cd250&quot;, &quot;fillOpacity&quot;: 0.5, &quot;weight&quot;: 2};\n",
       "                case &quot;4&quot;: \n",
       "                    return {&quot;color&quot;: &quot;#8ed645&quot;, &quot;fillColor&quot;: &quot;#8ed645&quot;, &quot;fillOpacity&quot;: 0.5, &quot;weight&quot;: 2};\n",
       "                case &quot;5&quot;: \n",
       "                    return {&quot;color&quot;: &quot;#a5db36&quot;, &quot;fillColor&quot;: &quot;#a5db36&quot;, &quot;fillOpacity&quot;: 0.5, &quot;weight&quot;: 2};\n",
       "                case &quot;6&quot;: \n",
       "                    return {&quot;color&quot;: &quot;#d5e21a&quot;, &quot;fillColor&quot;: &quot;#d5e21a&quot;, &quot;fillOpacity&quot;: 0.5, &quot;weight&quot;: 2};\n",
       "                case &quot;7&quot;: \n",
       "                    return {&quot;color&quot;: &quot;#c8e020&quot;, &quot;fillColor&quot;: &quot;#c8e020&quot;, &quot;fillOpacity&quot;: 0.5, &quot;weight&quot;: 2};\n",
       "                case &quot;8&quot;: \n",
       "                    return {&quot;color&quot;: &quot;#dde318&quot;, &quot;fillColor&quot;: &quot;#dde318&quot;, &quot;fillOpacity&quot;: 0.5, &quot;weight&quot;: 2};\n",
       "                case &quot;9&quot;: case &quot;11&quot;: \n",
       "                    return {&quot;color&quot;: &quot;#e2e418&quot;, &quot;fillColor&quot;: &quot;#e2e418&quot;, &quot;fillOpacity&quot;: 0.5, &quot;weight&quot;: 2};\n",
       "                case &quot;10&quot;: \n",
       "                    return {&quot;color&quot;: &quot;#fde725&quot;, &quot;fillColor&quot;: &quot;#fde725&quot;, &quot;fillOpacity&quot;: 0.5, &quot;weight&quot;: 2};\n",
       "                case &quot;12&quot;: \n",
       "                    return {&quot;color&quot;: &quot;#b5de2b&quot;, &quot;fillColor&quot;: &quot;#b5de2b&quot;, &quot;fillOpacity&quot;: 0.5, &quot;weight&quot;: 2};\n",
       "                case &quot;13&quot;: \n",
       "                    return {&quot;color&quot;: &quot;#98d83e&quot;, &quot;fillColor&quot;: &quot;#98d83e&quot;, &quot;fillOpacity&quot;: 0.5, &quot;weight&quot;: 2};\n",
       "                case &quot;14&quot;: case &quot;71&quot;: \n",
       "                    return {&quot;color&quot;: &quot;#84d44b&quot;, &quot;fillColor&quot;: &quot;#84d44b&quot;, &quot;fillOpacity&quot;: 0.5, &quot;weight&quot;: 2};\n",
       "                case &quot;15&quot;: \n",
       "                    return {&quot;color&quot;: &quot;#5cc863&quot;, &quot;fillColor&quot;: &quot;#5cc863&quot;, &quot;fillOpacity&quot;: 0.5, &quot;weight&quot;: 2};\n",
       "                case &quot;16&quot;: case &quot;58&quot;: \n",
       "                    return {&quot;color&quot;: &quot;#56c667&quot;, &quot;fillColor&quot;: &quot;#56c667&quot;, &quot;fillOpacity&quot;: 0.5, &quot;weight&quot;: 2};\n",
       "                case &quot;17&quot;: \n",
       "                    return {&quot;color&quot;: &quot;#5ac864&quot;, &quot;fillColor&quot;: &quot;#5ac864&quot;, &quot;fillOpacity&quot;: 0.5, &quot;weight&quot;: 2};\n",
       "                case &quot;18&quot;: \n",
       "                    return {&quot;color&quot;: &quot;#54c568&quot;, &quot;fillColor&quot;: &quot;#54c568&quot;, &quot;fillOpacity&quot;: 0.5, &quot;weight&quot;: 2};\n",
       "                case &quot;19&quot;: \n",
       "                    return {&quot;color&quot;: &quot;#4ac16d&quot;, &quot;fillColor&quot;: &quot;#4ac16d&quot;, &quot;fillOpacity&quot;: 0.5, &quot;weight&quot;: 2};\n",
       "                case &quot;20&quot;: \n",
       "                    return {&quot;color&quot;: &quot;#3dbc74&quot;, &quot;fillColor&quot;: &quot;#3dbc74&quot;, &quot;fillOpacity&quot;: 0.5, &quot;weight&quot;: 2};\n",
       "                case &quot;21&quot;: case &quot;55&quot;: \n",
       "                    return {&quot;color&quot;: &quot;#40bd72&quot;, &quot;fillColor&quot;: &quot;#40bd72&quot;, &quot;fillOpacity&quot;: 0.5, &quot;weight&quot;: 2};\n",
       "                case &quot;22&quot;: \n",
       "                    return {&quot;color&quot;: &quot;#38b977&quot;, &quot;fillColor&quot;: &quot;#38b977&quot;, &quot;fillOpacity&quot;: 0.5, &quot;weight&quot;: 2};\n",
       "                case &quot;23&quot;: \n",
       "                    return {&quot;color&quot;: &quot;#2db27d&quot;, &quot;fillColor&quot;: &quot;#2db27d&quot;, &quot;fillOpacity&quot;: 0.5, &quot;weight&quot;: 2};\n",
       "                case &quot;24&quot;: \n",
       "                    return {&quot;color&quot;: &quot;#23a983&quot;, &quot;fillColor&quot;: &quot;#23a983&quot;, &quot;fillOpacity&quot;: 0.5, &quot;weight&quot;: 2};\n",
       "                case &quot;25&quot;: \n",
       "                    return {&quot;color&quot;: &quot;#1fa188&quot;, &quot;fillColor&quot;: &quot;#1fa188&quot;, &quot;fillOpacity&quot;: 0.5, &quot;weight&quot;: 2};\n",
       "                case &quot;26&quot;: case &quot;45&quot;: \n",
       "                    return {&quot;color&quot;: &quot;#1e9d89&quot;, &quot;fillColor&quot;: &quot;#1e9d89&quot;, &quot;fillOpacity&quot;: 0.5, &quot;weight&quot;: 2};\n",
       "                case &quot;27&quot;: case &quot;43&quot;: \n",
       "                    return {&quot;color&quot;: &quot;#1f998a&quot;, &quot;fillColor&quot;: &quot;#1f998a&quot;, &quot;fillOpacity&quot;: 0.5, &quot;weight&quot;: 2};\n",
       "                case &quot;28&quot;: case &quot;29&quot;: \n",
       "                    return {&quot;color&quot;: &quot;#1f978b&quot;, &quot;fillColor&quot;: &quot;#1f978b&quot;, &quot;fillOpacity&quot;: 0.5, &quot;weight&quot;: 2};\n",
       "                case &quot;30&quot;: case &quot;34&quot;: case &quot;35&quot;: \n",
       "                    return {&quot;color&quot;: &quot;#20928c&quot;, &quot;fillColor&quot;: &quot;#20928c&quot;, &quot;fillOpacity&quot;: 0.5, &quot;weight&quot;: 2};\n",
       "                case &quot;31&quot;: \n",
       "                    return {&quot;color&quot;: &quot;#21918c&quot;, &quot;fillColor&quot;: &quot;#21918c&quot;, &quot;fillOpacity&quot;: 0.5, &quot;weight&quot;: 2};\n",
       "                case &quot;32&quot;: \n",
       "                    return {&quot;color&quot;: &quot;#218f8d&quot;, &quot;fillColor&quot;: &quot;#218f8d&quot;, &quot;fillOpacity&quot;: 0.5, &quot;weight&quot;: 2};\n",
       "                case &quot;33&quot;: \n",
       "                    return {&quot;color&quot;: &quot;#21908d&quot;, &quot;fillColor&quot;: &quot;#21908d&quot;, &quot;fillOpacity&quot;: 0.5, &quot;weight&quot;: 2};\n",
       "                case &quot;36&quot;: \n",
       "                    return {&quot;color&quot;: &quot;#1f9a8a&quot;, &quot;fillColor&quot;: &quot;#1f9a8a&quot;, &quot;fillOpacity&quot;: 0.5, &quot;weight&quot;: 2};\n",
       "                case &quot;37&quot;: case &quot;47&quot;: \n",
       "                    return {&quot;color&quot;: &quot;#1fa187&quot;, &quot;fillColor&quot;: &quot;#1fa187&quot;, &quot;fillOpacity&quot;: 0.5, &quot;weight&quot;: 2};\n",
       "                case &quot;38&quot;: \n",
       "                    return {&quot;color&quot;: &quot;#21a585&quot;, &quot;fillColor&quot;: &quot;#21a585&quot;, &quot;fillOpacity&quot;: 0.5, &quot;weight&quot;: 2};\n",
       "                case &quot;39&quot;: \n",
       "                    return {&quot;color&quot;: &quot;#25ab82&quot;, &quot;fillColor&quot;: &quot;#25ab82&quot;, &quot;fillOpacity&quot;: 0.5, &quot;weight&quot;: 2};\n",
       "                case &quot;40&quot;: \n",
       "                    return {&quot;color&quot;: &quot;#20a486&quot;, &quot;fillColor&quot;: &quot;#20a486&quot;, &quot;fillOpacity&quot;: 0.5, &quot;weight&quot;: 2};\n",
       "                case &quot;41&quot;: case &quot;46&quot;: \n",
       "                    return {&quot;color&quot;: &quot;#1f9f88&quot;, &quot;fillColor&quot;: &quot;#1f9f88&quot;, &quot;fillOpacity&quot;: 0.5, &quot;weight&quot;: 2};\n",
       "                case &quot;42&quot;: case &quot;44&quot;: \n",
       "                    return {&quot;color&quot;: &quot;#1e9c89&quot;, &quot;fillColor&quot;: &quot;#1e9c89&quot;, &quot;fillOpacity&quot;: 0.5, &quot;weight&quot;: 2};\n",
       "                case &quot;48&quot;: case &quot;80&quot;: \n",
       "                    return {&quot;color&quot;: &quot;#21a685&quot;, &quot;fillColor&quot;: &quot;#21a685&quot;, &quot;fillOpacity&quot;: 0.5, &quot;weight&quot;: 2};\n",
       "                case &quot;49&quot;: \n",
       "                    return {&quot;color&quot;: &quot;#27ad81&quot;, &quot;fillColor&quot;: &quot;#27ad81&quot;, &quot;fillOpacity&quot;: 0.5, &quot;weight&quot;: 2};\n",
       "                case &quot;50&quot;: case &quot;79&quot;: \n",
       "                    return {&quot;color&quot;: &quot;#28ae80&quot;, &quot;fillColor&quot;: &quot;#28ae80&quot;, &quot;fillOpacity&quot;: 0.5, &quot;weight&quot;: 2};\n",
       "                case &quot;51&quot;: \n",
       "                    return {&quot;color&quot;: &quot;#2fb47c&quot;, &quot;fillColor&quot;: &quot;#2fb47c&quot;, &quot;fillOpacity&quot;: 0.5, &quot;weight&quot;: 2};\n",
       "                case &quot;52&quot;: case &quot;53&quot;: case &quot;76&quot;: \n",
       "                    return {&quot;color&quot;: &quot;#37b878&quot;, &quot;fillColor&quot;: &quot;#37b878&quot;, &quot;fillOpacity&quot;: 0.5, &quot;weight&quot;: 2};\n",
       "                case &quot;54&quot;: case &quot;75&quot;: \n",
       "                    return {&quot;color&quot;: &quot;#3fbc73&quot;, &quot;fillColor&quot;: &quot;#3fbc73&quot;, &quot;fillOpacity&quot;: 0.5, &quot;weight&quot;: 2};\n",
       "                case &quot;57&quot;: case &quot;74&quot;: \n",
       "                    return {&quot;color&quot;: &quot;#4ec36b&quot;, &quot;fillColor&quot;: &quot;#4ec36b&quot;, &quot;fillOpacity&quot;: 0.5, &quot;weight&quot;: 2};\n",
       "                case &quot;60&quot;: \n",
       "                    return {&quot;color&quot;: &quot;#60ca60&quot;, &quot;fillColor&quot;: &quot;#60ca60&quot;, &quot;fillOpacity&quot;: 0.5, &quot;weight&quot;: 2};\n",
       "                case &quot;61&quot;: \n",
       "                    return {&quot;color&quot;: &quot;#69cd5b&quot;, &quot;fillColor&quot;: &quot;#69cd5b&quot;, &quot;fillOpacity&quot;: 0.5, &quot;weight&quot;: 2};\n",
       "                case &quot;62&quot;: \n",
       "                    return {&quot;color&quot;: &quot;#6ece58&quot;, &quot;fillColor&quot;: &quot;#6ece58&quot;, &quot;fillOpacity&quot;: 0.5, &quot;weight&quot;: 2};\n",
       "                case &quot;63&quot;: case &quot;65&quot;: case &quot;73&quot;: \n",
       "                    return {&quot;color&quot;: &quot;#70cf57&quot;, &quot;fillColor&quot;: &quot;#70cf57&quot;, &quot;fillOpacity&quot;: 0.5, &quot;weight&quot;: 2};\n",
       "                case &quot;64&quot;: \n",
       "                    return {&quot;color&quot;: &quot;#75d054&quot;, &quot;fillColor&quot;: &quot;#75d054&quot;, &quot;fillOpacity&quot;: 0.5, &quot;weight&quot;: 2};\n",
       "                case &quot;66&quot;: case &quot;69&quot;: \n",
       "                    return {&quot;color&quot;: &quot;#7fd34e&quot;, &quot;fillColor&quot;: &quot;#7fd34e&quot;, &quot;fillOpacity&quot;: 0.5, &quot;weight&quot;: 2};\n",
       "                case &quot;67&quot;: \n",
       "                    return {&quot;color&quot;: &quot;#77d153&quot;, &quot;fillColor&quot;: &quot;#77d153&quot;, &quot;fillOpacity&quot;: 0.5, &quot;weight&quot;: 2};\n",
       "                case &quot;68&quot;: case &quot;70&quot;: \n",
       "                    return {&quot;color&quot;: &quot;#81d34d&quot;, &quot;fillColor&quot;: &quot;#81d34d&quot;, &quot;fillOpacity&quot;: 0.5, &quot;weight&quot;: 2};\n",
       "                case &quot;72&quot;: \n",
       "                    return {&quot;color&quot;: &quot;#89d548&quot;, &quot;fillColor&quot;: &quot;#89d548&quot;, &quot;fillOpacity&quot;: 0.5, &quot;weight&quot;: 2};\n",
       "                case &quot;77&quot;: \n",
       "                    return {&quot;color&quot;: &quot;#34b679&quot;, &quot;fillColor&quot;: &quot;#34b679&quot;, &quot;fillOpacity&quot;: 0.5, &quot;weight&quot;: 2};\n",
       "                case &quot;78&quot;: \n",
       "                    return {&quot;color&quot;: &quot;#35b779&quot;, &quot;fillColor&quot;: &quot;#35b779&quot;, &quot;fillOpacity&quot;: 0.5, &quot;weight&quot;: 2};\n",
       "                case &quot;81&quot;: \n",
       "                    return {&quot;color&quot;: &quot;#1f9e89&quot;, &quot;fillColor&quot;: &quot;#1f9e89&quot;, &quot;fillOpacity&quot;: 0.5, &quot;weight&quot;: 2};\n",
       "                case &quot;82&quot;: \n",
       "                    return {&quot;color&quot;: &quot;#218e8d&quot;, &quot;fillColor&quot;: &quot;#218e8d&quot;, &quot;fillOpacity&quot;: 0.5, &quot;weight&quot;: 2};\n",
       "                case &quot;83&quot;: \n",
       "                    return {&quot;color&quot;: &quot;#24878e&quot;, &quot;fillColor&quot;: &quot;#24878e&quot;, &quot;fillOpacity&quot;: 0.5, &quot;weight&quot;: 2};\n",
       "                case &quot;84&quot;: \n",
       "                    return {&quot;color&quot;: &quot;#287c8e&quot;, &quot;fillColor&quot;: &quot;#287c8e&quot;, &quot;fillOpacity&quot;: 0.5, &quot;weight&quot;: 2};\n",
       "                case &quot;85&quot;: \n",
       "                    return {&quot;color&quot;: &quot;#2a778e&quot;, &quot;fillColor&quot;: &quot;#2a778e&quot;, &quot;fillOpacity&quot;: 0.5, &quot;weight&quot;: 2};\n",
       "                case &quot;86&quot;: \n",
       "                    return {&quot;color&quot;: &quot;#2f6c8e&quot;, &quot;fillColor&quot;: &quot;#2f6c8e&quot;, &quot;fillOpacity&quot;: 0.5, &quot;weight&quot;: 2};\n",
       "                case &quot;87&quot;: \n",
       "                    return {&quot;color&quot;: &quot;#31688e&quot;, &quot;fillColor&quot;: &quot;#31688e&quot;, &quot;fillOpacity&quot;: 0.5, &quot;weight&quot;: 2};\n",
       "                case &quot;88&quot;: \n",
       "                    return {&quot;color&quot;: &quot;#355e8d&quot;, &quot;fillColor&quot;: &quot;#355e8d&quot;, &quot;fillOpacity&quot;: 0.5, &quot;weight&quot;: 2};\n",
       "                case &quot;89&quot;: \n",
       "                    return {&quot;color&quot;: &quot;#39568c&quot;, &quot;fillColor&quot;: &quot;#39568c&quot;, &quot;fillOpacity&quot;: 0.5, &quot;weight&quot;: 2};\n",
       "                case &quot;90&quot;: \n",
       "                    return {&quot;color&quot;: &quot;#3d4e8a&quot;, &quot;fillColor&quot;: &quot;#3d4e8a&quot;, &quot;fillOpacity&quot;: 0.5, &quot;weight&quot;: 2};\n",
       "                case &quot;91&quot;: \n",
       "                    return {&quot;color&quot;: &quot;#404588&quot;, &quot;fillColor&quot;: &quot;#404588&quot;, &quot;fillOpacity&quot;: 0.5, &quot;weight&quot;: 2};\n",
       "                case &quot;92&quot;: \n",
       "                    return {&quot;color&quot;: &quot;#433e85&quot;, &quot;fillColor&quot;: &quot;#433e85&quot;, &quot;fillOpacity&quot;: 0.5, &quot;weight&quot;: 2};\n",
       "                case &quot;93&quot;: \n",
       "                    return {&quot;color&quot;: &quot;#472a7a&quot;, &quot;fillColor&quot;: &quot;#472a7a&quot;, &quot;fillOpacity&quot;: 0.5, &quot;weight&quot;: 2};\n",
       "                case &quot;94&quot;: \n",
       "                    return {&quot;color&quot;: &quot;#470e61&quot;, &quot;fillColor&quot;: &quot;#470e61&quot;, &quot;fillOpacity&quot;: 0.5, &quot;weight&quot;: 2};\n",
       "                case &quot;95&quot;: \n",
       "                    return {&quot;color&quot;: &quot;#440154&quot;, &quot;fillColor&quot;: &quot;#440154&quot;, &quot;fillOpacity&quot;: 0.5, &quot;weight&quot;: 2};\n",
       "                default:\n",
       "                    return {&quot;color&quot;: &quot;#471164&quot;, &quot;fillColor&quot;: &quot;#471164&quot;, &quot;fillOpacity&quot;: 0.5, &quot;weight&quot;: 2};\n",
       "            }\n",
       "        }\n",
       "        function geo_json_cd335bf2c5f2c613dc399b41f01a99bf_highlighter(feature) {\n",
       "            switch(feature.id) {\n",
       "                default:\n",
       "                    return {&quot;fillOpacity&quot;: 0.75};\n",
       "            }\n",
       "        }\n",
       "        function geo_json_cd335bf2c5f2c613dc399b41f01a99bf_pointToLayer(feature, latlng) {\n",
       "            var opts = {&quot;bubblingMouseEvents&quot;: true, &quot;color&quot;: &quot;#3388ff&quot;, &quot;dashArray&quot;: null, &quot;dashOffset&quot;: null, &quot;fill&quot;: true, &quot;fillColor&quot;: &quot;#3388ff&quot;, &quot;fillOpacity&quot;: 0.2, &quot;fillRule&quot;: &quot;evenodd&quot;, &quot;lineCap&quot;: &quot;round&quot;, &quot;lineJoin&quot;: &quot;round&quot;, &quot;opacity&quot;: 1.0, &quot;radius&quot;: 2, &quot;stroke&quot;: true, &quot;weight&quot;: 3};\n",
       "            \n",
       "            let style = geo_json_cd335bf2c5f2c613dc399b41f01a99bf_styler(feature)\n",
       "            Object.assign(opts, style)\n",
       "            \n",
       "            return new L.CircleMarker(latlng, opts)\n",
       "        }\n",
       "\n",
       "        function geo_json_cd335bf2c5f2c613dc399b41f01a99bf_onEachFeature(feature, layer) {\n",
       "            layer.on({\n",
       "                mouseout: function(e) {\n",
       "                    if(typeof e.target.setStyle === &quot;function&quot;){\n",
       "                            geo_json_cd335bf2c5f2c613dc399b41f01a99bf.resetStyle(e.target);\n",
       "                    }\n",
       "                },\n",
       "                mouseover: function(e) {\n",
       "                    if(typeof e.target.setStyle === &quot;function&quot;){\n",
       "                        const highlightStyle = geo_json_cd335bf2c5f2c613dc399b41f01a99bf_highlighter(e.target.feature)\n",
       "                        e.target.setStyle(highlightStyle);\n",
       "                    }\n",
       "                },\n",
       "            });\n",
       "        };\n",
       "        var geo_json_cd335bf2c5f2c613dc399b41f01a99bf = L.geoJson(null, {\n",
       "                onEachFeature: geo_json_cd335bf2c5f2c613dc399b41f01a99bf_onEachFeature,\n",
       "            \n",
       "                style: geo_json_cd335bf2c5f2c613dc399b41f01a99bf_styler,\n",
       "                pointToLayer: geo_json_cd335bf2c5f2c613dc399b41f01a99bf_pointToLayer,\n",
       "            ...{\n",
       "}\n",
       "        });\n",
       "\n",
       "        function geo_json_cd335bf2c5f2c613dc399b41f01a99bf_add (data) {\n",
       "            geo_json_cd335bf2c5f2c613dc399b41f01a99bf\n",
       "                .addData(data);\n",
       "        }\n",
       "            geo_json_cd335bf2c5f2c613dc399b41f01a99bf_add({&quot;bbox&quot;: [9.175165634151103, 39.21291357208914, 9.17608842637234, 39.21372416981971], &quot;features&quot;: [{&quot;bbox&quot;: [9.175165634151103, 39.21372416981971, 9.175165634151103, 39.21372416981971], &quot;geometry&quot;: {&quot;coordinates&quot;: [9.175165634151103, 39.21372416981971], &quot;type&quot;: &quot;Point&quot;}, &quot;id&quot;: &quot;0&quot;, &quot;properties&quot;: {&quot;__folium_color&quot;: &quot;#44bf70&quot;, &quot;elevation&quot;: 1.301, &quot;lat&quot;: 4340508.834165, &quot;lng&quot;: 515122.167178}, &quot;type&quot;: &quot;Feature&quot;}, {&quot;bbox&quot;: [9.175168846982398, 39.213717727220654, 9.175168846982398, 39.213717727220654], &quot;geometry&quot;: {&quot;coordinates&quot;: [9.175168846982398, 39.213717727220654], &quot;type&quot;: &quot;Point&quot;}, &quot;id&quot;: &quot;1&quot;, &quot;properties&quot;: {&quot;__folium_color&quot;: &quot;#48c16e&quot;, &quot;elevation&quot;: 1.328, &quot;lat&quot;: 4340508.119732, &quot;lng&quot;: 515122.445926}, &quot;type&quot;: &quot;Feature&quot;}, {&quot;bbox&quot;: [9.175172780351973, 39.21371214081024, 9.175172780351973, 39.21371214081024], &quot;geometry&quot;: {&quot;coordinates&quot;: [9.175172780351973, 39.21371214081024], &quot;type&quot;: &quot;Point&quot;}, &quot;id&quot;: &quot;2&quot;, &quot;properties&quot;: {&quot;__folium_color&quot;: &quot;#58c765&quot;, &quot;elevation&quot;: 1.437, &quot;lat&quot;: 4340507.500435, &quot;lng&quot;: 515122.786695}, &quot;type&quot;: &quot;Feature&quot;}, {&quot;bbox&quot;: [9.17518335977932, 39.21369958621531, 9.17518335977932, 39.21369958621531], &quot;geometry&quot;: {&quot;coordinates&quot;: [9.17518335977932, 39.21369958621531], &quot;type&quot;: &quot;Point&quot;}, &quot;id&quot;: &quot;3&quot;, &quot;properties&quot;: {&quot;__folium_color&quot;: &quot;#7cd250&quot;, &quot;elevation&quot;: 1.646, &quot;lat&quot;: 4340506.108951, &quot;lng&quot;: 515123.702718}, &quot;type&quot;: &quot;Feature&quot;}, {&quot;bbox&quot;: [9.17518749661174, 39.213694406706296, 9.17518749661174, 39.213694406706296], &quot;geometry&quot;: {&quot;coordinates&quot;: [9.17518749661174, 39.213694406706296], &quot;type&quot;: &quot;Point&quot;}, &quot;id&quot;: &quot;4&quot;, &quot;properties&quot;: {&quot;__folium_color&quot;: &quot;#8ed645&quot;, &quot;elevation&quot;: 1.739, &quot;lat&quot;: 4340505.534844, &quot;lng&quot;: 515124.060965}, &quot;type&quot;: &quot;Feature&quot;}, {&quot;bbox&quot;: [9.175194125704357, 39.213686946851674, 9.175194125704357, 39.213686946851674], &quot;geometry&quot;: {&quot;coordinates&quot;: [9.175194125704357, 39.213686946851674], &quot;type&quot;: &quot;Point&quot;}, &quot;id&quot;: &quot;5&quot;, &quot;properties&quot;: {&quot;__folium_color&quot;: &quot;#a5db36&quot;, &quot;elevation&quot;: 1.871, &quot;lat&quot;: 4340504.708091, &quot;lng&quot;: 515124.63486}, &quot;type&quot;: &quot;Feature&quot;}, {&quot;bbox&quot;: [9.175201661853889, 39.2136819623197, 9.175201661853889, 39.2136819623197], &quot;geometry&quot;: {&quot;coordinates&quot;: [9.175201661853889, 39.2136819623197], &quot;type&quot;: &quot;Point&quot;}, &quot;id&quot;: &quot;6&quot;, &quot;properties&quot;: {&quot;__folium_color&quot;: &quot;#d5e21a&quot;, &quot;elevation&quot;: 2.109, &quot;lat&quot;: 4340504.156189, &quot;lng&quot;: 515125.286531}, &quot;type&quot;: &quot;Feature&quot;}, {&quot;bbox&quot;: [9.175206502279993, 39.2136782323905, 9.175206502279993, 39.2136782323905], &quot;geometry&quot;: {&quot;coordinates&quot;: [9.175206502279993, 39.2136782323905], &quot;type&quot;: &quot;Point&quot;}, &quot;id&quot;: &quot;7&quot;, &quot;properties&quot;: {&quot;__folium_color&quot;: &quot;#c8e020&quot;, &quot;elevation&quot;: 2.032, &quot;lat&quot;: 4340503.743067, &quot;lng&quot;: 515125.705209}, &quot;type&quot;: &quot;Feature&quot;}, {&quot;bbox&quot;: [9.175208426578767, 39.21367335805928, 9.175208426578767, 39.21367335805928], &quot;geometry&quot;: {&quot;coordinates&quot;: [9.175208426578767, 39.21367335805928], &quot;type&quot;: &quot;Point&quot;}, &quot;id&quot;: &quot;8&quot;, &quot;properties&quot;: {&quot;__folium_color&quot;: &quot;#dde318&quot;, &quot;elevation&quot;: 2.146, &quot;lat&quot;: 4340503.202458, &quot;lng&quot;: 515125.872381}, &quot;type&quot;: &quot;Feature&quot;}, {&quot;bbox&quot;: [9.175215182831314, 39.213665889722066, 9.175215182831314, 39.213665889722066], &quot;geometry&quot;: {&quot;coordinates&quot;: [9.175215182831314, 39.213665889722066], &quot;type&quot;: &quot;Point&quot;}, &quot;id&quot;: &quot;9&quot;, &quot;properties&quot;: {&quot;__folium_color&quot;: &quot;#e2e418&quot;, &quot;elevation&quot;: 2.175, &quot;lat&quot;: 4340502.374785, &quot;lng&quot;: 515126.457256}, &quot;type&quot;: &quot;Feature&quot;}, {&quot;bbox&quot;: [9.175224287249332, 39.21366009986712, 9.175224287249332, 39.21366009986712], &quot;geometry&quot;: {&quot;coordinates&quot;: [9.175224287249332, 39.21366009986712], &quot;type&quot;: &quot;Point&quot;}, &quot;id&quot;: &quot;10&quot;, &quot;properties&quot;: {&quot;__folium_color&quot;: &quot;#fde725&quot;, &quot;elevation&quot;: 2.323, &quot;lat&quot;: 4340501.733774, &quot;lng&quot;: 515127.24449}, &quot;type&quot;: &quot;Feature&quot;}, {&quot;bbox&quot;: [9.175232179429477, 39.213655403546696, 9.175232179429477, 39.213655403546696], &quot;geometry&quot;: {&quot;coordinates&quot;: [9.175232179429477, 39.213655403546696], &quot;type&quot;: &quot;Point&quot;}, &quot;id&quot;: &quot;11&quot;, &quot;properties&quot;: {&quot;__folium_color&quot;: &quot;#e2e418&quot;, &quot;elevation&quot;: 2.174, &quot;lat&quot;: 4340501.213916, &quot;lng&quot;: 515127.926836}, &quot;type&quot;: &quot;Feature&quot;}, {&quot;bbox&quot;: [9.175241063434392, 39.213648545567615, 9.175241063434392, 39.213648545567615], &quot;geometry&quot;: {&quot;coordinates&quot;: [9.175241063434392, 39.213648545567615], &quot;type&quot;: &quot;Point&quot;}, &quot;id&quot;: &quot;12&quot;, &quot;properties&quot;: {&quot;__folium_color&quot;: &quot;#b5de2b&quot;, &quot;elevation&quot;: 1.951, &quot;lat&quot;: 4340500.454333, &quot;lng&quot;: 515128.695271}, &quot;type&quot;: &quot;Feature&quot;}, {&quot;bbox&quot;: [9.17525115967085, 39.213641026374034, 9.17525115967085, 39.213641026374034], &quot;geometry&quot;: {&quot;coordinates&quot;: [9.17525115967085, 39.213641026374034], &quot;type&quot;: &quot;Point&quot;}, &quot;id&quot;: &quot;13&quot;, &quot;properties&quot;: {&quot;__folium_color&quot;: &quot;#98d83e&quot;, &quot;elevation&quot;: 1.797, &quot;lat&quot;: 4340499.621574, &quot;lng&quot;: 515129.568501}, &quot;type&quot;: &quot;Feature&quot;}, {&quot;bbox&quot;: [9.175260586210666, 39.21363338003238, 9.175260586210666, 39.21363338003238], &quot;geometry&quot;: {&quot;coordinates&quot;: [9.175260586210666, 39.21363338003238], &quot;type&quot;: &quot;Point&quot;}, &quot;id&quot;: &quot;14&quot;, &quot;properties&quot;: {&quot;__folium_color&quot;: &quot;#84d44b&quot;, &quot;elevation&quot;: 1.686, &quot;lat&quot;: 4340498.774593, &quot;lng&quot;: 515130.383943}, &quot;type&quot;: &quot;Feature&quot;}, {&quot;bbox&quot;: [9.175268546209141, 39.21362224110837, 9.175268546209141, 39.21362224110837], &quot;geometry&quot;: {&quot;coordinates&quot;: [9.175268546209141, 39.21362224110837], &quot;type&quot;: &quot;Point&quot;}, &quot;id&quot;: &quot;15&quot;, &quot;properties&quot;: {&quot;__folium_color&quot;: &quot;#5cc863&quot;, &quot;elevation&quot;: 1.461, &quot;lat&quot;: 4340497.539777, &quot;lng&quot;: 515131.073527}, &quot;type&quot;: &quot;Feature&quot;}, {&quot;bbox&quot;: [9.175280905829142, 39.21361221269615, 9.175280905829142, 39.21361221269615], &quot;geometry&quot;: {&quot;coordinates&quot;: [9.175280905829142, 39.21361221269615], &quot;type&quot;: &quot;Point&quot;}, &quot;id&quot;: &quot;16&quot;, &quot;properties&quot;: {&quot;__folium_color&quot;: &quot;#56c667&quot;, &quot;elevation&quot;: 1.423, &quot;lat&quot;: 4340496.428935, &quot;lng&quot;: 515132.142696}, &quot;type&quot;: &quot;Feature&quot;}, {&quot;bbox&quot;: [9.17529071383726, 39.21360028540956, 9.17529071383726, 39.21360028540956], &quot;geometry&quot;: {&quot;coordinates&quot;: [9.17529071383726, 39.21360028540956], &quot;type&quot;: &quot;Point&quot;}, &quot;id&quot;: &quot;17&quot;, &quot;properties&quot;: {&quot;__folium_color&quot;: &quot;#5ac864&quot;, &quot;elevation&quot;: 1.449, &quot;lat&quot;: 4340495.106939, &quot;lng&quot;: 515132.99199}, &quot;type&quot;: &quot;Feature&quot;}, {&quot;bbox&quot;: [9.175304760404009, 39.21359344438373, 9.175304760404009, 39.21359344438373], &quot;geometry&quot;: {&quot;coordinates&quot;: [9.175304760404009, 39.21359344438373], &quot;type&quot;: &quot;Point&quot;}, &quot;id&quot;: &quot;18&quot;, &quot;properties&quot;: {&quot;__folium_color&quot;: &quot;#54c568&quot;, &quot;elevation&quot;: 1.411, &quot;lat&quot;: 4340494.3501, &quot;lng&quot;: 515134.206111}, &quot;type&quot;: &quot;Feature&quot;}, {&quot;bbox&quot;: [9.175312449139955, 39.21359036719328, 9.175312449139955, 39.21359036719328], &quot;geometry&quot;: {&quot;coordinates&quot;: [9.175312449139955, 39.21359036719328], &quot;type&quot;: &quot;Point&quot;}, &quot;id&quot;: &quot;19&quot;, &quot;properties&quot;: {&quot;__folium_color&quot;: &quot;#4ac16d&quot;, &quot;elevation&quot;: 1.351, &quot;lat&quot;: 4340494.009892, &quot;lng&quot;: 515134.870547}, &quot;type&quot;: &quot;Feature&quot;}, {&quot;bbox&quot;: [9.175328182647167, 39.213583458359196, 9.175328182647167, 39.213583458359196], &quot;geometry&quot;: {&quot;coordinates&quot;: [9.175328182647167, 39.213583458359196], &quot;type&quot;: &quot;Point&quot;}, &quot;id&quot;: &quot;20&quot;, &quot;properties&quot;: {&quot;__folium_color&quot;: &quot;#3dbc74&quot;, &quot;elevation&quot;: 1.256, &quot;lat&quot;: 4340493.24581, &quot;lng&quot;: 515136.230318}, &quot;type&quot;: &quot;Feature&quot;}, {&quot;bbox&quot;: [9.175334472653129, 39.21358002512946, 9.175334472653129, 39.21358002512946], &quot;geometry&quot;: {&quot;coordinates&quot;: [9.175334472653129, 39.21358002512946], &quot;type&quot;: &quot;Point&quot;}, &quot;id&quot;: &quot;21&quot;, &quot;properties&quot;: {&quot;__folium_color&quot;: &quot;#40bd72&quot;, &quot;elevation&quot;: 1.28, &quot;lat&quot;: 4340492.865857, &quot;lng&quot;: 515136.774077}, &quot;type&quot;: &quot;Feature&quot;}, {&quot;bbox&quot;: [9.175340584642898, 39.21357151411644, 9.175340584642898, 39.21357151411644], &quot;geometry&quot;: {&quot;coordinates&quot;: [9.175340584642898, 39.21357151411644], &quot;type&quot;: &quot;Point&quot;}, &quot;id&quot;: &quot;22&quot;, &quot;properties&quot;: {&quot;__folium_color&quot;: &quot;#38b977&quot;, &quot;elevation&quot;: 1.215, &quot;lat&quot;: 4340491.922366, &quot;lng&quot;: 515137.303558}, &quot;type&quot;: &quot;Feature&quot;}, {&quot;bbox&quot;: [9.17534645080077, 39.213565537758754, 9.17534645080077, 39.213565537758754], &quot;geometry&quot;: {&quot;coordinates&quot;: [9.17534645080077, 39.213565537758754], &quot;type&quot;: &quot;Point&quot;}, &quot;id&quot;: &quot;23&quot;, &quot;properties&quot;: {&quot;__folium_color&quot;: &quot;#2db27d&quot;, &quot;elevation&quot;: 1.108, &quot;lat&quot;: 4340491.260118, &quot;lng&quot;: 515137.811272}, &quot;type&quot;: &quot;Feature&quot;}, {&quot;bbox&quot;: [9.17535591125464, 39.21355588233386, 9.17535591125464, 39.21355588233386], &quot;geometry&quot;: {&quot;coordinates&quot;: [9.17535591125464, 39.21355588233386], &quot;type&quot;: &quot;Point&quot;}, &quot;id&quot;: &quot;24&quot;, &quot;properties&quot;: {&quot;__folium_color&quot;: &quot;#23a983&quot;, &quot;elevation&quot;: 0.968, &quot;lat&quot;: 4340490.190185, &quot;lng&quot;: 515138.630075}, &quot;type&quot;: &quot;Feature&quot;}, {&quot;bbox&quot;: [9.175367702910611, 39.21354593868686, 9.175367702910611, 39.21354593868686], &quot;geometry&quot;: {&quot;coordinates&quot;: [9.175367702910611, 39.21354593868686], &quot;type&quot;: &quot;Point&quot;}, &quot;id&quot;: &quot;25&quot;, &quot;properties&quot;: {&quot;__folium_color&quot;: &quot;#1fa188&quot;, &quot;elevation&quot;: 0.855, &quot;lat&quot;: 4340489.088656, &quot;lng&quot;: 515139.650195}, &quot;type&quot;: &quot;Feature&quot;}, {&quot;bbox&quot;: [9.175379231774336, 39.21353466413751, 9.175379231774336, 39.21353466413751], &quot;geometry&quot;: {&quot;coordinates&quot;: [9.175379231774336, 39.21353466413751], &quot;type&quot;: &quot;Point&quot;}, &quot;id&quot;: &quot;26&quot;, &quot;properties&quot;: {&quot;__folium_color&quot;: &quot;#1e9d89&quot;, &quot;elevation&quot;: 0.798, &quot;lat&quot;: 4340487.839386, &quot;lng&quot;: 515140.647914}, &quot;type&quot;: &quot;Feature&quot;}, {&quot;bbox&quot;: [9.175385920201249, 39.2135296880785, 9.175385920201249, 39.2135296880785], &quot;geometry&quot;: {&quot;coordinates&quot;: [9.175385920201249, 39.2135296880785], &quot;type&quot;: &quot;Point&quot;}, &quot;id&quot;: &quot;27&quot;, &quot;properties&quot;: {&quot;__folium_color&quot;: &quot;#1f998a&quot;, &quot;elevation&quot;: 0.749, &quot;lat&quot;: 4340487.288284, &quot;lng&quot;: 515141.226401}, &quot;type&quot;: &quot;Feature&quot;}, {&quot;bbox&quot;: [9.17539749993203, 39.21351893910844, 9.17539749993203, 39.21351893910844], &quot;geometry&quot;: {&quot;coordinates&quot;: [9.17539749993203, 39.21351893910844], &quot;type&quot;: &quot;Point&quot;}, &quot;id&quot;: &quot;28&quot;, &quot;properties&quot;: {&quot;__folium_color&quot;: &quot;#1f978b&quot;, &quot;elevation&quot;: 0.716, &quot;lat&quot;: 4340486.097349, &quot;lng&quot;: 515142.228399}, &quot;type&quot;: &quot;Feature&quot;}, {&quot;bbox&quot;: [9.17540959676214, 39.21350965667671, 9.17540959676214, 39.21350965667671], &quot;geometry&quot;: {&quot;coordinates&quot;: [9.17540959676214, 39.21350965667671], &quot;type&quot;: &quot;Point&quot;}, &quot;id&quot;: &quot;29&quot;, &quot;properties&quot;: {&quot;__folium_color&quot;: &quot;#1f978b&quot;, &quot;elevation&quot;: 0.725, &quot;lat&quot;: 4340485.06925, &quot;lng&quot;: 515143.274724}, &quot;type&quot;: &quot;Feature&quot;}, {&quot;bbox&quot;: [9.175420693290022, 39.21350036577478, 9.175420693290022, 39.21350036577478], &quot;geometry&quot;: {&quot;coordinates&quot;: [9.175420693290022, 39.21350036577478], &quot;type&quot;: &quot;Point&quot;}, &quot;id&quot;: &quot;30&quot;, &quot;properties&quot;: {&quot;__folium_color&quot;: &quot;#20928c&quot;, &quot;elevation&quot;: 0.644, &quot;lat&quot;: 4340484.040044, &quot;lng&quot;: 515144.234694}, &quot;type&quot;: &quot;Feature&quot;}, {&quot;bbox&quot;: [9.175426669646571, 39.213496915593986, 9.175426669646571, 39.213496915593986], &quot;geometry&quot;: {&quot;coordinates&quot;: [9.175426669646571, 39.213496915593986], &quot;type&quot;: &quot;Point&quot;}, &quot;id&quot;: &quot;31&quot;, &quot;properties&quot;: {&quot;__folium_color&quot;: &quot;#21918c&quot;, &quot;elevation&quot;: 0.624, &quot;lat&quot;: 4340483.658158, &quot;lng&quot;: 515144.75138}, &quot;type&quot;: &quot;Feature&quot;}, {&quot;bbox&quot;: [9.175436342030094, 39.21348759925234, 9.175436342030094, 39.21348759925234], &quot;geometry&quot;: {&quot;coordinates&quot;: [9.175436342030094, 39.21348759925234], &quot;type&quot;: &quot;Point&quot;}, &quot;id&quot;: &quot;32&quot;, &quot;properties&quot;: {&quot;__folium_color&quot;: &quot;#218f8d&quot;, &quot;elevation&quot;: 0.606, &quot;lat&quot;: 4340482.625891, &quot;lng&quot;: 515145.588408}, &quot;type&quot;: &quot;Feature&quot;}, {&quot;bbox&quot;: [9.17544142829543, 39.2134842592733, 9.17544142829543, 39.2134842592733], &quot;geometry&quot;: {&quot;coordinates&quot;: [9.17544142829543, 39.2134842592733], &quot;type&quot;: &quot;Point&quot;}, &quot;id&quot;: &quot;33&quot;, &quot;properties&quot;: {&quot;__folium_color&quot;: &quot;#21908d&quot;, &quot;elevation&quot;: 0.617, &quot;lat&quot;: 4340482.256086, &quot;lng&quot;: 515146.028228}, &quot;type&quot;: &quot;Feature&quot;}, {&quot;bbox&quot;: [9.175450074932165, 39.213474917505245, 9.175450074932165, 39.213474917505245], &quot;geometry&quot;: {&quot;coordinates&quot;: [9.175450074932165, 39.213474917505245], &quot;type&quot;: &quot;Point&quot;}, &quot;id&quot;: &quot;34&quot;, &quot;properties&quot;: {&quot;__folium_color&quot;: &quot;#20928c&quot;, &quot;elevation&quot;: 0.649, &quot;lat&quot;: 4340481.220826, &quot;lng&quot;: 515146.776708}, &quot;type&quot;: &quot;Feature&quot;}, {&quot;bbox&quot;: [9.175455491804863, 39.213469831242115, 9.175455491804863, 39.213469831242115], &quot;geometry&quot;: {&quot;coordinates&quot;: [9.175455491804863, 39.213469831242115], &quot;type&quot;: &quot;Point&quot;}, &quot;id&quot;: &quot;35&quot;, &quot;properties&quot;: {&quot;__folium_color&quot;: &quot;#20928c&quot;, &quot;elevation&quot;: 0.638, &quot;lat&quot;: 4340480.657282, &quot;lng&quot;: 515147.245445}, &quot;type&quot;: &quot;Feature&quot;}, {&quot;bbox&quot;: [9.175466944378819, 39.21345859907854, 9.175466944378819, 39.21345859907854], &quot;geometry&quot;: {&quot;coordinates&quot;: [9.175466944378819, 39.21345859907854], &quot;type&quot;: &quot;Point&quot;}, &quot;id&quot;: &quot;36&quot;, &quot;properties&quot;: {&quot;__folium_color&quot;: &quot;#1f9a8a&quot;, &quot;elevation&quot;: 0.758, &quot;lat&quot;: 4340479.412704, &quot;lng&quot;: 515148.236571}, &quot;type&quot;: &quot;Feature&quot;}, {&quot;bbox&quot;: [9.175474124481338, 39.21345324154935, 9.175474124481338, 39.21345324154935], &quot;geometry&quot;: {&quot;coordinates&quot;: [9.175474124481338, 39.21345324154935], &quot;type&quot;: &quot;Point&quot;}, &quot;id&quot;: &quot;37&quot;, &quot;properties&quot;: {&quot;__folium_color&quot;: &quot;#1fa187&quot;, &quot;elevation&quot;: 0.867, &quot;lat&quot;: 4340478.819351, &quot;lng&quot;: 515148.857588}, &quot;type&quot;: &quot;Feature&quot;}, {&quot;bbox&quot;: [9.175481160486195, 39.21344945228002, 9.175481160486195, 39.21344945228002], &quot;geometry&quot;: {&quot;coordinates&quot;: [9.175481160486195, 39.21344945228002], &quot;type&quot;: &quot;Point&quot;}, &quot;id&quot;: &quot;38&quot;, &quot;properties&quot;: {&quot;__folium_color&quot;: &quot;#21a585&quot;, &quot;elevation&quot;: 0.916, &quot;lat&quot;: 4340478.400012, &quot;lng&quot;: 515149.465828}, &quot;type&quot;: &quot;Feature&quot;}, {&quot;bbox&quot;: [9.175491578839315, 39.21343901696625, 9.175491578839315, 39.21343901696625], &quot;geometry&quot;: {&quot;coordinates&quot;: [9.175491578839315, 39.21343901696625], &quot;type&quot;: &quot;Point&quot;}, &quot;id&quot;: &quot;39&quot;, &quot;properties&quot;: {&quot;__folium_color&quot;: &quot;#25ab82&quot;, &quot;elevation&quot;: 0.997, &quot;lat&quot;: 4340477.243692, &quot;lng&quot;: 515150.367498}, &quot;type&quot;: &quot;Feature&quot;}, {&quot;bbox&quot;: [9.17550446404629, 39.21342984474017, 9.17550446404629, 39.21342984474017], &quot;geometry&quot;: {&quot;coordinates&quot;: [9.17550446404629, 39.21342984474017], &quot;type&quot;: &quot;Point&quot;}, &quot;id&quot;: &quot;40&quot;, &quot;properties&quot;: {&quot;__folium_color&quot;: &quot;#20a486&quot;, &quot;elevation&quot;: 0.906, &quot;lat&quot;: 4340476.227956, &quot;lng&quot;: 515151.481863}, &quot;type&quot;: &quot;Feature&quot;}, {&quot;bbox&quot;: [9.175510533653608, 39.213424809340495, 9.175510533653608, 39.213424809340495], &quot;geometry&quot;: {&quot;coordinates&quot;: [9.175510533653608, 39.213424809340495], &quot;type&quot;: &quot;Point&quot;}, &quot;id&quot;: &quot;41&quot;, &quot;properties&quot;: {&quot;__folium_color&quot;: &quot;#1f9f88&quot;, &quot;elevation&quot;: 0.823, &quot;lat&quot;: 4340475.670166, &quot;lng&quot;: 515152.006941}, &quot;type&quot;: &quot;Feature&quot;}, {&quot;bbox&quot;: [9.175523749458513, 39.21341252601083, 9.175523749458513, 39.21341252601083], &quot;geometry&quot;: {&quot;coordinates&quot;: [9.175523749458513, 39.21341252601083], &quot;type&quot;: &quot;Point&quot;}, &quot;id&quot;: &quot;42&quot;, &quot;properties&quot;: {&quot;__folium_color&quot;: &quot;#1e9c89&quot;, &quot;elevation&quot;: 0.794, &quot;lat&quot;: 4340474.30923, &quot;lng&quot;: 515153.150516}, &quot;type&quot;: &quot;Feature&quot;}, {&quot;bbox&quot;: [9.175530904137974, 39.213407312593574, 9.175530904137974, 39.213407312593574], &quot;geometry&quot;: {&quot;coordinates&quot;: [9.175530904137974, 39.213407312593574], &quot;type&quot;: &quot;Point&quot;}, &quot;id&quot;: &quot;43&quot;, &quot;properties&quot;: {&quot;__folium_color&quot;: &quot;#1f998a&quot;, &quot;elevation&quot;: 0.751, &quot;lat&quot;: 4340473.731866, &quot;lng&quot;: 515153.769308}, &quot;type&quot;: &quot;Feature&quot;}, {&quot;bbox&quot;: [9.175537083943349, 39.21340137861896, 9.175537083943349, 39.21340137861896], &quot;geometry&quot;: {&quot;coordinates&quot;: [9.175537083943349, 39.21340137861896], &quot;type&quot;: &quot;Point&quot;}, &quot;id&quot;: &quot;44&quot;, &quot;properties&quot;: {&quot;__folium_color&quot;: &quot;#1e9c89&quot;, &quot;elevation&quot;: 0.795, &quot;lat&quot;: 4340473.074375, &quot;lng&quot;: 515154.304093}, &quot;type&quot;: &quot;Feature&quot;}, {&quot;bbox&quot;: [9.175547883773545, 39.21338800174533, 9.175547883773545, 39.21338800174533], &quot;geometry&quot;: {&quot;coordinates&quot;: [9.175547883773545, 39.21338800174533], &quot;type&quot;: &quot;Point&quot;}, &quot;id&quot;: &quot;45&quot;, &quot;properties&quot;: {&quot;__folium_color&quot;: &quot;#1e9d89&quot;, &quot;elevation&quot;: 0.806, &quot;lat&quot;: 4340471.591679, &quot;lng&quot;: 515155.23933}, &quot;type&quot;: &quot;Feature&quot;}, {&quot;bbox&quot;: [9.175554487439744, 39.21338155914395, 9.175554487439744, 39.21338155914395], &quot;geometry&quot;: {&quot;coordinates&quot;: [9.175554487439744, 39.21338155914395], &quot;type&quot;: &quot;Point&quot;}, &quot;id&quot;: &quot;46&quot;, &quot;properties&quot;: {&quot;__folium_color&quot;: &quot;#1f9f88&quot;, &quot;elevation&quot;: 0.829, &quot;lat&quot;: 4340470.877814, &quot;lng&quot;: 515155.810817}, &quot;type&quot;: &quot;Feature&quot;}, {&quot;bbox&quot;: [9.17556811014712, 39.21336962338173, 9.17556811014712, 39.21336962338173], &quot;geometry&quot;: {&quot;coordinates&quot;: [9.17556811014712, 39.21336962338173], &quot;type&quot;: &quot;Point&quot;}, &quot;id&quot;: &quot;47&quot;, &quot;properties&quot;: {&quot;__folium_color&quot;: &quot;#1fa187&quot;, &quot;elevation&quot;: 0.867, &quot;lat&quot;: 4340469.555518, &quot;lng&quot;: 515156.989447}, &quot;type&quot;: &quot;Feature&quot;}, {&quot;bbox&quot;: [9.175575290254464, 39.21336293494591, 9.175575290254464, 39.21336293494591], &quot;geometry&quot;: {&quot;coordinates&quot;: [9.175575290254464, 39.21336293494591], &quot;type&quot;: &quot;Point&quot;}, &quot;id&quot;: &quot;48&quot;, &quot;properties&quot;: {&quot;__folium_color&quot;: &quot;#21a685&quot;, &quot;elevation&quot;: 0.931, &quot;lat&quot;: 4340468.814468, &quot;lng&quot;: 515157.610752}, &quot;type&quot;: &quot;Feature&quot;}, {&quot;bbox&quot;: [9.175591125492152, 39.21335061771709, 9.175591125492152, 39.21335061771709], &quot;geometry&quot;: {&quot;coordinates&quot;: [9.175591125492152, 39.21335061771709], &quot;type&quot;: &quot;Point&quot;}, &quot;id&quot;: &quot;49&quot;, &quot;properties&quot;: {&quot;__folium_color&quot;: &quot;#27ad81&quot;, &quot;elevation&quot;: 1.043, &quot;lat&quot;: 4340467.450209, &quot;lng&quot;: 515158.980475}, &quot;type&quot;: &quot;Feature&quot;}, {&quot;bbox&quot;: [9.17559862772822, 39.2133439716597, 9.17559862772822, 39.2133439716597], &quot;geometry&quot;: {&quot;coordinates&quot;: [9.17559862772822, 39.2133439716597], &quot;type&quot;: &quot;Point&quot;}, &quot;id&quot;: &quot;50&quot;, &quot;properties&quot;: {&quot;__folium_color&quot;: &quot;#28ae80&quot;, &quot;elevation&quot;: 1.057, &quot;lat&quot;: 4340466.713916, &quot;lng&quot;: 515159.629581}, &quot;type&quot;: &quot;Feature&quot;}, {&quot;bbox&quot;: [9.17561368305984, 39.213329764037454, 9.17561368305984, 39.213329764037454], &quot;geometry&quot;: {&quot;coordinates&quot;: [9.17561368305984, 39.213329764037454], &quot;type&quot;: &quot;Point&quot;}, &quot;id&quot;: &quot;51&quot;, &quot;properties&quot;: {&quot;__folium_color&quot;: &quot;#2fb47c&quot;, &quot;elevation&quot;: 1.132, &quot;lat&quot;: 4340465.13974, &quot;lng&quot;: 515160.932381}, &quot;type&quot;: &quot;Feature&quot;}, {&quot;bbox&quot;: [9.175629170732865, 39.2133172772624, 9.175629170732865, 39.2133172772624], &quot;geometry&quot;: {&quot;coordinates&quot;: [9.175629170732865, 39.2133172772624], &quot;type&quot;: &quot;Point&quot;}, &quot;id&quot;: &quot;52&quot;, &quot;properties&quot;: {&quot;__folium_color&quot;: &quot;#37b878&quot;, &quot;elevation&quot;: 1.203, &quot;lat&quot;: 4340463.756608, &quot;lng&quot;: 515162.272136}, &quot;type&quot;: &quot;Feature&quot;}, {&quot;bbox&quot;: [9.175636113481847, 39.2133108516175, 9.175636113481847, 39.2133108516175], &quot;geometry&quot;: {&quot;coordinates&quot;: [9.175636113481847, 39.2133108516175], &quot;type&quot;: &quot;Point&quot;}, &quot;id&quot;: &quot;53&quot;, &quot;properties&quot;: {&quot;__folium_color&quot;: &quot;#37b878&quot;, &quot;elevation&quot;: 1.2, &quot;lat&quot;: 4340463.044682, &quot;lng&quot;: 515162.872894}, &quot;type&quot;: &quot;Feature&quot;}, {&quot;bbox&quot;: [9.175642505226856, 39.21330393429672, 9.175642505226856, 39.21330393429672], &quot;geometry&quot;: {&quot;coordinates&quot;: [9.175642505226856, 39.21330393429672], &quot;type&quot;: &quot;Point&quot;}, &quot;id&quot;: &quot;54&quot;, &quot;properties&quot;: {&quot;__folium_color&quot;: &quot;#3fbc73&quot;, &quot;elevation&quot;: 1.265, &quot;lat&quot;: 4340462.2781, &quot;lng&quot;: 515163.426189}, &quot;type&quot;: &quot;Feature&quot;}, {&quot;bbox&quot;: [9.17565951029555, 39.21329007423046, 9.17565951029555, 39.21329007423046], &quot;geometry&quot;: {&quot;coordinates&quot;: [9.17565951029555, 39.21329007423046], &quot;type&quot;: &quot;Point&quot;}, &quot;id&quot;: &quot;55&quot;, &quot;properties&quot;: {&quot;__folium_color&quot;: &quot;#40bd72&quot;, &quot;elevation&quot;: 1.279, &quot;lat&quot;: 4340460.742821, &quot;lng&quot;: 515164.897239}, &quot;type&quot;: &quot;Feature&quot;}, {&quot;bbox&quot;: [9.175667343141251, 39.21328323320329, 9.175667343141251, 39.21328323320329], &quot;geometry&quot;: {&quot;coordinates&quot;: [9.175667343141251, 39.21328323320329], &quot;type&quot;: &quot;Point&quot;}, &quot;id&quot;: &quot;56&quot;, &quot;properties&quot;: {&quot;__folium_color&quot;: &quot;#48c16e&quot;, &quot;elevation&quot;: 1.338, &quot;lat&quot;: 4340459.984947, &quot;lng&quot;: 515165.57493}, &quot;type&quot;: &quot;Feature&quot;}, {&quot;bbox&quot;: [9.175682059393806, 39.213269305325824, 9.175682059393806, 39.213269305325824], &quot;geometry&quot;: {&quot;coordinates&quot;: [9.175682059393806, 39.213269305325824], &quot;type&quot;: &quot;Point&quot;}, &quot;id&quot;: &quot;57&quot;, &quot;properties&quot;: {&quot;__folium_color&quot;: &quot;#4ec36b&quot;, &quot;elevation&quot;: 1.371, &quot;lat&quot;: 4340458.44176, &quot;lng&quot;: 515166.848399}, &quot;type&quot;: &quot;Feature&quot;}, {&quot;bbox&quot;: [9.175697682697205, 39.213256369254886, 9.175697682697205, 39.213256369254886], &quot;geometry&quot;: {&quot;coordinates&quot;: [9.175697682697205, 39.213256369254886], &quot;type&quot;: &quot;Point&quot;}, &quot;id&quot;: &quot;58&quot;, &quot;properties&quot;: {&quot;__folium_color&quot;: &quot;#56c667&quot;, &quot;elevation&quot;: 1.425, &quot;lat&quot;: 4340457.008791, &quot;lng&quot;: 515168.199962}, &quot;type&quot;: &quot;Feature&quot;}, {&quot;bbox&quot;: [9.175705651172727, 39.213250358989626, 9.175705651172727, 39.213250358989626], &quot;geometry&quot;: {&quot;coordinates&quot;: [9.175705651172727, 39.213250358989626], &quot;type&quot;: &quot;Point&quot;}, &quot;id&quot;: &quot;59&quot;, &quot;properties&quot;: {&quot;__folium_color&quot;: &quot;#58c765&quot;, &quot;elevation&quot;: 1.445, &quot;lat&quot;: 4340456.343134, &quot;lng&quot;: 515168.889184}, &quot;type&quot;: &quot;Feature&quot;}, {&quot;bbox&quot;: [9.175722469753714, 39.213237151665126, 9.175722469753714, 39.213237151665126], &quot;geometry&quot;: {&quot;coordinates&quot;: [9.175722469753714, 39.213237151665126], &quot;type&quot;: &quot;Point&quot;}, &quot;id&quot;: &quot;60&quot;, &quot;properties&quot;: {&quot;__folium_color&quot;: &quot;#60ca60&quot;, &quot;elevation&quot;: 1.492, &quot;lat&quot;: 4340454.880263, &quot;lng&quot;: 515170.343996}, &quot;type&quot;: &quot;Feature&quot;}, {&quot;bbox&quot;: [9.175738576247433, 39.213223698492435, 9.175738576247433, 39.213223698492435], &quot;geometry&quot;: {&quot;coordinates&quot;: [9.175738576247433, 39.213223698492435], &quot;type&quot;: &quot;Point&quot;}, &quot;id&quot;: &quot;61&quot;, &quot;properties&quot;: {&quot;__folium_color&quot;: &quot;#69cd5b&quot;, &quot;elevation&quot;: 1.544, &quot;lat&quot;: 4340453.38999, &quot;lng&quot;: 515171.737386}, &quot;type&quot;: &quot;Feature&quot;}, {&quot;bbox&quot;: [9.175754792953953, 39.21321133888156, 9.175754792953953, 39.21321133888156], &quot;geometry&quot;: {&quot;coordinates&quot;: [9.175754792953953, 39.21321133888156], &quot;type&quot;: &quot;Point&quot;}, &quot;id&quot;: &quot;62&quot;, &quot;properties&quot;: {&quot;__folium_color&quot;: &quot;#6ece58&quot;, &quot;elevation&quot;: 1.573, &quot;lat&quot;: 4340452.021094, &quot;lng&quot;: 515173.140056}, &quot;type&quot;: &quot;Feature&quot;}, {&quot;bbox&quot;: [9.1757618543802, 39.21320479455513, 9.1757618543802, 39.21320479455513], &quot;geometry&quot;: {&quot;coordinates&quot;: [9.1757618543802, 39.21320479455513], &quot;type&quot;: &quot;Point&quot;}, &quot;id&quot;: &quot;63&quot;, &quot;properties&quot;: {&quot;__folium_color&quot;: &quot;#70cf57&quot;, &quot;elevation&quot;: 1.582, &quot;lat&quot;: 4340451.296018, &quot;lng&quot;: 515173.751087}, &quot;type&quot;: &quot;Feature&quot;}, {&quot;bbox&quot;: [9.175774459842028, 39.21319098534462, 9.175774459842028, 39.21319098534462], &quot;geometry&quot;: {&quot;coordinates&quot;: [9.175774459842028, 39.21319098534462], &quot;type&quot;: &quot;Point&quot;}, &quot;id&quot;: &quot;64&quot;, &quot;properties&quot;: {&quot;__folium_color&quot;: &quot;#75d054&quot;, &quot;elevation&quot;: 1.615, &quot;lat&quot;: 4340449.765648, &quot;lng&quot;: 515174.842306}, &quot;type&quot;: &quot;Feature&quot;}, {&quot;bbox&quot;: [9.175780927867674, 39.21318355940026, 9.175780927867674, 39.21318355940026], &quot;geometry&quot;: {&quot;coordinates&quot;: [9.175780927867674, 39.21318355940026], &quot;type&quot;: &quot;Point&quot;}, &quot;id&quot;: &quot;65&quot;, &quot;properties&quot;: {&quot;__folium_color&quot;: &quot;#70cf57&quot;, &quot;elevation&quot;: 1.589, &quot;lat&quot;: 4340448.942635, &quot;lng&quot;: 515175.402298}, &quot;type&quot;: &quot;Feature&quot;}, {&quot;bbox&quot;: [9.17579656813087, 39.21316992821642, 9.17579656813087, 39.21316992821642], &quot;geometry&quot;: {&quot;coordinates&quot;: [9.17579656813087, 39.21316992821642], &quot;type&quot;: &quot;Point&quot;}, &quot;id&quot;: &quot;66&quot;, &quot;properties&quot;: {&quot;__folium_color&quot;: &quot;#7fd34e&quot;, &quot;elevation&quot;: 1.664, &quot;lat&quot;: 4340447.43253, &quot;lng&quot;: 515176.755478}, &quot;type&quot;: &quot;Feature&quot;}, {&quot;bbox&quot;: [9.175803782141363, 39.21316287526453, 9.175803782141363, 39.21316287526453], &quot;geometry&quot;: {&quot;coordinates&quot;: [9.175803782141363, 39.21316287526453], &quot;type&quot;: &quot;Point&quot;}, &quot;id&quot;: &quot;67&quot;, &quot;properties&quot;: {&quot;__folium_color&quot;: &quot;#77d153&quot;, &quot;elevation&quot;: 1.619, &quot;lat&quot;: 4340446.651035, &quot;lng&quot;: 515177.379792}, &quot;type&quot;: &quot;Feature&quot;}, {&quot;bbox&quot;: [9.175811284381222, 39.21315561038862, 9.175811284381222, 39.21315561038862], &quot;geometry&quot;: {&quot;coordinates&quot;: [9.175811284381222, 39.21315561038862], &quot;type&quot;: &quot;Point&quot;}, &quot;id&quot;: &quot;68&quot;, &quot;properties&quot;: {&quot;__folium_color&quot;: &quot;#81d34d&quot;, &quot;elevation&quot;: 1.676, &quot;lat&quot;: 4340445.84607, &quot;lng&quot;: 515178.029035}, &quot;type&quot;: &quot;Feature&quot;}, {&quot;bbox&quot;: [9.175826729671183, 39.213141750317675, 9.175826729671183, 39.213141750317675], &quot;geometry&quot;: {&quot;coordinates&quot;: [9.175826729671183, 39.213141750317675], &quot;type&quot;: &quot;Point&quot;}, &quot;id&quot;: &quot;69&quot;, &quot;properties&quot;: {&quot;__folium_color&quot;: &quot;#7fd34e&quot;, &quot;elevation&quot;: 1.671, &quot;lat&quot;: 4340444.310532, &quot;lng&quot;: 515179.365433}, &quot;type&quot;: &quot;Feature&quot;}, {&quot;bbox&quot;: [9.175843082007226, 39.21312880578272, 9.175843082007226, 39.21312880578272], &quot;geometry&quot;: {&quot;coordinates&quot;: [9.175843082007226, 39.21312880578272], &quot;type&quot;: &quot;Point&quot;}, &quot;id&quot;: &quot;70&quot;, &quot;properties&quot;: {&quot;__folium_color&quot;: &quot;#81d34d&quot;, &quot;elevation&quot;: 1.68, &quot;lat&quot;: 4340442.876748, &quot;lng&quot;: 515180.779941}, &quot;type&quot;: &quot;Feature&quot;}, {&quot;bbox&quot;: [9.175851533674354, 39.2131223123191, 9.175851533674354, 39.2131223123191], &quot;geometry&quot;: {&quot;coordinates&quot;: [9.175851533674354, 39.2131223123191], &quot;type&quot;: &quot;Point&quot;}, &quot;id&quot;: &quot;71&quot;, &quot;properties&quot;: {&quot;__folium_color&quot;: &quot;#84d44b&quot;, &quot;elevation&quot;: 1.688, &quot;lat&quot;: 4340442.15755, &quot;lng&quot;: 515181.510984}, &quot;type&quot;: &quot;Feature&quot;}, {&quot;bbox&quot;: [9.175860282047015, 39.213116005349555, 9.175860282047015, 39.213116005349555], &quot;geometry&quot;: {&quot;coordinates&quot;: [9.175860282047015, 39.213116005349555], &quot;type&quot;: &quot;Point&quot;}, &quot;id&quot;: &quot;72&quot;, &quot;properties&quot;: {&quot;__folium_color&quot;: &quot;#89d548&quot;, &quot;elevation&quot;: 1.712, &quot;lat&quot;: 4340441.459098, &quot;lng&quot;: 515182.267602}, &quot;type&quot;: &quot;Feature&quot;}, {&quot;bbox&quot;: [9.175875634085601, 39.21310209442848, 9.175875634085601, 39.21310209442848], &quot;geometry&quot;: {&quot;coordinates&quot;: [9.175875634085601, 39.21310209442848], &quot;type&quot;: &quot;Point&quot;}, &quot;id&quot;: &quot;73&quot;, &quot;properties&quot;: {&quot;__folium_color&quot;: &quot;#70cf57&quot;, &quot;elevation&quot;: 1.583, &quot;lat&quot;: 4340439.917902, &quot;lng&quot;: 515183.595962}, &quot;type&quot;: &quot;Feature&quot;}, {&quot;bbox&quot;: [9.175891952512943, 39.21308894643294, 9.175891952512943, 39.21308894643294], &quot;geometry&quot;: {&quot;coordinates&quot;: [9.175891952512943, 39.21308894643294], &quot;type&quot;: &quot;Point&quot;}, &quot;id&quot;: &quot;74&quot;, &quot;properties&quot;: {&quot;__folium_color&quot;: &quot;#4ec36b&quot;, &quot;elevation&quot;: 1.377, &quot;lat&quot;: 4340438.461534, &quot;lng&quot;: 515185.007588}, &quot;type&quot;: &quot;Feature&quot;}, {&quot;bbox&quot;: [9.17590682135961, 39.21307462860579, 9.17590682135961, 39.21307462860579], &quot;geometry&quot;: {&quot;coordinates&quot;: [9.17590682135961, 39.21307462860579], &quot;type&quot;: &quot;Point&quot;}, &quot;id&quot;: &quot;75&quot;, &quot;properties&quot;: {&quot;__folium_color&quot;: &quot;#3fbc73&quot;, &quot;elevation&quot;: 1.268, &quot;lat&quot;: 4340436.875101, &quot;lng&quot;: 515186.294322}, &quot;type&quot;: &quot;Feature&quot;}, {&quot;bbox&quot;: [9.175921444358279, 39.21305981910132, 9.175921444358279, 39.21305981910132], &quot;geometry&quot;: {&quot;coordinates&quot;: [9.175921444358279, 39.21305981910132], &quot;type&quot;: &quot;Point&quot;}, &quot;id&quot;: &quot;76&quot;, &quot;properties&quot;: {&quot;__folium_color&quot;: &quot;#37b878&quot;, &quot;elevation&quot;: 1.205, &quot;lat&quot;: 4340435.234063, &quot;lng&quot;: 515187.559938}, &quot;type&quot;: &quot;Feature&quot;}, {&quot;bbox&quot;: [9.175936304722379, 39.21304522152709, 9.175936304722379, 39.21304522152709], &quot;geometry&quot;: {&quot;coordinates&quot;: [9.175936304722379, 39.21304522152709], &quot;type&quot;: &quot;Point&quot;}, &quot;id&quot;: &quot;77&quot;, &quot;properties&quot;: {&quot;__folium_color&quot;: &quot;#34b679&quot;, &quot;elevation&quot;: 1.18, &quot;lat&quot;: 4340433.616584, &quot;lng&quot;: 515188.846001}, &quot;type&quot;: &quot;Feature&quot;}, {&quot;bbox&quot;: [9.175943077934795, 39.213037948173834, 9.175943077934795, 39.213037948173834], &quot;geometry&quot;: {&quot;coordinates&quot;: [9.175943077934795, 39.213037948173834], &quot;type&quot;: &quot;Point&quot;}, &quot;id&quot;: &quot;78&quot;, &quot;properties&quot;: {&quot;__folium_color&quot;: &quot;#35b779&quot;, &quot;elevation&quot;: 1.188, &quot;lat&quot;: 4340432.810557, &quot;lng&quot;: 515189.43231}, &quot;type&quot;: &quot;Feature&quot;}, {&quot;bbox&quot;: [9.175956988867334, 39.21302477475346, 9.175956988867334, 39.21302477475346], &quot;geometry&quot;: {&quot;coordinates&quot;: [9.175956988867334, 39.21302477475346], &quot;type&quot;: &quot;Point&quot;}, &quot;id&quot;: &quot;79&quot;, &quot;properties&quot;: {&quot;__folium_color&quot;: &quot;#28ae80&quot;, &quot;elevation&quot;: 1.048, &quot;lat&quot;: 4340431.350965, &quot;lng&quot;: 515190.636101}, &quot;type&quot;: &quot;Feature&quot;}, {&quot;bbox&quot;: [9.175964745417321, 39.213018603421034, 9.175964745417321, 39.213018603421034], &quot;geometry&quot;: {&quot;coordinates&quot;: [9.175964745417321, 39.213018603421034], &quot;type&quot;: &quot;Point&quot;}, &quot;id&quot;: &quot;80&quot;, &quot;properties&quot;: {&quot;__folium_color&quot;: &quot;#21a685&quot;, &quot;elevation&quot;: 0.937, &quot;lat&quot;: 4340430.6674, &quot;lng&quot;: 515191.307066}, &quot;type&quot;: &quot;Feature&quot;}, {&quot;bbox&quot;: [9.17597233242338, 39.21301291528072, 9.17597233242338, 39.21301291528072], &quot;geometry&quot;: {&quot;coordinates&quot;: [9.17597233242338, 39.21301291528072], &quot;type&quot;: &quot;Point&quot;}, &quot;id&quot;: &quot;81&quot;, &quot;properties&quot;: {&quot;__folium_color&quot;: &quot;#1f9e89&quot;, &quot;elevation&quot;: 0.809, &quot;lat&quot;: 4340430.037429, &quot;lng&quot;: 515191.96329}, &quot;type&quot;: &quot;Feature&quot;}, {&quot;bbox&quot;: [9.175984641179786, 39.21300197134129, 9.175984641179786, 39.21300197134129], &quot;geometry&quot;: {&quot;coordinates&quot;: [9.175984641179786, 39.21300197134129], &quot;type&quot;: &quot;Point&quot;}, &quot;id&quot;: &quot;82&quot;, &quot;properties&quot;: {&quot;__folium_color&quot;: &quot;#218e8d&quot;, &quot;elevation&quot;: 0.592, &quot;lat&quot;: 4340428.824986, &quot;lng&quot;: 515193.028283}, &quot;type&quot;: &quot;Feature&quot;}, {&quot;bbox&quot;: [9.175991177033259, 39.212995079446756, 9.175991177033259, 39.212995079446756], &quot;geometry&quot;: {&quot;coordinates&quot;: [9.175991177033259, 39.212995079446756], &quot;type&quot;: &quot;Point&quot;}, &quot;id&quot;: &quot;83&quot;, &quot;properties&quot;: {&quot;__folium_color&quot;: &quot;#24878e&quot;, &quot;elevation&quot;: 0.497, &quot;lat&quot;: 4340428.061252, &quot;lng&quot;: 515193.594019}, &quot;type&quot;: &quot;Feature&quot;}, {&quot;bbox&quot;: [9.176005367698115, 39.212982236635725, 9.176005367698115, 39.212982236635725], &quot;geometry&quot;: {&quot;coordinates&quot;: [9.176005367698115, 39.212982236635725], &quot;type&quot;: &quot;Point&quot;}, &quot;id&quot;: &quot;84&quot;, &quot;properties&quot;: {&quot;__folium_color&quot;: &quot;#287c8e&quot;, &quot;elevation&quot;: 0.333, &quot;lat&quot;: 4340426.638397, &quot;lng&quot;: 515194.82189}, &quot;type&quot;: &quot;Feature&quot;}, {&quot;bbox&quot;: [9.17601189506743, 39.21297618398501, 9.17601189506743, 39.21297618398501], &quot;geometry&quot;: {&quot;coordinates&quot;: [9.17601189506743, 39.21297618398501], &quot;type&quot;: &quot;Point&quot;}, &quot;id&quot;: &quot;85&quot;, &quot;properties&quot;: {&quot;__folium_color&quot;: &quot;#2a778e&quot;, &quot;elevation&quot;: 0.267, &quot;lat&quot;: 4340425.967797, &quot;lng&quot;: 515195.386713}, &quot;type&quot;: &quot;Feature&quot;}, {&quot;bbox&quot;: [9.176023245919387, 39.21296418040523, 9.176023245919387, 39.21296418040523], &quot;geometry&quot;: {&quot;coordinates&quot;: [9.176023245919387, 39.21296418040523], &quot;type&quot;: &quot;Point&quot;}, &quot;id&quot;: &quot;86&quot;, &quot;properties&quot;: {&quot;__folium_color&quot;: &quot;#2f6c8e&quot;, &quot;elevation&quot;: 0.111, &quot;lat&quot;: 4340424.6376, &quot;lng&quot;: 515196.369238}, &quot;type&quot;: &quot;Feature&quot;}, {&quot;bbox&quot;: [9.17602906121539, 39.21295794125609, 9.17602906121539, 39.21295794125609], &quot;geometry&quot;: {&quot;coordinates&quot;: [9.17602906121539, 39.21295794125609], &quot;type&quot;: &quot;Point&quot;}, &quot;id&quot;: &quot;87&quot;, &quot;properties&quot;: {&quot;__folium_color&quot;: &quot;#31688e&quot;, &quot;elevation&quot;: 0.059, &quot;lat&quot;: 4340423.946184, &quot;lng&quot;: 515196.872627}, &quot;type&quot;: &quot;Feature&quot;}, {&quot;bbox&quot;: [9.176039988198706, 39.21294941328824, 9.176039988198706, 39.21294941328824], &quot;geometry&quot;: {&quot;coordinates&quot;: [9.176039988198706, 39.21294941328824], &quot;type&quot;: &quot;Point&quot;}, &quot;id&quot;: &quot;88&quot;, &quot;properties&quot;: {&quot;__folium_color&quot;: &quot;#355e8d&quot;, &quot;elevation&quot;: -0.077, &quot;lat&quot;: 4340423.001623, &quot;lng&quot;: 515197.81781}, &quot;type&quot;: &quot;Feature&quot;}, {&quot;bbox&quot;: [9.176048541593223, 39.21294141089656, 9.176048541593223, 39.21294141089656], &quot;geometry&quot;: {&quot;coordinates&quot;: [9.176048541593223, 39.21294141089656], &quot;type&quot;: &quot;Point&quot;}, &quot;id&quot;: &quot;89&quot;, &quot;properties&quot;: {&quot;__folium_color&quot;: &quot;#39568c&quot;, &quot;elevation&quot;: -0.17, &quot;lat&quot;: 4340422.11499, &quot;lng&quot;: 515198.557964}, &quot;type&quot;: &quot;Feature&quot;}, {&quot;bbox&quot;: [9.176058544577227, 39.21293386627198, 9.176058544577227, 39.21293386627198], &quot;geometry&quot;: {&quot;coordinates&quot;: [9.176058544577227, 39.21293386627198], &quot;type&quot;: &quot;Point&quot;}, &quot;id&quot;: &quot;90&quot;, &quot;properties&quot;: {&quot;__folium_color&quot;: &quot;#3d4e8a&quot;, &quot;elevation&quot;: -0.277, &quot;lat&quot;: 4340421.279401, &quot;lng&quot;: 515199.423165}, &quot;type&quot;: &quot;Feature&quot;}, {&quot;bbox&quot;: [9.176067928737373, 39.21292548242144, 9.176067928737373, 39.21292548242144], &quot;geometry&quot;: {&quot;coordinates&quot;: [9.176067928737373, 39.21292548242144], &quot;type&quot;: &quot;Point&quot;}, &quot;id&quot;: &quot;91&quot;, &quot;properties&quot;: {&quot;__folium_color&quot;: &quot;#404588&quot;, &quot;elevation&quot;: -0.382, &quot;lat&quot;: 4340420.350575, &quot;lng&quot;: 515200.235123}, &quot;type&quot;: &quot;Feature&quot;}, {&quot;bbox&quot;: [9.176074439154624, 39.21292206614651, 9.176074439154624, 39.21292206614651], &quot;geometry&quot;: {&quot;coordinates&quot;: [9.176074439154624, 39.21292206614651], &quot;type&quot;: &quot;Point&quot;}, &quot;id&quot;: &quot;92&quot;, &quot;properties&quot;: {&quot;__folium_color&quot;: &quot;#433e85&quot;, &quot;elevation&quot;: -0.463, &quot;lat&quot;: 4340419.972545, &quot;lng&quot;: 515200.797915}, &quot;type&quot;: &quot;Feature&quot;}, {&quot;bbox&quot;: [9.176081449723474, 39.21291864987217, 9.176081449723474, 39.21291864987217], &quot;geometry&quot;: {&quot;coordinates&quot;: [9.176081449723474, 39.21291864987217], &quot;type&quot;: &quot;Point&quot;}, &quot;id&quot;: &quot;93&quot;, &quot;properties&quot;: {&quot;__folium_color&quot;: &quot;#472a7a&quot;, &quot;elevation&quot;: -0.675, &quot;lat&quot;: 4340419.594599, &quot;lng&quot;: 515201.403886}, &quot;type&quot;: &quot;Feature&quot;}, {&quot;bbox&quot;: [9.176087841455805, 39.21291445370098, 9.176087841455805, 39.21291445370098], &quot;geometry&quot;: {&quot;coordinates&quot;: [9.176087841455805, 39.21291445370098], &quot;type&quot;: &quot;Point&quot;}, &quot;id&quot;: &quot;94&quot;, &quot;properties&quot;: {&quot;__folium_color&quot;: &quot;#470e61&quot;, &quot;elevation&quot;: -0.956, &quot;lat&quot;: 4340419.13, &quot;lng&quot;: 515201.9566}, &quot;type&quot;: &quot;Feature&quot;}, {&quot;bbox&quot;: [9.176087722772962, 39.21291357208914, 9.176087722772962, 39.21291357208914], &quot;geometry&quot;: {&quot;coordinates&quot;: [9.176087722772962, 39.21291357208914], &quot;type&quot;: &quot;Point&quot;}, &quot;id&quot;: &quot;95&quot;, &quot;properties&quot;: {&quot;__folium_color&quot;: &quot;#440154&quot;, &quot;elevation&quot;: -1.078, &quot;lat&quot;: 4340419.032143, &quot;lng&quot;: 515201.946544}, &quot;type&quot;: &quot;Feature&quot;}, {&quot;bbox&quot;: [9.17608842637234, 39.21291519968615, 9.17608842637234, 39.21291519968615], &quot;geometry&quot;: {&quot;coordinates&quot;: [9.17608842637234, 39.21291519968615], &quot;type&quot;: &quot;Point&quot;}, &quot;id&quot;: &quot;96&quot;, &quot;properties&quot;: {&quot;__folium_color&quot;: &quot;#471164&quot;, &quot;elevation&quot;: -0.926, &quot;lat&quot;: 4340419.212884, &quot;lng&quot;: 515202.006936}, &quot;type&quot;: &quot;Feature&quot;}], &quot;type&quot;: &quot;FeatureCollection&quot;});\n",
       "\n",
       "        \n",
       "    \n",
       "    geo_json_cd335bf2c5f2c613dc399b41f01a99bf.bindTooltip(\n",
       "    function(layer){\n",
       "    let div = L.DomUtil.create(&#x27;div&#x27;);\n",
       "    \n",
       "    let handleObject = feature=&gt;typeof(feature)==&#x27;object&#x27; ? JSON.stringify(feature) : feature;\n",
       "    let fields = [&quot;lat&quot;, &quot;lng&quot;, &quot;elevation&quot;];\n",
       "    let aliases = [&quot;lat&quot;, &quot;lng&quot;, &quot;elevation&quot;];\n",
       "    let table = &#x27;&lt;table&gt;&#x27; +\n",
       "        String(\n",
       "        fields.map(\n",
       "        (v,i)=&gt;\n",
       "        `&lt;tr&gt;\n",
       "            &lt;th&gt;${aliases[i]}&lt;/th&gt;\n",
       "            \n",
       "            &lt;td&gt;${handleObject(layer.feature.properties[v])}&lt;/td&gt;\n",
       "        &lt;/tr&gt;`).join(&#x27;&#x27;))\n",
       "    +&#x27;&lt;/table&gt;&#x27;;\n",
       "    div.innerHTML=table;\n",
       "    \n",
       "    return div\n",
       "    }\n",
       "    ,{\n",
       "  &quot;sticky&quot;: true,\n",
       "  &quot;className&quot;: &quot;foliumtooltip&quot;,\n",
       "});\n",
       "                     \n",
       "    \n",
       "            geo_json_cd335bf2c5f2c613dc399b41f01a99bf.addTo(map_b370fc946bffb94ed155ee6f9d131b80);\n",
       "        \n",
       "    \n",
       "    var color_map_441b83594244d57cd537093b3180bde0 = {};\n",
       "\n",
       "    \n",
       "    color_map_441b83594244d57cd537093b3180bde0.color = d3.scale.threshold()\n",
       "              .domain([-1.078, -1.071184368737475, -1.06436873747495, -1.0575531062124248, -1.0507374749498999, -1.0439218436873747, -1.0371062124248498, -1.0302905811623246, -1.0234749498997997, -1.0166593186372745, -1.0098436873747496, -1.0030280561122245, -0.9962124248496995, -0.9893967935871745, -0.9825811623246494, -0.9757655310621243, -0.9689498997995993, -0.9621342685370742, -0.9553186372745491, -0.9485030060120241, -0.941687374749499, -0.934871743486974, -0.928056112224449, -0.9212404809619239, -0.9144248496993989, -0.9076092184368738, -0.9007935871743488, -0.8939779559118237, -0.8871623246492987, -0.8803466933867736, -0.8735310621242486, -0.8667154308617235, -0.8598997995991985, -0.8530841683366734, -0.8462685370741484, -0.8394529058116234, -0.8326372745490983, -0.8258216432865733, -0.8190060120240481, -0.8121903807615232, -0.805374749498998, -0.7985591182364731, -0.7917434869739479, -0.784927855711423, -0.7781122244488978, -0.7712965931863729, -0.7644809619238477, -0.7576653306613228, -0.7508496993987976, -0.7440340681362726, -0.7372184368737476, -0.7304028056112225, -0.7235871743486975, -0.7167715430861725, -0.7099559118236474, -0.7031402805611224, -0.6963246492985973, -0.6895090180360722, -0.6826933867735472, -0.6758777555110221, -0.6690621242484971, -0.662246492985972, -0.655430861723447, -0.648615230460922, -0.6417995991983969, -0.6349839679358718, -0.6281683366733468, -0.6213527054108217, -0.6145370741482967, -0.6077214428857716, -0.6009058116232466, -0.5940901803607216, -0.5872745490981965, -0.5804589178356714, -0.5736432865731464, -0.5668276553106213, -0.5600120240480962, -0.5531963927855712, -0.5463807615230463, -0.5395651302605212, -0.5327494989979961, -0.525933867735471, -0.519118236472946, -0.512302605210421, -0.5054869739478959, -0.49867134268537083, -0.4918557114228458, -0.48504008016032074, -0.4782244488977956, -0.47140881763527065, -0.4645931863727456, -0.45777755511022056, -0.4509619238476955, -0.44414629258517035, -0.4373306613226454, -0.4305150300601204, -0.42369939879759533, -0.4168837675350703, -0.4100681362725451, -0.4032525050100202, -0.39643687374749514, -0.3896212424849701, -0.38280561122244494, -0.3759899799599199, -0.36917434869739496, -0.3623587174348699, -0.35554308617234487, -0.3487274549098197, -0.34191182364729467, -0.3350961923847696, -0.3282805611222447, -0.32146492985971953, -0.3146492985971945, -0.30783366733466944, -0.3010180360721444, -0.29420240480961946, -0.2873867735470943, -0.28057114228456925, -0.2737555110220442, -0.26693987975951916, -0.260124248496994, -0.25330861723446907, -0.24649298597194402, -0.23967735470941898, -0.23286172344689393, -0.22604609218436877, -0.21923046092184384, -0.2124148296593188, -0.20559919839679375, -0.1987835671342686, -0.19196793587174354, -0.1851523046092186, -0.17833667334669356, -0.17152104208416852, -0.16470541082164336, -0.15788977955911832, -0.15107414829659338, -0.14425851703406833, -0.13744288577154318, -0.13062725450901813, -0.12381162324649309, -0.11699599198396804, -0.1101803607214431, -0.10336472945891795, -0.0965490981963929, -0.08973346693386786, -0.08291783567134281, -0.07610220440881776, -0.06928657314629283, -0.06247094188376767, -0.055655310621242515, -0.04883967935871758, -0.04202404809619242, -0.03520841683366749, -0.02839278557114233, -0.021577154308617397, -0.014761523046092462, -0.007945891783567305, -0.00113026052104237, 0.005685370741483009, 0.012501002004007944, 0.01931663326653288, 0.026132264529058036, 0.03294789579158297, 0.03976352705410813, 0.04657915831663306, 0.053394789579158, 0.060210420841683376, 0.06702605210420831, 0.07384168336673347, 0.0806573146292584, 0.08747294589178334, 0.0942885771543085, 0.10110420841683343, 0.10791983967935859, 0.11473547094188352, 0.1215511022044089, 0.12836673346693384, 0.13518236472945877, 0.14199799599198393, 0.14881362725450886, 0.15562925851703402, 0.16244488977955895, 0.1692605210420839, 0.17607615230460905, 0.18289178356713398, 0.18970741482965936, 0.1965230460921843, 0.20333867735470923, 0.2101543086172344, 0.21696993987975932, 0.22378557114228448, 0.2306012024048094, 0.23741683366733435, 0.2442324649298595, 0.25104809619238466, 0.2578637274549098, 0.26467935871743475, 0.2714949899799597, 0.27831062124248485, 0.2851262525050098, 0.29194188376753494, 0.2987575150300599, 0.3055731462925848, 0.3123887775551102, 0.3192044088176351, 0.3260200400801603, 0.3328356713426852, 0.33965130260521015, 0.3464669338677353, 0.35328256513026024, 0.3600981963927854, 0.36691382765531033, 0.3737294589178357, 0.38054509018036065, 0.3873607214428856, 0.39417635270541074, 0.4009919839679357, 0.40780761523046083, 0.41462324649298576, 0.4214388777555107, 0.42825450901803586, 0.435070140280561, 0.44188577154308617, 0.4487014028056111, 0.45551703406813604, 0.4623326653306612, 0.46914829659318613, 0.4759639278557113, 0.4827795591182362, 0.48959519038076116, 0.49641082164328654, 0.5032264529058115, 0.5100420841683366, 0.5168577154308616, 0.5236733466933865, 0.5304889779559117, 0.5373046092184366, 0.5441202404809617, 0.5509358717434867, 0.5577515030060121, 0.564567134268537, 0.5713827655310619, 0.5781983967935871, 0.585014028056112, 0.5918296593186372, 0.5986452905811621, 0.605460921843687, 0.6122765531062122, 0.6190921843687374, 0.6259078156312625, 0.6327234468937875, 0.6395390781563124, 0.6463547094188375, 0.6531703406813625, 0.6599859719438876, 0.6668016032064126, 0.6736172344689375, 0.6804328657314629, 0.6872484969939878, 0.694064128256513, 0.7008797595190379, 0.7076953907815628, 0.714511022044088, 0.7213266533066129, 0.7281422845691381, 0.734957915831663, 0.7417735470941882, 0.7485891783567133, 0.7554048096192383, 0.7622204408817634, 0.7690360721442884, 0.7758517034068133, 0.7826673346693385, 0.7894829659318634, 0.7962985971943886, 0.8031142284569137, 0.8099298597194389, 0.8167454909819638, 0.8235611222444887, 0.8303767535070139, 0.8371923847695388, 0.844008016032064, 0.8508236472945889, 0.8576392785571139, 0.8644549098196392, 0.8712705410821642, 0.8780861723446893, 0.8849018036072143, 0.8917174348697392, 0.8985330661322644, 0.9053486973947893, 0.9121643286573144, 0.9189799599198394, 0.9257955911823645, 0.9326112224448895, 0.9394268537074144, 0.9462424849699398, 0.9530581162324647, 0.9598737474949897, 0.966689378757515, 0.97350501002004, 0.9803206412825649, 0.9871362725450898, 0.9939519038076152, 1.0007675350701397, 1.007583166332665, 1.0143987975951905, 1.0212144288577154, 1.0280300601202403, 1.0348456913827653, 1.0416613226452907, 1.0484769539078151, 1.0552925851703405, 1.0621082164328655, 1.0689238476953904, 1.0757394789579153, 1.0825551102204407, 1.089370741482966, 1.0961863727454906, 1.103002004008016, 1.109817635270541, 1.1166332665330658, 1.1234488977955908, 1.1302645290581161, 1.1370801603206415, 1.143895791583166, 1.1507114228456914, 1.1575270541082163, 1.1643426853707413, 1.1711583166332662, 1.1779739478957916, 1.184789579158316, 1.1916052104208414, 1.1984208416833668, 1.2052364729458918, 1.2120521042084167, 1.2188677354709416, 1.225683366733467, 1.2324989979959915, 1.2393146292585169, 1.2461302605210418, 1.2529458917835667, 1.2597615230460917, 1.266577154308617, 1.2733927855711424, 1.280208416833667, 1.2870240480961923, 1.2938396793587172, 1.3006553106212422, 1.3074709418837671, 1.3142865731462925, 1.3211022044088179, 1.3279178356713424, 1.3347334669338677, 1.3415490981963927, 1.3483647294589176, 1.3551803607214425, 1.361995991983968, 1.3688116232464924, 1.3756272545090178, 1.3824428857715432, 1.389258517034068, 1.396074148296593, 1.402889779559118, 1.4097054108216434, 1.4165210420841678, 1.4233366733466932, 1.4301523046092182, 1.436967935871743, 1.443783567134268, 1.4505991983967934, 1.4574148296593188, 1.4642304609218433, 1.4710460921843687, 1.4778617234468936, 1.4846773547094185, 1.4914929859719435, 1.4983086172344688, 1.5051242484969933, 1.5119398797595187, 1.518755511022044, 1.525571142284569, 1.532386773547094, 1.539202404809619, 1.5460180360721443, 1.5528336673346688, 1.5596492985971941, 1.566464929859719, 1.5732805611222445, 1.5800961923847694, 1.5869118236472943, 1.5937274549098197, 1.6005430861723442, 1.6073587174348696, 1.6141743486973945, 1.6209899799599194, 1.6278056112224444, 1.6346212424849698, 1.6414368737474951, 1.6482525050100196, 1.655068136272545, 1.66188376753507, 1.6686993987975949, 1.6755150300601198, 1.6823306613226452, 1.6891462925851697, 1.695961923847695, 1.7027775551102204, 1.7095931863727454, 1.7164088176352703, 1.7232244488977952, 1.7300400801603206, 1.7368557114228451, 1.7436713426853705, 1.7504869739478954, 1.7573026052104204, 1.7641182364729457, 1.7709338677354707, 1.777749498997996, 1.7845651302605205, 1.791380761523046, 1.7981963927855709, 1.8050120240480958, 1.8118276553106207, 1.8186432865731461, 1.8254589178356715, 1.832274549098196, 1.8390901803607214, 1.8459058116232463, 1.8527214428857712, 1.8595370741482962, 1.8663527054108215, 1.873168336673346, 1.8799839679358714, 1.8867995991983968, 1.8936152304609217, 1.9004308617234467, 1.9072464929859716, 1.914062124248497, 1.9208777555110215, 1.9276933867735468, 1.9345090180360718, 1.9413246492985967, 1.948140280561122, 1.954955911823647, 1.9617715430861724, 1.968587174348697, 1.9754028056112223, 1.9822184368737472, 1.9890340681362721, 1.995849699398797, 2.0026653306613227, 2.009480961923848, 2.0162965931863726, 2.023112224448898, 2.0299278557114224, 2.036743486973948, 2.0435591182364723, 2.0503747494989977, 2.057190380761522, 2.0640060120240475, 2.070821643286573, 2.0776372745490983, 2.084452905811623, 2.091268537074148, 2.0980841683366735, 2.104899799599198, 2.1117154308617234, 2.118531062124248, 2.1253466933867733, 2.1321623246492987, 2.138977955911823, 2.1457935871743485, 2.152609218436873, 2.1594248496993984, 2.166240480961924, 2.1730561122244483, 2.1798717434869737, 2.186687374749499, 2.1935030060120244, 2.200318637274549, 2.2071342685370743, 2.2139498997995988, 2.220765531062124, 2.2275811623246486, 2.234396793587174, 2.2412124248496985, 2.248028056112224, 2.2548436873747493, 2.2616593186372747, 2.268474949899799, 2.2752905811623245, 2.28210621242485, 2.2889218436873744, 2.2957374749498998, 2.3025531062124243, 2.3093687374749496, 2.316184368737475, 2.3229999999999995])\n",
       "              .range([&#x27;#440154ff&#x27;, &#x27;#440155ff&#x27;, &#x27;#440256ff&#x27;, &#x27;#440356ff&#x27;, &#x27;#450457ff&#x27;, &#x27;#450458ff&#x27;, &#x27;#450559ff&#x27;, &#x27;#450659ff&#x27;, &#x27;#46075aff&#x27;, &#x27;#46075bff&#x27;, &#x27;#46085cff&#x27;, &#x27;#46095cff&#x27;, &#x27;#460a5dff&#x27;, &#x27;#460a5eff&#x27;, &#x27;#460b5eff&#x27;, &#x27;#460c5fff&#x27;, &#x27;#470d60ff&#x27;, &#x27;#470d61ff&#x27;, &#x27;#470e61ff&#x27;, &#x27;#470f62ff&#x27;, &#x27;#471063ff&#x27;, &#x27;#471064ff&#x27;, &#x27;#471164ff&#x27;, &#x27;#471265ff&#x27;, &#x27;#471365ff&#x27;, &#x27;#481366ff&#x27;, &#x27;#481467ff&#x27;, &#x27;#481568ff&#x27;, &#x27;#481668ff&#x27;, &#x27;#481669ff&#x27;, &#x27;#481769ff&#x27;, &#x27;#48176aff&#x27;, &#x27;#48186bff&#x27;, &#x27;#48196cff&#x27;, &#x27;#481a6cff&#x27;, &#x27;#481a6dff&#x27;, &#x27;#481b6dff&#x27;, &#x27;#481c6eff&#x27;, &#x27;#481c6eff&#x27;, &#x27;#481d6fff&#x27;, &#x27;#481d6fff&#x27;, &#x27;#481f70ff&#x27;, &#x27;#481f70ff&#x27;, &#x27;#482071ff&#x27;, &#x27;#482072ff&#x27;, &#x27;#482173ff&#x27;, &#x27;#482273ff&#x27;, &#x27;#482374ff&#x27;, &#x27;#482374ff&#x27;, &#x27;#482475ff&#x27;, &#x27;#482476ff&#x27;, &#x27;#482576ff&#x27;, &#x27;#482577ff&#x27;, &#x27;#482677ff&#x27;, &#x27;#482778ff&#x27;, &#x27;#482878ff&#x27;, &#x27;#482879ff&#x27;, &#x27;#482979ff&#x27;, &#x27;#47297aff&#x27;, &#x27;#472a7aff&#x27;, &#x27;#472b7aff&#x27;, &#x27;#472c7aff&#x27;, &#x27;#472c7bff&#x27;, &#x27;#472d7bff&#x27;, &#x27;#472d7cff&#x27;, &#x27;#472e7cff&#x27;, &#x27;#472e7dff&#x27;, &#x27;#472f7dff&#x27;, &#x27;#462f7eff&#x27;, &#x27;#46307eff&#x27;, &#x27;#46317eff&#x27;, &#x27;#46327eff&#x27;, &#x27;#46327fff&#x27;, &#x27;#46337fff&#x27;, &#x27;#463480ff&#x27;, &#x27;#453480ff&#x27;, &#x27;#453581ff&#x27;, &#x27;#453581ff&#x27;, &#x27;#453681ff&#x27;, &#x27;#453781ff&#x27;, &#x27;#453882ff&#x27;, &#x27;#443882ff&#x27;, &#x27;#443983ff&#x27;, &#x27;#443983ff&#x27;, &#x27;#443a83ff&#x27;, &#x27;#443a83ff&#x27;, &#x27;#443b84ff&#x27;, &#x27;#433c84ff&#x27;, &#x27;#433d84ff&#x27;, &#x27;#433d85ff&#x27;, &#x27;#433e85ff&#x27;, &#x27;#423e85ff&#x27;, &#x27;#423f85ff&#x27;, &#x27;#423f86ff&#x27;, &#x27;#424086ff&#x27;, &#x27;#424086ff&#x27;, &#x27;#424186ff&#x27;, &#x27;#414187ff&#x27;, &#x27;#414287ff&#x27;, &#x27;#414387ff&#x27;, &#x27;#414487ff&#x27;, &#x27;#404488ff&#x27;, &#x27;#404588ff&#x27;, &#x27;#404588ff&#x27;, &#x27;#404688ff&#x27;, &#x27;#3f4688ff&#x27;, &#x27;#3f4788ff&#x27;, &#x27;#3f4789ff&#x27;, &#x27;#3f4889ff&#x27;, &#x27;#3e4889ff&#x27;, &#x27;#3e4989ff&#x27;, &#x27;#3e4a89ff&#x27;, &#x27;#3e4a89ff&#x27;, &#x27;#3e4b8aff&#x27;, &#x27;#3d4c8aff&#x27;, &#x27;#3d4d8aff&#x27;, &#x27;#3d4d8aff&#x27;, &#x27;#3d4e8aff&#x27;, &#x27;#3c4e8aff&#x27;, &#x27;#3c4f8aff&#x27;, &#x27;#3c4f8aff&#x27;, &#x27;#3c508bff&#x27;, &#x27;#3b508bff&#x27;, &#x27;#3b518bff&#x27;, &#x27;#3b518bff&#x27;, &#x27;#3b528bff&#x27;, &#x27;#3a528bff&#x27;, &#x27;#3a538bff&#x27;, &#x27;#3a538bff&#x27;, &#x27;#3a548cff&#x27;, &#x27;#39548cff&#x27;, &#x27;#39558cff&#x27;, &#x27;#39558cff&#x27;, &#x27;#39568cff&#x27;, &#x27;#38578cff&#x27;, &#x27;#38588cff&#x27;, &#x27;#38588cff&#x27;, &#x27;#38598cff&#x27;, &#x27;#37598cff&#x27;, &#x27;#375a8cff&#x27;, &#x27;#375a8dff&#x27;, &#x27;#375b8dff&#x27;, &#x27;#365b8dff&#x27;, &#x27;#365c8dff&#x27;, &#x27;#365c8dff&#x27;, &#x27;#365d8dff&#x27;, &#x27;#355d8dff&#x27;, &#x27;#355e8dff&#x27;, &#x27;#355f8dff&#x27;, &#x27;#355f8dff&#x27;, &#x27;#34608dff&#x27;, &#x27;#34608dff&#x27;, &#x27;#34618dff&#x27;, &#x27;#34618dff&#x27;, &#x27;#33628dff&#x27;, &#x27;#33628dff&#x27;, &#x27;#33638dff&#x27;, &#x27;#32638dff&#x27;, &#x27;#32648eff&#x27;, &#x27;#32648eff&#x27;, &#x27;#32658eff&#x27;, &#x27;#31658eff&#x27;, &#x27;#31668eff&#x27;, &#x27;#31668eff&#x27;, &#x27;#31678eff&#x27;, &#x27;#31678eff&#x27;, &#x27;#31688eff&#x27;, &#x27;#30688eff&#x27;, &#x27;#30698eff&#x27;, &#x27;#30698eff&#x27;, &#x27;#306a8eff&#x27;, &#x27;#2f6a8eff&#x27;, &#x27;#2f6b8eff&#x27;, &#x27;#2f6b8eff&#x27;, &#x27;#2f6c8eff&#x27;, &#x27;#2e6c8eff&#x27;, &#x27;#2e6d8eff&#x27;, &#x27;#2e6d8eff&#x27;, &#x27;#2e6e8eff&#x27;, &#x27;#2e6e8eff&#x27;, &#x27;#2e6f8eff&#x27;, &#x27;#2d6f8eff&#x27;, &#x27;#2d708eff&#x27;, &#x27;#2d708eff&#x27;, &#x27;#2d718eff&#x27;, &#x27;#2c718eff&#x27;, &#x27;#2c718eff&#x27;, &#x27;#2c728eff&#x27;, &#x27;#2c728eff&#x27;, &#x27;#2c738eff&#x27;, &#x27;#2c738eff&#x27;, &#x27;#2b748eff&#x27;, &#x27;#2b748eff&#x27;, &#x27;#2b758eff&#x27;, &#x27;#2b758eff&#x27;, &#x27;#2a768eff&#x27;, &#x27;#2a768eff&#x27;, &#x27;#2a778eff&#x27;, &#x27;#2a778eff&#x27;, &#x27;#2a788eff&#x27;, &#x27;#29788eff&#x27;, &#x27;#29798eff&#x27;, &#x27;#29798eff&#x27;, &#x27;#297a8eff&#x27;, &#x27;#297a8eff&#x27;, &#x27;#297b8eff&#x27;, &#x27;#287b8eff&#x27;, &#x27;#287c8eff&#x27;, &#x27;#287c8eff&#x27;, &#x27;#287d8eff&#x27;, &#x27;#277d8eff&#x27;, &#x27;#277e8eff&#x27;, &#x27;#277e8eff&#x27;, &#x27;#277f8eff&#x27;, &#x27;#277f8eff&#x27;, &#x27;#27808eff&#x27;, &#x27;#26808eff&#x27;, &#x27;#26818eff&#x27;, &#x27;#26818eff&#x27;, &#x27;#26828eff&#x27;, &#x27;#26828eff&#x27;, &#x27;#26828eff&#x27;, &#x27;#25828eff&#x27;, &#x27;#25838eff&#x27;, &#x27;#25838eff&#x27;, &#x27;#25848eff&#x27;, &#x27;#25858eff&#x27;, &#x27;#25858eff&#x27;, &#x27;#24868eff&#x27;, &#x27;#24868eff&#x27;, &#x27;#24878eff&#x27;, &#x27;#24878eff&#x27;, &#x27;#23888eff&#x27;, &#x27;#23888eff&#x27;, &#x27;#23898eff&#x27;, &#x27;#23898eff&#x27;, &#x27;#238a8dff&#x27;, &#x27;#238a8dff&#x27;, &#x27;#228b8dff&#x27;, &#x27;#228b8dff&#x27;, &#x27;#228c8dff&#x27;, &#x27;#228c8dff&#x27;, &#x27;#228d8dff&#x27;, &#x27;#218d8dff&#x27;, &#x27;#218e8dff&#x27;, &#x27;#218e8dff&#x27;, &#x27;#218f8dff&#x27;, &#x27;#218f8dff&#x27;, &#x27;#21908dff&#x27;, &#x27;#21908dff&#x27;, &#x27;#21918cff&#x27;, &#x27;#20918cff&#x27;, &#x27;#20928cff&#x27;, &#x27;#20928cff&#x27;, &#x27;#20928cff&#x27;, &#x27;#20928cff&#x27;, &#x27;#20938cff&#x27;, &#x27;#1f938cff&#x27;, &#x27;#1f948cff&#x27;, &#x27;#1f948cff&#x27;, &#x27;#1f958bff&#x27;, &#x27;#1f958bff&#x27;, &#x27;#1f968bff&#x27;, &#x27;#1f968bff&#x27;, &#x27;#1f978bff&#x27;, &#x27;#1f988bff&#x27;, &#x27;#1f988bff&#x27;, &#x27;#1f998bff&#x27;, &#x27;#1f998aff&#x27;, &#x27;#1f9a8aff&#x27;, &#x27;#1f9a8aff&#x27;, &#x27;#1e9b8aff&#x27;, &#x27;#1e9b8aff&#x27;, &#x27;#1e9c8aff&#x27;, &#x27;#1e9c89ff&#x27;, &#x27;#1e9d89ff&#x27;, &#x27;#1e9d89ff&#x27;, &#x27;#1e9e89ff&#x27;, &#x27;#1f9e89ff&#x27;, &#x27;#1f9f88ff&#x27;, &#x27;#1f9f88ff&#x27;, &#x27;#1fa088ff&#x27;, &#x27;#1fa088ff&#x27;, &#x27;#1fa188ff&#x27;, &#x27;#1fa188ff&#x27;, &#x27;#1fa187ff&#x27;, &#x27;#1fa187ff&#x27;, &#x27;#1fa287ff&#x27;, &#x27;#1fa287ff&#x27;, &#x27;#1fa386ff&#x27;, &#x27;#20a386ff&#x27;, &#x27;#20a486ff&#x27;, &#x27;#20a486ff&#x27;, &#x27;#20a585ff&#x27;, &#x27;#21a585ff&#x27;, &#x27;#21a685ff&#x27;, &#x27;#21a685ff&#x27;, &#x27;#21a785ff&#x27;, &#x27;#22a785ff&#x27;, &#x27;#22a884ff&#x27;, &#x27;#22a884ff&#x27;, &#x27;#22a983ff&#x27;, &#x27;#23a983ff&#x27;, &#x27;#23aa83ff&#x27;, &#x27;#24ab83ff&#x27;, &#x27;#25ab82ff&#x27;, &#x27;#25ac82ff&#x27;, &#x27;#25ac82ff&#x27;, &#x27;#25ad82ff&#x27;, &#x27;#26ad81ff&#x27;, &#x27;#26ad81ff&#x27;, &#x27;#27ad81ff&#x27;, &#x27;#27ae81ff&#x27;, &#x27;#28ae80ff&#x27;, &#x27;#28af80ff&#x27;, &#x27;#29af7fff&#x27;, &#x27;#29b07fff&#x27;, &#x27;#2ab07fff&#x27;, &#x27;#2bb17eff&#x27;, &#x27;#2cb17eff&#x27;, &#x27;#2cb27dff&#x27;, &#x27;#2db27dff&#x27;, &#x27;#2db37cff&#x27;, &#x27;#2eb37cff&#x27;, &#x27;#2eb47cff&#x27;, &#x27;#2fb47cff&#x27;, &#x27;#30b57bff&#x27;, &#x27;#31b57bff&#x27;, &#x27;#31b67aff&#x27;, &#x27;#32b67aff&#x27;, &#x27;#33b679ff&#x27;, &#x27;#34b679ff&#x27;, &#x27;#34b779ff&#x27;, &#x27;#35b779ff&#x27;, &#x27;#36b878ff&#x27;, &#x27;#37b878ff&#x27;, &#x27;#37b977ff&#x27;, &#x27;#38b977ff&#x27;, &#x27;#39ba76ff&#x27;, &#x27;#3aba76ff&#x27;, &#x27;#3abb75ff&#x27;, &#x27;#3bbb75ff&#x27;, &#x27;#3cbc74ff&#x27;, &#x27;#3dbc74ff&#x27;, &#x27;#3ebc73ff&#x27;, &#x27;#3fbd73ff&#x27;, &#x27;#40bd72ff&#x27;, &#x27;#40be72ff&#x27;, &#x27;#41be71ff&#x27;, &#x27;#42bf71ff&#x27;, &#x27;#43bf70ff&#x27;, &#x27;#45c070ff&#x27;, &#x27;#46c06fff&#x27;, &#x27;#47c16fff&#x27;, &#x27;#48c16eff&#x27;, &#x27;#49c16eff&#x27;, &#x27;#4ac16dff&#x27;, &#x27;#4bc26cff&#x27;, &#x27;#4cc26cff&#x27;, &#x27;#4dc36bff&#x27;, &#x27;#4ec36bff&#x27;, &#x27;#4fc46aff&#x27;, &#x27;#50c46aff&#x27;, &#x27;#51c569ff&#x27;, &#x27;#52c569ff&#x27;, &#x27;#53c568ff&#x27;, &#x27;#54c568ff&#x27;, &#x27;#55c667ff&#x27;, &#x27;#56c667ff&#x27;, &#x27;#57c766ff&#x27;, &#x27;#58c765ff&#x27;, &#x27;#59c864ff&#x27;, &#x27;#5ac864ff&#x27;, &#x27;#5bc863ff&#x27;, &#x27;#5cc863ff&#x27;, &#x27;#5dc962ff&#x27;, &#x27;#5ec962ff&#x27;, &#x27;#5fca61ff&#x27;, &#x27;#60ca60ff&#x27;, &#x27;#62cb5fff&#x27;, &#x27;#63cb5fff&#x27;, &#x27;#64cb5eff&#x27;, &#x27;#65cc5dff&#x27;, &#x27;#66cc5cff&#x27;, &#x27;#67cd5cff&#x27;, &#x27;#68cd5bff&#x27;, &#x27;#6acd5bff&#x27;, &#x27;#6bcd5aff&#x27;, &#x27;#6cce59ff&#x27;, &#x27;#6ece58ff&#x27;, &#x27;#6fcf58ff&#x27;, &#x27;#70cf57ff&#x27;, &#x27;#71d057ff&#x27;, &#x27;#72d056ff&#x27;, &#x27;#74d055ff&#x27;, &#x27;#75d054ff&#x27;, &#x27;#76d153ff&#x27;, &#x27;#77d153ff&#x27;, &#x27;#78d152ff&#x27;, &#x27;#7ad151ff&#x27;, &#x27;#7bd250ff&#x27;, &#x27;#7cd250ff&#x27;, &#x27;#7dd34fff&#x27;, &#x27;#7fd34eff&#x27;, &#x27;#80d34dff&#x27;, &#x27;#81d34dff&#x27;, &#x27;#82d44cff&#x27;, &#x27;#84d44bff&#x27;, &#x27;#85d54aff&#x27;, &#x27;#86d549ff&#x27;, &#x27;#88d548ff&#x27;, &#x27;#89d548ff&#x27;, &#x27;#8ad647ff&#x27;, &#x27;#8bd646ff&#x27;, &#x27;#8dd645ff&#x27;, &#x27;#8ed645ff&#x27;, &#x27;#8fd744ff&#x27;, &#x27;#90d743ff&#x27;, &#x27;#92d742ff&#x27;, &#x27;#93d741ff&#x27;, &#x27;#94d840ff&#x27;, &#x27;#96d83fff&#x27;, &#x27;#97d83eff&#x27;, &#x27;#99d93dff&#x27;, &#x27;#9ad93cff&#x27;, &#x27;#9bd93cff&#x27;, &#x27;#9dd93bff&#x27;, &#x27;#9eda3aff&#x27;, &#x27;#9fda39ff&#x27;, &#x27;#a1da38ff&#x27;, &#x27;#a2da37ff&#x27;, &#x27;#a3db36ff&#x27;, &#x27;#a4db36ff&#x27;, &#x27;#a6db35ff&#x27;, &#x27;#a8db34ff&#x27;, &#x27;#a9dc33ff&#x27;, &#x27;#aadc32ff&#x27;, &#x27;#abdc31ff&#x27;, &#x27;#addc30ff&#x27;, &#x27;#aedd2fff&#x27;, &#x27;#b0dd2fff&#x27;, &#x27;#b1dd2eff&#x27;, &#x27;#b2dd2dff&#x27;, &#x27;#b3de2cff&#x27;, &#x27;#b5de2bff&#x27;, &#x27;#b6de2aff&#x27;, &#x27;#b8de29ff&#x27;, &#x27;#b9de28ff&#x27;, &#x27;#bade28ff&#x27;, &#x27;#bcdf27ff&#x27;, &#x27;#bddf26ff&#x27;, &#x27;#bfdf25ff&#x27;, &#x27;#c0df25ff&#x27;, &#x27;#c1df24ff&#x27;, &#x27;#c2df23ff&#x27;, &#x27;#c4e022ff&#x27;, &#x27;#c5e021ff&#x27;, &#x27;#c7e020ff&#x27;, &#x27;#c8e020ff&#x27;, &#x27;#c9e11fff&#x27;, &#x27;#cbe11eff&#x27;, &#x27;#cce11dff&#x27;, &#x27;#cee11dff&#x27;, &#x27;#cfe11cff&#x27;, &#x27;#d1e11bff&#x27;, &#x27;#d2e21bff&#x27;, &#x27;#d3e21aff&#x27;, &#x27;#d4e21aff&#x27;, &#x27;#d6e219ff&#x27;, &#x27;#d7e219ff&#x27;, &#x27;#d9e319ff&#x27;, &#x27;#dae319ff&#x27;, &#x27;#dbe318ff&#x27;, &#x27;#dde318ff&#x27;, &#x27;#dee318ff&#x27;, &#x27;#dfe318ff&#x27;, &#x27;#e0e418ff&#x27;, &#x27;#e2e418ff&#x27;, &#x27;#e3e418ff&#x27;, &#x27;#e5e418ff&#x27;, &#x27;#e6e419ff&#x27;, &#x27;#e7e419ff&#x27;, &#x27;#e8e519ff&#x27;, &#x27;#eae519ff&#x27;, &#x27;#ebe51aff&#x27;, &#x27;#ece51aff&#x27;, &#x27;#ede51bff&#x27;, &#x27;#efe51bff&#x27;, &#x27;#f0e51cff&#x27;, &#x27;#f1e51dff&#x27;, &#x27;#f3e61dff&#x27;, &#x27;#f4e61eff&#x27;, &#x27;#f5e61eff&#x27;, &#x27;#f6e61fff&#x27;, &#x27;#f7e620ff&#x27;, &#x27;#f8e621ff&#x27;, &#x27;#fae722ff&#x27;, &#x27;#fbe723ff&#x27;, &#x27;#fce724ff&#x27;, &#x27;#fde725ff&#x27;]);\n",
       "    \n",
       "\n",
       "    color_map_441b83594244d57cd537093b3180bde0.x = d3.scale.linear()\n",
       "              .domain([-1.078, 2.3229999999999995])\n",
       "              .range([0, 450 - 50]);\n",
       "\n",
       "    color_map_441b83594244d57cd537093b3180bde0.legend = L.control({position: &#x27;topright&#x27;});\n",
       "    color_map_441b83594244d57cd537093b3180bde0.legend.onAdd = function (map) {var div = L.DomUtil.create(&#x27;div&#x27;, &#x27;legend&#x27;); return div};\n",
       "    color_map_441b83594244d57cd537093b3180bde0.legend.addTo(map_b370fc946bffb94ed155ee6f9d131b80);\n",
       "\n",
       "    color_map_441b83594244d57cd537093b3180bde0.xAxis = d3.svg.axis()\n",
       "        .scale(color_map_441b83594244d57cd537093b3180bde0.x)\n",
       "        .orient(&quot;top&quot;)\n",
       "        .tickSize(1)\n",
       "        .tickValues([-1.078, &#x27;&#x27;, &#x27;&#x27;, &#x27;&#x27;, &#x27;&#x27;, &#x27;&#x27;, &#x27;&#x27;, &#x27;&#x27;, &#x27;&#x27;, &#x27;&#x27;, &#x27;&#x27;, &#x27;&#x27;, &#x27;&#x27;, &#x27;&#x27;, &#x27;&#x27;, &#x27;&#x27;, &#x27;&#x27;, &#x27;&#x27;, &#x27;&#x27;, &#x27;&#x27;, &#x27;&#x27;, &#x27;&#x27;, &#x27;&#x27;, &#x27;&#x27;, &#x27;&#x27;, &#x27;&#x27;, -0.7312313725490197, &#x27;&#x27;, &#x27;&#x27;, &#x27;&#x27;, &#x27;&#x27;, &#x27;&#x27;, &#x27;&#x27;, &#x27;&#x27;, &#x27;&#x27;, &#x27;&#x27;, &#x27;&#x27;, &#x27;&#x27;, &#x27;&#x27;, &#x27;&#x27;, &#x27;&#x27;, &#x27;&#x27;, &#x27;&#x27;, &#x27;&#x27;, &#x27;&#x27;, &#x27;&#x27;, &#x27;&#x27;, &#x27;&#x27;, &#x27;&#x27;, &#x27;&#x27;, &#x27;&#x27;, &#x27;&#x27;, -0.38446274509803935, &#x27;&#x27;, &#x27;&#x27;, &#x27;&#x27;, &#x27;&#x27;, &#x27;&#x27;, &#x27;&#x27;, &#x27;&#x27;, &#x27;&#x27;, &#x27;&#x27;, &#x27;&#x27;, &#x27;&#x27;, &#x27;&#x27;, &#x27;&#x27;, &#x27;&#x27;, &#x27;&#x27;, &#x27;&#x27;, &#x27;&#x27;, &#x27;&#x27;, &#x27;&#x27;, &#x27;&#x27;, &#x27;&#x27;, &#x27;&#x27;, &#x27;&#x27;, &#x27;&#x27;, &#x27;&#x27;, -0.0376941176470591, &#x27;&#x27;, &#x27;&#x27;, &#x27;&#x27;, &#x27;&#x27;, &#x27;&#x27;, &#x27;&#x27;, &#x27;&#x27;, &#x27;&#x27;, &#x27;&#x27;, &#x27;&#x27;, &#x27;&#x27;, &#x27;&#x27;, &#x27;&#x27;, &#x27;&#x27;, &#x27;&#x27;, &#x27;&#x27;, &#x27;&#x27;, &#x27;&#x27;, &#x27;&#x27;, &#x27;&#x27;, &#x27;&#x27;, &#x27;&#x27;, &#x27;&#x27;, &#x27;&#x27;, &#x27;&#x27;, 0.30907450980392137, &#x27;&#x27;, &#x27;&#x27;, &#x27;&#x27;, &#x27;&#x27;, &#x27;&#x27;, &#x27;&#x27;, &#x27;&#x27;, &#x27;&#x27;, &#x27;&#x27;, &#x27;&#x27;, &#x27;&#x27;, &#x27;&#x27;, &#x27;&#x27;, &#x27;&#x27;, &#x27;&#x27;, &#x27;&#x27;, &#x27;&#x27;, &#x27;&#x27;, &#x27;&#x27;, &#x27;&#x27;, &#x27;&#x27;, &#x27;&#x27;, &#x27;&#x27;, &#x27;&#x27;, &#x27;&#x27;, 0.6558431372549018, &#x27;&#x27;, &#x27;&#x27;, &#x27;&#x27;, &#x27;&#x27;, &#x27;&#x27;, &#x27;&#x27;, &#x27;&#x27;, &#x27;&#x27;, &#x27;&#x27;, &#x27;&#x27;, &#x27;&#x27;, &#x27;&#x27;, &#x27;&#x27;, &#x27;&#x27;, &#x27;&#x27;, &#x27;&#x27;, &#x27;&#x27;, &#x27;&#x27;, &#x27;&#x27;, &#x27;&#x27;, &#x27;&#x27;, &#x27;&#x27;, &#x27;&#x27;, &#x27;&#x27;, &#x27;&#x27;, 1.0026117647058819, &#x27;&#x27;, &#x27;&#x27;, &#x27;&#x27;, &#x27;&#x27;, &#x27;&#x27;, &#x27;&#x27;, &#x27;&#x27;, &#x27;&#x27;, &#x27;&#x27;, &#x27;&#x27;, &#x27;&#x27;, &#x27;&#x27;, &#x27;&#x27;, &#x27;&#x27;, &#x27;&#x27;, &#x27;&#x27;, &#x27;&#x27;, &#x27;&#x27;, &#x27;&#x27;, &#x27;&#x27;, &#x27;&#x27;, &#x27;&#x27;, &#x27;&#x27;, &#x27;&#x27;, &#x27;&#x27;, 1.3493803921568623, &#x27;&#x27;, &#x27;&#x27;, &#x27;&#x27;, &#x27;&#x27;, &#x27;&#x27;, &#x27;&#x27;, &#x27;&#x27;, &#x27;&#x27;, &#x27;&#x27;, &#x27;&#x27;, &#x27;&#x27;, &#x27;&#x27;, &#x27;&#x27;, &#x27;&#x27;, &#x27;&#x27;, &#x27;&#x27;, &#x27;&#x27;, &#x27;&#x27;, &#x27;&#x27;, &#x27;&#x27;, &#x27;&#x27;, &#x27;&#x27;, &#x27;&#x27;, &#x27;&#x27;, &#x27;&#x27;, 1.6961490196078428, &#x27;&#x27;, &#x27;&#x27;, &#x27;&#x27;, &#x27;&#x27;, &#x27;&#x27;, &#x27;&#x27;, &#x27;&#x27;, &#x27;&#x27;, &#x27;&#x27;, &#x27;&#x27;, &#x27;&#x27;, &#x27;&#x27;, &#x27;&#x27;, &#x27;&#x27;, &#x27;&#x27;, &#x27;&#x27;, &#x27;&#x27;, &#x27;&#x27;, &#x27;&#x27;, &#x27;&#x27;, &#x27;&#x27;, &#x27;&#x27;, &#x27;&#x27;, &#x27;&#x27;, &#x27;&#x27;, 2.0429176470588235, &#x27;&#x27;, &#x27;&#x27;, &#x27;&#x27;, &#x27;&#x27;, &#x27;&#x27;, &#x27;&#x27;, &#x27;&#x27;, &#x27;&#x27;, &#x27;&#x27;, &#x27;&#x27;, &#x27;&#x27;, &#x27;&#x27;, &#x27;&#x27;, &#x27;&#x27;, &#x27;&#x27;, &#x27;&#x27;, &#x27;&#x27;, &#x27;&#x27;, &#x27;&#x27;, &#x27;&#x27;, &#x27;&#x27;, &#x27;&#x27;, &#x27;&#x27;, &#x27;&#x27;, &#x27;&#x27;]);\n",
       "\n",
       "    color_map_441b83594244d57cd537093b3180bde0.svg = d3.select(&quot;.legend.leaflet-control&quot;).append(&quot;svg&quot;)\n",
       "        .attr(&quot;id&quot;, &#x27;legend&#x27;)\n",
       "        .attr(&quot;width&quot;, 450)\n",
       "        .attr(&quot;height&quot;, 40);\n",
       "\n",
       "    color_map_441b83594244d57cd537093b3180bde0.g = color_map_441b83594244d57cd537093b3180bde0.svg.append(&quot;g&quot;)\n",
       "        .attr(&quot;class&quot;, &quot;key&quot;)\n",
       "        .attr(&quot;fill&quot;, &quot;black&quot;)\n",
       "        .attr(&quot;transform&quot;, &quot;translate(25,16)&quot;);\n",
       "\n",
       "    color_map_441b83594244d57cd537093b3180bde0.g.selectAll(&quot;rect&quot;)\n",
       "        .data(color_map_441b83594244d57cd537093b3180bde0.color.range().map(function(d, i) {\n",
       "          return {\n",
       "            x0: i ? color_map_441b83594244d57cd537093b3180bde0.x(color_map_441b83594244d57cd537093b3180bde0.color.domain()[i - 1]) : color_map_441b83594244d57cd537093b3180bde0.x.range()[0],\n",
       "            x1: i &lt; color_map_441b83594244d57cd537093b3180bde0.color.domain().length ? color_map_441b83594244d57cd537093b3180bde0.x(color_map_441b83594244d57cd537093b3180bde0.color.domain()[i]) : color_map_441b83594244d57cd537093b3180bde0.x.range()[1],\n",
       "            z: d\n",
       "          };\n",
       "        }))\n",
       "      .enter().append(&quot;rect&quot;)\n",
       "        .attr(&quot;height&quot;, 40 - 30)\n",
       "        .attr(&quot;x&quot;, function(d) { return d.x0; })\n",
       "        .attr(&quot;width&quot;, function(d) { return d.x1 - d.x0; })\n",
       "        .style(&quot;fill&quot;, function(d) { return d.z; });\n",
       "\n",
       "    color_map_441b83594244d57cd537093b3180bde0.g.call(color_map_441b83594244d57cd537093b3180bde0.xAxis).append(&quot;text&quot;)\n",
       "        .attr(&quot;class&quot;, &quot;caption&quot;)\n",
       "        .attr(&quot;y&quot;, 21)\n",
       "        .attr(&quot;fill&quot;, &quot;black&quot;)\n",
       "        .text(&quot;elevation&quot;);\n",
       "    \n",
       "        function geo_json_9c9032d3f3fd2eda65d9ca87bd3d6717_styler(feature) {\n",
       "            switch(feature.id) {\n",
       "                default:\n",
       "                    return {&quot;fillOpacity&quot;: 0.5, &quot;weight&quot;: 2};\n",
       "            }\n",
       "        }\n",
       "        function geo_json_9c9032d3f3fd2eda65d9ca87bd3d6717_highlighter(feature) {\n",
       "            switch(feature.id) {\n",
       "                default:\n",
       "                    return {&quot;fillOpacity&quot;: 0.75};\n",
       "            }\n",
       "        }\n",
       "        function geo_json_9c9032d3f3fd2eda65d9ca87bd3d6717_pointToLayer(feature, latlng) {\n",
       "            var opts = {&quot;bubblingMouseEvents&quot;: true, &quot;color&quot;: &quot;#3388ff&quot;, &quot;dashArray&quot;: null, &quot;dashOffset&quot;: null, &quot;fill&quot;: true, &quot;fillColor&quot;: &quot;#3388ff&quot;, &quot;fillOpacity&quot;: 0.2, &quot;fillRule&quot;: &quot;evenodd&quot;, &quot;lineCap&quot;: &quot;round&quot;, &quot;lineJoin&quot;: &quot;round&quot;, &quot;opacity&quot;: 1.0, &quot;radius&quot;: 2, &quot;stroke&quot;: true, &quot;weight&quot;: 3};\n",
       "            \n",
       "            let style = geo_json_9c9032d3f3fd2eda65d9ca87bd3d6717_styler(feature)\n",
       "            Object.assign(opts, style)\n",
       "            \n",
       "            return new L.CircleMarker(latlng, opts)\n",
       "        }\n",
       "\n",
       "        function geo_json_9c9032d3f3fd2eda65d9ca87bd3d6717_onEachFeature(feature, layer) {\n",
       "            layer.on({\n",
       "                mouseout: function(e) {\n",
       "                    if(typeof e.target.setStyle === &quot;function&quot;){\n",
       "                            geo_json_9c9032d3f3fd2eda65d9ca87bd3d6717.resetStyle(e.target);\n",
       "                    }\n",
       "                },\n",
       "                mouseover: function(e) {\n",
       "                    if(typeof e.target.setStyle === &quot;function&quot;){\n",
       "                        const highlightStyle = geo_json_9c9032d3f3fd2eda65d9ca87bd3d6717_highlighter(e.target.feature)\n",
       "                        e.target.setStyle(highlightStyle);\n",
       "                    }\n",
       "                },\n",
       "            });\n",
       "        };\n",
       "        var geo_json_9c9032d3f3fd2eda65d9ca87bd3d6717 = L.geoJson(null, {\n",
       "                onEachFeature: geo_json_9c9032d3f3fd2eda65d9ca87bd3d6717_onEachFeature,\n",
       "            \n",
       "                style: geo_json_9c9032d3f3fd2eda65d9ca87bd3d6717_styler,\n",
       "                pointToLayer: geo_json_9c9032d3f3fd2eda65d9ca87bd3d6717_pointToLayer,\n",
       "            ...{\n",
       "}\n",
       "        });\n",
       "\n",
       "        function geo_json_9c9032d3f3fd2eda65d9ca87bd3d6717_add (data) {\n",
       "            geo_json_9c9032d3f3fd2eda65d9ca87bd3d6717\n",
       "                .addData(data);\n",
       "        }\n",
       "            geo_json_9c9032d3f3fd2eda65d9ca87bd3d6717_add({&quot;bbox&quot;: [9.176120046214436, 39.2129750929826, 9.176120046214436, 39.2129750929826], &quot;features&quot;: [{&quot;bbox&quot;: [9.176120046214436, 39.2129750929826, 9.176120046214436, 39.2129750929826], &quot;geometry&quot;: {&quot;coordinates&quot;: [9.176120046214436, 39.2129750929826], &quot;type&quot;: &quot;Point&quot;}, &quot;id&quot;: &quot;767&quot;, &quot;properties&quot;: {}, &quot;type&quot;: &quot;Feature&quot;}], &quot;type&quot;: &quot;FeatureCollection&quot;});\n",
       "\n",
       "        \n",
       "    \n",
       "    geo_json_9c9032d3f3fd2eda65d9ca87bd3d6717.bindTooltip(\n",
       "    function(layer){\n",
       "    let div = L.DomUtil.create(&#x27;div&#x27;);\n",
       "    \n",
       "    return div\n",
       "    }\n",
       "    ,{\n",
       "  &quot;sticky&quot;: true,\n",
       "  &quot;className&quot;: &quot;foliumtooltip&quot;,\n",
       "});\n",
       "                     \n",
       "    \n",
       "            geo_json_9c9032d3f3fd2eda65d9ca87bd3d6717.addTo(map_b370fc946bffb94ed155ee6f9d131b80);\n",
       "        \n",
       "&lt;/script&gt;\n",
       "&lt;/html&gt;\" style=\"position:absolute;width:100%;height:100%;left:0;top:0;border:none !important;\" allowfullscreen webkitallowfullscreen mozallowfullscreen></iframe></div></div>"
      ],
      "text/plain": [
       "<folium.folium.Map at 0x7c4868af4980>"
      ]
     },
     "execution_count": 5,
     "metadata": {},
     "output_type": "execute_result"
    }
   ],
   "source": [
    "df = pd.read_csv(files[0], sep=\";\", names=[\"lat\", \"lng\", \"elevation\"])\n",
    "df = gpd.GeoDataFrame(df, geometry=gpd.points_from_xy(df.lng, df.lat), crs=32632)\n",
    "m = df.explore(\"elevation\")\n",
    "gpd.GeoSeries(intersects[transect_id])[intersects.dates == \"2017-01-25 10:06:38+00:00\"].explore(m=m)"
   ]
  },
  {
   "cell_type": "code",
   "execution_count": 70,
   "metadata": {},
   "outputs": [
    {
     "data": {
      "text/html": [
       "<pre>✔️ 286 ms (2025-04-10T13:20:13/2025-04-10T13:20:13)</pre>"
      ],
      "text/plain": [
       "<IPython.core.display.HTML object>"
      ]
     },
     "metadata": {},
     "output_type": "display_data"
    },
    {
     "name": "stderr",
     "output_type": "stream",
     "text": [
      "/tmp/ipykernel_159161/2174370178.py:52: ParserWarning:\n",
      "\n",
      "Length of header or names does not match length of data. This leads to a loss of data with index_col=False.\n",
      "\n",
      "/tmp/ipykernel_159161/2174370178.py:52: ParserWarning:\n",
      "\n",
      "Length of header or names does not match length of data. This leads to a loss of data with index_col=False.\n",
      "\n",
      "/tmp/ipykernel_159161/2174370178.py:52: ParserWarning:\n",
      "\n",
      "Length of header or names does not match length of data. This leads to a loss of data with index_col=False.\n",
      "\n",
      "/tmp/ipykernel_159161/2174370178.py:52: ParserWarning:\n",
      "\n",
      "Length of header or names does not match length of data. This leads to a loss of data with index_col=False.\n",
      "\n",
      "/tmp/ipykernel_159161/2174370178.py:52: ParserWarning:\n",
      "\n",
      "Length of header or names does not match length of data. This leads to a loss of data with index_col=False.\n",
      "\n",
      "/tmp/ipykernel_159161/2174370178.py:52: ParserWarning:\n",
      "\n",
      "Length of header or names does not match length of data. This leads to a loss of data with index_col=False.\n",
      "\n",
      "/tmp/ipykernel_159161/2174370178.py:52: ParserWarning:\n",
      "\n",
      "Length of header or names does not match length of data. This leads to a loss of data with index_col=False.\n",
      "\n",
      "/tmp/ipykernel_159161/2174370178.py:52: ParserWarning:\n",
      "\n",
      "Length of header or names does not match length of data. This leads to a loss of data with index_col=False.\n",
      "\n",
      "/tmp/ipykernel_159161/2174370178.py:52: ParserWarning:\n",
      "\n",
      "Length of header or names does not match length of data. This leads to a loss of data with index_col=False.\n",
      "\n",
      "/tmp/ipykernel_159161/2174370178.py:52: ParserWarning:\n",
      "\n",
      "Length of header or names does not match length of data. This leads to a loss of data with index_col=False.\n",
      "\n",
      "/tmp/ipykernel_159161/2174370178.py:52: ParserWarning:\n",
      "\n",
      "Length of header or names does not match length of data. This leads to a loss of data with index_col=False.\n",
      "\n",
      "/tmp/ipykernel_159161/2174370178.py:52: ParserWarning:\n",
      "\n",
      "Length of header or names does not match length of data. This leads to a loss of data with index_col=False.\n",
      "\n",
      "/tmp/ipykernel_159161/2174370178.py:52: ParserWarning:\n",
      "\n",
      "Length of header or names does not match length of data. This leads to a loss of data with index_col=False.\n",
      "\n"
     ]
    },
    {
     "data": {
      "text/html": [
       "<div>\n",
       "<style scoped>\n",
       "    .dataframe tbody tr th:only-of-type {\n",
       "        vertical-align: middle;\n",
       "    }\n",
       "\n",
       "    .dataframe tbody tr th {\n",
       "        vertical-align: top;\n",
       "    }\n",
       "\n",
       "    .dataframe thead th {\n",
       "        text-align: right;\n",
       "    }\n",
       "</style>\n",
       "<table border=\"1\" class=\"dataframe\">\n",
       "  <thead>\n",
       "    <tr style=\"text-align: right;\">\n",
       "      <th></th>\n",
       "      <th>date</th>\n",
       "      <th>site</th>\n",
       "      <th>lat</th>\n",
       "      <th>lng</th>\n",
       "      <th>origin_lat</th>\n",
       "      <th>origin_lng</th>\n",
       "      <th>dist_from_origin</th>\n",
       "      <th>geometry</th>\n",
       "    </tr>\n",
       "  </thead>\n",
       "  <tbody>\n",
       "    <tr>\n",
       "      <th>0</th>\n",
       "      <td>2017-01-25</td>\n",
       "      <td>T7</td>\n",
       "      <td>4.340424e+06</td>\n",
       "      <td>5.151973e+05</td>\n",
       "      <td>4.340509e+06</td>\n",
       "      <td>5.151222e+05</td>\n",
       "      <td>113.657573</td>\n",
       "      <td>POINT (515122.167 4340508.834)</td>\n",
       "    </tr>\n",
       "    <tr>\n",
       "      <th>1</th>\n",
       "      <td>2017-04-06</td>\n",
       "      <td>T3</td>\n",
       "      <td>4.339303e+06</td>\n",
       "      <td>5.141540e+05</td>\n",
       "      <td>4.339361e+06</td>\n",
       "      <td>5.140721e+05</td>\n",
       "      <td>99.920179</td>\n",
       "      <td>POINT (514072.113 4339360.512)</td>\n",
       "    </tr>\n",
       "    <tr>\n",
       "      <th>2</th>\n",
       "      <td>2017-04-06</td>\n",
       "      <td>T7</td>\n",
       "      <td>4.340489e+06</td>\n",
       "      <td>5.152692e+05</td>\n",
       "      <td>4.340568e+06</td>\n",
       "      <td>5.152032e+05</td>\n",
       "      <td>102.916636</td>\n",
       "      <td>POINT (515203.246 4340568.068)</td>\n",
       "    </tr>\n",
       "    <tr>\n",
       "      <th>3</th>\n",
       "      <td>2018-10-09</td>\n",
       "      <td>T3</td>\n",
       "      <td>4.339309e+06</td>\n",
       "      <td>5.141474e+05</td>\n",
       "      <td>4.339360e+06</td>\n",
       "      <td>5.140721e+05</td>\n",
       "      <td>91.277891</td>\n",
       "      <td>POINT (514072.1 4339360.293)</td>\n",
       "    </tr>\n",
       "    <tr>\n",
       "      <th>4</th>\n",
       "      <td>2018-10-09</td>\n",
       "      <td>T7</td>\n",
       "      <td>4.340426e+06</td>\n",
       "      <td>5.151952e+05</td>\n",
       "      <td>4.340508e+06</td>\n",
       "      <td>5.151228e+05</td>\n",
       "      <td>109.484944</td>\n",
       "      <td>POINT (515122.812 4340508.414)</td>\n",
       "    </tr>\n",
       "    <tr>\n",
       "      <th>5</th>\n",
       "      <td>2018-10-19</td>\n",
       "      <td>T3</td>\n",
       "      <td>4.340427e+06</td>\n",
       "      <td>5.151934e+05</td>\n",
       "      <td>4.340509e+06</td>\n",
       "      <td>5.151234e+05</td>\n",
       "      <td>107.668513</td>\n",
       "      <td>POINT (515123.386 4340509.211)</td>\n",
       "    </tr>\n",
       "    <tr>\n",
       "      <th>6</th>\n",
       "      <td>2018-10-19</td>\n",
       "      <td>T7</td>\n",
       "      <td>4.340427e+06</td>\n",
       "      <td>5.151934e+05</td>\n",
       "      <td>4.340509e+06</td>\n",
       "      <td>5.151234e+05</td>\n",
       "      <td>107.668513</td>\n",
       "      <td>POINT (515123.386 4340509.211)</td>\n",
       "    </tr>\n",
       "    <tr>\n",
       "      <th>7</th>\n",
       "      <td>2019-05-21</td>\n",
       "      <td>T7</td>\n",
       "      <td>4.340428e+06</td>\n",
       "      <td>5.151927e+05</td>\n",
       "      <td>4.340500e+06</td>\n",
       "      <td>5.151305e+05</td>\n",
       "      <td>94.671565</td>\n",
       "      <td>POINT (515130.492 4340499.69)</td>\n",
       "    </tr>\n",
       "    <tr>\n",
       "      <th>8</th>\n",
       "      <td>2020-01-20</td>\n",
       "      <td>T3</td>\n",
       "      <td>4.339322e+06</td>\n",
       "      <td>5.141479e+05</td>\n",
       "      <td>4.339360e+06</td>\n",
       "      <td>5.140717e+05</td>\n",
       "      <td>85.276950</td>\n",
       "      <td>POINT (514071.697 4339360.126)</td>\n",
       "    </tr>\n",
       "    <tr>\n",
       "      <th>9</th>\n",
       "      <td>2020-01-20</td>\n",
       "      <td>T7</td>\n",
       "      <td>4.340427e+06</td>\n",
       "      <td>5.151918e+05</td>\n",
       "      <td>4.340510e+06</td>\n",
       "      <td>5.151242e+05</td>\n",
       "      <td>106.644953</td>\n",
       "      <td>POINT (515124.157 4340509.72)</td>\n",
       "    </tr>\n",
       "    <tr>\n",
       "      <th>10</th>\n",
       "      <td>2020-01-27</td>\n",
       "      <td>T3</td>\n",
       "      <td>4.339318e+06</td>\n",
       "      <td>5.141480e+05</td>\n",
       "      <td>4.339360e+06</td>\n",
       "      <td>5.140718e+05</td>\n",
       "      <td>87.176632</td>\n",
       "      <td>POINT (514071.824 4339360.383)</td>\n",
       "    </tr>\n",
       "    <tr>\n",
       "      <th>11</th>\n",
       "      <td>2020-01-27</td>\n",
       "      <td>T7</td>\n",
       "      <td>4.340429e+06</td>\n",
       "      <td>5.151905e+05</td>\n",
       "      <td>4.340510e+06</td>\n",
       "      <td>5.151241e+05</td>\n",
       "      <td>104.856916</td>\n",
       "      <td>POINT (515124.081 4340509.693)</td>\n",
       "    </tr>\n",
       "    <tr>\n",
       "      <th>12</th>\n",
       "      <td>2020-03-28</td>\n",
       "      <td>T3</td>\n",
       "      <td>4.339325e+06</td>\n",
       "      <td>5.141470e+05</td>\n",
       "      <td>4.339314e+06</td>\n",
       "      <td>5.141650e+05</td>\n",
       "      <td>83.181277</td>\n",
       "      <td>POINT (514165.039 4339313.586)</td>\n",
       "    </tr>\n",
       "    <tr>\n",
       "      <th>13</th>\n",
       "      <td>2020-03-28</td>\n",
       "      <td>T7</td>\n",
       "      <td>4.340474e+06</td>\n",
       "      <td>5.151531e+05</td>\n",
       "      <td>4.340510e+06</td>\n",
       "      <td>5.151241e+05</td>\n",
       "      <td>45.902431</td>\n",
       "      <td>POINT (515124.069 4340509.614)</td>\n",
       "    </tr>\n",
       "    <tr>\n",
       "      <th>14</th>\n",
       "      <td>2020-05-04</td>\n",
       "      <td>T3</td>\n",
       "      <td>4.339320e+06</td>\n",
       "      <td>5.141482e+05</td>\n",
       "      <td>4.339360e+06</td>\n",
       "      <td>5.140718e+05</td>\n",
       "      <td>86.337522</td>\n",
       "      <td>POINT (514071.845 4339360.441)</td>\n",
       "    </tr>\n",
       "    <tr>\n",
       "      <th>15</th>\n",
       "      <td>2020-05-04</td>\n",
       "      <td>T7</td>\n",
       "      <td>4.340426e+06</td>\n",
       "      <td>5.151922e+05</td>\n",
       "      <td>4.340510e+06</td>\n",
       "      <td>5.151241e+05</td>\n",
       "      <td>107.845655</td>\n",
       "      <td>POINT (515124.06 4340509.633)</td>\n",
       "    </tr>\n",
       "    <tr>\n",
       "      <th>16</th>\n",
       "      <td>2022-11-21</td>\n",
       "      <td>NE</td>\n",
       "      <td>4.340558e+06</td>\n",
       "      <td>5.153495e+05</td>\n",
       "      <td>4.339242e+06</td>\n",
       "      <td>5.140613e+05</td>\n",
       "      <td>1841.496424</td>\n",
       "      <td>POINT (514061.347 4339241.74)</td>\n",
       "    </tr>\n",
       "    <tr>\n",
       "      <th>17</th>\n",
       "      <td>2022-11-21</td>\n",
       "      <td>T3</td>\n",
       "      <td>4.339326e+06</td>\n",
       "      <td>5.141395e+05</td>\n",
       "      <td>4.339361e+06</td>\n",
       "      <td>5.140718e+05</td>\n",
       "      <td>76.000602</td>\n",
       "      <td>POINT (514071.835 4339360.614)</td>\n",
       "    </tr>\n",
       "    <tr>\n",
       "      <th>18</th>\n",
       "      <td>2022-11-21</td>\n",
       "      <td>T7</td>\n",
       "      <td>4.340428e+06</td>\n",
       "      <td>5.151912e+05</td>\n",
       "      <td>4.340510e+06</td>\n",
       "      <td>5.151240e+05</td>\n",
       "      <td>105.717477</td>\n",
       "      <td>POINT (515123.984 4340509.612)</td>\n",
       "    </tr>\n",
       "    <tr>\n",
       "      <th>19</th>\n",
       "      <td>2023-06-09</td>\n",
       "      <td>T3</td>\n",
       "      <td>4.339326e+06</td>\n",
       "      <td>5.141397e+05</td>\n",
       "      <td>4.339360e+06</td>\n",
       "      <td>5.140717e+05</td>\n",
       "      <td>76.258911</td>\n",
       "      <td>POINT (514071.726 4339360.3)</td>\n",
       "    </tr>\n",
       "    <tr>\n",
       "      <th>20</th>\n",
       "      <td>2023-06-09</td>\n",
       "      <td>T7</td>\n",
       "      <td>4.340424e+06</td>\n",
       "      <td>5.151936e+05</td>\n",
       "      <td>4.340510e+06</td>\n",
       "      <td>5.151242e+05</td>\n",
       "      <td>110.345087</td>\n",
       "      <td>POINT (515124.212 4340509.721)</td>\n",
       "    </tr>\n",
       "    <tr>\n",
       "      <th>21</th>\n",
       "      <td>2024-06-20</td>\n",
       "      <td>T3</td>\n",
       "      <td>4.339326e+06</td>\n",
       "      <td>5.141383e+05</td>\n",
       "      <td>4.339360e+06</td>\n",
       "      <td>5.140714e+05</td>\n",
       "      <td>75.114550</td>\n",
       "      <td>POINT (514071.419 4339360.489)</td>\n",
       "    </tr>\n",
       "    <tr>\n",
       "      <th>22</th>\n",
       "      <td>2024-06-20</td>\n",
       "      <td>T7</td>\n",
       "      <td>4.340424e+06</td>\n",
       "      <td>5.151935e+05</td>\n",
       "      <td>4.340508e+06</td>\n",
       "      <td>5.151220e+05</td>\n",
       "      <td>110.167544</td>\n",
       "      <td>POINT (515122.032 4340508.228)</td>\n",
       "    </tr>\n",
       "    <tr>\n",
       "      <th>23</th>\n",
       "      <td>2025-01-20</td>\n",
       "      <td>T3</td>\n",
       "      <td>5.141382e+05</td>\n",
       "      <td>4.339326e+06</td>\n",
       "      <td>5.140713e+05</td>\n",
       "      <td>4.339360e+06</td>\n",
       "      <td>75.300896</td>\n",
       "      <td>POINT (4339360.353 514071.284)</td>\n",
       "    </tr>\n",
       "    <tr>\n",
       "      <th>24</th>\n",
       "      <td>2025-01-20</td>\n",
       "      <td>T7</td>\n",
       "      <td>5.151924e+05</td>\n",
       "      <td>4.340426e+06</td>\n",
       "      <td>5.151239e+05</td>\n",
       "      <td>4.340510e+06</td>\n",
       "      <td>108.204432</td>\n",
       "      <td>POINT (4340510.114 515123.904)</td>\n",
       "    </tr>\n",
       "  </tbody>\n",
       "</table>\n",
       "</div>"
      ],
      "text/plain": [
       "         date site           lat           lng    origin_lat    origin_lng  \\\n",
       "0  2017-01-25   T7  4.340424e+06  5.151973e+05  4.340509e+06  5.151222e+05   \n",
       "1  2017-04-06   T3  4.339303e+06  5.141540e+05  4.339361e+06  5.140721e+05   \n",
       "2  2017-04-06   T7  4.340489e+06  5.152692e+05  4.340568e+06  5.152032e+05   \n",
       "3  2018-10-09   T3  4.339309e+06  5.141474e+05  4.339360e+06  5.140721e+05   \n",
       "4  2018-10-09   T7  4.340426e+06  5.151952e+05  4.340508e+06  5.151228e+05   \n",
       "5  2018-10-19   T3  4.340427e+06  5.151934e+05  4.340509e+06  5.151234e+05   \n",
       "6  2018-10-19   T7  4.340427e+06  5.151934e+05  4.340509e+06  5.151234e+05   \n",
       "7  2019-05-21   T7  4.340428e+06  5.151927e+05  4.340500e+06  5.151305e+05   \n",
       "8  2020-01-20   T3  4.339322e+06  5.141479e+05  4.339360e+06  5.140717e+05   \n",
       "9  2020-01-20   T7  4.340427e+06  5.151918e+05  4.340510e+06  5.151242e+05   \n",
       "10 2020-01-27   T3  4.339318e+06  5.141480e+05  4.339360e+06  5.140718e+05   \n",
       "11 2020-01-27   T7  4.340429e+06  5.151905e+05  4.340510e+06  5.151241e+05   \n",
       "12 2020-03-28   T3  4.339325e+06  5.141470e+05  4.339314e+06  5.141650e+05   \n",
       "13 2020-03-28   T7  4.340474e+06  5.151531e+05  4.340510e+06  5.151241e+05   \n",
       "14 2020-05-04   T3  4.339320e+06  5.141482e+05  4.339360e+06  5.140718e+05   \n",
       "15 2020-05-04   T7  4.340426e+06  5.151922e+05  4.340510e+06  5.151241e+05   \n",
       "16 2022-11-21   NE  4.340558e+06  5.153495e+05  4.339242e+06  5.140613e+05   \n",
       "17 2022-11-21   T3  4.339326e+06  5.141395e+05  4.339361e+06  5.140718e+05   \n",
       "18 2022-11-21   T7  4.340428e+06  5.151912e+05  4.340510e+06  5.151240e+05   \n",
       "19 2023-06-09   T3  4.339326e+06  5.141397e+05  4.339360e+06  5.140717e+05   \n",
       "20 2023-06-09   T7  4.340424e+06  5.151936e+05  4.340510e+06  5.151242e+05   \n",
       "21 2024-06-20   T3  4.339326e+06  5.141383e+05  4.339360e+06  5.140714e+05   \n",
       "22 2024-06-20   T7  4.340424e+06  5.151935e+05  4.340508e+06  5.151220e+05   \n",
       "23 2025-01-20   T3  5.141382e+05  4.339326e+06  5.140713e+05  4.339360e+06   \n",
       "24 2025-01-20   T7  5.151924e+05  4.340426e+06  5.151239e+05  4.340510e+06   \n",
       "\n",
       "    dist_from_origin                        geometry  \n",
       "0         113.657573  POINT (515122.167 4340508.834)  \n",
       "1          99.920179  POINT (514072.113 4339360.512)  \n",
       "2         102.916636  POINT (515203.246 4340568.068)  \n",
       "3          91.277891    POINT (514072.1 4339360.293)  \n",
       "4         109.484944  POINT (515122.812 4340508.414)  \n",
       "5         107.668513  POINT (515123.386 4340509.211)  \n",
       "6         107.668513  POINT (515123.386 4340509.211)  \n",
       "7          94.671565   POINT (515130.492 4340499.69)  \n",
       "8          85.276950  POINT (514071.697 4339360.126)  \n",
       "9         106.644953   POINT (515124.157 4340509.72)  \n",
       "10         87.176632  POINT (514071.824 4339360.383)  \n",
       "11        104.856916  POINT (515124.081 4340509.693)  \n",
       "12         83.181277  POINT (514165.039 4339313.586)  \n",
       "13         45.902431  POINT (515124.069 4340509.614)  \n",
       "14         86.337522  POINT (514071.845 4339360.441)  \n",
       "15        107.845655   POINT (515124.06 4340509.633)  \n",
       "16       1841.496424   POINT (514061.347 4339241.74)  \n",
       "17         76.000602  POINT (514071.835 4339360.614)  \n",
       "18        105.717477  POINT (515123.984 4340509.612)  \n",
       "19         76.258911    POINT (514071.726 4339360.3)  \n",
       "20        110.345087  POINT (515124.212 4340509.721)  \n",
       "21         75.114550  POINT (514071.419 4339360.489)  \n",
       "22        110.167544  POINT (515122.032 4340508.228)  \n",
       "23         75.300896  POINT (4339360.353 514071.284)  \n",
       "24        108.204432  POINT (4340510.114 515123.904)  "
      ]
     },
     "metadata": {},
     "output_type": "display_data"
    },
    {
     "data": {
      "text/html": [
       "<div style=\"width:100%;\"><div style=\"position:relative;width:100%;height:0;padding-bottom:60%;\"><span style=\"color:#565656\">Make this Notebook Trusted to load map: File -> Trust Notebook</span><iframe srcdoc=\"&lt;!DOCTYPE html&gt;\n",
       "&lt;html&gt;\n",
       "&lt;head&gt;\n",
       "    \n",
       "    &lt;meta http-equiv=&quot;content-type&quot; content=&quot;text/html; charset=UTF-8&quot; /&gt;\n",
       "    \n",
       "        &lt;script&gt;\n",
       "            L_NO_TOUCH = false;\n",
       "            L_DISABLE_3D = false;\n",
       "        &lt;/script&gt;\n",
       "    \n",
       "    &lt;style&gt;html, body {width: 100%;height: 100%;margin: 0;padding: 0;}&lt;/style&gt;\n",
       "    &lt;style&gt;#map {position:absolute;top:0;bottom:0;right:0;left:0;}&lt;/style&gt;\n",
       "    &lt;script src=&quot;https://cdn.jsdelivr.net/npm/leaflet@1.9.3/dist/leaflet.js&quot;&gt;&lt;/script&gt;\n",
       "    &lt;script src=&quot;https://code.jquery.com/jquery-3.7.1.min.js&quot;&gt;&lt;/script&gt;\n",
       "    &lt;script src=&quot;https://cdn.jsdelivr.net/npm/bootstrap@5.2.2/dist/js/bootstrap.bundle.min.js&quot;&gt;&lt;/script&gt;\n",
       "    &lt;script src=&quot;https://cdnjs.cloudflare.com/ajax/libs/Leaflet.awesome-markers/2.0.2/leaflet.awesome-markers.js&quot;&gt;&lt;/script&gt;\n",
       "    &lt;link rel=&quot;stylesheet&quot; href=&quot;https://cdn.jsdelivr.net/npm/leaflet@1.9.3/dist/leaflet.css&quot;/&gt;\n",
       "    &lt;link rel=&quot;stylesheet&quot; href=&quot;https://cdn.jsdelivr.net/npm/bootstrap@5.2.2/dist/css/bootstrap.min.css&quot;/&gt;\n",
       "    &lt;link rel=&quot;stylesheet&quot; href=&quot;https://netdna.bootstrapcdn.com/bootstrap/3.0.0/css/bootstrap-glyphicons.css&quot;/&gt;\n",
       "    &lt;link rel=&quot;stylesheet&quot; href=&quot;https://cdn.jsdelivr.net/npm/@fortawesome/fontawesome-free@6.2.0/css/all.min.css&quot;/&gt;\n",
       "    &lt;link rel=&quot;stylesheet&quot; href=&quot;https://cdnjs.cloudflare.com/ajax/libs/Leaflet.awesome-markers/2.0.2/leaflet.awesome-markers.css&quot;/&gt;\n",
       "    &lt;link rel=&quot;stylesheet&quot; href=&quot;https://cdn.jsdelivr.net/gh/python-visualization/folium/folium/templates/leaflet.awesome.rotate.min.css&quot;/&gt;\n",
       "    \n",
       "            &lt;meta name=&quot;viewport&quot; content=&quot;width=device-width,\n",
       "                initial-scale=1.0, maximum-scale=1.0, user-scalable=no&quot; /&gt;\n",
       "            &lt;style&gt;\n",
       "                #map_799a1c3e132da6b5dc8cf6dccc0968ee {\n",
       "                    position: relative;\n",
       "                    width: 100.0%;\n",
       "                    height: 100.0%;\n",
       "                    left: 0.0%;\n",
       "                    top: 0.0%;\n",
       "                }\n",
       "                .leaflet-container { font-size: 1rem; }\n",
       "            &lt;/style&gt;\n",
       "        \n",
       "    \n",
       "                    &lt;style&gt;\n",
       "                        .foliumtooltip {\n",
       "                            \n",
       "                        }\n",
       "                       .foliumtooltip table{\n",
       "                            margin: auto;\n",
       "                        }\n",
       "                        .foliumtooltip tr{\n",
       "                            text-align: left;\n",
       "                        }\n",
       "                        .foliumtooltip th{\n",
       "                            padding: 2px; padding-right: 8px;\n",
       "                        }\n",
       "                    &lt;/style&gt;\n",
       "            \n",
       "    \n",
       "                    &lt;style&gt;\n",
       "                        .foliumtooltip {\n",
       "                            \n",
       "                        }\n",
       "                       .foliumtooltip table{\n",
       "                            margin: auto;\n",
       "                        }\n",
       "                        .foliumtooltip tr{\n",
       "                            text-align: left;\n",
       "                        }\n",
       "                        .foliumtooltip th{\n",
       "                            padding: 2px; padding-right: 8px;\n",
       "                        }\n",
       "                    &lt;/style&gt;\n",
       "            \n",
       "    \n",
       "                    &lt;style&gt;\n",
       "                        .foliumtooltip {\n",
       "                            \n",
       "                        }\n",
       "                       .foliumtooltip table{\n",
       "                            margin: auto;\n",
       "                        }\n",
       "                        .foliumtooltip tr{\n",
       "                            text-align: left;\n",
       "                        }\n",
       "                        .foliumtooltip th{\n",
       "                            padding: 2px; padding-right: 8px;\n",
       "                        }\n",
       "                    &lt;/style&gt;\n",
       "            \n",
       "    \n",
       "    &lt;script src=&quot;https://code.jquery.com/ui/1.12.1/jquery-ui.js&quot;&gt;&lt;/script&gt;\n",
       "    &lt;script&gt;$( function() {\n",
       "        $( &quot;.maplegend&quot; ).draggable({\n",
       "            start: function (event, ui) {\n",
       "                $(this).css({\n",
       "                    right: &quot;auto&quot;,\n",
       "                    top: &quot;auto&quot;,\n",
       "                    bottom: &quot;auto&quot;\n",
       "                });\n",
       "            }\n",
       "        });\n",
       "    });\n",
       "    &lt;/script&gt;\n",
       "    &lt;style type=&#x27;text/css&#x27;&gt;\n",
       "      .maplegend {\n",
       "        position: absolute;\n",
       "        z-index:9999;\n",
       "        background-color: rgba(255, 255, 255, .8);\n",
       "        border-radius: 5px;\n",
       "        box-shadow: 0 0 15px rgba(0,0,0,0.2);\n",
       "        padding: 10px;\n",
       "        font: 12px/14px Arial, Helvetica, sans-serif;\n",
       "        right: 10px;\n",
       "        bottom: 20px;\n",
       "      }\n",
       "      .maplegend .legend-title {\n",
       "        text-align: left;\n",
       "        margin-bottom: 5px;\n",
       "        font-weight: bold;\n",
       "        }\n",
       "      .maplegend .legend-scale ul {\n",
       "        margin: 0;\n",
       "        margin-bottom: 0px;\n",
       "        padding: 0;\n",
       "        float: left;\n",
       "        list-style: none;\n",
       "        }\n",
       "      .maplegend .legend-scale ul li {\n",
       "        list-style: none;\n",
       "        margin-left: 0;\n",
       "        line-height: 16px;\n",
       "        margin-bottom: 2px;\n",
       "        }\n",
       "      .maplegend ul.legend-labels li span {\n",
       "        display: block;\n",
       "        float: left;\n",
       "        height: 14px;\n",
       "        width: 14px;\n",
       "        margin-right: 5px;\n",
       "        margin-left: 0;\n",
       "        border: 0px solid #ccc;\n",
       "        }\n",
       "      .maplegend .legend-source {\n",
       "        color: #777;\n",
       "        clear: both;\n",
       "        }\n",
       "      .maplegend a {\n",
       "        color: #777;\n",
       "        }\n",
       "    &lt;/style&gt;\n",
       "    \n",
       "&lt;/head&gt;\n",
       "&lt;body&gt;\n",
       "    \n",
       "    \n",
       "    &lt;div id=&#x27;maplegend date&#x27; class=&#x27;maplegend&#x27;&gt;\n",
       "        &lt;div class=&#x27;legend-title&#x27;&gt;date&lt;/div&gt;\n",
       "        &lt;div class=&#x27;legend-scale&#x27;&gt;\n",
       "            &lt;ul class=&#x27;legend-labels&#x27;&gt;\n",
       "                &lt;li&gt;&lt;span style=&#x27;background:#1f77b4&#x27;&gt;&lt;/span&gt;2017-01-25&lt;/li&gt;\n",
       "                &lt;li&gt;&lt;span style=&#x27;background:#aec7e8&#x27;&gt;&lt;/span&gt;2017-04-06&lt;/li&gt;\n",
       "                &lt;li&gt;&lt;span style=&#x27;background:#ffbb78&#x27;&gt;&lt;/span&gt;2018-10-09&lt;/li&gt;\n",
       "                &lt;li&gt;&lt;span style=&#x27;background:#98df8a&#x27;&gt;&lt;/span&gt;2018-10-19&lt;/li&gt;\n",
       "                &lt;li&gt;&lt;span style=&#x27;background:#d62728&#x27;&gt;&lt;/span&gt;2019-05-21&lt;/li&gt;\n",
       "                &lt;li&gt;&lt;span style=&#x27;background:#9467bd&#x27;&gt;&lt;/span&gt;2020-01-20&lt;/li&gt;\n",
       "                &lt;li&gt;&lt;span style=&#x27;background:#8c564b&#x27;&gt;&lt;/span&gt;2020-01-27&lt;/li&gt;\n",
       "                &lt;li&gt;&lt;span style=&#x27;background:#c49c94&#x27;&gt;&lt;/span&gt;2020-03-28&lt;/li&gt;\n",
       "                &lt;li&gt;&lt;span style=&#x27;background:#f7b6d2&#x27;&gt;&lt;/span&gt;2020-05-04&lt;/li&gt;\n",
       "                &lt;li&gt;&lt;span style=&#x27;background:#c7c7c7&#x27;&gt;&lt;/span&gt;2022-11-21&lt;/li&gt;\n",
       "                &lt;li&gt;&lt;span style=&#x27;background:#bcbd22&#x27;&gt;&lt;/span&gt;2023-06-09&lt;/li&gt;\n",
       "                &lt;li&gt;&lt;span style=&#x27;background:#17becf&#x27;&gt;&lt;/span&gt;2024-06-20&lt;/li&gt;\n",
       "                &lt;li&gt;&lt;span style=&#x27;background:#9edae5&#x27;&gt;&lt;/span&gt;2025-01-20&lt;/li&gt;\n",
       "            &lt;/ul&gt;\n",
       "        &lt;/div&gt;\n",
       "    &lt;/div&gt;\n",
       "    \n",
       "    \n",
       "            &lt;div class=&quot;folium-map&quot; id=&quot;map_799a1c3e132da6b5dc8cf6dccc0968ee&quot; &gt;&lt;/div&gt;\n",
       "        \n",
       "&lt;/body&gt;\n",
       "&lt;script&gt;\n",
       "    \n",
       "    \n",
       "            var map_799a1c3e132da6b5dc8cf6dccc0968ee = L.map(\n",
       "                &quot;map_799a1c3e132da6b5dc8cf6dccc0968ee&quot;,\n",
       "                {\n",
       "                    center: [21.5634053675873, 25.416774180494947],\n",
       "                    crs: L.CRS.EPSG3857,\n",
       "                    ...{\n",
       "  &quot;zoom&quot;: 10,\n",
       "  &quot;zoomControl&quot;: true,\n",
       "  &quot;preferCanvas&quot;: false,\n",
       "}\n",
       "\n",
       "                }\n",
       "            );\n",
       "            L.control.scale().addTo(map_799a1c3e132da6b5dc8cf6dccc0968ee);\n",
       "\n",
       "            \n",
       "\n",
       "        \n",
       "    \n",
       "            var tile_layer_9ff8da9d351df89fd06bc38c046e71e6 = L.tileLayer(\n",
       "                &quot;https://tile.openstreetmap.org/{z}/{x}/{y}.png&quot;,\n",
       "                {\n",
       "  &quot;minZoom&quot;: 0,\n",
       "  &quot;maxZoom&quot;: 19,\n",
       "  &quot;maxNativeZoom&quot;: 19,\n",
       "  &quot;noWrap&quot;: false,\n",
       "  &quot;attribution&quot;: &quot;\\u0026copy; \\u003ca href=\\&quot;https://www.openstreetmap.org/copyright\\&quot;\\u003eOpenStreetMap\\u003c/a\\u003e contributors&quot;,\n",
       "  &quot;subdomains&quot;: &quot;abc&quot;,\n",
       "  &quot;detectRetina&quot;: false,\n",
       "  &quot;tms&quot;: false,\n",
       "  &quot;opacity&quot;: 1,\n",
       "}\n",
       "\n",
       "            );\n",
       "        \n",
       "    \n",
       "            tile_layer_9ff8da9d351df89fd06bc38c046e71e6.addTo(map_799a1c3e132da6b5dc8cf6dccc0968ee);\n",
       "        \n",
       "    \n",
       "            map_799a1c3e132da6b5dc8cf6dccc0968ee.fitBounds(\n",
       "                [[3.9125542261979787, 9.16285143700161], [39.214256508976625, 41.67069692398828]],\n",
       "                {}\n",
       "            );\n",
       "        \n",
       "    \n",
       "        function geo_json_ef43f79d7523475563c3748f88d6a00c_styler(feature) {\n",
       "            switch(feature.id) {\n",
       "                case &quot;0&quot;: \n",
       "                    return {&quot;color&quot;: &quot;#1f77b4&quot;, &quot;fillColor&quot;: &quot;#1f77b4&quot;, &quot;fillOpacity&quot;: 0.5, &quot;weight&quot;: 2};\n",
       "                case &quot;1&quot;: case &quot;2&quot;: \n",
       "                    return {&quot;color&quot;: &quot;#aec7e8&quot;, &quot;fillColor&quot;: &quot;#aec7e8&quot;, &quot;fillOpacity&quot;: 0.5, &quot;weight&quot;: 2};\n",
       "                case &quot;3&quot;: case &quot;4&quot;: \n",
       "                    return {&quot;color&quot;: &quot;#ffbb78&quot;, &quot;fillColor&quot;: &quot;#ffbb78&quot;, &quot;fillOpacity&quot;: 0.5, &quot;weight&quot;: 2};\n",
       "                case &quot;5&quot;: case &quot;6&quot;: \n",
       "                    return {&quot;color&quot;: &quot;#98df8a&quot;, &quot;fillColor&quot;: &quot;#98df8a&quot;, &quot;fillOpacity&quot;: 0.5, &quot;weight&quot;: 2};\n",
       "                case &quot;7&quot;: \n",
       "                    return {&quot;color&quot;: &quot;#d62728&quot;, &quot;fillColor&quot;: &quot;#d62728&quot;, &quot;fillOpacity&quot;: 0.5, &quot;weight&quot;: 2};\n",
       "                case &quot;10&quot;: case &quot;11&quot;: \n",
       "                    return {&quot;color&quot;: &quot;#8c564b&quot;, &quot;fillColor&quot;: &quot;#8c564b&quot;, &quot;fillOpacity&quot;: 0.5, &quot;weight&quot;: 2};\n",
       "                case &quot;12&quot;: case &quot;13&quot;: \n",
       "                    return {&quot;color&quot;: &quot;#c49c94&quot;, &quot;fillColor&quot;: &quot;#c49c94&quot;, &quot;fillOpacity&quot;: 0.5, &quot;weight&quot;: 2};\n",
       "                case &quot;14&quot;: case &quot;15&quot;: \n",
       "                    return {&quot;color&quot;: &quot;#f7b6d2&quot;, &quot;fillColor&quot;: &quot;#f7b6d2&quot;, &quot;fillOpacity&quot;: 0.5, &quot;weight&quot;: 2};\n",
       "                case &quot;16&quot;: case &quot;17&quot;: case &quot;18&quot;: \n",
       "                    return {&quot;color&quot;: &quot;#c7c7c7&quot;, &quot;fillColor&quot;: &quot;#c7c7c7&quot;, &quot;fillOpacity&quot;: 0.5, &quot;weight&quot;: 2};\n",
       "                case &quot;19&quot;: case &quot;20&quot;: \n",
       "                    return {&quot;color&quot;: &quot;#bcbd22&quot;, &quot;fillColor&quot;: &quot;#bcbd22&quot;, &quot;fillOpacity&quot;: 0.5, &quot;weight&quot;: 2};\n",
       "                case &quot;21&quot;: case &quot;22&quot;: \n",
       "                    return {&quot;color&quot;: &quot;#17becf&quot;, &quot;fillColor&quot;: &quot;#17becf&quot;, &quot;fillOpacity&quot;: 0.5, &quot;weight&quot;: 2};\n",
       "                case &quot;23&quot;: case &quot;24&quot;: \n",
       "                    return {&quot;color&quot;: &quot;#9edae5&quot;, &quot;fillColor&quot;: &quot;#9edae5&quot;, &quot;fillOpacity&quot;: 0.5, &quot;weight&quot;: 2};\n",
       "                default:\n",
       "                    return {&quot;color&quot;: &quot;#9467bd&quot;, &quot;fillColor&quot;: &quot;#9467bd&quot;, &quot;fillOpacity&quot;: 0.5, &quot;weight&quot;: 2};\n",
       "            }\n",
       "        }\n",
       "        function geo_json_ef43f79d7523475563c3748f88d6a00c_highlighter(feature) {\n",
       "            switch(feature.id) {\n",
       "                default:\n",
       "                    return {&quot;fillOpacity&quot;: 0.75};\n",
       "            }\n",
       "        }\n",
       "        function geo_json_ef43f79d7523475563c3748f88d6a00c_pointToLayer(feature, latlng) {\n",
       "            var opts = {&quot;bubblingMouseEvents&quot;: true, &quot;color&quot;: &quot;#3388ff&quot;, &quot;dashArray&quot;: null, &quot;dashOffset&quot;: null, &quot;fill&quot;: true, &quot;fillColor&quot;: &quot;#3388ff&quot;, &quot;fillOpacity&quot;: 0.2, &quot;fillRule&quot;: &quot;evenodd&quot;, &quot;lineCap&quot;: &quot;round&quot;, &quot;lineJoin&quot;: &quot;round&quot;, &quot;opacity&quot;: 1.0, &quot;radius&quot;: 2, &quot;stroke&quot;: true, &quot;weight&quot;: 3};\n",
       "            \n",
       "            let style = geo_json_ef43f79d7523475563c3748f88d6a00c_styler(feature)\n",
       "            Object.assign(opts, style)\n",
       "            \n",
       "            return new L.CircleMarker(latlng, opts)\n",
       "        }\n",
       "\n",
       "        function geo_json_ef43f79d7523475563c3748f88d6a00c_onEachFeature(feature, layer) {\n",
       "            layer.on({\n",
       "                mouseout: function(e) {\n",
       "                    if(typeof e.target.setStyle === &quot;function&quot;){\n",
       "                            geo_json_ef43f79d7523475563c3748f88d6a00c.resetStyle(e.target);\n",
       "                    }\n",
       "                },\n",
       "                mouseover: function(e) {\n",
       "                    if(typeof e.target.setStyle === &quot;function&quot;){\n",
       "                        const highlightStyle = geo_json_ef43f79d7523475563c3748f88d6a00c_highlighter(e.target.feature)\n",
       "                        e.target.setStyle(highlightStyle);\n",
       "                    }\n",
       "                },\n",
       "            });\n",
       "        };\n",
       "        var geo_json_ef43f79d7523475563c3748f88d6a00c = L.geoJson(null, {\n",
       "                onEachFeature: geo_json_ef43f79d7523475563c3748f88d6a00c_onEachFeature,\n",
       "            \n",
       "                style: geo_json_ef43f79d7523475563c3748f88d6a00c_styler,\n",
       "                pointToLayer: geo_json_ef43f79d7523475563c3748f88d6a00c_pointToLayer,\n",
       "            ...{\n",
       "}\n",
       "        });\n",
       "\n",
       "        function geo_json_ef43f79d7523475563c3748f88d6a00c_add (data) {\n",
       "            geo_json_ef43f79d7523475563c3748f88d6a00c\n",
       "                .addData(data);\n",
       "        }\n",
       "            geo_json_ef43f79d7523475563c3748f88d6a00c_add({&quot;bbox&quot;: [9.16285143700161, 3.9125542261979787, 41.67069692398828, 39.214256508976625], &quot;features&quot;: [{&quot;bbox&quot;: [9.175165634151103, 39.21372416981971, 9.175165634151103, 39.21372416981971], &quot;geometry&quot;: {&quot;coordinates&quot;: [9.175165634151103, 39.21372416981971], &quot;type&quot;: &quot;Point&quot;}, &quot;id&quot;: &quot;0&quot;, &quot;properties&quot;: {&quot;__folium_color&quot;: &quot;#1f77b4&quot;, &quot;date&quot;: &quot;2017-01-25&quot;, &quot;dist_from_origin&quot;: 113.6575729246119, &quot;lat&quot;: 4340423.536411214, &quot;lng&quot;: 515197.28266962495, &quot;origin_lat&quot;: 4340508.834165, &quot;origin_lng&quot;: 515122.167178, &quot;site&quot;: &quot;T7&quot;}, &quot;type&quot;: &quot;Feature&quot;}, {&quot;bbox&quot;: [9.16297860070136, 39.20339429525115, 9.16297860070136, 39.20339429525115], &quot;geometry&quot;: {&quot;coordinates&quot;: [9.16297860070136, 39.20339429525115], &quot;type&quot;: &quot;Point&quot;}, &quot;id&quot;: &quot;1&quot;, &quot;properties&quot;: {&quot;__folium_color&quot;: &quot;#aec7e8&quot;, &quot;date&quot;: &quot;2017-04-06&quot;, &quot;dist_from_origin&quot;: 99.92017865650617, &quot;lat&quot;: 4339303.296880342, &quot;lng&quot;: 514154.0305717949, &quot;origin_lat&quot;: 4339360.512, &quot;origin_lng&quot;: 514072.1131, &quot;site&quot;: &quot;T3&quot;}, &quot;type&quot;: &quot;Feature&quot;}, {&quot;bbox&quot;: [9.176106134961342, 39.214256508976625, 9.176106134961342, 39.214256508976625], &quot;geometry&quot;: {&quot;coordinates&quot;: [9.176106134961342, 39.214256508976625], &quot;type&quot;: &quot;Point&quot;}, &quot;id&quot;: &quot;2&quot;, &quot;properties&quot;: {&quot;__folium_color&quot;: &quot;#aec7e8&quot;, &quot;date&quot;: &quot;2017-04-06&quot;, &quot;dist_from_origin&quot;: 102.91663631303255, &quot;lat&quot;: 4340489.035333334, &quot;lng&quot;: 515269.1682083333, &quot;origin_lat&quot;: 4340568.068, &quot;origin_lng&quot;: 515203.2465, &quot;site&quot;: &quot;T7&quot;}, &quot;type&quot;: &quot;Feature&quot;}, {&quot;bbox&quot;: [9.162978449847122, 39.203392319270215, 9.162978449847122, 39.203392319270215], &quot;geometry&quot;: {&quot;coordinates&quot;: [9.162978449847122, 39.203392319270215], &quot;type&quot;: &quot;Point&quot;}, &quot;id&quot;: &quot;3&quot;, &quot;properties&quot;: {&quot;__folium_color&quot;: &quot;#ffbb78&quot;, &quot;date&quot;: &quot;2018-10-09&quot;, &quot;dist_from_origin&quot;: 91.27789052786058, &quot;lat&quot;: 4339308.650538322, &quot;lng&quot;: 514147.36494443606, &quot;origin_lat&quot;: 4339360.292692, &quot;origin_lng&quot;: 514072.100469, &quot;site&quot;: &quot;T3&quot;}, &quot;type&quot;: &quot;Feature&quot;}, {&quot;bbox&quot;: [9.175173096047487, 39.213720374792466, 9.175173096047487, 39.213720374792466], &quot;geometry&quot;: {&quot;coordinates&quot;: [9.175173096047487, 39.213720374792466], &quot;type&quot;: &quot;Point&quot;}, &quot;id&quot;: &quot;4&quot;, &quot;properties&quot;: {&quot;__folium_color&quot;: &quot;#ffbb78&quot;, &quot;date&quot;: &quot;2018-10-09&quot;, &quot;dist_from_origin&quot;: 109.484944424051, &quot;lat&quot;: 4340426.2631175965, &quot;lng&quot;: 515195.18720296235, &quot;origin_lat&quot;: 4340508.414256, &quot;origin_lng&quot;: 515122.812183, &quot;site&quot;: &quot;T7&quot;}, &quot;type&quot;: &quot;Feature&quot;}, {&quot;bbox&quot;: [9.175179765489624, 39.2137275437151, 9.175179765489624, 39.2137275437151], &quot;geometry&quot;: {&quot;coordinates&quot;: [9.175179765489624, 39.2137275437151], &quot;type&quot;: &quot;Point&quot;}, &quot;id&quot;: &quot;5&quot;, &quot;properties&quot;: {&quot;__folium_color&quot;: &quot;#98df8a&quot;, &quot;date&quot;: &quot;2018-10-19&quot;, &quot;dist_from_origin&quot;: 107.66851279749098, &quot;lat&quot;: 4340427.375966672, &quot;lng&quot;: 515193.3545976299, &quot;origin_lat&quot;: 4340509.210942, &quot;origin_lng&quot;: 515123.386423, &quot;site&quot;: &quot;T3&quot;}, &quot;type&quot;: &quot;Feature&quot;}, {&quot;bbox&quot;: [9.175179765489624, 39.2137275437151, 9.175179765489624, 39.2137275437151], &quot;geometry&quot;: {&quot;coordinates&quot;: [9.175179765489624, 39.2137275437151], &quot;type&quot;: &quot;Point&quot;}, &quot;id&quot;: &quot;6&quot;, &quot;properties&quot;: {&quot;__folium_color&quot;: &quot;#98df8a&quot;, &quot;date&quot;: &quot;2018-10-19&quot;, &quot;dist_from_origin&quot;: 107.66851279749098, &quot;lat&quot;: 4340427.375966672, &quot;lng&quot;: 515193.3545976299, &quot;origin_lat&quot;: 4340509.210942, &quot;origin_lng&quot;: 515123.386423, &quot;site&quot;: &quot;T7&quot;}, &quot;type&quot;: &quot;Feature&quot;}, {&quot;bbox&quot;: [9.175261857774542, 39.213641628255644, 9.175261857774542, 39.213641628255644], &quot;geometry&quot;: {&quot;coordinates&quot;: [9.175261857774542, 39.213641628255644], &quot;type&quot;: &quot;Point&quot;}, &quot;id&quot;: &quot;7&quot;, &quot;properties&quot;: {&quot;__folium_color&quot;: &quot;#d62728&quot;, &quot;date&quot;: &quot;2019-05-21&quot;, &quot;dist_from_origin&quot;: 94.67156455074239, &quot;lat&quot;: 4340428.320725616, &quot;lng&quot;: 515192.69411698636, &quot;origin_lat&quot;: 4340499.690154, &quot;origin_lng&quot;: 515130.491948, &quot;site&quot;: &quot;T7&quot;}, &quot;type&quot;: &quot;Feature&quot;}, {&quot;bbox&quot;: [9.162973768442793, 39.20339082462555, 9.162973768442793, 39.20339082462555], &quot;geometry&quot;: {&quot;coordinates&quot;: [9.162973768442793, 39.20339082462555], &quot;type&quot;: &quot;Point&quot;}, &quot;id&quot;: &quot;8&quot;, &quot;properties&quot;: {&quot;__folium_color&quot;: &quot;#9467bd&quot;, &quot;date&quot;: &quot;2020-01-20&quot;, &quot;dist_from_origin&quot;: 85.2769495994851, &quot;lat&quot;: 4339321.869628996, &quot;lng&quot;: 514147.91073608544, &quot;origin_lat&quot;: 4339360.126097, &quot;origin_lng&quot;: 514071.696559, &quot;site&quot;: &quot;T3&quot;}, &quot;type&quot;: &quot;Feature&quot;}, {&quot;bbox&quot;: [9.17518870036212, 39.213732121347526, 9.17518870036212, 39.213732121347526], &quot;geometry&quot;: {&quot;coordinates&quot;: [9.17518870036212, 39.213732121347526], &quot;type&quot;: &quot;Point&quot;}, &quot;id&quot;: &quot;9&quot;, &quot;properties&quot;: {&quot;__folium_color&quot;: &quot;#9467bd&quot;, &quot;date&quot;: &quot;2020-01-20&quot;, &quot;dist_from_origin&quot;: 106.6449532905905, &quot;lat&quot;: 4340427.312162173, &quot;lng&quot;: 515191.8474317414, &quot;origin_lat&quot;: 4340509.720437, &quot;origin_lng&quot;: 515124.156795, &quot;site&quot;: &quot;T7&quot;}, &quot;type&quot;: &quot;Feature&quot;}, {&quot;bbox&quot;: [9.162975251935364, 39.20339313887286, 9.162975251935364, 39.20339313887286], &quot;geometry&quot;: {&quot;coordinates&quot;: [9.162975251935364, 39.20339313887286], &quot;type&quot;: &quot;Point&quot;}, &quot;id&quot;: &quot;10&quot;, &quot;properties&quot;: {&quot;__folium_color&quot;: &quot;#8c564b&quot;, &quot;date&quot;: &quot;2020-01-27&quot;, &quot;dist_from_origin&quot;: 87.17663171575708, &quot;lat&quot;: 4339318.0119440975, &quot;lng&quot;: 514148.01110151224, &quot;origin_lat&quot;: 4339360.383151, &quot;origin_lng&quot;: 514071.824187, &quot;site&quot;: &quot;T3&quot;}, &quot;type&quot;: &quot;Feature&quot;}, {&quot;bbox&quot;: [9.17518782721131, 39.21373187551538, 9.17518782721131, 39.21373187551538], &quot;geometry&quot;: {&quot;coordinates&quot;: [9.17518782721131, 39.21373187551538], &quot;type&quot;: &quot;Point&quot;}, &quot;id&quot;: &quot;11&quot;, &quot;properties&quot;: {&quot;__folium_color&quot;: &quot;#8c564b&quot;, &quot;date&quot;: &quot;2020-01-27&quot;, &quot;dist_from_origin&quot;: 104.85691586923572, &quot;lat&quot;: 4340428.560583536, &quot;lng&quot;: 515190.5081356996, &quot;origin_lat&quot;: 4340509.69301, &quot;origin_lng&quot;: 515124.081468, &quot;site&quot;: &quot;T7&quot;}, &quot;type&quot;: &quot;Feature&quot;}, {&quot;bbox&quot;: [9.164053850309873, 39.20296993432189, 9.164053850309873, 39.20296993432189], &quot;geometry&quot;: {&quot;coordinates&quot;: [9.164053850309873, 39.20296993432189], &quot;type&quot;: &quot;Point&quot;}, &quot;id&quot;: &quot;12&quot;, &quot;properties&quot;: {&quot;__folium_color&quot;: &quot;#c49c94&quot;, &quot;date&quot;: &quot;2020-03-28&quot;, &quot;dist_from_origin&quot;: 83.18127732372464, &quot;lat&quot;: 4339324.9971734965, &quot;lng&quot;: 514146.95790113515, &quot;origin_lat&quot;: 4339313.586, &quot;origin_lng&quot;: 514165.039, &quot;site&quot;: &quot;T3&quot;}, &quot;type&quot;: &quot;Feature&quot;}, {&quot;bbox&quot;: [9.175187677452836, 39.2137311634377, 9.175187677452836, 39.2137311634377], &quot;geometry&quot;: {&quot;coordinates&quot;: [9.175187677452836, 39.2137311634377], &quot;type&quot;: &quot;Point&quot;}, &quot;id&quot;: &quot;13&quot;, &quot;properties&quot;: {&quot;__folium_color&quot;: &quot;#c49c94&quot;, &quot;date&quot;: &quot;2020-03-28&quot;, &quot;dist_from_origin&quot;: 45.90243071956617, &quot;lat&quot;: 4340474.091988166, &quot;lng&quot;: 515153.14140293095, &quot;origin_lat&quot;: 4340509.613962, &quot;origin_lng&quot;: 515124.068692, &quot;site&quot;: &quot;T7&quot;}, &quot;type&quot;: &quot;Feature&quot;}, {&quot;bbox&quot;: [9.162975489303614, 39.20339365597245, 9.162975489303614, 39.20339365597245], &quot;geometry&quot;: {&quot;coordinates&quot;: [9.162975489303614, 39.20339365597245], &quot;type&quot;: &quot;Point&quot;}, &quot;id&quot;: &quot;14&quot;, &quot;properties&quot;: {&quot;__folium_color&quot;: &quot;#f7b6d2&quot;, &quot;date&quot;: &quot;2020-05-04&quot;, &quot;dist_from_origin&quot;: 86.33752171856736, &quot;lat&quot;: 4339320.236293708, &quot;lng&quot;: 514148.24996875157, &quot;origin_lat&quot;: 4339360.440573, &quot;origin_lng&quot;: 514071.844579, &quot;site&quot;: &quot;T3&quot;}, &quot;type&quot;: &quot;Feature&quot;}, {&quot;bbox&quot;: [9.175187572905688, 39.21373133297501, 9.175187572905688, 39.21373133297501], &quot;geometry&quot;: {&quot;coordinates&quot;: [9.175187572905688, 39.21373133297501], &quot;type&quot;: &quot;Point&quot;}, &quot;id&quot;: &quot;15&quot;, &quot;properties&quot;: {&quot;__folium_color&quot;: &quot;#f7b6d2&quot;, &quot;date&quot;: &quot;2020-05-04&quot;, &quot;dist_from_origin&quot;: 107.84565456126668, &quot;lat&quot;: 4340426.0764354, &quot;lng&quot;: 515192.24339635385, &quot;origin_lat&quot;: 4340509.632759, &quot;origin_lng&quot;: 515124.05963, &quot;site&quot;: &quot;T7&quot;}, &quot;type&quot;: &quot;Feature&quot;}, {&quot;bbox&quot;: [9.16285143700161, 39.20232421435439, 9.16285143700161, 39.20232421435439], &quot;geometry&quot;: {&quot;coordinates&quot;: [9.16285143700161, 39.20232421435439], &quot;type&quot;: &quot;Point&quot;}, &quot;id&quot;: &quot;16&quot;, &quot;properties&quot;: {&quot;__folium_color&quot;: &quot;#c7c7c7&quot;, &quot;date&quot;: &quot;2022-11-21&quot;, &quot;dist_from_origin&quot;: 1841.496424089695, &quot;lat&quot;: 4340557.664464499, &quot;lng&quot;: 515349.54384267813, &quot;origin_lat&quot;: 4339241.739998, &quot;origin_lng&quot;: 514061.3467, &quot;site&quot;: &quot;NE&quot;}, &quot;type&quot;: &quot;Feature&quot;}, {&quot;bbox&quot;: [9.162975387572756, 39.20339521576262, 9.162975387572756, 39.20339521576262], &quot;geometry&quot;: {&quot;coordinates&quot;: [9.162975387572756, 39.20339521576262], &quot;type&quot;: &quot;Point&quot;}, &quot;id&quot;: &quot;17&quot;, &quot;properties&quot;: {&quot;__folium_color&quot;: &quot;#c7c7c7&quot;, &quot;date&quot;: &quot;2022-11-21&quot;, &quot;dist_from_origin&quot;: 76.00060217200728, &quot;lat&quot;: 4339326.062000547, &quot;lng&quot;: 514139.527985099, &quot;origin_lat&quot;: 4339360.613655, &quot;origin_lng&quot;: 514071.835484, &quot;site&quot;: &quot;T3&quot;}, &quot;type&quot;: &quot;Feature&quot;}, {&quot;bbox&quot;: [9.175186691284328, 39.21373114648414, 9.175186691284328, 39.21373114648414], &quot;geometry&quot;: {&quot;coordinates&quot;: [9.175186691284328, 39.21373114648414], &quot;type&quot;: &quot;Point&quot;}, &quot;id&quot;: &quot;18&quot;, &quot;properties&quot;: {&quot;__folium_color&quot;: &quot;#c7c7c7&quot;, &quot;date&quot;: &quot;2022-11-21&quot;, &quot;dist_from_origin&quot;: 105.71747711910508, &quot;lat&quot;: 4340427.979692458, &quot;lng&quot;: 515191.15769872686, &quot;origin_lat&quot;: 4340509.611916, &quot;origin_lng&quot;: 515123.983559, &quot;site&quot;: &quot;T7&quot;}, &quot;type&quot;: &quot;Feature&quot;}, {&quot;bbox&quot;: [9.162974107247802, 39.203392391197575, 9.162974107247802, 39.203392391197575], &quot;geometry&quot;: {&quot;coordinates&quot;: [9.162974107247802, 39.203392391197575], &quot;type&quot;: &quot;Point&quot;}, &quot;id&quot;: &quot;19&quot;, &quot;properties&quot;: {&quot;__folium_color&quot;: &quot;#bcbd22&quot;, &quot;date&quot;: &quot;2023-06-09&quot;, &quot;dist_from_origin&quot;: 76.25891123902531, &quot;lat&quot;: 4339325.822106719, &quot;lng&quot;: 514139.74532371544, &quot;origin_lat&quot;: 4339360.3, &quot;origin_lng&quot;: 514071.7255, &quot;site&quot;: &quot;T3&quot;}, &quot;type&quot;: &quot;Feature&quot;}, {&quot;bbox&quot;: [9.175189336356864, 39.213732125464325, 9.175189336356864, 39.213732125464325], &quot;geometry&quot;: {&quot;coordinates&quot;: [9.175189336356864, 39.213732125464325], &quot;type&quot;: &quot;Point&quot;}, &quot;id&quot;: &quot;20&quot;, &quot;properties&quot;: {&quot;__folium_color&quot;: &quot;#bcbd22&quot;, &quot;date&quot;: &quot;2023-06-09&quot;, &quot;dist_from_origin&quot;: 110.34508723163405, &quot;lat&quot;: 4340423.890906405, &quot;lng&quot;: 515193.5603359606, &quot;origin_lat&quot;: 4340509.721, &quot;origin_lng&quot;: 515124.2117, &quot;site&quot;: &quot;T7&quot;}, &quot;type&quot;: &quot;Feature&quot;}, {&quot;bbox&quot;: [9.162970564095463, 39.20339409678835, 9.162970564095463, 39.20339409678835], &quot;geometry&quot;: {&quot;coordinates&quot;: [9.162970564095463, 39.20339409678835], &quot;type&quot;: &quot;Point&quot;}, &quot;id&quot;: &quot;21&quot;, &quot;properties&quot;: {&quot;__folium_color&quot;: &quot;#17becf&quot;, &quot;date&quot;: &quot;2024-06-20&quot;, &quot;dist_from_origin&quot;: 75.11454951285026, &quot;lat&quot;: 4339326.325414739, &quot;lng&quot;: 514138.3151479855, &quot;origin_lat&quot;: 4339360.488728, &quot;origin_lng&quot;: 514071.419232, &quot;site&quot;: &quot;T3&quot;}, &quot;type&quot;: &quot;Feature&quot;}, {&quot;bbox&quot;: [9.17516405741269, 39.21371871056776, 9.17516405741269, 39.21371871056776], &quot;geometry&quot;: {&quot;coordinates&quot;: [9.17516405741269, 39.21371871056776], &quot;type&quot;: &quot;Point&quot;}, &quot;id&quot;: &quot;22&quot;, &quot;properties&quot;: {&quot;__folium_color&quot;: &quot;#17becf&quot;, &quot;date&quot;: &quot;2024-06-20&quot;, &quot;dist_from_origin&quot;: 110.167544364298, &quot;lat&quot;: 4340424.40559757, &quot;lng&quot;: 515193.5212664853, &quot;origin_lat&quot;: 4340508.22806, &quot;origin_lng&quot;: 515122.032228, &quot;site&quot;: &quot;T7&quot;}, &quot;type&quot;: &quot;Feature&quot;}, {&quot;bbox&quot;: [41.661640340445544, 3.9125542261979787, 41.661640340445544, 3.9125542261979787], &quot;geometry&quot;: {&quot;coordinates&quot;: [41.661640340445544, 3.9125542261979787], &quot;type&quot;: &quot;Point&quot;}, &quot;id&quot;: &quot;23&quot;, &quot;properties&quot;: {&quot;__folium_color&quot;: &quot;#9edae5&quot;, &quot;date&quot;: &quot;2025-01-20&quot;, &quot;dist_from_origin&quot;: 75.30089648678408, &quot;lat&quot;: 514138.1747916667, &quot;lng&quot;: 4339325.771979166, &quot;origin_lat&quot;: 514071.284, &quot;origin_lng&quot;: 4339360.353, &quot;site&quot;: &quot;T3&quot;}, &quot;type&quot;: &quot;Feature&quot;}, {&quot;bbox&quot;: [41.67069692398828, 3.920175929873993, 41.67069692398828, 3.920175929873993], &quot;geometry&quot;: {&quot;coordinates&quot;: [41.67069692398828, 3.920175929873993], &quot;type&quot;: &quot;Point&quot;}, &quot;id&quot;: &quot;24&quot;, &quot;properties&quot;: {&quot;__folium_color&quot;: &quot;#9edae5&quot;, &quot;date&quot;: &quot;2025-01-20&quot;, &quot;dist_from_origin&quot;: 108.2044323433971, &quot;lat&quot;: 515192.4432148148, &quot;lng&quot;: 4340426.384822222, &quot;origin_lat&quot;: 515123.904, &quot;origin_lng&quot;: 4340510.114, &quot;site&quot;: &quot;T7&quot;}, &quot;type&quot;: &quot;Feature&quot;}], &quot;type&quot;: &quot;FeatureCollection&quot;});\n",
       "\n",
       "        \n",
       "    \n",
       "    geo_json_ef43f79d7523475563c3748f88d6a00c.bindTooltip(\n",
       "    function(layer){\n",
       "    let div = L.DomUtil.create(&#x27;div&#x27;);\n",
       "    \n",
       "    let handleObject = feature=&gt;typeof(feature)==&#x27;object&#x27; ? JSON.stringify(feature) : feature;\n",
       "    let fields = [&quot;date&quot;, &quot;site&quot;, &quot;lat&quot;, &quot;lng&quot;, &quot;origin_lat&quot;, &quot;origin_lng&quot;, &quot;dist_from_origin&quot;];\n",
       "    let aliases = [&quot;date&quot;, &quot;site&quot;, &quot;lat&quot;, &quot;lng&quot;, &quot;origin_lat&quot;, &quot;origin_lng&quot;, &quot;dist_from_origin&quot;];\n",
       "    let table = &#x27;&lt;table&gt;&#x27; +\n",
       "        String(\n",
       "        fields.map(\n",
       "        (v,i)=&gt;\n",
       "        `&lt;tr&gt;\n",
       "            &lt;th&gt;${aliases[i]}&lt;/th&gt;\n",
       "            \n",
       "            &lt;td&gt;${handleObject(layer.feature.properties[v])}&lt;/td&gt;\n",
       "        &lt;/tr&gt;`).join(&#x27;&#x27;))\n",
       "    +&#x27;&lt;/table&gt;&#x27;;\n",
       "    div.innerHTML=table;\n",
       "    \n",
       "    return div\n",
       "    }\n",
       "    ,{\n",
       "  &quot;sticky&quot;: true,\n",
       "  &quot;className&quot;: &quot;foliumtooltip&quot;,\n",
       "});\n",
       "                     \n",
       "    \n",
       "            geo_json_ef43f79d7523475563c3748f88d6a00c.addTo(map_799a1c3e132da6b5dc8cf6dccc0968ee);\n",
       "        \n",
       "    \n",
       "        function geo_json_a0367835434b572f4bf024236502508c_styler(feature) {\n",
       "            switch(feature.id) {\n",
       "                default:\n",
       "                    return {&quot;fillOpacity&quot;: 0.5, &quot;weight&quot;: 2};\n",
       "            }\n",
       "        }\n",
       "        function geo_json_a0367835434b572f4bf024236502508c_highlighter(feature) {\n",
       "            switch(feature.id) {\n",
       "                default:\n",
       "                    return {&quot;fillOpacity&quot;: 0.75};\n",
       "            }\n",
       "        }\n",
       "        function geo_json_a0367835434b572f4bf024236502508c_pointToLayer(feature, latlng) {\n",
       "            var opts = {&quot;bubblingMouseEvents&quot;: true, &quot;color&quot;: &quot;#3388ff&quot;, &quot;dashArray&quot;: null, &quot;dashOffset&quot;: null, &quot;fill&quot;: true, &quot;fillColor&quot;: &quot;#3388ff&quot;, &quot;fillOpacity&quot;: 0.2, &quot;fillRule&quot;: &quot;evenodd&quot;, &quot;lineCap&quot;: &quot;round&quot;, &quot;lineJoin&quot;: &quot;round&quot;, &quot;opacity&quot;: 1.0, &quot;radius&quot;: 2, &quot;stroke&quot;: true, &quot;weight&quot;: 3};\n",
       "            \n",
       "            let style = geo_json_a0367835434b572f4bf024236502508c_styler(feature)\n",
       "            Object.assign(opts, style)\n",
       "            \n",
       "            return new L.CircleMarker(latlng, opts)\n",
       "        }\n",
       "\n",
       "        function geo_json_a0367835434b572f4bf024236502508c_onEachFeature(feature, layer) {\n",
       "            layer.on({\n",
       "                mouseout: function(e) {\n",
       "                    if(typeof e.target.setStyle === &quot;function&quot;){\n",
       "                            geo_json_a0367835434b572f4bf024236502508c.resetStyle(e.target);\n",
       "                    }\n",
       "                },\n",
       "                mouseover: function(e) {\n",
       "                    if(typeof e.target.setStyle === &quot;function&quot;){\n",
       "                        const highlightStyle = geo_json_a0367835434b572f4bf024236502508c_highlighter(e.target.feature)\n",
       "                        e.target.setStyle(highlightStyle);\n",
       "                    }\n",
       "                },\n",
       "            });\n",
       "        };\n",
       "        var geo_json_a0367835434b572f4bf024236502508c = L.geoJson(null, {\n",
       "                onEachFeature: geo_json_a0367835434b572f4bf024236502508c_onEachFeature,\n",
       "            \n",
       "                style: geo_json_a0367835434b572f4bf024236502508c_styler,\n",
       "                pointToLayer: geo_json_a0367835434b572f4bf024236502508c_pointToLayer,\n",
       "            ...{\n",
       "}\n",
       "        });\n",
       "\n",
       "        function geo_json_a0367835434b572f4bf024236502508c_add (data) {\n",
       "            geo_json_a0367835434b572f4bf024236502508c\n",
       "                .addData(data);\n",
       "        }\n",
       "            geo_json_a0367835434b572f4bf024236502508c_add({&quot;bbox&quot;: [9.175922540710008, 39.21282932942071, 9.176234597554453, 39.21322641184909], &quot;features&quot;: [{&quot;bbox&quot;: [9.175986462804449, 39.213145073446455, 9.175986462804449, 39.213145073446455], &quot;geometry&quot;: {&quot;coordinates&quot;: [9.175986462804449, 39.213145073446455], &quot;type&quot;: &quot;Point&quot;}, &quot;id&quot;: &quot;0&quot;, &quot;properties&quot;: {}, &quot;type&quot;: &quot;Feature&quot;}, {&quot;bbox&quot;: [9.175944472409293, 39.213198504631826, 9.175944472409293, 39.213198504631826], &quot;geometry&quot;: {&quot;coordinates&quot;: [9.175944472409293, 39.213198504631826], &quot;type&quot;: &quot;Point&quot;}, &quot;id&quot;: &quot;1&quot;, &quot;properties&quot;: {}, &quot;type&quot;: &quot;Feature&quot;}, {&quot;bbox&quot;: [9.176009481972526, 39.213115782387206, 9.176009481972526, 39.213115782387206], &quot;geometry&quot;: {&quot;coordinates&quot;: [9.176009481972526, 39.213115782387206], &quot;type&quot;: &quot;Point&quot;}, &quot;id&quot;: &quot;2&quot;, &quot;properties&quot;: {}, &quot;type&quot;: &quot;Feature&quot;}, {&quot;bbox&quot;: [9.176002352678415, 39.21312485415933, 9.176002352678415, 39.21312485415933], &quot;geometry&quot;: {&quot;coordinates&quot;: [9.176002352678415, 39.21312485415933], &quot;type&quot;: &quot;Point&quot;}, &quot;id&quot;: &quot;3&quot;, &quot;properties&quot;: {}, &quot;type&quot;: &quot;Feature&quot;}, {&quot;bbox&quot;: [9.175991296227147, 39.2131389230932, 9.175991296227147, 39.2131389230932], &quot;geometry&quot;: {&quot;coordinates&quot;: [9.175991296227147, 39.2131389230932], &quot;type&quot;: &quot;Point&quot;}, &quot;id&quot;: &quot;4&quot;, &quot;properties&quot;: {}, &quot;type&quot;: &quot;Feature&quot;}, {&quot;bbox&quot;: [9.175988094084703, 39.21314299770225, 9.175988094084703, 39.21314299770225], &quot;geometry&quot;: {&quot;coordinates&quot;: [9.175988094084703, 39.21314299770225], &quot;type&quot;: &quot;Point&quot;}, &quot;id&quot;: &quot;5&quot;, &quot;properties&quot;: {}, &quot;type&quot;: &quot;Feature&quot;}, {&quot;bbox&quot;: [9.17604047625528, 39.21307634323707, 9.17604047625528, 39.21307634323707], &quot;geometry&quot;: {&quot;coordinates&quot;: [9.17604047625528, 39.21307634323707], &quot;type&quot;: &quot;Point&quot;}, &quot;id&quot;: &quot;7&quot;, &quot;properties&quot;: {}, &quot;type&quot;: &quot;Feature&quot;}, {&quot;bbox&quot;: [9.176003863122235, 39.21312293217376, 9.176003863122235, 39.21312293217376], &quot;geometry&quot;: {&quot;coordinates&quot;: [9.176003863122235, 39.21312293217376], &quot;type&quot;: &quot;Point&quot;}, &quot;id&quot;: &quot;8&quot;, &quot;properties&quot;: {}, &quot;type&quot;: &quot;Feature&quot;}, {&quot;bbox&quot;: [9.17606911421675, 39.2130399023774, 9.17606911421675, 39.2130399023774], &quot;geometry&quot;: {&quot;coordinates&quot;: [9.17606911421675, 39.2130399023774], &quot;type&quot;: &quot;Point&quot;}, &quot;id&quot;: &quot;10&quot;, &quot;properties&quot;: {}, &quot;type&quot;: &quot;Feature&quot;}, {&quot;bbox&quot;: [9.176003561033477, 39.21312331657087, 9.176003561033477, 39.21312331657087], &quot;geometry&quot;: {&quot;coordinates&quot;: [9.176003561033477, 39.21312331657087], &quot;type&quot;: &quot;Point&quot;}, &quot;id&quot;: &quot;11&quot;, &quot;properties&quot;: {}, &quot;type&quot;: &quot;Feature&quot;}, {&quot;bbox&quot;: [9.176043013797361, 39.21307311430043, 9.176043013797361, 39.21307311430043], &quot;geometry&quot;: {&quot;coordinates&quot;: [9.176043013797361, 39.21307311430043], &quot;type&quot;: &quot;Point&quot;}, &quot;id&quot;: &quot;12&quot;, &quot;properties&quot;: {}, &quot;type&quot;: &quot;Feature&quot;}, {&quot;bbox&quot;: [9.175987610742418, 39.213143612737575, 9.175987610742418, 39.213143612737575], &quot;geometry&quot;: {&quot;coordinates&quot;: [9.175987610742418, 39.213143612737575], &quot;type&quot;: &quot;Point&quot;}, &quot;id&quot;: &quot;13&quot;, &quot;properties&quot;: {}, &quot;type&quot;: &quot;Feature&quot;}, {&quot;bbox&quot;: [9.175934865964633, 39.213210728454776, 9.175934865964633, 39.213210728454776], &quot;geometry&quot;: {&quot;coordinates&quot;: [9.175934865964633, 39.213210728454776], &quot;type&quot;: &quot;Point&quot;}, &quot;id&quot;: &quot;14&quot;, &quot;properties&quot;: {}, &quot;type&quot;: &quot;Feature&quot;}, {&quot;bbox&quot;: [9.175963926959982, 39.21317374946584, 9.175963926959982, 39.21317374946584], &quot;geometry&quot;: {&quot;coordinates&quot;: [9.175963926959982, 39.21317374946584], &quot;type&quot;: &quot;Point&quot;}, &quot;id&quot;: &quot;15&quot;, &quot;properties&quot;: {}, &quot;type&quot;: &quot;Feature&quot;}, {&quot;bbox&quot;: [9.176022169694797, 39.213099637706875, 9.176022169694797, 39.213099637706875], &quot;geometry&quot;: {&quot;coordinates&quot;: [9.176022169694797, 39.213099637706875], &quot;type&quot;: &quot;Point&quot;}, &quot;id&quot;: &quot;16&quot;, &quot;properties&quot;: {}, &quot;type&quot;: &quot;Feature&quot;}, {&quot;bbox&quot;: [9.17603062817308, 39.21308887458587, 9.17603062817308, 39.21308887458587], &quot;geometry&quot;: {&quot;coordinates&quot;: [9.17603062817308, 39.21308887458587], &quot;type&quot;: &quot;Point&quot;}, &quot;id&quot;: &quot;17&quot;, &quot;properties&quot;: {}, &quot;type&quot;: &quot;Feature&quot;}, {&quot;bbox&quot;: [9.17599341084932, 39.21313623231359, 9.17599341084932, 39.21313623231359], &quot;geometry&quot;: {&quot;coordinates&quot;: [9.17599341084932, 39.21313623231359], &quot;type&quot;: &quot;Point&quot;}, &quot;id&quot;: &quot;18&quot;, &quot;properties&quot;: {}, &quot;type&quot;: &quot;Feature&quot;}, {&quot;bbox&quot;: [9.176039690825538, 39.21307734266983, 9.176039690825538, 39.21307734266983], &quot;geometry&quot;: {&quot;coordinates&quot;: [9.176039690825538, 39.21307734266983], &quot;type&quot;: &quot;Point&quot;}, &quot;id&quot;: &quot;19&quot;, &quot;properties&quot;: {}, &quot;type&quot;: &quot;Feature&quot;}, {&quot;bbox&quot;: [9.176027365617482, 39.213093026075484, 9.176027365617482, 39.213093026075484], &quot;geometry&quot;: {&quot;coordinates&quot;: [9.176027365617482, 39.213093026075484], &quot;type&quot;: &quot;Point&quot;}, &quot;id&quot;: &quot;20&quot;, &quot;properties&quot;: {}, &quot;type&quot;: &quot;Feature&quot;}, {&quot;bbox&quot;: [9.17600972364348, 39.21311547486949, 9.17600972364348, 39.21311547486949], &quot;geometry&quot;: {&quot;coordinates&quot;: [9.17600972364348, 39.21311547486949], &quot;type&quot;: &quot;Point&quot;}, &quot;id&quot;: &quot;21&quot;, &quot;properties&quot;: {}, &quot;type&quot;: &quot;Feature&quot;}, {&quot;bbox&quot;: [9.176009542390267, 39.213115705507775, 9.176009542390267, 39.213115705507775], &quot;geometry&quot;: {&quot;coordinates&quot;: [9.176009542390267, 39.213115705507775], &quot;type&quot;: &quot;Point&quot;}, &quot;id&quot;: &quot;22&quot;, &quot;properties&quot;: {}, &quot;type&quot;: &quot;Feature&quot;}, {&quot;bbox&quot;: [9.175991537898268, 39.21313861557553, 9.175991537898268, 39.21313861557553], &quot;geometry&quot;: {&quot;coordinates&quot;: [9.175991537898268, 39.21313861557553], &quot;type&quot;: &quot;Point&quot;}, &quot;id&quot;: &quot;23&quot;, &quot;properties&quot;: {}, &quot;type&quot;: &quot;Feature&quot;}, {&quot;bbox&quot;: [9.176023196795867, 39.21309833075651, 9.176023196795867, 39.21309833075651], &quot;geometry&quot;: {&quot;coordinates&quot;: [9.176023196795867, 39.21309833075651], &quot;type&quot;: &quot;Point&quot;}, &quot;id&quot;: &quot;24&quot;, &quot;properties&quot;: {}, &quot;type&quot;: &quot;Feature&quot;}, {&quot;bbox&quot;: [9.175932570084283, 39.21321364987147, 9.175932570084283, 39.21321364987147], &quot;geometry&quot;: {&quot;coordinates&quot;: [9.175932570084283, 39.21321364987147], &quot;type&quot;: &quot;Point&quot;}, &quot;id&quot;: &quot;25&quot;, &quot;properties&quot;: {}, &quot;type&quot;: &quot;Feature&quot;}, {&quot;bbox&quot;: [9.17599141706271, 39.21313876933436, 9.17599141706271, 39.21313876933436], &quot;geometry&quot;: {&quot;coordinates&quot;: [9.17599141706271, 39.21313876933436], &quot;type&quot;: &quot;Point&quot;}, &quot;id&quot;: &quot;26&quot;, &quot;properties&quot;: {}, &quot;type&quot;: &quot;Feature&quot;}, {&quot;bbox&quot;: [9.175963020692398, 39.21317490265689, 9.175963020692398, 39.21317490265689], &quot;geometry&quot;: {&quot;coordinates&quot;: [9.175963020692398, 39.21317490265689], &quot;type&quot;: &quot;Point&quot;}, &quot;id&quot;: &quot;27&quot;, &quot;properties&quot;: {}, &quot;type&quot;: &quot;Feature&quot;}, {&quot;bbox&quot;: [9.176028694806845, 39.21309133472789, 9.176028694806845, 39.21309133472789], &quot;geometry&quot;: {&quot;coordinates&quot;: [9.176028694806845, 39.21309133472789], &quot;type&quot;: &quot;Point&quot;}, &quot;id&quot;: &quot;28&quot;, &quot;properties&quot;: {}, &quot;type&quot;: &quot;Feature&quot;}, {&quot;bbox&quot;: [9.175989664947082, 39.213140998837446, 9.175989664947082, 39.213140998837446], &quot;geometry&quot;: {&quot;coordinates&quot;: [9.175989664947082, 39.213140998837446], &quot;type&quot;: &quot;Point&quot;}, &quot;id&quot;: &quot;30&quot;, &quot;properties&quot;: {}, &quot;type&quot;: &quot;Feature&quot;}, {&quot;bbox&quot;: [9.175959516457455, 39.21317936166215, 9.175959516457455, 39.21317936166215], &quot;geometry&quot;: {&quot;coordinates&quot;: [9.175959516457455, 39.21317936166215], &quot;type&quot;: &quot;Point&quot;}, &quot;id&quot;: &quot;32&quot;, &quot;properties&quot;: {}, &quot;type&quot;: &quot;Feature&quot;}, {&quot;bbox&quot;: [9.17596845829747, 39.21316798351056, 9.17596845829747, 39.21316798351056], &quot;geometry&quot;: {&quot;coordinates&quot;: [9.17596845829747, 39.21316798351056], &quot;type&quot;: &quot;Point&quot;}, &quot;id&quot;: &quot;33&quot;, &quot;properties&quot;: {}, &quot;type&quot;: &quot;Feature&quot;}, {&quot;bbox&quot;: [9.1759780647305, 39.213155759684774, 9.1759780647305, 39.213155759684774], &quot;geometry&quot;: {&quot;coordinates&quot;: [9.1759780647305, 39.213155759684774], &quot;type&quot;: &quot;Point&quot;}, &quot;id&quot;: &quot;34&quot;, &quot;properties&quot;: {}, &quot;type&quot;: &quot;Feature&quot;}, {&quot;bbox&quot;: [9.175943868230478, 39.21319927342572, 9.175943868230478, 39.21319927342572], &quot;geometry&quot;: {&quot;coordinates&quot;: [9.175943868230478, 39.21319927342572], &quot;type&quot;: &quot;Point&quot;}, &quot;id&quot;: &quot;36&quot;, &quot;properties&quot;: {}, &quot;type&quot;: &quot;Feature&quot;}, {&quot;bbox&quot;: [9.175986704475603, 39.213144765928796, 9.175986704475603, 39.213144765928796], &quot;geometry&quot;: {&quot;coordinates&quot;: [9.175986704475603, 39.213144765928796], &quot;type&quot;: &quot;Point&quot;}, &quot;id&quot;: &quot;37&quot;, &quot;properties&quot;: {}, &quot;type&quot;: &quot;Feature&quot;}, {&quot;bbox&quot;: [9.175982233558894, 39.21315045500539, 9.175982233558894, 39.21315045500539], &quot;geometry&quot;: {&quot;coordinates&quot;: [9.175982233558894, 39.21315045500539], &quot;type&quot;: &quot;Point&quot;}, &quot;id&quot;: &quot;38&quot;, &quot;properties&quot;: {}, &quot;type&quot;: &quot;Feature&quot;}, {&quot;bbox&quot;: [9.17594652661715, 39.213195890732464, 9.17594652661715, 39.213195890732464], &quot;geometry&quot;: {&quot;coordinates&quot;: [9.17594652661715, 39.213195890732464], &quot;type&quot;: &quot;Point&quot;}, &quot;id&quot;: &quot;39&quot;, &quot;properties&quot;: {}, &quot;type&quot;: &quot;Feature&quot;}, {&quot;bbox&quot;: [9.175982898154667, 39.21314960933187, 9.175982898154667, 39.21314960933187], &quot;geometry&quot;: {&quot;coordinates&quot;: [9.175982898154667, 39.21314960933187], &quot;type&quot;: &quot;Point&quot;}, &quot;id&quot;: &quot;40&quot;, &quot;properties&quot;: {}, &quot;type&quot;: &quot;Feature&quot;}, {&quot;bbox&quot;: [9.175994075444821, 39.21313538663996, 9.175994075444821, 39.21313538663996], &quot;geometry&quot;: {&quot;coordinates&quot;: [9.175994075444821, 39.21313538663996], &quot;type&quot;: &quot;Point&quot;}, &quot;id&quot;: &quot;41&quot;, &quot;properties&quot;: {}, &quot;type&quot;: &quot;Feature&quot;}, {&quot;bbox&quot;: [9.175952930911267, 39.21318774151657, 9.175952930911267, 39.21318774151657], &quot;geometry&quot;: {&quot;coordinates&quot;: [9.175952930911267, 39.21318774151657], &quot;type&quot;: &quot;Point&quot;}, &quot;id&quot;: &quot;42&quot;, &quot;properties&quot;: {}, &quot;type&quot;: &quot;Feature&quot;}, {&quot;bbox&quot;: [9.175988335755846, 39.2131426901846, 9.175988335755846, 39.2131426901846], &quot;geometry&quot;: {&quot;coordinates&quot;: [9.175988335755846, 39.2131426901846], &quot;type&quot;: &quot;Point&quot;}, &quot;id&quot;: &quot;43&quot;, &quot;properties&quot;: {}, &quot;type&quot;: &quot;Feature&quot;}, {&quot;bbox&quot;: [9.175956012222061, 39.213183820667304, 9.175956012222061, 39.213183820667304], &quot;geometry&quot;: {&quot;coordinates&quot;: [9.175956012222061, 39.213183820667304], &quot;type&quot;: &quot;Point&quot;}, &quot;id&quot;: &quot;44&quot;, &quot;properties&quot;: {}, &quot;type&quot;: &quot;Feature&quot;}, {&quot;bbox&quot;: [9.176001627665352, 39.21312577671241, 9.176001627665352, 39.21312577671241], &quot;geometry&quot;: {&quot;coordinates&quot;: [9.176001627665352, 39.21312577671241], &quot;type&quot;: &quot;Point&quot;}, &quot;id&quot;: &quot;45&quot;, &quot;properties&quot;: {}, &quot;type&quot;: &quot;Feature&quot;}, {&quot;bbox&quot;: [9.17606270994945, 39.213048051599806, 9.17606270994945, 39.213048051599806], &quot;geometry&quot;: {&quot;coordinates&quot;: [9.17606270994945, 39.213048051599806], &quot;type&quot;: &quot;Point&quot;}, &quot;id&quot;: &quot;46&quot;, &quot;properties&quot;: {}, &quot;type&quot;: &quot;Feature&quot;}, {&quot;bbox&quot;: [9.175937282680582, 39.21320765327928, 9.175937282680582, 39.21320765327928], &quot;geometry&quot;: {&quot;coordinates&quot;: [9.175937282680582, 39.21320765327928], &quot;type&quot;: &quot;Point&quot;}, &quot;id&quot;: &quot;47&quot;, &quot;properties&quot;: {}, &quot;type&quot;: &quot;Feature&quot;}, {&quot;bbox&quot;: [9.17600054014572, 39.213127160542, 9.17600054014572, 39.213127160542], &quot;geometry&quot;: {&quot;coordinates&quot;: [9.17600054014572, 39.213127160542], &quot;type&quot;: &quot;Point&quot;}, &quot;id&quot;: &quot;48&quot;, &quot;properties&quot;: {}, &quot;type&quot;: &quot;Feature&quot;}, {&quot;bbox&quot;: [9.176045188833244, 39.2130703466404, 9.176045188833244, 39.2130703466404], &quot;geometry&quot;: {&quot;coordinates&quot;: [9.176045188833244, 39.2130703466404], &quot;type&quot;: &quot;Point&quot;}, &quot;id&quot;: &quot;49&quot;, &quot;properties&quot;: {}, &quot;type&quot;: &quot;Feature&quot;}, {&quot;bbox&quot;: [9.176019873821671, 39.21310255912532, 9.176019873821671, 39.21310255912532], &quot;geometry&quot;: {&quot;coordinates&quot;: [9.176019873821671, 39.21310255912532], &quot;type&quot;: &quot;Point&quot;}, &quot;id&quot;: &quot;50&quot;, &quot;properties&quot;: {}, &quot;type&quot;: &quot;Feature&quot;}, {&quot;bbox&quot;: [9.176056426515945, 39.21305604706294, 9.176056426515945, 39.21305604706294], &quot;geometry&quot;: {&quot;coordinates&quot;: [9.176056426515945, 39.21305604706294], &quot;type&quot;: &quot;Point&quot;}, &quot;id&quot;: &quot;51&quot;, &quot;properties&quot;: {}, &quot;type&quot;: &quot;Feature&quot;}, {&quot;bbox&quot;: [9.176024767656259, 39.213096331891194, 9.176024767656259, 39.213096331891194], &quot;geometry&quot;: {&quot;coordinates&quot;: [9.176024767656259, 39.213096331891194], &quot;type&quot;: &quot;Point&quot;}, &quot;id&quot;: &quot;52&quot;, &quot;properties&quot;: {}, &quot;type&quot;: &quot;Feature&quot;}, {&quot;bbox&quot;: [9.176055580669018, 39.21305712337526, 9.176055580669018, 39.21305712337526], &quot;geometry&quot;: {&quot;coordinates&quot;: [9.176055580669018, 39.21305712337526], &quot;type&quot;: &quot;Point&quot;}, &quot;id&quot;: &quot;53&quot;, &quot;properties&quot;: {}, &quot;type&quot;: &quot;Feature&quot;}, {&quot;bbox&quot;: [9.176140890243468, 39.21294856955823, 9.176140890243468, 39.21294856955823], &quot;geometry&quot;: {&quot;coordinates&quot;: [9.176140890243468, 39.21294856955823], &quot;type&quot;: &quot;Point&quot;}, &quot;id&quot;: &quot;54&quot;, &quot;properties&quot;: {}, &quot;type&quot;: &quot;Feature&quot;}, {&quot;bbox&quot;: [9.176042711709028, 39.21307349869767, 9.176042711709028, 39.21307349869767], &quot;geometry&quot;: {&quot;coordinates&quot;: [9.176042711709028, 39.21307349869767], &quot;type&quot;: &quot;Point&quot;}, &quot;id&quot;: &quot;55&quot;, &quot;properties&quot;: {}, &quot;type&quot;: &quot;Feature&quot;}, {&quot;bbox&quot;: [9.176012382023837, 39.21311209217466, 9.176012382023837, 39.21311209217466], &quot;geometry&quot;: {&quot;coordinates&quot;: [9.176012382023837, 39.21311209217466], &quot;type&quot;: &quot;Point&quot;}, &quot;id&quot;: &quot;56&quot;, &quot;properties&quot;: {}, &quot;type&quot;: &quot;Feature&quot;}, {&quot;bbox&quot;: [9.175933959696094, 39.213211881645584, 9.175933959696094, 39.213211881645584], &quot;geometry&quot;: {&quot;coordinates&quot;: [9.175933959696094, 39.213211881645584], &quot;type&quot;: &quot;Point&quot;}, &quot;id&quot;: &quot;57&quot;, &quot;properties&quot;: {}, &quot;type&quot;: &quot;Feature&quot;}, {&quot;bbox&quot;: [9.176012200770641, 39.21311232281296, 9.176012200770641, 39.21311232281296], &quot;geometry&quot;: {&quot;coordinates&quot;: [9.176012200770641, 39.21311232281296], &quot;type&quot;: &quot;Point&quot;}, &quot;id&quot;: &quot;58&quot;, &quot;properties&quot;: {}, &quot;type&quot;: &quot;Feature&quot;}, {&quot;bbox&quot;: [9.175990208707116, 39.2131403069227, 9.175990208707116, 39.2131403069227], &quot;geometry&quot;: {&quot;coordinates&quot;: [9.175990208707116, 39.2131403069227], &quot;type&quot;: &quot;Point&quot;}, &quot;id&quot;: &quot;59&quot;, &quot;properties&quot;: {}, &quot;type&quot;: &quot;Feature&quot;}, {&quot;bbox&quot;: [9.176004225628741, 39.21312247089721, 9.176004225628741, 39.21312247089721], &quot;geometry&quot;: {&quot;coordinates&quot;: [9.176004225628741, 39.21312247089721], &quot;type&quot;: &quot;Point&quot;}, &quot;id&quot;: &quot;60&quot;, &quot;properties&quot;: {}, &quot;type&quot;: &quot;Feature&quot;}, {&quot;bbox&quot;: [9.175975527182477, 39.21315898861997, 9.175975527182477, 39.21315898861997], &quot;geometry&quot;: {&quot;coordinates&quot;: [9.175975527182477, 39.21315898861997], &quot;type&quot;: &quot;Point&quot;}, &quot;id&quot;: &quot;61&quot;, &quot;properties&quot;: {}, &quot;type&quot;: &quot;Feature&quot;}, {&quot;bbox&quot;: [9.175956435147047, 39.213183282511544, 9.175956435147047, 39.213183282511544], &quot;geometry&quot;: {&quot;coordinates&quot;: [9.175956435147047, 39.213183282511544], &quot;type&quot;: &quot;Point&quot;}, &quot;id&quot;: &quot;62&quot;, &quot;properties&quot;: {}, &quot;type&quot;: &quot;Feature&quot;}, {&quot;bbox&quot;: [9.176001144323303, 39.21312639174779, 9.176001144323303, 39.21312639174779], &quot;geometry&quot;: {&quot;coordinates&quot;: [9.176001144323303, 39.21312639174779], &quot;type&quot;: &quot;Point&quot;}, &quot;id&quot;: &quot;63&quot;, &quot;properties&quot;: {}, &quot;type&quot;: &quot;Feature&quot;}, {&quot;bbox&quot;: [9.175956737236316, 39.213182898114525, 9.175956737236316, 39.213182898114525], &quot;geometry&quot;: {&quot;coordinates&quot;: [9.175956737236316, 39.213182898114525], &quot;type&quot;: &quot;Point&quot;}, &quot;id&quot;: &quot;64&quot;, &quot;properties&quot;: {}, &quot;type&quot;: &quot;Feature&quot;}, {&quot;bbox&quot;: [9.175993833773733, 39.21313569415766, 9.175993833773733, 39.21313569415766], &quot;geometry&quot;: {&quot;coordinates&quot;: [9.175993833773733, 39.21313569415766], &quot;type&quot;: &quot;Point&quot;}, &quot;id&quot;: &quot;65&quot;, &quot;properties&quot;: {}, &quot;type&quot;: &quot;Feature&quot;}, {&quot;bbox&quot;: [9.176003863122235, 39.21312293217376, 9.176003863122235, 39.21312293217376], &quot;geometry&quot;: {&quot;coordinates&quot;: [9.176003863122235, 39.21312293217376], &quot;type&quot;: &quot;Point&quot;}, &quot;id&quot;: &quot;66&quot;, &quot;properties&quot;: {}, &quot;type&quot;: &quot;Feature&quot;}, {&quot;bbox&quot;: [9.17606144117934, 39.21304966606836, 9.17606144117934, 39.21304966606836], &quot;geometry&quot;: {&quot;coordinates&quot;: [9.17606144117934, 39.21304966606836], &quot;type&quot;: &quot;Point&quot;}, &quot;id&quot;: &quot;67&quot;, &quot;properties&quot;: {}, &quot;type&quot;: &quot;Feature&quot;}, {&quot;bbox&quot;: [9.176039690825538, 39.21307734266983, 9.176039690825538, 39.21307734266983], &quot;geometry&quot;: {&quot;coordinates&quot;: [9.176039690825538, 39.21307734266983], &quot;type&quot;: &quot;Point&quot;}, &quot;id&quot;: &quot;68&quot;, &quot;properties&quot;: {}, &quot;type&quot;: &quot;Feature&quot;}, {&quot;bbox&quot;: [9.176022713454193, 39.21309894579196, 9.176022713454193, 39.21309894579196], &quot;geometry&quot;: {&quot;coordinates&quot;: [9.176022713454193, 39.21309894579196], &quot;type&quot;: &quot;Point&quot;}, &quot;id&quot;: &quot;69&quot;, &quot;properties&quot;: {}, &quot;type&quot;: &quot;Feature&quot;}, {&quot;bbox&quot;: [9.17601951131537, 39.213103020401924, 9.17601951131537, 39.213103020401924], &quot;geometry&quot;: {&quot;coordinates&quot;: [9.17601951131537, 39.213103020401924], &quot;type&quot;: &quot;Point&quot;}, &quot;id&quot;: &quot;70&quot;, &quot;properties&quot;: {}, &quot;type&quot;: &quot;Feature&quot;}, {&quot;bbox&quot;: [9.176023438466704, 39.21309802323877, 9.176023438466704, 39.21309802323877], &quot;geometry&quot;: {&quot;coordinates&quot;: [9.176023438466704, 39.21309802323877], &quot;type&quot;: &quot;Point&quot;}, &quot;id&quot;: &quot;71&quot;, &quot;properties&quot;: {}, &quot;type&quot;: &quot;Feature&quot;}, {&quot;bbox&quot;: [9.176108627304941, 39.212989623204784, 9.176108627304941, 39.212989623204784], &quot;geometry&quot;: {&quot;coordinates&quot;: [9.176108627304941, 39.212989623204784], &quot;type&quot;: &quot;Point&quot;}, &quot;id&quot;: &quot;72&quot;, &quot;properties&quot;: {}, &quot;type&quot;: &quot;Feature&quot;}, {&quot;bbox&quot;: [9.176074128877847, 39.21303352138224, 9.176074128877847, 39.21303352138224], &quot;geometry&quot;: {&quot;coordinates&quot;: [9.176074128877847, 39.21303352138224], &quot;type&quot;: &quot;Point&quot;}, &quot;id&quot;: &quot;73&quot;, &quot;properties&quot;: {}, &quot;type&quot;: &quot;Feature&quot;}, {&quot;bbox&quot;: [9.176037092865467, 39.213080648485835, 9.176037092865467, 39.213080648485835], &quot;geometry&quot;: {&quot;coordinates&quot;: [9.176037092865467, 39.213080648485835], &quot;type&quot;: &quot;Point&quot;}, &quot;id&quot;: &quot;74&quot;, &quot;properties&quot;: {}, &quot;type&quot;: &quot;Feature&quot;}, {&quot;bbox&quot;: [9.176031292767696, 39.21308802891205, 9.176031292767696, 39.21308802891205], &quot;geometry&quot;: {&quot;coordinates&quot;: [9.176031292767696, 39.21308802891205], &quot;type&quot;: &quot;Point&quot;}, &quot;id&quot;: &quot;75&quot;, &quot;properties&quot;: {}, &quot;type&quot;: &quot;Feature&quot;}, {&quot;bbox&quot;: [9.176040838761304, 39.213075881960414, 9.176040838761304, 39.213075881960414], &quot;geometry&quot;: {&quot;coordinates&quot;: [9.176040838761304, 39.213075881960414], &quot;type&quot;: &quot;Point&quot;}, &quot;id&quot;: &quot;76&quot;, &quot;properties&quot;: {}, &quot;type&quot;: &quot;Feature&quot;}, {&quot;bbox&quot;: [9.176034253234421, 39.21308426181956, 9.176034253234421, 39.21308426181956], &quot;geometry&quot;: {&quot;coordinates&quot;: [9.176034253234421, 39.21308426181956], &quot;type&quot;: &quot;Point&quot;}, &quot;id&quot;: &quot;77&quot;, &quot;properties&quot;: {}, &quot;type&quot;: &quot;Feature&quot;}, {&quot;bbox&quot;: [9.175968277043987, 39.21316821414878, 9.175968277043987, 39.21316821414878], &quot;geometry&quot;: {&quot;coordinates&quot;: [9.175968277043987, 39.21316821414878], &quot;type&quot;: &quot;Point&quot;}, &quot;id&quot;: &quot;78&quot;, &quot;properties&quot;: {}, &quot;type&quot;: &quot;Feature&quot;}, {&quot;bbox&quot;: [9.175964772809705, 39.21317267315421, 9.175964772809705, 39.21317267315421], &quot;geometry&quot;: {&quot;coordinates&quot;: [9.175964772809705, 39.21317267315421], &quot;type&quot;: &quot;Point&quot;}, &quot;id&quot;: &quot;79&quot;, &quot;properties&quot;: {}, &quot;type&quot;: &quot;Feature&quot;}, {&quot;bbox&quot;: [9.175998183853048, 39.213130158839455, 9.175998183853048, 39.213130158839455], &quot;geometry&quot;: {&quot;coordinates&quot;: [9.175998183853048, 39.213130158839455], &quot;type&quot;: &quot;Point&quot;}, &quot;id&quot;: &quot;80&quot;, &quot;properties&quot;: {}, &quot;type&quot;: &quot;Feature&quot;}, {&quot;bbox&quot;: [9.175961872753415, 39.213176363365534, 9.175961872753415, 39.213176363365534], &quot;geometry&quot;: {&quot;coordinates&quot;: [9.175961872753415, 39.213176363365534], &quot;type&quot;: &quot;Point&quot;}, &quot;id&quot;: &quot;81&quot;, &quot;properties&quot;: {}, &quot;type&quot;: &quot;Feature&quot;}, {&quot;bbox&quot;: [9.175922540710008, 39.21322641184909, 9.175922540710008, 39.21322641184909], &quot;geometry&quot;: {&quot;coordinates&quot;: [9.175922540710008, 39.21322641184909], &quot;type&quot;: &quot;Point&quot;}, &quot;id&quot;: &quot;82&quot;, &quot;properties&quot;: {}, &quot;type&quot;: &quot;Feature&quot;}, {&quot;bbox&quot;: [9.17602023632797, 39.21310209784873, 9.17602023632797, 39.21310209784873], &quot;geometry&quot;: {&quot;coordinates&quot;: [9.17602023632797, 39.21310209784873], &quot;type&quot;: &quot;Point&quot;}, &quot;id&quot;: &quot;83&quot;, &quot;properties&quot;: {}, &quot;type&quot;: &quot;Feature&quot;}, {&quot;bbox&quot;: [9.176048270133796, 39.21306642578864, 9.176048270133796, 39.21306642578864], &quot;geometry&quot;: {&quot;coordinates&quot;: [9.176048270133796, 39.21306642578864], &quot;type&quot;: &quot;Point&quot;}, &quot;id&quot;: &quot;84&quot;, &quot;properties&quot;: {}, &quot;type&quot;: &quot;Feature&quot;}, {&quot;bbox&quot;: [9.176025794757237, 39.21309502494081, 9.176025794757237, 39.21309502494081], &quot;geometry&quot;: {&quot;coordinates&quot;: [9.176025794757237, 39.21309502494081], &quot;type&quot;: &quot;Point&quot;}, &quot;id&quot;: &quot;85&quot;, &quot;properties&quot;: {}, &quot;type&quot;: &quot;Feature&quot;}, {&quot;bbox&quot;: [9.176023619719828, 39.21309779260046, 9.176023619719828, 39.21309779260046], &quot;geometry&quot;: {&quot;coordinates&quot;: [9.176023619719828, 39.21309779260046], &quot;type&quot;: &quot;Point&quot;}, &quot;id&quot;: &quot;86&quot;, &quot;properties&quot;: {}, &quot;type&quot;: &quot;Feature&quot;}, {&quot;bbox&quot;: [9.176054191063297, 39.21305889160264, 9.176054191063297, 39.21305889160264], &quot;geometry&quot;: {&quot;coordinates&quot;: [9.176054191063297, 39.21305889160264], &quot;type&quot;: &quot;Point&quot;}, &quot;id&quot;: &quot;87&quot;, &quot;properties&quot;: {}, &quot;type&quot;: &quot;Feature&quot;}, {&quot;bbox&quot;: [9.176036065764908, 39.21308195543634, 9.176036065764908, 39.21308195543634], &quot;geometry&quot;: {&quot;coordinates&quot;: [9.176036065764908, 39.21308195543634], &quot;type&quot;: &quot;Point&quot;}, &quot;id&quot;: &quot;88&quot;, &quot;properties&quot;: {}, &quot;type&quot;: &quot;Feature&quot;}, {&quot;bbox&quot;: [9.175945559931119, 39.21319712080276, 9.175945559931119, 39.21319712080276], &quot;geometry&quot;: {&quot;coordinates&quot;: [9.175945559931119, 39.21319712080276], &quot;type&quot;: &quot;Point&quot;}, &quot;id&quot;: &quot;89&quot;, &quot;properties&quot;: {}, &quot;type&quot;: &quot;Feature&quot;}, {&quot;bbox&quot;: [9.176009965314432, 39.21311516735177, 9.176009965314432, 39.21311516735177], &quot;geometry&quot;: {&quot;coordinates&quot;: [9.176009965314432, 39.21311516735177], &quot;type&quot;: &quot;Point&quot;}, &quot;id&quot;: &quot;90&quot;, &quot;properties&quot;: {}, &quot;type&quot;: &quot;Feature&quot;}, {&quot;bbox&quot;: [9.176024405150022, 39.21309679316782, 9.176024405150022, 39.21309679316782], &quot;geometry&quot;: {&quot;coordinates&quot;: [9.176024405150022, 39.21309679316782], &quot;type&quot;: &quot;Point&quot;}, &quot;id&quot;: &quot;91&quot;, &quot;properties&quot;: {}, &quot;type&quot;: &quot;Feature&quot;}, {&quot;bbox&quot;: [9.176006823591887, 39.21311916508195, 9.176006823591887, 39.21311916508195], &quot;geometry&quot;: {&quot;coordinates&quot;: [9.176006823591887, 39.21311916508195], &quot;type&quot;: &quot;Point&quot;}, &quot;id&quot;: &quot;92&quot;, &quot;properties&quot;: {}, &quot;type&quot;: &quot;Feature&quot;}, {&quot;bbox&quot;: [9.17603818038367, 39.21307926465589, 9.17603818038367, 39.21307926465589], &quot;geometry&quot;: {&quot;coordinates&quot;: [9.17603818038367, 39.21307926465589], &quot;type&quot;: &quot;Point&quot;}, &quot;id&quot;: &quot;93&quot;, &quot;properties&quot;: {}, &quot;type&quot;: &quot;Feature&quot;}, {&quot;bbox&quot;: [9.176029298983812, 39.213090565933506, 9.176029298983812, 39.213090565933506], &quot;geometry&quot;: {&quot;coordinates&quot;: [9.176029298983812, 39.213090565933506], &quot;type&quot;: &quot;Point&quot;}, &quot;id&quot;: &quot;94&quot;, &quot;properties&quot;: {}, &quot;type&quot;: &quot;Feature&quot;}, {&quot;bbox&quot;: [9.17607219551464, 39.21303598152498, 9.17607219551464, 39.21303598152498], &quot;geometry&quot;: {&quot;coordinates&quot;: [9.17607219551464, 39.21303598152498], &quot;type&quot;: &quot;Point&quot;}, &quot;id&quot;: &quot;95&quot;, &quot;properties&quot;: {}, &quot;type&quot;: &quot;Feature&quot;}, {&quot;bbox&quot;: [9.176103673067612, 39.21299592732196, 9.176103673067612, 39.21299592732196], &quot;geometry&quot;: {&quot;coordinates&quot;: [9.176103673067612, 39.21299592732196], &quot;type&quot;: &quot;Point&quot;}, &quot;id&quot;: &quot;96&quot;, &quot;properties&quot;: {}, &quot;type&quot;: &quot;Feature&quot;}, {&quot;bbox&quot;: [9.176040174166916, 39.213076727634274, 9.176040174166916, 39.213076727634274], &quot;geometry&quot;: {&quot;coordinates&quot;: [9.176040174166916, 39.213076727634274], &quot;type&quot;: &quot;Point&quot;}, &quot;id&quot;: &quot;97&quot;, &quot;properties&quot;: {}, &quot;type&quot;: &quot;Feature&quot;}, {&quot;bbox&quot;: [9.175992444164919, 39.213137462384275, 9.175992444164919, 39.213137462384275], &quot;geometry&quot;: {&quot;coordinates&quot;: [9.175992444164919, 39.213137462384275], &quot;type&quot;: &quot;Point&quot;}, &quot;id&quot;: &quot;98&quot;, &quot;properties&quot;: {}, &quot;type&quot;: &quot;Feature&quot;}, {&quot;bbox&quot;: [9.176054674404426, 39.21305827656703, 9.176054674404426, 39.21305827656703], &quot;geometry&quot;: {&quot;coordinates&quot;: [9.176054674404426, 39.21305827656703], &quot;type&quot;: &quot;Point&quot;}, &quot;id&quot;: &quot;99&quot;, &quot;properties&quot;: {}, &quot;type&quot;: &quot;Feature&quot;}, {&quot;bbox&quot;: [9.17599467962254, 39.213134617845775, 9.17599467962254, 39.213134617845775], &quot;geometry&quot;: {&quot;coordinates&quot;: [9.17599467962254, 39.213134617845775], &quot;type&quot;: &quot;Point&quot;}, &quot;id&quot;: &quot;100&quot;, &quot;properties&quot;: {}, &quot;type&quot;: &quot;Feature&quot;}, {&quot;bbox&quot;: [9.176041503355671, 39.213075036286526, 9.176041503355671, 39.213075036286526], &quot;geometry&quot;: {&quot;coordinates&quot;: [9.176041503355671, 39.213075036286526], &quot;type&quot;: &quot;Point&quot;}, &quot;id&quot;: &quot;101&quot;, &quot;properties&quot;: {}, &quot;type&quot;: &quot;Feature&quot;}, {&quot;bbox&quot;: [9.176053526469232, 39.21305973727659, 9.176053526469232, 39.21305973727659], &quot;geometry&quot;: {&quot;coordinates&quot;: [9.176053526469232, 39.21305973727659], &quot;type&quot;: &quot;Point&quot;}, &quot;id&quot;: &quot;102&quot;, &quot;properties&quot;: {}, &quot;type&quot;: &quot;Feature&quot;}, {&quot;bbox&quot;: [9.176043134632689, 39.21307296054153, 9.176043134632689, 39.21307296054153], &quot;geometry&quot;: {&quot;coordinates&quot;: [9.176043134632689, 39.21307296054153], &quot;type&quot;: &quot;Point&quot;}, &quot;id&quot;: &quot;103&quot;, &quot;properties&quot;: {}, &quot;type&quot;: &quot;Feature&quot;}, {&quot;bbox&quot;: [9.176007669440297, 39.21311808876999, 9.176007669440297, 39.21311808876999], &quot;geometry&quot;: {&quot;coordinates&quot;: [9.176007669440297, 39.21311808876999], &quot;type&quot;: &quot;Point&quot;}, &quot;id&quot;: &quot;104&quot;, &quot;properties&quot;: {}, &quot;type&quot;: &quot;Feature&quot;}, {&quot;bbox&quot;: [9.17600168808311, 39.21312569983297, 9.17600168808311, 39.21312569983297], &quot;geometry&quot;: {&quot;coordinates&quot;: [9.17600168808311, 39.21312569983297], &quot;type&quot;: &quot;Point&quot;}, &quot;id&quot;: &quot;105&quot;, &quot;properties&quot;: {}, &quot;type&quot;: &quot;Feature&quot;}, {&quot;bbox&quot;: [9.176017094606582, 39.21310609557918, 9.176017094606582, 39.21310609557918], &quot;geometry&quot;: {&quot;coordinates&quot;: [9.176017094606582, 39.21310609557918], &quot;type&quot;: &quot;Point&quot;}, &quot;id&quot;: &quot;106&quot;, &quot;properties&quot;: {}, &quot;type&quot;: &quot;Feature&quot;}, {&quot;bbox&quot;: [9.176045067997924, 39.21307050039929, 9.176045067997924, 39.21307050039929], &quot;geometry&quot;: {&quot;coordinates&quot;: [9.176045067997924, 39.21307050039929], &quot;type&quot;: &quot;Point&quot;}, &quot;id&quot;: &quot;107&quot;, &quot;properties&quot;: {}, &quot;type&quot;: &quot;Feature&quot;}, {&quot;bbox&quot;: [9.176053586886878, 39.213059660397164, 9.176053586886878, 39.213059660397164], &quot;geometry&quot;: {&quot;coordinates&quot;: [9.176053586886878, 39.213059660397164], &quot;type&quot;: &quot;Point&quot;}, &quot;id&quot;: &quot;108&quot;, &quot;properties&quot;: {}, &quot;type&quot;: &quot;Feature&quot;}, {&quot;bbox&quot;: [9.17602428431461, 39.21309694692668, 9.17602428431461, 39.21309694692668], &quot;geometry&quot;: {&quot;coordinates&quot;: [9.17602428431461, 39.21309694692668], &quot;type&quot;: &quot;Point&quot;}, &quot;id&quot;: &quot;109&quot;, &quot;properties&quot;: {}, &quot;type&quot;: &quot;Feature&quot;}, {&quot;bbox&quot;: [9.176077149757592, 39.21302967740915, 9.176077149757592, 39.21302967740915], &quot;geometry&quot;: {&quot;coordinates&quot;: [9.176077149757592, 39.21302967740915], &quot;type&quot;: &quot;Point&quot;}, &quot;id&quot;: &quot;110&quot;, &quot;properties&quot;: {}, &quot;type&quot;: &quot;Feature&quot;}, {&quot;bbox&quot;: [9.176026157263458, 39.21309456366421, 9.176026157263458, 39.21309456366421], &quot;geometry&quot;: {&quot;coordinates&quot;: [9.176026157263458, 39.21309456366421], &quot;type&quot;: &quot;Point&quot;}, &quot;id&quot;: &quot;111&quot;, &quot;properties&quot;: {}, &quot;type&quot;: &quot;Feature&quot;}, {&quot;bbox&quot;: [9.176027546870579, 39.213092795437156, 9.176027546870579, 39.213092795437156], &quot;geometry&quot;: {&quot;coordinates&quot;: [9.176027546870579, 39.213092795437156], &quot;type&quot;: &quot;Point&quot;}, &quot;id&quot;: &quot;112&quot;, &quot;properties&quot;: {}, &quot;type&quot;: &quot;Feature&quot;}, {&quot;bbox&quot;: [9.176011717428773, 39.21311293784838, 9.176011717428773, 39.21311293784838], &quot;geometry&quot;: {&quot;coordinates&quot;: [9.176011717428773, 39.21311293784838], &quot;type&quot;: &quot;Point&quot;}, &quot;id&quot;: &quot;114&quot;, &quot;properties&quot;: {}, &quot;type&quot;: &quot;Feature&quot;}, {&quot;bbox&quot;: [9.1760590244742, 39.21305274124651, 9.1760590244742, 39.21305274124651], &quot;geometry&quot;: {&quot;coordinates&quot;: [9.1760590244742, 39.21305274124651], &quot;type&quot;: &quot;Point&quot;}, &quot;id&quot;: &quot;115&quot;, &quot;properties&quot;: {}, &quot;type&quot;: &quot;Feature&quot;}, {&quot;bbox&quot;: [9.176056124427765, 39.21305643146021, 9.176056124427765, 39.21305643146021], &quot;geometry&quot;: {&quot;coordinates&quot;: [9.176056124427765, 39.21305643146021], &quot;type&quot;: &quot;Point&quot;}, &quot;id&quot;: &quot;116&quot;, &quot;properties&quot;: {}, &quot;type&quot;: &quot;Feature&quot;}, {&quot;bbox&quot;: [9.176057030692307, 39.21305527826845, 9.176057030692307, 39.21305527826845], &quot;geometry&quot;: {&quot;coordinates&quot;: [9.176057030692307, 39.21305527826845], &quot;type&quot;: &quot;Point&quot;}, &quot;id&quot;: &quot;117&quot;, &quot;properties&quot;: {}, &quot;type&quot;: &quot;Feature&quot;}, {&quot;bbox&quot;: [9.176049478486854, 39.21306488819968, 9.176049478486854, 39.21306488819968], &quot;geometry&quot;: {&quot;coordinates&quot;: [9.176049478486854, 39.21306488819968], &quot;type&quot;: &quot;Point&quot;}, &quot;id&quot;: &quot;118&quot;, &quot;properties&quot;: {}, &quot;type&quot;: &quot;Feature&quot;}, {&quot;bbox&quot;: [9.175972566709493, 39.21316275571095, 9.175972566709493, 39.21316275571095], &quot;geometry&quot;: {&quot;coordinates&quot;: [9.175972566709493, 39.21316275571095], &quot;type&quot;: &quot;Point&quot;}, &quot;id&quot;: &quot;119&quot;, &quot;properties&quot;: {}, &quot;type&quot;: &quot;Feature&quot;}, {&quot;bbox&quot;: [9.176009602808003, 39.213115628628366, 9.176009602808003, 39.213115628628366], &quot;geometry&quot;: {&quot;coordinates&quot;: [9.176009602808003, 39.213115628628366], &quot;type&quot;: &quot;Point&quot;}, &quot;id&quot;: &quot;120&quot;, &quot;properties&quot;: {}, &quot;type&quot;: &quot;Feature&quot;}, {&quot;bbox&quot;: [9.17598803366692, 39.21314307458168, 9.17598803366692, 39.21314307458168], &quot;geometry&quot;: {&quot;coordinates&quot;: [9.17598803366692, 39.21314307458168], &quot;type&quot;: &quot;Point&quot;}, &quot;id&quot;: &quot;121&quot;, &quot;properties&quot;: {}, &quot;type&quot;: &quot;Feature&quot;}, {&quot;bbox&quot;: [9.17603395114599, 39.213084646216736, 9.17603395114599, 39.213084646216736], &quot;geometry&quot;: {&quot;coordinates&quot;: [9.17603395114599, 39.213084646216736], &quot;type&quot;: &quot;Point&quot;}, &quot;id&quot;: &quot;122&quot;, &quot;properties&quot;: {}, &quot;type&quot;: &quot;Feature&quot;}, {&quot;bbox&quot;: [9.175995042129168, 39.21313415656927, 9.175995042129168, 39.21313415656927], &quot;geometry&quot;: {&quot;coordinates&quot;: [9.175995042129168, 39.21313415656927], &quot;type&quot;: &quot;Point&quot;}, &quot;id&quot;: &quot;123&quot;, &quot;properties&quot;: {}, &quot;type&quot;: &quot;Feature&quot;}, {&quot;bbox&quot;: [9.176054553569145, 39.213058430325944, 9.176054553569145, 39.213058430325944], &quot;geometry&quot;: {&quot;coordinates&quot;: [9.176054553569145, 39.213058430325944], &quot;type&quot;: &quot;Point&quot;}, &quot;id&quot;: &quot;124&quot;, &quot;properties&quot;: {}, &quot;type&quot;: &quot;Feature&quot;}, {&quot;bbox&quot;: [9.176079264373215, 39.21302698662794, 9.176079264373215, 39.21302698662794], &quot;geometry&quot;: {&quot;coordinates&quot;: [9.176079264373215, 39.21302698662794], &quot;type&quot;: &quot;Point&quot;}, &quot;id&quot;: &quot;125&quot;, &quot;properties&quot;: {}, &quot;type&quot;: &quot;Feature&quot;}, {&quot;bbox&quot;: [9.175952447568365, 39.21318835655175, 9.175952447568365, 39.21318835655175], &quot;geometry&quot;: {&quot;coordinates&quot;: [9.175952447568365, 39.21318835655175], &quot;type&quot;: &quot;Point&quot;}, &quot;id&quot;: &quot;126&quot;, &quot;properties&quot;: {}, &quot;type&quot;: &quot;Feature&quot;}, {&quot;bbox&quot;: [9.176051170181058, 39.21306273557512, 9.176051170181058, 39.21306273557512], &quot;geometry&quot;: {&quot;coordinates&quot;: [9.176051170181058, 39.21306273557512], &quot;type&quot;: &quot;Point&quot;}, &quot;id&quot;: &quot;127&quot;, &quot;properties&quot;: {}, &quot;type&quot;: &quot;Feature&quot;}, {&quot;bbox&quot;: [9.176048451386759, 39.2130661951503, 9.176048451386759, 39.2130661951503], &quot;geometry&quot;: {&quot;coordinates&quot;: [9.176048451386759, 39.2130661951503], &quot;type&quot;: &quot;Point&quot;}, &quot;id&quot;: &quot;128&quot;, &quot;properties&quot;: {}, &quot;type&quot;: &quot;Feature&quot;}, {&quot;bbox&quot;: [9.176043195050354, 39.213072883662086, 9.176043195050354, 39.213072883662086], &quot;geometry&quot;: {&quot;coordinates&quot;: [9.176043195050354, 39.213072883662086], &quot;type&quot;: &quot;Point&quot;}, &quot;id&quot;: &quot;129&quot;, &quot;properties&quot;: {}, &quot;type&quot;: &quot;Feature&quot;}, {&quot;bbox&quot;: [9.176059266144721, 39.21305243372867, 9.176059266144721, 39.21305243372867], &quot;geometry&quot;: {&quot;coordinates&quot;: [9.176059266144721, 39.21305243372867], &quot;type&quot;: &quot;Point&quot;}, &quot;id&quot;: &quot;130&quot;, &quot;properties&quot;: {}, &quot;type&quot;: &quot;Feature&quot;}, {&quot;bbox&quot;: [9.17605896405657, 39.21305281812595, 9.17605896405657, 39.21305281812595], &quot;geometry&quot;: {&quot;coordinates&quot;: [9.17605896405657, 39.21305281812595], &quot;type&quot;: &quot;Point&quot;}, &quot;id&quot;: &quot;131&quot;, &quot;properties&quot;: {}, &quot;type&quot;: &quot;Feature&quot;}, {&quot;bbox&quot;: [9.176029480236894, 39.213090335295206, 9.176029480236894, 39.213090335295206], &quot;geometry&quot;: {&quot;coordinates&quot;: [9.176029480236894, 39.213090335295206], &quot;type&quot;: &quot;Point&quot;}, &quot;id&quot;: &quot;132&quot;, &quot;properties&quot;: {}, &quot;type&quot;: &quot;Feature&quot;}, {&quot;bbox&quot;: [9.176035522005776, 39.21308264735129, 9.176035522005776, 39.21308264735129], &quot;geometry&quot;: {&quot;coordinates&quot;: [9.176035522005776, 39.21308264735129], &quot;type&quot;: &quot;Point&quot;}, &quot;id&quot;: &quot;133&quot;, &quot;properties&quot;: {}, &quot;type&quot;: &quot;Feature&quot;}, {&quot;bbox&quot;: [9.176039690825538, 39.21307734266983, 9.176039690825538, 39.21307734266983], &quot;geometry&quot;: {&quot;coordinates&quot;: [9.176039690825538, 39.21307734266983], &quot;type&quot;: &quot;Point&quot;}, &quot;id&quot;: &quot;134&quot;, &quot;properties&quot;: {}, &quot;type&quot;: &quot;Feature&quot;}, {&quot;bbox&quot;: [9.176045611756871, 39.21306980848428, 9.176045611756871, 39.21306980848428], &quot;geometry&quot;: {&quot;coordinates&quot;: [9.176045611756871, 39.21306980848428], &quot;type&quot;: &quot;Point&quot;}, &quot;id&quot;: &quot;135&quot;, &quot;properties&quot;: {}, &quot;type&quot;: &quot;Feature&quot;}, {&quot;bbox&quot;: [9.176025613504125, 39.21309525557911, 9.176025613504125, 39.21309525557911], &quot;geometry&quot;: {&quot;coordinates&quot;: [9.176025613504125, 39.21309525557911], &quot;type&quot;: &quot;Point&quot;}, &quot;id&quot;: &quot;136&quot;, &quot;properties&quot;: {}, &quot;type&quot;: &quot;Feature&quot;}, {&quot;bbox&quot;: [9.176066335006592, 39.21304343883244, 9.176066335006592, 39.21304343883244], &quot;geometry&quot;: {&quot;coordinates&quot;: [9.176066335006592, 39.21304343883244], &quot;type&quot;: &quot;Point&quot;}, &quot;id&quot;: &quot;137&quot;, &quot;properties&quot;: {}, &quot;type&quot;: &quot;Feature&quot;}, {&quot;bbox&quot;: [9.176070564239332, 39.21303805727038, 9.176070564239332, 39.21303805727038], &quot;geometry&quot;: {&quot;coordinates&quot;: [9.176070564239332, 39.21303805727038], &quot;type&quot;: &quot;Point&quot;}, &quot;id&quot;: &quot;138&quot;, &quot;properties&quot;: {}, &quot;type&quot;: &quot;Feature&quot;}, {&quot;bbox&quot;: [9.17608065397768, 39.21302521840026, 9.17608065397768, 39.21302521840026], &quot;geometry&quot;: {&quot;coordinates&quot;: [9.17608065397768, 39.21302521840026], &quot;type&quot;: &quot;Point&quot;}, &quot;id&quot;: &quot;139&quot;, &quot;properties&quot;: {}, &quot;type&quot;: &quot;Feature&quot;}, {&quot;bbox&quot;: [9.176082647757879, 39.213022681377915, 9.176082647757879, 39.213022681377915], &quot;geometry&quot;: {&quot;coordinates&quot;: [9.176082647757879, 39.213022681377915], &quot;type&quot;: &quot;Point&quot;}, &quot;id&quot;: &quot;140&quot;, &quot;properties&quot;: {}, &quot;type&quot;: &quot;Feature&quot;}, {&quot;bbox&quot;: [9.17601304661889, 39.21311124650095, 9.17601304661889, 39.21311124650095], &quot;geometry&quot;: {&quot;coordinates&quot;: [9.17601304661889, 39.21311124650095], &quot;type&quot;: &quot;Point&quot;}, &quot;id&quot;: &quot;141&quot;, &quot;properties&quot;: {}, &quot;type&quot;: &quot;Feature&quot;}, {&quot;bbox&quot;: [9.176028936477634, 39.21309102721013, 9.176028936477634, 39.21309102721013], &quot;geometry&quot;: {&quot;coordinates&quot;: [9.176028936477634, 39.21309102721013], &quot;type&quot;: &quot;Point&quot;}, &quot;id&quot;: &quot;142&quot;, &quot;properties&quot;: {}, &quot;type&quot;: &quot;Feature&quot;}, {&quot;bbox&quot;: [9.176030688590778, 39.21308879770644, 9.176030688590778, 39.21308879770644], &quot;geometry&quot;: {&quot;coordinates&quot;: [9.176030688590778, 39.21308879770644], &quot;type&quot;: &quot;Point&quot;}, &quot;id&quot;: &quot;143&quot;, &quot;properties&quot;: {}, &quot;type&quot;: &quot;Feature&quot;}, {&quot;bbox&quot;: [9.176019450897655, 39.21310309728135, 9.176019450897655, 39.21310309728135], &quot;geometry&quot;: {&quot;coordinates&quot;: [9.176019450897655, 39.21310309728135], &quot;type&quot;: &quot;Point&quot;}, &quot;id&quot;: &quot;144&quot;, &quot;properties&quot;: {}, &quot;type&quot;: &quot;Feature&quot;}, {&quot;bbox&quot;: [9.175979998100267, 39.21315329954363, 9.175979998100267, 39.21315329954363], &quot;geometry&quot;: {&quot;coordinates&quot;: [9.175979998100267, 39.21315329954363], &quot;type&quot;: &quot;Point&quot;}, &quot;id&quot;: &quot;145&quot;, &quot;properties&quot;: {}, &quot;type&quot;: &quot;Feature&quot;}, {&quot;bbox&quot;: [9.176002775602692, 39.213124316003366, 9.176002775602692, 39.213124316003366], &quot;geometry&quot;: {&quot;coordinates&quot;: [9.176002775602692, 39.213124316003366], &quot;type&quot;: &quot;Point&quot;}, &quot;id&quot;: &quot;146&quot;, &quot;properties&quot;: {}, &quot;type&quot;: &quot;Feature&quot;}, {&quot;bbox&quot;: [9.176047726374899, 39.21306711770367, 9.176047726374899, 39.21306711770367], &quot;geometry&quot;: {&quot;coordinates&quot;: [9.176047726374899, 39.21306711770367], &quot;type&quot;: &quot;Point&quot;}, &quot;id&quot;: &quot;147&quot;, &quot;properties&quot;: {}, &quot;type&quot;: &quot;Feature&quot;}, {&quot;bbox&quot;: [9.176023680137535, 39.21309771572103, 9.176023680137535, 39.21309771572103], &quot;geometry&quot;: {&quot;coordinates&quot;: [9.176023680137535, 39.21309771572103], &quot;type&quot;: &quot;Point&quot;}, &quot;id&quot;: &quot;148&quot;, &quot;properties&quot;: {}, &quot;type&quot;: &quot;Feature&quot;}, {&quot;bbox&quot;: [9.176026821858176, 39.21309371799041, 9.176026821858176, 39.21309371799041], &quot;geometry&quot;: {&quot;coordinates&quot;: [9.176026821858176, 39.21309371799041], &quot;type&quot;: &quot;Point&quot;}, &quot;id&quot;: &quot;149&quot;, &quot;properties&quot;: {}, &quot;type&quot;: &quot;Feature&quot;}, {&quot;bbox&quot;: [9.176068147534986, 39.21304113244872, 9.176068147534986, 39.21304113244872], &quot;geometry&quot;: {&quot;coordinates&quot;: [9.176068147534986, 39.21304113244872], &quot;type&quot;: &quot;Point&quot;}, &quot;id&quot;: &quot;150&quot;, &quot;properties&quot;: {}, &quot;type&quot;: &quot;Feature&quot;}, {&quot;bbox&quot;: [9.176019390479935, 39.21310317416078, 9.176019390479935, 39.21310317416078], &quot;geometry&quot;: {&quot;coordinates&quot;: [9.176019390479935, 39.21310317416078], &quot;type&quot;: &quot;Point&quot;}, &quot;id&quot;: &quot;151&quot;, &quot;properties&quot;: {}, &quot;type&quot;: &quot;Feature&quot;}, {&quot;bbox&quot;: [9.175994860875853, 39.213134387207525, 9.175994860875853, 39.213134387207525], &quot;geometry&quot;: {&quot;coordinates&quot;: [9.175994860875853, 39.213134387207525], &quot;type&quot;: &quot;Point&quot;}, &quot;id&quot;: &quot;152&quot;, &quot;properties&quot;: {}, &quot;type&quot;: &quot;Feature&quot;}, {&quot;bbox&quot;: [9.176013711213926, 39.213110400827254, 9.176013711213926, 39.213110400827254], &quot;geometry&quot;: {&quot;coordinates&quot;: [9.176013711213926, 39.213110400827254], &quot;type&quot;: &quot;Point&quot;}, &quot;id&quot;: &quot;153&quot;, &quot;properties&quot;: {}, &quot;type&quot;: &quot;Feature&quot;}, {&quot;bbox&quot;: [9.17603685119475, 39.21308095600361, 9.17603685119475, 39.21308095600361], &quot;geometry&quot;: {&quot;coordinates&quot;: [9.17603685119475, 39.21308095600361], &quot;type&quot;: &quot;Point&quot;}, &quot;id&quot;: &quot;154&quot;, &quot;properties&quot;: {}, &quot;type&quot;: &quot;Feature&quot;}, {&quot;bbox&quot;: [9.176081258153511, 39.21302444960562, 9.176081258153511, 39.21302444960562], &quot;geometry&quot;: {&quot;coordinates&quot;: [9.176081258153511, 39.21302444960562], &quot;type&quot;: &quot;Point&quot;}, &quot;id&quot;: &quot;155&quot;, &quot;properties&quot;: {}, &quot;type&quot;: &quot;Feature&quot;}, {&quot;bbox&quot;: [9.176137144361148, 39.212953336086954, 9.176137144361148, 39.212953336086954], &quot;geometry&quot;: {&quot;coordinates&quot;: [9.176137144361148, 39.212953336086954], &quot;type&quot;: &quot;Point&quot;}, &quot;id&quot;: &quot;156&quot;, &quot;properties&quot;: {}, &quot;type&quot;: &quot;Feature&quot;}, {&quot;bbox&quot;: [9.176112614861166, 39.21298454915905, 9.176112614861166, 39.21298454915905], &quot;geometry&quot;: {&quot;coordinates&quot;: [9.176112614861166, 39.21298454915905], &quot;type&quot;: &quot;Point&quot;}, &quot;id&quot;: &quot;157&quot;, &quot;properties&quot;: {}, &quot;type&quot;: &quot;Feature&quot;}, {&quot;bbox&quot;: [9.176052378533994, 39.21306119798615, 9.176052378533994, 39.21306119798615], &quot;geometry&quot;: {&quot;coordinates&quot;: [9.176052378533994, 39.21306119798615], &quot;type&quot;: &quot;Point&quot;}, &quot;id&quot;: &quot;158&quot;, &quot;properties&quot;: {}, &quot;type&quot;: &quot;Feature&quot;}, {&quot;bbox&quot;: [9.17598265648348, 39.21314991684952, 9.17598265648348, 39.21314991684952], &quot;geometry&quot;: {&quot;coordinates&quot;: [9.17598265648348, 39.21314991684952], &quot;type&quot;: &quot;Point&quot;}, &quot;id&quot;: &quot;159&quot;, &quot;properties&quot;: {}, &quot;type&quot;: &quot;Feature&quot;}, {&quot;bbox&quot;: [9.176021263429108, 39.21310079089839, 9.176021263429108, 39.21310079089839], &quot;geometry&quot;: {&quot;coordinates&quot;: [9.176021263429108, 39.21310079089839], &quot;type&quot;: &quot;Point&quot;}, &quot;id&quot;: &quot;160&quot;, &quot;properties&quot;: {}, &quot;type&quot;: &quot;Feature&quot;}, {&quot;bbox&quot;: [9.176069295469578, 39.21303967173901, 9.176069295469578, 39.21303967173901], &quot;geometry&quot;: {&quot;coordinates&quot;: [9.176069295469578, 39.21303967173901], &quot;type&quot;: &quot;Point&quot;}, &quot;id&quot;: &quot;161&quot;, &quot;properties&quot;: {}, &quot;type&quot;: &quot;Feature&quot;}, {&quot;bbox&quot;: [9.17609763131357, 39.21300361526947, 9.17609763131357, 39.21300361526947], &quot;geometry&quot;: {&quot;coordinates&quot;: [9.17609763131357, 39.21300361526947], &quot;type&quot;: &quot;Point&quot;}, &quot;id&quot;: &quot;162&quot;, &quot;properties&quot;: {}, &quot;type&quot;: &quot;Feature&quot;}, {&quot;bbox&quot;: [9.176031353185392, 39.21308795203262, 9.176031353185392, 39.21308795203262], &quot;geometry&quot;: {&quot;coordinates&quot;: [9.176031353185392, 39.21308795203262], &quot;type&quot;: &quot;Point&quot;}, &quot;id&quot;: &quot;163&quot;, &quot;properties&quot;: {}, &quot;type&quot;: &quot;Feature&quot;}, {&quot;bbox&quot;: [9.176013469543008, 39.213110708344985, 9.176013469543008, 39.213110708344985], &quot;geometry&quot;: {&quot;coordinates&quot;: [9.176013469543008, 39.213110708344985], &quot;type&quot;: &quot;Point&quot;}, &quot;id&quot;: &quot;164&quot;, &quot;properties&quot;: {}, &quot;type&quot;: &quot;Feature&quot;}, {&quot;bbox&quot;: [9.176019390479935, 39.21310317416078, 9.176019390479935, 39.21310317416078], &quot;geometry&quot;: {&quot;coordinates&quot;: [9.176019390479935, 39.21310317416078], &quot;type&quot;: &quot;Point&quot;}, &quot;id&quot;: &quot;165&quot;, &quot;properties&quot;: {}, &quot;type&quot;: &quot;Feature&quot;}, {&quot;bbox&quot;: [9.176021505099966, 39.21310048338065, 9.176021505099966, 39.21310048338065], &quot;geometry&quot;: {&quot;coordinates&quot;: [9.176021505099966, 39.21310048338065], &quot;type&quot;: &quot;Point&quot;}, &quot;id&quot;: &quot;166&quot;, &quot;properties&quot;: {}, &quot;type&quot;: &quot;Feature&quot;}, {&quot;bbox&quot;: [9.176056728604127, 39.213055662665695, 9.176056728604127, 39.213055662665695], &quot;geometry&quot;: {&quot;coordinates&quot;: [9.176056728604127, 39.213055662665695], &quot;type&quot;: &quot;Point&quot;}, &quot;id&quot;: &quot;167&quot;, &quot;properties&quot;: {}, &quot;type&quot;: &quot;Feature&quot;}, {&quot;bbox&quot;: [9.175922903217575, 39.21322595057281, 9.175922903217575, 39.21322595057281], &quot;geometry&quot;: {&quot;coordinates&quot;: [9.175922903217575, 39.21322595057281], &quot;type&quot;: &quot;Point&quot;}, &quot;id&quot;: &quot;168&quot;, &quot;properties&quot;: {}, &quot;type&quot;: &quot;Feature&quot;}, {&quot;bbox&quot;: [9.1760793247908, 39.21302690974847, 9.1760793247908, 39.21302690974847], &quot;geometry&quot;: {&quot;coordinates&quot;: [9.1760793247908, 39.21302690974847], &quot;type&quot;: &quot;Point&quot;}, &quot;id&quot;: &quot;169&quot;, &quot;properties&quot;: {}, &quot;type&quot;: &quot;Feature&quot;}, {&quot;bbox&quot;: [9.176038361636696, 39.213079034017554, 9.176038361636696, 39.213079034017554], &quot;geometry&quot;: {&quot;coordinates&quot;: [9.176038361636696, 39.213079034017554], &quot;type&quot;: &quot;Point&quot;}, &quot;id&quot;: &quot;170&quot;, &quot;properties&quot;: {}, &quot;type&quot;: &quot;Feature&quot;}, {&quot;bbox&quot;: [9.176044282568313, 39.21307149983209, 9.176044282568313, 39.21307149983209], &quot;geometry&quot;: {&quot;coordinates&quot;: [9.176044282568313, 39.21307149983209], &quot;type&quot;: &quot;Point&quot;}, &quot;id&quot;: &quot;172&quot;, &quot;properties&quot;: {}, &quot;type&quot;: &quot;Feature&quot;}, {&quot;bbox&quot;: [9.175990873302698, 39.21313946124911, 9.175990873302698, 39.21313946124911], &quot;geometry&quot;: {&quot;coordinates&quot;: [9.175990873302698, 39.21313946124911], &quot;type&quot;: &quot;Point&quot;}, &quot;id&quot;: &quot;173&quot;, &quot;properties&quot;: {}, &quot;type&quot;: &quot;Feature&quot;}, {&quot;bbox&quot;: [9.176016732100244, 39.213106556855756, 9.176016732100244, 39.213106556855756], &quot;geometry&quot;: {&quot;coordinates&quot;: [9.176016732100244, 39.213106556855756], &quot;type&quot;: &quot;Point&quot;}, &quot;id&quot;: &quot;174&quot;, &quot;properties&quot;: {}, &quot;type&quot;: &quot;Feature&quot;}, {&quot;bbox&quot;: [9.176012986201162, 39.21311132338041, 9.176012986201162, 39.21311132338041], &quot;geometry&quot;: {&quot;coordinates&quot;: [9.176012986201162, 39.21311132338041], &quot;type&quot;: &quot;Point&quot;}, &quot;id&quot;: &quot;175&quot;, &quot;properties&quot;: {}, &quot;type&quot;: &quot;Feature&quot;}, {&quot;bbox&quot;: [9.176063253708048, 39.213047359684715, 9.176063253708048, 39.213047359684715], &quot;geometry&quot;: {&quot;coordinates&quot;: [9.176063253708048, 39.213047359684715], &quot;type&quot;: &quot;Point&quot;}, &quot;id&quot;: &quot;176&quot;, &quot;properties&quot;: {}, &quot;type&quot;: &quot;Feature&quot;}, {&quot;bbox&quot;: [9.175982052305502, 39.21315068564364, 9.175982052305502, 39.21315068564364], &quot;geometry&quot;: {&quot;coordinates&quot;: [9.175982052305502, 39.21315068564364], &quot;type&quot;: &quot;Point&quot;}, &quot;id&quot;: &quot;177&quot;, &quot;properties&quot;: {}, &quot;type&quot;: &quot;Feature&quot;}, {&quot;bbox&quot;: [9.176106452274023, 39.212992390866006, 9.176106452274023, 39.212992390866006], &quot;geometry&quot;: {&quot;coordinates&quot;: [9.176106452274023, 39.212992390866006], &quot;type&quot;: &quot;Point&quot;}, &quot;id&quot;: &quot;178&quot;, &quot;properties&quot;: {}, &quot;type&quot;: &quot;Feature&quot;}, {&quot;bbox&quot;: [9.176066576677053, 39.21304313131463, 9.176066576677053, 39.21304313131463], &quot;geometry&quot;: {&quot;coordinates&quot;: [9.176066576677053, 39.21304313131463], &quot;type&quot;: &quot;Point&quot;}, &quot;id&quot;: &quot;179&quot;, &quot;properties&quot;: {}, &quot;type&quot;: &quot;Feature&quot;}, {&quot;bbox&quot;: [9.17605908489183, 39.213052664367055, 9.17605908489183, 39.213052664367055], &quot;geometry&quot;: {&quot;coordinates&quot;: [9.17605908489183, 39.213052664367055], &quot;type&quot;: &quot;Point&quot;}, &quot;id&quot;: &quot;180&quot;, &quot;properties&quot;: {}, &quot;type&quot;: &quot;Feature&quot;}, {&quot;bbox&quot;: [9.176115575319217, 39.21298078206444, 9.176115575319217, 39.21298078206444], &quot;geometry&quot;: {&quot;coordinates&quot;: [9.176115575319217, 39.21298078206444], &quot;type&quot;: &quot;Point&quot;}, &quot;id&quot;: &quot;181&quot;, &quot;properties&quot;: {}, &quot;type&quot;: &quot;Feature&quot;}, {&quot;bbox&quot;: [9.176142702766994, 39.212946263173336, 9.176142702766994, 39.212946263173336], &quot;geometry&quot;: {&quot;coordinates&quot;: [9.176142702766994, 39.212946263173336], &quot;type&quot;: &quot;Point&quot;}, &quot;id&quot;: &quot;182&quot;, &quot;properties&quot;: {}, &quot;type&quot;: &quot;Feature&quot;}, {&quot;bbox&quot;: [9.176098537576758, 39.21300246207737, 9.176098537576758, 39.21300246207737], &quot;geometry&quot;: {&quot;coordinates&quot;: [9.176098537576758, 39.21300246207737], &quot;type&quot;: &quot;Point&quot;}, &quot;id&quot;: &quot;183&quot;, &quot;properties&quot;: {}, &quot;type&quot;: &quot;Feature&quot;}, {&quot;bbox&quot;: [9.1760305073377, 39.21308902834476, 9.1760305073377, 39.21308902834476], &quot;geometry&quot;: {&quot;coordinates&quot;: [9.1760305073377, 39.21308902834476], &quot;type&quot;: &quot;Point&quot;}, &quot;id&quot;: &quot;184&quot;, &quot;properties&quot;: {}, &quot;type&quot;: &quot;Feature&quot;}, {&quot;bbox&quot;: [9.176126450468507, 39.21296694375698, 9.176126450468507, 39.21296694375698], &quot;geometry&quot;: {&quot;coordinates&quot;: [9.176126450468507, 39.21296694375698], &quot;type&quot;: &quot;Point&quot;}, &quot;id&quot;: &quot;185&quot;, &quot;properties&quot;: {}, &quot;type&quot;: &quot;Feature&quot;}, {&quot;bbox&quot;: [9.176054855657348, 39.21305804592868, 9.176054855657348, 39.21305804592868], &quot;geometry&quot;: {&quot;coordinates&quot;: [9.176054855657348, 39.21305804592868], &quot;type&quot;: &quot;Point&quot;}, &quot;id&quot;: &quot;186&quot;, &quot;properties&quot;: {}, &quot;type&quot;: &quot;Feature&quot;}, {&quot;bbox&quot;: [9.176064159972361, 39.213046206492855, 9.176064159972361, 39.213046206492855], &quot;geometry&quot;: {&quot;coordinates&quot;: [9.176064159972361, 39.213046206492855], &quot;type&quot;: &quot;Point&quot;}, &quot;id&quot;: &quot;187&quot;, &quot;properties&quot;: {}, &quot;type&quot;: &quot;Feature&quot;}, {&quot;bbox&quot;: [9.175986160715501, 39.21314545784353, 9.175986160715501, 39.21314545784353], &quot;geometry&quot;: {&quot;coordinates&quot;: [9.175986160715501, 39.21314545784353], &quot;type&quot;: &quot;Point&quot;}, &quot;id&quot;: &quot;188&quot;, &quot;properties&quot;: {}, &quot;type&quot;: &quot;Feature&quot;}, {&quot;bbox&quot;: [9.176061984937963, 39.213048974153274, 9.176061984937963, 39.213048974153274], &quot;geometry&quot;: {&quot;coordinates&quot;: [9.176061984937963, 39.213048974153274], &quot;type&quot;: &quot;Point&quot;}, &quot;id&quot;: &quot;189&quot;, &quot;properties&quot;: {}, &quot;type&quot;: &quot;Feature&quot;}, {&quot;bbox&quot;: [9.176076122658516, 39.21303098436001, 9.176076122658516, 39.21303098436001], &quot;geometry&quot;: {&quot;coordinates&quot;: [9.176076122658516, 39.21303098436001], &quot;type&quot;: &quot;Point&quot;}, &quot;id&quot;: &quot;190&quot;, &quot;properties&quot;: {}, &quot;type&quot;: &quot;Feature&quot;}, {&quot;bbox&quot;: [9.17600054014572, 39.213127160542, 9.17600054014572, 39.213127160542], &quot;geometry&quot;: {&quot;coordinates&quot;: [9.17600054014572, 39.213127160542], &quot;type&quot;: &quot;Point&quot;}, &quot;id&quot;: &quot;191&quot;, &quot;properties&quot;: {}, &quot;type&quot;: &quot;Feature&quot;}, {&quot;bbox&quot;: [9.176106814779189, 39.21299192958912, 9.176106814779189, 39.21299192958912], &quot;geometry&quot;: {&quot;coordinates&quot;: [9.176106814779189, 39.21299192958912], &quot;type&quot;: &quot;Point&quot;}, &quot;id&quot;: &quot;192&quot;, &quot;properties&quot;: {}, &quot;type&quot;: &quot;Feature&quot;}, {&quot;bbox&quot;: [9.176085064460953, 39.21301960619928, 9.176085064460953, 39.21301960619928], &quot;geometry&quot;: {&quot;coordinates&quot;: [9.176085064460953, 39.21301960619928], &quot;type&quot;: &quot;Point&quot;}, &quot;id&quot;: &quot;193&quot;, &quot;properties&quot;: {}, &quot;type&quot;: &quot;Feature&quot;}, {&quot;bbox&quot;: [9.176088568680045, 39.21301514719015, 9.176088568680045, 39.21301514719015], &quot;geometry&quot;: {&quot;coordinates&quot;: [9.176088568680045, 39.21301514719015], &quot;type&quot;: &quot;Point&quot;}, &quot;id&quot;: &quot;194&quot;, &quot;properties&quot;: {}, &quot;type&quot;: &quot;Feature&quot;}, {&quot;bbox&quot;: [9.176074914306612, 39.21303252194925, 9.176074914306612, 39.21303252194925], &quot;geometry&quot;: {&quot;coordinates&quot;: [9.176074914306612, 39.21303252194925], &quot;type&quot;: &quot;Point&quot;}, &quot;id&quot;: &quot;195&quot;, &quot;properties&quot;: {}, &quot;type&quot;: &quot;Feature&quot;}, {&quot;bbox&quot;: [9.176017759201523, 39.21310524990544, 9.176017759201523, 39.21310524990544], &quot;geometry&quot;: {&quot;coordinates&quot;: [9.176017759201523, 39.21310524990544], &quot;type&quot;: &quot;Point&quot;}, &quot;id&quot;: &quot;196&quot;, &quot;properties&quot;: {}, &quot;type&quot;: &quot;Feature&quot;}, {&quot;bbox&quot;: [9.176027486452883, 39.21309287231662, 9.176027486452883, 39.21309287231662], &quot;geometry&quot;: {&quot;coordinates&quot;: [9.176027486452883, 39.21309287231662], &quot;type&quot;: &quot;Point&quot;}, &quot;id&quot;: &quot;197&quot;, &quot;properties&quot;: {}, &quot;type&quot;: &quot;Feature&quot;}, {&quot;bbox&quot;: [9.176038059548313, 39.21307941841477, 9.176038059548313, 39.21307941841477], &quot;geometry&quot;: {&quot;coordinates&quot;: [9.176038059548313, 39.21307941841477], &quot;type&quot;: &quot;Point&quot;}, &quot;id&quot;: &quot;198&quot;, &quot;properties&quot;: {}, &quot;type&quot;: &quot;Feature&quot;}, {&quot;bbox&quot;: [9.175969908325312, 39.21316613840484, 9.175969908325312, 39.21316613840484], &quot;geometry&quot;: {&quot;coordinates&quot;: [9.175969908325312, 39.21316613840484], &quot;type&quot;: &quot;Point&quot;}, &quot;id&quot;: &quot;199&quot;, &quot;properties&quot;: {}, &quot;type&quot;: &quot;Feature&quot;}, {&quot;bbox&quot;: [9.176082526922718, 39.213022835136854, 9.176082526922718, 39.213022835136854], &quot;geometry&quot;: {&quot;coordinates&quot;: [9.176082526922718, 39.213022835136854], &quot;type&quot;: &quot;Point&quot;}, &quot;id&quot;: &quot;200&quot;, &quot;properties&quot;: {}, &quot;type&quot;: &quot;Feature&quot;}, {&quot;bbox&quot;: [9.176079928966663, 39.21302614095383, 9.176079928966663, 39.21302614095383], &quot;geometry&quot;: {&quot;coordinates&quot;: [9.176079928966663, 39.21302614095383], &quot;type&quot;: &quot;Point&quot;}, &quot;id&quot;: &quot;201&quot;, &quot;properties&quot;: {}, &quot;type&quot;: &quot;Feature&quot;}, {&quot;bbox&quot;: [9.176056970274672, 39.21305535514788, 9.176056970274672, 39.21305535514788], &quot;geometry&quot;: {&quot;coordinates&quot;: [9.176056970274672, 39.21305535514788], &quot;type&quot;: &quot;Point&quot;}, &quot;id&quot;: &quot;202&quot;, &quot;properties&quot;: {}, &quot;type&quot;: &quot;Feature&quot;}, {&quot;bbox&quot;: [9.176048632639718, 39.21306596451195, 9.176048632639718, 39.21306596451195], &quot;geometry&quot;: {&quot;coordinates&quot;: [9.176048632639718, 39.21306596451195], &quot;type&quot;: &quot;Point&quot;}, &quot;id&quot;: &quot;203&quot;, &quot;properties&quot;: {}, &quot;type&quot;: &quot;Feature&quot;}, {&quot;bbox&quot;: [9.175995887977939, 39.2131330802574, 9.175995887977939, 39.2131330802574], &quot;geometry&quot;: {&quot;coordinates&quot;: [9.175995887977939, 39.2131330802574], &quot;type&quot;: &quot;Point&quot;}, &quot;id&quot;: &quot;204&quot;, &quot;properties&quot;: {}, &quot;type&quot;: &quot;Feature&quot;}, {&quot;bbox&quot;: [9.176004225628741, 39.21312247089721, 9.176004225628741, 39.21312247089721], &quot;geometry&quot;: {&quot;coordinates&quot;: [9.176004225628741, 39.21312247089721], &quot;type&quot;: &quot;Point&quot;}, &quot;id&quot;: &quot;205&quot;, &quot;properties&quot;: {}, &quot;type&quot;: &quot;Feature&quot;}, {&quot;bbox&quot;: [9.176088931185442, 39.21301468591332, 9.176088931185442, 39.21301468591332], &quot;geometry&quot;: {&quot;coordinates&quot;: [9.176088931185442, 39.21301468591332], &quot;type&quot;: &quot;Point&quot;}, &quot;id&quot;: &quot;206&quot;, &quot;properties&quot;: {}, &quot;type&quot;: &quot;Feature&quot;}, {&quot;bbox&quot;: [9.176028271882963, 39.21309187288395, 9.176028271882963, 39.21309187288395], &quot;geometry&quot;: {&quot;coordinates&quot;: [9.176028271882963, 39.21309187288395], &quot;type&quot;: &quot;Point&quot;}, &quot;id&quot;: &quot;207&quot;, &quot;properties&quot;: {}, &quot;type&quot;: &quot;Feature&quot;}, {&quot;bbox&quot;: [9.176018967555912, 39.213103712316816, 9.176018967555912, 39.213103712316816], &quot;geometry&quot;: {&quot;coordinates&quot;: [9.176018967555912, 39.213103712316816], &quot;type&quot;: &quot;Point&quot;}, &quot;id&quot;: &quot;209&quot;, &quot;properties&quot;: {}, &quot;type&quot;: &quot;Feature&quot;}, {&quot;bbox&quot;: [9.176049297233899, 39.213065118838024, 9.176049297233899, 39.213065118838024], &quot;geometry&quot;: {&quot;coordinates&quot;: [9.176049297233899, 39.213065118838024], &quot;type&quot;: &quot;Point&quot;}, &quot;id&quot;: &quot;210&quot;, &quot;properties&quot;: {}, &quot;type&quot;: &quot;Feature&quot;}, {&quot;bbox&quot;: [9.176063737049022, 39.21304674464908, 9.176063737049022, 39.21304674464908], &quot;geometry&quot;: {&quot;coordinates&quot;: [9.176063737049022, 39.21304674464908], &quot;type&quot;: &quot;Point&quot;}, &quot;id&quot;: &quot;211&quot;, &quot;properties&quot;: {}, &quot;type&quot;: &quot;Feature&quot;}, {&quot;bbox&quot;: [9.176006279832174, 39.213119856996784, 9.176006279832174, 39.213119856996784], &quot;geometry&quot;: {&quot;coordinates&quot;: [9.176006279832174, 39.213119856996784], &quot;type&quot;: &quot;Point&quot;}, &quot;id&quot;: &quot;212&quot;, &quot;properties&quot;: {}, &quot;type&quot;: &quot;Feature&quot;}, {&quot;bbox&quot;: [9.176052680622217, 39.2130608135889, 9.176052680622217, 39.2130608135889], &quot;geometry&quot;: {&quot;coordinates&quot;: [9.176052680622217, 39.2130608135889], &quot;type&quot;: &quot;Point&quot;}, &quot;id&quot;: &quot;213&quot;, &quot;properties&quot;: {}, &quot;type&quot;: &quot;Feature&quot;}, {&quot;bbox&quot;: [9.176074249713041, 39.213033367623325, 9.176074249713041, 39.213033367623325], &quot;geometry&quot;: {&quot;coordinates&quot;: [9.176074249713041, 39.213033367623325], &quot;type&quot;: &quot;Point&quot;}, &quot;id&quot;: &quot;214&quot;, &quot;properties&quot;: {}, &quot;type&quot;: &quot;Feature&quot;}, {&quot;bbox&quot;: [9.176076364328889, 39.213030676842166, 9.176076364328889, 39.213030676842166], &quot;geometry&quot;: {&quot;coordinates&quot;: [9.176076364328889, 39.213030676842166], &quot;type&quot;: &quot;Point&quot;}, &quot;id&quot;: &quot;215&quot;, &quot;properties&quot;: {}, &quot;type&quot;: &quot;Feature&quot;}, {&quot;bbox&quot;: [9.17606494540141, 39.21304520705994, 9.17606494540141, 39.21304520705994], &quot;geometry&quot;: {&quot;coordinates&quot;: [9.17606494540141, 39.21304520705994], &quot;type&quot;: &quot;Point&quot;}, &quot;id&quot;: &quot;216&quot;, &quot;properties&quot;: {}, &quot;type&quot;: &quot;Feature&quot;}, {&quot;bbox&quot;: [9.176048995145637, 39.213065503235256, 9.176048995145637, 39.213065503235256], &quot;geometry&quot;: {&quot;coordinates&quot;: [9.176048995145637, 39.213065503235256], &quot;type&quot;: &quot;Point&quot;}, &quot;id&quot;: &quot;217&quot;, &quot;properties&quot;: {}, &quot;type&quot;: &quot;Feature&quot;}, {&quot;bbox&quot;: [9.175933657606578, 39.213212266042525, 9.175933657606578, 39.213212266042525], &quot;geometry&quot;: {&quot;coordinates&quot;: [9.175933657606578, 39.213212266042525], &quot;type&quot;: &quot;Point&quot;}, &quot;id&quot;: &quot;218&quot;, &quot;properties&quot;: {}, &quot;type&quot;: &quot;Feature&quot;}, {&quot;bbox&quot;: [9.17599401502705, 39.21313546351939, 9.17599401502705, 39.21313546351939], &quot;geometry&quot;: {&quot;coordinates&quot;: [9.17599401502705, 39.21313546351939], &quot;type&quot;: &quot;Point&quot;}, &quot;id&quot;: &quot;219&quot;, &quot;properties&quot;: {}, &quot;type&quot;: &quot;Feature&quot;}, {&quot;bbox&quot;: [9.176038059548313, 39.21307941841477, 9.176038059548313, 39.21307941841477], &quot;geometry&quot;: {&quot;coordinates&quot;: [9.176038059548313, 39.21307941841477], &quot;type&quot;: &quot;Point&quot;}, &quot;id&quot;: &quot;220&quot;, &quot;properties&quot;: {}, &quot;type&quot;: &quot;Feature&quot;}, {&quot;bbox&quot;: [9.176032742792257, 39.21308618380553, 9.176032742792257, 39.21308618380553], &quot;geometry&quot;: {&quot;coordinates&quot;: [9.176032742792257, 39.21308618380553], &quot;type&quot;: &quot;Point&quot;}, &quot;id&quot;: &quot;221&quot;, &quot;properties&quot;: {}, &quot;type&quot;: &quot;Feature&quot;}, {&quot;bbox&quot;: [9.176024828073963, 39.21309625501176, 9.176024828073963, 39.21309625501176], &quot;geometry&quot;: {&quot;coordinates&quot;: [9.176024828073963, 39.21309625501176], &quot;type&quot;: &quot;Point&quot;}, &quot;id&quot;: &quot;222&quot;, &quot;properties&quot;: {}, &quot;type&quot;: &quot;Feature&quot;}, {&quot;bbox&quot;: [9.176036549106355, 39.213081340400805, 9.176036549106355, 39.213081340400805], &quot;geometry&quot;: {&quot;coordinates&quot;: [9.176036549106355, 39.213081340400805], &quot;type&quot;: &quot;Point&quot;}, &quot;id&quot;: &quot;223&quot;, &quot;properties&quot;: {}, &quot;type&quot;: &quot;Feature&quot;}, {&quot;bbox&quot;: [9.176011173669162, 39.21311362976325, 9.176011173669162, 39.21311362976325], &quot;geometry&quot;: {&quot;coordinates&quot;: [9.176011173669162, 39.21311362976325], &quot;type&quot;: &quot;Point&quot;}, &quot;id&quot;: &quot;224&quot;, &quot;properties&quot;: {}, &quot;type&quot;: &quot;Feature&quot;}, {&quot;bbox&quot;: [9.176025915592643, 39.21309487118194, 9.176025915592643, 39.21309487118194], &quot;geometry&quot;: {&quot;coordinates&quot;: [9.176025915592643, 39.21309487118194], &quot;type&quot;: &quot;Point&quot;}, &quot;id&quot;: &quot;225&quot;, &quot;properties&quot;: {}, &quot;type&quot;: &quot;Feature&quot;}, {&quot;bbox&quot;: [9.176042772126696, 39.2130734218182, 9.176042772126696, 39.2130734218182], &quot;geometry&quot;: {&quot;coordinates&quot;: [9.176042772126696, 39.2130734218182], &quot;type&quot;: &quot;Point&quot;}, &quot;id&quot;: &quot;226&quot;, &quot;properties&quot;: {}, &quot;type&quot;: &quot;Feature&quot;}, {&quot;bbox&quot;: [9.176013167454352, 39.2131110927421, 9.176013167454352, 39.2131110927421], &quot;geometry&quot;: {&quot;coordinates&quot;: [9.176013167454352, 39.2131110927421], &quot;type&quot;: &quot;Point&quot;}, &quot;id&quot;: &quot;227&quot;, &quot;properties&quot;: {}, &quot;type&quot;: &quot;Feature&quot;}, {&quot;bbox&quot;: [9.176060837003076, 39.21305043486289, 9.176060837003076, 39.21305043486289], &quot;geometry&quot;: {&quot;coordinates&quot;: [9.176060837003076, 39.21305043486289], &quot;type&quot;: &quot;Point&quot;}, &quot;id&quot;: &quot;228&quot;, &quot;properties&quot;: {}, &quot;type&quot;: &quot;Feature&quot;}, {&quot;bbox&quot;: [9.17601304661889, 39.21311124650095, 9.17601304661889, 39.21311124650095], &quot;geometry&quot;: {&quot;coordinates&quot;: [9.17601304661889, 39.21311124650095], &quot;type&quot;: &quot;Point&quot;}, &quot;id&quot;: &quot;229&quot;, &quot;properties&quot;: {}, &quot;type&quot;: &quot;Feature&quot;}, {&quot;bbox&quot;: [9.176066335006592, 39.21304343883244, 9.176066335006592, 39.21304343883244], &quot;geometry&quot;: {&quot;coordinates&quot;: [9.176066335006592, 39.21304343883244], &quot;type&quot;: &quot;Point&quot;}, &quot;id&quot;: &quot;230&quot;, &quot;properties&quot;: {}, &quot;type&quot;: &quot;Feature&quot;}, {&quot;bbox&quot;: [9.176052438951642, 39.213061121106705, 9.176052438951642, 39.213061121106705], &quot;geometry&quot;: {&quot;coordinates&quot;: [9.176052438951642, 39.213061121106705], &quot;type&quot;: &quot;Point&quot;}, &quot;id&quot;: &quot;232&quot;, &quot;properties&quot;: {}, &quot;type&quot;: &quot;Feature&quot;}, {&quot;bbox&quot;: [9.176031776109223, 39.21308741387655, 9.176031776109223, 39.21308741387655], &quot;geometry&quot;: {&quot;coordinates&quot;: [9.176031776109223, 39.21308741387655], &quot;type&quot;: &quot;Point&quot;}, &quot;id&quot;: &quot;233&quot;, &quot;properties&quot;: {}, &quot;type&quot;: &quot;Feature&quot;}, {&quot;bbox&quot;: [9.176103733485139, 39.212995850442475, 9.176103733485139, 39.212995850442475], &quot;geometry&quot;: {&quot;coordinates&quot;: [9.176103733485139, 39.212995850442475], &quot;type&quot;: &quot;Point&quot;}, &quot;id&quot;: &quot;234&quot;, &quot;properties&quot;: {}, &quot;type&quot;: &quot;Feature&quot;}, {&quot;bbox&quot;: [9.176058661968414, 39.21305320252321, 9.176058661968414, 39.21305320252321], &quot;geometry&quot;: {&quot;coordinates&quot;: [9.176058661968414, 39.21305320252321], &quot;type&quot;: &quot;Point&quot;}, &quot;id&quot;: &quot;235&quot;, &quot;properties&quot;: {}, &quot;type&quot;: &quot;Feature&quot;}, {&quot;bbox&quot;: [9.176100652190755, 39.21299977129577, 9.176100652190755, 39.21299977129577], &quot;geometry&quot;: {&quot;coordinates&quot;: [9.176100652190755, 39.21299977129577], &quot;type&quot;: &quot;Point&quot;}, &quot;id&quot;: &quot;236&quot;, &quot;properties&quot;: {}, &quot;type&quot;: &quot;Feature&quot;}, {&quot;bbox&quot;: [9.17608083523043, 39.21302498776188, 9.17608083523043, 39.21302498776188], &quot;geometry&quot;: {&quot;coordinates&quot;: [9.17608083523043, 39.21302498776188], &quot;type&quot;: &quot;Point&quot;}, &quot;id&quot;: &quot;237&quot;, &quot;properties&quot;: {}, &quot;type&quot;: &quot;Feature&quot;}, {&quot;bbox&quot;: [9.176040536672947, 39.21307626635764, 9.176040536672947, 39.21307626635764], &quot;geometry&quot;: {&quot;coordinates&quot;: [9.176040536672947, 39.21307626635764], &quot;type&quot;: &quot;Point&quot;}, &quot;id&quot;: &quot;238&quot;, &quot;properties&quot;: {}, &quot;type&quot;: &quot;Feature&quot;}, {&quot;bbox&quot;: [9.17604059709062, 39.21307618947819, 9.17604059709062, 39.21307618947819], &quot;geometry&quot;: {&quot;coordinates&quot;: [9.17604059709062, 39.21307618947819], &quot;type&quot;: &quot;Point&quot;}, &quot;id&quot;: &quot;239&quot;, &quot;properties&quot;: {}, &quot;type&quot;: &quot;Feature&quot;}, {&quot;bbox&quot;: [9.176042047114686, 39.213074344371535, 9.176042047114686, 39.213074344371535], &quot;geometry&quot;: {&quot;coordinates&quot;: [9.176042047114686, 39.213074344371535], &quot;type&quot;: &quot;Point&quot;}, &quot;id&quot;: &quot;240&quot;, &quot;properties&quot;: {}, &quot;type&quot;: &quot;Feature&quot;}, {&quot;bbox&quot;: [9.176090562459674, 39.21301261016767, 9.176090562459674, 39.21301261016767], &quot;geometry&quot;: {&quot;coordinates&quot;: [9.176090562459674, 39.21301261016767], &quot;type&quot;: &quot;Point&quot;}, &quot;id&quot;: &quot;242&quot;, &quot;properties&quot;: {}, &quot;type&quot;: &quot;Feature&quot;}, {&quot;bbox&quot;: [9.176081076900763, 39.213024680244, 9.176081076900763, 39.213024680244], &quot;geometry&quot;: {&quot;coordinates&quot;: [9.176081076900763, 39.213024680244], &quot;type&quot;: &quot;Point&quot;}, &quot;id&quot;: &quot;243&quot;, &quot;properties&quot;: {}, &quot;type&quot;: &quot;Feature&quot;}, {&quot;bbox&quot;: [9.176087058240835, 39.21301706917686, 9.176087058240835, 39.21301706917686], &quot;geometry&quot;: {&quot;coordinates&quot;: [9.176087058240835, 39.21301706917686], &quot;type&quot;: &quot;Point&quot;}, &quot;id&quot;: &quot;244&quot;, &quot;properties&quot;: {}, &quot;type&quot;: &quot;Feature&quot;}, {&quot;bbox&quot;: [9.176073766372257, 39.21303398265901, 9.176073766372257, 39.21303398265901], &quot;geometry&quot;: {&quot;coordinates&quot;: [9.176073766372257, 39.21303398265901], &quot;type&quot;: &quot;Point&quot;}, &quot;id&quot;: &quot;245&quot;, &quot;properties&quot;: {}, &quot;type&quot;: &quot;Feature&quot;}, {&quot;bbox&quot;: [9.17609684588545, 39.21300461470263, 9.17609684588545, 39.21300461470263], &quot;geometry&quot;: {&quot;coordinates&quot;: [9.17609684588545, 39.21300461470263], &quot;type&quot;: &quot;Point&quot;}, &quot;id&quot;: &quot;246&quot;, &quot;properties&quot;: {}, &quot;type&quot;: &quot;Feature&quot;}, {&quot;bbox&quot;: [9.176039026231125, 39.213078188343694, 9.176039026231125, 39.213078188343694], &quot;geometry&quot;: {&quot;coordinates&quot;: [9.176039026231125, 39.213078188343694], &quot;type&quot;: &quot;Point&quot;}, &quot;id&quot;: &quot;247&quot;, &quot;properties&quot;: {}, &quot;type&quot;: &quot;Feature&quot;}, {&quot;bbox&quot;: [9.176087299911114, 39.21301676165897, 9.176087299911114, 39.21301676165897], &quot;geometry&quot;: {&quot;coordinates&quot;: [9.176087299911114, 39.21301676165897], &quot;type&quot;: &quot;Point&quot;}, &quot;id&quot;: &quot;248&quot;, &quot;properties&quot;: {}, &quot;type&quot;: &quot;Feature&quot;}, {&quot;bbox&quot;: [9.176138050623045, 39.21295218289454, 9.176138050623045, 39.21295218289454], &quot;geometry&quot;: {&quot;coordinates&quot;: [9.176138050623045, 39.21295218289454], &quot;type&quot;: &quot;Point&quot;}, &quot;id&quot;: &quot;249&quot;, &quot;properties&quot;: {}, &quot;type&quot;: &quot;Feature&quot;}, {&quot;bbox&quot;: [9.176086997823269, 39.21301714605632, 9.176086997823269, 39.21301714605632], &quot;geometry&quot;: {&quot;coordinates&quot;: [9.176086997823269, 39.21301714605632], &quot;type&quot;: &quot;Point&quot;}, &quot;id&quot;: &quot;250&quot;, &quot;properties&quot;: {}, &quot;type&quot;: &quot;Feature&quot;}, {&quot;bbox&quot;: [9.176081862329331, 39.21302368081097, 9.176081862329331, 39.21302368081097], &quot;geometry&quot;: {&quot;coordinates&quot;: [9.176081862329331, 39.21302368081097], &quot;type&quot;: &quot;Point&quot;}, &quot;id&quot;: &quot;251&quot;, &quot;properties&quot;: {}, &quot;type&quot;: &quot;Feature&quot;}, {&quot;bbox&quot;: [9.176072920525858, 39.21303505897144, 9.176072920525858, 39.21303505897144], &quot;geometry&quot;: {&quot;coordinates&quot;: [9.176072920525858, 39.21303505897144], &quot;type&quot;: &quot;Point&quot;}, &quot;id&quot;: &quot;252&quot;, &quot;properties&quot;: {}, &quot;type&quot;: &quot;Feature&quot;}, {&quot;bbox&quot;: [9.17610627102144, 39.21299262150444, 9.17610627102144, 39.21299262150444], &quot;geometry&quot;: {&quot;coordinates&quot;: [9.17610627102144, 39.21299262150444], &quot;type&quot;: &quot;Point&quot;}, &quot;id&quot;: &quot;253&quot;, &quot;properties&quot;: {}, &quot;type&quot;: &quot;Feature&quot;}, {&quot;bbox&quot;: [9.176089172855704, 39.21301437839545, 9.176089172855704, 39.21301437839545], &quot;geometry&quot;: {&quot;coordinates&quot;: [9.176089172855704, 39.21301437839545], &quot;type&quot;: &quot;Point&quot;}, &quot;id&quot;: &quot;254&quot;, &quot;properties&quot;: {}, &quot;type&quot;: &quot;Feature&quot;}, {&quot;bbox&quot;: [9.17607588098814, 39.21303129187786, 9.17607588098814, 39.21303129187786], &quot;geometry&quot;: {&quot;coordinates&quot;: [9.17607588098814, 39.21303129187786], &quot;type&quot;: &quot;Point&quot;}, &quot;id&quot;: &quot;256&quot;, &quot;properties&quot;: {}, &quot;type&quot;: &quot;Feature&quot;}, {&quot;bbox&quot;: [9.176069657975225, 39.21303921046227, 9.176069657975225, 39.21303921046227], &quot;geometry&quot;: {&quot;coordinates&quot;: [9.176069657975225, 39.21303921046227], &quot;type&quot;: &quot;Point&quot;}, &quot;id&quot;: &quot;257&quot;, &quot;properties&quot;: {}, &quot;type&quot;: &quot;Feature&quot;}, {&quot;bbox&quot;: [9.176061199508835, 39.21304997358617, 9.176061199508835, 39.21304997358617], &quot;geometry&quot;: {&quot;coordinates&quot;: [9.176061199508835, 39.21304997358617], &quot;type&quot;: &quot;Point&quot;}, &quot;id&quot;: &quot;258&quot;, &quot;properties&quot;: {}, &quot;type&quot;: &quot;Feature&quot;}, {&quot;bbox&quot;: [9.176055520251385, 39.21305720025474, 9.176055520251385, 39.21305720025474], &quot;geometry&quot;: {&quot;coordinates&quot;: [9.176055520251385, 39.21305720025474], &quot;type&quot;: &quot;Point&quot;}, &quot;id&quot;: &quot;259&quot;, &quot;properties&quot;: {}, &quot;type&quot;: &quot;Feature&quot;}, {&quot;bbox&quot;: [9.176086091559702, 39.21301829924834, 9.176086091559702, 39.21301829924834], &quot;geometry&quot;: {&quot;coordinates&quot;: [9.176086091559702, 39.21301829924834], &quot;type&quot;: &quot;Point&quot;}, &quot;id&quot;: &quot;260&quot;, &quot;properties&quot;: {}, &quot;type&quot;: &quot;Feature&quot;}, {&quot;bbox&quot;: [9.176081620659005, 39.213023988328835, 9.176081620659005, 39.213023988328835], &quot;geometry&quot;: {&quot;coordinates&quot;: [9.176081620659005, 39.213023988328835], &quot;type&quot;: &quot;Point&quot;}, &quot;id&quot;: &quot;261&quot;, &quot;properties&quot;: {}, &quot;type&quot;: &quot;Feature&quot;}, {&quot;bbox&quot;: [9.176074189295443, 39.21303344450278, 9.176074189295443, 39.21303344450278], &quot;geometry&quot;: {&quot;coordinates&quot;: [9.176074189295443, 39.21303344450278], &quot;type&quot;: &quot;Point&quot;}, &quot;id&quot;: &quot;262&quot;, &quot;properties&quot;: {}, &quot;type&quot;: &quot;Feature&quot;}, {&quot;bbox&quot;: [9.176093643755184, 39.21300868931467, 9.176093643755184, 39.21300868931467], &quot;geometry&quot;: {&quot;coordinates&quot;: [9.176093643755184, 39.21300868931467], &quot;type&quot;: &quot;Point&quot;}, &quot;id&quot;: &quot;263&quot;, &quot;properties&quot;: {}, &quot;type&quot;: &quot;Feature&quot;}, {&quot;bbox&quot;: [9.17602488849167, 39.213096178132346, 9.17602488849167, 39.213096178132346], &quot;geometry&quot;: {&quot;coordinates&quot;: [9.17602488849167, 39.213096178132346], &quot;type&quot;: &quot;Point&quot;}, &quot;id&quot;: &quot;264&quot;, &quot;properties&quot;: {}, &quot;type&quot;: &quot;Feature&quot;}, {&quot;bbox&quot;: [9.176025794757237, 39.21309502494081, 9.176025794757237, 39.21309502494081], &quot;geometry&quot;: {&quot;coordinates&quot;: [9.176025794757237, 39.21309502494081], &quot;type&quot;: &quot;Point&quot;}, &quot;id&quot;: &quot;265&quot;, &quot;properties&quot;: {}, &quot;type&quot;: &quot;Feature&quot;}, {&quot;bbox&quot;: [9.176061139091205, 39.213050050465625, 9.176061139091205, 39.213050050465625], &quot;geometry&quot;: {&quot;coordinates&quot;: [9.176061139091205, 39.213050050465625], &quot;type&quot;: &quot;Point&quot;}, &quot;id&quot;: &quot;266&quot;, &quot;properties&quot;: {}, &quot;type&quot;: &quot;Feature&quot;}, {&quot;bbox&quot;: [9.176060534914935, 39.213050819260154, 9.176060534914935, 39.213050819260154], &quot;geometry&quot;: {&quot;coordinates&quot;: [9.176060534914935, 39.213050819260154], &quot;type&quot;: &quot;Point&quot;}, &quot;id&quot;: &quot;267&quot;, &quot;properties&quot;: {}, &quot;type&quot;: &quot;Feature&quot;}, {&quot;bbox&quot;: [9.176095577116898, 39.21300622917157, 9.176095577116898, 39.21300622917157], &quot;geometry&quot;: {&quot;coordinates&quot;: [9.176095577116898, 39.21300622917157], &quot;type&quot;: &quot;Point&quot;}, &quot;id&quot;: &quot;268&quot;, &quot;properties&quot;: {}, &quot;type&quot;: &quot;Feature&quot;}, {&quot;bbox&quot;: [9.176063797466641, 39.213046667769596, 9.176063797466641, 39.213046667769596], &quot;geometry&quot;: {&quot;coordinates&quot;: [9.176063797466641, 39.213046667769596], &quot;type&quot;: &quot;Point&quot;}, &quot;id&quot;: &quot;269&quot;, &quot;properties&quot;: {}, &quot;type&quot;: &quot;Feature&quot;}, {&quot;bbox&quot;: [9.17604996182807, 39.21306427316409, 9.17604996182807, 39.21306427316409], &quot;geometry&quot;: {&quot;coordinates&quot;: [9.17604996182807, 39.21306427316409], &quot;type&quot;: &quot;Point&quot;}, &quot;id&quot;: &quot;270&quot;, &quot;properties&quot;: {}, &quot;type&quot;: &quot;Feature&quot;}, {&quot;bbox&quot;: [9.176087239493546, 39.21301683853845, 9.176087239493546, 39.21301683853845], &quot;geometry&quot;: {&quot;coordinates&quot;: [9.176087239493546, 39.21301683853845], &quot;type&quot;: &quot;Point&quot;}, &quot;id&quot;: &quot;271&quot;, &quot;properties&quot;: {}, &quot;type&quot;: &quot;Feature&quot;}, {&quot;bbox&quot;: [9.17607763309832, 39.213029062373444, 9.17607763309832, 39.213029062373444], &quot;geometry&quot;: {&quot;coordinates&quot;: [9.17607763309832, 39.213029062373444], &quot;type&quot;: &quot;Point&quot;}, &quot;id&quot;: &quot;273&quot;, &quot;properties&quot;: {}, &quot;type&quot;: &quot;Feature&quot;}, {&quot;bbox&quot;: [9.176089656196224, 39.21301376335971, 9.176089656196224, 39.21301376335971], &quot;geometry&quot;: {&quot;coordinates&quot;: [9.176089656196224, 39.21301376335971], &quot;type&quot;: &quot;Point&quot;}, &quot;id&quot;: &quot;274&quot;, &quot;properties&quot;: {}, &quot;type&quot;: &quot;Feature&quot;}, {&quot;bbox&quot;: [9.176081016483181, 39.21302475712348, 9.176081016483181, 39.21302475712348], &quot;geometry&quot;: {&quot;coordinates&quot;: [9.176081016483181, 39.21302475712348], &quot;type&quot;: &quot;Point&quot;}, &quot;id&quot;: &quot;275&quot;, &quot;properties&quot;: {}, &quot;type&quot;: &quot;Feature&quot;}, {&quot;bbox&quot;: [9.1760652474895, 39.21304482266267, 9.1760652474895, 39.21304482266267], &quot;geometry&quot;: {&quot;coordinates&quot;: [9.1760652474895, 39.21304482266267], &quot;type&quot;: &quot;Point&quot;}, &quot;id&quot;: &quot;276&quot;, &quot;properties&quot;: {}, &quot;type&quot;: &quot;Feature&quot;}, {&quot;bbox&quot;: [9.176035824094186, 39.21308226295411, 9.176035824094186, 39.21308226295411], &quot;geometry&quot;: {&quot;coordinates&quot;: [9.176035824094186, 39.21308226295411], &quot;type&quot;: &quot;Point&quot;}, &quot;id&quot;: &quot;277&quot;, &quot;properties&quot;: {}, &quot;type&quot;: &quot;Feature&quot;}, {&quot;bbox&quot;: [9.176069174634359, 39.21303982549795, 9.176069174634359, 39.21303982549795], &quot;geometry&quot;: {&quot;coordinates&quot;: [9.176069174634359, 39.21303982549795], &quot;type&quot;: &quot;Point&quot;}, &quot;id&quot;: &quot;278&quot;, &quot;properties&quot;: {}, &quot;type&quot;: &quot;Feature&quot;}, {&quot;bbox&quot;: [9.176037455371537, 39.21308018720921, 9.176037455371537, 39.21308018720921], &quot;geometry&quot;: {&quot;coordinates&quot;: [9.176037455371537, 39.21308018720921], &quot;type&quot;: &quot;Point&quot;}, &quot;id&quot;: &quot;279&quot;, &quot;properties&quot;: {}, &quot;type&quot;: &quot;Feature&quot;}, {&quot;bbox&quot;: [9.176016792517968, 39.213106479976325, 9.176016792517968, 39.213106479976325], &quot;geometry&quot;: {&quot;coordinates&quot;: [9.176016792517968, 39.213106479976325], &quot;type&quot;: &quot;Point&quot;}, &quot;id&quot;: &quot;280&quot;, &quot;properties&quot;: {}, &quot;type&quot;: &quot;Feature&quot;}, {&quot;bbox&quot;: [9.176070564239332, 39.21303805727038, 9.176070564239332, 39.21303805727038], &quot;geometry&quot;: {&quot;coordinates&quot;: [9.176070564239332, 39.21303805727038], &quot;type&quot;: &quot;Point&quot;}, &quot;id&quot;: &quot;281&quot;, &quot;properties&quot;: {}, &quot;type&quot;: &quot;Feature&quot;}, {&quot;bbox&quot;: [9.176017880036962, 39.213105096146585, 9.176017880036962, 39.213105096146585], &quot;geometry&quot;: {&quot;coordinates&quot;: [9.176017880036962, 39.213105096146585], &quot;type&quot;: &quot;Point&quot;}, &quot;id&quot;: &quot;282&quot;, &quot;properties&quot;: {}, &quot;type&quot;: &quot;Feature&quot;}, {&quot;bbox&quot;: [9.176072799690658, 39.213035212730375, 9.176072799690658, 39.213035212730375], &quot;geometry&quot;: {&quot;coordinates&quot;: [9.176072799690658, 39.213035212730375], &quot;type&quot;: &quot;Point&quot;}, &quot;id&quot;: &quot;283&quot;, &quot;properties&quot;: {}, &quot;type&quot;: &quot;Feature&quot;}, {&quot;bbox&quot;: [9.176071893426629, 39.21303636592228, 9.176071893426629, 39.21303636592228], &quot;geometry&quot;: {&quot;coordinates&quot;: [9.176071893426629, 39.21303636592228], &quot;type&quot;: &quot;Point&quot;}, &quot;id&quot;: &quot;284&quot;, &quot;properties&quot;: {}, &quot;type&quot;: &quot;Feature&quot;}, {&quot;bbox&quot;: [9.176062649531826, 39.213048128479265, 9.176062649531826, 39.213048128479265], &quot;geometry&quot;: {&quot;coordinates&quot;: [9.176062649531826, 39.213048128479265], &quot;type&quot;: &quot;Point&quot;}, &quot;id&quot;: &quot;285&quot;, &quot;properties&quot;: {}, &quot;type&quot;: &quot;Feature&quot;}, {&quot;bbox&quot;: [9.176095335446687, 39.21300653668945, 9.176095335446687, 39.21300653668945], &quot;geometry&quot;: {&quot;coordinates&quot;: [9.176095335446687, 39.21300653668945], &quot;type&quot;: &quot;Point&quot;}, &quot;id&quot;: &quot;286&quot;, &quot;properties&quot;: {}, &quot;type&quot;: &quot;Feature&quot;}, {&quot;bbox&quot;: [9.176017336277475, 39.21310578806145, 9.176017336277475, 39.21310578806145], &quot;geometry&quot;: {&quot;coordinates&quot;: [9.176017336277475, 39.21310578806145], &quot;type&quot;: &quot;Point&quot;}, &quot;id&quot;: &quot;287&quot;, &quot;properties&quot;: {}, &quot;type&quot;: &quot;Feature&quot;}, {&quot;bbox&quot;: [9.176019994657105, 39.21310240536646, 9.176019994657105, 39.21310240536646], &quot;geometry&quot;: {&quot;coordinates&quot;: [9.176019994657105, 39.21310240536646], &quot;type&quot;: &quot;Point&quot;}, &quot;id&quot;: &quot;288&quot;, &quot;properties&quot;: {}, &quot;type&quot;: &quot;Feature&quot;}, {&quot;bbox&quot;: [9.176049720157463, 39.213064580681895, 9.176049720157463, 39.213064580681895], &quot;geometry&quot;: {&quot;coordinates&quot;: [9.176049720157463, 39.213064580681895], &quot;type&quot;: &quot;Point&quot;}, &quot;id&quot;: &quot;289&quot;, &quot;properties&quot;: {}, &quot;type&quot;: &quot;Feature&quot;}, {&quot;bbox&quot;: [9.17604373880934, 39.21307219174708, 9.17604373880934, 39.21307219174708], &quot;geometry&quot;: {&quot;coordinates&quot;: [9.17604373880934, 39.21307219174708], &quot;type&quot;: &quot;Point&quot;}, &quot;id&quot;: &quot;290&quot;, &quot;properties&quot;: {}, &quot;type&quot;: &quot;Feature&quot;}, {&quot;bbox&quot;: [9.176066214171362, 39.21304359259137, 9.176066214171362, 39.21304359259137], &quot;geometry&quot;: {&quot;coordinates&quot;: [9.176066214171362, 39.21304359259137], &quot;type&quot;: &quot;Point&quot;}, &quot;id&quot;: &quot;291&quot;, &quot;properties&quot;: {}, &quot;type&quot;: &quot;Feature&quot;}, {&quot;bbox&quot;: [9.1760522576987, 39.21306135174505, 9.1760522576987, 39.21306135174505], &quot;geometry&quot;: {&quot;coordinates&quot;: [9.1760522576987, 39.21306135174505], &quot;type&quot;: &quot;Point&quot;}, &quot;id&quot;: &quot;292&quot;, &quot;properties&quot;: {}, &quot;type&quot;: &quot;Feature&quot;}, {&quot;bbox&quot;: [9.176098597994306, 39.21300238519789, 9.176098597994306, 39.21300238519789], &quot;geometry&quot;: {&quot;coordinates&quot;: [9.176098597994306, 39.21300238519789], &quot;type&quot;: &quot;Point&quot;}, &quot;id&quot;: &quot;293&quot;, &quot;properties&quot;: {}, &quot;type&quot;: &quot;Feature&quot;}, {&quot;bbox&quot;: [9.176061682849841, 39.21304935855055, 9.176061682849841, 39.21304935855055], &quot;geometry&quot;: {&quot;coordinates&quot;: [9.176061682849841, 39.21304935855055], &quot;type&quot;: &quot;Point&quot;}, &quot;id&quot;: &quot;294&quot;, &quot;properties&quot;: {}, &quot;type&quot;: &quot;Feature&quot;}, {&quot;bbox&quot;: [9.176074249713041, 39.213033367623325, 9.176074249713041, 39.213033367623325], &quot;geometry&quot;: {&quot;coordinates&quot;: [9.176074249713041, 39.213033367623325], &quot;type&quot;: &quot;Point&quot;}, &quot;id&quot;: &quot;295&quot;, &quot;properties&quot;: {}, &quot;type&quot;: &quot;Feature&quot;}, {&quot;bbox&quot;: [9.176081258153511, 39.21302444960562, 9.176081258153511, 39.21302444960562], &quot;geometry&quot;: {&quot;coordinates&quot;: [9.176081258153511, 39.21302444960562], &quot;type&quot;: &quot;Point&quot;}, &quot;id&quot;: &quot;296&quot;, &quot;properties&quot;: {}, &quot;type&quot;: &quot;Feature&quot;}, {&quot;bbox&quot;: [9.176051230598706, 39.213062658695684, 9.176051230598706, 39.213062658695684], &quot;geometry&quot;: {&quot;coordinates&quot;: [9.176051230598706, 39.213062658695684], &quot;type&quot;: &quot;Point&quot;}, &quot;id&quot;: &quot;297&quot;, &quot;properties&quot;: {}, &quot;type&quot;: &quot;Feature&quot;}, {&quot;bbox&quot;: [9.176074793471422, 39.21303267570819, 9.176074793471422, 39.21303267570819], &quot;geometry&quot;: {&quot;coordinates&quot;: [9.176074793471422, 39.21303267570819], &quot;type&quot;: &quot;Point&quot;}, &quot;id&quot;: &quot;298&quot;, &quot;properties&quot;: {}, &quot;type&quot;: &quot;Feature&quot;}, {&quot;bbox&quot;: [9.176029903160762, 39.213089797139126, 9.176029903160762, 39.213089797139126], &quot;geometry&quot;: {&quot;coordinates&quot;: [9.176029903160762, 39.213089797139126], &quot;type&quot;: &quot;Point&quot;}, &quot;id&quot;: &quot;299&quot;, &quot;properties&quot;: {}, &quot;type&quot;: &quot;Feature&quot;}, {&quot;bbox&quot;: [9.176079445625973, 39.21302675598956, 9.176079445625973, 39.21302675598956], &quot;geometry&quot;: {&quot;coordinates&quot;: [9.176079445625973, 39.21302675598956], &quot;type&quot;: &quot;Point&quot;}, &quot;id&quot;: &quot;300&quot;, &quot;properties&quot;: {}, &quot;type&quot;: &quot;Feature&quot;}, {&quot;bbox&quot;: [9.176085789471836, 39.213018683645664, 9.176085789471836, 39.213018683645664], &quot;geometry&quot;: {&quot;coordinates&quot;: [9.176085789471836, 39.213018683645664], &quot;type&quot;: &quot;Point&quot;}, &quot;id&quot;: &quot;301&quot;, &quot;properties&quot;: {}, &quot;type&quot;: &quot;Feature&quot;}, {&quot;bbox&quot;: [9.17605255978693, 39.21306096734778, 9.17605255978693, 39.21306096734778], &quot;geometry&quot;: {&quot;coordinates&quot;: [9.17605255978693, 39.21306096734778], &quot;type&quot;: &quot;Point&quot;}, &quot;id&quot;: &quot;302&quot;, &quot;properties&quot;: {}, &quot;type&quot;: &quot;Feature&quot;}, {&quot;bbox&quot;: [9.176085547801545, 39.21301899116354, 9.176085547801545, 39.21301899116354], &quot;geometry&quot;: {&quot;coordinates&quot;: [9.176085547801545, 39.21301899116354], &quot;type&quot;: &quot;Point&quot;}, &quot;id&quot;: &quot;303&quot;, &quot;properties&quot;: {}, &quot;type&quot;: &quot;Feature&quot;}, {&quot;bbox&quot;: [9.176068147534986, 39.21304113244872, 9.176068147534986, 39.21304113244872], &quot;geometry&quot;: {&quot;coordinates&quot;: [9.176068147534986, 39.21304113244872], &quot;type&quot;: &quot;Point&quot;}, &quot;id&quot;: &quot;304&quot;, &quot;properties&quot;: {}, &quot;type&quot;: &quot;Feature&quot;}, {&quot;bbox&quot;: [9.176041503355671, 39.213075036286526, 9.176041503355671, 39.213075036286526], &quot;geometry&quot;: {&quot;coordinates&quot;: [9.176041503355671, 39.213075036286526], &quot;type&quot;: &quot;Point&quot;}, &quot;id&quot;: &quot;305&quot;, &quot;properties&quot;: {}, &quot;type&quot;: &quot;Feature&quot;}, {&quot;bbox&quot;: [9.176039932496227, 39.21307703515206, 9.176039932496227, 39.21307703515206], &quot;geometry&quot;: {&quot;coordinates&quot;: [9.176039932496227, 39.21307703515206], &quot;type&quot;: &quot;Point&quot;}, &quot;id&quot;: &quot;306&quot;, &quot;properties&quot;: {}, &quot;type&quot;: &quot;Feature&quot;}, {&quot;bbox&quot;: [9.176045611756871, 39.21306980848428, 9.176045611756871, 39.21306980848428], &quot;geometry&quot;: {&quot;coordinates&quot;: [9.176045611756871, 39.21306980848428], &quot;type&quot;: &quot;Point&quot;}, &quot;id&quot;: &quot;307&quot;, &quot;properties&quot;: {}, &quot;type&quot;: &quot;Feature&quot;}, {&quot;bbox&quot;: [9.175993773355962, 39.21313577103707, 9.175993773355962, 39.21313577103707], &quot;geometry&quot;: {&quot;coordinates&quot;: [9.175993773355962, 39.21313577103707], &quot;type&quot;: &quot;Point&quot;}, &quot;id&quot;: &quot;308&quot;, &quot;properties&quot;: {}, &quot;type&quot;: &quot;Feature&quot;}, {&quot;bbox&quot;: [9.176027063528977, 39.21309341047266, 9.176027063528977, 39.21309341047266], &quot;geometry&quot;: {&quot;coordinates&quot;: [9.176027063528977, 39.21309341047266], &quot;type&quot;: &quot;Point&quot;}, &quot;id&quot;: &quot;309&quot;, &quot;properties&quot;: {}, &quot;type&quot;: &quot;Feature&quot;}, {&quot;bbox&quot;: [9.176073766372257, 39.21303398265901, 9.176073766372257, 39.21303398265901], &quot;geometry&quot;: {&quot;coordinates&quot;: [9.176073766372257, 39.21303398265901], &quot;type&quot;: &quot;Point&quot;}, &quot;id&quot;: &quot;311&quot;, &quot;properties&quot;: {}, &quot;type&quot;: &quot;Feature&quot;}, {&quot;bbox&quot;: [9.176034011563681, 39.213084569337305, 9.176034011563681, 39.213084569337305], &quot;geometry&quot;: {&quot;coordinates&quot;: [9.176034011563681, 39.213084569337305], &quot;type&quot;: &quot;Point&quot;}, &quot;id&quot;: &quot;312&quot;, &quot;properties&quot;: {}, &quot;type&quot;: &quot;Feature&quot;}, {&quot;bbox&quot;: [9.176066939182736, 39.21304267003788, 9.176066939182736, 39.21304267003788], &quot;geometry&quot;: {&quot;coordinates&quot;: [9.176066939182736, 39.21304267003788], &quot;type&quot;: &quot;Point&quot;}, &quot;id&quot;: &quot;313&quot;, &quot;properties&quot;: {}, &quot;type&quot;: &quot;Feature&quot;}, {&quot;bbox&quot;: [9.176059386979984, 39.21305227996977, 9.176059386979984, 39.21305227996977], &quot;geometry&quot;: {&quot;coordinates&quot;: [9.176059386979984, 39.21305227996977], &quot;type&quot;: &quot;Point&quot;}, &quot;id&quot;: &quot;314&quot;, &quot;properties&quot;: {}, &quot;type&quot;: &quot;Feature&quot;}, {&quot;bbox&quot;: [9.176040113749245, 39.21307680451374, 9.176040113749245, 39.21307680451374], &quot;geometry&quot;: {&quot;coordinates&quot;: [9.176040113749245, 39.21307680451374], &quot;type&quot;: &quot;Point&quot;}, &quot;id&quot;: &quot;315&quot;, &quot;properties&quot;: {}, &quot;type&quot;: &quot;Feature&quot;}, {&quot;bbox&quot;: [9.176035340752728, 39.21308287798961, 9.176035340752728, 39.21308287798961], &quot;geometry&quot;: {&quot;coordinates&quot;: [9.176035340752728, 39.21308287798961], &quot;type&quot;: &quot;Point&quot;}, &quot;id&quot;: &quot;316&quot;, &quot;properties&quot;: {}, &quot;type&quot;: &quot;Feature&quot;}, {&quot;bbox&quot;: [9.176015463328028, 39.2131081713238, 9.176015463328028, 39.2131081713238], &quot;geometry&quot;: {&quot;coordinates&quot;: [9.176015463328028, 39.2131081713238], &quot;type&quot;: &quot;Point&quot;}, &quot;id&quot;: &quot;317&quot;, &quot;properties&quot;: {}, &quot;type&quot;: &quot;Feature&quot;}, {&quot;bbox&quot;: [9.17608174149417, 39.2130238345699, 9.17608174149417, 39.2130238345699], &quot;geometry&quot;: {&quot;coordinates&quot;: [9.17608174149417, 39.2130238345699], &quot;type&quot;: &quot;Point&quot;}, &quot;id&quot;: &quot;318&quot;, &quot;properties&quot;: {}, &quot;type&quot;: &quot;Feature&quot;}, {&quot;bbox&quot;: [9.175971720860005, 39.21316383202266, 9.175971720860005, 39.21316383202266], &quot;geometry&quot;: {&quot;coordinates&quot;: [9.175971720860005, 39.21316383202266], &quot;type&quot;: &quot;Point&quot;}, &quot;id&quot;: &quot;319&quot;, &quot;properties&quot;: {}, &quot;type&quot;: &quot;Feature&quot;}, {&quot;bbox&quot;: [9.176044645074292, 39.213071038555405, 9.176044645074292, 39.213071038555405], &quot;geometry&quot;: {&quot;coordinates&quot;: [9.176044645074292, 39.213071038555405], &quot;type&quot;: &quot;Point&quot;}, &quot;id&quot;: &quot;320&quot;, &quot;properties&quot;: {}, &quot;type&quot;: &quot;Feature&quot;}, {&quot;bbox&quot;: [9.176056426515945, 39.21305604706294, 9.176056426515945, 39.21305604706294], &quot;geometry&quot;: {&quot;coordinates&quot;: [9.176056426515945, 39.21305604706294], &quot;type&quot;: &quot;Point&quot;}, &quot;id&quot;: &quot;321&quot;, &quot;properties&quot;: {}, &quot;type&quot;: &quot;Feature&quot;}, {&quot;bbox&quot;: [9.175983079408056, 39.21314937869362, 9.175983079408056, 39.21314937869362], &quot;geometry&quot;: {&quot;coordinates&quot;: [9.175983079408056, 39.21314937869362], &quot;type&quot;: &quot;Point&quot;}, &quot;id&quot;: &quot;322&quot;, &quot;properties&quot;: {}, &quot;type&quot;: &quot;Feature&quot;}, {&quot;bbox&quot;: [9.175933234681247, 39.213212804198214, 9.175933234681247, 39.213212804198214], &quot;geometry&quot;: {&quot;coordinates&quot;: [9.175933234681247, 39.213212804198214], &quot;type&quot;: &quot;Point&quot;}, &quot;id&quot;: &quot;323&quot;, &quot;properties&quot;: {}, &quot;type&quot;: &quot;Feature&quot;}, {&quot;bbox&quot;: [9.17600748818707, 39.213118319408274, 9.17600748818707, 39.213118319408274], &quot;geometry&quot;: {&quot;coordinates&quot;: [9.17600748818707, 39.213118319408274], &quot;type&quot;: &quot;Point&quot;}, &quot;id&quot;: &quot;324&quot;, &quot;properties&quot;: {}, &quot;type&quot;: &quot;Feature&quot;}, {&quot;bbox&quot;: [9.17596247693183, 39.2131755945715, 9.17596247693183, 39.2131755945715], &quot;geometry&quot;: {&quot;coordinates&quot;: [9.17596247693183, 39.2131755945715], &quot;type&quot;: &quot;Point&quot;}, &quot;id&quot;: &quot;325&quot;, &quot;properties&quot;: {}, &quot;type&quot;: &quot;Feature&quot;}, {&quot;bbox&quot;: [9.176046940945366, 39.21306811713648, 9.176046940945366, 39.21306811713648], &quot;geometry&quot;: {&quot;coordinates&quot;: [9.176046940945366, 39.21306811713648], &quot;type&quot;: &quot;Point&quot;}, &quot;id&quot;: &quot;326&quot;, &quot;properties&quot;: {}, &quot;type&quot;: &quot;Feature&quot;}, {&quot;bbox&quot;: [9.176084037362173, 39.2130209131502, 9.176084037362173, 39.2130209131502], &quot;geometry&quot;: {&quot;coordinates&quot;: [9.176084037362173, 39.2130209131502], &quot;type&quot;: &quot;Point&quot;}, &quot;id&quot;: &quot;327&quot;, &quot;properties&quot;: {}, &quot;type&quot;: &quot;Feature&quot;}, {&quot;bbox&quot;: [9.176084641537935, 39.21302014435555, 9.176084641537935, 39.21302014435555], &quot;geometry&quot;: {&quot;coordinates&quot;: [9.176084641537935, 39.21302014435555], &quot;type&quot;: &quot;Point&quot;}, &quot;id&quot;: &quot;328&quot;, &quot;properties&quot;: {}, &quot;type&quot;: &quot;Feature&quot;}, {&quot;bbox&quot;: [9.176066455841823, 39.213043285073546, 9.176066455841823, 39.213043285073546], &quot;geometry&quot;: {&quot;coordinates&quot;: [9.176066455841823, 39.213043285073546], &quot;type&quot;: &quot;Point&quot;}, &quot;id&quot;: &quot;329&quot;, &quot;properties&quot;: {}, &quot;type&quot;: &quot;Feature&quot;}, {&quot;bbox&quot;: [9.176020840505117, 39.213101329054396, 9.176020840505117, 39.213101329054396], &quot;geometry&quot;: {&quot;coordinates&quot;: [9.176020840505117, 39.213101329054396], &quot;type&quot;: &quot;Point&quot;}, &quot;id&quot;: &quot;330&quot;, &quot;properties&quot;: {}, &quot;type&quot;: &quot;Feature&quot;}, {&quot;bbox&quot;: [9.176042590873697, 39.213073652456536, 9.176042590873697, 39.213073652456536], &quot;geometry&quot;: {&quot;coordinates&quot;: [9.176042590873697, 39.213073652456536], &quot;type&quot;: &quot;Point&quot;}, &quot;id&quot;: &quot;331&quot;, &quot;properties&quot;: {}, &quot;type&quot;: &quot;Feature&quot;}, {&quot;bbox&quot;: [9.17616614472723, 39.21291643392591, 9.17616614472723, 39.21291643392591], &quot;geometry&quot;: {&quot;coordinates&quot;: [9.17616614472723, 39.21291643392591], &quot;type&quot;: &quot;Point&quot;}, &quot;id&quot;: &quot;332&quot;, &quot;properties&quot;: {}, &quot;type&quot;: &quot;Feature&quot;}, {&quot;bbox&quot;: [9.176106996031768, 39.2129916989507, 9.176106996031768, 39.2129916989507], &quot;geometry&quot;: {&quot;coordinates&quot;: [9.176106996031768, 39.2129916989507], &quot;type&quot;: &quot;Point&quot;}, &quot;id&quot;: &quot;333&quot;, &quot;properties&quot;: {}, &quot;type&quot;: &quot;Feature&quot;}, {&quot;bbox&quot;: [9.176071953844232, 39.21303628904282, 9.176071953844232, 39.21303628904282], &quot;geometry&quot;: {&quot;coordinates&quot;: [9.176071953844232, 39.21303628904282], &quot;type&quot;: &quot;Point&quot;}, &quot;id&quot;: &quot;334&quot;, &quot;properties&quot;: {}, &quot;type&quot;: &quot;Feature&quot;}, {&quot;bbox&quot;: [9.176113339871332, 39.21298362660529, 9.176113339871332, 39.21298362660529], &quot;geometry&quot;: {&quot;coordinates&quot;: [9.176113339871332, 39.21298362660529], &quot;type&quot;: &quot;Point&quot;}, &quot;id&quot;: &quot;335&quot;, &quot;properties&quot;: {}, &quot;type&quot;: &quot;Feature&quot;}, {&quot;bbox&quot;: [9.176118958699451, 39.21297647681333, 9.176118958699451, 39.21297647681333], &quot;geometry&quot;: {&quot;coordinates&quot;: [9.176118958699451, 39.21297647681333], &quot;type&quot;: &quot;Point&quot;}, &quot;id&quot;: &quot;336&quot;, &quot;properties&quot;: {}, &quot;type&quot;: &quot;Feature&quot;}, {&quot;bbox&quot;: [9.176114004463965, 39.212982780930986, 9.176114004463965, 39.212982780930986], &quot;geometry&quot;: {&quot;coordinates&quot;: [9.176114004463965, 39.212982780930986], &quot;type&quot;: &quot;Point&quot;}, &quot;id&quot;: &quot;337&quot;, &quot;properties&quot;: {}, &quot;type&quot;: &quot;Feature&quot;}, {&quot;bbox&quot;: [9.176102162629224, 39.21299784930889, 9.176102162629224, 39.21299784930889], &quot;geometry&quot;: {&quot;coordinates&quot;: [9.176102162629224, 39.21299784930889], &quot;type&quot;: &quot;Point&quot;}, &quot;id&quot;: &quot;338&quot;, &quot;properties&quot;: {}, &quot;type&quot;: &quot;Feature&quot;}, {&quot;bbox&quot;: [9.176096120874856, 39.2130055372563, 9.176096120874856, 39.2130055372563], &quot;geometry&quot;: {&quot;coordinates&quot;: [9.176096120874856, 39.2130055372563], &quot;type&quot;: &quot;Point&quot;}, &quot;id&quot;: &quot;339&quot;, &quot;properties&quot;: {}, &quot;type&quot;: &quot;Feature&quot;}, {&quot;bbox&quot;: [9.176150436199364, 39.212936422597394, 9.176150436199364, 39.212936422597394], &quot;geometry&quot;: {&quot;coordinates&quot;: [9.176150436199364, 39.212936422597394], &quot;type&quot;: &quot;Point&quot;}, &quot;id&quot;: &quot;340&quot;, &quot;properties&quot;: {}, &quot;type&quot;: &quot;Feature&quot;}, {&quot;bbox&quot;: [9.176104035572807, 39.21299546604509, 9.176104035572807, 39.21299546604509], &quot;geometry&quot;: {&quot;coordinates&quot;: [9.176104035572807, 39.21299546604509], &quot;type&quot;: &quot;Point&quot;}, &quot;id&quot;: &quot;341&quot;, &quot;properties&quot;: {}, &quot;type&quot;: &quot;Feature&quot;}, {&quot;bbox&quot;: [9.176099443839922, 39.213001308885254, 9.176099443839922, 39.213001308885254], &quot;geometry&quot;: {&quot;coordinates&quot;: [9.176099443839922, 39.213001308885254], &quot;type&quot;: &quot;Point&quot;}, &quot;id&quot;: &quot;342&quot;, &quot;properties&quot;: {}, &quot;type&quot;: &quot;Feature&quot;}, {&quot;bbox&quot;: [9.176107721042078, 39.212990776396964, 9.176107721042078, 39.212990776396964], &quot;geometry&quot;: {&quot;coordinates&quot;: [9.176107721042078, 39.212990776396964], &quot;type&quot;: &quot;Point&quot;}, &quot;id&quot;: &quot;343&quot;, &quot;properties&quot;: {}, &quot;type&quot;: &quot;Feature&quot;}, {&quot;bbox&quot;: [9.176071349668193, 39.21303705783742, 9.176071349668193, 39.21303705783742], &quot;geometry&quot;: {&quot;coordinates&quot;: [9.176071349668193, 39.21303705783742], &quot;type&quot;: &quot;Point&quot;}, &quot;id&quot;: &quot;344&quot;, &quot;properties&quot;: {}, &quot;type&quot;: &quot;Feature&quot;}, {&quot;bbox&quot;: [9.176103793902676, 39.21299577356301, 9.176103793902676, 39.21299577356301], &quot;geometry&quot;: {&quot;coordinates&quot;: [9.176103793902676, 39.21299577356301], &quot;type&quot;: &quot;Point&quot;}, &quot;id&quot;: &quot;345&quot;, &quot;properties&quot;: {}, &quot;type&quot;: &quot;Feature&quot;}, {&quot;bbox&quot;: [9.176096422962605, 39.21300515285893, 9.176096422962605, 39.21300515285893], &quot;geometry&quot;: {&quot;coordinates&quot;: [9.176096422962605, 39.21300515285893], &quot;type&quot;: &quot;Point&quot;}, &quot;id&quot;: &quot;346&quot;, &quot;properties&quot;: {}, &quot;type&quot;: &quot;Feature&quot;}, {&quot;bbox&quot;: [9.176119381621952, 39.21297593865695, 9.176119381621952, 39.21297593865695], &quot;geometry&quot;: {&quot;coordinates&quot;: [9.176119381621952, 39.21297593865695], &quot;type&quot;: &quot;Point&quot;}, &quot;id&quot;: &quot;347&quot;, &quot;properties&quot;: {}, &quot;type&quot;: &quot;Feature&quot;}, {&quot;bbox&quot;: [9.176105364758502, 39.212993774696606, 9.176105364758502, 39.212993774696606], &quot;geometry&quot;: {&quot;coordinates&quot;: [9.176105364758502, 39.212993774696606], &quot;type&quot;: &quot;Point&quot;}, &quot;id&quot;: &quot;348&quot;, &quot;properties&quot;: {}, &quot;type&quot;: &quot;Feature&quot;}, {&quot;bbox&quot;: [9.176086272812416, 39.213018068609934, 9.176086272812416, 39.213018068609934], &quot;geometry&quot;: {&quot;coordinates&quot;: [9.176086272812416, 39.213018068609934], &quot;type&quot;: &quot;Point&quot;}, &quot;id&quot;: &quot;349&quot;, &quot;properties&quot;: {}, &quot;type&quot;: &quot;Feature&quot;}, {&quot;bbox&quot;: [9.176031715691536, 39.21308749075599, 9.176031715691536, 39.21308749075599], &quot;geometry&quot;: {&quot;coordinates&quot;: [9.176031715691536, 39.21308749075599], &quot;type&quot;: &quot;Point&quot;}, &quot;id&quot;: &quot;350&quot;, &quot;properties&quot;: {}, &quot;type&quot;: &quot;Feature&quot;}, {&quot;bbox&quot;: [9.176092254151369, 39.21301045754248, 9.176092254151369, 39.21301045754248], &quot;geometry&quot;: {&quot;coordinates&quot;: [9.176092254151369, 39.21301045754248], &quot;type&quot;: &quot;Point&quot;}, &quot;id&quot;: &quot;351&quot;, &quot;properties&quot;: {}, &quot;type&quot;: &quot;Feature&quot;}, {&quot;bbox&quot;: [9.176088206174644, 39.21301560846696, 9.176088206174644, 39.21301560846696], &quot;geometry&quot;: {&quot;coordinates&quot;: [9.176088206174644, 39.21301560846696], &quot;type&quot;: &quot;Point&quot;}, &quot;id&quot;: &quot;352&quot;, &quot;properties&quot;: {}, &quot;type&quot;: &quot;Feature&quot;}, {&quot;bbox&quot;: [9.176145300717176, 39.21294295735491, 9.176145300717176, 39.21294295735491], &quot;geometry&quot;: {&quot;coordinates&quot;: [9.176145300717176, 39.21294295735491], &quot;type&quot;: &quot;Point&quot;}, &quot;id&quot;: &quot;353&quot;, &quot;properties&quot;: {}, &quot;type&quot;: &quot;Feature&quot;}, {&quot;bbox&quot;: [9.176110621083126, 39.21298708618193, 9.176110621083126, 39.21298708618193], &quot;geometry&quot;: {&quot;coordinates&quot;: [9.176110621083126, 39.21298708618193], &quot;type&quot;: &quot;Point&quot;}, &quot;id&quot;: &quot;354&quot;, &quot;properties&quot;: {}, &quot;type&quot;: &quot;Feature&quot;}, {&quot;bbox&quot;: [9.176155330010923, 39.21293019535768, 9.176155330010923, 39.21293019535768], &quot;geometry&quot;: {&quot;coordinates&quot;: [9.176155330010923, 39.21293019535768], &quot;type&quot;: &quot;Point&quot;}, &quot;id&quot;: &quot;355&quot;, &quot;properties&quot;: {}, &quot;type&quot;: &quot;Feature&quot;}, {&quot;bbox&quot;: [9.176092556239164, 39.213010073145135, 9.176092556239164, 39.213010073145135], &quot;geometry&quot;: {&quot;coordinates&quot;: [9.176092556239164, 39.213010073145135], &quot;type&quot;: &quot;Point&quot;}, &quot;id&quot;: &quot;356&quot;, &quot;properties&quot;: {}, &quot;type&quot;: &quot;Feature&quot;}, {&quot;bbox&quot;: [9.176028090629869, 39.21309210352226, 9.176028090629869, 39.21309210352226], &quot;geometry&quot;: {&quot;coordinates&quot;: [9.176028090629869, 39.21309210352226], &quot;type&quot;: &quot;Point&quot;}, &quot;id&quot;: &quot;357&quot;, &quot;properties&quot;: {}, &quot;type&quot;: &quot;Feature&quot;}, {&quot;bbox&quot;: [9.176074128877847, 39.21303352138224, 9.176074128877847, 39.21303352138224], &quot;geometry&quot;: {&quot;coordinates&quot;: [9.176074128877847, 39.21303352138224], &quot;type&quot;: &quot;Point&quot;}, &quot;id&quot;: &quot;358&quot;, &quot;properties&quot;: {}, &quot;type&quot;: &quot;Feature&quot;}, {&quot;bbox&quot;: [9.176018484214161, 39.213104327352255, 9.176018484214161, 39.213104327352255], &quot;geometry&quot;: {&quot;coordinates&quot;: [9.176018484214161, 39.213104327352255], &quot;type&quot;: &quot;Point&quot;}, &quot;id&quot;: &quot;359&quot;, &quot;properties&quot;: {}, &quot;type&quot;: &quot;Feature&quot;}, {&quot;bbox&quot;: [9.176093099997175, 39.21300938122992, 9.176093099997175, 39.21300938122992], &quot;geometry&quot;: {&quot;coordinates&quot;: [9.176093099997175, 39.21300938122992], &quot;type&quot;: &quot;Point&quot;}, &quot;id&quot;: &quot;360&quot;, &quot;properties&quot;: {}, &quot;type&quot;: &quot;Feature&quot;}, {&quot;bbox&quot;: [9.176059749485761, 39.21305181869305, 9.176059749485761, 39.21305181869305], &quot;geometry&quot;: {&quot;coordinates&quot;: [9.176059749485761, 39.21305181869305], &quot;type&quot;: &quot;Point&quot;}, &quot;id&quot;: &quot;361&quot;, &quot;properties&quot;: {}, &quot;type&quot;: &quot;Feature&quot;}, {&quot;bbox&quot;: [9.176044584656625, 39.21307111543484, 9.176044584656625, 39.21307111543484], &quot;geometry&quot;: {&quot;coordinates&quot;: [9.176044584656625, 39.21307111543484], &quot;type&quot;: &quot;Point&quot;}, &quot;id&quot;: &quot;362&quot;, &quot;properties&quot;: {}, &quot;type&quot;: &quot;Feature&quot;}, {&quot;bbox&quot;: [9.176077995603862, 39.213028601096674, 9.176077995603862, 39.213028601096674], &quot;geometry&quot;: {&quot;coordinates&quot;: [9.176077995603862, 39.213028601096674], &quot;type&quot;: &quot;Point&quot;}, &quot;id&quot;: &quot;363&quot;, &quot;properties&quot;: {}, &quot;type&quot;: &quot;Feature&quot;}, {&quot;bbox&quot;: [9.176121919156817, 39.212972709718535, 9.176121919156817, 39.212972709718535], &quot;geometry&quot;: {&quot;coordinates&quot;: [9.176121919156817, 39.212972709718535], &quot;type&quot;: &quot;Point&quot;}, &quot;id&quot;: &quot;364&quot;, &quot;properties&quot;: {}, &quot;type&quot;: &quot;Feature&quot;}, {&quot;bbox&quot;: [9.176090683294797, 39.213012456408705, 9.176090683294797, 39.213012456408705], &quot;geometry&quot;: {&quot;coordinates&quot;: [9.176090683294797, 39.213012456408705], &quot;type&quot;: &quot;Point&quot;}, &quot;id&quot;: &quot;367&quot;, &quot;properties&quot;: {}, &quot;type&quot;: &quot;Feature&quot;}, {&quot;bbox&quot;: [9.17605183477518, 39.213061889901184, 9.17605183477518, 39.213061889901184], &quot;geometry&quot;: {&quot;coordinates&quot;: [9.17605183477518, 39.213061889901184], &quot;type&quot;: &quot;Point&quot;}, &quot;id&quot;: &quot;369&quot;, &quot;properties&quot;: {}, &quot;type&quot;: &quot;Feature&quot;}, {&quot;bbox&quot;: [9.176023861390659, 39.21309748508272, 9.176023861390659, 39.21309748508272], &quot;geometry&quot;: {&quot;coordinates&quot;: [9.176023861390659, 39.21309748508272], &quot;type&quot;: &quot;Point&quot;}, &quot;id&quot;: &quot;370&quot;, &quot;properties&quot;: {}, &quot;type&quot;: &quot;Feature&quot;}, {&quot;bbox&quot;: [9.176097087555643, 39.21300430718475, 9.176097087555643, 39.21300430718475], &quot;geometry&quot;: {&quot;coordinates&quot;: [9.176097087555643, 39.21300430718475], &quot;type&quot;: &quot;Point&quot;}, &quot;id&quot;: &quot;372&quot;, &quot;properties&quot;: {}, &quot;type&quot;: &quot;Feature&quot;}, {&quot;bbox&quot;: [9.176075578900166, 39.21303167627518, 9.176075578900166, 39.21303167627518], &quot;geometry&quot;: {&quot;coordinates&quot;: [9.176075578900166, 39.21303167627518], &quot;type&quot;: &quot;Point&quot;}, &quot;id&quot;: &quot;374&quot;, &quot;properties&quot;: {}, &quot;type&quot;: &quot;Feature&quot;}, {&quot;bbox&quot;: [9.1760682079526, 39.21304105556929, 9.1760682079526, 39.21304105556929], &quot;geometry&quot;: {&quot;coordinates&quot;: [9.1760682079526, 39.21304105556929], &quot;type&quot;: &quot;Point&quot;}, &quot;id&quot;: &quot;375&quot;, &quot;properties&quot;: {}, &quot;type&quot;: &quot;Feature&quot;}, {&quot;bbox&quot;: [9.176010690327276, 39.21311424479866, 9.176010690327276, 39.21311424479866], &quot;geometry&quot;: {&quot;coordinates&quot;: [9.176010690327276, 39.21311424479866], &quot;type&quot;: &quot;Point&quot;}, &quot;id&quot;: &quot;376&quot;, &quot;properties&quot;: {}, &quot;type&quot;: &quot;Feature&quot;}, {&quot;bbox&quot;: [9.176053405633949, 39.2130598910355, 9.176053405633949, 39.2130598910355], &quot;geometry&quot;: {&quot;coordinates&quot;: [9.176053405633949, 39.2130598910355], &quot;type&quot;: &quot;Point&quot;}, &quot;id&quot;: &quot;377&quot;, &quot;properties&quot;: {}, &quot;type&quot;: &quot;Feature&quot;}, {&quot;bbox&quot;: [9.176061320344084, 39.21304981982725, 9.176061320344084, 39.21304981982725], &quot;geometry&quot;: {&quot;coordinates&quot;: [9.176061320344084, 39.21304981982725], &quot;type&quot;: &quot;Point&quot;}, &quot;id&quot;: &quot;378&quot;, &quot;properties&quot;: {}, &quot;type&quot;: &quot;Feature&quot;}, {&quot;bbox&quot;: [9.176160827995718, 39.212923199322674, 9.176160827995718, 39.212923199322674], &quot;geometry&quot;: {&quot;coordinates&quot;: [9.176160827995718, 39.212923199322674], &quot;type&quot;: &quot;Point&quot;}, &quot;id&quot;: &quot;380&quot;, &quot;properties&quot;: {}, &quot;type&quot;: &quot;Feature&quot;}, {&quot;bbox&quot;: [9.17608796450437, 39.21301591598482, 9.17608796450437, 39.21301591598482], &quot;geometry&quot;: {&quot;coordinates&quot;: [9.17608796450437, 39.21301591598482], &quot;type&quot;: &quot;Point&quot;}, &quot;id&quot;: &quot;381&quot;, &quot;properties&quot;: {}, &quot;type&quot;: &quot;Feature&quot;}, {&quot;bbox&quot;: [9.176019994657105, 39.21310240536646, 9.176019994657105, 39.21310240536646], &quot;geometry&quot;: {&quot;coordinates&quot;: [9.176019994657105, 39.21310240536646], &quot;type&quot;: &quot;Point&quot;}, &quot;id&quot;: &quot;382&quot;, &quot;properties&quot;: {}, &quot;type&quot;: &quot;Feature&quot;}, {&quot;bbox&quot;: [9.175991719151597, 39.213138384937295, 9.175991719151597, 39.213138384937295], &quot;geometry&quot;: {&quot;coordinates&quot;: [9.175991719151597, 39.213138384937295], &quot;type&quot;: &quot;Point&quot;}, &quot;id&quot;: &quot;383&quot;, &quot;properties&quot;: {}, &quot;type&quot;: &quot;Feature&quot;}, {&quot;bbox&quot;: [9.176085064460953, 39.21301960619928, 9.176085064460953, 39.21301960619928], &quot;geometry&quot;: {&quot;coordinates&quot;: [9.176085064460953, 39.21301960619928], &quot;type&quot;: &quot;Point&quot;}, &quot;id&quot;: &quot;384&quot;, &quot;properties&quot;: {}, &quot;type&quot;: &quot;Feature&quot;}, {&quot;bbox&quot;: [9.176131948459018, 39.21295994772336, 9.176131948459018, 39.21295994772336], &quot;geometry&quot;: {&quot;coordinates&quot;: [9.176131948459018, 39.21295994772336], &quot;type&quot;: &quot;Point&quot;}, &quot;id&quot;: &quot;385&quot;, &quot;properties&quot;: {}, &quot;type&quot;: &quot;Feature&quot;}, {&quot;bbox&quot;: [9.176077331010365, 39.213029446770776, 9.176077331010365, 39.213029446770776], &quot;geometry&quot;: {&quot;coordinates&quot;: [9.176077331010365, 39.213029446770776], &quot;type&quot;: &quot;Point&quot;}, &quot;id&quot;: &quot;387&quot;, &quot;properties&quot;: {}, &quot;type&quot;: &quot;Feature&quot;}, {&quot;bbox&quot;: [9.176027728123676, 39.21309256479887, 9.176027728123676, 39.21309256479887], &quot;geometry&quot;: {&quot;coordinates&quot;: [9.176027728123676, 39.21309256479887], &quot;type&quot;: &quot;Point&quot;}, &quot;id&quot;: &quot;388&quot;, &quot;properties&quot;: {}, &quot;type&quot;: &quot;Feature&quot;}, {&quot;bbox&quot;: [9.17605793695682, 39.21305412507664, 9.17605793695682, 39.21305412507664], &quot;geometry&quot;: {&quot;coordinates&quot;: [9.17605793695682, 39.21305412507664], &quot;type&quot;: &quot;Point&quot;}, &quot;id&quot;: &quot;389&quot;, &quot;properties&quot;: {}, &quot;type&quot;: &quot;Feature&quot;}, {&quot;bbox&quot;: [9.17601739669519, 39.21310571118202, 9.17601739669519, 39.21310571118202], &quot;geometry&quot;: {&quot;coordinates&quot;: [9.17601739669519, 39.21310571118202], &quot;type&quot;: &quot;Point&quot;}, &quot;id&quot;: &quot;390&quot;, &quot;properties&quot;: {}, &quot;type&quot;: &quot;Feature&quot;}, {&quot;bbox&quot;: [9.176040838761304, 39.213075881960414, 9.176040838761304, 39.213075881960414], &quot;geometry&quot;: {&quot;coordinates&quot;: [9.176040838761304, 39.213075881960414], &quot;type&quot;: &quot;Point&quot;}, &quot;id&quot;: &quot;391&quot;, &quot;properties&quot;: {}, &quot;type&quot;: &quot;Feature&quot;}, {&quot;bbox&quot;: [9.176054734822067, 39.213058199687595, 9.176054734822067, 39.213058199687595], &quot;geometry&quot;: {&quot;coordinates&quot;: [9.176054734822067, 39.213058199687595], &quot;type&quot;: &quot;Point&quot;}, &quot;id&quot;: &quot;392&quot;, &quot;properties&quot;: {}, &quot;type&quot;: &quot;Feature&quot;}, {&quot;bbox&quot;: [9.176015040403948, 39.21310870947982, 9.176015040403948, 39.21310870947982], &quot;geometry&quot;: {&quot;coordinates&quot;: [9.176015040403948, 39.21310870947982], &quot;type&quot;: &quot;Point&quot;}, &quot;id&quot;: &quot;393&quot;, &quot;properties&quot;: {}, &quot;type&quot;: &quot;Feature&quot;}, {&quot;bbox&quot;: [9.175952870493404, 39.21318781839598, 9.175952870493404, 39.21318781839598], &quot;geometry&quot;: {&quot;coordinates&quot;: [9.175952870493404, 39.21318781839598], &quot;type&quot;: &quot;Point&quot;}, &quot;id&quot;: &quot;394&quot;, &quot;properties&quot;: {}, &quot;type&quot;: &quot;Feature&quot;}, {&quot;bbox&quot;: [9.17604591384517, 39.213069424087045, 9.17604591384517, 39.213069424087045], &quot;geometry&quot;: {&quot;coordinates&quot;: [9.17604591384517, 39.213069424087045], &quot;type&quot;: &quot;Point&quot;}, &quot;id&quot;: &quot;395&quot;, &quot;properties&quot;: {}, &quot;type&quot;: &quot;Feature&quot;}, {&quot;bbox&quot;: [9.17604059709062, 39.21307618947819, 9.17604059709062, 39.21307618947819], &quot;geometry&quot;: {&quot;coordinates&quot;: [9.17604059709062, 39.21307618947819], &quot;type&quot;: &quot;Point&quot;}, &quot;id&quot;: &quot;396&quot;, &quot;properties&quot;: {}, &quot;type&quot;: &quot;Feature&quot;}, {&quot;bbox&quot;: [9.176026459351966, 39.21309417926703, 9.176026459351966, 39.21309417926703], &quot;geometry&quot;: {&quot;coordinates&quot;: [9.176026459351966, 39.21309417926703], &quot;type&quot;: &quot;Point&quot;}, &quot;id&quot;: &quot;397&quot;, &quot;properties&quot;: {}, &quot;type&quot;: &quot;Feature&quot;}, {&quot;bbox&quot;: [9.176024828073963, 39.21309625501176, 9.176024828073963, 39.21309625501176], &quot;geometry&quot;: {&quot;coordinates&quot;: [9.176024828073963, 39.21309625501176], &quot;type&quot;: &quot;Point&quot;}, &quot;id&quot;: &quot;399&quot;, &quot;properties&quot;: {}, &quot;type&quot;: &quot;Feature&quot;}, {&quot;bbox&quot;: [9.176073887207455, 39.213033828900095, 9.176073887207455, 39.213033828900095], &quot;geometry&quot;: {&quot;coordinates&quot;: [9.176073887207455, 39.213033828900095], &quot;type&quot;: &quot;Point&quot;}, &quot;id&quot;: &quot;400&quot;, &quot;properties&quot;: {}, &quot;type&quot;: &quot;Feature&quot;}, {&quot;bbox&quot;: [9.176003681868982, 39.21312316281202, 9.176003681868982, 39.21312316281202], &quot;geometry&quot;: {&quot;coordinates&quot;: [9.176003681868982, 39.21312316281202], &quot;type&quot;: &quot;Point&quot;}, &quot;id&quot;: &quot;401&quot;, &quot;properties&quot;: {}, &quot;type&quot;: &quot;Feature&quot;}, {&quot;bbox&quot;: [9.176050868092815, 39.21306311997236, 9.176050868092815, 39.21306311997236], &quot;geometry&quot;: {&quot;coordinates&quot;: [9.176050868092815, 39.21306311997236], &quot;type&quot;: &quot;Point&quot;}, &quot;id&quot;: &quot;402&quot;, &quot;properties&quot;: {}, &quot;type&quot;: &quot;Feature&quot;}, {&quot;bbox&quot;: [9.176125967128623, 39.21296755879289, 9.176125967128623, 39.21296755879289], &quot;geometry&quot;: {&quot;coordinates&quot;: [9.176125967128623, 39.21296755879289], &quot;type&quot;: &quot;Point&quot;}, &quot;id&quot;: &quot;403&quot;, &quot;properties&quot;: {}, &quot;type&quot;: &quot;Feature&quot;}, {&quot;bbox&quot;: [9.176108023129698, 39.21299039199955, 9.176108023129698, 39.21299039199955], &quot;geometry&quot;: {&quot;coordinates&quot;: [9.176108023129698, 39.21299039199955], &quot;type&quot;: &quot;Point&quot;}, &quot;id&quot;: &quot;404&quot;, &quot;properties&quot;: {}, &quot;type&quot;: &quot;Feature&quot;}, {&quot;bbox&quot;: [9.176107721042078, 39.212990776396964, 9.176107721042078, 39.212990776396964], &quot;geometry&quot;: {&quot;coordinates&quot;: [9.176107721042078, 39.212990776396964], &quot;type&quot;: &quot;Point&quot;}, &quot;id&quot;: &quot;405&quot;, &quot;properties&quot;: {}, &quot;type&quot;: &quot;Feature&quot;}, {&quot;bbox&quot;: [9.176126631720956, 39.21296671311851, 9.176126631720956, 39.21296671311851], &quot;geometry&quot;: {&quot;coordinates&quot;: [9.176126631720956, 39.21296671311851], &quot;type&quot;: &quot;Point&quot;}, &quot;id&quot;: &quot;406&quot;, &quot;properties&quot;: {}, &quot;type&quot;: &quot;Feature&quot;}, {&quot;bbox&quot;: [9.17602730519978, 39.21309310295492, 9.17602730519978, 39.21309310295492], &quot;geometry&quot;: {&quot;coordinates&quot;: [9.17602730519978, 39.21309310295492], &quot;type&quot;: &quot;Point&quot;}, &quot;id&quot;: &quot;407&quot;, &quot;properties&quot;: {}, &quot;type&quot;: &quot;Feature&quot;}, {&quot;bbox&quot;: [9.176071289250592, 39.21303713471688, 9.176071289250592, 39.21303713471688], &quot;geometry&quot;: {&quot;coordinates&quot;: [9.176071289250592, 39.21303713471688], &quot;type&quot;: &quot;Point&quot;}, &quot;id&quot;: &quot;408&quot;, &quot;properties&quot;: {}, &quot;type&quot;: &quot;Feature&quot;}, {&quot;bbox&quot;: [9.17605098892811, 39.21306296621346, 9.17605098892811, 39.21306296621346], &quot;geometry&quot;: {&quot;coordinates&quot;: [9.17605098892811, 39.21306296621346], &quot;type&quot;: &quot;Point&quot;}, &quot;id&quot;: &quot;409&quot;, &quot;properties&quot;: {}, &quot;type&quot;: &quot;Feature&quot;}, {&quot;bbox&quot;: [9.176060716167814, 39.213050588621805, 9.176060716167814, 39.213050588621805], &quot;geometry&quot;: {&quot;coordinates&quot;: [9.176060716167814, 39.213050588621805], &quot;type&quot;: &quot;Point&quot;}, &quot;id&quot;: &quot;410&quot;, &quot;properties&quot;: {}, &quot;type&quot;: &quot;Feature&quot;}, {&quot;bbox&quot;: [9.176032682374567, 39.213086260684975, 9.176032682374567, 39.213086260684975], &quot;geometry&quot;: {&quot;coordinates&quot;: [9.176032682374567, 39.213086260684975], &quot;type&quot;: &quot;Point&quot;}, &quot;id&quot;: &quot;411&quot;, &quot;properties&quot;: {}, &quot;type&quot;: &quot;Feature&quot;}, {&quot;bbox&quot;: [9.176039207484147, 39.21307795770536, 9.176039207484147, 39.21307795770536], &quot;geometry&quot;: {&quot;coordinates&quot;: [9.176039207484147, 39.21307795770536], &quot;type&quot;: &quot;Point&quot;}, &quot;id&quot;: &quot;412&quot;, &quot;properties&quot;: {}, &quot;type&quot;: &quot;Feature&quot;}, {&quot;bbox&quot;: [9.176165661388046, 39.212917048962005, 9.176165661388046, 39.212917048962005], &quot;geometry&quot;: {&quot;coordinates&quot;: [9.176165661388046, 39.212917048962005], &quot;type&quot;: &quot;Point&quot;}, &quot;id&quot;: &quot;413&quot;, &quot;properties&quot;: {}, &quot;type&quot;: &quot;Feature&quot;}, {&quot;bbox&quot;: [9.176097389643381, 39.213003922787394, 9.176097389643381, 39.213003922787394], &quot;geometry&quot;: {&quot;coordinates&quot;: [9.176097389643381, 39.213003922787394], &quot;type&quot;: &quot;Point&quot;}, &quot;id&quot;: &quot;414&quot;, &quot;properties&quot;: {}, &quot;type&quot;: &quot;Feature&quot;}, {&quot;bbox&quot;: [9.176078781032517, 39.21302760166365, 9.176078781032517, 39.21302760166365], &quot;geometry&quot;: {&quot;coordinates&quot;: [9.176078781032517, 39.21302760166365], &quot;type&quot;: &quot;Point&quot;}, &quot;id&quot;: &quot;415&quot;, &quot;properties&quot;: {}, &quot;type&quot;: &quot;Feature&quot;}, {&quot;bbox&quot;: [9.176079747713906, 39.21302637159222, 9.176079747713906, 39.21302637159222], &quot;geometry&quot;: {&quot;coordinates&quot;: [9.176079747713906, 39.21302637159222], &quot;type&quot;: &quot;Point&quot;}, &quot;id&quot;: &quot;416&quot;, &quot;properties&quot;: {}, &quot;type&quot;: &quot;Feature&quot;}, {&quot;bbox&quot;: [9.176038361636696, 39.213079034017554, 9.176038361636696, 39.213079034017554], &quot;geometry&quot;: {&quot;coordinates&quot;: [9.176038361636696, 39.213079034017554], &quot;type&quot;: &quot;Point&quot;}, &quot;id&quot;: &quot;417&quot;, &quot;properties&quot;: {}, &quot;type&quot;: &quot;Feature&quot;}, {&quot;bbox&quot;: [9.176080714395264, 39.213025141520795, 9.176080714395264, 39.213025141520795], &quot;geometry&quot;: {&quot;coordinates&quot;: [9.176080714395264, 39.213025141520795], &quot;type&quot;: &quot;Point&quot;}, &quot;id&quot;: &quot;418&quot;, &quot;properties&quot;: {}, &quot;type&quot;: &quot;Feature&quot;}, {&quot;bbox&quot;: [9.176074189295443, 39.21303344450278, 9.176074189295443, 39.21303344450278], &quot;geometry&quot;: {&quot;coordinates&quot;: [9.176074189295443, 39.21303344450278], &quot;type&quot;: &quot;Point&quot;}, &quot;id&quot;: &quot;419&quot;, &quot;properties&quot;: {}, &quot;type&quot;: &quot;Feature&quot;}, {&quot;bbox&quot;: [9.176102585551973, 39.212997311152535, 9.176102585551973, 39.212997311152535], &quot;geometry&quot;: {&quot;coordinates&quot;: [9.176102585551973, 39.212997311152535], &quot;type&quot;: &quot;Point&quot;}, &quot;id&quot;: &quot;420&quot;, &quot;properties&quot;: {}, &quot;type&quot;: &quot;Feature&quot;}, {&quot;bbox&quot;: [9.176072437185052, 39.213035674007145, 9.176072437185052, 39.213035674007145], &quot;geometry&quot;: {&quot;coordinates&quot;: [9.176072437185052, 39.213035674007145], &quot;type&quot;: &quot;Point&quot;}, &quot;id&quot;: &quot;421&quot;, &quot;properties&quot;: {}, &quot;type&quot;: &quot;Feature&quot;}, {&quot;bbox&quot;: [9.17609473127116, 39.21300730548416, 9.17609473127116, 39.21300730548416], &quot;geometry&quot;: {&quot;coordinates&quot;: [9.17609473127116, 39.21300730548416], &quot;type&quot;: &quot;Point&quot;}, &quot;id&quot;: &quot;423&quot;, &quot;properties&quot;: {}, &quot;type&quot;: &quot;Feature&quot;}, {&quot;bbox&quot;: [9.176113098201279, 39.2129839341232, 9.176113098201279, 39.2129839341232], &quot;geometry&quot;: {&quot;coordinates&quot;: [9.176113098201279, 39.2129839341232], &quot;type&quot;: &quot;Point&quot;}, &quot;id&quot;: &quot;424&quot;, &quot;properties&quot;: {}, &quot;type&quot;: &quot;Feature&quot;}, {&quot;bbox&quot;: [9.176109291897683, 39.2129887775305, 9.176109291897683, 39.2129887775305], &quot;geometry&quot;: {&quot;coordinates&quot;: [9.176109291897683, 39.2129887775305], &quot;type&quot;: &quot;Point&quot;}, &quot;id&quot;: &quot;425&quot;, &quot;properties&quot;: {}, &quot;type&quot;: &quot;Feature&quot;}, {&quot;bbox&quot;: [9.176099987597803, 39.213000616969985, 9.176099987597803, 39.213000616969985], &quot;geometry&quot;: {&quot;coordinates&quot;: [9.176099987597803, 39.213000616969985], &quot;type&quot;: &quot;Point&quot;}, &quot;id&quot;: &quot;427&quot;, &quot;properties&quot;: {}, &quot;type&quot;: &quot;Feature&quot;}, {&quot;bbox&quot;: [9.176068993381532, 39.21304005613633, 9.176068993381532, 39.21304005613633], &quot;geometry&quot;: {&quot;coordinates&quot;: [9.176068993381532, 39.21304005613633], &quot;type&quot;: &quot;Point&quot;}, &quot;id&quot;: &quot;428&quot;, &quot;properties&quot;: {}, &quot;type&quot;: &quot;Feature&quot;}, {&quot;bbox&quot;: [9.176055943174847, 39.21305666209856, 9.176055943174847, 39.21305666209856], &quot;geometry&quot;: {&quot;coordinates&quot;: [9.176055943174847, 39.21305666209856], &quot;type&quot;: &quot;Point&quot;}, &quot;id&quot;: &quot;431&quot;, &quot;properties&quot;: {}, &quot;type&quot;: &quot;Feature&quot;}, {&quot;bbox&quot;: [9.176176959439319, 39.21290267249315, 9.176176959439319, 39.21290267249315], &quot;geometry&quot;: {&quot;coordinates&quot;: [9.176176959439319, 39.21290267249315], &quot;type&quot;: &quot;Point&quot;}, &quot;id&quot;: &quot;432&quot;, &quot;properties&quot;: {}, &quot;type&quot;: &quot;Feature&quot;}, {&quot;bbox&quot;: [9.17603685119475, 39.21308095600361, 9.17603685119475, 39.21308095600361], &quot;geometry&quot;: {&quot;coordinates&quot;: [9.17603685119475, 39.21308095600361], &quot;type&quot;: &quot;Point&quot;}, &quot;id&quot;: &quot;434&quot;, &quot;properties&quot;: {}, &quot;type&quot;: &quot;Feature&quot;}, {&quot;bbox&quot;: [9.176098900082028, 39.21300200080052, 9.176098900082028, 39.21300200080052], &quot;geometry&quot;: {&quot;coordinates&quot;: [9.176098900082028, 39.21300200080052], &quot;type&quot;: &quot;Point&quot;}, &quot;id&quot;: &quot;435&quot;, &quot;properties&quot;: {}, &quot;type&quot;: &quot;Feature&quot;}, {&quot;bbox&quot;: [9.176108566887414, 39.21298970008425, 9.176108566887414, 39.21298970008425], &quot;geometry&quot;: {&quot;coordinates&quot;: [9.176108566887414, 39.21298970008425], &quot;type&quot;: &quot;Point&quot;}, &quot;id&quot;: &quot;437&quot;, &quot;properties&quot;: {}, &quot;type&quot;: &quot;Feature&quot;}, {&quot;bbox&quot;: [9.176183726184409, 39.21289406198718, 9.176183726184409, 39.21289406198718], &quot;geometry&quot;: {&quot;coordinates&quot;: [9.176183726184409, 39.21289406198718], &quot;type&quot;: &quot;Point&quot;}, &quot;id&quot;: &quot;438&quot;, &quot;properties&quot;: {}, &quot;type&quot;: &quot;Feature&quot;}, {&quot;bbox&quot;: [9.176120106631934, 39.212975016103115, 9.176120106631934, 39.212975016103115], &quot;geometry&quot;: {&quot;coordinates&quot;: [9.176120106631934, 39.212975016103115], &quot;type&quot;: &quot;Point&quot;}, &quot;id&quot;: &quot;439&quot;, &quot;properties&quot;: {}, &quot;type&quot;: &quot;Feature&quot;}, {&quot;bbox&quot;: [9.17607606224092, 39.21303106123948, 9.17607606224092, 39.21303106123948], &quot;geometry&quot;: {&quot;coordinates&quot;: [9.17607606224092, 39.21303106123948], &quot;type&quot;: &quot;Point&quot;}, &quot;id&quot;: &quot;440&quot;, &quot;properties&quot;: {}, &quot;type&quot;: &quot;Feature&quot;}, {&quot;bbox&quot;: [9.176135513089655, 39.2129554118333, 9.176135513089655, 39.2129554118333], &quot;geometry&quot;: {&quot;coordinates&quot;: [9.176135513089655, 39.2129554118333], &quot;type&quot;: &quot;Point&quot;}, &quot;id&quot;: &quot;441&quot;, &quot;properties&quot;: {}, &quot;type&quot;: &quot;Feature&quot;}, {&quot;bbox&quot;: [9.176132492216267, 39.21295925580794, 9.176132492216267, 39.21295925580794], &quot;geometry&quot;: {&quot;coordinates&quot;: [9.176132492216267, 39.21295925580794], &quot;type&quot;: &quot;Point&quot;}, &quot;id&quot;: &quot;442&quot;, &quot;properties&quot;: {}, &quot;type&quot;: &quot;Feature&quot;}, {&quot;bbox&quot;: [9.176101860541536, 39.21299823370625, 9.176101860541536, 39.21299823370625], &quot;geometry&quot;: {&quot;coordinates&quot;: [9.176101860541536, 39.21299823370625], &quot;type&quot;: &quot;Point&quot;}, &quot;id&quot;: &quot;443&quot;, &quot;properties&quot;: {}, &quot;type&quot;: &quot;Feature&quot;}, {&quot;bbox&quot;: [9.176126269216049, 39.21296717439544, 9.176126269216049, 39.21296717439544], &quot;geometry&quot;: {&quot;coordinates&quot;: [9.176126269216049, 39.21296717439544], &quot;type&quot;: &quot;Point&quot;}, &quot;id&quot;: &quot;444&quot;, &quot;properties&quot;: {}, &quot;type&quot;: &quot;Feature&quot;}, {&quot;bbox&quot;: [9.176067060017964, 39.213042516278946, 9.176067060017964, 39.213042516278946], &quot;geometry&quot;: {&quot;coordinates&quot;: [9.176067060017964, 39.213042516278946], &quot;type&quot;: &quot;Point&quot;}, &quot;id&quot;: &quot;445&quot;, &quot;properties&quot;: {}, &quot;type&quot;: &quot;Feature&quot;}, {&quot;bbox&quot;: [9.176087179075976, 39.213016915417924, 9.176087179075976, 39.213016915417924], &quot;geometry&quot;: {&quot;coordinates&quot;: [9.176087179075976, 39.213016915417924], &quot;type&quot;: &quot;Point&quot;}, &quot;id&quot;: &quot;446&quot;, &quot;properties&quot;: {}, &quot;type&quot;: &quot;Feature&quot;}, {&quot;bbox&quot;: [9.176150859121384, 39.21293588444089, 9.176150859121384, 39.21293588444089], &quot;geometry&quot;: {&quot;coordinates&quot;: [9.176150859121384, 39.21293588444089], &quot;type&quot;: &quot;Point&quot;}, &quot;id&quot;: &quot;447&quot;, &quot;properties&quot;: {}, &quot;type&quot;: &quot;Feature&quot;}, {&quot;bbox&quot;: [9.176119019116948, 39.21297639993384, 9.176119019116948, 39.21297639993384], &quot;geometry&quot;: {&quot;coordinates&quot;: [9.176119019116948, 39.21297639993384], &quot;type&quot;: &quot;Point&quot;}, &quot;id&quot;: &quot;448&quot;, &quot;properties&quot;: {}, &quot;type&quot;: &quot;Feature&quot;}, {&quot;bbox&quot;: [9.176131283866818, 39.21296079339776, 9.176131283866818, 39.21296079339776], &quot;geometry&quot;: {&quot;coordinates&quot;: [9.176131283866818, 39.21296079339776], &quot;type&quot;: &quot;Point&quot;}, &quot;id&quot;: &quot;449&quot;, &quot;properties&quot;: {}, &quot;type&quot;: &quot;Feature&quot;}, {&quot;bbox&quot;: [9.176185236618354, 39.212892139999205, 9.176185236618354, 39.212892139999205], &quot;geometry&quot;: {&quot;coordinates&quot;: [9.176185236618354, 39.212892139999205], &quot;type&quot;: &quot;Point&quot;}, &quot;id&quot;: &quot;451&quot;, &quot;properties&quot;: {}, &quot;type&quot;: &quot;Feature&quot;}, {&quot;bbox&quot;: [9.17617538858755, 39.21290467136055, 9.17617538858755, 39.21290467136055], &quot;geometry&quot;: {&quot;coordinates&quot;: [9.17617538858755, 39.21290467136055], &quot;type&quot;: &quot;Point&quot;}, &quot;id&quot;: &quot;452&quot;, &quot;properties&quot;: {}, &quot;type&quot;: &quot;Feature&quot;}, {&quot;bbox&quot;: [9.176234597554453, 39.21282932942071, 9.176234597554453, 39.21282932942071], &quot;geometry&quot;: {&quot;coordinates&quot;: [9.176234597554453, 39.21282932942071], &quot;type&quot;: &quot;Point&quot;}, &quot;id&quot;: &quot;453&quot;, &quot;properties&quot;: {}, &quot;type&quot;: &quot;Feature&quot;}, {&quot;bbox&quot;: [9.17616638639682, 39.21291612640788, 9.17616638639682, 39.21291612640788], &quot;geometry&quot;: {&quot;coordinates&quot;: [9.17616638639682, 39.21291612640788], &quot;type&quot;: &quot;Point&quot;}, &quot;id&quot;: &quot;455&quot;, &quot;properties&quot;: {}, &quot;type&quot;: &quot;Feature&quot;}, {&quot;bbox&quot;: [9.176143669446159, 39.21294503310137, 9.176143669446159, 39.21294503310137], &quot;geometry&quot;: {&quot;coordinates&quot;: [9.176143669446159, 39.21294503310137], &quot;type&quot;: &quot;Point&quot;}, &quot;id&quot;: &quot;456&quot;, &quot;properties&quot;: {}, &quot;type&quot;: &quot;Feature&quot;}, {&quot;bbox&quot;: [9.176150254947066, 39.212936653235914, 9.176150254947066, 39.212936653235914], &quot;geometry&quot;: {&quot;coordinates&quot;: [9.176150254947066, 39.212936653235914], &quot;type&quot;: &quot;Point&quot;}, &quot;id&quot;: &quot;457&quot;, &quot;properties&quot;: {}, &quot;type&quot;: &quot;Feature&quot;}, {&quot;bbox&quot;: [9.176142944436789, 39.21294595565535, 9.176142944436789, 39.21294595565535], &quot;geometry&quot;: {&quot;coordinates&quot;: [9.176142944436789, 39.21294595565535], &quot;type&quot;: &quot;Point&quot;}, &quot;id&quot;: &quot;458&quot;, &quot;properties&quot;: {}, &quot;type&quot;: &quot;Feature&quot;}, {&quot;bbox&quot;: [9.176083070680933, 39.21302214322166, 9.176083070680933, 39.21302214322166], &quot;geometry&quot;: {&quot;coordinates&quot;: [9.176083070680933, 39.21302214322166], &quot;type&quot;: &quot;Point&quot;}, &quot;id&quot;: &quot;459&quot;, &quot;properties&quot;: {}, &quot;type&quot;: &quot;Feature&quot;}, {&quot;bbox&quot;: [9.176138292292878, 39.212951875376554, 9.176138292292878, 39.212951875376554], &quot;geometry&quot;: {&quot;coordinates&quot;: [9.176138292292878, 39.212951875376554], &quot;type&quot;: &quot;Point&quot;}, &quot;id&quot;: &quot;460&quot;, &quot;properties&quot;: {}, &quot;type&quot;: &quot;Feature&quot;}, {&quot;bbox&quot;: [9.176083614439136, 39.21302145130647, 9.176083614439136, 39.21302145130647], &quot;geometry&quot;: {&quot;coordinates&quot;: [9.176083614439136, 39.21302145130647], &quot;type&quot;: &quot;Point&quot;}, &quot;id&quot;: &quot;461&quot;, &quot;properties&quot;: {}, &quot;type&quot;: &quot;Feature&quot;}, {&quot;bbox&quot;: [9.176141917340146, 39.21294726260679, 9.176141917340146, 39.21294726260679], &quot;geometry&quot;: {&quot;coordinates&quot;: [9.176141917340146, 39.21294726260679], &quot;type&quot;: &quot;Point&quot;}, &quot;id&quot;: &quot;463&quot;, &quot;properties&quot;: {}, &quot;type&quot;: &quot;Feature&quot;}, {&quot;bbox&quot;: [9.176098477159215, 39.213002538956836, 9.176098477159215, 39.213002538956836], &quot;geometry&quot;: {&quot;coordinates&quot;: [9.176098477159215, 39.213002538956836], &quot;type&quot;: &quot;Point&quot;}, &quot;id&quot;: &quot;464&quot;, &quot;properties&quot;: {}, &quot;type&quot;: &quot;Feature&quot;}, {&quot;bbox&quot;: [9.176173153144484, 39.21290751590255, 9.176173153144484, 39.21290751590255], &quot;geometry&quot;: {&quot;coordinates&quot;: [9.176173153144484, 39.21290751590255], &quot;type&quot;: &quot;Point&quot;}, &quot;id&quot;: &quot;466&quot;, &quot;properties&quot;: {}, &quot;type&quot;: &quot;Feature&quot;}, {&quot;bbox&quot;: [9.176113823211429, 39.2129830115694, 9.176113823211429, 39.2129830115694], &quot;geometry&quot;: {&quot;coordinates&quot;: [9.176113823211429, 39.2129830115694], &quot;type&quot;: &quot;Point&quot;}, &quot;id&quot;: &quot;467&quot;, &quot;properties&quot;: {}, &quot;type&quot;: &quot;Feature&quot;}, {&quot;bbox&quot;: [9.176141313165633, 39.21294803140177, 9.176141313165633, 39.21294803140177], &quot;geometry&quot;: {&quot;coordinates&quot;: [9.176141313165633, 39.21294803140177], &quot;type&quot;: &quot;Point&quot;}, &quot;id&quot;: &quot;470&quot;, &quot;properties&quot;: {}, &quot;type&quot;: &quot;Feature&quot;}, {&quot;bbox&quot;: [9.176121919156817, 39.212972709718535, 9.176121919156817, 39.212972709718535], &quot;geometry&quot;: {&quot;coordinates&quot;: [9.176121919156817, 39.212972709718535], &quot;type&quot;: &quot;Point&quot;}, &quot;id&quot;: &quot;471&quot;, &quot;properties&quot;: {}, &quot;type&quot;: &quot;Feature&quot;}, {&quot;bbox&quot;: [9.176146388231126, 39.21294157352393, 9.176146388231126, 39.21294157352393], &quot;geometry&quot;: {&quot;coordinates&quot;: [9.176146388231126, 39.21294157352393], &quot;type&quot;: &quot;Point&quot;}, &quot;id&quot;: &quot;472&quot;, &quot;properties&quot;: {}, &quot;type&quot;: &quot;Feature&quot;}, {&quot;bbox&quot;: [9.176164392622638, 39.21291866343167, 9.176164392622638, 39.21291866343167], &quot;geometry&quot;: {&quot;coordinates&quot;: [9.176164392622638, 39.21291866343167], &quot;type&quot;: &quot;Point&quot;}, &quot;id&quot;: &quot;473&quot;, &quot;properties&quot;: {}, &quot;type&quot;: &quot;Feature&quot;}, {&quot;bbox&quot;: [9.176152671644253, 39.21293357805582, 9.176152671644253, 39.21293357805582], &quot;geometry&quot;: {&quot;coordinates&quot;: [9.176152671644253, 39.21293357805582], &quot;type&quot;: &quot;Point&quot;}, &quot;id&quot;: &quot;474&quot;, &quot;properties&quot;: {}, &quot;type&quot;: &quot;Feature&quot;}, {&quot;bbox&quot;: [9.17615104037368, 39.21293565380238, 9.17615104037368, 39.21293565380238], &quot;geometry&quot;: {&quot;coordinates&quot;: [9.17615104037368, 39.21293565380238], &quot;type&quot;: &quot;Point&quot;}, &quot;id&quot;: &quot;475&quot;, &quot;properties&quot;: {}, &quot;type&quot;: &quot;Feature&quot;}, {&quot;bbox&quot;: [9.176145723639271, 39.21294241919842, 9.176145723639271, 39.21294241919842], &quot;geometry&quot;: {&quot;coordinates&quot;: [9.176145723639271, 39.21294241919842], &quot;type&quot;: &quot;Point&quot;}, &quot;id&quot;: &quot;476&quot;, &quot;properties&quot;: {}, &quot;type&quot;: &quot;Feature&quot;}, {&quot;bbox&quot;: [9.176149288268133, 39.212937883307916, 9.176149288268133, 39.212937883307916], &quot;geometry&quot;: {&quot;coordinates&quot;: [9.176149288268133, 39.212937883307916], &quot;type&quot;: &quot;Point&quot;}, &quot;id&quot;: &quot;477&quot;, &quot;properties&quot;: {}, &quot;type&quot;: &quot;Feature&quot;}, {&quot;bbox&quot;: [9.176135452672188, 39.21295548871278, 9.176135452672188, 39.21295548871278], &quot;geometry&quot;: {&quot;coordinates&quot;: [9.176135452672188, 39.21295548871278], &quot;type&quot;: &quot;Point&quot;}, &quot;id&quot;: &quot;478&quot;, &quot;properties&quot;: {}, &quot;type&quot;: &quot;Feature&quot;}, {&quot;bbox&quot;: [9.176151886217696, 39.21293457748937, 9.176151886217696, 39.21293457748937], &quot;geometry&quot;: {&quot;coordinates&quot;: [9.176151886217696, 39.21293457748937], &quot;type&quot;: &quot;Point&quot;}, &quot;id&quot;: &quot;479&quot;, &quot;properties&quot;: {}, &quot;type&quot;: &quot;Feature&quot;}, {&quot;bbox&quot;: [9.176159921734563, 39.21292435251527, 9.176159921734563, 39.21292435251527], &quot;geometry&quot;: {&quot;coordinates&quot;: [9.176159921734563, 39.21292435251527], &quot;type&quot;: &quot;Point&quot;}, &quot;id&quot;: &quot;481&quot;, &quot;properties&quot;: {}, &quot;type&quot;: &quot;Feature&quot;}, {&quot;bbox&quot;: [9.176086272812416, 39.213018068609934, 9.176086272812416, 39.213018068609934], &quot;geometry&quot;: {&quot;coordinates&quot;: [9.176086272812416, 39.213018068609934], &quot;type&quot;: &quot;Point&quot;}, &quot;id&quot;: &quot;484&quot;, &quot;properties&quot;: {}, &quot;type&quot;: &quot;Feature&quot;}, {&quot;bbox&quot;: [9.176118233689436, 39.212977399367155, 9.176118233689436, 39.212977399367155], &quot;geometry&quot;: {&quot;coordinates&quot;: [9.176118233689436, 39.212977399367155], &quot;type&quot;: &quot;Point&quot;}, &quot;id&quot;: &quot;486&quot;, &quot;properties&quot;: {}, &quot;type&quot;: &quot;Feature&quot;}, {&quot;bbox&quot;: [9.176098537576758, 39.21300246207737, 9.176098537576758, 39.21300246207737], &quot;geometry&quot;: {&quot;coordinates&quot;: [9.176098537576758, 39.21300246207737], &quot;type&quot;: &quot;Point&quot;}, &quot;id&quot;: &quot;487&quot;, &quot;properties&quot;: {}, &quot;type&quot;: &quot;Feature&quot;}, {&quot;bbox&quot;: [9.17612457752643, 39.212969327021106, 9.17612457752643, 39.212969327021106], &quot;geometry&quot;: {&quot;coordinates&quot;: [9.17612457752643, 39.212969327021106], &quot;type&quot;: &quot;Point&quot;}, &quot;id&quot;: &quot;488&quot;, &quot;properties&quot;: {}, &quot;type&quot;: &quot;Feature&quot;}, {&quot;bbox&quot;: [9.1761303776047, 39.21296194659013, 9.1761303776047, 39.21296194659013], &quot;geometry&quot;: {&quot;coordinates&quot;: [9.1761303776047, 39.21296194659013], &quot;type&quot;: &quot;Point&quot;}, &quot;id&quot;: &quot;489&quot;, &quot;properties&quot;: {}, &quot;type&quot;: &quot;Feature&quot;}, {&quot;bbox&quot;: [9.176114669056581, 39.21298193525667, 9.176114669056581, 39.21298193525667], &quot;geometry&quot;: {&quot;coordinates&quot;: [9.176114669056581, 39.21298193525667], &quot;type&quot;: &quot;Point&quot;}, &quot;id&quot;: &quot;492&quot;, &quot;properties&quot;: {}, &quot;type&quot;: &quot;Feature&quot;}, {&quot;bbox&quot;: [9.176066697512281, 39.21304297755571, 9.176066697512281, 39.21304297755571], &quot;geometry&quot;: {&quot;coordinates&quot;: [9.176066697512281, 39.21304297755571], &quot;type&quot;: &quot;Point&quot;}, &quot;id&quot;: &quot;493&quot;, &quot;properties&quot;: {}, &quot;type&quot;: &quot;Feature&quot;}, {&quot;bbox&quot;: [9.17606005157391, 39.213051434295785, 9.17606005157391, 39.213051434295785], &quot;geometry&quot;: {&quot;coordinates&quot;: [9.17606005157391, 39.213051434295785], &quot;type&quot;: &quot;Point&quot;}, &quot;id&quot;: &quot;494&quot;, &quot;properties&quot;: {}, &quot;type&quot;: &quot;Feature&quot;}, {&quot;bbox&quot;: [9.176046215933468, 39.21306903968982, 9.176046215933468, 39.21306903968982], &quot;geometry&quot;: {&quot;coordinates&quot;: [9.176046215933468, 39.21306903968982], &quot;type&quot;: &quot;Point&quot;}, &quot;id&quot;: &quot;495&quot;, &quot;properties&quot;: {}, &quot;type&quot;: &quot;Feature&quot;}, {&quot;bbox&quot;: [9.176103068892262, 39.212996696116726, 9.176103068892262, 39.212996696116726], &quot;geometry&quot;: {&quot;coordinates&quot;: [9.176103068892262, 39.212996696116726], &quot;type&quot;: &quot;Point&quot;}, &quot;id&quot;: &quot;497&quot;, &quot;properties&quot;: {}, &quot;type&quot;: &quot;Feature&quot;}, {&quot;bbox&quot;: [9.176118898281949, 39.21297655369284, 9.176118898281949, 39.21297655369284], &quot;geometry&quot;: {&quot;coordinates&quot;: [9.176118898281949, 39.21297655369284], &quot;type&quot;: &quot;Point&quot;}, &quot;id&quot;: &quot;498&quot;, &quot;properties&quot;: {}, &quot;type&quot;: &quot;Feature&quot;}, {&quot;bbox&quot;: [9.17610584809874, 39.21299315966078, 9.17610584809874, 39.21299315966078], &quot;geometry&quot;: {&quot;coordinates&quot;: [9.17610584809874, 39.21299315966078], &quot;type&quot;: &quot;Point&quot;}, &quot;id&quot;: &quot;499&quot;, &quot;properties&quot;: {}, &quot;type&quot;: &quot;Feature&quot;}, {&quot;bbox&quot;: [9.176128867167767, 39.2129638685774, 9.176128867167767, 39.2129638685774], &quot;geometry&quot;: {&quot;coordinates&quot;: [9.176128867167767, 39.2129638685774], &quot;type&quot;: &quot;Point&quot;}, &quot;id&quot;: &quot;500&quot;, &quot;properties&quot;: {}, &quot;type&quot;: &quot;Feature&quot;}, {&quot;bbox&quot;: [9.176108264799794, 39.21299008448165, 9.176108264799794, 39.21299008448165], &quot;geometry&quot;: {&quot;coordinates&quot;: [9.176108264799794, 39.21299008448165], &quot;type&quot;: &quot;Point&quot;}, &quot;id&quot;: &quot;502&quot;, &quot;properties&quot;: {}, &quot;type&quot;: &quot;Feature&quot;}, {&quot;bbox&quot;: [9.176046820110049, 39.213068270895356, 9.176046820110049, 39.213068270895356], &quot;geometry&quot;: {&quot;coordinates&quot;: [9.176046820110049, 39.213068270895356], &quot;type&quot;: &quot;Point&quot;}, &quot;id&quot;: &quot;503&quot;, &quot;properties&quot;: {}, &quot;type&quot;: &quot;Feature&quot;}, {&quot;bbox&quot;: [9.176038542889723, 39.21307880337924, 9.176038542889723, 39.21307880337924], &quot;geometry&quot;: {&quot;coordinates&quot;: [9.176038542889723, 39.21307880337924], &quot;type&quot;: &quot;Point&quot;}, &quot;id&quot;: &quot;504&quot;, &quot;properties&quot;: {}, &quot;type&quot;: &quot;Feature&quot;}, {&quot;bbox&quot;: [9.176073947625053, 39.21303375202061, 9.176073947625053, 39.21303375202061], &quot;geometry&quot;: {&quot;coordinates&quot;: [9.176073947625053, 39.21303375202061], &quot;type&quot;: &quot;Point&quot;}, &quot;id&quot;: &quot;505&quot;, &quot;properties&quot;: {}, &quot;type&quot;: &quot;Feature&quot;}, {&quot;bbox&quot;: [9.176099987597803, 39.213000616969985, 9.176099987597803, 39.213000616969985], &quot;geometry&quot;: {&quot;coordinates&quot;: [9.176099987597803, 39.213000616969985], &quot;type&quot;: &quot;Point&quot;}, &quot;id&quot;: &quot;507&quot;, &quot;properties&quot;: {}, &quot;type&quot;: &quot;Feature&quot;}, {&quot;bbox&quot;: [9.176079445625973, 39.21302675598956, 9.176079445625973, 39.21302675598956], &quot;geometry&quot;: {&quot;coordinates&quot;: [9.176079445625973, 39.21302675598956], &quot;type&quot;: &quot;Point&quot;}, &quot;id&quot;: &quot;508&quot;, &quot;properties&quot;: {}, &quot;type&quot;: &quot;Feature&quot;}, {&quot;bbox&quot;: [9.176125242118793, 39.21296848134674, 9.176125242118793, 39.21296848134674], &quot;geometry&quot;: {&quot;coordinates&quot;: [9.176125242118793, 39.21296848134674], &quot;type&quot;: &quot;Point&quot;}, &quot;id&quot;: &quot;509&quot;, &quot;properties&quot;: {}, &quot;type&quot;: &quot;Feature&quot;}, {&quot;bbox&quot;: [9.176145119464836, 39.2129431879934, 9.176145119464836, 39.2129431879934], &quot;geometry&quot;: {&quot;coordinates&quot;: [9.176145119464836, 39.2129431879934], &quot;type&quot;: &quot;Point&quot;}, &quot;id&quot;: &quot;511&quot;, &quot;properties&quot;: {}, &quot;type&quot;: &quot;Feature&quot;}, {&quot;bbox&quot;: [9.176125967128623, 39.21296755879289, 9.176125967128623, 39.21296755879289], &quot;geometry&quot;: {&quot;coordinates&quot;: [9.176125967128623, 39.21296755879289], &quot;type&quot;: &quot;Point&quot;}, &quot;id&quot;: &quot;512&quot;, &quot;properties&quot;: {}, &quot;type&quot;: &quot;Feature&quot;}, {&quot;bbox&quot;: [9.176096302127503, 39.21300530661788, 9.176096302127503, 39.21300530661788], &quot;geometry&quot;: {&quot;coordinates&quot;: [9.176096302127503, 39.21300530661788], &quot;type&quot;: &quot;Point&quot;}, &quot;id&quot;: &quot;513&quot;, &quot;properties&quot;: {}, &quot;type&quot;: &quot;Feature&quot;}, {&quot;bbox&quot;: [9.176154242497315, 39.212931579188734, 9.176154242497315, 39.212931579188734], &quot;geometry&quot;: {&quot;coordinates&quot;: [9.176154242497315, 39.212931579188734], &quot;type&quot;: &quot;Point&quot;}, &quot;id&quot;: &quot;516&quot;, &quot;properties&quot;: {}, &quot;type&quot;: &quot;Feature&quot;}, {&quot;bbox&quot;: [9.176114064881476, 39.21298270405149, 9.176114064881476, 39.21298270405149], &quot;geometry&quot;: {&quot;coordinates&quot;: [9.176114064881476, 39.21298270405149], &quot;type&quot;: &quot;Point&quot;}, &quot;id&quot;: &quot;517&quot;, &quot;properties&quot;: {}, &quot;type&quot;: &quot;Feature&quot;}, {&quot;bbox&quot;: [9.17616119050017, 39.21292273804562, 9.17616119050017, 39.21292273804562], &quot;geometry&quot;: {&quot;coordinates&quot;: [9.17616119050017, 39.21292273804562], &quot;type&quot;: &quot;Point&quot;}, &quot;id&quot;: &quot;518&quot;, &quot;properties&quot;: {}, &quot;type&quot;: &quot;Feature&quot;}, {&quot;bbox&quot;: [9.176135271419797, 39.21295571935128, 9.176135271419797, 39.21295571935128], &quot;geometry&quot;: {&quot;coordinates&quot;: [9.176135271419797, 39.21295571935128], &quot;type&quot;: &quot;Point&quot;}, &quot;id&quot;: &quot;519&quot;, &quot;properties&quot;: {}, &quot;type&quot;: &quot;Feature&quot;}, {&quot;bbox&quot;: [9.176147052822966, 39.21294072784942, 9.176147052822966, 39.21294072784942], &quot;geometry&quot;: {&quot;coordinates&quot;: [9.176147052822966, 39.21294072784942], &quot;type&quot;: &quot;Point&quot;}, &quot;id&quot;: &quot;520&quot;, &quot;properties&quot;: {}, &quot;type&quot;: &quot;Feature&quot;}, {&quot;bbox&quot;: [9.176115575319217, 39.21298078206444, 9.176115575319217, 39.21298078206444], &quot;geometry&quot;: {&quot;coordinates&quot;: [9.176115575319217, 39.21298078206444], &quot;type&quot;: &quot;Point&quot;}, &quot;id&quot;: &quot;521&quot;, &quot;properties&quot;: {}, &quot;type&quot;: &quot;Feature&quot;}, {&quot;bbox&quot;: [9.176083735274286, 39.21302129754755, 9.176083735274286, 39.21302129754755], &quot;geometry&quot;: {&quot;coordinates&quot;: [9.176083735274286, 39.21302129754755], &quot;type&quot;: &quot;Point&quot;}, &quot;id&quot;: &quot;522&quot;, &quot;properties&quot;: {}, &quot;type&quot;: &quot;Feature&quot;}, {&quot;bbox&quot;: [9.176147415327602, 39.21294026657244, 9.176147415327602, 39.21294026657244], &quot;geometry&quot;: {&quot;coordinates&quot;: [9.176147415327602, 39.21294026657244], &quot;type&quot;: &quot;Point&quot;}, &quot;id&quot;: &quot;523&quot;, &quot;properties&quot;: {}, &quot;type&quot;: &quot;Feature&quot;}, {&quot;bbox&quot;: [9.176143427776369, 39.21294534061936, 9.176143427776369, 39.21294534061936], &quot;geometry&quot;: {&quot;coordinates&quot;: [9.176143427776369, 39.21294534061936], &quot;type&quot;: &quot;Point&quot;}, &quot;id&quot;: &quot;524&quot;, &quot;properties&quot;: {}, &quot;type&quot;: &quot;Feature&quot;}, {&quot;bbox&quot;: [9.17615212788741, 39.21293426997134, 9.17615212788741, 39.21293426997134], &quot;geometry&quot;: {&quot;coordinates&quot;: [9.17615212788741, 39.21293426997134], &quot;type&quot;: &quot;Point&quot;}, &quot;id&quot;: &quot;525&quot;, &quot;properties&quot;: {}, &quot;type&quot;: &quot;Feature&quot;}, {&quot;bbox&quot;: [9.17609684588545, 39.21300461470263, 9.17609684588545, 39.21300461470263], &quot;geometry&quot;: {&quot;coordinates&quot;: [9.17609684588545, 39.21300461470263], &quot;type&quot;: &quot;Point&quot;}, &quot;id&quot;: &quot;526&quot;, &quot;properties&quot;: {}, &quot;type&quot;: &quot;Feature&quot;}, {&quot;bbox&quot;: [9.176150557034228, 39.21293626883839, 9.176150557034228, 39.21293626883839], &quot;geometry&quot;: {&quot;coordinates&quot;: [9.176150557034228, 39.21293626883839], &quot;type&quot;: &quot;Point&quot;}, &quot;id&quot;: &quot;527&quot;, &quot;properties&quot;: {}, &quot;type&quot;: &quot;Feature&quot;}, {&quot;bbox&quot;: [9.176215868201036, 39.212853162078474, 9.176215868201036, 39.212853162078474], &quot;geometry&quot;: {&quot;coordinates&quot;: [9.176215868201036, 39.212853162078474], &quot;type&quot;: &quot;Point&quot;}, &quot;id&quot;: &quot;528&quot;, &quot;properties&quot;: {}, &quot;type&quot;: &quot;Feature&quot;}, {&quot;bbox&quot;: [9.176147294492724, 39.212940420331435, 9.176147294492724, 39.212940420331435], &quot;geometry&quot;: {&quot;coordinates&quot;: [9.176147294492724, 39.212940420331435], &quot;type&quot;: &quot;Point&quot;}, &quot;id&quot;: &quot;529&quot;, &quot;properties&quot;: {}, &quot;type&quot;: &quot;Feature&quot;}, {&quot;bbox&quot;: [9.176140406903839, 39.212949184594216, 9.176140406903839, 39.212949184594216], &quot;geometry&quot;: {&quot;coordinates&quot;: [9.176140406903839, 39.212949184594216], &quot;type&quot;: &quot;Point&quot;}, &quot;id&quot;: &quot;530&quot;, &quot;properties&quot;: {}, &quot;type&quot;: &quot;Feature&quot;}, {&quot;bbox&quot;: [9.176105727263685, 39.212993313419744, 9.176105727263685, 39.212993313419744], &quot;geometry&quot;: {&quot;coordinates&quot;: [9.176105727263685, 39.212993313419744], &quot;type&quot;: &quot;Point&quot;}, &quot;id&quot;: &quot;531&quot;, &quot;properties&quot;: {}, &quot;type&quot;: &quot;Feature&quot;}, {&quot;bbox&quot;: [9.176130619274602, 39.21296163907217, 9.176130619274602, 39.21296163907217], &quot;geometry&quot;: {&quot;coordinates&quot;: [9.176130619274602, 39.21296163907217], &quot;type&quot;: &quot;Point&quot;}, &quot;id&quot;: &quot;532&quot;, &quot;properties&quot;: {}, &quot;type&quot;: &quot;Feature&quot;}, {&quot;bbox&quot;: [9.176164996796649, 39.212917894636604, 9.176164996796649, 39.212917894636604], &quot;geometry&quot;: {&quot;coordinates&quot;: [9.176164996796649, 39.212917894636604], &quot;type&quot;: &quot;Point&quot;}, &quot;id&quot;: &quot;533&quot;, &quot;properties&quot;: {}, &quot;type&quot;: &quot;Feature&quot;}, {&quot;bbox&quot;: [9.176124396273963, 39.21296955765957, 9.176124396273963, 39.21296955765957], &quot;geometry&quot;: {&quot;coordinates&quot;: [9.176124396273963, 39.21296955765957], &quot;type&quot;: &quot;Point&quot;}, &quot;id&quot;: &quot;534&quot;, &quot;properties&quot;: {}, &quot;type&quot;: &quot;Feature&quot;}, {&quot;bbox&quot;: [9.176152792479106, 39.212933424296814, 9.176152792479106, 39.212933424296814], &quot;geometry&quot;: {&quot;coordinates&quot;: [9.176152792479106, 39.212933424296814], &quot;type&quot;: &quot;Point&quot;}, &quot;id&quot;: &quot;535&quot;, &quot;properties&quot;: {}, &quot;type&quot;: &quot;Feature&quot;}, {&quot;bbox&quot;: [9.176150798703953, 39.21293596132038, 9.176150798703953, 39.21293596132038], &quot;geometry&quot;: {&quot;coordinates&quot;: [9.176150798703953, 39.21293596132038], &quot;type&quot;: &quot;Point&quot;}, &quot;id&quot;: &quot;536&quot;, &quot;properties&quot;: {}, &quot;type&quot;: &quot;Feature&quot;}, {&quot;bbox&quot;: [9.17615659877674, 39.212928580888075, 9.17615659877674, 39.212928580888075], &quot;geometry&quot;: {&quot;coordinates&quot;: [9.17615659877674, 39.212928580888075], &quot;type&quot;: &quot;Point&quot;}, &quot;id&quot;: &quot;537&quot;, &quot;properties&quot;: {}, &quot;type&quot;: &quot;Feature&quot;}, {&quot;bbox&quot;: [9.176127779653124, 39.2129652524082, 9.176127779653124, 39.2129652524082], &quot;geometry&quot;: {&quot;coordinates&quot;: [9.176127779653124, 39.2129652524082], &quot;type&quot;: &quot;Point&quot;}, &quot;id&quot;: &quot;539&quot;, &quot;properties&quot;: {}, &quot;type&quot;: &quot;Feature&quot;}, {&quot;bbox&quot;: [9.17613291513856, 39.212958717651496, 9.17613291513856, 39.212958717651496], &quot;geometry&quot;: {&quot;coordinates&quot;: [9.17613291513856, 39.212958717651496], &quot;type&quot;: &quot;Point&quot;}, &quot;id&quot;: &quot;540&quot;, &quot;properties&quot;: {}, &quot;type&quot;: &quot;Feature&quot;}, {&quot;bbox&quot;: [9.176132673468677, 39.21295902516945, 9.176132673468677, 39.21295902516945], &quot;geometry&quot;: {&quot;coordinates&quot;: [9.176132673468677, 39.21295902516945], &quot;type&quot;: &quot;Point&quot;}, &quot;id&quot;: &quot;541&quot;, &quot;properties&quot;: {}, &quot;type&quot;: &quot;Feature&quot;}, {&quot;bbox&quot;: [9.176115454484199, 39.212980935823396, 9.176115454484199, 39.212980935823396], &quot;geometry&quot;: {&quot;coordinates&quot;: [9.176115454484199, 39.212980935823396], &quot;type&quot;: &quot;Point&quot;}, &quot;id&quot;: &quot;542&quot;, &quot;properties&quot;: {}, &quot;type&quot;: &quot;Feature&quot;}, {&quot;bbox&quot;: [9.17618831790335, 39.21288821914365, 9.17618831790335, 39.21288821914365], &quot;geometry&quot;: {&quot;coordinates&quot;: [9.17618831790335, 39.21288821914365], &quot;type&quot;: &quot;Point&quot;}, &quot;id&quot;: &quot;544&quot;, &quot;properties&quot;: {}, &quot;type&quot;: &quot;Feature&quot;}, {&quot;bbox&quot;: [9.176182457419833, 39.21289567645711, 9.176182457419833, 39.21289567645711], &quot;geometry&quot;: {&quot;coordinates&quot;: [9.176182457419833, 39.21289567645711], &quot;type&quot;: &quot;Point&quot;}, &quot;id&quot;: &quot;545&quot;, &quot;properties&quot;: {}, &quot;type&quot;: &quot;Feature&quot;}, {&quot;bbox&quot;: [9.176125604623712, 39.21296802006981, 9.176125604623712, 39.21296802006981], &quot;geometry&quot;: {&quot;coordinates&quot;: [9.176125604623712, 39.21296802006981], &quot;type&quot;: &quot;Point&quot;}, &quot;id&quot;: &quot;546&quot;, &quot;properties&quot;: {}, &quot;type&quot;: &quot;Feature&quot;}, {&quot;bbox&quot;: [9.176184149105922, 39.21289352383058, 9.176184149105922, 39.21289352383058], &quot;geometry&quot;: {&quot;coordinates&quot;: [9.176184149105922, 39.21289352383058], &quot;type&quot;: &quot;Point&quot;}, &quot;id&quot;: &quot;547&quot;, &quot;properties&quot;: {}, &quot;type&quot;: &quot;Feature&quot;}, {&quot;bbox&quot;: [9.176173576066157, 39.212906977745966, 9.176173576066157, 39.212906977745966], &quot;geometry&quot;: {&quot;coordinates&quot;: [9.176173576066157, 39.212906977745966], &quot;type&quot;: &quot;Point&quot;}, &quot;id&quot;: &quot;548&quot;, &quot;properties&quot;: {}, &quot;type&quot;: &quot;Feature&quot;}, {&quot;bbox&quot;: [9.176105606428623, 39.21299346717869, 9.176105606428623, 39.21299346717869], &quot;geometry&quot;: {&quot;coordinates&quot;: [9.176105606428623, 39.21299346717869], &quot;type&quot;: &quot;Point&quot;}, &quot;id&quot;: &quot;549&quot;, &quot;properties&quot;: {}, &quot;type&quot;: &quot;Feature&quot;}, {&quot;bbox&quot;: [9.176185901209264, 39.212891294324486, 9.176185901209264, 39.212891294324486], &quot;geometry&quot;: {&quot;coordinates&quot;: [9.176185901209264, 39.212891294324486], &quot;type&quot;: &quot;Point&quot;}, &quot;id&quot;: &quot;550&quot;, &quot;properties&quot;: {}, &quot;type&quot;: &quot;Feature&quot;}, {&quot;bbox&quot;: [9.17619007000643, 39.2128859896375, 9.17619007000643, 39.2128859896375], &quot;geometry&quot;: {&quot;coordinates&quot;: [9.17619007000643, 39.2128859896375], &quot;type&quot;: &quot;Point&quot;}, &quot;id&quot;: &quot;551&quot;, &quot;properties&quot;: {}, &quot;type&quot;: &quot;Feature&quot;}, {&quot;bbox&quot;: [9.17615327581852, 39.21293280926079, 9.17615327581852, 39.21293280926079], &quot;geometry&quot;: {&quot;coordinates&quot;: [9.17615327581852, 39.21293280926079], &quot;type&quot;: &quot;Point&quot;}, &quot;id&quot;: &quot;552&quot;, &quot;properties&quot;: {}, &quot;type&quot;: &quot;Feature&quot;}, {&quot;bbox&quot;: [9.176167775996921, 39.21291435817914, 9.176167775996921, 39.21291435817914], &quot;geometry&quot;: {&quot;coordinates&quot;: [9.176167775996921, 39.21291435817914], &quot;type&quot;: &quot;Point&quot;}, &quot;id&quot;: &quot;553&quot;, &quot;properties&quot;: {}, &quot;type&quot;: &quot;Feature&quot;}, {&quot;bbox&quot;: [9.176148744511217, 39.21293857522345, 9.176148744511217, 39.21293857522345], &quot;geometry&quot;: {&quot;coordinates&quot;: [9.176148744511217, 39.21293857522345], &quot;type&quot;: &quot;Point&quot;}, &quot;id&quot;: &quot;554&quot;, &quot;properties&quot;: {}, &quot;type&quot;: &quot;Feature&quot;}, {&quot;bbox&quot;: [9.176172609388036, 39.212908207818195, 9.176172609388036, 39.212908207818195], &quot;geometry&quot;: {&quot;coordinates&quot;: [9.176172609388036, 39.212908207818195], &quot;type&quot;: &quot;Point&quot;}, &quot;id&quot;: &quot;555&quot;, &quot;properties&quot;: {}, &quot;type&quot;: &quot;Feature&quot;}, {&quot;bbox&quot;: [9.176137265196065, 39.21295318232798, 9.176137265196065, 39.21295318232798], &quot;geometry&quot;: {&quot;coordinates&quot;: [9.176137265196065, 39.21295318232798], &quot;type&quot;: &quot;Point&quot;}, &quot;id&quot;: &quot;556&quot;, &quot;properties&quot;: {}, &quot;type&quot;: &quot;Feature&quot;}, {&quot;bbox&quot;: [9.176154302914743, 39.21293150230923, 9.176154302914743, 39.21293150230923], &quot;geometry&quot;: {&quot;coordinates&quot;: [9.176154302914743, 39.21293150230923], &quot;type&quot;: &quot;Point&quot;}, &quot;id&quot;: &quot;557&quot;, &quot;properties&quot;: {}, &quot;type&quot;: &quot;Feature&quot;}, {&quot;bbox&quot;: [9.176171280205564, 39.21290989916747, 9.176171280205564, 39.21290989916747], &quot;geometry&quot;: {&quot;coordinates&quot;: [9.176171280205564, 39.21290989916747], &quot;type&quot;: &quot;Point&quot;}, &quot;id&quot;: &quot;559&quot;, &quot;properties&quot;: {}, &quot;type&quot;: &quot;Feature&quot;}, {&quot;bbox&quot;: [9.176139077719832, 39.21295087594312, 9.176139077719832, 39.21295087594312], &quot;geometry&quot;: {&quot;coordinates&quot;: [9.176139077719832, 39.21295087594312], &quot;type&quot;: &quot;Point&quot;}, &quot;id&quot;: &quot;561&quot;, &quot;properties&quot;: {}, &quot;type&quot;: &quot;Feature&quot;}, {&quot;bbox&quot;: [9.176166809318596, 39.21291558825132, 9.176166809318596, 39.21291558825132], &quot;geometry&quot;: {&quot;coordinates&quot;: [9.176166809318596, 39.21291558825132], &quot;type&quot;: &quot;Point&quot;}, &quot;id&quot;: &quot;562&quot;, &quot;properties&quot;: {}, &quot;type&quot;: &quot;Feature&quot;}, {&quot;bbox&quot;: [9.176172851057572, 39.21290790030014, 9.176172851057572, 39.21290790030014], &quot;geometry&quot;: {&quot;coordinates&quot;: [9.176172851057572, 39.21290790030014], &quot;type&quot;: &quot;Point&quot;}, &quot;id&quot;: &quot;563&quot;, &quot;properties&quot;: {}, &quot;type&quot;: &quot;Feature&quot;}, {&quot;bbox&quot;: [9.176147656997355, 39.212939959054424, 9.176147656997355, 39.212939959054424], &quot;geometry&quot;: {&quot;coordinates&quot;: [9.176147656997355, 39.212939959054424], &quot;type&quot;: &quot;Point&quot;}, &quot;id&quot;: &quot;564&quot;, &quot;properties&quot;: {}, &quot;type&quot;: &quot;Feature&quot;}, {&quot;bbox&quot;: [9.17617206563158, 39.212908899733804, 9.17617206563158, 39.212908899733804], &quot;geometry&quot;: {&quot;coordinates&quot;: [9.17617206563158, 39.212908899733804], &quot;type&quot;: &quot;Point&quot;}, &quot;id&quot;: &quot;565&quot;, &quot;properties&quot;: {}, &quot;type&quot;: &quot;Feature&quot;}, {&quot;bbox&quot;: [9.17617538858755, 39.21290467136055, 9.17617538858755, 39.21290467136055], &quot;geometry&quot;: {&quot;coordinates&quot;: [9.17617538858755, 39.21290467136055], &quot;type&quot;: &quot;Point&quot;}, &quot;id&quot;: &quot;567&quot;, &quot;properties&quot;: {}, &quot;type&quot;: &quot;Feature&quot;}, {&quot;bbox&quot;: [9.176178409456266, 39.21290082738475, 9.176178409456266, 39.21290082738475], &quot;geometry&quot;: {&quot;coordinates&quot;: [9.176178409456266, 39.21290082738475], &quot;type&quot;: &quot;Point&quot;}, &quot;id&quot;: &quot;568&quot;, &quot;properties&quot;: {}, &quot;type&quot;: &quot;Feature&quot;}, {&quot;bbox&quot;: [9.176120710806908, 39.21297424730825, 9.176120710806908, 39.21297424730825], &quot;geometry&quot;: {&quot;coordinates&quot;: [9.176120710806908, 39.21297424730825], &quot;type&quot;: &quot;Point&quot;}, &quot;id&quot;: &quot;569&quot;, &quot;properties&quot;: {}, &quot;type&quot;: &quot;Feature&quot;}, {&quot;bbox&quot;: [9.176133942235534, 39.21295741070011, 9.176133942235534, 39.21295741070011], &quot;geometry&quot;: {&quot;coordinates&quot;: [9.176133942235534, 39.21295741070011], &quot;type&quot;: &quot;Point&quot;}, &quot;id&quot;: &quot;570&quot;, &quot;properties&quot;: {}, &quot;type&quot;: &quot;Feature&quot;}, {&quot;bbox&quot;: [9.176173576066157, 39.212906977745966, 9.176173576066157, 39.212906977745966], &quot;geometry&quot;: {&quot;coordinates&quot;: [9.176173576066157, 39.212906977745966], &quot;type&quot;: &quot;Point&quot;}, &quot;id&quot;: &quot;572&quot;, &quot;properties&quot;: {}, &quot;type&quot;: &quot;Feature&quot;}, {&quot;bbox&quot;: [9.176178288621525, 39.212900981143804, 9.176178288621525, 39.212900981143804], &quot;geometry&quot;: {&quot;coordinates&quot;: [9.176178288621525, 39.212900981143804], &quot;type&quot;: &quot;Point&quot;}, &quot;id&quot;: &quot;573&quot;, &quot;properties&quot;: {}, &quot;type&quot;: &quot;Feature&quot;}, {&quot;bbox&quot;: [9.176157021698666, 39.212928042731534, 9.176157021698666, 39.212928042731534], &quot;geometry&quot;: {&quot;coordinates&quot;: [9.176157021698666, 39.212928042731534], &quot;type&quot;: &quot;Point&quot;}, &quot;id&quot;: &quot;574&quot;, &quot;properties&quot;: {}, &quot;type&quot;: &quot;Feature&quot;}, {&quot;bbox&quot;: [9.176133338060847, 39.21295817949505, 9.176133338060847, 39.21295817949505], &quot;geometry&quot;: {&quot;coordinates&quot;: [9.176133338060847, 39.21295817949505], &quot;type&quot;: &quot;Point&quot;}, &quot;id&quot;: &quot;575&quot;, &quot;properties&quot;: {}, &quot;type&quot;: &quot;Feature&quot;}, {&quot;bbox&quot;: [9.176190795014568, 39.21288506708324, 9.176190795014568, 39.21288506708324], &quot;geometry&quot;: {&quot;coordinates&quot;: [9.176190795014568, 39.21288506708324], &quot;type&quot;: &quot;Point&quot;}, &quot;id&quot;: &quot;576&quot;, &quot;properties&quot;: {}, &quot;type&quot;: &quot;Feature&quot;}, {&quot;bbox&quot;: [9.176137506865906, 39.212952874809986, 9.176137506865906, 39.212952874809986], &quot;geometry&quot;: {&quot;coordinates&quot;: [9.176137506865906, 39.212952874809986], &quot;type&quot;: &quot;Point&quot;}, &quot;id&quot;: &quot;578&quot;, &quot;properties&quot;: {}, &quot;type&quot;: &quot;Feature&quot;}, {&quot;bbox&quot;: [9.176107418954452, 39.21299116079436, 9.176107418954452, 39.21299116079436], &quot;geometry&quot;: {&quot;coordinates&quot;: [9.176107418954452, 39.21299116079436], &quot;type&quot;: &quot;Point&quot;}, &quot;id&quot;: &quot;579&quot;, &quot;properties&quot;: {}, &quot;type&quot;: &quot;Feature&quot;}, {&quot;bbox&quot;: [9.17607219551464, 39.21303598152498, 9.17607219551464, 39.21303598152498], &quot;geometry&quot;: {&quot;coordinates&quot;: [9.17607219551464, 39.21303598152498], &quot;type&quot;: &quot;Point&quot;}, &quot;id&quot;: &quot;580&quot;, &quot;properties&quot;: {}, &quot;type&quot;: &quot;Feature&quot;}, {&quot;bbox&quot;: [9.17611853577694, 39.21297701496972, 9.17611853577694, 39.21297701496972], &quot;geometry&quot;: {&quot;coordinates&quot;: [9.17611853577694, 39.21297701496972], &quot;type&quot;: &quot;Point&quot;}, &quot;id&quot;: &quot;581&quot;, &quot;properties&quot;: {}, &quot;type&quot;: &quot;Feature&quot;}, {&quot;bbox&quot;: [9.176107056449291, 39.2129916220712, 9.176107056449291, 39.2129916220712], &quot;geometry&quot;: {&quot;coordinates&quot;: [9.176107056449291, 39.2129916220712], &quot;type&quot;: &quot;Point&quot;}, &quot;id&quot;: &quot;583&quot;, &quot;properties&quot;: {}, &quot;type&quot;: &quot;Feature&quot;}, {&quot;bbox&quot;: [9.176172126048963, 39.212908822854295, 9.176172126048963, 39.212908822854295], &quot;geometry&quot;: {&quot;coordinates&quot;: [9.176172126048963, 39.212908822854295], &quot;type&quot;: &quot;Point&quot;}, &quot;id&quot;: &quot;585&quot;, &quot;properties&quot;: {}, &quot;type&quot;: &quot;Feature&quot;}, {&quot;bbox&quot;: [9.17618330326289, 39.21289460014384, 9.17618330326289, 39.21289460014384], &quot;geometry&quot;: {&quot;coordinates&quot;: [9.17618330326289, 39.21289460014384], &quot;type&quot;: &quot;Point&quot;}, &quot;id&quot;: &quot;586&quot;, &quot;properties&quot;: {}, &quot;type&quot;: &quot;Feature&quot;}, {&quot;bbox&quot;: [9.176149590355305, 39.212937498910414, 9.176149590355305, 39.212937498910414], &quot;geometry&quot;: {&quot;coordinates&quot;: [9.176149590355305, 39.212937498910414], &quot;type&quot;: &quot;Point&quot;}, &quot;id&quot;: &quot;587&quot;, &quot;properties&quot;: {}, &quot;type&quot;: &quot;Feature&quot;}, {&quot;bbox&quot;: [9.176183967853847, 39.21289375446912, 9.176183967853847, 39.21289375446912], &quot;geometry&quot;: {&quot;coordinates&quot;: [9.176183967853847, 39.21289375446912], &quot;type&quot;: &quot;Point&quot;}, &quot;id&quot;: &quot;588&quot;, &quot;properties&quot;: {}, &quot;type&quot;: &quot;Feature&quot;}, {&quot;bbox&quot;: [9.176110439830566, 39.212987316820374, 9.176110439830566, 39.212987316820374], &quot;geometry&quot;: {&quot;coordinates&quot;: [9.176110439830566, 39.212987316820374], &quot;type&quot;: &quot;Point&quot;}, &quot;id&quot;: &quot;589&quot;, &quot;properties&quot;: {}, &quot;type&quot;: &quot;Feature&quot;}, {&quot;bbox&quot;: [9.176153154983666, 39.21293296301979, 9.176153154983666, 39.21293296301979], &quot;geometry&quot;: {&quot;coordinates&quot;: [9.176153154983666, 39.21293296301979], &quot;type&quot;: &quot;Point&quot;}, &quot;id&quot;: &quot;592&quot;, &quot;properties&quot;: {}, &quot;type&quot;: &quot;Feature&quot;}, {&quot;bbox&quot;: [9.176164694709643, 39.21291827903415, 9.176164694709643, 39.21291827903415], &quot;geometry&quot;: {&quot;coordinates&quot;: [9.176164694709643, 39.21291827903415], &quot;type&quot;: &quot;Point&quot;}, &quot;id&quot;: &quot;594&quot;, &quot;properties&quot;: {}, &quot;type&quot;: &quot;Feature&quot;}, {&quot;bbox&quot;: [9.17609865841185, 39.21300230831843, 9.17609865841185, 39.21300230831843], &quot;geometry&quot;: {&quot;coordinates&quot;: [9.17609865841185, 39.21300230831843], &quot;type&quot;: &quot;Point&quot;}, &quot;id&quot;: &quot;595&quot;, &quot;properties&quot;: {}, &quot;type&quot;: &quot;Feature&quot;}, {&quot;bbox&quot;: [9.176128806750283, 39.21296394545687, 9.176128806750283, 39.21296394545687], &quot;geometry&quot;: {&quot;coordinates&quot;: [9.176128806750283, 39.21296394545687], &quot;type&quot;: &quot;Point&quot;}, &quot;id&quot;: &quot;596&quot;, &quot;properties&quot;: {}, &quot;type&quot;: &quot;Feature&quot;}, {&quot;bbox&quot;: [9.176115273231671, 39.21298116646185, 9.176115273231671, 39.21298116646185], &quot;geometry&quot;: {&quot;coordinates&quot;: [9.176115273231671, 39.21298116646185], &quot;type&quot;: &quot;Point&quot;}, &quot;id&quot;: &quot;597&quot;, &quot;properties&quot;: {}, &quot;type&quot;: &quot;Feature&quot;}, {&quot;bbox&quot;: [9.17613001509984, 39.21296240786708, 9.17613001509984, 39.21296240786708], &quot;geometry&quot;: {&quot;coordinates&quot;: [9.17613001509984, 39.21296240786708], &quot;type&quot;: &quot;Point&quot;}, &quot;id&quot;: &quot;598&quot;, &quot;properties&quot;: {}, &quot;type&quot;: &quot;Feature&quot;}, {&quot;bbox&quot;: [9.176103370979934, 39.21299631171935, 9.176103370979934, 39.21299631171935], &quot;geometry&quot;: {&quot;coordinates&quot;: [9.176103370979934, 39.21299631171935], &quot;type&quot;: &quot;Point&quot;}, &quot;id&quot;: &quot;599&quot;, &quot;properties&quot;: {}, &quot;type&quot;: &quot;Feature&quot;}, {&quot;bbox&quot;: [9.176121496234357, 39.212973247874935, 9.176121496234357, 39.212973247874935], &quot;geometry&quot;: {&quot;coordinates&quot;: [9.176121496234357, 39.212973247874935], &quot;type&quot;: &quot;Point&quot;}, &quot;id&quot;: &quot;600&quot;, &quot;properties&quot;: {}, &quot;type&quot;: &quot;Feature&quot;}, {&quot;bbox&quot;: [9.176163546779003, 39.21291973974483, 9.176163546779003, 39.21291973974483], &quot;geometry&quot;: {&quot;coordinates&quot;: [9.176163546779003, 39.21291973974483], &quot;type&quot;: &quot;Point&quot;}, &quot;id&quot;: &quot;601&quot;, &quot;properties&quot;: {}, &quot;type&quot;: &quot;Feature&quot;}, {&quot;bbox&quot;: [9.176098416741667, 39.213002615836324, 9.176098416741667, 39.213002615836324], &quot;geometry&quot;: {&quot;coordinates&quot;: [9.176098416741667, 39.213002615836324], &quot;type&quot;: &quot;Point&quot;}, &quot;id&quot;: &quot;603&quot;, &quot;properties&quot;: {}, &quot;type&quot;: &quot;Feature&quot;}, {&quot;bbox&quot;: [9.176128988002725, 39.2129637148184, 9.176128988002725, 39.2129637148184], &quot;geometry&quot;: {&quot;coordinates&quot;: [9.176128988002725, 39.2129637148184], &quot;type&quot;: &quot;Point&quot;}, &quot;id&quot;: &quot;604&quot;, &quot;properties&quot;: {}, &quot;type&quot;: &quot;Feature&quot;}, {&quot;bbox&quot;: [9.17611768993191, 39.2129780912825, 9.17611768993191, 39.2129780912825], &quot;geometry&quot;: {&quot;coordinates&quot;: [9.17611768993191, 39.2129780912825], &quot;type&quot;: &quot;Point&quot;}, &quot;id&quot;: &quot;606&quot;, &quot;properties&quot;: {}, &quot;type&quot;: &quot;Feature&quot;}, {&quot;bbox&quot;: [9.17613007551732, 39.212962330987594, 9.17613007551732, 39.212962330987594], &quot;geometry&quot;: {&quot;coordinates&quot;: [9.17613007551732, 39.212962330987594], &quot;type&quot;: &quot;Point&quot;}, &quot;id&quot;: &quot;607&quot;, &quot;properties&quot;: {}, &quot;type&quot;: &quot;Feature&quot;}, {&quot;bbox&quot;: [9.176111285675825, 39.21298624050765, 9.176111285675825, 39.21298624050765], &quot;geometry&quot;: {&quot;coordinates&quot;: [9.176111285675825, 39.21298624050765], &quot;type&quot;: &quot;Point&quot;}, &quot;id&quot;: &quot;608&quot;, &quot;properties&quot;: {}, &quot;type&quot;: &quot;Feature&quot;}, {&quot;bbox&quot;: [9.176123127506672, 39.21297117212881, 9.176123127506672, 39.21297117212881], &quot;geometry&quot;: {&quot;coordinates&quot;: [9.176123127506672, 39.21297117212881], &quot;type&quot;: &quot;Point&quot;}, &quot;id&quot;: &quot;609&quot;, &quot;properties&quot;: {}, &quot;type&quot;: &quot;Feature&quot;}, {&quot;bbox&quot;: [9.176105546011096, 39.212993544058186, 9.176105546011096, 39.212993544058186], &quot;geometry&quot;: {&quot;coordinates&quot;: [9.176105546011096, 39.212993544058186], &quot;type&quot;: &quot;Point&quot;}, &quot;id&quot;: &quot;610&quot;, &quot;properties&quot;: {}, &quot;type&quot;: &quot;Feature&quot;}, {&quot;bbox&quot;: [9.176141977757597, 39.212947185727295, 9.176141977757597, 39.212947185727295], &quot;geometry&quot;: {&quot;coordinates&quot;: [9.176141977757597, 39.212947185727295], &quot;type&quot;: &quot;Point&quot;}, &quot;id&quot;: &quot;611&quot;, &quot;properties&quot;: {}, &quot;type&quot;: &quot;Feature&quot;}, {&quot;bbox&quot;: [9.176097752148662, 39.21300346151052, 9.176097752148662, 39.21300346151052], &quot;geometry&quot;: {&quot;coordinates&quot;: [9.176097752148662, 39.21300346151052], &quot;type&quot;: &quot;Point&quot;}, &quot;id&quot;: &quot;612&quot;, &quot;properties&quot;: {}, &quot;type&quot;: &quot;Feature&quot;}, {&quot;bbox&quot;: [9.176143427776369, 39.21294534061936, 9.176143427776369, 39.21294534061936], &quot;geometry&quot;: {&quot;coordinates&quot;: [9.176143427776369, 39.21294534061936], &quot;type&quot;: &quot;Point&quot;}, &quot;id&quot;: &quot;613&quot;, &quot;properties&quot;: {}, &quot;type&quot;: &quot;Feature&quot;}, {&quot;bbox&quot;: [9.176163788448616, 39.21291943222679, 9.176163788448616, 39.21291943222679], &quot;geometry&quot;: {&quot;coordinates&quot;: [9.176163788448616, 39.21291943222679], &quot;type&quot;: &quot;Point&quot;}, &quot;id&quot;: &quot;614&quot;, &quot;properties&quot;: {}, &quot;type&quot;: &quot;Feature&quot;}, {&quot;bbox&quot;: [9.176109050227598, 39.21298908504842, 9.176109050227598, 39.21298908504842], &quot;geometry&quot;: {&quot;coordinates&quot;: [9.176109050227598, 39.21298908504842], &quot;type&quot;: &quot;Point&quot;}, &quot;id&quot;: &quot;616&quot;, &quot;properties&quot;: {}, &quot;type&quot;: &quot;Feature&quot;}, {&quot;bbox&quot;: [9.176176355265573, 39.21290344128829, 9.176176355265573, 39.21290344128829], &quot;geometry&quot;: {&quot;coordinates&quot;: [9.176176355265573, 39.21290344128829], &quot;type&quot;: &quot;Point&quot;}, &quot;id&quot;: &quot;617&quot;, &quot;properties&quot;: {}, &quot;type&quot;: &quot;Feature&quot;}, {&quot;bbox&quot;: [9.176154242497315, 39.212931579188734, 9.176154242497315, 39.212931579188734], &quot;geometry&quot;: {&quot;coordinates&quot;: [9.176154242497315, 39.212931579188734], &quot;type&quot;: &quot;Point&quot;}, &quot;id&quot;: &quot;618&quot;, &quot;properties&quot;: {}, &quot;type&quot;: &quot;Feature&quot;}, {&quot;bbox&quot;: [9.17606542874235, 39.21304459202431, 9.17606542874235, 39.21304459202431], &quot;geometry&quot;: {&quot;coordinates&quot;: [9.17606542874235, 39.21304459202431], &quot;type&quot;: &quot;Point&quot;}, &quot;id&quot;: &quot;619&quot;, &quot;properties&quot;: {}, &quot;type&quot;: &quot;Feature&quot;}, {&quot;bbox&quot;: [9.176169165596958, 39.212912589950385, 9.176169165596958, 39.212912589950385], &quot;geometry&quot;: {&quot;coordinates&quot;: [9.176169165596958, 39.212912589950385], &quot;type&quot;: &quot;Point&quot;}, &quot;id&quot;: &quot;620&quot;, &quot;properties&quot;: {}, &quot;type&quot;: &quot;Feature&quot;}, {&quot;bbox&quot;: [9.176117750349409, 39.212978014403035, 9.176117750349409, 39.212978014403035], &quot;geometry&quot;: {&quot;coordinates&quot;: [9.176117750349409, 39.212978014403035], &quot;type&quot;: &quot;Point&quot;}, &quot;id&quot;: &quot;621&quot;, &quot;properties&quot;: {}, &quot;type&quot;: &quot;Feature&quot;}, {&quot;bbox&quot;: [9.176107539789502, 39.212991007035384, 9.176107539789502, 39.212991007035384], &quot;geometry&quot;: {&quot;coordinates&quot;: [9.176107539789502, 39.212991007035384], &quot;type&quot;: &quot;Point&quot;}, &quot;id&quot;: &quot;623&quot;, &quot;properties&quot;: {}, &quot;type&quot;: &quot;Feature&quot;}, {&quot;bbox&quot;: [9.176111527345894, 39.21298593298972, 9.176111527345894, 39.21298593298972], &quot;geometry&quot;: {&quot;coordinates&quot;: [9.176111527345894, 39.21298593298972], &quot;type&quot;: &quot;Point&quot;}, &quot;id&quot;: &quot;624&quot;, &quot;properties&quot;: {}, &quot;type&quot;: &quot;Feature&quot;}, {&quot;bbox&quot;: [9.176099443839922, 39.213001308885254, 9.176099443839922, 39.213001308885254], &quot;geometry&quot;: {&quot;coordinates&quot;: [9.176099443839922, 39.213001308885254], &quot;type&quot;: &quot;Point&quot;}, &quot;id&quot;: &quot;625&quot;, &quot;properties&quot;: {}, &quot;type&quot;: &quot;Feature&quot;}, {&quot;bbox&quot;: [9.176128262992968, 39.2129646373723, 9.176128262992968, 39.2129646373723], &quot;geometry&quot;: {&quot;coordinates&quot;: [9.176128262992968, 39.2129646373723], &quot;type&quot;: &quot;Point&quot;}, &quot;id&quot;: &quot;626&quot;, &quot;properties&quot;: {}, &quot;type&quot;: &quot;Feature&quot;}, {&quot;bbox&quot;: [9.176119321204448, 39.21297601553642, 9.176119321204448, 39.21297601553642], &quot;geometry&quot;: {&quot;coordinates&quot;: [9.176119321204448, 39.21297601553642], &quot;type&quot;: &quot;Point&quot;}, &quot;id&quot;: &quot;628&quot;, &quot;properties&quot;: {}, &quot;type&quot;: &quot;Feature&quot;}, {&quot;bbox&quot;: [9.17613521100233, 39.21295579623078, 9.17613521100233, 39.21295579623078], &quot;geometry&quot;: {&quot;coordinates&quot;: [9.17613521100233, 39.21295579623078], &quot;type&quot;: &quot;Point&quot;}, &quot;id&quot;: &quot;629&quot;, &quot;properties&quot;: {}, &quot;type&quot;: &quot;Feature&quot;}, {&quot;bbox&quot;: [9.176099504257463, 39.21300123200578, 9.176099504257463, 39.21300123200578], &quot;geometry&quot;: {&quot;coordinates&quot;: [9.176099504257463, 39.21300123200578], &quot;type&quot;: &quot;Point&quot;}, &quot;id&quot;: &quot;630&quot;, &quot;properties&quot;: {}, &quot;type&quot;: &quot;Feature&quot;}, {&quot;bbox&quot;: [9.176068328787819, 39.21304090181035, 9.176068328787819, 39.21304090181035], &quot;geometry&quot;: {&quot;coordinates&quot;: [9.176068328787819, 39.21304090181035], &quot;type&quot;: &quot;Point&quot;}, &quot;id&quot;: &quot;631&quot;, &quot;properties&quot;: {}, &quot;type&quot;: &quot;Feature&quot;}, {&quot;bbox&quot;: [9.176080170637004, 39.21302583343598, 9.176080170637004, 39.21302583343598], &quot;geometry&quot;: {&quot;coordinates&quot;: [9.176080170637004, 39.21302583343598], &quot;type&quot;: &quot;Point&quot;}, &quot;id&quot;: &quot;632&quot;, &quot;properties&quot;: {}, &quot;type&quot;: &quot;Feature&quot;}, {&quot;bbox&quot;: [9.176138775632543, 39.212951260340596, 9.176138775632543, 39.212951260340596], &quot;geometry&quot;: {&quot;coordinates&quot;: [9.176138775632543, 39.212951260340596], &quot;type&quot;: &quot;Point&quot;}, &quot;id&quot;: &quot;633&quot;, &quot;properties&quot;: {}, &quot;type&quot;: &quot;Feature&quot;}, {&quot;bbox&quot;: [9.176108023129698, 39.21299039199955, 9.176108023129698, 39.21299039199955], &quot;geometry&quot;: {&quot;coordinates&quot;: [9.176108023129698, 39.21299039199955], &quot;type&quot;: &quot;Point&quot;}, &quot;id&quot;: &quot;634&quot;, &quot;properties&quot;: {}, &quot;type&quot;: &quot;Feature&quot;}, {&quot;bbox&quot;: [9.176140648573657, 39.212948877076215, 9.176140648573657, 39.212948877076215], &quot;geometry&quot;: {&quot;coordinates&quot;: [9.176140648573657, 39.212948877076215], &quot;type&quot;: &quot;Point&quot;}, &quot;id&quot;: &quot;635&quot;, &quot;properties&quot;: {}, &quot;type&quot;: &quot;Feature&quot;}, {&quot;bbox&quot;: [9.17612747756572, 39.21296563680565, 9.17612747756572, 39.21296563680565], &quot;geometry&quot;: {&quot;coordinates&quot;: [9.17612747756572, 39.21296563680565], &quot;type&quot;: &quot;Point&quot;}, &quot;id&quot;: &quot;637&quot;, &quot;properties&quot;: {}, &quot;type&quot;: &quot;Feature&quot;}, {&quot;bbox&quot;: [9.176155873767708, 39.212929503442126, 9.176155873767708, 39.212929503442126], &quot;geometry&quot;: {&quot;coordinates&quot;: [9.176155873767708, 39.212929503442126], &quot;type&quot;: &quot;Point&quot;}, &quot;id&quot;: &quot;638&quot;, &quot;properties&quot;: {}, &quot;type&quot;: &quot;Feature&quot;}, {&quot;bbox&quot;: [9.17618982833704, 39.212886297155606, 9.17618982833704, 39.212886297155606], &quot;geometry&quot;: {&quot;coordinates&quot;: [9.17618982833704, 39.212886297155606], &quot;type&quot;: &quot;Point&quot;}, &quot;id&quot;: &quot;640&quot;, &quot;properties&quot;: {}, &quot;type&quot;: &quot;Feature&quot;}, {&quot;bbox&quot;: [9.176158471716649, 39.21292619762341, 9.176158471716649, 39.21292619762341], &quot;geometry&quot;: {&quot;coordinates&quot;: [9.176158471716649, 39.21292619762341], &quot;type&quot;: &quot;Point&quot;}, &quot;id&quot;: &quot;641&quot;, &quot;properties&quot;: {}, &quot;type&quot;: &quot;Feature&quot;}, {&quot;bbox&quot;: [9.176103854320207, 39.21299569668352, 9.176103854320207, 39.21299569668352], &quot;geometry&quot;: {&quot;coordinates&quot;: [9.176103854320207, 39.21299569668352], &quot;type&quot;: &quot;Point&quot;}, &quot;id&quot;: &quot;642&quot;, &quot;properties&quot;: {}, &quot;type&quot;: &quot;Feature&quot;}, {&quot;bbox&quot;: [9.176148019501982, 39.21293949777742, 9.176148019501982, 39.21293949777742], &quot;geometry&quot;: {&quot;coordinates&quot;: [9.176148019501982, 39.21293949777742], &quot;type&quot;: &quot;Point&quot;}, &quot;id&quot;: &quot;643&quot;, &quot;properties&quot;: {}, &quot;type&quot;: &quot;Feature&quot;}, {&quot;bbox&quot;: [9.176093945842963, 39.213008304917295, 9.176093945842963, 39.213008304917295], &quot;geometry&quot;: {&quot;coordinates&quot;: [9.176093945842963, 39.213008304917295], &quot;type&quot;: &quot;Point&quot;}, &quot;id&quot;: &quot;644&quot;, &quot;properties&quot;: {}, &quot;type&quot;: &quot;Feature&quot;}, {&quot;bbox&quot;: [9.176100229267968, 39.213000309452084, 9.176100229267968, 39.213000309452084], &quot;geometry&quot;: {&quot;coordinates&quot;: [9.176100229267968, 39.213000309452084], &quot;type&quot;: &quot;Point&quot;}, &quot;id&quot;: &quot;645&quot;, &quot;properties&quot;: {}, &quot;type&quot;: &quot;Feature&quot;}, {&quot;bbox&quot;: [9.176102706387049, 39.21299715739358, 9.176102706387049, 39.21299715739358], &quot;geometry&quot;: {&quot;coordinates&quot;: [9.176102706387049, 39.21299715739358], &quot;type&quot;: &quot;Point&quot;}, &quot;id&quot;: &quot;647&quot;, &quot;properties&quot;: {}, &quot;type&quot;: &quot;Feature&quot;}, {&quot;bbox&quot;: [9.176111708598441, 39.21298570235129, 9.176111708598441, 39.21298570235129], &quot;geometry&quot;: {&quot;coordinates&quot;: [9.176111708598441, 39.21298570235129], &quot;type&quot;: &quot;Point&quot;}, &quot;id&quot;: &quot;648&quot;, &quot;properties&quot;: {}, &quot;type&quot;: &quot;Feature&quot;}, {&quot;bbox&quot;: [9.176105364758502, 39.212993774696606, 9.176105364758502, 39.212993774696606], &quot;geometry&quot;: {&quot;coordinates&quot;: [9.176105364758502, 39.212993774696606], &quot;type&quot;: &quot;Point&quot;}, &quot;id&quot;: &quot;649&quot;, &quot;properties&quot;: {}, &quot;type&quot;: &quot;Feature&quot;}, {&quot;bbox&quot;: [9.176103491815006, 39.212996157960404, 9.176103491815006, 39.212996157960404], &quot;geometry&quot;: {&quot;coordinates&quot;: [9.176103491815006, 39.212996157960404], &quot;type&quot;: &quot;Point&quot;}, &quot;id&quot;: &quot;650&quot;, &quot;properties&quot;: {}, &quot;type&quot;: &quot;Feature&quot;}, {&quot;bbox&quot;: [9.176113762793918, 39.21298308844891, 9.176113762793918, 39.21298308844891], &quot;geometry&quot;: {&quot;coordinates&quot;: [9.176113762793918, 39.21298308844891], &quot;type&quot;: &quot;Point&quot;}, &quot;id&quot;: &quot;651&quot;, &quot;properties&quot;: {}, &quot;type&quot;: &quot;Feature&quot;}, {&quot;bbox&quot;: [9.176122281661781, 39.21297224844164, 9.176122281661781, 39.21297224844164], &quot;geometry&quot;: {&quot;coordinates&quot;: [9.176122281661781, 39.21297224844164], &quot;type&quot;: &quot;Point&quot;}, &quot;id&quot;: &quot;652&quot;, &quot;properties&quot;: {}, &quot;type&quot;: &quot;Feature&quot;}, {&quot;bbox&quot;: [9.176123731681582, 39.212970403333934, 9.176123731681582, 39.212970403333934], &quot;geometry&quot;: {&quot;coordinates&quot;: [9.176123731681582, 39.212970403333934], &quot;type&quot;: &quot;Point&quot;}, &quot;id&quot;: &quot;654&quot;, &quot;properties&quot;: {}, &quot;type&quot;: &quot;Feature&quot;}, {&quot;bbox&quot;: [9.176083856109441, 39.2130211437886, 9.176083856109441, 39.2130211437886], &quot;geometry&quot;: {&quot;coordinates&quot;: [9.176083856109441, 39.2130211437886], &quot;type&quot;: &quot;Point&quot;}, &quot;id&quot;: &quot;655&quot;, &quot;properties&quot;: {}, &quot;type&quot;: &quot;Feature&quot;}, {&quot;bbox&quot;: [9.176159800899741, 39.21292450627427, 9.176159800899741, 39.21292450627427], &quot;geometry&quot;: {&quot;coordinates&quot;: [9.176159800899741, 39.21292450627427], &quot;type&quot;: &quot;Point&quot;}, &quot;id&quot;: &quot;656&quot;, &quot;properties&quot;: {}, &quot;type&quot;: &quot;Feature&quot;}, {&quot;bbox&quot;: [9.176119562874447, 39.21297570801848, 9.176119562874447, 39.21297570801848], &quot;geometry&quot;: {&quot;coordinates&quot;: [9.176119562874447, 39.21297570801848], &quot;type&quot;: &quot;Point&quot;}, &quot;id&quot;: &quot;657&quot;, &quot;properties&quot;: {}, &quot;type&quot;: &quot;Feature&quot;}, {&quot;bbox&quot;: [9.176120710806908, 39.21297424730825, 9.176120710806908, 39.21297424730825], &quot;geometry&quot;: {&quot;coordinates&quot;: [9.176120710806908, 39.21297424730825], &quot;type&quot;: &quot;Point&quot;}, &quot;id&quot;: &quot;658&quot;, &quot;properties&quot;: {}, &quot;type&quot;: &quot;Feature&quot;}, {&quot;bbox&quot;: [9.17614070899111, 39.212948800196735, 9.17614070899111, 39.212948800196735], &quot;geometry&quot;: {&quot;coordinates&quot;: [9.17614070899111, 39.212948800196735], &quot;type&quot;: &quot;Point&quot;}, &quot;id&quot;: &quot;659&quot;, &quot;properties&quot;: {}, &quot;type&quot;: &quot;Feature&quot;}, {&quot;bbox&quot;: [9.17617363648354, 39.21290690086645, 9.17617363648354, 39.21290690086645], &quot;geometry&quot;: {&quot;coordinates&quot;: [9.17617363648354, 39.21290690086645], &quot;type&quot;: &quot;Point&quot;}, &quot;id&quot;: &quot;660&quot;, &quot;properties&quot;: {}, &quot;type&quot;: &quot;Feature&quot;}, {&quot;bbox&quot;: [9.176160827995718, 39.212923199322674, 9.176160827995718, 39.212923199322674], &quot;geometry&quot;: {&quot;coordinates&quot;: [9.176160827995718, 39.212923199322674], &quot;type&quot;: &quot;Point&quot;}, &quot;id&quot;: &quot;661&quot;, &quot;properties&quot;: {}, &quot;type&quot;: &quot;Feature&quot;}, {&quot;bbox&quot;: [9.176130438022172, 39.21296186971065, 9.176130438022172, 39.21296186971065], &quot;geometry&quot;: {&quot;coordinates&quot;: [9.176130438022172, 39.21296186971065], &quot;type&quot;: &quot;Point&quot;}, &quot;id&quot;: &quot;662&quot;, &quot;properties&quot;: {}, &quot;type&quot;: &quot;Feature&quot;}, {&quot;bbox&quot;: [9.176127900488087, 39.21296509864924, 9.176127900488087, 39.21296509864924], &quot;geometry&quot;: {&quot;coordinates&quot;: [9.176127900488087, 39.21296509864924], &quot;type&quot;: &quot;Point&quot;}, &quot;id&quot;: &quot;663&quot;, &quot;properties&quot;: {}, &quot;type&quot;: &quot;Feature&quot;}, {&quot;bbox&quot;: [9.176120771224408, 39.21297417042877, 9.176120771224408, 39.21297417042877], &quot;geometry&quot;: {&quot;coordinates&quot;: [9.176120771224408, 39.21297417042877], &quot;type&quot;: &quot;Point&quot;}, &quot;id&quot;: &quot;664&quot;, &quot;properties&quot;: {}, &quot;type&quot;: &quot;Feature&quot;}, {&quot;bbox&quot;: [9.176155027923816, 39.212930579755195, 9.176155027923816, 39.212930579755195], &quot;geometry&quot;: {&quot;coordinates&quot;: [9.176155027923816, 39.212930579755195], &quot;type&quot;: &quot;Point&quot;}, &quot;id&quot;: &quot;666&quot;, &quot;properties&quot;: {}, &quot;type&quot;: &quot;Feature&quot;}, {&quot;bbox&quot;: [9.176155632098029, 39.212929810960155, 9.176155632098029, 39.212929810960155], &quot;geometry&quot;: {&quot;coordinates&quot;: [9.176155632098029, 39.212929810960155], &quot;type&quot;: &quot;Point&quot;}, &quot;id&quot;: &quot;667&quot;, &quot;properties&quot;: {}, &quot;type&quot;: &quot;Feature&quot;}, {&quot;bbox&quot;: [9.176101135531072, 39.21299915625997, 9.176101135531072, 39.21299915625997], &quot;geometry&quot;: {&quot;coordinates&quot;: [9.176101135531072, 39.21299915625997], &quot;type&quot;: &quot;Point&quot;}, &quot;id&quot;: &quot;668&quot;, &quot;properties&quot;: {}, &quot;type&quot;: &quot;Feature&quot;}, {&quot;bbox&quot;: [9.176197863842924, 39.21287607217883, 9.176197863842924, 39.21287607217883], &quot;geometry&quot;: {&quot;coordinates&quot;: [9.176197863842924, 39.21287607217883], &quot;type&quot;: &quot;Point&quot;}, &quot;id&quot;: &quot;670&quot;, &quot;properties&quot;: {}, &quot;type&quot;: &quot;Feature&quot;}, {&quot;bbox&quot;: [9.176126571303472, 39.21296678999799, 9.176126571303472, 39.21296678999799], &quot;geometry&quot;: {&quot;coordinates&quot;: [9.176126571303472, 39.21296678999799], &quot;type&quot;: &quot;Point&quot;}, &quot;id&quot;: &quot;673&quot;, &quot;properties&quot;: {}, &quot;type&quot;: &quot;Feature&quot;}, {&quot;bbox&quot;: [9.176166507231617, 39.21291597264889, 9.176166507231617, 39.21291597264889], &quot;geometry&quot;: {&quot;coordinates&quot;: [9.176166507231617, 39.21291597264889], &quot;type&quot;: &quot;Point&quot;}, &quot;id&quot;: &quot;674&quot;, &quot;properties&quot;: {}, &quot;type&quot;: &quot;Feature&quot;}, {&quot;bbox&quot;: [9.17612155665185, 39.212973170995454, 9.17612155665185, 39.212973170995454], &quot;geometry&quot;: {&quot;coordinates&quot;: [9.17612155665185, 39.212973170995454], &quot;type&quot;: &quot;Point&quot;}, &quot;id&quot;: &quot;675&quot;, &quot;properties&quot;: {}, &quot;type&quot;: &quot;Feature&quot;}, {&quot;bbox&quot;: [9.176100410520592, 39.21300007881366, 9.176100410520592, 39.21300007881366], &quot;geometry&quot;: {&quot;coordinates&quot;: [9.176100410520592, 39.21300007881366], &quot;type&quot;: &quot;Point&quot;}, &quot;id&quot;: &quot;676&quot;, &quot;properties&quot;: {}, &quot;type&quot;: &quot;Feature&quot;}, {&quot;bbox&quot;: [9.176101256366154, 39.21299900250102, 9.176101256366154, 39.21299900250102], &quot;geometry&quot;: {&quot;coordinates&quot;: [9.176101256366154, 39.21299900250102], &quot;type&quot;: &quot;Point&quot;}, &quot;id&quot;: &quot;677&quot;, &quot;properties&quot;: {}, &quot;type&quot;: &quot;Feature&quot;}, {&quot;bbox&quot;: [9.176100470938131, 39.213000001934184, 9.176100470938131, 39.213000001934184], &quot;geometry&quot;: {&quot;coordinates&quot;: [9.176100470938131, 39.213000001934184], &quot;type&quot;: &quot;Point&quot;}, &quot;id&quot;: &quot;678&quot;, &quot;properties&quot;: {}, &quot;type&quot;: &quot;Feature&quot;}, {&quot;bbox&quot;: [9.176168561423035, 39.2129133587455, 9.176168561423035, 39.2129133587455], &quot;geometry&quot;: {&quot;coordinates&quot;: [9.176168561423035, 39.2129133587455], &quot;type&quot;: &quot;Point&quot;}, &quot;id&quot;: &quot;680&quot;, &quot;properties&quot;: {}, &quot;type&quot;: &quot;Feature&quot;}, {&quot;bbox&quot;: [9.176148986180955, 39.21293826770543, 9.176148986180955, 39.21293826770543], &quot;geometry&quot;: {&quot;coordinates&quot;: [9.176148986180955, 39.21293826770543], &quot;type&quot;: &quot;Point&quot;}, &quot;id&quot;: &quot;681&quot;, &quot;properties&quot;: {}, &quot;type&quot;: &quot;Feature&quot;}, {&quot;bbox&quot;: [9.17615919672562, 39.21292527506935, 9.17615919672562, 39.21292527506935], &quot;geometry&quot;: {&quot;coordinates&quot;: [9.17615919672562, 39.21292527506935], &quot;type&quot;: &quot;Point&quot;}, &quot;id&quot;: &quot;685&quot;, &quot;properties&quot;: {}, &quot;type&quot;: &quot;Feature&quot;}, {&quot;bbox&quot;: [9.176214961941678, 39.21285431527152, 9.176214961941678, 39.21285431527152], &quot;geometry&quot;: {&quot;coordinates&quot;: [9.176214961941678, 39.21285431527152], &quot;type&quot;: &quot;Point&quot;}, &quot;id&quot;: &quot;686&quot;, &quot;properties&quot;: {}, &quot;type&quot;: &quot;Feature&quot;}, {&quot;bbox&quot;: [9.17616529888365, 39.21291751023906, 9.17616529888365, 39.21291751023906], &quot;geometry&quot;: {&quot;coordinates&quot;: [9.17616529888365, 39.21291751023906], &quot;type&quot;: &quot;Point&quot;}, &quot;id&quot;: &quot;687&quot;, &quot;properties&quot;: {}, &quot;type&quot;: &quot;Feature&quot;}, {&quot;bbox&quot;: [9.176137869370667, 39.212952413533024, 9.176137869370667, 39.212952413533024], &quot;geometry&quot;: {&quot;coordinates&quot;: [9.176137869370667, 39.212952413533024], &quot;type&quot;: &quot;Point&quot;}, &quot;id&quot;: &quot;689&quot;, &quot;properties&quot;: {}, &quot;type&quot;: &quot;Feature&quot;}, {&quot;bbox&quot;: [9.176109775237851, 39.21298816249467, 9.176109775237851, 39.21298816249467], &quot;geometry&quot;: {&quot;coordinates&quot;: [9.176109775237851, 39.21298816249467], &quot;type&quot;: &quot;Point&quot;}, &quot;id&quot;: &quot;690&quot;, &quot;properties&quot;: {}, &quot;type&quot;: &quot;Feature&quot;}, {&quot;bbox&quot;: [9.176097329225831, 39.213003999666846, 9.176097329225831, 39.213003999666846], &quot;geometry&quot;: {&quot;coordinates&quot;: [9.176097329225831, 39.213003999666846], &quot;type&quot;: &quot;Point&quot;}, &quot;id&quot;: &quot;692&quot;, &quot;properties&quot;: {}, &quot;type&quot;: &quot;Feature&quot;}, {&quot;bbox&quot;: [9.176128867167767, 39.2129638685774, 9.176128867167767, 39.2129638685774], &quot;geometry&quot;: {&quot;coordinates&quot;: [9.176128867167767, 39.2129638685774], &quot;type&quot;: &quot;Point&quot;}, &quot;id&quot;: &quot;693&quot;, &quot;properties&quot;: {}, &quot;type&quot;: &quot;Feature&quot;}, {&quot;bbox&quot;: [9.176102162629224, 39.21299784930889, 9.176102162629224, 39.21299784930889], &quot;geometry&quot;: {&quot;coordinates&quot;: [9.176102162629224, 39.21299784930889], &quot;type&quot;: &quot;Point&quot;}, &quot;id&quot;: &quot;694&quot;, &quot;properties&quot;: {}, &quot;type&quot;: &quot;Feature&quot;}, {&quot;bbox&quot;: [9.176130921361972, 39.21296125467471, 9.176130921361972, 39.21296125467471], &quot;geometry&quot;: {&quot;coordinates&quot;: [9.176130921361972, 39.21296125467471], &quot;type&quot;: &quot;Point&quot;}, &quot;id&quot;: &quot;695&quot;, &quot;properties&quot;: {}, &quot;type&quot;: &quot;Feature&quot;}, {&quot;bbox&quot;: [9.176096120874856, 39.2130055372563, 9.176096120874856, 39.2130055372563], &quot;geometry&quot;: {&quot;coordinates&quot;: [9.176096120874856, 39.2130055372563], &quot;type&quot;: &quot;Point&quot;}, &quot;id&quot;: &quot;696&quot;, &quot;properties&quot;: {}, &quot;type&quot;: &quot;Feature&quot;}, {&quot;bbox&quot;: [9.17614409236828, 39.212944494944885, 9.17614409236828, 39.212944494944885], &quot;geometry&quot;: {&quot;coordinates&quot;: [9.17614409236828, 39.212944494944885], &quot;type&quot;: &quot;Point&quot;}, &quot;id&quot;: &quot;697&quot;, &quot;properties&quot;: {}, &quot;type&quot;: &quot;Feature&quot;}, {&quot;bbox&quot;: [9.17613074010955, 39.21296148531319, 9.17613074010955, 39.21296148531319], &quot;geometry&quot;: {&quot;coordinates&quot;: [9.17613074010955, 39.21296148531319], &quot;type&quot;: &quot;Point&quot;}, &quot;id&quot;: &quot;698&quot;, &quot;properties&quot;: {}, &quot;type&quot;: &quot;Feature&quot;}, {&quot;bbox&quot;: [9.176157988377334, 39.21292681265947, 9.176157988377334, 39.21292681265947], &quot;geometry&quot;: {&quot;coordinates&quot;: [9.176157988377334, 39.21292681265947], &quot;type&quot;: &quot;Point&quot;}, &quot;id&quot;: &quot;699&quot;, &quot;properties&quot;: {}, &quot;type&quot;: &quot;Feature&quot;}, {&quot;bbox&quot;: [9.176132371381325, 39.21295940956691, 9.176132371381325, 39.21295940956691], &quot;geometry&quot;: {&quot;coordinates&quot;: [9.176132371381325, 39.21295940956691], &quot;type&quot;: &quot;Point&quot;}, &quot;id&quot;: &quot;700&quot;, &quot;properties&quot;: {}, &quot;type&quot;: &quot;Feature&quot;}, {&quot;bbox&quot;: [9.17607751226314, 39.213029216132384, 9.17607751226314, 39.213029216132384], &quot;geometry&quot;: {&quot;coordinates&quot;: [9.17607751226314, 39.213029216132384], &quot;type&quot;: &quot;Point&quot;}, &quot;id&quot;: &quot;701&quot;, &quot;properties&quot;: {}, &quot;type&quot;: &quot;Feature&quot;}, {&quot;bbox&quot;: [9.176100652190755, 39.21299977129577, 9.176100652190755, 39.21299977129577], &quot;geometry&quot;: {&quot;coordinates&quot;: [9.176100652190755, 39.21299977129577], &quot;type&quot;: &quot;Point&quot;}, &quot;id&quot;: &quot;702&quot;, &quot;properties&quot;: {}, &quot;type&quot;: &quot;Feature&quot;}, {&quot;bbox&quot;: [9.176122281661781, 39.21297224844164, 9.176122281661781, 39.21297224844164], &quot;geometry&quot;: {&quot;coordinates&quot;: [9.176122281661781, 39.21297224844164], &quot;type&quot;: &quot;Point&quot;}, &quot;id&quot;: &quot;703&quot;, &quot;properties&quot;: {}, &quot;type&quot;: &quot;Feature&quot;}, {&quot;bbox&quot;: [9.1761063918565, 39.212992467745494, 9.1761063918565, 39.212992467745494], &quot;geometry&quot;: {&quot;coordinates&quot;: [9.1761063918565, 39.212992467745494], &quot;type&quot;: &quot;Point&quot;}, &quot;id&quot;: &quot;704&quot;, &quot;properties&quot;: {}, &quot;type&quot;: &quot;Feature&quot;}, {&quot;bbox&quot;: [9.176108929392548, 39.21298923880737, 9.176108929392548, 39.21298923880737], &quot;geometry&quot;: {&quot;coordinates&quot;: [9.176108929392548, 39.21298923880737], &quot;type&quot;: &quot;Point&quot;}, &quot;id&quot;: &quot;705&quot;, &quot;properties&quot;: {}, &quot;type&quot;: &quot;Feature&quot;}, {&quot;bbox&quot;: [9.176159921734563, 39.21292435251527, 9.176159921734563, 39.21292435251527], &quot;geometry&quot;: {&quot;coordinates&quot;: [9.176159921734563, 39.21292435251527], &quot;type&quot;: &quot;Point&quot;}, &quot;id&quot;: &quot;707&quot;, &quot;properties&quot;: {}, &quot;type&quot;: &quot;Feature&quot;}, {&quot;bbox&quot;: [9.176062226608463, 39.213048666635444, 9.176062226608463, 39.213048666635444], &quot;geometry&quot;: {&quot;coordinates&quot;: [9.176062226608463, 39.213048666635444], &quot;type&quot;: &quot;Point&quot;}, &quot;id&quot;: &quot;708&quot;, &quot;properties&quot;: {}, &quot;type&quot;: &quot;Feature&quot;}, {&quot;bbox&quot;: [9.176149590355305, 39.212937498910414, 9.176149590355305, 39.212937498910414], &quot;geometry&quot;: {&quot;coordinates&quot;: [9.176149590355305, 39.212937498910414], &quot;type&quot;: &quot;Point&quot;}, &quot;id&quot;: &quot;709&quot;, &quot;properties&quot;: {}, &quot;type&quot;: &quot;Feature&quot;}, {&quot;bbox&quot;: [9.176165480135845, 39.21291727960053, 9.176165480135845, 39.21291727960053], &quot;geometry&quot;: {&quot;coordinates&quot;: [9.176165480135845, 39.21291727960053], &quot;type&quot;: &quot;Point&quot;}, &quot;id&quot;: &quot;710&quot;, &quot;properties&quot;: {}, &quot;type&quot;: &quot;Feature&quot;}, {&quot;bbox&quot;: [9.176171280205564, 39.21290989916747, 9.176171280205564, 39.21290989916747], &quot;geometry&quot;: {&quot;coordinates&quot;: [9.176171280205564, 39.21290989916747], &quot;type&quot;: &quot;Point&quot;}, &quot;id&quot;: &quot;711&quot;, &quot;properties&quot;: {}, &quot;type&quot;: &quot;Feature&quot;}, {&quot;bbox&quot;: [9.176168863509995, 39.212912974347944, 9.176168863509995, 39.212912974347944], &quot;geometry&quot;: {&quot;coordinates&quot;: [9.176168863509995, 39.212912974347944], &quot;type&quot;: &quot;Point&quot;}, &quot;id&quot;: &quot;713&quot;, &quot;properties&quot;: {}, &quot;type&quot;: &quot;Feature&quot;}, {&quot;bbox&quot;: [9.176162278013505, 39.21292135421449, 9.176162278013505, 39.21292135421449], &quot;geometry&quot;: {&quot;coordinates&quot;: [9.176162278013505, 39.21292135421449], &quot;type&quot;: &quot;Point&quot;}, &quot;id&quot;: &quot;714&quot;, &quot;properties&quot;: {}, &quot;type&quot;: &quot;Feature&quot;}, {&quot;bbox&quot;: [9.176135573507116, 39.21295533495379, 9.176135573507116, 39.21295533495379], &quot;geometry&quot;: {&quot;coordinates&quot;: [9.176135573507116, 39.21295533495379], &quot;type&quot;: &quot;Point&quot;}, &quot;id&quot;: &quot;715&quot;, &quot;properties&quot;: {}, &quot;type&quot;: &quot;Feature&quot;}, {&quot;bbox&quot;: [9.176126994225855, 39.21296625184158, 9.176126994225855, 39.21296625184158], &quot;geometry&quot;: {&quot;coordinates&quot;: [9.176126994225855, 39.21296625184158], &quot;type&quot;: &quot;Point&quot;}, &quot;id&quot;: &quot;716&quot;, &quot;properties&quot;: {}, &quot;type&quot;: &quot;Feature&quot;}, {&quot;bbox&quot;: [9.1761147898916, 39.21298178149771, 9.1761147898916, 39.21298178149771], &quot;geometry&quot;: {&quot;coordinates&quot;: [9.1761147898916, 39.21298178149771], &quot;type&quot;: &quot;Point&quot;}, &quot;id&quot;: &quot;717&quot;, &quot;properties&quot;: {}, &quot;type&quot;: &quot;Feature&quot;}, {&quot;bbox&quot;: [9.17612965259498, 39.21296286914402, 9.17612965259498, 39.21296286914402], &quot;geometry&quot;: {&quot;coordinates&quot;: [9.17612965259498, 39.21296286914402], &quot;type&quot;: &quot;Point&quot;}, &quot;id&quot;: &quot;718&quot;, &quot;properties&quot;: {}, &quot;type&quot;: &quot;Feature&quot;}, {&quot;bbox&quot;: [9.176163546779003, 39.21291973974483, 9.176163546779003, 39.21291973974483], &quot;geometry&quot;: {&quot;coordinates&quot;: [9.176163546779003, 39.21291973974483], &quot;type&quot;: &quot;Point&quot;}, &quot;id&quot;: &quot;719&quot;, &quot;properties&quot;: {}, &quot;type&quot;: &quot;Feature&quot;}, {&quot;bbox&quot;: [9.176080593560094, 39.21302529527973, 9.176080593560094, 39.21302529527973], &quot;geometry&quot;: {&quot;coordinates&quot;: [9.176080593560094, 39.21302529527973], &quot;type&quot;: &quot;Point&quot;}, &quot;id&quot;: &quot;721&quot;, &quot;properties&quot;: {}, &quot;type&quot;: &quot;Feature&quot;}, {&quot;bbox&quot;: [9.176176355265573, 39.21290344128829, 9.176176355265573, 39.21290344128829], &quot;geometry&quot;: {&quot;coordinates&quot;: [9.176176355265573, 39.21290344128829], &quot;type&quot;: &quot;Point&quot;}, &quot;id&quot;: &quot;722&quot;, &quot;properties&quot;: {}, &quot;type&quot;: &quot;Feature&quot;}, {&quot;bbox&quot;: [9.176182276167742, 39.21289590709565, 9.176182276167742, 39.21289590709565], &quot;geometry&quot;: {&quot;coordinates&quot;: [9.176182276167742, 39.21289590709565], &quot;type&quot;: &quot;Point&quot;}, &quot;id&quot;: &quot;726&quot;, &quot;properties&quot;: {}, &quot;type&quot;: &quot;Feature&quot;}, {&quot;bbox&quot;: [9.176159619647503, 39.21292473691279, 9.176159619647503, 39.21292473691279], &quot;geometry&quot;: {&quot;coordinates&quot;: [9.176159619647503, 39.21292473691279], &quot;type&quot;: &quot;Point&quot;}, &quot;id&quot;: &quot;727&quot;, &quot;properties&quot;: {}, &quot;type&quot;: &quot;Feature&quot;}, {&quot;bbox&quot;: [9.176161673839434, 39.212922123009555, 9.176161673839434, 39.212922123009555], &quot;geometry&quot;: {&quot;coordinates&quot;: [9.176161673839434, 39.212922123009555], &quot;type&quot;: &quot;Point&quot;}, &quot;id&quot;: &quot;728&quot;, &quot;properties&quot;: {}, &quot;type&quot;: &quot;Feature&quot;}, {&quot;bbox&quot;: [9.176088689515176, 39.2130149934312, 9.176088689515176, 39.2130149934312], &quot;geometry&quot;: {&quot;coordinates&quot;: [9.176088689515176, 39.2130149934312], &quot;type&quot;: &quot;Point&quot;}, &quot;id&quot;: &quot;729&quot;, &quot;properties&quot;: {}, &quot;type&quot;: &quot;Feature&quot;}, {&quot;bbox&quot;: [9.176123792099073, 39.21297032645445, 9.176123792099073, 39.21297032645445], &quot;geometry&quot;: {&quot;coordinates&quot;: [9.176123792099073, 39.21297032645445], &quot;type&quot;: &quot;Point&quot;}, &quot;id&quot;: &quot;730&quot;, &quot;properties&quot;: {}, &quot;type&quot;: &quot;Feature&quot;}, {&quot;bbox&quot;: [9.176170857283852, 39.21291043732405, 9.176170857283852, 39.21291043732405], &quot;geometry&quot;: {&quot;coordinates&quot;: [9.176170857283852, 39.21291043732405], &quot;type&quot;: &quot;Point&quot;}, &quot;id&quot;: &quot;733&quot;, &quot;properties&quot;: {}, &quot;type&quot;: &quot;Feature&quot;}, {&quot;bbox&quot;: [9.176181611576748, 39.212896752770355, 9.176181611576748, 39.212896752770355], &quot;geometry&quot;: {&quot;coordinates&quot;: [9.176181611576748, 39.212896752770355], &quot;type&quot;: &quot;Point&quot;}, &quot;id&quot;: &quot;734&quot;, &quot;properties&quot;: {}, &quot;type&quot;: &quot;Feature&quot;}, {&quot;bbox&quot;: [9.176108204382272, 39.21299016136112, 9.176108204382272, 39.21299016136112], &quot;geometry&quot;: {&quot;coordinates&quot;: [9.176108204382272, 39.21299016136112], &quot;type&quot;: &quot;Point&quot;}, &quot;id&quot;: &quot;736&quot;, &quot;properties&quot;: {}, &quot;type&quot;: &quot;Feature&quot;}, {&quot;bbox&quot;: [9.1761876533125, 39.21288906481839, 9.1761876533125, 39.21288906481839], &quot;geometry&quot;: {&quot;coordinates&quot;: [9.1761876533125, 39.21288906481839], &quot;type&quot;: &quot;Point&quot;}, &quot;id&quot;: &quot;737&quot;, &quot;properties&quot;: {}, &quot;type&quot;: &quot;Feature&quot;}, {&quot;bbox&quot;: [9.176099745927637, 39.213000924487886, 9.176099745927637, 39.213000924487886], &quot;geometry&quot;: {&quot;coordinates&quot;: [9.176099745927637, 39.213000924487886], &quot;type&quot;: &quot;Point&quot;}, &quot;id&quot;: &quot;738&quot;, &quot;properties&quot;: {}, &quot;type&quot;: &quot;Feature&quot;}, {&quot;bbox&quot;: [9.176130921361972, 39.21296125467471, 9.176130921361972, 39.21296125467471], &quot;geometry&quot;: {&quot;coordinates&quot;: [9.176130921361972, 39.21296125467471], &quot;type&quot;: &quot;Point&quot;}, &quot;id&quot;: &quot;739&quot;, &quot;properties&quot;: {}, &quot;type&quot;: &quot;Feature&quot;}, {&quot;bbox&quot;: [9.176082285252399, 39.213023142654706, 9.176082285252399, 39.213023142654706], &quot;geometry&quot;: {&quot;coordinates&quot;: [9.176082285252399, 39.213023142654706], &quot;type&quot;: &quot;Point&quot;}, &quot;id&quot;: &quot;740&quot;, &quot;properties&quot;: {}, &quot;type&quot;: &quot;Feature&quot;}, {&quot;bbox&quot;: [9.176125544206226, 39.21296809694931, 9.176125544206226, 39.21296809694931], &quot;geometry&quot;: {&quot;coordinates&quot;: [9.176125544206226, 39.21296809694931], &quot;type&quot;: &quot;Point&quot;}, &quot;id&quot;: &quot;741&quot;, &quot;properties&quot;: {}, &quot;type&quot;: &quot;Feature&quot;}, {&quot;bbox&quot;: [9.176092797909394, 39.213009765627255, 9.176092797909394, 39.213009765627255], &quot;geometry&quot;: {&quot;coordinates&quot;: [9.176092797909394, 39.213009765627255], &quot;type&quot;: &quot;Point&quot;}, &quot;id&quot;: &quot;742&quot;, &quot;properties&quot;: {}, &quot;type&quot;: &quot;Feature&quot;}, {&quot;bbox&quot;: [9.176093643755184, 39.21300868931467, 9.176093643755184, 39.21300868931467], &quot;geometry&quot;: {&quot;coordinates&quot;: [9.176093643755184, 39.21300868931467], &quot;type&quot;: &quot;Point&quot;}, &quot;id&quot;: &quot;743&quot;, &quot;properties&quot;: {}, &quot;type&quot;: &quot;Feature&quot;}, {&quot;bbox&quot;: [9.176143488193816, 39.21294526373986, 9.176143488193816, 39.21294526373986], &quot;geometry&quot;: {&quot;coordinates&quot;: [9.176143488193816, 39.21294526373986], &quot;type&quot;: &quot;Point&quot;}, &quot;id&quot;: &quot;744&quot;, &quot;properties&quot;: {}, &quot;type&quot;: &quot;Feature&quot;}, {&quot;bbox&quot;: [9.17611454822156, 39.21298208901564, 9.17611454822156, 39.21298208901564], &quot;geometry&quot;: {&quot;coordinates&quot;: [9.17611454822156, 39.21298208901564], &quot;type&quot;: &quot;Point&quot;}, &quot;id&quot;: &quot;745&quot;, &quot;properties&quot;: {}, &quot;type&quot;: &quot;Feature&quot;}, {&quot;bbox&quot;: [9.176122402496766, 39.21297209468264, 9.176122402496766, 39.21297209468264], &quot;geometry&quot;: {&quot;coordinates&quot;: [9.176122402496766, 39.21297209468264], &quot;type&quot;: &quot;Point&quot;}, &quot;id&quot;: &quot;746&quot;, &quot;properties&quot;: {}, &quot;type&quot;: &quot;Feature&quot;}, {&quot;bbox&quot;: [9.176151644547978, 39.212934885007364, 9.176151644547978, 39.212934885007364], &quot;geometry&quot;: {&quot;coordinates&quot;: [9.176151644547978, 39.212934885007364], &quot;type&quot;: &quot;Point&quot;}, &quot;id&quot;: &quot;747&quot;, &quot;properties&quot;: {}, &quot;type&quot;: &quot;Feature&quot;}, {&quot;bbox&quot;: [9.176117750349409, 39.212978014403035, 9.176117750349409, 39.212978014403035], &quot;geometry&quot;: {&quot;coordinates&quot;: [9.176117750349409, 39.212978014403035], &quot;type&quot;: &quot;Point&quot;}, &quot;id&quot;: &quot;748&quot;, &quot;properties&quot;: {}, &quot;type&quot;: &quot;Feature&quot;}, {&quot;bbox&quot;: [9.176156538359326, 39.21292865776759, 9.176156538359326, 39.21292865776759], &quot;geometry&quot;: {&quot;coordinates&quot;: [9.176156538359326, 39.21292865776759], &quot;type&quot;: &quot;Point&quot;}, &quot;id&quot;: &quot;750&quot;, &quot;properties&quot;: {}, &quot;type&quot;: &quot;Feature&quot;}, {&quot;bbox&quot;: [9.176154423749585, 39.21293134855022, 9.176154423749585, 39.21293134855022], &quot;geometry&quot;: {&quot;coordinates&quot;: [9.176154423749585, 39.21293134855022], &quot;type&quot;: &quot;Point&quot;}, &quot;id&quot;: &quot;751&quot;, &quot;properties&quot;: {}, &quot;type&quot;: &quot;Feature&quot;}, {&quot;bbox&quot;: [9.176100954278455, 39.21299938689838, 9.176100954278455, 39.21299938689838], &quot;geometry&quot;: {&quot;coordinates&quot;: [9.176100954278455, 39.21299938689838], &quot;type&quot;: &quot;Point&quot;}, &quot;id&quot;: &quot;752&quot;, &quot;properties&quot;: {}, &quot;type&quot;: &quot;Feature&quot;}, {&quot;bbox&quot;: [9.176122342079273, 39.212972171562136, 9.176122342079273, 39.212972171562136], &quot;geometry&quot;: {&quot;coordinates&quot;: [9.176122342079273, 39.212972171562136], &quot;type&quot;: &quot;Point&quot;}, &quot;id&quot;: &quot;754&quot;, &quot;properties&quot;: {}, &quot;type&quot;: &quot;Feature&quot;}, {&quot;bbox&quot;: [9.176092979162062, 39.213009534988835, 9.176092979162062, 39.213009534988835], &quot;geometry&quot;: {&quot;coordinates&quot;: [9.176092979162062, 39.213009534988835], &quot;type&quot;: &quot;Point&quot;}, &quot;id&quot;: &quot;755&quot;, &quot;properties&quot;: {}, &quot;type&quot;: &quot;Feature&quot;}, {&quot;bbox&quot;: [9.176112614861166, 39.21298454915905, 9.176112614861166, 39.21298454915905], &quot;geometry&quot;: {&quot;coordinates&quot;: [9.176112614861166, 39.21298454915905], &quot;type&quot;: &quot;Point&quot;}, &quot;id&quot;: &quot;756&quot;, &quot;properties&quot;: {}, &quot;type&quot;: &quot;Feature&quot;}, {&quot;bbox&quot;: [9.176045611756871, 39.21306980848428, 9.176045611756871, 39.21306980848428], &quot;geometry&quot;: {&quot;coordinates&quot;: [9.176045611756871, 39.21306980848428], &quot;type&quot;: &quot;Point&quot;}, &quot;id&quot;: &quot;757&quot;, &quot;properties&quot;: {}, &quot;type&quot;: &quot;Feature&quot;}, {&quot;bbox&quot;: [9.17617430107473, 39.2129060551918, 9.17617430107473, 39.2129060551918], &quot;geometry&quot;: {&quot;coordinates&quot;: [9.17617430107473, 39.2129060551918], &quot;type&quot;: &quot;Point&quot;}, &quot;id&quot;: &quot;759&quot;, &quot;properties&quot;: {}, &quot;type&quot;: &quot;Feature&quot;}, {&quot;bbox&quot;: [9.176118958699451, 39.21297647681333, 9.176118958699451, 39.21297647681333], &quot;geometry&quot;: {&quot;coordinates&quot;: [9.176118958699451, 39.21297647681333], &quot;type&quot;: &quot;Point&quot;}, &quot;id&quot;: &quot;760&quot;, &quot;properties&quot;: {}, &quot;type&quot;: &quot;Feature&quot;}, {&quot;bbox&quot;: [9.176160223821618, 39.21292396811774, 9.176160223821618, 39.21292396811774], &quot;geometry&quot;: {&quot;coordinates&quot;: [9.176160223821618, 39.21292396811774], &quot;type&quot;: &quot;Point&quot;}, &quot;id&quot;: &quot;761&quot;, &quot;properties&quot;: {}, &quot;type&quot;: &quot;Feature&quot;}, {&quot;bbox&quot;: [9.176078720614926, 39.21302767854311, 9.176078720614926, 39.21302767854311], &quot;geometry&quot;: {&quot;coordinates&quot;: [9.176078720614926, 39.21302767854311], &quot;type&quot;: &quot;Point&quot;}, &quot;id&quot;: &quot;763&quot;, &quot;properties&quot;: {}, &quot;type&quot;: &quot;Feature&quot;}, {&quot;bbox&quot;: [9.176184088688565, 39.212893600710075, 9.176184088688565, 39.212893600710075], &quot;geometry&quot;: {&quot;coordinates&quot;: [9.176184088688565, 39.212893600710075], &quot;type&quot;: &quot;Point&quot;}, &quot;id&quot;: &quot;764&quot;, &quot;properties&quot;: {}, &quot;type&quot;: &quot;Feature&quot;}, {&quot;bbox&quot;: [9.17616874267521, 39.21291312810697, 9.17616874267521, 39.21291312810697], &quot;geometry&quot;: {&quot;coordinates&quot;: [9.17616874267521, 39.21291312810697], &quot;type&quot;: &quot;Point&quot;}, &quot;id&quot;: &quot;765&quot;, &quot;properties&quot;: {}, &quot;type&quot;: &quot;Feature&quot;}, {&quot;bbox&quot;: [9.176167775996921, 39.21291435817914, 9.176167775996921, 39.21291435817914], &quot;geometry&quot;: {&quot;coordinates&quot;: [9.176167775996921, 39.21291435817914], &quot;type&quot;: &quot;Point&quot;}, &quot;id&quot;: &quot;766&quot;, &quot;properties&quot;: {}, &quot;type&quot;: &quot;Feature&quot;}, {&quot;bbox&quot;: [9.176120046214436, 39.2129750929826, 9.176120046214436, 39.2129750929826], &quot;geometry&quot;: {&quot;coordinates&quot;: [9.176120046214436, 39.2129750929826], &quot;type&quot;: &quot;Point&quot;}, &quot;id&quot;: &quot;767&quot;, &quot;properties&quot;: {}, &quot;type&quot;: &quot;Feature&quot;}, {&quot;bbox&quot;: [9.176126752555922, 39.21296655935953, 9.176126752555922, 39.21296655935953], &quot;geometry&quot;: {&quot;coordinates&quot;: [9.176126752555922, 39.21296655935953], &quot;type&quot;: &quot;Point&quot;}, &quot;id&quot;: &quot;768&quot;, &quot;properties&quot;: {}, &quot;type&quot;: &quot;Feature&quot;}, {&quot;bbox&quot;: [9.17620626185034, 39.21286538592432, 9.17620626185034, 39.21286538592432], &quot;geometry&quot;: {&quot;coordinates&quot;: [9.17620626185034, 39.21286538592432], &quot;type&quot;: &quot;Point&quot;}, &quot;id&quot;: &quot;771&quot;, &quot;properties&quot;: {}, &quot;type&quot;: &quot;Feature&quot;}, {&quot;bbox&quot;: [9.17619774300827, 39.2128762259379, 9.17619774300827, 39.2128762259379], &quot;geometry&quot;: {&quot;coordinates&quot;: [9.17619774300827, 39.2128762259379], &quot;type&quot;: &quot;Point&quot;}, &quot;id&quot;: &quot;772&quot;, &quot;properties&quot;: {}, &quot;type&quot;: &quot;Feature&quot;}, {&quot;bbox&quot;: [9.176181309489923, 39.212897137167936, 9.176181309489923, 39.212897137167936], &quot;geometry&quot;: {&quot;coordinates&quot;: [9.176181309489923, 39.212897137167936], &quot;type&quot;: &quot;Point&quot;}, &quot;id&quot;: &quot;773&quot;, &quot;properties&quot;: {}, &quot;type&quot;: &quot;Feature&quot;}, {&quot;bbox&quot;: [9.176177805282547, 39.212901596179925, 9.176177805282547, 39.212901596179925], &quot;geometry&quot;: {&quot;coordinates&quot;: [9.176177805282547, 39.212901596179925], &quot;type&quot;: &quot;Point&quot;}, &quot;id&quot;: &quot;774&quot;, &quot;properties&quot;: {}, &quot;type&quot;: &quot;Feature&quot;}, {&quot;bbox&quot;: [9.176167292657766, 39.21291497321522, 9.176167292657766, 39.21291497321522], &quot;geometry&quot;: {&quot;coordinates&quot;: [9.176167292657766, 39.21291497321522], &quot;type&quot;: &quot;Point&quot;}, &quot;id&quot;: &quot;775&quot;, &quot;properties&quot;: {}, &quot;type&quot;: &quot;Feature&quot;}, {&quot;bbox&quot;: [9.176225655800206, 39.21284070759318, 9.176225655800206, 39.21284070759318], &quot;geometry&quot;: {&quot;coordinates&quot;: [9.176225655800206, 39.21284070759318], &quot;type&quot;: &quot;Point&quot;}, &quot;id&quot;: &quot;776&quot;, &quot;properties&quot;: {}, &quot;type&quot;: &quot;Feature&quot;}, {&quot;bbox&quot;: [9.176195507567003, 39.212879070480355, 9.176195507567003, 39.212879070480355], &quot;geometry&quot;: {&quot;coordinates&quot;: [9.176195507567003, 39.212879070480355], &quot;type&quot;: &quot;Point&quot;}, &quot;id&quot;: &quot;777&quot;, &quot;properties&quot;: {}, &quot;type&quot;: &quot;Feature&quot;}, {&quot;bbox&quot;: [9.176202515976847, 39.212870152455196, 9.176202515976847, 39.212870152455196], &quot;geometry&quot;: {&quot;coordinates&quot;: [9.176202515976847, 39.212870152455196], &quot;type&quot;: &quot;Point&quot;}, &quot;id&quot;: &quot;778&quot;, &quot;properties&quot;: {}, &quot;type&quot;: &quot;Feature&quot;}, {&quot;bbox&quot;: [9.176212968170985, 39.21285685229617, 9.176212968170985, 39.21285685229617], &quot;geometry&quot;: {&quot;coordinates&quot;: [9.176212968170985, 39.21285685229617], &quot;type&quot;: &quot;Point&quot;}, &quot;id&quot;: &quot;779&quot;, &quot;properties&quot;: {}, &quot;type&quot;: &quot;Feature&quot;}, {&quot;bbox&quot;: [9.17621055147905, 39.21285992747753, 9.17621055147905, 39.21285992747753], &quot;geometry&quot;: {&quot;coordinates&quot;: [9.17621055147905, 39.21285992747753], &quot;type&quot;: &quot;Point&quot;}, &quot;id&quot;: &quot;782&quot;, &quot;properties&quot;: {}, &quot;type&quot;: &quot;Feature&quot;}, {&quot;bbox&quot;: [9.176215626531876, 39.21285346959662, 9.176215626531876, 39.21285346959662], &quot;geometry&quot;: {&quot;coordinates&quot;: [9.176215626531876, 39.21285346959662], &quot;type&quot;: &quot;Point&quot;}, &quot;id&quot;: &quot;783&quot;, &quot;properties&quot;: {}, &quot;type&quot;: &quot;Feature&quot;}, {&quot;bbox&quot;: [9.176139198554742, 39.21295072218414, 9.176139198554742, 39.21295072218414], &quot;geometry&quot;: {&quot;coordinates&quot;: [9.176139198554742, 39.21295072218414], &quot;type&quot;: &quot;Point&quot;}, &quot;id&quot;: &quot;784&quot;, &quot;properties&quot;: {}, &quot;type&quot;: &quot;Feature&quot;}, {&quot;bbox&quot;: [9.176131827624078, 39.21296010148235, 9.176131827624078, 39.21296010148235], &quot;geometry&quot;: {&quot;coordinates&quot;: [9.176131827624078, 39.21296010148235], &quot;type&quot;: &quot;Point&quot;}, &quot;id&quot;: &quot;785&quot;, &quot;properties&quot;: {}, &quot;type&quot;: &quot;Feature&quot;}, {&quot;bbox&quot;: [9.17615665919416, 39.212928504008566, 9.17615665919416, 39.212928504008566], &quot;geometry&quot;: {&quot;coordinates&quot;: [9.17615665919416, 39.212928504008566], &quot;type&quot;: &quot;Point&quot;}, &quot;id&quot;: &quot;786&quot;, &quot;properties&quot;: {}, &quot;type&quot;: &quot;Feature&quot;}, {&quot;bbox&quot;: [9.176231516274605, 39.21283325027752, 9.176231516274605, 39.21283325027752], &quot;geometry&quot;: {&quot;coordinates&quot;: [9.176231516274605, 39.21283325027752], &quot;type&quot;: &quot;Point&quot;}, &quot;id&quot;: &quot;788&quot;, &quot;properties&quot;: {}, &quot;type&quot;: &quot;Feature&quot;}, {&quot;bbox&quot;: [9.176179617803664, 39.21289928979442, 9.176179617803664, 39.21289928979442], &quot;geometry&quot;: {&quot;coordinates&quot;: [9.176179617803664, 39.21289928979442], &quot;type&quot;: &quot;Point&quot;}, &quot;id&quot;: &quot;789&quot;, &quot;properties&quot;: {}, &quot;type&quot;: &quot;Feature&quot;}, {&quot;bbox&quot;: [9.176202697228806, 39.21286992181661, 9.176202697228806, 39.21286992181661], &quot;geometry&quot;: {&quot;coordinates&quot;: [9.176202697228806, 39.21286992181661], &quot;type&quot;: &quot;Point&quot;}, &quot;id&quot;: &quot;791&quot;, &quot;properties&quot;: {}, &quot;type&quot;: &quot;Feature&quot;}, {&quot;bbox&quot;: [9.17613001509984, 39.21296240786708, 9.17613001509984, 39.21296240786708], &quot;geometry&quot;: {&quot;coordinates&quot;: [9.17613001509984, 39.21296240786708], &quot;type&quot;: &quot;Point&quot;}, &quot;id&quot;: &quot;792&quot;, &quot;properties&quot;: {}, &quot;type&quot;: &quot;Feature&quot;}, {&quot;bbox&quot;: [9.176110379413052, 39.212987393699876, 9.176110379413052, 39.212987393699876], &quot;geometry&quot;: {&quot;coordinates&quot;: [9.176110379413052, 39.212987393699876], &quot;type&quot;: &quot;Point&quot;}, &quot;id&quot;: &quot;793&quot;, &quot;properties&quot;: {}, &quot;type&quot;: &quot;Feature&quot;}, {&quot;bbox&quot;: [9.17613817145796, 39.21295202913555, 9.17613817145796, 39.21295202913555], &quot;geometry&quot;: {&quot;coordinates&quot;: [9.17613817145796, 39.21295202913555], &quot;type&quot;: &quot;Point&quot;}, &quot;id&quot;: &quot;795&quot;, &quot;properties&quot;: {}, &quot;type&quot;: &quot;Feature&quot;}, {&quot;bbox&quot;: [9.176136661021456, 39.21295395112291, 9.176136661021456, 39.21295395112291], &quot;geometry&quot;: {&quot;coordinates&quot;: [9.176136661021456, 39.21295395112291], &quot;type&quot;: &quot;Point&quot;}, &quot;id&quot;: &quot;796&quot;, &quot;properties&quot;: {}, &quot;type&quot;: &quot;Feature&quot;}, {&quot;bbox&quot;: [9.17608011021942, 39.213025910315444, 9.17608011021942, 39.213025910315444], &quot;geometry&quot;: {&quot;coordinates&quot;: [9.17608011021942, 39.213025910315444], &quot;type&quot;: &quot;Point&quot;}, &quot;id&quot;: &quot;798&quot;, &quot;properties&quot;: {}, &quot;type&quot;: &quot;Feature&quot;}, {&quot;bbox&quot;: [9.176106029351324, 39.212992929022356, 9.176106029351324, 39.212992929022356], &quot;geometry&quot;: {&quot;coordinates&quot;: [9.176106029351324, 39.212992929022356], &quot;type&quot;: &quot;Point&quot;}, &quot;id&quot;: &quot;799&quot;, &quot;properties&quot;: {}, &quot;type&quot;: &quot;Feature&quot;}, {&quot;bbox&quot;: [9.176098054236395, 39.213003077113164, 9.176098054236395, 39.213003077113164], &quot;geometry&quot;: {&quot;coordinates&quot;: [9.176098054236395, 39.213003077113164], &quot;type&quot;: &quot;Point&quot;}, &quot;id&quot;: &quot;800&quot;, &quot;properties&quot;: {}, &quot;type&quot;: &quot;Feature&quot;}, {&quot;bbox&quot;: [9.176099927180259, 39.21300069384947, 9.176099927180259, 39.21300069384947], &quot;geometry&quot;: {&quot;coordinates&quot;: [9.176099927180259, 39.21300069384947], &quot;type&quot;: &quot;Point&quot;}, &quot;id&quot;: &quot;801&quot;, &quot;properties&quot;: {}, &quot;type&quot;: &quot;Feature&quot;}, {&quot;bbox&quot;: [9.176115031561638, 39.212981473979774, 9.176115031561638, 39.212981473979774], &quot;geometry&quot;: {&quot;coordinates&quot;: [9.176115031561638, 39.212981473979774], &quot;type&quot;: &quot;Point&quot;}, &quot;id&quot;: &quot;802&quot;, &quot;properties&quot;: {}, &quot;type&quot;: &quot;Feature&quot;}, {&quot;bbox&quot;: [9.176164573874843, 39.21291843279316, 9.176164573874843, 39.21291843279316], &quot;geometry&quot;: {&quot;coordinates&quot;: [9.176164573874843, 39.21291843279316], &quot;type&quot;: &quot;Point&quot;}, &quot;id&quot;: &quot;803&quot;, &quot;properties&quot;: {}, &quot;type&quot;: &quot;Feature&quot;}, {&quot;bbox&quot;: [9.176105968933797, 39.21299300590184, 9.176105968933797, 39.21299300590184], &quot;geometry&quot;: {&quot;coordinates&quot;: [9.176105968933797, 39.21299300590184], &quot;type&quot;: &quot;Point&quot;}, &quot;id&quot;: &quot;804&quot;, &quot;properties&quot;: {}, &quot;type&quot;: &quot;Feature&quot;}, {&quot;bbox&quot;: [9.176104337660473, 39.21299508164772, 9.176104337660473, 39.21299508164772], &quot;geometry&quot;: {&quot;coordinates&quot;: [9.176104337660473, 39.21299508164772], &quot;type&quot;: &quot;Point&quot;}, &quot;id&quot;: &quot;805&quot;, &quot;properties&quot;: {}, &quot;type&quot;: &quot;Feature&quot;}, {&quot;bbox&quot;: [9.176117810766918, 39.21297793752354, 9.176117810766918, 39.21297793752354], &quot;geometry&quot;: {&quot;coordinates&quot;: [9.176117810766918, 39.21297793752354], &quot;type&quot;: &quot;Point&quot;}, &quot;id&quot;: &quot;806&quot;, &quot;properties&quot;: {}, &quot;type&quot;: &quot;Feature&quot;}, {&quot;bbox&quot;: [9.176159498812678, 39.21292489067182, 9.176159498812678, 39.21292489067182], &quot;geometry&quot;: {&quot;coordinates&quot;: [9.176159498812678, 39.21292489067182], &quot;type&quot;: &quot;Point&quot;}, &quot;id&quot;: &quot;807&quot;, &quot;properties&quot;: {}, &quot;type&quot;: &quot;Feature&quot;}, {&quot;bbox&quot;: [9.176142461097195, 39.212946570691315, 9.176142461097195, 39.212946570691315], &quot;geometry&quot;: {&quot;coordinates&quot;: [9.176142461097195, 39.212946570691315], &quot;type&quot;: &quot;Point&quot;}, &quot;id&quot;: &quot;808&quot;, &quot;properties&quot;: {}, &quot;type&quot;: &quot;Feature&quot;}, {&quot;bbox&quot;: [9.176101739706462, 39.2129983874652, 9.176101739706462, 39.2129983874652], &quot;geometry&quot;: {&quot;coordinates&quot;: [9.176101739706462, 39.2129983874652], &quot;type&quot;: &quot;Point&quot;}, &quot;id&quot;: &quot;809&quot;, &quot;properties&quot;: {}, &quot;type&quot;: &quot;Feature&quot;}, {&quot;bbox&quot;: [9.176111587763405, 39.212985856110244, 9.176111587763405, 39.212985856110244], &quot;geometry&quot;: {&quot;coordinates&quot;: [9.176111587763405, 39.212985856110244], &quot;type&quot;: &quot;Point&quot;}, &quot;id&quot;: &quot;810&quot;, &quot;properties&quot;: {}, &quot;type&quot;: &quot;Feature&quot;}, {&quot;bbox&quot;: [9.176127417148233, 39.21296571368514, 9.176127417148233, 39.21296571368514], &quot;geometry&quot;: {&quot;coordinates&quot;: [9.176127417148233, 39.21296571368514], &quot;type&quot;: &quot;Point&quot;}, &quot;id&quot;: &quot;813&quot;, &quot;properties&quot;: {}, &quot;type&quot;: &quot;Feature&quot;}, {&quot;bbox&quot;: [9.176129954682365, 39.21296248474656, 9.176129954682365, 39.21296248474656], &quot;geometry&quot;: {&quot;coordinates&quot;: [9.176129954682365, 39.21296248474656], &quot;type&quot;: &quot;Point&quot;}, &quot;id&quot;: &quot;816&quot;, &quot;properties&quot;: {}, &quot;type&quot;: &quot;Feature&quot;}, {&quot;bbox&quot;: [9.176109291897683, 39.2129887775305, 9.176109291897683, 39.2129887775305], &quot;geometry&quot;: {&quot;coordinates&quot;: [9.176109291897683, 39.2129887775305], &quot;type&quot;: &quot;Point&quot;}, &quot;id&quot;: &quot;817&quot;, &quot;properties&quot;: {}, &quot;type&quot;: &quot;Feature&quot;}, {&quot;bbox&quot;: [9.17613315680844, 39.212958410133524, 9.17613315680844, 39.212958410133524], &quot;geometry&quot;: {&quot;coordinates&quot;: [9.17613315680844, 39.212958410133524], &quot;type&quot;: &quot;Point&quot;}, &quot;id&quot;: &quot;818&quot;, &quot;properties&quot;: {}, &quot;type&quot;: &quot;Feature&quot;}, {&quot;bbox&quot;: [9.176143790281053, 39.21294487934237, 9.176143790281053, 39.21294487934237], &quot;geometry&quot;: {&quot;coordinates&quot;: [9.176143790281053, 39.21294487934237], &quot;type&quot;: &quot;Point&quot;}, &quot;id&quot;: &quot;819&quot;, &quot;properties&quot;: {}, &quot;type&quot;: &quot;Feature&quot;}, {&quot;bbox&quot;: [9.176117267009381, 39.21297862943889, 9.176117267009381, 39.21297862943889], &quot;geometry&quot;: {&quot;coordinates&quot;: [9.176117267009381, 39.21297862943889], &quot;type&quot;: &quot;Point&quot;}, &quot;id&quot;: &quot;822&quot;, &quot;properties&quot;: {}, &quot;type&quot;: &quot;Feature&quot;}, {&quot;bbox&quot;: [9.17607352470186, 39.21303429017684, 9.17607352470186, 39.21303429017684], &quot;geometry&quot;: {&quot;coordinates&quot;: [9.17607352470186, 39.21303429017684], &quot;type&quot;: &quot;Point&quot;}, &quot;id&quot;: &quot;824&quot;, &quot;properties&quot;: {}, &quot;type&quot;: &quot;Feature&quot;}, {&quot;bbox&quot;: [9.176104639748132, 39.21299469725035, 9.176104639748132, 39.21299469725035], &quot;geometry&quot;: {&quot;coordinates&quot;: [9.176104639748132, 39.21299469725035], &quot;type&quot;: &quot;Point&quot;}, &quot;id&quot;: &quot;825&quot;, &quot;properties&quot;: {}, &quot;type&quot;: &quot;Feature&quot;}, {&quot;bbox&quot;: [9.176097329225831, 39.213003999666846, 9.176097329225831, 39.213003999666846], &quot;geometry&quot;: {&quot;coordinates&quot;: [9.176097329225831, 39.213003999666846], &quot;type&quot;: &quot;Point&quot;}, &quot;id&quot;: &quot;826&quot;, &quot;properties&quot;: {}, &quot;type&quot;: &quot;Feature&quot;}, {&quot;bbox&quot;: [9.176120710806908, 39.21297424730825, 9.176120710806908, 39.21297424730825], &quot;geometry&quot;: {&quot;coordinates&quot;: [9.176120710806908, 39.21297424730825], &quot;type&quot;: &quot;Point&quot;}, &quot;id&quot;: &quot;827&quot;, &quot;properties&quot;: {}, &quot;type&quot;: &quot;Feature&quot;}, {&quot;bbox&quot;: [9.176107781459603, 39.212990699517476, 9.176107781459603, 39.212990699517476], &quot;geometry&quot;: {&quot;coordinates&quot;: [9.176107781459603, 39.212990699517476], &quot;type&quot;: &quot;Point&quot;}, &quot;id&quot;: &quot;828&quot;, &quot;properties&quot;: {}, &quot;type&quot;: &quot;Feature&quot;}, {&quot;bbox&quot;: [9.176096000039754, 39.213005691015255, 9.176096000039754, 39.213005691015255], &quot;geometry&quot;: {&quot;coordinates&quot;: [9.176096000039754, 39.213005691015255], &quot;type&quot;: &quot;Point&quot;}, &quot;id&quot;: &quot;829&quot;, &quot;properties&quot;: {}, &quot;type&quot;: &quot;Feature&quot;}, {&quot;bbox&quot;: [9.17617901362997, 39.2129000585896, 9.17617901362997, 39.2129000585896], &quot;geometry&quot;: {&quot;coordinates&quot;: [9.17617901362997, 39.2129000585896], &quot;type&quot;: &quot;Point&quot;}, &quot;id&quot;: &quot;830&quot;, &quot;properties&quot;: {}, &quot;type&quot;: &quot;Feature&quot;}, {&quot;bbox&quot;: [9.176076485164073, 39.21303052308323, 9.176076485164073, 39.21303052308323], &quot;geometry&quot;: {&quot;coordinates&quot;: [9.176076485164073, 39.21303052308323], &quot;type&quot;: &quot;Point&quot;}, &quot;id&quot;: &quot;831&quot;, &quot;properties&quot;: {}, &quot;type&quot;: &quot;Feature&quot;}, {&quot;bbox&quot;: [9.176129048420204, 39.212963637938934, 9.176129048420204, 39.212963637938934], &quot;geometry&quot;: {&quot;coordinates&quot;: [9.176129048420204, 39.212963637938934], &quot;type&quot;: &quot;Point&quot;}, &quot;id&quot;: &quot;832&quot;, &quot;properties&quot;: {}, &quot;type&quot;: &quot;Feature&quot;}, {&quot;bbox&quot;: [9.176126390051015, 39.21296702063647, 9.176126390051015, 39.21296702063647], &quot;geometry&quot;: {&quot;coordinates&quot;: [9.176126390051015, 39.21296702063647], &quot;type&quot;: &quot;Point&quot;}, &quot;id&quot;: &quot;833&quot;, &quot;properties&quot;: {}, &quot;type&quot;: &quot;Feature&quot;}, {&quot;bbox&quot;: [9.176102525134445, 39.21299738803202, 9.176102525134445, 39.21299738803202], &quot;geometry&quot;: {&quot;coordinates&quot;: [9.176102525134445, 39.21299738803202], &quot;type&quot;: &quot;Point&quot;}, &quot;id&quot;: &quot;834&quot;, &quot;properties&quot;: {}, &quot;type&quot;: &quot;Feature&quot;}, {&quot;bbox&quot;: [9.176019330062221, 39.213103251040216, 9.176019330062221, 39.213103251040216], &quot;geometry&quot;: {&quot;coordinates&quot;: [9.176019330062221, 39.213103251040216], &quot;type&quot;: &quot;Point&quot;}, &quot;id&quot;: &quot;835&quot;, &quot;properties&quot;: {}, &quot;type&quot;: &quot;Feature&quot;}, {&quot;bbox&quot;: [9.176153034148815, 39.21293311677881, 9.176153034148815, 39.21293311677881], &quot;geometry&quot;: {&quot;coordinates&quot;: [9.176153034148815, 39.21293311677881], &quot;type&quot;: &quot;Point&quot;}, &quot;id&quot;: &quot;836&quot;, &quot;properties&quot;: {}, &quot;type&quot;: &quot;Feature&quot;}, {&quot;bbox&quot;: [9.176060957838327, 39.213050281103996, 9.176060957838327, 39.213050281103996], &quot;geometry&quot;: {&quot;coordinates&quot;: [9.176060957838327, 39.213050281103996], &quot;type&quot;: &quot;Point&quot;}, &quot;id&quot;: &quot;838&quot;, &quot;properties&quot;: {}, &quot;type&quot;: &quot;Feature&quot;}, {&quot;bbox&quot;: [9.176107660624554, 39.212990853276445, 9.176107660624554, 39.212990853276445], &quot;geometry&quot;: {&quot;coordinates&quot;: [9.176107660624554, 39.212990853276445], &quot;type&quot;: &quot;Point&quot;}, &quot;id&quot;: &quot;840&quot;, &quot;properties&quot;: {}, &quot;type&quot;: &quot;Feature&quot;}, {&quot;bbox&quot;: [9.176095577116898, 39.21300622917157, 9.176095577116898, 39.21300622917157], &quot;geometry&quot;: {&quot;coordinates&quot;: [9.176095577116898, 39.21300622917157], &quot;type&quot;: &quot;Point&quot;}, &quot;id&quot;: &quot;841&quot;, &quot;properties&quot;: {}, &quot;type&quot;: &quot;Feature&quot;}, {&quot;bbox&quot;: [9.176141011078373, 39.212948415799254, 9.176141011078373, 39.212948415799254], &quot;geometry&quot;: {&quot;coordinates&quot;: [9.176141011078373, 39.212948415799254], &quot;type&quot;: &quot;Point&quot;}, &quot;id&quot;: &quot;842&quot;, &quot;properties&quot;: {}, &quot;type&quot;: &quot;Feature&quot;}, {&quot;bbox&quot;: [9.1761063918565, 39.212992467745494, 9.1761063918565, 39.212992467745494], &quot;geometry&quot;: {&quot;coordinates&quot;: [9.1761063918565, 39.212992467745494], &quot;type&quot;: &quot;Point&quot;}, &quot;id&quot;: &quot;844&quot;, &quot;properties&quot;: {}, &quot;type&quot;: &quot;Feature&quot;}, {&quot;bbox&quot;: [9.176106089768854, 39.21299285214286, 9.176106089768854, 39.21299285214286], &quot;geometry&quot;: {&quot;coordinates&quot;: [9.176106089768854, 39.21299285214286], &quot;type&quot;: &quot;Point&quot;}, &quot;id&quot;: &quot;845&quot;, &quot;properties&quot;: {}, &quot;type&quot;: &quot;Feature&quot;}, {&quot;bbox&quot;: [9.176138654797626, 39.212951414099585, 9.176138654797626, 39.212951414099585], &quot;geometry&quot;: {&quot;coordinates&quot;: [9.176138654797626, 39.212951414099585], &quot;type&quot;: &quot;Point&quot;}, &quot;id&quot;: &quot;846&quot;, &quot;properties&quot;: {}, &quot;type&quot;: &quot;Feature&quot;}, {&quot;bbox&quot;: [9.176092133316251, 39.213010611301435, 9.176092133316251, 39.213010611301435], &quot;geometry&quot;: {&quot;coordinates&quot;: [9.176092133316251, 39.213010611301435], &quot;type&quot;: &quot;Point&quot;}, &quot;id&quot;: &quot;847&quot;, &quot;properties&quot;: {}, &quot;type&quot;: &quot;Feature&quot;}, {&quot;bbox&quot;: [9.176109110645118, 39.212989008168925, 9.176109110645118, 39.212989008168925], &quot;geometry&quot;: {&quot;coordinates&quot;: [9.176109110645118, 39.212989008168925], &quot;type&quot;: &quot;Point&quot;}, &quot;id&quot;: &quot;848&quot;, &quot;properties&quot;: {}, &quot;type&quot;: &quot;Feature&quot;}, {&quot;bbox&quot;: [9.176105062670855, 39.212994159093995, 9.176105062670855, 39.212994159093995], &quot;geometry&quot;: {&quot;coordinates&quot;: [9.176105062670855, 39.212994159093995], &quot;type&quot;: &quot;Point&quot;}, &quot;id&quot;: &quot;849&quot;, &quot;properties&quot;: {}, &quot;type&quot;: &quot;Feature&quot;}, {&quot;bbox&quot;: [9.176105002253315, 39.21299423597347, 9.176105002253315, 39.21299423597347], &quot;geometry&quot;: {&quot;coordinates&quot;: [9.176105002253315, 39.21299423597347], &quot;type&quot;: &quot;Point&quot;}, &quot;id&quot;: &quot;851&quot;, &quot;properties&quot;: {}, &quot;type&quot;: &quot;Feature&quot;}, {&quot;bbox&quot;: [9.176104216825404, 39.21299523540668, 9.176104216825404, 39.21299523540668], &quot;geometry&quot;: {&quot;coordinates&quot;: [9.176104216825404, 39.21299523540668], &quot;type&quot;: &quot;Point&quot;}, &quot;id&quot;: &quot;852&quot;, &quot;properties&quot;: {}, &quot;type&quot;: &quot;Feature&quot;}, {&quot;bbox&quot;: [9.176142340262297, 39.212946724450305, 9.176142340262297, 39.212946724450305], &quot;geometry&quot;: {&quot;coordinates&quot;: [9.176142340262297, 39.212946724450305], &quot;type&quot;: &quot;Point&quot;}, &quot;id&quot;: &quot;853&quot;, &quot;properties&quot;: {}, &quot;type&quot;: &quot;Feature&quot;}, {&quot;bbox&quot;: [9.176098054236395, 39.213003077113164, 9.176098054236395, 39.213003077113164], &quot;geometry&quot;: {&quot;coordinates&quot;: [9.176098054236395, 39.213003077113164], &quot;type&quot;: &quot;Point&quot;}, &quot;id&quot;: &quot;854&quot;, &quot;properties&quot;: {}, &quot;type&quot;: &quot;Feature&quot;}, {&quot;bbox&quot;: [9.176107177284347, 39.21299146831225, 9.176107177284347, 39.21299146831225], &quot;geometry&quot;: {&quot;coordinates&quot;: [9.176107177284347, 39.21299146831225], &quot;type&quot;: &quot;Point&quot;}, &quot;id&quot;: &quot;857&quot;, &quot;properties&quot;: {}, &quot;type&quot;: &quot;Feature&quot;}, {&quot;bbox&quot;: [9.17596954581836, 39.21316659968127, 9.17596954581836, 39.21316659968127], &quot;geometry&quot;: {&quot;coordinates&quot;: [9.17596954581836, 39.21316659968127], &quot;type&quot;: &quot;Point&quot;}, &quot;id&quot;: &quot;858&quot;, &quot;properties&quot;: {}, &quot;type&quot;: &quot;Feature&quot;}, {&quot;bbox&quot;: [9.17609467085361, 39.21300738236365, 9.17609467085361, 39.21300738236365], &quot;geometry&quot;: {&quot;coordinates&quot;: [9.17609467085361, 39.21300738236365], &quot;type&quot;: &quot;Point&quot;}, &quot;id&quot;: &quot;859&quot;, &quot;properties&quot;: {}, &quot;type&quot;: &quot;Feature&quot;}, {&quot;bbox&quot;: [9.176091468723097, 39.2130114569756, 9.176091468723097, 39.2130114569756], &quot;geometry&quot;: {&quot;coordinates&quot;: [9.176091468723097, 39.2130114569756], &quot;type&quot;: &quot;Point&quot;}, &quot;id&quot;: &quot;860&quot;, &quot;properties&quot;: {}, &quot;type&quot;: &quot;Feature&quot;}, {&quot;bbox&quot;: [9.17615073828652, 39.21293603819989, 9.17615073828652, 39.21293603819989], &quot;geometry&quot;: {&quot;coordinates&quot;: [9.17615073828652, 39.21293603819989], &quot;type&quot;: &quot;Point&quot;}, &quot;id&quot;: &quot;861&quot;, &quot;properties&quot;: {}, &quot;type&quot;: &quot;Feature&quot;}, {&quot;bbox&quot;: [9.176143065271683, 39.21294580189635, 9.176143065271683, 39.21294580189635], &quot;geometry&quot;: {&quot;coordinates&quot;: [9.176143065271683, 39.21294580189635], &quot;type&quot;: &quot;Point&quot;}, &quot;id&quot;: &quot;862&quot;, &quot;properties&quot;: {}, &quot;type&quot;: &quot;Feature&quot;}, {&quot;bbox&quot;: [9.176182578254558, 39.21289552269806, 9.176182578254558, 39.21289552269806], &quot;geometry&quot;: {&quot;coordinates&quot;: [9.176182578254558, 39.21289552269806], &quot;type&quot;: &quot;Point&quot;}, &quot;id&quot;: &quot;863&quot;, &quot;properties&quot;: {}, &quot;type&quot;: &quot;Feature&quot;}, {&quot;bbox&quot;: [9.176166023892435, 39.212916587684944, 9.176166023892435, 39.212916587684944], &quot;geometry&quot;: {&quot;coordinates&quot;: [9.176166023892435, 39.212916587684944], &quot;type&quot;: &quot;Point&quot;}, &quot;id&quot;: &quot;864&quot;, &quot;properties&quot;: {}, &quot;type&quot;: &quot;Feature&quot;}, {&quot;bbox&quot;: [9.176099504257463, 39.21300123200578, 9.176099504257463, 39.21300123200578], &quot;geometry&quot;: {&quot;coordinates&quot;: [9.176099504257463, 39.21300123200578], &quot;type&quot;: &quot;Point&quot;}, &quot;id&quot;: &quot;865&quot;, &quot;properties&quot;: {}, &quot;type&quot;: &quot;Feature&quot;}, {&quot;bbox&quot;: [9.176135936011901, 39.21295487367684, 9.176135936011901, 39.21295487367684], &quot;geometry&quot;: {&quot;coordinates&quot;: [9.176135936011901, 39.21295487367684], &quot;type&quot;: &quot;Point&quot;}, &quot;id&quot;: &quot;866&quot;, &quot;properties&quot;: {}, &quot;type&quot;: &quot;Feature&quot;}, {&quot;bbox&quot;: [9.176145965309038, 39.21294211168042, 9.176145965309038, 39.21294211168042], &quot;geometry&quot;: {&quot;coordinates&quot;: [9.176145965309038, 39.21294211168042], &quot;type&quot;: &quot;Point&quot;}, &quot;id&quot;: &quot;867&quot;, &quot;properties&quot;: {}, &quot;type&quot;: &quot;Feature&quot;}, {&quot;bbox&quot;: [9.176118777446948, 39.21297670745178, 9.176118777446948, 39.21297670745178], &quot;geometry&quot;: {&quot;coordinates&quot;: [9.176118777446948, 39.21297670745178], &quot;type&quot;: &quot;Point&quot;}, &quot;id&quot;: &quot;868&quot;, &quot;properties&quot;: {}, &quot;type&quot;: &quot;Feature&quot;}, {&quot;bbox&quot;: [9.176162580100533, 39.212920969816956, 9.176162580100533, 39.212920969816956], &quot;geometry&quot;: {&quot;coordinates&quot;: [9.176162580100533, 39.212920969816956], &quot;type&quot;: &quot;Point&quot;}, &quot;id&quot;: &quot;869&quot;, &quot;properties&quot;: {}, &quot;type&quot;: &quot;Feature&quot;}, {&quot;bbox&quot;: [9.176149952859909, 39.21293703763341, 9.176149952859909, 39.21293703763341], &quot;geometry&quot;: {&quot;coordinates&quot;: [9.176149952859909, 39.21293703763341], &quot;type&quot;: &quot;Point&quot;}, &quot;id&quot;: &quot;870&quot;, &quot;properties&quot;: {}, &quot;type&quot;: &quot;Feature&quot;}, {&quot;bbox&quot;: [9.176101981376611, 39.21299807994731, 9.176101981376611, 39.21299807994731], &quot;geometry&quot;: {&quot;coordinates&quot;: [9.176101981376611, 39.21299807994731], &quot;type&quot;: &quot;Point&quot;}, &quot;id&quot;: &quot;871&quot;, &quot;properties&quot;: {}, &quot;type&quot;: &quot;Feature&quot;}, {&quot;bbox&quot;: [9.176142581932098, 39.21294641693232, 9.176142581932098, 39.21294641693232], &quot;geometry&quot;: {&quot;coordinates&quot;: [9.176142581932098, 39.21294641693232], &quot;type&quot;: &quot;Point&quot;}, &quot;id&quot;: &quot;872&quot;, &quot;properties&quot;: {}, &quot;type&quot;: &quot;Feature&quot;}, {&quot;bbox&quot;: [9.176120106631934, 39.212975016103115, 9.176120106631934, 39.212975016103115], &quot;geometry&quot;: {&quot;coordinates&quot;: [9.176120106631934, 39.212975016103115], &quot;type&quot;: &quot;Point&quot;}, &quot;id&quot;: &quot;873&quot;, &quot;properties&quot;: {}, &quot;type&quot;: &quot;Feature&quot;}, {&quot;bbox&quot;: [9.176149409103003, 39.21293772954891, 9.176149409103003, 39.21293772954891], &quot;geometry&quot;: {&quot;coordinates&quot;: [9.176149409103003, 39.21293772954891], &quot;type&quot;: &quot;Point&quot;}, &quot;id&quot;: &quot;875&quot;, &quot;properties&quot;: {}, &quot;type&quot;: &quot;Feature&quot;}, {&quot;bbox&quot;: [9.176098416741667, 39.213002615836324, 9.176098416741667, 39.213002615836324], &quot;geometry&quot;: {&quot;coordinates&quot;: [9.176098416741667, 39.213002615836324], &quot;type&quot;: &quot;Point&quot;}, &quot;id&quot;: &quot;876&quot;, &quot;properties&quot;: {}, &quot;type&quot;: &quot;Feature&quot;}, {&quot;bbox&quot;: [9.17610276680459, 39.212997080514135, 9.17610276680459, 39.212997080514135], &quot;geometry&quot;: {&quot;coordinates&quot;: [9.17610276680459, 39.212997080514135], &quot;type&quot;: &quot;Point&quot;}, &quot;id&quot;: &quot;877&quot;, &quot;properties&quot;: {}, &quot;type&quot;: &quot;Feature&quot;}, {&quot;bbox&quot;: [9.176099081334662, 39.213001770162094, 9.176099081334662, 39.213001770162094], &quot;geometry&quot;: {&quot;coordinates&quot;: [9.176099081334662, 39.213001770162094], &quot;type&quot;: &quot;Point&quot;}, &quot;id&quot;: &quot;879&quot;, &quot;properties&quot;: {}, &quot;type&quot;: &quot;Feature&quot;}, {&quot;bbox&quot;: [9.176117025339366, 39.212978936956844, 9.176117025339366, 39.212978936956844], &quot;geometry&quot;: {&quot;coordinates&quot;: [9.176117025339366, 39.212978936956844], &quot;type&quot;: &quot;Point&quot;}, &quot;id&quot;: &quot;880&quot;, &quot;properties&quot;: {}, &quot;type&quot;: &quot;Feature&quot;}, {&quot;bbox&quot;: [9.176153879992773, 39.21293204046575, 9.176153879992773, 39.21293204046575], &quot;geometry&quot;: {&quot;coordinates&quot;: [9.176153879992773, 39.21293204046575], &quot;type&quot;: &quot;Point&quot;}, &quot;id&quot;: &quot;882&quot;, &quot;properties&quot;: {}, &quot;type&quot;: &quot;Feature&quot;}, {&quot;bbox&quot;: [9.176182094915655, 39.212896137734184, 9.176182094915655, 39.212896137734184], &quot;geometry&quot;: {&quot;coordinates&quot;: [9.176182094915655, 39.212896137734184], &quot;type&quot;: &quot;Point&quot;}, &quot;id&quot;: &quot;884&quot;, &quot;properties&quot;: {}, &quot;type&quot;: &quot;Feature&quot;}, {&quot;bbox&quot;: [9.176147898667105, 39.21293965153643, 9.176147898667105, 39.21293965153643], &quot;geometry&quot;: {&quot;coordinates&quot;: [9.176147898667105, 39.21293965153643], &quot;type&quot;: &quot;Point&quot;}, &quot;id&quot;: &quot;887&quot;, &quot;properties&quot;: {}, &quot;type&quot;: &quot;Feature&quot;}, {&quot;bbox&quot;: [9.17612131498187, 39.21297347851341, 9.17612131498187, 39.21297347851341], &quot;geometry&quot;: {&quot;coordinates&quot;: [9.17612131498187, 39.21297347851341], &quot;type&quot;: &quot;Point&quot;}, &quot;id&quot;: &quot;888&quot;, &quot;properties&quot;: {}, &quot;type&quot;: &quot;Feature&quot;}, {&quot;bbox&quot;: [9.17597311046986, 39.2131620637963, 9.17597311046986, 39.2131620637963], &quot;geometry&quot;: {&quot;coordinates&quot;: [9.17597311046986, 39.2131620637963], &quot;type&quot;: &quot;Point&quot;}, &quot;id&quot;: &quot;889&quot;, &quot;properties&quot;: {}, &quot;type&quot;: &quot;Feature&quot;}, {&quot;bbox&quot;: [9.176116421164313, 39.21297970575167, 9.176116421164313, 39.21297970575167], &quot;geometry&quot;: {&quot;coordinates&quot;: [9.176116421164313, 39.21297970575167], &quot;type&quot;: &quot;Point&quot;}, &quot;id&quot;: &quot;890&quot;, &quot;properties&quot;: {}, &quot;type&quot;: &quot;Feature&quot;}, {&quot;bbox&quot;: [9.176110258578015, 39.21298754745882, 9.176110258578015, 39.21298754745882], &quot;geometry&quot;: {&quot;coordinates&quot;: [9.176110258578015, 39.21298754745882], &quot;type&quot;: &quot;Point&quot;}, &quot;id&quot;: &quot;891&quot;, &quot;properties&quot;: {}, &quot;type&quot;: &quot;Feature&quot;}, {&quot;bbox&quot;: [9.176104216825404, 39.21299523540668, 9.176104216825404, 39.21299523540668], &quot;geometry&quot;: {&quot;coordinates&quot;: [9.176104216825404, 39.21299523540668], &quot;type&quot;: &quot;Point&quot;}, &quot;id&quot;: &quot;893&quot;, &quot;properties&quot;: {}, &quot;type&quot;: &quot;Feature&quot;}, {&quot;bbox&quot;: [9.176093099997175, 39.21300938122992, 9.176093099997175, 39.21300938122992], &quot;geometry&quot;: {&quot;coordinates&quot;: [9.176093099997175, 39.21300938122992], &quot;type&quot;: &quot;Point&quot;}, &quot;id&quot;: &quot;894&quot;, &quot;properties&quot;: {}, &quot;type&quot;: &quot;Feature&quot;}, {&quot;bbox&quot;: [9.17609503335893, 39.2130069210868, 9.17609503335893, 39.2130069210868], &quot;geometry&quot;: {&quot;coordinates&quot;: [9.17609503335893, 39.2130069210868], &quot;type&quot;: &quot;Point&quot;}, &quot;id&quot;: &quot;895&quot;, &quot;properties&quot;: {}, &quot;type&quot;: &quot;Feature&quot;}, {&quot;bbox&quot;: [9.176037274118507, 39.21308041784751, 9.176037274118507, 39.21308041784751], &quot;geometry&quot;: {&quot;coordinates&quot;: [9.176037274118507, 39.21308041784751], &quot;type&quot;: &quot;Point&quot;}, &quot;id&quot;: &quot;897&quot;, &quot;properties&quot;: {}, &quot;type&quot;: &quot;Feature&quot;}, {&quot;bbox&quot;: [9.176088266592211, 39.213015531587466, 9.176088266592211, 39.213015531587466], &quot;geometry&quot;: {&quot;coordinates&quot;: [9.176088266592211, 39.213015531587466], &quot;type&quot;: &quot;Point&quot;}, &quot;id&quot;: &quot;898&quot;, &quot;properties&quot;: {}, &quot;type&quot;: &quot;Feature&quot;}, {&quot;bbox&quot;: [9.176148684093782, 39.212938652102935, 9.176148684093782, 39.212938652102935], &quot;geometry&quot;: {&quot;coordinates&quot;: [9.176148684093782, 39.212938652102935], &quot;type&quot;: &quot;Point&quot;}, &quot;id&quot;: &quot;899&quot;, &quot;properties&quot;: {}, &quot;type&quot;: &quot;Feature&quot;}, {&quot;bbox&quot;: [9.176141856922701, 39.212947339486306, 9.176141856922701, 39.212947339486306], &quot;geometry&quot;: {&quot;coordinates&quot;: [9.176141856922701, 39.212947339486306], &quot;type&quot;: &quot;Point&quot;}, &quot;id&quot;: &quot;900&quot;, &quot;properties&quot;: {}, &quot;type&quot;: &quot;Feature&quot;}, {&quot;bbox&quot;: [9.17615611543739, 39.212929195924126, 9.17615611543739, 39.212929195924126], &quot;geometry&quot;: {&quot;coordinates&quot;: [9.17615611543739, 39.212929195924126], &quot;type&quot;: &quot;Point&quot;}, &quot;id&quot;: &quot;901&quot;, &quot;properties&quot;: {}, &quot;type&quot;: &quot;Feature&quot;}, {&quot;bbox&quot;: [9.176120287884427, 39.21297478546467, 9.176120287884427, 39.21297478546467], &quot;geometry&quot;: {&quot;coordinates&quot;: [9.176120287884427, 39.21297478546467], &quot;type&quot;: &quot;Point&quot;}, &quot;id&quot;: &quot;903&quot;, &quot;properties&quot;: {}, &quot;type&quot;: &quot;Feature&quot;}, {&quot;bbox&quot;: [9.176132492216267, 39.21295925580794, 9.176132492216267, 39.21295925580794], &quot;geometry&quot;: {&quot;coordinates&quot;: [9.176132492216267, 39.21295925580794], &quot;type&quot;: &quot;Point&quot;}, &quot;id&quot;: &quot;904&quot;, &quot;properties&quot;: {}, &quot;type&quot;: &quot;Feature&quot;}, {&quot;bbox&quot;: [9.176101981376611, 39.21299807994731, 9.176101981376611, 39.21299807994731], &quot;geometry&quot;: {&quot;coordinates&quot;: [9.176101981376611, 39.21299807994731], &quot;type&quot;: &quot;Point&quot;}, &quot;id&quot;: &quot;905&quot;, &quot;properties&quot;: {}, &quot;type&quot;: &quot;Feature&quot;}, {&quot;bbox&quot;: [9.176038119965991, 39.213079341535334, 9.176038119965991, 39.213079341535334], &quot;geometry&quot;: {&quot;coordinates&quot;: [9.176038119965991, 39.213079341535334], &quot;type&quot;: &quot;Point&quot;}, &quot;id&quot;: &quot;906&quot;, &quot;properties&quot;: {}, &quot;type&quot;: &quot;Feature&quot;}, {&quot;bbox&quot;: [9.176170615614305, 39.212910744842105, 9.176170615614305, 39.212910744842105], &quot;geometry&quot;: {&quot;coordinates&quot;: [9.176170615614305, 39.212910744842105], &quot;type&quot;: &quot;Point&quot;}, &quot;id&quot;: &quot;907&quot;, &quot;properties&quot;: {}, &quot;type&quot;: &quot;Feature&quot;}, {&quot;bbox&quot;: [9.176101558453842, 39.212998618103626, 9.176101558453842, 39.212998618103626], &quot;geometry&quot;: {&quot;coordinates&quot;: [9.176101558453842, 39.212998618103626], &quot;type&quot;: &quot;Point&quot;}, &quot;id&quot;: &quot;908&quot;, &quot;properties&quot;: {}, &quot;type&quot;: &quot;Feature&quot;}, {&quot;bbox&quot;: [9.176089656196224, 39.21301376335971, 9.176089656196224, 39.21301376335971], &quot;geometry&quot;: {&quot;coordinates&quot;: [9.176089656196224, 39.21301376335971], &quot;type&quot;: &quot;Point&quot;}, &quot;id&quot;: &quot;909&quot;, &quot;properties&quot;: {}, &quot;type&quot;: &quot;Feature&quot;}, {&quot;bbox&quot;: [9.176112614861166, 39.21298454915905, 9.176112614861166, 39.21298454915905], &quot;geometry&quot;: {&quot;coordinates&quot;: [9.176112614861166, 39.21298454915905], &quot;type&quot;: &quot;Point&quot;}, &quot;id&quot;: &quot;910&quot;, &quot;properties&quot;: {}, &quot;type&quot;: &quot;Feature&quot;}, {&quot;bbox&quot;: [9.176141494417992, 39.21294780076328, 9.176141494417992, 39.21294780076328], &quot;geometry&quot;: {&quot;coordinates&quot;: [9.176141494417992, 39.21294780076328], &quot;type&quot;: &quot;Point&quot;}, &quot;id&quot;: &quot;911&quot;, &quot;properties&quot;: {}, &quot;type&quot;: &quot;Feature&quot;}, {&quot;bbox&quot;: [9.176142400679746, 39.21294664757081, 9.176142400679746, 39.21294664757081], &quot;geometry&quot;: {&quot;coordinates&quot;: [9.176142400679746, 39.21294664757081], &quot;type&quot;: &quot;Point&quot;}, &quot;id&quot;: &quot;912&quot;, &quot;properties&quot;: {}, &quot;type&quot;: &quot;Feature&quot;}, {&quot;bbox&quot;: [9.176156236272229, 39.21292904216511, 9.176156236272229, 39.21292904216511], &quot;geometry&quot;: {&quot;coordinates&quot;: [9.176156236272229, 39.21292904216511], &quot;type&quot;: &quot;Point&quot;}, &quot;id&quot;: &quot;913&quot;, &quot;properties&quot;: {}, &quot;type&quot;: &quot;Feature&quot;}, {&quot;bbox&quot;: [9.176161975926467, 39.21292173861203, 9.176161975926467, 39.21292173861203], &quot;geometry&quot;: {&quot;coordinates&quot;: [9.176161975926467, 39.21292173861203], &quot;type&quot;: &quot;Point&quot;}, &quot;id&quot;: &quot;915&quot;, &quot;properties&quot;: {}, &quot;type&quot;: &quot;Feature&quot;}, {&quot;bbox&quot;: [9.176146690318328, 39.21294118912642, 9.176146690318328, 39.21294118912642], &quot;geometry&quot;: {&quot;coordinates&quot;: [9.176146690318328, 39.21294118912642], &quot;type&quot;: &quot;Point&quot;}, &quot;id&quot;: &quot;917&quot;, &quot;properties&quot;: {}, &quot;type&quot;: &quot;Feature&quot;}, {&quot;bbox&quot;: [9.176152490391972, 39.21293380869433, 9.176152490391972, 39.21293380869433], &quot;geometry&quot;: {&quot;coordinates&quot;: [9.176152490391972, 39.21293380869433], &quot;type&quot;: &quot;Point&quot;}, &quot;id&quot;: &quot;919&quot;, &quot;properties&quot;: {}, &quot;type&quot;: &quot;Feature&quot;}, {&quot;bbox&quot;: [9.176167957249103, 39.212914127540614, 9.176167957249103, 39.212914127540614], &quot;geometry&quot;: {&quot;coordinates&quot;: [9.176167957249103, 39.212914127540614], &quot;type&quot;: &quot;Point&quot;}, &quot;id&quot;: &quot;920&quot;, &quot;properties&quot;: {}, &quot;type&quot;: &quot;Feature&quot;}, {&quot;bbox&quot;: [9.17613931938965, 39.21295056842513, 9.17613931938965, 39.21295056842513], &quot;geometry&quot;: {&quot;coordinates&quot;: [9.17613931938965, 39.21295056842513], &quot;type&quot;: &quot;Point&quot;}, &quot;id&quot;: &quot;921&quot;, &quot;properties&quot;: {}, &quot;type&quot;: &quot;Feature&quot;}, {&quot;bbox&quot;: [9.176142038175048, 39.21294710884779, 9.176142038175048, 39.21294710884779], &quot;geometry&quot;: {&quot;coordinates&quot;: [9.176142038175048, 39.21294710884779], &quot;type&quot;: &quot;Point&quot;}, &quot;id&quot;: &quot;922&quot;, &quot;properties&quot;: {}, &quot;type&quot;: &quot;Feature&quot;}, {&quot;bbox&quot;: [9.176146509066008, 39.212941419764945, 9.176146509066008, 39.212941419764945], &quot;geometry&quot;: {&quot;coordinates&quot;: [9.176146509066008, 39.212941419764945], &quot;type&quot;: &quot;Point&quot;}, &quot;id&quot;: &quot;923&quot;, &quot;properties&quot;: {}, &quot;type&quot;: &quot;Feature&quot;}, {&quot;bbox&quot;: [9.176127175478307, 39.212966021203115, 9.176127175478307, 39.212966021203115], &quot;geometry&quot;: {&quot;coordinates&quot;: [9.176127175478307, 39.212966021203115], &quot;type&quot;: &quot;Point&quot;}, &quot;id&quot;: &quot;926&quot;, &quot;properties&quot;: {}, &quot;type&quot;: &quot;Feature&quot;}, {&quot;bbox&quot;: [9.17612965259498, 39.21296286914402, 9.17612965259498, 39.21296286914402], &quot;geometry&quot;: {&quot;coordinates&quot;: [9.17612965259498, 39.21296286914402], &quot;type&quot;: &quot;Point&quot;}, &quot;id&quot;: &quot;927&quot;, &quot;properties&quot;: {}, &quot;type&quot;: &quot;Feature&quot;}, {&quot;bbox&quot;: [9.176105666846151, 39.21299339029921, 9.176105666846151, 39.21299339029921], &quot;geometry&quot;: {&quot;coordinates&quot;: [9.176105666846151, 39.21299339029921], &quot;type&quot;: &quot;Point&quot;}, &quot;id&quot;: &quot;928&quot;, &quot;properties&quot;: {}, &quot;type&quot;: &quot;Feature&quot;}, {&quot;bbox&quot;: [9.17603334696913, 39.21308541501115, 9.17603334696913, 39.21308541501115], &quot;geometry&quot;: {&quot;coordinates&quot;: [9.17603334696913, 39.21308541501115], &quot;type&quot;: &quot;Point&quot;}, &quot;id&quot;: &quot;929&quot;, &quot;properties&quot;: {}, &quot;type&quot;: &quot;Feature&quot;}, {&quot;bbox&quot;: [9.176105485593563, 39.212993620937645, 9.176105485593563, 39.212993620937645], &quot;geometry&quot;: {&quot;coordinates&quot;: [9.176105485593563, 39.212993620937645], &quot;type&quot;: &quot;Point&quot;}, &quot;id&quot;: &quot;930&quot;, &quot;properties&quot;: {}, &quot;type&quot;: &quot;Feature&quot;}, {&quot;bbox&quot;: [9.176131102614397, 39.21296102403623, 9.176131102614397, 39.21296102403623], &quot;geometry&quot;: {&quot;coordinates&quot;: [9.176131102614397, 39.21296102403623], &quot;type&quot;: &quot;Point&quot;}, &quot;id&quot;: &quot;931&quot;, &quot;properties&quot;: {}, &quot;type&quot;: &quot;Feature&quot;}, {&quot;bbox&quot;: [9.176149469520436, 39.21293765266942, 9.176149469520436, 39.21293765266942], &quot;geometry&quot;: {&quot;coordinates&quot;: [9.176149469520436, 39.21293765266942], &quot;type&quot;: &quot;Point&quot;}, &quot;id&quot;: &quot;932&quot;, &quot;properties&quot;: {}, &quot;type&quot;: &quot;Feature&quot;}, {&quot;bbox&quot;: [9.176121133729383, 39.21297370915187, 9.176121133729383, 39.21297370915187], &quot;geometry&quot;: {&quot;coordinates&quot;: [9.176121133729383, 39.21297370915187], &quot;type&quot;: &quot;Point&quot;}, &quot;id&quot;: &quot;933&quot;, &quot;properties&quot;: {}, &quot;type&quot;: &quot;Feature&quot;}, {&quot;bbox&quot;: [9.176141131913278, 39.21294826204026, 9.176141131913278, 39.21294826204026], &quot;geometry&quot;: {&quot;coordinates&quot;: [9.176141131913278, 39.21294826204026], &quot;type&quot;: &quot;Point&quot;}, &quot;id&quot;: &quot;934&quot;, &quot;properties&quot;: {}, &quot;type&quot;: &quot;Feature&quot;}, {&quot;bbox&quot;: [9.17613931938965, 39.21295056842513, 9.17613931938965, 39.21295056842513], &quot;geometry&quot;: {&quot;coordinates&quot;: [9.17613931938965, 39.21295056842513], &quot;type&quot;: &quot;Point&quot;}, &quot;id&quot;: &quot;935&quot;, &quot;properties&quot;: {}, &quot;type&quot;: &quot;Feature&quot;}, {&quot;bbox&quot;: [9.176094127095626, 39.21300807427889, 9.176094127095626, 39.21300807427889], &quot;geometry&quot;: {&quot;coordinates&quot;: [9.176094127095626, 39.21300807427889], &quot;type&quot;: &quot;Point&quot;}, &quot;id&quot;: &quot;936&quot;, &quot;properties&quot;: {}, &quot;type&quot;: &quot;Feature&quot;}, {&quot;bbox&quot;: [9.17608409777975, 39.213020836270736, 9.17608409777975, 39.213020836270736], &quot;geometry&quot;: {&quot;coordinates&quot;: [9.17608409777975, 39.213020836270736], &quot;type&quot;: &quot;Point&quot;}, &quot;id&quot;: &quot;937&quot;, &quot;properties&quot;: {}, &quot;type&quot;: &quot;Feature&quot;}, {&quot;bbox&quot;: [9.176101920959074, 39.212998156826785, 9.176101920959074, 39.212998156826785], &quot;geometry&quot;: {&quot;coordinates&quot;: [9.176101920959074, 39.212998156826785], &quot;type&quot;: &quot;Point&quot;}, &quot;id&quot;: &quot;938&quot;, &quot;properties&quot;: {}, &quot;type&quot;: &quot;Feature&quot;}, {&quot;bbox&quot;: [9.176099443839922, 39.213001308885254, 9.176099443839922, 39.213001308885254], &quot;geometry&quot;: {&quot;coordinates&quot;: [9.176099443839922, 39.213001308885254], &quot;type&quot;: &quot;Point&quot;}, &quot;id&quot;: &quot;939&quot;, &quot;properties&quot;: {}, &quot;type&quot;: &quot;Feature&quot;}, {&quot;bbox&quot;: [9.176105787681209, 39.212993236540264, 9.176105787681209, 39.212993236540264], &quot;geometry&quot;: {&quot;coordinates&quot;: [9.176105787681209, 39.212993236540264], &quot;type&quot;: &quot;Point&quot;}, &quot;id&quot;: &quot;941&quot;, &quot;properties&quot;: {}, &quot;type&quot;: &quot;Feature&quot;}, {&quot;bbox&quot;: [9.17613931938965, 39.21295056842513, 9.17613931938965, 39.21295056842513], &quot;geometry&quot;: {&quot;coordinates&quot;: [9.17613931938965, 39.21295056842513], &quot;type&quot;: &quot;Point&quot;}, &quot;id&quot;: &quot;942&quot;, &quot;properties&quot;: {}, &quot;type&quot;: &quot;Feature&quot;}, {&quot;bbox&quot;: [9.176106452274023, 39.212992390866006, 9.176106452274023, 39.212992390866006], &quot;geometry&quot;: {&quot;coordinates&quot;: [9.176106452274023, 39.212992390866006], &quot;type&quot;: &quot;Point&quot;}, &quot;id&quot;: &quot;943&quot;, &quot;properties&quot;: {}, &quot;type&quot;: &quot;Feature&quot;}, {&quot;bbox&quot;: [9.176136479769065, 39.2129541817614, 9.176136479769065, 39.2129541817614], &quot;geometry&quot;: {&quot;coordinates&quot;: [9.176136479769065, 39.2129541817614], &quot;type&quot;: &quot;Point&quot;}, &quot;id&quot;: &quot;944&quot;, &quot;properties&quot;: {}, &quot;type&quot;: &quot;Feature&quot;}, {&quot;bbox&quot;: [9.17610633143897, 39.212992544624974, 9.17610633143897, 39.212992544624974], &quot;geometry&quot;: {&quot;coordinates&quot;: [9.17610633143897, 39.212992544624974], &quot;type&quot;: &quot;Point&quot;}, &quot;id&quot;: &quot;946&quot;, &quot;properties&quot;: {}, &quot;type&quot;: &quot;Feature&quot;}, {&quot;bbox&quot;: [9.17603383031062, 39.213084799975626, 9.17603383031062, 39.213084799975626], &quot;geometry&quot;: {&quot;coordinates&quot;: [9.17603383031062, 39.213084799975626], &quot;type&quot;: &quot;Point&quot;}, &quot;id&quot;: &quot;947&quot;, &quot;properties&quot;: {}, &quot;type&quot;: &quot;Feature&quot;}, {&quot;bbox&quot;: [9.176090199954297, 39.2130130714445, 9.176090199954297, 39.2130130714445], &quot;geometry&quot;: {&quot;coordinates&quot;: [9.176090199954297, 39.2130130714445], &quot;type&quot;: &quot;Point&quot;}, &quot;id&quot;: &quot;949&quot;, &quot;properties&quot;: {}, &quot;type&quot;: &quot;Feature&quot;}, {&quot;bbox&quot;: [9.176101135531072, 39.21299915625997, 9.176101135531072, 39.21299915625997], &quot;geometry&quot;: {&quot;coordinates&quot;: [9.176101135531072, 39.21299915625997], &quot;type&quot;: &quot;Point&quot;}, &quot;id&quot;: &quot;950&quot;, &quot;properties&quot;: {}, &quot;type&quot;: &quot;Feature&quot;}, {&quot;bbox&quot;: [9.176108325217324, 39.212990007602166, 9.176108325217324, 39.212990007602166], &quot;geometry&quot;: {&quot;coordinates&quot;: [9.176108325217324, 39.212990007602166], &quot;type&quot;: &quot;Point&quot;}, &quot;id&quot;: &quot;951&quot;, &quot;properties&quot;: {}, &quot;type&quot;: &quot;Feature&quot;}, {&quot;bbox&quot;: [9.17610923148016, 39.21298885440998, 9.17610923148016, 39.21298885440998], &quot;geometry&quot;: {&quot;coordinates&quot;: [9.17610923148016, 39.21298885440998], &quot;type&quot;: &quot;Point&quot;}, &quot;id&quot;: &quot;952&quot;, &quot;properties&quot;: {}, &quot;type&quot;: &quot;Feature&quot;}, {&quot;bbox&quot;: [9.176128444245412, 39.21296440673383, 9.176128444245412, 39.21296440673383], &quot;geometry&quot;: {&quot;coordinates&quot;: [9.176128444245412, 39.21296440673383], &quot;type&quot;: &quot;Point&quot;}, &quot;id&quot;: &quot;953&quot;, &quot;properties&quot;: {}, &quot;type&quot;: &quot;Feature&quot;}, {&quot;bbox&quot;: [9.176103310562407, 39.212996388598825, 9.176103310562407, 39.212996388598825], &quot;geometry&quot;: {&quot;coordinates&quot;: [9.176103310562407, 39.212996388598825], &quot;type&quot;: &quot;Point&quot;}, &quot;id&quot;: &quot;954&quot;, &quot;properties&quot;: {}, &quot;type&quot;: &quot;Feature&quot;}, {&quot;bbox&quot;: [9.176144454872952, 39.212944033667895, 9.176144454872952, 39.212944033667895], &quot;geometry&quot;: {&quot;coordinates&quot;: [9.176144454872952, 39.212944033667895], &quot;type&quot;: &quot;Point&quot;}, &quot;id&quot;: &quot;955&quot;, &quot;properties&quot;: {}, &quot;type&quot;: &quot;Feature&quot;}, {&quot;bbox&quot;: [9.176112010686023, 39.21298531795388, 9.176112010686023, 39.21298531795388], &quot;geometry&quot;: {&quot;coordinates&quot;: [9.176112010686023, 39.21298531795388], &quot;type&quot;: &quot;Point&quot;}, &quot;id&quot;: &quot;956&quot;, &quot;properties&quot;: {}, &quot;type&quot;: &quot;Feature&quot;}, {&quot;bbox&quot;: [9.176140829826016, 39.212948646437724, 9.176140829826016, 39.212948646437724], &quot;geometry&quot;: {&quot;coordinates&quot;: [9.176140829826016, 39.212948646437724], &quot;type&quot;: &quot;Point&quot;}, &quot;id&quot;: &quot;957&quot;, &quot;properties&quot;: {}, &quot;type&quot;: &quot;Feature&quot;}, {&quot;bbox&quot;: [9.17610627102144, 39.21299262150444, 9.17610627102144, 39.21299262150444], &quot;geometry&quot;: {&quot;coordinates&quot;: [9.17610627102144, 39.21299262150444], &quot;type&quot;: &quot;Point&quot;}, &quot;id&quot;: &quot;958&quot;, &quot;properties&quot;: {}, &quot;type&quot;: &quot;Feature&quot;}, {&quot;bbox&quot;: [9.17613291513856, 39.212958717651496, 9.17613291513856, 39.212958717651496], &quot;geometry&quot;: {&quot;coordinates&quot;: [9.17613291513856, 39.212958717651496], &quot;type&quot;: &quot;Point&quot;}, &quot;id&quot;: &quot;959&quot;, &quot;properties&quot;: {}, &quot;type&quot;: &quot;Feature&quot;}, {&quot;bbox&quot;: [9.176113823211429, 39.2129830115694, 9.176113823211429, 39.2129830115694], &quot;geometry&quot;: {&quot;coordinates&quot;: [9.176113823211429, 39.2129830115694], &quot;type&quot;: &quot;Point&quot;}, &quot;id&quot;: &quot;960&quot;, &quot;properties&quot;: {}, &quot;type&quot;: &quot;Feature&quot;}, {&quot;bbox&quot;: [9.17616711140558, 39.212915203853754, 9.17616711140558, 39.212915203853754], &quot;geometry&quot;: {&quot;coordinates&quot;: [9.17616711140558, 39.212915203853754], &quot;type&quot;: &quot;Point&quot;}, &quot;id&quot;: &quot;961&quot;, &quot;properties&quot;: {}, &quot;type&quot;: &quot;Feature&quot;}, {&quot;bbox&quot;: [9.176139561059479, 39.21295026090715, 9.176139561059479, 39.21295026090715], &quot;geometry&quot;: {&quot;coordinates&quot;: [9.176139561059479, 39.21295026090715], &quot;type&quot;: &quot;Point&quot;}, &quot;id&quot;: &quot;962&quot;, &quot;properties&quot;: {}, &quot;type&quot;: &quot;Feature&quot;}, {&quot;bbox&quot;: [9.176100410520592, 39.21300007881366, 9.176100410520592, 39.21300007881366], &quot;geometry&quot;: {&quot;coordinates&quot;: [9.176100410520592, 39.21300007881366], &quot;type&quot;: &quot;Point&quot;}, &quot;id&quot;: &quot;963&quot;, &quot;properties&quot;: {}, &quot;type&quot;: &quot;Feature&quot;}, {&quot;bbox&quot;: [9.176084037362173, 39.2130209131502, 9.176084037362173, 39.2130209131502], &quot;geometry&quot;: {&quot;coordinates&quot;: [9.176084037362173, 39.2130209131502], &quot;type&quot;: &quot;Point&quot;}, &quot;id&quot;: &quot;964&quot;, &quot;properties&quot;: {}, &quot;type&quot;: &quot;Feature&quot;}, {&quot;bbox&quot;: [9.176103370979934, 39.21299631171935, 9.176103370979934, 39.21299631171935], &quot;geometry&quot;: {&quot;coordinates&quot;: [9.176103370979934, 39.21299631171935], &quot;type&quot;: &quot;Point&quot;}, &quot;id&quot;: &quot;965&quot;, &quot;properties&quot;: {}, &quot;type&quot;: &quot;Feature&quot;}, {&quot;bbox&quot;: [9.17609467085361, 39.21300738236365, 9.17609467085361, 39.21300738236365], &quot;geometry&quot;: {&quot;coordinates&quot;: [9.17609467085361, 39.21300738236365], &quot;type&quot;: &quot;Point&quot;}, &quot;id&quot;: &quot;967&quot;, &quot;properties&quot;: {}, &quot;type&quot;: &quot;Feature&quot;}, {&quot;bbox&quot;: [9.176101195948611, 39.21299907938049, 9.176101195948611, 39.21299907938049], &quot;geometry&quot;: {&quot;coordinates&quot;: [9.176101195948611, 39.21299907938049], &quot;type&quot;: &quot;Point&quot;}, &quot;id&quot;: &quot;968&quot;, &quot;properties&quot;: {}, &quot;type&quot;: &quot;Feature&quot;}, {&quot;bbox&quot;: [9.176036790777076, 39.21308103288304, 9.176036790777076, 39.21308103288304], &quot;geometry&quot;: {&quot;coordinates&quot;: [9.176036790777076, 39.21308103288304], &quot;type&quot;: &quot;Point&quot;}, &quot;id&quot;: &quot;969&quot;, &quot;properties&quot;: {}, &quot;type&quot;: &quot;Feature&quot;}, {&quot;bbox&quot;: [9.176092677074278, 39.2130099193862, 9.176092677074278, 39.2130099193862], &quot;geometry&quot;: {&quot;coordinates&quot;: [9.176092677074278, 39.2130099193862], &quot;type&quot;: &quot;Point&quot;}, &quot;id&quot;: &quot;970&quot;, &quot;properties&quot;: {}, &quot;type&quot;: &quot;Feature&quot;}, {&quot;bbox&quot;: [9.176098839664485, 39.21300207768001, 9.176098839664485, 39.21300207768001], &quot;geometry&quot;: {&quot;coordinates&quot;: [9.176098839664485, 39.21300207768001], &quot;type&quot;: &quot;Point&quot;}, &quot;id&quot;: &quot;971&quot;, &quot;properties&quot;: {}, &quot;type&quot;: &quot;Feature&quot;}, {&quot;bbox&quot;: [9.176107902294653, 39.21299054575853, 9.176107902294653, 39.21299054575853], &quot;geometry&quot;: {&quot;coordinates&quot;: [9.176107902294653, 39.21299054575853], &quot;type&quot;: &quot;Point&quot;}, &quot;id&quot;: &quot;973&quot;, &quot;properties&quot;: {}, &quot;type&quot;: &quot;Feature&quot;}, {&quot;bbox&quot;: [9.176129531760028, 39.21296302290301, 9.176129531760028, 39.21296302290301], &quot;geometry&quot;: {&quot;coordinates&quot;: [9.176129531760028, 39.21296302290301], &quot;type&quot;: &quot;Point&quot;}, &quot;id&quot;: &quot;974&quot;, &quot;properties&quot;: {}, &quot;type&quot;: &quot;Feature&quot;}, {&quot;bbox&quot;: [9.176106814779189, 39.21299192958912, 9.176106814779189, 39.21299192958912], &quot;geometry&quot;: {&quot;coordinates&quot;: [9.176106814779189, 39.21299192958912], &quot;type&quot;: &quot;Point&quot;}, &quot;id&quot;: &quot;976&quot;, &quot;properties&quot;: {}, &quot;type&quot;: &quot;Feature&quot;}, {&quot;bbox&quot;: [9.1761236108466, 39.21297055709291, 9.1761236108466, 39.21297055709291], &quot;geometry&quot;: {&quot;coordinates&quot;: [9.1761236108466, 39.21297055709291], &quot;type&quot;: &quot;Point&quot;}, &quot;id&quot;: &quot;979&quot;, &quot;properties&quot;: {}, &quot;type&quot;: &quot;Feature&quot;}, {&quot;bbox&quot;: [9.17616723224037, 39.21291505009474, 9.17616723224037, 39.21291505009474], &quot;geometry&quot;: {&quot;coordinates&quot;: [9.17616723224037, 39.21291505009474], &quot;type&quot;: &quot;Point&quot;}, &quot;id&quot;: &quot;980&quot;, &quot;properties&quot;: {}, &quot;type&quot;: &quot;Feature&quot;}, {&quot;bbox&quot;: [9.17620753061383, 39.21286377145416, 9.17620753061383, 39.21286377145416], &quot;geometry&quot;: {&quot;coordinates&quot;: [9.17620753061383, 39.21286377145416], &quot;type&quot;: &quot;Point&quot;}, &quot;id&quot;: &quot;981&quot;, &quot;properties&quot;: {}, &quot;type&quot;: &quot;Feature&quot;}, {&quot;bbox&quot;: [9.176172609388036, 39.212908207818195, 9.176172609388036, 39.212908207818195], &quot;geometry&quot;: {&quot;coordinates&quot;: [9.176172609388036, 39.212908207818195], &quot;type&quot;: &quot;Point&quot;}, &quot;id&quot;: &quot;982&quot;, &quot;properties&quot;: {}, &quot;type&quot;: &quot;Feature&quot;}, {&quot;bbox&quot;: [9.176198286764226, 39.212875534022146, 9.176198286764226, 39.212875534022146], &quot;geometry&quot;: {&quot;coordinates&quot;: [9.176198286764226, 39.212875534022146], &quot;type&quot;: &quot;Point&quot;}, &quot;id&quot;: &quot;983&quot;, &quot;properties&quot;: {}, &quot;type&quot;: &quot;Feature&quot;}, {&quot;bbox&quot;: [9.176075760152951, 39.213031445636794, 9.176075760152951, 39.213031445636794], &quot;geometry&quot;: {&quot;coordinates&quot;: [9.176075760152951, 39.213031445636794], &quot;type&quot;: &quot;Point&quot;}, &quot;id&quot;: &quot;984&quot;, &quot;properties&quot;: {}, &quot;type&quot;: &quot;Feature&quot;}, {&quot;bbox&quot;: [9.176101437618765, 39.212998771862594, 9.176101437618765, 39.212998771862594], &quot;geometry&quot;: {&quot;coordinates&quot;: [9.176101437618765, 39.212998771862594], &quot;type&quot;: &quot;Point&quot;}, &quot;id&quot;: &quot;985&quot;, &quot;properties&quot;: {}, &quot;type&quot;: &quot;Feature&quot;}, {&quot;bbox&quot;: [9.176121254564375, 39.21297355539289, 9.176121254564375, 39.21297355539289], &quot;geometry&quot;: {&quot;coordinates&quot;: [9.176121254564375, 39.21297355539289], &quot;type&quot;: &quot;Point&quot;}, &quot;id&quot;: &quot;987&quot;, &quot;properties&quot;: {}, &quot;type&quot;: &quot;Feature&quot;}, {&quot;bbox&quot;: [9.176069960063263, 39.21303882606499, 9.176069960063263, 39.21303882606499], &quot;geometry&quot;: {&quot;coordinates&quot;: [9.176069960063263, 39.21303882606499], &quot;type&quot;: &quot;Point&quot;}, &quot;id&quot;: &quot;988&quot;, &quot;properties&quot;: {}, &quot;type&quot;: &quot;Feature&quot;}, {&quot;bbox&quot;: [9.176074551801031, 39.213032983226, 9.176074551801031, 39.213032983226], &quot;geometry&quot;: {&quot;coordinates&quot;: [9.176074551801031, 39.213032983226], &quot;type&quot;: &quot;Point&quot;}, &quot;id&quot;: &quot;989&quot;, &quot;properties&quot;: {}, &quot;type&quot;: &quot;Feature&quot;}, {&quot;bbox&quot;: [9.176082587340298, 39.21302275825738, 9.176082587340298, 39.21302275825738], &quot;geometry&quot;: {&quot;coordinates&quot;: [9.176082587340298, 39.21302275825738], &quot;type&quot;: &quot;Point&quot;}, &quot;id&quot;: &quot;990&quot;, &quot;properties&quot;: {}, &quot;type&quot;: &quot;Feature&quot;}, {&quot;bbox&quot;: [9.17614312568913, 39.212945725016844, 9.17614312568913, 39.212945725016844], &quot;geometry&quot;: {&quot;coordinates&quot;: [9.17614312568913, 39.212945725016844], &quot;type&quot;: &quot;Point&quot;}, &quot;id&quot;: &quot;991&quot;, &quot;properties&quot;: {}, &quot;type&quot;: &quot;Feature&quot;}, {&quot;bbox&quot;: [9.176035642841141, 39.213082493592424, 9.176035642841141, 39.213082493592424], &quot;geometry&quot;: {&quot;coordinates&quot;: [9.176035642841141, 39.213082493592424], &quot;type&quot;: &quot;Point&quot;}, &quot;id&quot;: &quot;993&quot;, &quot;properties&quot;: {}, &quot;type&quot;: &quot;Feature&quot;}, {&quot;bbox&quot;: [9.176040234584587, 39.21307665075482, 9.176040234584587, 39.21307665075482], &quot;geometry&quot;: {&quot;coordinates&quot;: [9.176040234584587, 39.21307665075482], &quot;type&quot;: &quot;Point&quot;}, &quot;id&quot;: &quot;994&quot;, &quot;properties&quot;: {}, &quot;type&quot;: &quot;Feature&quot;}, {&quot;bbox&quot;: [9.176080593560094, 39.21302529527973, 9.176080593560094, 39.21302529527973], &quot;geometry&quot;: {&quot;coordinates&quot;: [9.176080593560094, 39.21302529527973], &quot;type&quot;: &quot;Point&quot;}, &quot;id&quot;: &quot;995&quot;, &quot;properties&quot;: {}, &quot;type&quot;: &quot;Feature&quot;}, {&quot;bbox&quot;: [9.17609503335893, 39.2130069210868, 9.17609503335893, 39.2130069210868], &quot;geometry&quot;: {&quot;coordinates&quot;: [9.17609503335893, 39.2130069210868], &quot;type&quot;: &quot;Point&quot;}, &quot;id&quot;: &quot;997&quot;, &quot;properties&quot;: {}, &quot;type&quot;: &quot;Feature&quot;}, {&quot;bbox&quot;: [9.176102706387049, 39.21299715739358, 9.176102706387049, 39.21299715739358], &quot;geometry&quot;: {&quot;coordinates&quot;: [9.176102706387049, 39.21299715739358], &quot;type&quot;: &quot;Point&quot;}, &quot;id&quot;: &quot;998&quot;, &quot;properties&quot;: {}, &quot;type&quot;: &quot;Feature&quot;}, {&quot;bbox&quot;: [9.176147475745038, 39.21294018969292, 9.176147475745038, 39.21294018969292], &quot;geometry&quot;: {&quot;coordinates&quot;: [9.176147475745038, 39.21294018969292], &quot;type&quot;: &quot;Point&quot;}, &quot;id&quot;: &quot;999&quot;, &quot;properties&quot;: {}, &quot;type&quot;: &quot;Feature&quot;}, {&quot;bbox&quot;: [9.176095214611587, 39.2130066904484, 9.176095214611587, 39.2130066904484], &quot;geometry&quot;: {&quot;coordinates&quot;: [9.176095214611587, 39.2130066904484], &quot;type&quot;: &quot;Point&quot;}, &quot;id&quot;: &quot;1001&quot;, &quot;properties&quot;: {}, &quot;type&quot;: &quot;Feature&quot;}, {&quot;bbox&quot;: [9.176137023526222, 39.21295348984594, 9.176137023526222, 39.21295348984594], &quot;geometry&quot;: {&quot;coordinates&quot;: [9.176137023526222, 39.21295348984594], &quot;type&quot;: &quot;Point&quot;}, &quot;id&quot;: &quot;1002&quot;, &quot;properties&quot;: {}, &quot;type&quot;: &quot;Feature&quot;}, {&quot;bbox&quot;: [9.176092737491834, 39.21300984250673, 9.176092737491834, 39.21300984250673], &quot;geometry&quot;: {&quot;coordinates&quot;: [9.176092737491834, 39.21300984250673], &quot;type&quot;: &quot;Point&quot;}, &quot;id&quot;: &quot;1003&quot;, &quot;properties&quot;: {}, &quot;type&quot;: &quot;Feature&quot;}, {&quot;bbox&quot;: [9.176128927585246, 39.212963791697916, 9.176128927585246, 39.212963791697916], &quot;geometry&quot;: {&quot;coordinates&quot;: [9.176128927585246, 39.212963791697916], &quot;type&quot;: &quot;Point&quot;}, &quot;id&quot;: &quot;1004&quot;, &quot;properties&quot;: {}, &quot;type&quot;: &quot;Feature&quot;}, {&quot;bbox&quot;: [9.176107902294653, 39.21299054575853, 9.176107902294653, 39.21299054575853], &quot;geometry&quot;: {&quot;coordinates&quot;: [9.176107902294653, 39.21299054575853], &quot;type&quot;: &quot;Point&quot;}, &quot;id&quot;: &quot;1005&quot;, &quot;properties&quot;: {}, &quot;type&quot;: &quot;Feature&quot;}, {&quot;bbox&quot;: [9.176108566887414, 39.21298970008425, 9.176108566887414, 39.21298970008425], &quot;geometry&quot;: {&quot;coordinates&quot;: [9.176108566887414, 39.21298970008425], &quot;type&quot;: &quot;Point&quot;}, &quot;id&quot;: &quot;1006&quot;, &quot;properties&quot;: {}, &quot;type&quot;: &quot;Feature&quot;}, {&quot;bbox&quot;: [9.176116360746803, 39.212979782631166, 9.176116360746803, 39.212979782631166], &quot;geometry&quot;: {&quot;coordinates&quot;: [9.176116360746803, 39.212979782631166], &quot;type&quot;: &quot;Point&quot;}, &quot;id&quot;: &quot;1007&quot;, &quot;properties&quot;: {}, &quot;type&quot;: &quot;Feature&quot;}, {&quot;bbox&quot;: [9.176099020917116, 39.21300184704158, 9.176099020917116, 39.21300184704158], &quot;geometry&quot;: {&quot;coordinates&quot;: [9.176099020917116, 39.21300184704158], &quot;type&quot;: &quot;Point&quot;}, &quot;id&quot;: &quot;1008&quot;, &quot;properties&quot;: {}, &quot;type&quot;: &quot;Feature&quot;}, {&quot;bbox&quot;: [9.176108506469891, 39.21298977696373, 9.176108506469891, 39.21298977696373], &quot;geometry&quot;: {&quot;coordinates&quot;: [9.176108506469891, 39.21298977696373], &quot;type&quot;: &quot;Point&quot;}, &quot;id&quot;: &quot;1009&quot;, &quot;properties&quot;: {}, &quot;type&quot;: &quot;Feature&quot;}, {&quot;bbox&quot;: [9.176138956884913, 39.212951029702104, 9.176138956884913, 39.212951029702104], &quot;geometry&quot;: {&quot;coordinates&quot;: [9.176138956884913, 39.212951029702104], &quot;type&quot;: &quot;Point&quot;}, &quot;id&quot;: &quot;1010&quot;, &quot;properties&quot;: {}, &quot;type&quot;: &quot;Feature&quot;}, {&quot;bbox&quot;: [9.176150677869092, 39.2129361150794, 9.176150677869092, 39.2129361150794], &quot;geometry&quot;: {&quot;coordinates&quot;: [9.176150677869092, 39.2129361150794], &quot;type&quot;: &quot;Point&quot;}, &quot;id&quot;: &quot;1011&quot;, &quot;properties&quot;: {}, &quot;type&quot;: &quot;Feature&quot;}, {&quot;bbox&quot;: [9.176104095990341, 39.212995389165634, 9.176104095990341, 39.212995389165634], &quot;geometry&quot;: {&quot;coordinates&quot;: [9.176104095990341, 39.212995389165634], &quot;type&quot;: &quot;Point&quot;}, &quot;id&quot;: &quot;1012&quot;, &quot;properties&quot;: {}, &quot;type&quot;: &quot;Feature&quot;}, {&quot;bbox&quot;: [9.176111225258305, 39.21298631738713, 9.176111225258305, 39.21298631738713], &quot;geometry&quot;: {&quot;coordinates&quot;: [9.176111225258305, 39.21298631738713], &quot;type&quot;: &quot;Point&quot;}, &quot;id&quot;: &quot;1013&quot;, &quot;properties&quot;: {}, &quot;type&quot;: &quot;Feature&quot;}, {&quot;bbox&quot;: [9.17614143400054, 39.21294787764275, 9.17614143400054, 39.21294787764275], &quot;geometry&quot;: {&quot;coordinates&quot;: [9.17614143400054, 39.21294787764275], &quot;type&quot;: &quot;Point&quot;}, &quot;id&quot;: &quot;1014&quot;, &quot;properties&quot;: {}, &quot;type&quot;: &quot;Feature&quot;}, {&quot;bbox&quot;: [9.176139923564207, 39.21294979963018, 9.176139923564207, 39.21294979963018], &quot;geometry&quot;: {&quot;coordinates&quot;: [9.176139923564207, 39.21294979963018], &quot;type&quot;: &quot;Point&quot;}, &quot;id&quot;: &quot;1016&quot;, &quot;properties&quot;: {}, &quot;type&quot;: &quot;Feature&quot;}, {&quot;bbox&quot;: [9.176161855091658, 39.21292189237105, 9.176161855091658, 39.21292189237105], &quot;geometry&quot;: {&quot;coordinates&quot;: [9.176161855091658, 39.21292189237105], &quot;type&quot;: &quot;Point&quot;}, &quot;id&quot;: &quot;1018&quot;, &quot;properties&quot;: {}, &quot;type&quot;: &quot;Feature&quot;}, {&quot;bbox&quot;: [9.176108385634842, 39.212989930722685, 9.176108385634842, 39.212989930722685], &quot;geometry&quot;: {&quot;coordinates&quot;: [9.176108385634842, 39.212989930722685], &quot;type&quot;: &quot;Point&quot;}, &quot;id&quot;: &quot;1019&quot;, &quot;properties&quot;: {}, &quot;type&quot;: &quot;Feature&quot;}, {&quot;bbox&quot;: [9.176135271419797, 39.21295571935128, 9.176135271419797, 39.21295571935128], &quot;geometry&quot;: {&quot;coordinates&quot;: [9.176135271419797, 39.21295571935128], &quot;type&quot;: &quot;Point&quot;}, &quot;id&quot;: &quot;1020&quot;, &quot;properties&quot;: {}, &quot;type&quot;: &quot;Feature&quot;}, {&quot;bbox&quot;: [9.176126450468507, 39.21296694375698, 9.176126450468507, 39.21296694375698], &quot;geometry&quot;: {&quot;coordinates&quot;: [9.176126450468507, 39.21296694375698], &quot;type&quot;: &quot;Point&quot;}, &quot;id&quot;: &quot;1021&quot;, &quot;properties&quot;: {}, &quot;type&quot;: &quot;Feature&quot;}, {&quot;bbox&quot;: [9.176097510478476, 39.21300376902842, 9.176097510478476, 39.21300376902842], &quot;geometry&quot;: {&quot;coordinates&quot;: [9.176097510478476, 39.21300376902842], &quot;type&quot;: &quot;Point&quot;}, &quot;id&quot;: &quot;1022&quot;, &quot;properties&quot;: {}, &quot;type&quot;: &quot;Feature&quot;}, {&quot;bbox&quot;: [9.176130135934793, 39.212962254108085, 9.176130135934793, 39.212962254108085], &quot;geometry&quot;: {&quot;coordinates&quot;: [9.176130135934793, 39.212962254108085], &quot;type&quot;: &quot;Point&quot;}, &quot;id&quot;: &quot;1024&quot;, &quot;properties&quot;: {}, &quot;type&quot;: &quot;Feature&quot;}, {&quot;bbox&quot;: [9.176130619274602, 39.21296163907217, 9.176130619274602, 39.21296163907217], &quot;geometry&quot;: {&quot;coordinates&quot;: [9.176130619274602, 39.21296163907217], &quot;type&quot;: &quot;Point&quot;}, &quot;id&quot;: &quot;1025&quot;, &quot;properties&quot;: {}, &quot;type&quot;: &quot;Feature&quot;}, {&quot;bbox&quot;: [9.176123006671686, 39.21297132588778, 9.176123006671686, 39.21297132588778], &quot;geometry&quot;: {&quot;coordinates&quot;: [9.176123006671686, 39.21297132588778], &quot;type&quot;: &quot;Point&quot;}, &quot;id&quot;: &quot;1026&quot;, &quot;properties&quot;: {}, &quot;type&quot;: &quot;Feature&quot;}, {&quot;bbox&quot;: [9.176074189295443, 39.21303344450278, 9.176074189295443, 39.21303344450278], &quot;geometry&quot;: {&quot;coordinates&quot;: [9.176074189295443, 39.21303344450278], &quot;type&quot;: &quot;Point&quot;}, &quot;id&quot;: &quot;1027&quot;, &quot;properties&quot;: {}, &quot;type&quot;: &quot;Feature&quot;}, {&quot;bbox&quot;: [9.176090139536738, 39.213013148323945, 9.176090139536738, 39.213013148323945], &quot;geometry&quot;: {&quot;coordinates&quot;: [9.176090139536738, 39.213013148323945], &quot;type&quot;: &quot;Point&quot;}, &quot;id&quot;: &quot;1028&quot;, &quot;properties&quot;: {}, &quot;type&quot;: &quot;Feature&quot;}, {&quot;bbox&quot;: [9.176060837003076, 39.21305043486289, 9.176060837003076, 39.21305043486289], &quot;geometry&quot;: {&quot;coordinates&quot;: [9.176060837003076, 39.21305043486289], &quot;type&quot;: &quot;Point&quot;}, &quot;id&quot;: &quot;1029&quot;, &quot;properties&quot;: {}, &quot;type&quot;: &quot;Feature&quot;}, {&quot;bbox&quot;: [9.176111829433474, 39.212985548592314, 9.176111829433474, 39.212985548592314], &quot;geometry&quot;: {&quot;coordinates&quot;: [9.176111829433474, 39.212985548592314], &quot;type&quot;: &quot;Point&quot;}, &quot;id&quot;: &quot;1030&quot;, &quot;properties&quot;: {}, &quot;type&quot;: &quot;Feature&quot;}, {&quot;bbox&quot;: [9.176127235895784, 39.212965944323614, 9.176127235895784, 39.212965944323614], &quot;geometry&quot;: {&quot;coordinates&quot;: [9.176127235895784, 39.212965944323614], &quot;type&quot;: &quot;Point&quot;}, &quot;id&quot;: &quot;1031&quot;, &quot;properties&quot;: {}, &quot;type&quot;: &quot;Feature&quot;}, {&quot;bbox&quot;: [9.176107721042078, 39.212990776396964, 9.176107721042078, 39.212990776396964], &quot;geometry&quot;: {&quot;coordinates&quot;: [9.176107721042078, 39.212990776396964], &quot;type&quot;: &quot;Point&quot;}, &quot;id&quot;: &quot;1032&quot;, &quot;properties&quot;: {}, &quot;type&quot;: &quot;Feature&quot;}, {&quot;bbox&quot;: [9.176096664632803, 39.21300484534105, 9.176096664632803, 39.21300484534105], &quot;geometry&quot;: {&quot;coordinates&quot;: [9.176096664632803, 39.21300484534105], &quot;type&quot;: &quot;Point&quot;}, &quot;id&quot;: &quot;1033&quot;, &quot;properties&quot;: {}, &quot;type&quot;: &quot;Feature&quot;}, {&quot;bbox&quot;: [9.176098356324125, 39.213002692715804, 9.176098356324125, 39.213002692715804], &quot;geometry&quot;: {&quot;coordinates&quot;: [9.176098356324125, 39.213002692715804], &quot;type&quot;: &quot;Point&quot;}, &quot;id&quot;: &quot;1034&quot;, &quot;properties&quot;: {}, &quot;type&quot;: &quot;Feature&quot;}, {&quot;bbox&quot;: [9.176121375399367, 39.2129734016339, 9.176121375399367, 39.2129734016339], &quot;geometry&quot;: {&quot;coordinates&quot;: [9.176121375399367, 39.2129734016339], &quot;type&quot;: &quot;Point&quot;}, &quot;id&quot;: &quot;1035&quot;, &quot;properties&quot;: {}, &quot;type&quot;: &quot;Feature&quot;}, {&quot;bbox&quot;: [9.176109956490413, 39.21298793185622, 9.176109956490413, 39.21298793185622], &quot;geometry&quot;: {&quot;coordinates&quot;: [9.176109956490413, 39.21298793185622], &quot;type&quot;: &quot;Point&quot;}, &quot;id&quot;: &quot;1036&quot;, &quot;properties&quot;: {}, &quot;type&quot;: &quot;Feature&quot;}, {&quot;bbox&quot;: [9.176101135531072, 39.21299915625997, 9.176101135531072, 39.21299915625997], &quot;geometry&quot;: {&quot;coordinates&quot;: [9.176101135531072, 39.21299915625997], &quot;type&quot;: &quot;Point&quot;}, &quot;id&quot;: &quot;1037&quot;, &quot;properties&quot;: {}, &quot;type&quot;: &quot;Feature&quot;}, {&quot;bbox&quot;: [9.17618354493233, 39.21289429262575, 9.17618354493233, 39.21289429262575], &quot;geometry&quot;: {&quot;coordinates&quot;: [9.17618354493233, 39.21289429262575], &quot;type&quot;: &quot;Point&quot;}, &quot;id&quot;: &quot;1038&quot;, &quot;properties&quot;: {}, &quot;type&quot;: &quot;Feature&quot;}, {&quot;bbox&quot;: [9.176108748139983, 39.21298946944581, 9.176108748139983, 39.21298946944581], &quot;geometry&quot;: {&quot;coordinates&quot;: [9.176108748139983, 39.21298946944581], &quot;type&quot;: &quot;Point&quot;}, &quot;id&quot;: &quot;1039&quot;, &quot;properties&quot;: {}, &quot;type&quot;: &quot;Feature&quot;}, {&quot;bbox&quot;: [9.176089656196224, 39.21301376335971, 9.176089656196224, 39.21301376335971], &quot;geometry&quot;: {&quot;coordinates&quot;: [9.176089656196224, 39.21301376335971], &quot;type&quot;: &quot;Point&quot;}, &quot;id&quot;: &quot;1040&quot;, &quot;properties&quot;: {}, &quot;type&quot;: &quot;Feature&quot;}, {&quot;bbox&quot;: [9.176106512691549, 39.21299231398654, 9.176106512691549, 39.21299231398654], &quot;geometry&quot;: {&quot;coordinates&quot;: [9.176106512691549, 39.21299231398654], &quot;type&quot;: &quot;Point&quot;}, &quot;id&quot;: &quot;1041&quot;, &quot;properties&quot;: {}, &quot;type&quot;: &quot;Feature&quot;}, {&quot;bbox&quot;: [9.176059809903393, 39.21305174181361, 9.176059809903393, 39.21305174181361], &quot;geometry&quot;: {&quot;coordinates&quot;: [9.176059809903393, 39.21305174181361], &quot;type&quot;: &quot;Point&quot;}, &quot;id&quot;: &quot;1042&quot;, &quot;properties&quot;: {}, &quot;type&quot;: &quot;Feature&quot;}, {&quot;bbox&quot;: [9.176108808557503, 39.21298939256632, 9.176108808557503, 39.21298939256632], &quot;geometry&quot;: {&quot;coordinates&quot;: [9.176108808557503, 39.21298939256632], &quot;type&quot;: &quot;Point&quot;}, &quot;id&quot;: &quot;1043&quot;, &quot;properties&quot;: {}, &quot;type&quot;: &quot;Feature&quot;}, {&quot;bbox&quot;: [9.176117569096904, 39.21297824504149, 9.176117569096904, 39.21297824504149], &quot;geometry&quot;: {&quot;coordinates&quot;: [9.176117569096904, 39.21297824504149], &quot;type&quot;: &quot;Point&quot;}, &quot;id&quot;: &quot;1044&quot;, &quot;properties&quot;: {}, &quot;type&quot;: &quot;Feature&quot;}, {&quot;bbox&quot;: [9.176075337229785, 39.213031983793016, 9.176075337229785, 39.213031983793016], &quot;geometry&quot;: {&quot;coordinates&quot;: [9.176075337229785, 39.213031983793016], &quot;type&quot;: &quot;Point&quot;}, &quot;id&quot;: &quot;1045&quot;, &quot;properties&quot;: {}, &quot;type&quot;: &quot;Feature&quot;}, {&quot;bbox&quot;: [9.176102706387049, 39.21299715739358, 9.176102706387049, 39.21299715739358], &quot;geometry&quot;: {&quot;coordinates&quot;: [9.176102706387049, 39.21299715739358], &quot;type&quot;: &quot;Point&quot;}, &quot;id&quot;: &quot;1046&quot;, &quot;properties&quot;: {}, &quot;type&quot;: &quot;Feature&quot;}, {&quot;bbox&quot;: [9.176072316349845, 39.21303582776604, 9.176072316349845, 39.21303582776604], &quot;geometry&quot;: {&quot;coordinates&quot;: [9.176072316349845, 39.21303582776604], &quot;type&quot;: &quot;Point&quot;}, &quot;id&quot;: &quot;1047&quot;, &quot;properties&quot;: {}, &quot;type&quot;: &quot;Feature&quot;}, {&quot;bbox&quot;: [9.176089535361095, 39.21301391711864, 9.176089535361095, 39.21301391711864], &quot;geometry&quot;: {&quot;coordinates&quot;: [9.176089535361095, 39.21301391711864], &quot;type&quot;: &quot;Point&quot;}, &quot;id&quot;: &quot;1049&quot;, &quot;properties&quot;: {}, &quot;type&quot;: &quot;Feature&quot;}, {&quot;bbox&quot;: [9.1761072981194, 39.212991314553314, 9.1761072981194, 39.212991314553314], &quot;geometry&quot;: {&quot;coordinates&quot;: [9.1761072981194, 39.212991314553314], &quot;type&quot;: &quot;Point&quot;}, &quot;id&quot;: &quot;1050&quot;, &quot;properties&quot;: {}, &quot;type&quot;: &quot;Feature&quot;}, {&quot;bbox&quot;: [9.176091347887974, 39.213011610734554, 9.176091347887974, 39.213011610734554], &quot;geometry&quot;: {&quot;coordinates&quot;: [9.176091347887974, 39.213011610734554], &quot;type&quot;: &quot;Point&quot;}, &quot;id&quot;: &quot;1051&quot;, &quot;properties&quot;: {}, &quot;type&quot;: &quot;Feature&quot;}, {&quot;bbox&quot;: [9.176108143964749, 39.2129902382406, 9.176108143964749, 39.2129902382406], &quot;geometry&quot;: {&quot;coordinates&quot;: [9.176108143964749, 39.2129902382406], &quot;type&quot;: &quot;Point&quot;}, &quot;id&quot;: &quot;1052&quot;, &quot;properties&quot;: {}, &quot;type&quot;: &quot;Feature&quot;}, {&quot;bbox&quot;: [9.176079566461148, 39.21302660223062, 9.176079566461148, 39.21302660223062], &quot;geometry&quot;: {&quot;coordinates&quot;: [9.176079566461148, 39.21302660223062], &quot;type&quot;: &quot;Point&quot;}, &quot;id&quot;: &quot;1053&quot;, &quot;properties&quot;: {}, &quot;type&quot;: &quot;Feature&quot;}, {&quot;bbox&quot;: [9.176100410520592, 39.21300007881366, 9.176100410520592, 39.21300007881366], &quot;geometry&quot;: {&quot;coordinates&quot;: [9.176100410520592, 39.21300007881366], &quot;type&quot;: &quot;Point&quot;}, &quot;id&quot;: &quot;1054&quot;, &quot;properties&quot;: {}, &quot;type&quot;: &quot;Feature&quot;}, {&quot;bbox&quot;: [9.176037334536181, 39.21308034096807, 9.176037334536181, 39.21308034096807], &quot;geometry&quot;: {&quot;coordinates&quot;: [9.176037334536181, 39.21308034096807], &quot;type&quot;: &quot;Point&quot;}, &quot;id&quot;: &quot;1056&quot;, &quot;properties&quot;: {}, &quot;type&quot;: &quot;Feature&quot;}, {&quot;bbox&quot;: [9.176097691731117, 39.21300353839001, 9.176097691731117, 39.21300353839001], &quot;geometry&quot;: {&quot;coordinates&quot;: [9.176097691731117, 39.21300353839001], &quot;type&quot;: &quot;Point&quot;}, &quot;id&quot;: &quot;1057&quot;, &quot;properties&quot;: {}, &quot;type&quot;: &quot;Feature&quot;}, {&quot;bbox&quot;: [9.1761022834643, 39.21299769554993, 9.1761022834643, 39.21299769554993], &quot;geometry&quot;: {&quot;coordinates&quot;: [9.1761022834643, 39.21299769554993], &quot;type&quot;: &quot;Point&quot;}, &quot;id&quot;: &quot;1058&quot;, &quot;properties&quot;: {}, &quot;type&quot;: &quot;Feature&quot;}, {&quot;bbox&quot;: [9.176102464716907, 39.2129974649115, 9.176102464716907, 39.2129974649115], &quot;geometry&quot;: {&quot;coordinates&quot;: [9.176102464716907, 39.2129974649115], &quot;type&quot;: &quot;Point&quot;}, &quot;id&quot;: &quot;1059&quot;, &quot;properties&quot;: {}, &quot;type&quot;: &quot;Feature&quot;}, {&quot;bbox&quot;: [9.176094187513177, 39.213007997399416, 9.176094187513177, 39.213007997399416], &quot;geometry&quot;: {&quot;coordinates&quot;: [9.176094187513177, 39.213007997399416], &quot;type&quot;: &quot;Point&quot;}, &quot;id&quot;: &quot;1060&quot;, &quot;properties&quot;: {}, &quot;type&quot;: &quot;Feature&quot;}, {&quot;bbox&quot;: [9.176095154194034, 39.21300676732787, 9.176095154194034, 39.21300676732787], &quot;geometry&quot;: {&quot;coordinates&quot;: [9.176095154194034, 39.21300676732787], &quot;type&quot;: &quot;Point&quot;}, &quot;id&quot;: &quot;1062&quot;, &quot;properties&quot;: {}, &quot;type&quot;: &quot;Feature&quot;}, {&quot;bbox&quot;: [9.176095093776482, 39.213006844207335, 9.176095093776482, 39.213006844207335], &quot;geometry&quot;: {&quot;coordinates&quot;: [9.176095093776482, 39.213006844207335], &quot;type&quot;: &quot;Point&quot;}, &quot;id&quot;: &quot;1063&quot;, &quot;properties&quot;: {}, &quot;type&quot;: &quot;Feature&quot;}, {&quot;bbox&quot;: [9.17608959577866, 39.21301384023917, 9.17608959577866, 39.21301384023917], &quot;geometry&quot;: {&quot;coordinates&quot;: [9.17608959577866, 39.21301384023917], &quot;type&quot;: &quot;Point&quot;}, &quot;id&quot;: &quot;1064&quot;, &quot;properties&quot;: {}, &quot;type&quot;: &quot;Feature&quot;}, {&quot;bbox&quot;: [9.176095516699347, 39.21300630605103, 9.176095516699347, 39.21300630605103], &quot;geometry&quot;: {&quot;coordinates&quot;: [9.176095516699347, 39.21300630605103], &quot;type&quot;: &quot;Point&quot;}, &quot;id&quot;: &quot;1065&quot;, &quot;properties&quot;: {}, &quot;type&quot;: &quot;Feature&quot;}, {&quot;bbox&quot;: [9.176121012894392, 39.212973862910836, 9.176121012894392, 39.212973862910836], &quot;geometry&quot;: {&quot;coordinates&quot;: [9.176121012894392, 39.212973862910836], &quot;type&quot;: &quot;Point&quot;}, &quot;id&quot;: &quot;1066&quot;, &quot;properties&quot;: {}, &quot;type&quot;: &quot;Feature&quot;}, {&quot;bbox&quot;: [9.176094127095626, 39.21300807427889, 9.176094127095626, 39.21300807427889], &quot;geometry&quot;: {&quot;coordinates&quot;: [9.176094127095626, 39.21300807427889], &quot;type&quot;: &quot;Point&quot;}, &quot;id&quot;: &quot;1067&quot;, &quot;properties&quot;: {}, &quot;type&quot;: &quot;Feature&quot;}, {&quot;bbox&quot;: [9.176097510478476, 39.21300376902842, 9.176097510478476, 39.21300376902842], &quot;geometry&quot;: {&quot;coordinates&quot;: [9.176097510478476, 39.21300376902842], &quot;type&quot;: &quot;Point&quot;}, &quot;id&quot;: &quot;1068&quot;, &quot;properties&quot;: {}, &quot;type&quot;: &quot;Feature&quot;}, {&quot;bbox&quot;: [9.176103854320207, 39.21299569668352, 9.176103854320207, 39.21299569668352], &quot;geometry&quot;: {&quot;coordinates&quot;: [9.176103854320207, 39.21299569668352], &quot;type&quot;: &quot;Point&quot;}, &quot;id&quot;: &quot;1069&quot;, &quot;properties&quot;: {}, &quot;type&quot;: &quot;Feature&quot;}, {&quot;bbox&quot;: [9.176093281249846, 39.21300915059149, 9.176093281249846, 39.21300915059149], &quot;geometry&quot;: {&quot;coordinates&quot;: [9.176093281249846, 39.21300915059149], &quot;type&quot;: &quot;Point&quot;}, &quot;id&quot;: &quot;1070&quot;, &quot;properties&quot;: {}, &quot;type&quot;: &quot;Feature&quot;}, {&quot;bbox&quot;: [9.176093522920073, 39.213008843073595, 9.176093522920073, 39.213008843073595], &quot;geometry&quot;: {&quot;coordinates&quot;: [9.176093522920073, 39.213008843073595], &quot;type&quot;: &quot;Point&quot;}, &quot;id&quot;: &quot;1071&quot;, &quot;properties&quot;: {}, &quot;type&quot;: &quot;Feature&quot;}, {&quot;bbox&quot;: [9.176100712608292, 39.21299969441628, 9.176100712608292, 39.21299969441628], &quot;geometry&quot;: {&quot;coordinates&quot;: [9.176100712608292, 39.21299969441628], &quot;type&quot;: &quot;Point&quot;}, &quot;id&quot;: &quot;1072&quot;, &quot;properties&quot;: {}, &quot;type&quot;: &quot;Feature&quot;}, {&quot;bbox&quot;: [9.176042470038363, 39.21307380621542, 9.176042470038363, 39.21307380621542], &quot;geometry&quot;: {&quot;coordinates&quot;: [9.176042470038363, 39.21307380621542], &quot;type&quot;: &quot;Point&quot;}, &quot;id&quot;: &quot;1073&quot;, &quot;properties&quot;: {}, &quot;type&quot;: &quot;Feature&quot;}, {&quot;bbox&quot;: [9.176108566887414, 39.21298970008425, 9.176108566887414, 39.21298970008425], &quot;geometry&quot;: {&quot;coordinates&quot;: [9.176108566887414, 39.21298970008425], &quot;type&quot;: &quot;Point&quot;}, &quot;id&quot;: &quot;1074&quot;, &quot;properties&quot;: {}, &quot;type&quot;: &quot;Feature&quot;}, {&quot;bbox&quot;: [9.176099564675003, 39.213001155126314, 9.176099564675003, 39.213001155126314], &quot;geometry&quot;: {&quot;coordinates&quot;: [9.176099564675003, 39.213001155126314], &quot;type&quot;: &quot;Point&quot;}, &quot;id&quot;: &quot;1075&quot;, &quot;properties&quot;: {}, &quot;type&quot;: &quot;Feature&quot;}, {&quot;bbox&quot;: [9.176105606428623, 39.21299346717869, 9.176105606428623, 39.21299346717869], &quot;geometry&quot;: {&quot;coordinates&quot;: [9.176105606428623, 39.21299346717869], &quot;type&quot;: &quot;Point&quot;}, &quot;id&quot;: &quot;1076&quot;, &quot;properties&quot;: {}, &quot;type&quot;: &quot;Feature&quot;}, {&quot;bbox&quot;: [9.176105425176033, 39.212993697817126, 9.176105425176033, 39.212993697817126], &quot;geometry&quot;: {&quot;coordinates&quot;: [9.176105425176033, 39.212993697817126], &quot;type&quot;: &quot;Point&quot;}, &quot;id&quot;: &quot;1077&quot;, &quot;properties&quot;: {}, &quot;type&quot;: &quot;Feature&quot;}, {&quot;bbox&quot;: [9.176105183505916, 39.21299400533504, 9.176105183505916, 39.21299400533504], &quot;geometry&quot;: {&quot;coordinates&quot;: [9.176105183505916, 39.21299400533504], &quot;type&quot;: &quot;Point&quot;}, &quot;id&quot;: &quot;1078&quot;, &quot;properties&quot;: {}, &quot;type&quot;: &quot;Feature&quot;}, {&quot;bbox&quot;: [9.176097570896022, 39.213003692148945, 9.176097570896022, 39.213003692148945], &quot;geometry&quot;: {&quot;coordinates&quot;: [9.176097570896022, 39.213003692148945], &quot;type&quot;: &quot;Point&quot;}, &quot;id&quot;: &quot;1079&quot;, &quot;properties&quot;: {}, &quot;type&quot;: &quot;Feature&quot;}, {&quot;bbox&quot;: [9.17609787298376, 39.213003307751585, 9.17609787298376, 39.213003307751585], &quot;geometry&quot;: {&quot;coordinates&quot;: [9.17609787298376, 39.213003307751585], &quot;type&quot;: &quot;Point&quot;}, &quot;id&quot;: &quot;1080&quot;, &quot;properties&quot;: {}, &quot;type&quot;: &quot;Feature&quot;}, {&quot;bbox&quot;: [9.176131344284293, 39.21296071651828, 9.176131344284293, 39.21296071651828], &quot;geometry&quot;: {&quot;coordinates&quot;: [9.176131344284293, 39.21296071651828], &quot;type&quot;: &quot;Point&quot;}, &quot;id&quot;: &quot;1081&quot;, &quot;properties&quot;: {}, &quot;type&quot;: &quot;Feature&quot;}, {&quot;bbox&quot;: [9.176099866762716, 39.21300077072894, 9.176099866762716, 39.21300077072894], &quot;geometry&quot;: {&quot;coordinates&quot;: [9.176099866762716, 39.21300077072894], &quot;type&quot;: &quot;Point&quot;}, &quot;id&quot;: &quot;1082&quot;, &quot;properties&quot;: {}, &quot;type&quot;: &quot;Feature&quot;}, {&quot;bbox&quot;: [9.176105425176033, 39.212993697817126, 9.176105425176033, 39.212993697817126], &quot;geometry&quot;: {&quot;coordinates&quot;: [9.176105425176033, 39.212993697817126], &quot;type&quot;: &quot;Point&quot;}, &quot;id&quot;: &quot;1083&quot;, &quot;properties&quot;: {}, &quot;type&quot;: &quot;Feature&quot;}, {&quot;bbox&quot;: [9.176114971144127, 39.21298155085927, 9.176114971144127, 39.21298155085927], &quot;geometry&quot;: {&quot;coordinates&quot;: [9.176114971144127, 39.21298155085927], &quot;type&quot;: &quot;Point&quot;}, &quot;id&quot;: &quot;1084&quot;, &quot;properties&quot;: {}, &quot;type&quot;: &quot;Feature&quot;}, {&quot;bbox&quot;: [9.176100712608292, 39.21299969441628, 9.176100712608292, 39.21299969441628], &quot;geometry&quot;: {&quot;coordinates&quot;: [9.176100712608292, 39.21299969441628], &quot;type&quot;: &quot;Point&quot;}, &quot;id&quot;: &quot;1085&quot;, &quot;properties&quot;: {}, &quot;type&quot;: &quot;Feature&quot;}, {&quot;bbox&quot;: [9.176145481969499, 39.21294272671642, 9.176145481969499, 39.21294272671642], &quot;geometry&quot;: {&quot;coordinates&quot;: [9.176145481969499, 39.21294272671642], &quot;type&quot;: &quot;Point&quot;}, &quot;id&quot;: &quot;1086&quot;, &quot;properties&quot;: {}, &quot;type&quot;: &quot;Feature&quot;}, {&quot;bbox&quot;: [9.176101558453842, 39.212998618103626, 9.176101558453842, 39.212998618103626], &quot;geometry&quot;: {&quot;coordinates&quot;: [9.176101558453842, 39.212998618103626], &quot;type&quot;: &quot;Point&quot;}, &quot;id&quot;: &quot;1087&quot;, &quot;properties&quot;: {}, &quot;type&quot;: &quot;Feature&quot;}, {&quot;bbox&quot;: [9.176100893860914, 39.21299946377786, 9.176100893860914, 39.21299946377786], &quot;geometry&quot;: {&quot;coordinates&quot;: [9.176100893860914, 39.21299946377786], &quot;type&quot;: &quot;Point&quot;}, &quot;id&quot;: &quot;1088&quot;, &quot;properties&quot;: {}, &quot;type&quot;: &quot;Feature&quot;}, {&quot;bbox&quot;: [9.176131948459018, 39.21295994772336, 9.176131948459018, 39.21295994772336], &quot;geometry&quot;: {&quot;coordinates&quot;: [9.176131948459018, 39.21295994772336], &quot;type&quot;: &quot;Point&quot;}, &quot;id&quot;: &quot;1089&quot;, &quot;properties&quot;: {}, &quot;type&quot;: &quot;Feature&quot;}, {&quot;bbox&quot;: [9.176142581932098, 39.21294641693232, 9.176142581932098, 39.21294641693232], &quot;geometry&quot;: {&quot;coordinates&quot;: [9.176142581932098, 39.21294641693232], &quot;type&quot;: &quot;Point&quot;}, &quot;id&quot;: &quot;1090&quot;, &quot;properties&quot;: {}, &quot;type&quot;: &quot;Feature&quot;}, {&quot;bbox&quot;: [9.176141856922701, 39.212947339486306, 9.176141856922701, 39.212947339486306], &quot;geometry&quot;: {&quot;coordinates&quot;: [9.176141856922701, 39.212947339486306], &quot;type&quot;: &quot;Point&quot;}, &quot;id&quot;: &quot;1092&quot;, &quot;properties&quot;: {}, &quot;type&quot;: &quot;Feature&quot;}, {&quot;bbox&quot;: [9.17610204179415, 39.21299800306783, 9.17610204179415, 39.21299800306783], &quot;geometry&quot;: {&quot;coordinates&quot;: [9.17610204179415, 39.21299800306783], &quot;type&quot;: &quot;Point&quot;}, &quot;id&quot;: &quot;1093&quot;, &quot;properties&quot;: {}, &quot;type&quot;: &quot;Feature&quot;}, {&quot;bbox&quot;: [9.176105062670855, 39.212994159093995, 9.176105062670855, 39.212994159093995], &quot;geometry&quot;: {&quot;coordinates&quot;: [9.176105062670855, 39.212994159093995], &quot;type&quot;: &quot;Point&quot;}, &quot;id&quot;: &quot;1094&quot;, &quot;properties&quot;: {}, &quot;type&quot;: &quot;Feature&quot;}, {&quot;bbox&quot;: [9.176145361134614, 39.21294288047542, 9.176145361134614, 39.21294288047542], &quot;geometry&quot;: {&quot;coordinates&quot;: [9.176145361134614, 39.21294288047542], &quot;type&quot;: &quot;Point&quot;}, &quot;id&quot;: &quot;1095&quot;, &quot;properties&quot;: {}, &quot;type&quot;: &quot;Feature&quot;}, {&quot;bbox&quot;: [9.176101256366154, 39.21299900250102, 9.176101256366154, 39.21299900250102], &quot;geometry&quot;: {&quot;coordinates&quot;: [9.176101256366154, 39.21299900250102], &quot;type&quot;: &quot;Point&quot;}, &quot;id&quot;: &quot;1096&quot;, &quot;properties&quot;: {}, &quot;type&quot;: &quot;Feature&quot;}, {&quot;bbox&quot;: [9.176106814779189, 39.21299192958912, 9.176106814779189, 39.21299192958912], &quot;geometry&quot;: {&quot;coordinates&quot;: [9.176106814779189, 39.21299192958912], &quot;type&quot;: &quot;Point&quot;}, &quot;id&quot;: &quot;1097&quot;, &quot;properties&quot;: {}, &quot;type&quot;: &quot;Feature&quot;}, {&quot;bbox&quot;: [9.176141373583087, 39.212947954522264, 9.176141373583087, 39.212947954522264], &quot;geometry&quot;: {&quot;coordinates&quot;: [9.176141373583087, 39.212947954522264], &quot;type&quot;: &quot;Point&quot;}, &quot;id&quot;: &quot;1098&quot;, &quot;properties&quot;: {}, &quot;type&quot;: &quot;Feature&quot;}, {&quot;bbox&quot;: [9.17615575293287, 39.21292965720113, 9.17615575293287, 39.21292965720113], &quot;geometry&quot;: {&quot;coordinates&quot;: [9.17615575293287, 39.21292965720113], &quot;type&quot;: &quot;Point&quot;}, &quot;id&quot;: &quot;1099&quot;, &quot;properties&quot;: {}, &quot;type&quot;: &quot;Feature&quot;}, {&quot;bbox&quot;: [9.176158652968898, 39.2129259669849, 9.176158652968898, 39.2129259669849], &quot;geometry&quot;: {&quot;coordinates&quot;: [9.176158652968898, 39.2129259669849], &quot;type&quot;: &quot;Point&quot;}, &quot;id&quot;: &quot;1100&quot;, &quot;properties&quot;: {}, &quot;type&quot;: &quot;Feature&quot;}, {&quot;bbox&quot;: [9.17613521100233, 39.21295579623078, 9.17613521100233, 39.21295579623078], &quot;geometry&quot;: {&quot;coordinates&quot;: [9.17613521100233, 39.21295579623078], &quot;type&quot;: &quot;Point&quot;}, &quot;id&quot;: &quot;1101&quot;, &quot;properties&quot;: {}, &quot;type&quot;: &quot;Feature&quot;}, {&quot;bbox&quot;: [9.176107781459603, 39.212990699517476, 9.176107781459603, 39.212990699517476], &quot;geometry&quot;: {&quot;coordinates&quot;: [9.176107781459603, 39.212990699517476], &quot;type&quot;: &quot;Point&quot;}, &quot;id&quot;: &quot;1102&quot;, &quot;properties&quot;: {}, &quot;type&quot;: &quot;Feature&quot;}, {&quot;bbox&quot;: [9.176159317560442, 39.21292512131032, 9.176159317560442, 39.21292512131032], &quot;geometry&quot;: {&quot;coordinates&quot;: [9.176159317560442, 39.21292512131032], &quot;type&quot;: &quot;Point&quot;}, &quot;id&quot;: &quot;1104&quot;, &quot;properties&quot;: {}, &quot;type&quot;: &quot;Feature&quot;}, {&quot;bbox&quot;: [9.176151886217696, 39.21293457748937, 9.176151886217696, 39.21293457748937], &quot;geometry&quot;: {&quot;coordinates&quot;: [9.176151886217696, 39.21293457748937], &quot;type&quot;: &quot;Point&quot;}, &quot;id&quot;: &quot;1105&quot;, &quot;properties&quot;: {}, &quot;type&quot;: &quot;Feature&quot;}, {&quot;bbox&quot;: [9.176095456281793, 39.213006382930494, 9.176095456281793, 39.213006382930494], &quot;geometry&quot;: {&quot;coordinates&quot;: [9.176095456281793, 39.213006382930494], &quot;type&quot;: &quot;Point&quot;}, &quot;id&quot;: &quot;1106&quot;, &quot;properties&quot;: {}, &quot;type&quot;: &quot;Feature&quot;}, {&quot;bbox&quot;: [9.176087239493546, 39.21301683853845, 9.176087239493546, 39.21301683853845], &quot;geometry&quot;: {&quot;coordinates&quot;: [9.176087239493546, 39.21301683853845], &quot;type&quot;: &quot;Point&quot;}, &quot;id&quot;: &quot;1107&quot;, &quot;properties&quot;: {}, &quot;type&quot;: &quot;Feature&quot;}, {&quot;bbox&quot;: [9.176066153753746, 39.21304366947081, 9.176066153753746, 39.21304366947081], &quot;geometry&quot;: {&quot;coordinates&quot;: [9.176066153753746, 39.21304366947081], &quot;type&quot;: &quot;Point&quot;}, &quot;id&quot;: &quot;1108&quot;, &quot;properties&quot;: {}, &quot;type&quot;: &quot;Feature&quot;}, {&quot;bbox&quot;: [9.176105183505916, 39.21299400533504, 9.176105183505916, 39.21299400533504], &quot;geometry&quot;: {&quot;coordinates&quot;: [9.176105183505916, 39.21299400533504], &quot;type&quot;: &quot;Point&quot;}, &quot;id&quot;: &quot;1109&quot;, &quot;properties&quot;: {}, &quot;type&quot;: &quot;Feature&quot;}, {&quot;bbox&quot;: [9.176098839664485, 39.21300207768001, 9.176098839664485, 39.21300207768001], &quot;geometry&quot;: {&quot;coordinates&quot;: [9.176098839664485, 39.21300207768001], &quot;type&quot;: &quot;Point&quot;}, &quot;id&quot;: &quot;1110&quot;, &quot;properties&quot;: {}, &quot;type&quot;: &quot;Feature&quot;}, {&quot;bbox&quot;: [9.176101498036306, 39.21299869498313, 9.176101498036306, 39.21299869498313], &quot;geometry&quot;: {&quot;coordinates&quot;: [9.176101498036306, 39.21299869498313], &quot;type&quot;: &quot;Point&quot;}, &quot;id&quot;: &quot;1111&quot;, &quot;properties&quot;: {}, &quot;type&quot;: &quot;Feature&quot;}, {&quot;bbox&quot;: [9.176081620659005, 39.213023988328835, 9.176081620659005, 39.213023988328835], &quot;geometry&quot;: {&quot;coordinates&quot;: [9.176081620659005, 39.213023988328835], &quot;type&quot;: &quot;Point&quot;}, &quot;id&quot;: &quot;1112&quot;, &quot;properties&quot;: {}, &quot;type&quot;: &quot;Feature&quot;}, {&quot;bbox&quot;: [9.176113762793918, 39.21298308844891, 9.176113762793918, 39.21298308844891], &quot;geometry&quot;: {&quot;coordinates&quot;: [9.176113762793918, 39.21298308844891], &quot;type&quot;: &quot;Point&quot;}, &quot;id&quot;: &quot;1113&quot;, &quot;properties&quot;: {}, &quot;type&quot;: &quot;Feature&quot;}, {&quot;bbox&quot;: [9.176090381206988, 39.21301284080607, 9.176090381206988, 39.21301284080607], &quot;geometry&quot;: {&quot;coordinates&quot;: [9.176090381206988, 39.21301284080607], &quot;type&quot;: &quot;Point&quot;}, &quot;id&quot;: &quot;1114&quot;, &quot;properties&quot;: {}, &quot;type&quot;: &quot;Feature&quot;}, {&quot;bbox&quot;: [9.176091831228455, 39.21301099569879, 9.176091831228455, 39.21301099569879], &quot;geometry&quot;: {&quot;coordinates&quot;: [9.176091831228455, 39.21301099569879], &quot;type&quot;: &quot;Point&quot;}, &quot;id&quot;: &quot;1115&quot;, &quot;properties&quot;: {}, &quot;type&quot;: &quot;Feature&quot;}, {&quot;bbox&quot;: [9.176096181292406, 39.213005460376834, 9.176096181292406, 39.213005460376834], &quot;geometry&quot;: {&quot;coordinates&quot;: [9.176096181292406, 39.213005460376834], &quot;type&quot;: &quot;Point&quot;}, &quot;id&quot;: &quot;1116&quot;, &quot;properties&quot;: {}, &quot;type&quot;: &quot;Feature&quot;}, {&quot;bbox&quot;: [9.176111527345894, 39.21298593298972, 9.176111527345894, 39.21298593298972], &quot;geometry&quot;: {&quot;coordinates&quot;: [9.176111527345894, 39.21298593298972], &quot;type&quot;: &quot;Point&quot;}, &quot;id&quot;: &quot;1117&quot;, &quot;properties&quot;: {}, &quot;type&quot;: &quot;Feature&quot;}, {&quot;bbox&quot;: [9.176107600207027, 39.21299093015592, 9.176107600207027, 39.21299093015592], &quot;geometry&quot;: {&quot;coordinates&quot;: [9.176107600207027, 39.21299093015592], &quot;type&quot;: &quot;Point&quot;}, &quot;id&quot;: &quot;1118&quot;, &quot;properties&quot;: {}, &quot;type&quot;: &quot;Feature&quot;}, {&quot;bbox&quot;: [9.176133821400597, 39.2129575644591, 9.176133821400597, 39.2129575644591], &quot;geometry&quot;: {&quot;coordinates&quot;: [9.176133821400597, 39.2129575644591], &quot;type&quot;: &quot;Point&quot;}, &quot;id&quot;: &quot;1119&quot;, &quot;properties&quot;: {}, &quot;type&quot;: &quot;Feature&quot;}, {&quot;bbox&quot;: [9.176094550018503, 39.213007536122575, 9.176094550018503, 39.213007536122575], &quot;geometry&quot;: {&quot;coordinates&quot;: [9.176094550018503, 39.213007536122575], &quot;type&quot;: &quot;Point&quot;}, &quot;id&quot;: &quot;1120&quot;, &quot;properties&quot;: {}, &quot;type&quot;: &quot;Feature&quot;}, {&quot;bbox&quot;: [9.176101498036306, 39.21299869498313, 9.176101498036306, 39.21299869498313], &quot;geometry&quot;: {&quot;coordinates&quot;: [9.176101498036306, 39.21299869498313], &quot;type&quot;: &quot;Point&quot;}, &quot;id&quot;: &quot;1121&quot;, &quot;properties&quot;: {}, &quot;type&quot;: &quot;Feature&quot;}, {&quot;bbox&quot;: [9.176166325979422, 39.212916203287385, 9.176166325979422, 39.212916203287385], &quot;geometry&quot;: {&quot;coordinates&quot;: [9.176166325979422, 39.212916203287385], &quot;type&quot;: &quot;Point&quot;}, &quot;id&quot;: &quot;1122&quot;, &quot;properties&quot;: {}, &quot;type&quot;: &quot;Feature&quot;}, {&quot;bbox&quot;: [9.176116541999326, 39.21297955199269, 9.176116541999326, 39.21297955199269], &quot;geometry&quot;: {&quot;coordinates&quot;: [9.176116541999326, 39.21297955199269], &quot;type&quot;: &quot;Point&quot;}, &quot;id&quot;: &quot;1123&quot;, &quot;properties&quot;: {}, &quot;type&quot;: &quot;Feature&quot;}, {&quot;bbox&quot;: [9.176109110645118, 39.212989008168925, 9.176109110645118, 39.212989008168925], &quot;geometry&quot;: {&quot;coordinates&quot;: [9.176109110645118, 39.212989008168925], &quot;type&quot;: &quot;Point&quot;}, &quot;id&quot;: &quot;1124&quot;, &quot;properties&quot;: {}, &quot;type&quot;: &quot;Feature&quot;}, {&quot;bbox&quot;: [9.176127900488087, 39.21296509864924, 9.176127900488087, 39.21296509864924], &quot;geometry&quot;: {&quot;coordinates&quot;: [9.176127900488087, 39.21296509864924], &quot;type&quot;: &quot;Point&quot;}, &quot;id&quot;: &quot;1125&quot;, &quot;properties&quot;: {}, &quot;type&quot;: &quot;Feature&quot;}, {&quot;bbox&quot;: [9.176103431397474, 39.21299623483987, 9.176103431397474, 39.21299623483987], &quot;geometry&quot;: {&quot;coordinates&quot;: [9.176103431397474, 39.21299623483987], &quot;type&quot;: &quot;Point&quot;}, &quot;id&quot;: &quot;1126&quot;, &quot;properties&quot;: {}, &quot;type&quot;: &quot;Feature&quot;}, {&quot;bbox&quot;: [9.176105364758502, 39.212993774696606, 9.176105364758502, 39.212993774696606], &quot;geometry&quot;: {&quot;coordinates&quot;: [9.176105364758502, 39.212993774696606], &quot;type&quot;: &quot;Point&quot;}, &quot;id&quot;: &quot;1127&quot;, &quot;properties&quot;: {}, &quot;type&quot;: &quot;Feature&quot;}, {&quot;bbox&quot;: [9.176099081334662, 39.213001770162094, 9.176099081334662, 39.213001770162094], &quot;geometry&quot;: {&quot;coordinates&quot;: [9.176099081334662, 39.213001770162094], &quot;type&quot;: &quot;Point&quot;}, &quot;id&quot;: &quot;1128&quot;, &quot;properties&quot;: {}, &quot;type&quot;: &quot;Feature&quot;}, {&quot;bbox&quot;: [9.176101377201231, 39.21299884874205, 9.176101377201231, 39.21299884874205], &quot;geometry&quot;: {&quot;coordinates&quot;: [9.176101377201231, 39.21299884874205], &quot;type&quot;: &quot;Point&quot;}, &quot;id&quot;: &quot;1129&quot;, &quot;properties&quot;: {}, &quot;type&quot;: &quot;Feature&quot;}, {&quot;bbox&quot;: [9.176117810766918, 39.21297793752354, 9.176117810766918, 39.21297793752354], &quot;geometry&quot;: {&quot;coordinates&quot;: [9.176117810766918, 39.21297793752354], &quot;type&quot;: &quot;Point&quot;}, &quot;id&quot;: &quot;1130&quot;, &quot;properties&quot;: {}, &quot;type&quot;: &quot;Feature&quot;}, {&quot;bbox&quot;: [9.176128323410452, 39.21296456049281, 9.176128323410452, 39.21296456049281], &quot;geometry&quot;: {&quot;coordinates&quot;: [9.176128323410452, 39.21296456049281], &quot;type&quot;: &quot;Point&quot;}, &quot;id&quot;: &quot;1131&quot;, &quot;properties&quot;: {}, &quot;type&quot;: &quot;Feature&quot;}, {&quot;bbox&quot;: [9.176150134112202, 39.212936806994904, 9.176150134112202, 39.212936806994904], &quot;geometry&quot;: {&quot;coordinates&quot;: [9.176150134112202, 39.212936806994904], &quot;type&quot;: &quot;Point&quot;}, &quot;id&quot;: &quot;1132&quot;, &quot;properties&quot;: {}, &quot;type&quot;: &quot;Feature&quot;}, {&quot;bbox&quot;: [9.176109110645118, 39.212989008168925, 9.176109110645118, 39.212989008168925], &quot;geometry&quot;: {&quot;coordinates&quot;: [9.176109110645118, 39.212989008168925], &quot;type&quot;: &quot;Point&quot;}, &quot;id&quot;: &quot;1133&quot;, &quot;properties&quot;: {}, &quot;type&quot;: &quot;Feature&quot;}, {&quot;bbox&quot;: [9.17614143400054, 39.21294787764275, 9.17614143400054, 39.21294787764275], &quot;geometry&quot;: {&quot;coordinates&quot;: [9.17614143400054, 39.21294787764275], &quot;type&quot;: &quot;Point&quot;}, &quot;id&quot;: &quot;1134&quot;, &quot;properties&quot;: {}, &quot;type&quot;: &quot;Feature&quot;}, {&quot;bbox&quot;: [9.176128504662888, 39.21296432985434, 9.176128504662888, 39.21296432985434], &quot;geometry&quot;: {&quot;coordinates&quot;: [9.176128504662888, 39.21296432985434], &quot;type&quot;: &quot;Point&quot;}, &quot;id&quot;: &quot;1135&quot;, &quot;properties&quot;: {}, &quot;type&quot;: &quot;Feature&quot;}, {&quot;bbox&quot;: [9.176133398478315, 39.212958102615545, 9.176133398478315, 39.212958102615545], &quot;geometry&quot;: {&quot;coordinates&quot;: [9.176133398478315, 39.212958102615545], &quot;type&quot;: &quot;Point&quot;}, &quot;id&quot;: &quot;1136&quot;, &quot;properties&quot;: {}, &quot;type&quot;: &quot;Feature&quot;}, {&quot;bbox&quot;: [9.176149409103003, 39.21293772954891, 9.176149409103003, 39.21293772954891], &quot;geometry&quot;: {&quot;coordinates&quot;: [9.176149409103003, 39.21293772954891], &quot;type&quot;: &quot;Point&quot;}, &quot;id&quot;: &quot;1137&quot;, &quot;properties&quot;: {}, &quot;type&quot;: &quot;Feature&quot;}, {&quot;bbox&quot;: [9.176134788080072, 39.212956334387215, 9.176134788080072, 39.212956334387215], &quot;geometry&quot;: {&quot;coordinates&quot;: [9.176134788080072, 39.212956334387215], &quot;type&quot;: &quot;Point&quot;}, &quot;id&quot;: &quot;1138&quot;, &quot;properties&quot;: {}, &quot;type&quot;: &quot;Feature&quot;}, {&quot;bbox&quot;: [9.176128021323045, 39.21296494489024, 9.176128021323045, 39.21296494489024], &quot;geometry&quot;: {&quot;coordinates&quot;: [9.176128021323045, 39.21296494489024], &quot;type&quot;: &quot;Point&quot;}, &quot;id&quot;: &quot;1139&quot;, &quot;properties&quot;: {}, &quot;type&quot;: &quot;Feature&quot;}, {&quot;bbox&quot;: [9.17614022565148, 39.2129494152327, 9.17614022565148, 39.2129494152327], &quot;geometry&quot;: {&quot;coordinates&quot;: [9.17614022565148, 39.2129494152327], &quot;type&quot;: &quot;Point&quot;}, &quot;id&quot;: &quot;1140&quot;, &quot;properties&quot;: {}, &quot;type&quot;: &quot;Feature&quot;}, {&quot;bbox&quot;: [9.176143790281053, 39.21294487934237, 9.176143790281053, 39.21294487934237], &quot;geometry&quot;: {&quot;coordinates&quot;: [9.176143790281053, 39.21294487934237], &quot;type&quot;: &quot;Point&quot;}, &quot;id&quot;: &quot;1141&quot;, &quot;properties&quot;: {}, &quot;type&quot;: &quot;Feature&quot;}, {&quot;bbox&quot;: [9.176145119464836, 39.2129431879934, 9.176145119464836, 39.2129431879934], &quot;geometry&quot;: {&quot;coordinates&quot;: [9.176145119464836, 39.2129431879934], &quot;type&quot;: &quot;Point&quot;}, &quot;id&quot;: &quot;1142&quot;, &quot;properties&quot;: {}, &quot;type&quot;: &quot;Feature&quot;}, {&quot;bbox&quot;: [9.176155269593501, 39.21293027223717, 9.176155269593501, 39.21293027223717], &quot;geometry&quot;: {&quot;coordinates&quot;: [9.176155269593501, 39.21293027223717], &quot;type&quot;: &quot;Point&quot;}, &quot;id&quot;: &quot;1143&quot;, &quot;properties&quot;: {}, &quot;type&quot;: &quot;Feature&quot;}, {&quot;bbox&quot;: [9.176137748535748, 39.21295256729201, 9.176137748535748, 39.21295256729201], &quot;geometry&quot;: {&quot;coordinates&quot;: [9.176137748535748, 39.21295256729201], &quot;type&quot;: &quot;Point&quot;}, &quot;id&quot;: &quot;1144&quot;, &quot;properties&quot;: {}, &quot;type&quot;: &quot;Feature&quot;}, {&quot;bbox&quot;: [9.176133942235534, 39.21295741070011, 9.176133942235534, 39.21295741070011], &quot;geometry&quot;: {&quot;coordinates&quot;: [9.176133942235534, 39.21295741070011], &quot;type&quot;: &quot;Point&quot;}, &quot;id&quot;: &quot;1145&quot;, &quot;properties&quot;: {}, &quot;type&quot;: &quot;Feature&quot;}, {&quot;bbox&quot;: [9.176123369176635, 39.21297086461085, 9.176123369176635, 39.21297086461085], &quot;geometry&quot;: {&quot;coordinates&quot;: [9.176123369176635, 39.21297086461085], &quot;type&quot;: &quot;Point&quot;}, &quot;id&quot;: &quot;1146&quot;, &quot;properties&quot;: {}, &quot;type&quot;: &quot;Feature&quot;}, {&quot;bbox&quot;: [9.176111950268503, 39.21298539483337, 9.176111950268503, 39.21298539483337], &quot;geometry&quot;: {&quot;coordinates&quot;: [9.176111950268503, 39.21298539483337], &quot;type&quot;: &quot;Point&quot;}, &quot;id&quot;: &quot;1147&quot;, &quot;properties&quot;: {}, &quot;type&quot;: &quot;Feature&quot;}, {&quot;bbox&quot;: [9.176127960905566, 39.21296502176975, 9.176127960905566, 39.21296502176975], &quot;geometry&quot;: {&quot;coordinates&quot;: [9.176127960905566, 39.21296502176975], &quot;type&quot;: &quot;Point&quot;}, &quot;id&quot;: &quot;1148&quot;, &quot;properties&quot;: {}, &quot;type&quot;: &quot;Feature&quot;}, {&quot;bbox&quot;: [9.176159015473377, 39.212925505707865, 9.176159015473377, 39.212925505707865], &quot;geometry&quot;: {&quot;coordinates&quot;: [9.176159015473377, 39.212925505707865], &quot;type&quot;: &quot;Point&quot;}, &quot;id&quot;: &quot;1149&quot;, &quot;properties&quot;: {}, &quot;type&quot;: &quot;Feature&quot;}, {&quot;bbox&quot;: [9.176114004463965, 39.212982780930986, 9.176114004463965, 39.212982780930986], &quot;geometry&quot;: {&quot;coordinates&quot;: [9.176114004463965, 39.212982780930986], &quot;type&quot;: &quot;Point&quot;}, &quot;id&quot;: &quot;1150&quot;, &quot;properties&quot;: {}, &quot;type&quot;: &quot;Feature&quot;}, {&quot;bbox&quot;: [9.176121435816858, 39.21297332475443, 9.176121435816858, 39.21297332475443], &quot;geometry&quot;: {&quot;coordinates&quot;: [9.176121435816858, 39.21297332475443], &quot;type&quot;: &quot;Point&quot;}, &quot;id&quot;: &quot;1151&quot;, &quot;properties&quot;: {}, &quot;type&quot;: &quot;Feature&quot;}, {&quot;bbox&quot;: [9.17610784187713, 39.212990622638, 9.17610784187713, 39.212990622638], &quot;geometry&quot;: {&quot;coordinates&quot;: [9.17610784187713, 39.212990622638], &quot;type&quot;: &quot;Point&quot;}, &quot;id&quot;: &quot;1152&quot;, &quot;properties&quot;: {}, &quot;type&quot;: &quot;Feature&quot;}, {&quot;bbox&quot;: [9.176113460706357, 39.21298347284633, 9.176113460706357, 39.21298347284633], &quot;geometry&quot;: {&quot;coordinates&quot;: [9.176113460706357, 39.21298347284633], &quot;type&quot;: &quot;Point&quot;}, &quot;id&quot;: &quot;1153&quot;, &quot;properties&quot;: {}, &quot;type&quot;: &quot;Feature&quot;}, {&quot;bbox&quot;: [9.176112131521052, 39.212985164194926, 9.176112131521052, 39.212985164194926], &quot;geometry&quot;: {&quot;coordinates&quot;: [9.176112131521052, 39.212985164194926], &quot;type&quot;: &quot;Point&quot;}, &quot;id&quot;: &quot;1154&quot;, &quot;properties&quot;: {}, &quot;type&quot;: &quot;Feature&quot;}, {&quot;bbox&quot;: [9.176104095990341, 39.212995389165634, 9.176104095990341, 39.212995389165634], &quot;geometry&quot;: {&quot;coordinates&quot;: [9.176104095990341, 39.212995389165634], &quot;type&quot;: &quot;Point&quot;}, &quot;id&quot;: &quot;1155&quot;, &quot;properties&quot;: {}, &quot;type&quot;: &quot;Feature&quot;}, {&quot;bbox&quot;: [9.176088145757076, 39.21301568534642, 9.176088145757076, 39.21301568534642], &quot;geometry&quot;: {&quot;coordinates&quot;: [9.176088145757076, 39.21301568534642], &quot;type&quot;: &quot;Point&quot;}, &quot;id&quot;: &quot;1156&quot;, &quot;properties&quot;: {}, &quot;type&quot;: &quot;Feature&quot;}, {&quot;bbox&quot;: [9.176101981376611, 39.21299807994731, 9.176101981376611, 39.21299807994731], &quot;geometry&quot;: {&quot;coordinates&quot;: [9.176101981376611, 39.21299807994731], &quot;type&quot;: &quot;Point&quot;}, &quot;id&quot;: &quot;1157&quot;, &quot;properties&quot;: {}, &quot;type&quot;: &quot;Feature&quot;}, {&quot;bbox&quot;: [9.176121254564375, 39.21297355539289, 9.176121254564375, 39.21297355539289], &quot;geometry&quot;: {&quot;coordinates&quot;: [9.176121254564375, 39.21297355539289], &quot;type&quot;: &quot;Point&quot;}, &quot;id&quot;: &quot;1158&quot;, &quot;properties&quot;: {}, &quot;type&quot;: &quot;Feature&quot;}, {&quot;bbox&quot;: [9.176148925763522, 39.21293834458493, 9.176148925763522, 39.21293834458493], &quot;geometry&quot;: {&quot;coordinates&quot;: [9.176148925763522, 39.21293834458493], &quot;type&quot;: &quot;Point&quot;}, &quot;id&quot;: &quot;1159&quot;, &quot;properties&quot;: {}, &quot;type&quot;: &quot;Feature&quot;}, {&quot;bbox&quot;: [9.176114729474094, 39.212981858377205, 9.176114729474094, 39.212981858377205], &quot;geometry&quot;: {&quot;coordinates&quot;: [9.176114729474094, 39.212981858377205], &quot;type&quot;: &quot;Point&quot;}, &quot;id&quot;: &quot;1160&quot;, &quot;properties&quot;: {}, &quot;type&quot;: &quot;Feature&quot;}, {&quot;bbox&quot;: [9.176197259669634, 39.21287684097412, 9.176197259669634, 39.21287684097412], &quot;geometry&quot;: {&quot;coordinates&quot;: [9.176197259669634, 39.21287684097412], &quot;type&quot;: &quot;Point&quot;}, &quot;id&quot;: &quot;1161&quot;, &quot;properties&quot;: {}, &quot;type&quot;: &quot;Feature&quot;}, {&quot;bbox&quot;: [9.176100289685513, 39.213000232572625, 9.176100289685513, 39.213000232572625], &quot;geometry&quot;: {&quot;coordinates&quot;: [9.176100289685513, 39.213000232572625], &quot;type&quot;: &quot;Point&quot;}, &quot;id&quot;: &quot;1162&quot;, &quot;properties&quot;: {}, &quot;type&quot;: &quot;Feature&quot;}, {&quot;bbox&quot;: [9.176123731681582, 39.212970403333934, 9.176123731681582, 39.212970403333934], &quot;geometry&quot;: {&quot;coordinates&quot;: [9.176123731681582, 39.212970403333934], &quot;type&quot;: &quot;Point&quot;}, &quot;id&quot;: &quot;1163&quot;, &quot;properties&quot;: {}, &quot;type&quot;: &quot;Feature&quot;}, {&quot;bbox&quot;: [9.176094791688719, 39.2130072286047, 9.176094791688719, 39.2130072286047], &quot;geometry&quot;: {&quot;coordinates&quot;: [9.176094791688719, 39.2130072286047], &quot;type&quot;: &quot;Point&quot;}, &quot;id&quot;: &quot;1164&quot;, &quot;properties&quot;: {}, &quot;type&quot;: &quot;Feature&quot;}, {&quot;bbox&quot;: [9.17610276680459, 39.212997080514135, 9.17610276680459, 39.212997080514135], &quot;geometry&quot;: {&quot;coordinates&quot;: [9.17610276680459, 39.212997080514135], &quot;type&quot;: &quot;Point&quot;}, &quot;id&quot;: &quot;1165&quot;, &quot;properties&quot;: {}, &quot;type&quot;: &quot;Feature&quot;}, {&quot;bbox&quot;: [9.176092072898692, 39.213010688180894, 9.176092072898692, 39.213010688180894], &quot;geometry&quot;: {&quot;coordinates&quot;: [9.176092072898692, 39.213010688180894], &quot;type&quot;: &quot;Point&quot;}, &quot;id&quot;: &quot;1166&quot;, &quot;properties&quot;: {}, &quot;type&quot;: &quot;Feature&quot;}, {&quot;bbox&quot;: [9.1761031293098, 39.21299661923726, 9.1761031293098, 39.21299661923726], &quot;geometry&quot;: {&quot;coordinates&quot;: [9.1761031293098, 39.21299661923726], &quot;type&quot;: &quot;Point&quot;}, &quot;id&quot;: &quot;1167&quot;, &quot;properties&quot;: {}, &quot;type&quot;: &quot;Feature&quot;}, {&quot;bbox&quot;: [9.176103491815006, 39.212996157960404, 9.176103491815006, 39.212996157960404], &quot;geometry&quot;: {&quot;coordinates&quot;: [9.176103491815006, 39.212996157960404], &quot;type&quot;: &quot;Point&quot;}, &quot;id&quot;: &quot;1168&quot;, &quot;properties&quot;: {}, &quot;type&quot;: &quot;Feature&quot;}, {&quot;bbox&quot;: [9.17612246291426, 39.212972017803175, 9.17612246291426, 39.212972017803175], &quot;geometry&quot;: {&quot;coordinates&quot;: [9.17612246291426, 39.212972017803175], &quot;type&quot;: &quot;Point&quot;}, &quot;id&quot;: &quot;1169&quot;, &quot;properties&quot;: {}, &quot;type&quot;: &quot;Feature&quot;}, {&quot;bbox&quot;: [9.176107962712175, 39.21299046887904, 9.176107962712175, 39.21299046887904], &quot;geometry&quot;: {&quot;coordinates&quot;: [9.176107962712175, 39.21299046887904], &quot;type&quot;: &quot;Point&quot;}, &quot;id&quot;: &quot;1170&quot;, &quot;properties&quot;: {}, &quot;type&quot;: &quot;Feature&quot;}, {&quot;bbox&quot;: [9.176136902691301, 39.21295364360493, 9.176136902691301, 39.21295364360493], &quot;geometry&quot;: {&quot;coordinates&quot;: [9.176136902691301, 39.21295364360493], &quot;type&quot;: &quot;Point&quot;}, &quot;id&quot;: &quot;1171&quot;, &quot;properties&quot;: {}, &quot;type&quot;: &quot;Feature&quot;}, {&quot;bbox&quot;: [9.17614566322183, 39.21294249607794, 9.17614566322183, 39.21294249607794], &quot;geometry&quot;: {&quot;coordinates&quot;: [9.17614566322183, 39.21294249607794], &quot;type&quot;: &quot;Point&quot;}, &quot;id&quot;: &quot;1172&quot;, &quot;properties&quot;: {}, &quot;type&quot;: &quot;Feature&quot;}, {&quot;bbox&quot;: [9.17610276680459, 39.212997080514135, 9.17610276680459, 39.212997080514135], &quot;geometry&quot;: {&quot;coordinates&quot;: [9.17610276680459, 39.212997080514135], &quot;type&quot;: &quot;Point&quot;}, &quot;id&quot;: &quot;1173&quot;, &quot;properties&quot;: {}, &quot;type&quot;: &quot;Feature&quot;}, {&quot;bbox&quot;: [9.176103673067612, 39.21299592732196, 9.176103673067612, 39.21299592732196], &quot;geometry&quot;: {&quot;coordinates&quot;: [9.176103673067612, 39.21299592732196], &quot;type&quot;: &quot;Point&quot;}, &quot;id&quot;: &quot;1174&quot;, &quot;properties&quot;: {}, &quot;type&quot;: &quot;Feature&quot;}, {&quot;bbox&quot;: [9.176124940031356, 39.212968865744195, 9.176124940031356, 39.212968865744195], &quot;geometry&quot;: {&quot;coordinates&quot;: [9.176124940031356, 39.212968865744195], &quot;type&quot;: &quot;Point&quot;}, &quot;id&quot;: &quot;1175&quot;, &quot;properties&quot;: {}, &quot;type&quot;: &quot;Feature&quot;}, {&quot;bbox&quot;: [9.17613315680844, 39.212958410133524, 9.17613315680844, 39.212958410133524], &quot;geometry&quot;: {&quot;coordinates&quot;: [9.17613315680844, 39.212958410133524], &quot;type&quot;: &quot;Point&quot;}, &quot;id&quot;: &quot;1176&quot;, &quot;properties&quot;: {}, &quot;type&quot;: &quot;Feature&quot;}, {&quot;bbox&quot;: [9.176133821400597, 39.2129575644591, 9.176133821400597, 39.2129575644591], &quot;geometry&quot;: {&quot;coordinates&quot;: [9.176133821400597, 39.2129575644591], &quot;type&quot;: &quot;Point&quot;}, &quot;id&quot;: &quot;1177&quot;, &quot;properties&quot;: {}, &quot;type&quot;: &quot;Feature&quot;}, {&quot;bbox&quot;: [9.176108808557503, 39.21298939256632, 9.176108808557503, 39.21298939256632], &quot;geometry&quot;: {&quot;coordinates&quot;: [9.176108808557503, 39.21298939256632], &quot;type&quot;: &quot;Point&quot;}, &quot;id&quot;: &quot;1178&quot;, &quot;properties&quot;: {}, &quot;type&quot;: &quot;Feature&quot;}, {&quot;bbox&quot;: [9.176108506469891, 39.21298977696373, 9.176108506469891, 39.21298977696373], &quot;geometry&quot;: {&quot;coordinates&quot;: [9.176108506469891, 39.21298977696373], &quot;type&quot;: &quot;Point&quot;}, &quot;id&quot;: &quot;1179&quot;, &quot;properties&quot;: {}, &quot;type&quot;: &quot;Feature&quot;}, {&quot;bbox&quot;: [9.176148321589165, 39.212939113379925, 9.176148321589165, 39.212939113379925], &quot;geometry&quot;: {&quot;coordinates&quot;: [9.176148321589165, 39.212939113379925], &quot;type&quot;: &quot;Point&quot;}, &quot;id&quot;: &quot;1180&quot;, &quot;properties&quot;: {}, &quot;type&quot;: &quot;Feature&quot;}, {&quot;bbox&quot;: [9.17617152187511, 39.21290959164942, 9.17617152187511, 39.21290959164942], &quot;geometry&quot;: {&quot;coordinates&quot;: [9.17617152187511, 39.21290959164942], &quot;type&quot;: &quot;Point&quot;}, &quot;id&quot;: &quot;1181&quot;, &quot;properties&quot;: {}, &quot;type&quot;: &quot;Feature&quot;}, {&quot;bbox&quot;: [9.17610844605237, 39.21298985384321, 9.17610844605237, 39.21298985384321], &quot;geometry&quot;: {&quot;coordinates&quot;: [9.17610844605237, 39.21298985384321], &quot;type&quot;: &quot;Point&quot;}, &quot;id&quot;: &quot;1182&quot;, &quot;properties&quot;: {}, &quot;type&quot;: &quot;Feature&quot;}, {&quot;bbox&quot;: [9.176140829826016, 39.212948646437724, 9.176140829826016, 39.212948646437724], &quot;geometry&quot;: {&quot;coordinates&quot;: [9.176140829826016, 39.212948646437724], &quot;type&quot;: &quot;Point&quot;}, &quot;id&quot;: &quot;1183&quot;, &quot;properties&quot;: {}, &quot;type&quot;: &quot;Feature&quot;}, {&quot;bbox&quot;: [9.176141011078373, 39.212948415799254, 9.176141011078373, 39.212948415799254], &quot;geometry&quot;: {&quot;coordinates&quot;: [9.176141011078373, 39.212948415799254], &quot;type&quot;: &quot;Point&quot;}, &quot;id&quot;: &quot;1184&quot;, &quot;properties&quot;: {}, &quot;type&quot;: &quot;Feature&quot;}, {&quot;bbox&quot;: [9.176158230046996, 39.21292650514144, 9.176158230046996, 39.21292650514144], &quot;geometry&quot;: {&quot;coordinates&quot;: [9.176158230046996, 39.21292650514144], &quot;type&quot;: &quot;Point&quot;}, &quot;id&quot;: &quot;1185&quot;, &quot;properties&quot;: {}, &quot;type&quot;: &quot;Feature&quot;}, {&quot;bbox&quot;: [9.176150919538815, 39.21293580756139, 9.176150919538815, 39.21293580756139], &quot;geometry&quot;: {&quot;coordinates&quot;: [9.176150919538815, 39.21293580756139], &quot;type&quot;: &quot;Point&quot;}, &quot;id&quot;: &quot;1186&quot;, &quot;properties&quot;: {}, &quot;type&quot;: &quot;Feature&quot;}, {&quot;bbox&quot;: [9.176143306941473, 39.21294549437836, 9.176143306941473, 39.21294549437836], &quot;geometry&quot;: {&quot;coordinates&quot;: [9.176143306941473, 39.21294549437836], &quot;type&quot;: &quot;Point&quot;}, &quot;id&quot;: &quot;1187&quot;, &quot;properties&quot;: {}, &quot;type&quot;: &quot;Feature&quot;}, {&quot;bbox&quot;: [9.176115031561638, 39.212981473979774, 9.176115031561638, 39.212981473979774], &quot;geometry&quot;: {&quot;coordinates&quot;: [9.176115031561638, 39.212981473979774], &quot;type&quot;: &quot;Point&quot;}, &quot;id&quot;: &quot;1188&quot;, &quot;properties&quot;: {}, &quot;type&quot;: &quot;Feature&quot;}, {&quot;bbox&quot;: [9.176109110645118, 39.212989008168925, 9.176109110645118, 39.212989008168925], &quot;geometry&quot;: {&quot;coordinates&quot;: [9.176109110645118, 39.212989008168925], &quot;type&quot;: &quot;Point&quot;}, &quot;id&quot;: &quot;1189&quot;, &quot;properties&quot;: {}, &quot;type&quot;: &quot;Feature&quot;}, {&quot;bbox&quot;: [9.176199918032028, 39.212873458274906, 9.176199918032028, 39.212873458274906], &quot;geometry&quot;: {&quot;coordinates&quot;: [9.176199918032028, 39.212873458274906], &quot;type&quot;: &quot;Point&quot;}, &quot;id&quot;: &quot;1190&quot;, &quot;properties&quot;: {}, &quot;type&quot;: &quot;Feature&quot;}, {&quot;bbox&quot;: [9.17617514691804, 39.212904978878605, 9.17617514691804, 39.212904978878605], &quot;geometry&quot;: {&quot;coordinates&quot;: [9.17617514691804, 39.212904978878605], &quot;type&quot;: &quot;Point&quot;}, &quot;id&quot;: &quot;1191&quot;, &quot;properties&quot;: {}, &quot;type&quot;: &quot;Feature&quot;}, {&quot;bbox&quot;: [9.17616245926572, 39.21292112357596, 9.17616245926572, 39.21292112357596], &quot;geometry&quot;: {&quot;coordinates&quot;: [9.17616245926572, 39.21292112357596], &quot;type&quot;: &quot;Point&quot;}, &quot;id&quot;: &quot;1192&quot;, &quot;properties&quot;: {}, &quot;type&quot;: &quot;Feature&quot;}, {&quot;bbox&quot;: [9.176146569483448, 39.212941342885415, 9.176146569483448, 39.212941342885415], &quot;geometry&quot;: {&quot;coordinates&quot;: [9.176146569483448, 39.212941342885415], &quot;type&quot;: &quot;Point&quot;}, &quot;id&quot;: &quot;1193&quot;, &quot;properties&quot;: {}, &quot;type&quot;: &quot;Feature&quot;}, {&quot;bbox&quot;: [9.176156236272229, 39.21292904216511, 9.176156236272229, 39.21292904216511], &quot;geometry&quot;: {&quot;coordinates&quot;: [9.176156236272229, 39.21292904216511], &quot;type&quot;: &quot;Point&quot;}, &quot;id&quot;: &quot;1194&quot;, &quot;properties&quot;: {}, &quot;type&quot;: &quot;Feature&quot;}, {&quot;bbox&quot;: [9.176105666846151, 39.21299339029921, 9.176105666846151, 39.21299339029921], &quot;geometry&quot;: {&quot;coordinates&quot;: [9.176105666846151, 39.21299339029921], &quot;type&quot;: &quot;Point&quot;}, &quot;id&quot;: &quot;1195&quot;, &quot;properties&quot;: {}, &quot;type&quot;: &quot;Feature&quot;}, {&quot;bbox&quot;: [9.176092979162062, 39.213009534988835, 9.176092979162062, 39.213009534988835], &quot;geometry&quot;: {&quot;coordinates&quot;: [9.176092979162062, 39.213009534988835], &quot;type&quot;: &quot;Point&quot;}, &quot;id&quot;: &quot;1196&quot;, &quot;properties&quot;: {}, &quot;type&quot;: &quot;Feature&quot;}, {&quot;bbox&quot;: [9.176124637943918, 39.212969250141626, 9.176124637943918, 39.212969250141626], &quot;geometry&quot;: {&quot;coordinates&quot;: [9.176124637943918, 39.212969250141626], &quot;type&quot;: &quot;Point&quot;}, &quot;id&quot;: &quot;1197&quot;, &quot;properties&quot;: {}, &quot;type&quot;: &quot;Feature&quot;}, {&quot;bbox&quot;: [9.176162096761285, 39.212921584853014, 9.176162096761285, 39.212921584853014], &quot;geometry&quot;: {&quot;coordinates&quot;: [9.176162096761285, 39.212921584853014], &quot;type&quot;: &quot;Point&quot;}, &quot;id&quot;: &quot;1198&quot;, &quot;properties&quot;: {}, &quot;type&quot;: &quot;Feature&quot;}, {&quot;bbox&quot;: [9.176187955399248, 39.212888680420775, 9.176187955399248, 39.212888680420775], &quot;geometry&quot;: {&quot;coordinates&quot;: [9.176187955399248, 39.212888680420775], &quot;type&quot;: &quot;Point&quot;}, &quot;id&quot;: &quot;1199&quot;, &quot;properties&quot;: {}, &quot;type&quot;: &quot;Feature&quot;}, {&quot;bbox&quot;: [9.176145723639271, 39.21294241919842, 9.176145723639271, 39.21294241919842], &quot;geometry&quot;: {&quot;coordinates&quot;: [9.176145723639271, 39.21294241919842], &quot;type&quot;: &quot;Point&quot;}, &quot;id&quot;: &quot;1200&quot;, &quot;properties&quot;: {}, &quot;type&quot;: &quot;Feature&quot;}, {&quot;bbox&quot;: [9.17610276680459, 39.212997080514135, 9.17610276680459, 39.212997080514135], &quot;geometry&quot;: {&quot;coordinates&quot;: [9.17610276680459, 39.212997080514135], &quot;type&quot;: &quot;Point&quot;}, &quot;id&quot;: &quot;1201&quot;, &quot;properties&quot;: {}, &quot;type&quot;: &quot;Feature&quot;}, {&quot;bbox&quot;: [9.17610633143897, 39.212992544624974, 9.17610633143897, 39.212992544624974], &quot;geometry&quot;: {&quot;coordinates&quot;: [9.17610633143897, 39.212992544624974], &quot;type&quot;: &quot;Point&quot;}, &quot;id&quot;: &quot;1202&quot;, &quot;properties&quot;: {}, &quot;type&quot;: &quot;Feature&quot;}], &quot;type&quot;: &quot;FeatureCollection&quot;});\n",
       "\n",
       "        \n",
       "    \n",
       "    geo_json_a0367835434b572f4bf024236502508c.bindTooltip(\n",
       "    function(layer){\n",
       "    let div = L.DomUtil.create(&#x27;div&#x27;);\n",
       "    \n",
       "    return div\n",
       "    }\n",
       "    ,{\n",
       "  &quot;sticky&quot;: true,\n",
       "  &quot;className&quot;: &quot;foliumtooltip&quot;,\n",
       "});\n",
       "                     \n",
       "    \n",
       "            geo_json_a0367835434b572f4bf024236502508c.addTo(map_799a1c3e132da6b5dc8cf6dccc0968ee);\n",
       "        \n",
       "    \n",
       "        function geo_json_f0e5c04f533ead76d048576112cc5a68_styler(feature) {\n",
       "            switch(feature.id) {\n",
       "                default:\n",
       "                    return {&quot;fillOpacity&quot;: 0.5, &quot;weight&quot;: 2};\n",
       "            }\n",
       "        }\n",
       "        function geo_json_f0e5c04f533ead76d048576112cc5a68_highlighter(feature) {\n",
       "            switch(feature.id) {\n",
       "                default:\n",
       "                    return {&quot;fillOpacity&quot;: 0.75};\n",
       "            }\n",
       "        }\n",
       "        function geo_json_f0e5c04f533ead76d048576112cc5a68_pointToLayer(feature, latlng) {\n",
       "            var opts = {&quot;bubblingMouseEvents&quot;: true, &quot;color&quot;: &quot;#3388ff&quot;, &quot;dashArray&quot;: null, &quot;dashOffset&quot;: null, &quot;fill&quot;: true, &quot;fillColor&quot;: &quot;#3388ff&quot;, &quot;fillOpacity&quot;: 0.2, &quot;fillRule&quot;: &quot;evenodd&quot;, &quot;lineCap&quot;: &quot;round&quot;, &quot;lineJoin&quot;: &quot;round&quot;, &quot;opacity&quot;: 1.0, &quot;radius&quot;: 2, &quot;stroke&quot;: true, &quot;weight&quot;: 3};\n",
       "            \n",
       "            let style = geo_json_f0e5c04f533ead76d048576112cc5a68_styler(feature)\n",
       "            Object.assign(opts, style)\n",
       "            \n",
       "            return new L.CircleMarker(latlng, opts)\n",
       "        }\n",
       "\n",
       "        function geo_json_f0e5c04f533ead76d048576112cc5a68_onEachFeature(feature, layer) {\n",
       "            layer.on({\n",
       "                mouseout: function(e) {\n",
       "                    if(typeof e.target.setStyle === &quot;function&quot;){\n",
       "                            geo_json_f0e5c04f533ead76d048576112cc5a68.resetStyle(e.target);\n",
       "                    }\n",
       "                },\n",
       "                mouseover: function(e) {\n",
       "                    if(typeof e.target.setStyle === &quot;function&quot;){\n",
       "                        const highlightStyle = geo_json_f0e5c04f533ead76d048576112cc5a68_highlighter(e.target.feature)\n",
       "                        e.target.setStyle(highlightStyle);\n",
       "                    }\n",
       "                },\n",
       "            });\n",
       "        };\n",
       "        var geo_json_f0e5c04f533ead76d048576112cc5a68 = L.geoJson(null, {\n",
       "                onEachFeature: geo_json_f0e5c04f533ead76d048576112cc5a68_onEachFeature,\n",
       "            \n",
       "                style: geo_json_f0e5c04f533ead76d048576112cc5a68_styler,\n",
       "                pointToLayer: geo_json_f0e5c04f533ead76d048576112cc5a68_pointToLayer,\n",
       "            ...{\n",
       "}\n",
       "        });\n",
       "\n",
       "        function geo_json_f0e5c04f533ead76d048576112cc5a68_add (data) {\n",
       "            geo_json_f0e5c04f533ead76d048576112cc5a68\n",
       "                .addData(data);\n",
       "        }\n",
       "            geo_json_f0e5c04f533ead76d048576112cc5a68_add({&quot;bbox&quot;: [9.161996609214235, 39.20183495949611, 9.165797857706705, 39.20389510049792], &quot;features&quot;: [{&quot;bbox&quot;: [9.161996609214235, 39.20183495949611, 9.165797857706705, 39.20389510049792], &quot;geometry&quot;: {&quot;coordinates&quot;: [[9.161996609214235, 39.20389510049792], [9.165797857706705, 39.20183495949611]], &quot;type&quot;: &quot;LineString&quot;}, &quot;id&quot;: &quot;0&quot;, &quot;properties&quot;: {}, &quot;type&quot;: &quot;Feature&quot;}], &quot;type&quot;: &quot;FeatureCollection&quot;});\n",
       "\n",
       "        \n",
       "    \n",
       "    geo_json_f0e5c04f533ead76d048576112cc5a68.bindTooltip(\n",
       "    function(layer){\n",
       "    let div = L.DomUtil.create(&#x27;div&#x27;);\n",
       "    \n",
       "    return div\n",
       "    }\n",
       "    ,{\n",
       "  &quot;sticky&quot;: true,\n",
       "  &quot;className&quot;: &quot;foliumtooltip&quot;,\n",
       "});\n",
       "                     \n",
       "    \n",
       "            geo_json_f0e5c04f533ead76d048576112cc5a68.addTo(map_799a1c3e132da6b5dc8cf6dccc0968ee);\n",
       "        \n",
       "&lt;/script&gt;\n",
       "&lt;/html&gt;\" style=\"position:absolute;width:100%;height:100%;left:0;top:0;border:none !important;\" allowfullscreen webkitallowfullscreen mozallowfullscreen></iframe></div></div>"
      ],
      "text/plain": [
       "<folium.folium.Map at 0x7c4864104e30>"
      ]
     },
     "execution_count": 70,
     "metadata": {},
     "output_type": "execute_result"
    }
   ],
   "source": [
    "results = []\n",
    "profiles = []\n",
    "\n",
    "def interpolate_zero_elevation(df: pd.DataFrame) -> tuple | None:\n",
    "    \"\"\"\n",
    "    Finds the two data points closest to elevation 0 (one positive, one negative)\n",
    "    and interpolates their latitude and longitude to estimate the coordinates\n",
    "    at elevation 0.\n",
    "\n",
    "    Args:\n",
    "        df: A pandas DataFrame with columns 'lat', 'lng', and 'elevation'.\n",
    "            Assumes valid data and necessary columns exist.\n",
    "\n",
    "    Returns:\n",
    "        A tuple containing the interpolated (latitude, longitude) at elevation 0,\n",
    "        or None if interpolation is not possible.\n",
    "    \"\"\"\n",
    "    # Optional: Handle exact zero first for efficiency\n",
    "    exact_zero = df.loc[df['elevation'] == 0]\n",
    "    if not exact_zero.empty:\n",
    "        return tuple(exact_zero[['lat', 'lng']].iloc[0])\n",
    "\n",
    "    try:\n",
    "        # Find indices of the closest points above and below zero\n",
    "        idx_pos = df.loc[df['elevation'] > 0, 'elevation'].idxmin()\n",
    "        idx_neg = df.loc[df['elevation'] < 0, 'elevation'].idxmax()\n",
    "\n",
    "        # Get the two points using the indices\n",
    "        p_neg = df.loc[idx_neg]\n",
    "        p_pos = df.loc[idx_pos]\n",
    "\n",
    "    except ValueError:\n",
    "        # Occurs if idxmin/idxmax fails (e.g., no positive or no negative elevations)\n",
    "        return None\n",
    "\n",
    "    # Unpack values for interpolation\n",
    "    e1, lat1, lng1 = p_neg['elevation'], p_neg['lat'], p_neg['lng']\n",
    "    e2, lat2, lng2 = p_pos['elevation'], p_pos['lat'], p_pos['lng']\n",
    "\n",
    "    # Calculate interpolation factor and interpolate lat/lng\n",
    "    # (e2 - e1) cannot be zero here because one is < 0 and one is > 0\n",
    "    factor = -e1 / (e2 - e1)\n",
    "    interp_lat = lat1 + factor * (lat2 - lat1)\n",
    "    interp_lng = lng1 + factor * (lng2 - lng1)\n",
    "\n",
    "    return (interp_lat, interp_lng)\n",
    "\n",
    "for f in files:\n",
    "    date = f[22:32]\n",
    "    site = f[33:35]\n",
    "    try:\n",
    "        df = pd.read_csv(f, sep=\";\", names=[\"lat\", \"lng\", \"elevation\"], index_col=False)\n",
    "        df = gpd.GeoDataFrame(df, geometry=gpd.points_from_xy(df.lng, df.lat), crs=32632)\n",
    "        zero_lat, zero_lng = interpolate_zero_elevation(df)\n",
    "\n",
    "        if date == \"2020_03_28\" and site == \"T3\":\n",
    "            df[\"distance\"] = df.distance(df.geometry.iloc[-1])\n",
    "            zero_dist_from_origin = Point(zero_lng, zero_lat).distance(df.geometry.iloc[-1])\n",
    "        else:\n",
    "            df[\"distance\"] = df.distance(df.geometry[0])\n",
    "            zero_dist_from_origin = Point(zero_lng, zero_lat).distance(df.geometry[0])\n",
    "        df[\"site\"] = site\n",
    "        df[\"date\"] = date\n",
    "        profiles.append(df)\n",
    "        results.append({\n",
    "            \"date\": date,\n",
    "            \"site\": site,\n",
    "            \"lat\": zero_lat,\n",
    "            \"lng\": zero_lng,\n",
    "            \"origin_lat\": df.lat[0],\n",
    "            \"origin_lng\": df.lng[0],\n",
    "            \"dist_from_origin\": zero_dist_from_origin,\n",
    "        })\n",
    "    except Exception as e:\n",
    "        pass\n",
    "        #print(f\"Error processing {f}: {e}\")\n",
    "df = pd.DataFrame(results)\n",
    "df = gpd.GeoDataFrame(df, geometry=gpd.points_from_xy(df.origin_lng, df.origin_lat), crs=32632)\n",
    "df.date = pd.to_datetime(df.date, format=\"%Y_%m_%d\")\n",
    "display(df)\n",
    "m = df.explore(\"date\")\n",
    "profiles = pd.concat(profiles)\n",
    "gpd.GeoSeries(intersects[transect_id]).explore(m=m, name=\"CoastSat\")\n",
    "gpd.GeoSeries(transects.geometry[\"sar0939-0000\"]).explore(m=m, name=\"transect\")"
   ]
  },
  {
   "cell_type": "code",
   "execution_count": 28,
   "metadata": {},
   "outputs": [
    {
     "data": {
      "text/html": [
       "<pre>✔️ 46.6 ms (2025-04-10T12:47:58/2025-04-10T12:47:59)</pre>"
      ],
      "text/plain": [
       "<IPython.core.display.HTML object>"
      ]
     },
     "metadata": {},
     "output_type": "display_data"
    },
    {
     "data": {
      "application/vnd.plotly.v1+json": {
       "config": {
        "plotlyServerURL": "https://plot.ly"
       },
       "data": [
        {
         "hovertemplate": "date=2017_04_06<br>distance=%{x}<br>elevation=%{y}<extra></extra>",
         "legendgroup": "2017_04_06",
         "line": {
          "color": "#636efa",
          "dash": "solid"
         },
         "marker": {
          "symbol": "circle"
         },
         "mode": "lines+markers",
         "name": "2017_04_06",
         "showlegend": true,
         "type": "scattergl",
         "x": {
          "bdata": "AAAAAAAAAAAYFIA6yVthPwAAAKC9wWc/YJDhs4R/cT/Ky/a1Y4ltP+uNvqaqJwRAv88sjG0fBED4HqZAFmYPQMMsXMCJaw9AZaUI0QgbGUB577dIUh8ZQHpGDaf7IBlAN5j0DsxkIECFHC9t92ggQLWhPmVlaCBAtB2yMv05JkBmN8QOdjwmQM2LZ5ZYPyZAMmja7cs+JkAXidWK6HErQG0fYeIfeStAkNl3xKd+K0DcMzC5DIErQF0mIp18xDBAWbu8q0jGMEAWUhcBr8UwQBm8toyOOjNAJaHz3/05M0DkA8tgvjozQDQtPYELLTZAM+YZHAEtNkAOIpGyHyw2QB+QQ2uIDjlAhQRC+jgOOUAo+uF8gQ45QIrPRobs/ztAhIx9+DD/O0D66G6A1n4+QEoUxMqffj5ATkzjsWl+PkBYSWSBfn4+QMtXWd6CHUFAFGlWdH0eQUBOepgqzh9BQKXYcbGJokJAGVvXogajQkBrvf8SLaJCQGmIZgVe20NAC1lHeKPbQ0DUKkdsK9xDQG/Wb33F20NA7R00nzvcQ0DHb7+87BdFQPboOmwOF0VA8WtrbPgWRUCG17F5FZlGQLtLctHQmEZAa3oIrSSZRkBUp1E/6JhGQCnTqOyvmEZA0ZT1QirhR0BI0I/c/+BHQNeKP4Uv30dAJns3rsojSUBTiZyb2iRJQGdMpe8LJklAllQwxNVpSkAP8hdPx2tKQHOpQgb9a0pAcyRspsBrSkB0OLmQBuhLQINhcOwQ6UtAKvWL4IXqS0A3EGowfetLQInr9sePVE1ACiYa/45TTUB+9mAL9VNNQAD3s3V1wk5A1xZIZ6vCTkD8oY5UcMJOQB0GIIgmwk5AHQYgiCbCTkBxWA784RNQQPVVp7TcE1BAdjglplcUUEAzDK4IFNlQQBRFL0qm2FBALpLQfbbYUEDV+Ppae5xRQPwDQB9inFFAuBmOMf6cUUBamaokaJ1RQKBdZz8GI1JAmpdnerUiUkCJjJxyyCJSQK4swoDgIVJA1Ey8QHXOUkCJ2VV+hM9SQI+jkkI0z1JAxwE7OB/PUkB5qbmhMc9SQExs770ZhFNA0k1lcUKEU0CRR+9NcYRTQKIhbTThhFNAvLYybc8xVEA2UM5J7TFUQK2P4tAIMlRAdk2gC48xVEDLf0WpLo9UQBw4KN2bjlRAOkTVzJCOVEBr0WhFYxZVQJQkmKPfFlVARr2sS1gWVUAe4yX0FBZVQO5CiTmiqVVAY145RYapVUBwbgQTX6lVQL3n/lMkN1ZAFKOAM5w3VkBncWj0ATdWQNVsnsj7NlZAFRoqnKc2VkBBvIC8BDhWQC9juZIdOFZAga6bGE85VkCy+CkUTN5WQD23Gg6m3lZAhHrpgCHfVkC9rvPrlN9WQDXc+VVAW1dAMvF+ZbpbV0AsQ6c7AFxXQBJXIgUTXFdAQK3DcsbnV0CQ0EG8h+hXQB68qdf96FdAcU2j/G9sWECheT768GxYQJsshJtRbVhA2KlH8VptWED0YE2tus1YQEJ5U85NzVhA4WWD0rNlWUA/50ACA2ZZQA4Iq7Y55VlA6iWNH0vlWUDuoTCLw+RZQBAulxeXWFpA4ch4wGZYWkA3F5pPhFhaQLc5Y8ZS4VpAe+e6mO7hWkBXi6Izfk1bQLTsSzLjTVtA8XsySkJOW0DTtRz/y01bQOBlDGIxtFtArQ3wItqzW0AmPe+ZJrRbQH/TWVOyMFxAv0+1o1YwXED4fqgsoDBcQHrIfOWyrVxA5ywmBECuXEB8LILmsa1cQGAN4rEmrlxATTDYk78eXUAwWOAQbh9dQJfe09VJH11AnJ46npI9XUADwTUO32ldQD9paKyWg11ALZDPYGGDXUAIfRYYs4NdQGasBSrIgl1A4ryX3PmCXUDdBD4etehdQPlLDkPJ6V1A1obR+PvoXUC8W80ff+hdQA==",
          "dtype": "f8"
         },
         "xaxis": "x",
         "y": {
          "bdata": "KVyPwvUo9j++nxov3ST2P+kmMQisHPY/1XjpJjEI9j8rhxbZzvf1P1YOLbKd7/s/QmDl0CLb+z/ByqFFtvP/P9V46SYxCABAXrpJDAIr+z8zMzMzMzP7P8l2vp8aL/s/sHJoke18+z+F61G4HoX7P3E9CtejcPs/ObTIdr6f9D+PwvUoXI/0P6RwPQrXo/Q/eekmMQis9D8/NV66SQz0P2iR7Xw/NfQ/vHSTGARW9D9SuB6F61H0P4GVQ4ts5/M/w/UoXI/C8z/D9Shcj8LzPwwCK4cW2fI/i2zn+6nx8j/LoUW28/3yP8P1KFyPwvE/LbKd76fG8T8tsp3vp8bxP6AaL90kBvE/tMh2vp8a8T9zaJHtfD/xP83MzMzMzPA/YhBYObTI8D+q8dJNYhDwP4GVQ4ts5+8/1XjpJjEI8D8/NV66SQzwPxBYObTIdu4/j8L1KFyP7j9iEFg5tMjuPz81XrpJDO4/EFg5tMh27j85tMh2vp/uP99PjZduEu8/3SQGgZVD7z8GgZVDi2zvP9v5fmq8dO8/MQisHFpk7z9mZmZmZmbwP5HtfD81XvA/EFg5tMh28D9/arx0kxjyP6rx0k1iEPI/qvHSTWIQ8j+q8dJNYhDyPz81XrpJDPI/bxKDwMqh8z/wp8ZLN4nzPxkEVg4tsvM/H4XrUbge9T8K16NwPQr1P8uhRbbz/fQ/rBxaZDvf9T8UrkfhehT2P/7UeOkmMfY/001iEFg59j/NzMzMzMz2P6JFtvP91PY/Di2yne+n9j8QWDm0yHb2PyUGgZVDi/Y/zczMzMzM9j956SYxCKz2P+Olm8QgsPY/TmIQWDm09j83iUFg5dD2PzeJQWDl0PY/DAIrhxbZ9j97FK5H4Xr2P6RwPQrXo/Y/ObTIdr6f9j+Nl24Sg8D2PyUGgZVDi/Y/N4lBYOXQ9j/Xo3A9Ctf1P9V46SYxCPY/6SYxCKwc9j9/arx0kxj2P5ZDi2zn+/U/arx0kxgE9j/VeOkmMQj2P/yp8dJNYvY/ObTIdr6f9D/l0CLb+X70P9Ei2/l+avQ/O99PjZdu9D+mm8QgsHL0P5ZDi2zn+/E/Vg4tsp3v8T/sUbgehevxPyuHFtnO9/E/pHA9Ctej8D956SYxCKzwPyPb+X5qvPA/IbByaJHt8D8pXI/C9SjwP5MYBFYOLfA/exSuR+F68D/Jdr6fGi/pP8uhRbbz/eg/yXa+nxov6T8dWmQ730/pP39qvHSTGOA/KVyPwvUo4D9cj8L1KFzfPz0K16NwPdI/8KfGSzeJ0T/wp8ZLN4nRPz81XrpJDNI/ke18PzVe0j+YbhKDwMrRP/Cnxks3idE/ke18PzVe0j9kO99PjZfOP2Dl0CLb+c4/uB6F61G4zj8UrkfhehTOPyUGgZVDi8w/HVpkO99PzT8ZBFYOLbLNPxSuR+F6FM4/AAAAAAAA0D+0yHa+nxrPP8HKoUW2880/eekmMQiszD956SYxCKzMPylcj8L1KMw/hetRuB6Fyz/RItv5fmq8P+F6FK5H4bo/sHJoke18z7+gGi/dJAbRv65H4XoUrt+/WDm0yHa+37+sHFpkO9/fvyGwcmiR7eC/H4XrUbge4b8hsHJoke3gvzMzMzMzM+O/NV66SQwC47+iRbbz/dTkv/p+arx0k+S/zczMzMzM5L+iRbbz/dTkv5HtfD81Xua/aJHtfD815r89CtejcD3mv76fGi/dJOq/vp8aL90k6r/jpZvEILDqvxsv3SQGge2/Gy/dJAaB7b8ZBFYOLbLtv0SLbOf7qe2/qMZLN4lB8L9WDi2yne/vv9NNYhBYOfC/I9v5fmq87L9MN4lBYOXwv4XrUbgehfG/bef7qfHS8b9CYOXQItvxv8P1KFyPwvG/QmDl0CLb8b+wcmiR7XzzvzEIrBxaZPO/HVpkO99P879I4XoUrkfzvw==",
          "dtype": "f8"
         },
         "yaxis": "y"
        },
        {
         "hovertemplate": "date=2018_10_09<br>distance=%{x}<br>elevation=%{y}<extra></extra>",
         "legendgroup": "2018_10_09",
         "line": {
          "color": "#EF553B",
          "dash": "solid"
         },
         "marker": {
          "symbol": "circle"
         },
         "mode": "lines+markers",
         "name": "2018_10_09",
         "showlegend": true,
         "type": "scattergl",
         "x": {
          "bdata": "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",
          "dtype": "f8"
         },
         "xaxis": "x",
         "y": {
          "bdata": "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",
          "dtype": "f8"
         },
         "yaxis": "y"
        },
        {
         "hovertemplate": "date=2018_10_19<br>distance=%{x}<br>elevation=%{y}<extra></extra>",
         "legendgroup": "2018_10_19",
         "line": {
          "color": "#00cc96",
          "dash": "solid"
         },
         "marker": {
          "symbol": "circle"
         },
         "mode": "lines+markers",
         "name": "2018_10_19",
         "showlegend": true,
         "type": "scattergl",
         "x": {
          "bdata": "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",
          "dtype": "f8"
         },
         "xaxis": "x",
         "y": {
          "bdata": "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",
          "dtype": "f8"
         },
         "yaxis": "y"
        },
        {
         "hovertemplate": "date=2020_01_20<br>distance=%{x}<br>elevation=%{y}<extra></extra>",
         "legendgroup": "2020_01_20",
         "line": {
          "color": "#ab63fa",
          "dash": "solid"
         },
         "marker": {
          "symbol": "circle"
         },
         "mode": "lines+markers",
         "name": "2020_01_20",
         "showlegend": true,
         "type": "scattergl",
         "x": {
          "bdata": "AAAAAAAAAADUDrlEZyGKP9nTD15s+3c/Nhzxz5Nlgj/uG/dd/gUCQPgs6n9X8QFAGCfrcCzuAUARVjH9vuABQBi4jJZViBBAaIIXixaBEEAl06yLym8QQBfLsYsGNiNAs5kM+qsvI0DSrwiZwCojQB1PlazxJCNAy+tgFBUfI0DO72MoQwQvQORuKqEUCC9AGPtWiwMCL0DUqRqAWQAvQN8EE9xIJjZA0cRSvfIiNkBVG7fPEyY2QFGOS0i2KDZA/mK2Q9MEP0C1PTBVOQU/QI9WyFU2CD9AwRTUXQsIP0BrETJliK1CQBKgnv4Jr0JAve3w1A2vQkBzI5Rut69CQOYh5d9sl0VAn/5aYjKdRUDJGsdiXZxFQHq5ds72mkVAk+ZWMfyaRUAUugTvd5lFQJZz2V+UVUhABRp+BaRVSEAO5yLuUVVIQL9HMMvYVEhAffMBv7NSSED31mUZDANMQLnGTSnOAUxA8ymS8+IBTEDYS8D3QABMQLGGoVAf4k5AB+taO67gTkAjVvKfV+NOQEu7PI60405Ad3v/pXUQUEDlXKG/mhBQQC1ksi4TEVBAr9/XWVAQUEBolFl6CddQQD6OQ5kU2FBAl2l9PdnYUEBKt/OOEtlQQIa6y8uY2VBArJqf1iFvUUD7TqwmE3BRQODRUVz1b1FAYHhYPIrlUUAcYgc4CudRQHMptEwI51FAg+18QLnlUUALhykz32xSQASnZ5f2a1JA7yA1gCZtUkAbPXLmYylTQJPK6SVFKlNARHfqYrsoU0DYqBnstSlTQMAQLbsKfVNA7p5lHuJ8U0CvBd4mintTQJ2Sgfkhe1NAqxMQMLy0U0CAAHZcabVTQEVjjyOLtFNAOoACMlm1U0DXhwnevCFUQFwCRObrIlRASuUBClkiVEAm7bJLLCJUQJk0Z1cLI1RAz3NO+18QVUB4+6g9+Q9VQHNXOpNIEVVArFmIINURVkAD8W+ckBBWQFTtZHGIEFZA",
          "dtype": "f8"
         },
         "xaxis": "x",
         "y": {
          "bdata": "ZmZmZmZm8j/n+6nx0k3yPycxCKwcWvI/O99PjZdu8j/VeOkmMQj6P8HKoUW28/k/qvHSTWIQ+j8UrkfhehT6P+xRuB6F6/0/K4cW2c73/T9CYOXQItv9P8/3U+Olm/o/eekmMQis+j8OLbKd76f6P3sUrkfhevo/EFg5tMh2+j8ZBFYOLbLzP5qZmZmZmfM/WmQ730+N8z+amZmZmZnzP2IQWDm0yPA/d76fGi/d8D93vp8aL93wP2IQWDm0yPA/vp8aL90k7j8UrkfhehTuP5MYBFYOLe4/5/up8dJN7j9YObTIdr7vPwIrhxbZzu8/WDm0yHa+7z8tsp3vp8bvP7ByaJHtfPE/cT0K16Nw8T9GtvP91HjxP7ByaJHtfPE/2/l+arx08T/b+X5qvHTxP/yp8dJNYvI/exSuR+F68j/l0CLb+X7yP1CNl24Sg/I/ppvEILBy8j8/NV66SQz0PwAAAAAAAPQ/Vg4tsp3v8z+sHFpkO9/zP2Dl0CLb+fQ/SgwCK4cW9T91kxgEVg71PzVeukkMAvU/y6FFtvP99D/LoUW28/30P/YoXI/C9fQ/YOXQItv59D8OLbKd76f0P05iEFg5tPQ/Di2yne+n9D/P91PjpZv0P3npJjEIrPQ/1XjpJjEI9j9qvHSTGAT2P8HKoUW28/U/dZMYBFYO9z/LoUW28/32PzVeukkMAvc/SgwCK4cW9z9YObTIdr7zPwIrhxbZzvM/16NwPQrX8z9SuB6F61HyPycxCKwcWvI/ppvEILBy8j/RItv5fmryP5zEILByaPM/BoGVQ4ts8z+F61G4HoXzPwRWDi2ynfM/EoPAyqFF7j+R7Xw/NV7uP+f7qfHSTe4/5/up8dJN7j/4U+Olm8TkP6JFtvP91OQ/I9v5fmq85D9MN4lBYOXkP6JFtvP91OQ/IbByaJHtvD/pJjEIrBy6P4GVQ4ts57s/LbKd76fG07/ZzvdT46XTv4ts5/up8dK/",
          "dtype": "f8"
         },
         "yaxis": "y"
        },
        {
         "hovertemplate": "date=2020_01_27<br>distance=%{x}<br>elevation=%{y}<extra></extra>",
         "legendgroup": "2020_01_27",
         "line": {
          "color": "#FFA15A",
          "dash": "solid"
         },
         "marker": {
          "symbol": "circle"
         },
         "mode": "lines+markers",
         "name": "2020_01_27",
         "showlegend": true,
         "type": "scattergl",
         "x": {
          "bdata": "AAAAAAAAAACHAAPRHhGAP0gZvFSQB5Y/uf8vlhE5iz+e8zxOVyTMP++OmkRViMo/y8gnMAmYyT9/NxpTLUjIPzRu4YuJAMc/1VFYFnasD0B8IjTXi9EPQJzvRw9O1w9AxqlMd7osH0Cu+juDWzkfQIHzjVMrQB9Ao55ul5lCH0A0oEzndjMkQGsztyZlMiRAgZHP0+YwJEBCudmlWy8kQGaZfWoELSRAVPSkzU3HJ0BaGYB0McknQHxgdz8yyidAbQdyFtmtMEBR+v0VSq8wQNbkM7KtrjBA8Lcaw2qtMEBd/SJ9CtY1QH541BVM3DVAlOpiqYrWNUDMKV5Xumk7QEXlHVAWcTtA+Yb/+UxyO0Cf/riZkHM7QI/hZGwD+kBAGVXsBnD6QEBuRwGet/pAQClKMT0M+0BAwsFOEEZ3REBv0cg0pHdEQPF3GOK4d0RA4Q72+up3REC3A4uU23dEQNkInzPDckhArGyBQspySEDoSPTv+3JIQG813saCc0hAsAVhK59zSEA9FqAU2glLQKdOdkb1DEtAj+h8yucLS0D5XcKvtQxLQIiuvrW3IU5AxKyQ5H4hTkCYtzPPMCJOQIquC2ZUIk5AyUmOi44hTkAi3G1aBiJOQDdUwvySlFBAhTNSbcOUUECzKUZj1pRQQJ8QUapHT1FAnaTBdHBPUUCSlDC7eU9RQJ/B7/KpT1FAfpsyyRzmUUBFC4fr++VRQEFh22gG5lFAm9QeRTzmUUD/DOaXrUZSQKaJiTFhRlJAZ4TZRx9GUkDd8zvYn5pSQI/ApE0Bm1JArL9bEj2aUkDqyLGqmZpSQDhV794BIFNAbATAk/sfU0CaqM2nQyBTQDSs7Y68mFNAjtTKQNSYU0CXgdny65hTQLjan2L2mFNAdq195rkbVEDRTA3kdBxUQIkLi/tNHFRAKWSrDnIcVEA8OSkAOFJUQGmJQ2JEUlRAjHdvPdZRVEA3d/Z5uWpUQC9zSukya1RAYXFVBo5rVEBxEimHj4xUQEDBiFWWjFRAcCRDLryMVEABuQgieP1UQPoRTNPy/VRA9cV3RGT9VEDaarwXnxJVQPX0J0BiE1VA3KL1cWMUVUAx4x8IDBRVQPVw9bZuQlVAlZvmXypEVUDbhh3nqENVQOYhvrZgYlVAjSnK3TRhVUCupBq1FmFVQNqcLpMPj1VAvK4d88qOVUBxBX2u0I1VQNLYvdsKjlVAqaWDYGPbVUANbctS29tVQKN3yMIJ3FVAsuAcO4ncVUCafVnbzh5WQC2nGMjIH1ZAnUXm6tw3VkDHxAR9CjdWQA1uqG2bN1ZAFFTDjFI4VkBqkVLSPrJWQHTYsZOesVZAkQb2qf6vVkCEzVfhsVhXQPORxTo6WFdAF17YqTlYV0CjGKgDoR9YQGf/5xlEIFhAWgnTVqsfWEAqokG4/B1YQCzHbkrCxVhAgO+ghsHGWEC2NQBWOsZYQB7V8cA+QFlA",
          "dtype": "f8"
         },
         "xaxis": "x",
         "y": {
          "bdata": "IbByaJHt8j91kxgEVg7zP3WTGARWDvM/SgwCK4cW8z8MAiuHFtn0PzeJQWDl0PQ/YhBYObTI9D8OLbKd76f0P5HtfD81XvQ/vp8aL90k/j+q8dJNYhD+P1TjpZvEIP4/exSuR+F6/D/l0CLb+X78P3sUrkfhevw/EFg5tMh2/D+mm8QgsHL4PzvfT42Xbvg/ZmZmZmZm+D+8dJMYBFb4P7x0kxgEVvg/d76fGi/d9D8MAiuHFtn0P7bz/dR46fQ/eekmMQis8j956SYxCKzyPw4tsp3vp/I/5dAi2/l+8j/l0CLb+X7wPzvfT42XbvA/O99PjZdu8D+8dJMYBFbuPxSuR+F6FO4/lkOLbOf77T+WQ4ts5/vtP+xRuB6F6+0/mG4Sg8DK7T/D9Shcj8LtP5ZDi2zn++0/d76fGi/d8D/2KFyPwvXwP/YoXI/C9fA/y6FFtvP98D9g5dAi2/nwP6rx0k1iEPI/arx0kxgE8j+q8dJNYhDyP6rx0k1iEPI/qvHSTWIQ8j9zaJHtfD/zP8l2vp8aL/M/SgwCK4cW8z+JQWDl0CLzP4GVQ4ts5/M/QmDl0CLb8z/sUbgehevzPyuHFtnO9/M/7FG4HoXr8z9CYOXQItvzP30/NV66SfQ/ke18PzVe9D8nMQisHFr0P8dLN4lBYPU/hxbZzvdT9T8dWmQ730/1P4cW2c73U/U/x0s3iUFg8z/y0k1iEFjzPwisHFpkO/M/BoGVQ4ts8z+YbhKDwMrzP23n+6nx0vM/LbKd76fG8z/hehSuR+HyP0w3iUFg5fI/d76fGi/d8j+iRbbz/dTyPyUGgZVDi+w/I9v5fmq87D9OYhBYObTsPz0K16NwPeY/aJHtfD815j89CtejcD3mPzvfT42XbuY/5/up8dJN4j+8dJMYBFbiPz81XrpJDOI/FK5H4XoU4j91kxgEVg7lP83MzMzMzOQ/+FPjpZvE5D9aZDvfT43fP1pkO99Pjd8/rkfhehSu3z+mm8QgsHLgP1CNl24Sg+A/+n5qvHST4D9MN4lBYOXkP6RwPQrXo+Q/I9v5fmq85D8OLbKd76feP2Q730+Nl94/tvP91Hjp3j+28/3UeOnePwRWDi2yndc/WDm0yHa+1z8EVg4tsp3XPzm0yHa+n7o/SgwCK4cWuT+amZmZmZm5P/T91HjpJrG/nMQgsHJosb+kcD0K16Owv/yp8dJNYrC/2/l+arx0kz/6fmq8dJOYP3sUrkfhepQ/O99PjZdukj/sUbgehevRP0jhehSuR9E/w/UoXI/C1b8ZBFYOLbLVv8UgsHJokdW/bxKDwMqh1b+oxks3iUHgv6jGSzeJQeC/0SLb+X5q4L+iRbbz/dTkv0jhehSuR+W/dZMYBFYO5b+sHFpkO9/jv39qvHSTGOS/Vg4tsp3v47/+1HjpJjHkvyGwcmiR7ei/zczMzMzM6L/Jdr6fGi/pv4XrUbgehe+/",
          "dtype": "f8"
         },
         "yaxis": "y"
        },
        {
         "hovertemplate": "date=2020_05_04<br>distance=%{x}<br>elevation=%{y}<extra></extra>",
         "legendgroup": "2020_05_04",
         "line": {
          "color": "#19d3f3",
          "dash": "solid"
         },
         "marker": {
          "symbol": "circle"
         },
         "mode": "lines+markers",
         "name": "2020_05_04",
         "showlegend": true,
         "type": "scattergl",
         "x": {
          "bdata": "AAAAAAAAAAAVMoPU09WjP1UW3v5mlaw/UXcDNglVyD/LvPVq/uHHP8Kfy15aShBAqM7X7WU4EEABj1+gcC4QQCk21J6B3iNAxbC7GmrcI0DLGpV7RtkjQL1GqcY20iNA9oY8xSHXI0DS4Rq0PDwoQDEjCPlUPihApArROKY9KEBgoBdV8jwoQGxSpMrU1DtA0I3N/7zVO0DwZibYRtU7QBT1sU15ikVAn86id1qKRUD2dHhq6YlFQB/Vk4UqikVAhZk451GKRUDy3IjdgYpFQHu8kwQ+TU1A6WecdTBNTUCUVA8brExNQFPM3imUTU1A8Q2v5aWGUUC3LsKTc4ZRQNBxUgsQhlFAuljGKfCKUkDQMjQc/opSQCm94eWPilJAFUWVNFCKUkBh5gp77nNTQHLge8GfdFNAb1T4gJ90U0Boy2d6rilVQKvCwksVKVVAxD4CV2MpVUBMgmV/PylVQAOvEuPCKVVAWFahMQsRVkCaiPxIWhFWQPeiNNgBMlZA27DHLLcxVkBmszqxbTFWQCLBa1yHMVZAXlVQja8xVkBl0dVjRUBXQPCjUptzQFdAUaidj49AV0AAVgNp4UBXQF3A+y1lQFdAN25SXtFxWEDIfJDYZnFYQLf/naGfcVhAX1cnJzobWkDphzU9sR5aQE23ErfFIFpAcXhR7OUeWkA=",
          "dtype": "f8"
         },
         "xaxis": "x",
         "y": {
          "bdata": "MzMzMzMz8z9eukkMAivzP166SQwCK/M/MzMzMzMz9T/Jdr6fGi/1Py2yne+nxv0/AiuHFtnO/T9Ei2zn+6n9PzMzMzMzM/k/XrpJDAIr+T/0/dR46Sb5P/T91HjpJvk/30+Nl24S+T9GtvP91Hj1P3E9CtejcPU/MQisHFpk9T/HSzeJQWD1P1g5tMh2vu8/LbKd76fG7z8CK4cW2c7vPxkEVg4tsvE/16NwPQrX8T9t5/up8dLxPwIrhxbZzvE/LbKd76fG8T8CK4cW2c7xP5huEoPAyvM/AiuHFtnO8z8CK4cW2c7zP65H4XoUrvM/mG4Sg8DK9T/VeOkmMQj2P76fGi/dJPY/rBxaZDvf8z/sUbgehevzPxfZzvdT4/M/7FG4HoXr8z/l0CLb+X7wPxKDwMqhRfA/KVyPwvUo8D/FILByaJHNPyGwcmiR7cw/wcqhRbbzzT9xPQrXo3DNPx1aZDvfT80/ppvEILBy0L/6fmq8dJPQv9V46SYxCNy/001iEFg53L9/arx0kxjcv4GVQ4ts59u/001iEFg53L+YbhKDwMrhv3E9CtejcOG/mpmZmZmZ4b9Ei2zn+6nhv0Jg5dAi2+G/iUFg5dAi47+yne+nxkvjvzMzMzMzM+O/ukkMAiuH6r9kO99PjZfqvz0K16NwPeq/vp8aL90k6r8=",
          "dtype": "f8"
         },
         "yaxis": "y"
        },
        {
         "hovertemplate": "date=2022_11_21<br>distance=%{x}<br>elevation=%{y}<extra></extra>",
         "legendgroup": "2022_11_21",
         "line": {
          "color": "#FF6692",
          "dash": "solid"
         },
         "marker": {
          "symbol": "circle"
         },
         "mode": "lines+markers",
         "name": "2022_11_21",
         "showlegend": true,
         "type": "scattergl",
         "x": {
          "bdata": "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",
          "dtype": "f8"
         },
         "xaxis": "x",
         "y": {
          "bdata": "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",
          "dtype": "f8"
         },
         "yaxis": "y"
        },
        {
         "hovertemplate": "date=2023_06_09<br>distance=%{x}<br>elevation=%{y}<extra></extra>",
         "legendgroup": "2023_06_09",
         "line": {
          "color": "#B6E880",
          "dash": "solid"
         },
         "marker": {
          "symbol": "circle"
         },
         "mode": "lines+markers",
         "name": "2023_06_09",
         "showlegend": true,
         "type": "scattergl",
         "x": {
          "bdata": "AAAAAAAAAADSUdPra6GIP5o48eNqxIg/vIetFeSDjj9lC6CaQTqRPyh9WVXi8sA/2NIAMDPTvT+5YpQEg6y8P4SXEILmDr4/xQjbSwFivj9GX21MylW8P1HI9FuUr70/IWVUcXPavz8t9TeY5+QPQM+JrGxz0w9Abr4umYrcD0CGxpg9Gd0PQIQokMfa1g9A82YemcjaD0B0/62EO2EjQO4kN5HYWyNANqISVxJcI0AyfsVVllsjQJyPzZ9cWyNANl+mKl1aI0BYbU4C7lsjQMvpq2JDvSlAPtk5HhGyKUDgaecEMLApQMYd8xUMsClA593G8pevKUA18MJaqcMvQNjljliCwy9AugCkXDvHL0BVULRo8c0vQBdz8VMlzC9AmHNwJQ/OL0DVo4q0fcovQJMfPkZY9TJAMJAvhYnzMkCU7DdETfIyQOdYjTY59DJAK4eWjtn1MkCFsJ8XP/EyQNioKMpt8TJA8YRiLHMVNkCo9NZt6BU2QAXj2SQqFzZAYcBakTcYNkA2djhQChk2QBVL/inljDlAnzQwJDePOUAJKL9efI45QOM3WvpQjTlAi55jNAQMPUBOEcp9hA49QOSqV8MGDz1AMQ3YZ5sOPUAeIEWdJw89QKghH+uLxj9ATk5mtVjHP0DAcAyDO8c/QKkSPQzIxz9AXuFlI6HIP0BxR1789sc/QJZhH0E9yD9AiVPZgd6zQUAl9SVUJ7VBQCPEHt43tkFAiZykx0C2QUCsS6u5trVBQIbQlnJ8tUFA5W+bXSmzQUDSQ3Z4tChDQCfNNYUHKENAo/FJdIIoQ0ByOVLU7ydDQGANK4J9J0NAtiARMAsnQ0DptMvKZr1OQLjm12Fivk5A70mkJE6+TkB1G+UwRb5OQPvb9dX7vU5AH23mr7mnT0CvCma6CKhPQE1FkUd4qE9AIPKtYKayT0Bp/rmMdrNPQEFPCPE7s09ABDjYAbm0T0A4Pwt9eLRPQBMIqaKbtE9AYwKWboCyT0DBCc/9zGVQQP93sG0wZlBAA3MlLnhmUEAwHeaURGZQQGyLt/NUZlBAgLm6BCZmUEB9+eNSXGZQQD9X3YA6ZlBAFRSEVUvoUEAbWKrXHuhQQOsbFA866FBA7QXppJ7nUECWVPhIsOdQQNJyE99m6FBAzkm2OXPoUED5no+PVehQQF8+iQvpxVFA+HX3DVjGUUAp/YhMPcZRQPbtaucSxlFArbpTBPHFUUAlqBbyBsZRQK1oeUUkxlFAMTO6UPXFUUCQ8ySpgOxRQAeA8vtM6lFAs5V1cGLpUUB7ZXiMA+lRQBVV8jZS6FFAA194SlfoUUD81jynTOhRQLXA/4WK6FFAigyUAn7oUUBcC9yN2TdSQHNrzT+qN1JAT5Mq0ZY3UkAoYCm7jzdSQD6O/5aMN1JAq/WxPTLVUkA7TgOUoNVSQJTy1tCq1VJAr/FPScXVUkBBgniMINZSQKmMHW4u1VJAp2VSOynUUkB1xPo399NSQIFEy6aC01JA6Q4rDKPTUkAZ08GAhdNSQNYUp7Hd01JARULWXSzTUkCElyo1FtNSQBBUgq+10lJAgetnlBPTUkATQUFQW9NSQJngzN7yj1NA8o9nbDuRU0DpLx9Xt49TQAkUkC5Vj1NA/JqPpOmPU0CbHmbGWpBTQC9E+8LxjVNAdtoMnfCNU0CMurqBpI9TQIy6uoGkj1NATmgDiPSQU0Ch66rlOD5UQFF2PYcLPVRAxTHu4K08VEBrl98hbT1UQIF6Io3APVRA7TLEXes8VECA92fEGDxUQPCVbIPlO1RAtri2W6I7VEDYPdDkQDpUQPbJ1Bh77lRALjyN1VnuVED2gPsnne1UQPI7gvuz7lRAthAYYW/tVEDRI8/0F+5UQP1LayHU7lRA",
          "dtype": "f8"
         },
         "xaxis": "x",
         "y": {
          "bdata": "CKwcWmQ78T8dWmQ730/xP3Noke18P/E/MzMzMzMz8T9cj8L1KFzxP0SLbOf7qfM/mG4Sg8DK8z8CK4cW2c7zP1YOLbKd7/M/GQRWDi2y8z9vEoPAyqHzPy2yne+nxvM/16NwPQrX8z9eukkMAiv9P57vp8ZLN/0/XrpJDAIr/T9KDAIrhxb9PzVeukkMAv0/YOXQItv5/D956SYxCKz4P6JFtvP91Pg/TDeJQWDl+D+iRbbz/dT4P83MzMzMzPg/uB6F61G4+D8OLbKd76f4Px1aZDvfT/U/sp3vp8ZL9T/Jdr6fGi/1PwisHFpkO/U/H4XrUbge9T8ZBFYOLbLzPxkEVg4tsvM/2c73U+Ol8z/ZzvdT46XzP5qZmZmZmfM/bxKDwMqh8z+uR+F6FK7zP6wcWmQ73/E/mG4Sg8DK8T9t5/up8dLxP5huEoPAyvE/QmDl0CLb8T8tsp3vp8bxP8P1KFyPwvE/VOOlm8Qg8D8UrkfhehTwP+kmMQisHPA/vp8aL90k8D/TTWIQWDnwP7bz/dR46e4/CKwcWmQ77z9eukkMAivvP4lBYOXQIu8/bef7qfHS7T9CYOXQItvtP+xRuB6F6+0/bef7qfHS7T9t5/up8dLtP4XrUbgehe8/L90kBoGV7z8v3SQGgZXvP7ByaJHtfO8/BoGVQ4ts7z+HFtnO91PvPzEIrBxaZO8/Vg4tsp3v7z8rhxbZzvfvP9ejcD0K1+8/rBxaZDvf7z8/NV66SQzwPylcj8L1KPA/6SYxCKwc8D+8dJMYBFbwP5HtfD81XvA/EFg5tMh28D+6SQwCK4fwP7pJDAIrh/A/j8L1KFyP8D+JQWDl0CLzPzMzMzMzM/M/9P3UeOkm8z+JQWDl0CLzP7TIdr6fGvM/N4lBYOXQ8j93vp8aL93yP/hT46WbxPI/ZDvfT42X8j9kO99PjZfyP/p+arx0k/I/+n5qvHST8j+6SQwCK4fyP3sUrkfhevI/5dAi2/l+8j8ZBFYOLbLxPxkEVg4tsvE/RIts5/up8T8v3SQGgZXxPxsv3SQGgfE/L90kBoGV8T+amZmZmZnxP1g5tMh2vvE/y6FFtvP98D+gGi/dJAbxPzVeukkMAvE/i2zn+6nx8D81XrpJDALxP4ts5/up8fA/NV66SQwC8T/fT42XbhLxP+XQItv5fuo/46WbxCCw6j83iUFg5dDqPzeJQWDl0Oo/YhBYObTI6j+PwvUoXI/qP2Q730+Nl+o/Di2yne+n6j+uR+F6FK7nP1CNl24Sg+g/+FPjpZvE6D93vp8aL93oP3WTGARWDuk/IbByaJHt6D+gGi/dJAbpP/T91HjpJuk/c2iR7Xw/6T9mZmZmZmbePxBYObTIdt4/aJHtfD813j8QWDm0yHbeP7pJDAIrh94/SgwCK4cWuT+amZmZmZm5P2IQWDm0yLY/CtejcD0Ktz8K16NwPQq3P1K4HoXrUbg/AiuHFtnOtz9aZDvfT423P6rx0k1iELg/WmQ730+Ntz/LoUW28/20P2IQWDm0yLY/SgwCK4cWuT/pJjEIrBy6P5HtfD81Xro/QmDl0CLbuT8K16NwPQq3PxKDwMqhRca/tvP91Hjpxr9mZmZmZmbGv7bz/dR46ca/F9nO91Pjxb9mZmZmZmbGv6rx0k1iEMi/XrpJDAIrx79aZDvfT43Hv6JFtvP91Mi/mpmZmZmZyb/Xo3A9CtfbvyuHFtnO99u/g8DKoUW2278tsp3vp8bbvyuHFtnO99u/3SQGgZVD27/ZzvdT46Xbv4ts5/up8dq/MQisHFpk27+JQWDl0CLbv/hT46WbxOC/8tJNYhBY4b8dWmQ730/hv8uhRbbz/eC/z/dT46Wb4L9MN4lBYOXgvyPb+X5qvOC/",
          "dtype": "f8"
         },
         "yaxis": "y"
        },
        {
         "hovertemplate": "date=2024_06_20<br>distance=%{x}<br>elevation=%{y}<extra></extra>",
         "legendgroup": "2024_06_20",
         "line": {
          "color": "#FF97FF",
          "dash": "solid"
         },
         "marker": {
          "symbol": "circle"
         },
         "mode": "lines+markers",
         "name": "2024_06_20",
         "showlegend": true,
         "type": "scattergl",
         "x": {
          "bdata": "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",
          "dtype": "f8"
         },
         "xaxis": "x",
         "y": {
          "bdata": "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",
          "dtype": "f8"
         },
         "yaxis": "y"
        },
        {
         "hovertemplate": "date=2025_01_20<br>distance=%{x}<br>elevation=%{y}<extra></extra>",
         "legendgroup": "2025_01_20",
         "line": {
          "color": "#FECB52",
          "dash": "solid"
         },
         "marker": {
          "symbol": "circle"
         },
         "mode": "lines+markers",
         "name": "2025_01_20",
         "showlegend": true,
         "type": "scattergl",
         "x": {
          "bdata": "AAAAAAAAAAAdWOfJXX/WP84O/520A9c/Yx20DK2a1z8ZPnaLp+7ZP8NamhHOpek/M3QBJaDL9T8nM1JwDUj6P22qglnDLwRAQ2E6lfKEB0BxuW+ttrcPQMiXrVHrcxJADjpOqX0GGEBdubX021seQBdNWKShNiBAGwDLMDCBIkA9xdq6yVQlQB/mHD7W9iZAXHnaf0q9KEABj5y1oWwqQGcGtD4ZASxADaW04whWL0CIdH4SraAwQF1JkuyqTzJAbc3jtaEKNEDT+iX24tw0QG/tawuLODZAs0Ldz0CxNkAOe5xQ9HI3QP0eHzHj1DhAt7BbI2WeOUCq5x/YXjU7QHLgyCWTzjxAFyqqgyOsPUA+OflofEw/QNGhKhWjD0BAzVZo1CF6QECENeoEId9AQFxcuwfFTUFAdibtOgcgQkBgrmWBb/1CQMz91Ovb0UNAo42FRBE4RECvGgJBOJtEQDcGjTwCbkVASL3AaEdSRkCVTQKeMjdHQKX6l0TaskdANTirYK0bSEABjhpYbY5IQAuAIE5r/0hAm2Uig+LkSUC6mXlUVFdKQD7QIsD2vkpAlvmJnX4uS0DRNcc4BKFLQMbrsNp3hExAwtEog/fsTED0JVEY099NQMSi+bb6WE5A/3dct+M5T0ClvDC1eZpPQCTDuXGeMVBAHKyFom9nUEA3aUQ5KKJQQL2qnxsi4VBAHhwRmfYaUUC+nbQMn1tRQMTY0/KAmFFAboU95tYKUkB3SD49HkFSQDvTEAN/eFJADcQOEoymUkCe5qetUc5SQDnxQSi6/VJACiugCH8vU0CTeyzeWWZTQMFLoUYqllNAs5nzckfEU0AyT+X+Ye5TQJVPEC3ID1RAuEqQFvckVECr/7TAN0ZUQF9nDu0ofVRAjBwn3vW3VEDRosKIUu9UQOQWknglDVVANmbglEVSVUBmMdKOtpZVQPLFC48Mt1VATYrowQjgVUBeWdabJAtWQNOTITbBVVZA/hQfzvWDVkDtCFJcUNZWQNpR7ezDAVdAbxd6QAxEV0CWll9xgG5XQD0QATP4w1dA63Cc2Y7yV0CsIuy2SxdYQNMb7q7DO1hAitiOKa9uWEDZ6ge73GdYQKRa4R/sg1hAeNsiA/WqWEC51VdR79dYQJccbyQh/VhAmnMYI6BAWUBMi73RElJZQDACDodcYFlA5oTixEGGWUCG0NY7Ha5ZQP70T9DNAlpAv9J7zbwmWkBmctXHZz9aQFrafqq8Y1pAEa8uxh6xWkBvxJecT99aQFzY/zKHMVtA6EN2nEWLW0AHf2sVXLJbQHNAxTYS1ltAGr7y72EiXEBKTERRBHBcQIBxR1NrvVxAGohA5FD/XEALfpe7tRtdQA==",
          "dtype": "f8"
         },
         "xaxis": "x",
         "y": {
          "bdata": "EFg5tMh28T956SYxCKzzP4XrUbgehfQ/XI/C9Shc9D+cxCCwcmj0P7ByaJHtfPQ/ZmZmZmZm9z8zMzMzMzP4PwrXo3A9Cvo/ke18PzVe+z9MN4lBYOX7P6JFtvP91Ps/H4XrUbge+j8xCKwcWmT6P/YoXI/C9fk/jZduEoPA9z+mm8QgsHL1P/7UeOkmMfU/2/l+arx09D8j2/l+arzzPxBYObTIdvM/Gy/dJAaB8j/l0CLb+X7xP0a28/3UePA/oBov3SQG7z8xCKwcWmTtP1g5tMh2vu0/30+Nl24S8D+0yHa+nxrwP8l2vp8aL/A/9P3UeOkm7z+YbhKDwMrvP57vp8ZLN+8/+n5qvHST7j9SuB6F61HuP0Jg5dAi2+8/exSuR+F67j+amZmZmZnvP6abxCCwcu4/ppvEILBy7j9/arx0kxjuP9Ei2/l+au4/7nw/NV667z8pXI/C9SjuP4GVQ4ts5+0/NV66SQwC7T+F61G4HoXtP9v5fmq8dO0/dZMYBFYO7z8AAAAAAADuP5ZDi2zn++8/30+Nl24S8D9zaJHtfD/vP4lBYOXQIvA/SgwCK4cW7z9CYOXQItvvP3Noke18P/A/c2iR7Xw/7z8ZBFYOLbLwP6AaL90kBvA/xSCwcmiR8D9vEoPAyqHwP0a28/3UeO8/30+Nl24S7T8K16NwPQrpP3WTGARWDuc/vp8aL90k5D+R7Xw/NV7gP/7UeOkmMdw/d76fGi/d0D8bL90kBoHNP5qZmZmZmcE/hetRuB6Fuz+4HoXrUbh+P1CNl24Sg7C/ObTIdr6fwr+yne+nxkvPv1TjpZvEINS/4XoUrkfh1r+amZmZmZndvy/dJAaBld+/WDm0yHa+4b8j2/l+arzivzMzMzMzM+W/16NwPQrX5b9zaJHtfD/nv05iEFg5tOq/O99PjZdu7L9kO99PjZfsv9v5fmq8dO2/QmDl0CLb679GtvP91Hjrv83MzMzMzOq/7nw/NV666799PzVeuknuv6AaL90kBu+/WDm0yHa+7b9SuB6F61Huv6abxCCwcu6/JQaBlUOL7r9QjZduEoPuv57vp8ZLN++/oBov3SQG8L8tsp3vp8btv8uhRbbz/e6/9P3UeOkm779KDAIrhxbwv+58PzVeuvC/tMh2vp8a8L91kxgEVg7wv0SLbOf7qfC/c2iR7Xw/8L/ufD81Xrrwv5zEILByaPC/GQRWDi2y77/Jdr6fGi/vvx1aZDvfT/C/9ihcj8L17r8bL90kBoHrv9ejcD0K1+m/H4XrUbge67+TGARWDi3sv5ZDi2zn++u/16NwPQrX7b/D9Shcj8Lvv2Q730+Nl/G/yXa+nxov8r+PwvUoXI/xvw==",
          "dtype": "f8"
         },
         "yaxis": "y"
        }
       ],
       "layout": {
        "height": 600,
        "legend": {
         "title": {
          "text": "date"
         },
         "tracegroupgap": 0
        },
        "template": {
         "data": {
          "bar": [
           {
            "error_x": {
             "color": "#2a3f5f"
            },
            "error_y": {
             "color": "#2a3f5f"
            },
            "marker": {
             "line": {
              "color": "#E5ECF6",
              "width": 0.5
             },
             "pattern": {
              "fillmode": "overlay",
              "size": 10,
              "solidity": 0.2
             }
            },
            "type": "bar"
           }
          ],
          "barpolar": [
           {
            "marker": {
             "line": {
              "color": "#E5ECF6",
              "width": 0.5
             },
             "pattern": {
              "fillmode": "overlay",
              "size": 10,
              "solidity": 0.2
             }
            },
            "type": "barpolar"
           }
          ],
          "carpet": [
           {
            "aaxis": {
             "endlinecolor": "#2a3f5f",
             "gridcolor": "white",
             "linecolor": "white",
             "minorgridcolor": "white",
             "startlinecolor": "#2a3f5f"
            },
            "baxis": {
             "endlinecolor": "#2a3f5f",
             "gridcolor": "white",
             "linecolor": "white",
             "minorgridcolor": "white",
             "startlinecolor": "#2a3f5f"
            },
            "type": "carpet"
           }
          ],
          "choropleth": [
           {
            "colorbar": {
             "outlinewidth": 0,
             "ticks": ""
            },
            "type": "choropleth"
           }
          ],
          "contour": [
           {
            "colorbar": {
             "outlinewidth": 0,
             "ticks": ""
            },
            "colorscale": [
             [
              0,
              "#0d0887"
             ],
             [
              0.1111111111111111,
              "#46039f"
             ],
             [
              0.2222222222222222,
              "#7201a8"
             ],
             [
              0.3333333333333333,
              "#9c179e"
             ],
             [
              0.4444444444444444,
              "#bd3786"
             ],
             [
              0.5555555555555556,
              "#d8576b"
             ],
             [
              0.6666666666666666,
              "#ed7953"
             ],
             [
              0.7777777777777778,
              "#fb9f3a"
             ],
             [
              0.8888888888888888,
              "#fdca26"
             ],
             [
              1,
              "#f0f921"
             ]
            ],
            "type": "contour"
           }
          ],
          "contourcarpet": [
           {
            "colorbar": {
             "outlinewidth": 0,
             "ticks": ""
            },
            "type": "contourcarpet"
           }
          ],
          "heatmap": [
           {
            "colorbar": {
             "outlinewidth": 0,
             "ticks": ""
            },
            "colorscale": [
             [
              0,
              "#0d0887"
             ],
             [
              0.1111111111111111,
              "#46039f"
             ],
             [
              0.2222222222222222,
              "#7201a8"
             ],
             [
              0.3333333333333333,
              "#9c179e"
             ],
             [
              0.4444444444444444,
              "#bd3786"
             ],
             [
              0.5555555555555556,
              "#d8576b"
             ],
             [
              0.6666666666666666,
              "#ed7953"
             ],
             [
              0.7777777777777778,
              "#fb9f3a"
             ],
             [
              0.8888888888888888,
              "#fdca26"
             ],
             [
              1,
              "#f0f921"
             ]
            ],
            "type": "heatmap"
           }
          ],
          "histogram": [
           {
            "marker": {
             "pattern": {
              "fillmode": "overlay",
              "size": 10,
              "solidity": 0.2
             }
            },
            "type": "histogram"
           }
          ],
          "histogram2d": [
           {
            "colorbar": {
             "outlinewidth": 0,
             "ticks": ""
            },
            "colorscale": [
             [
              0,
              "#0d0887"
             ],
             [
              0.1111111111111111,
              "#46039f"
             ],
             [
              0.2222222222222222,
              "#7201a8"
             ],
             [
              0.3333333333333333,
              "#9c179e"
             ],
             [
              0.4444444444444444,
              "#bd3786"
             ],
             [
              0.5555555555555556,
              "#d8576b"
             ],
             [
              0.6666666666666666,
              "#ed7953"
             ],
             [
              0.7777777777777778,
              "#fb9f3a"
             ],
             [
              0.8888888888888888,
              "#fdca26"
             ],
             [
              1,
              "#f0f921"
             ]
            ],
            "type": "histogram2d"
           }
          ],
          "histogram2dcontour": [
           {
            "colorbar": {
             "outlinewidth": 0,
             "ticks": ""
            },
            "colorscale": [
             [
              0,
              "#0d0887"
             ],
             [
              0.1111111111111111,
              "#46039f"
             ],
             [
              0.2222222222222222,
              "#7201a8"
             ],
             [
              0.3333333333333333,
              "#9c179e"
             ],
             [
              0.4444444444444444,
              "#bd3786"
             ],
             [
              0.5555555555555556,
              "#d8576b"
             ],
             [
              0.6666666666666666,
              "#ed7953"
             ],
             [
              0.7777777777777778,
              "#fb9f3a"
             ],
             [
              0.8888888888888888,
              "#fdca26"
             ],
             [
              1,
              "#f0f921"
             ]
            ],
            "type": "histogram2dcontour"
           }
          ],
          "mesh3d": [
           {
            "colorbar": {
             "outlinewidth": 0,
             "ticks": ""
            },
            "type": "mesh3d"
           }
          ],
          "parcoords": [
           {
            "line": {
             "colorbar": {
              "outlinewidth": 0,
              "ticks": ""
             }
            },
            "type": "parcoords"
           }
          ],
          "pie": [
           {
            "automargin": true,
            "type": "pie"
           }
          ],
          "scatter": [
           {
            "fillpattern": {
             "fillmode": "overlay",
             "size": 10,
             "solidity": 0.2
            },
            "type": "scatter"
           }
          ],
          "scatter3d": [
           {
            "line": {
             "colorbar": {
              "outlinewidth": 0,
              "ticks": ""
             }
            },
            "marker": {
             "colorbar": {
              "outlinewidth": 0,
              "ticks": ""
             }
            },
            "type": "scatter3d"
           }
          ],
          "scattercarpet": [
           {
            "marker": {
             "colorbar": {
              "outlinewidth": 0,
              "ticks": ""
             }
            },
            "type": "scattercarpet"
           }
          ],
          "scattergeo": [
           {
            "marker": {
             "colorbar": {
              "outlinewidth": 0,
              "ticks": ""
             }
            },
            "type": "scattergeo"
           }
          ],
          "scattergl": [
           {
            "marker": {
             "colorbar": {
              "outlinewidth": 0,
              "ticks": ""
             }
            },
            "type": "scattergl"
           }
          ],
          "scattermap": [
           {
            "marker": {
             "colorbar": {
              "outlinewidth": 0,
              "ticks": ""
             }
            },
            "type": "scattermap"
           }
          ],
          "scattermapbox": [
           {
            "marker": {
             "colorbar": {
              "outlinewidth": 0,
              "ticks": ""
             }
            },
            "type": "scattermapbox"
           }
          ],
          "scatterpolar": [
           {
            "marker": {
             "colorbar": {
              "outlinewidth": 0,
              "ticks": ""
             }
            },
            "type": "scatterpolar"
           }
          ],
          "scatterpolargl": [
           {
            "marker": {
             "colorbar": {
              "outlinewidth": 0,
              "ticks": ""
             }
            },
            "type": "scatterpolargl"
           }
          ],
          "scatterternary": [
           {
            "marker": {
             "colorbar": {
              "outlinewidth": 0,
              "ticks": ""
             }
            },
            "type": "scatterternary"
           }
          ],
          "surface": [
           {
            "colorbar": {
             "outlinewidth": 0,
             "ticks": ""
            },
            "colorscale": [
             [
              0,
              "#0d0887"
             ],
             [
              0.1111111111111111,
              "#46039f"
             ],
             [
              0.2222222222222222,
              "#7201a8"
             ],
             [
              0.3333333333333333,
              "#9c179e"
             ],
             [
              0.4444444444444444,
              "#bd3786"
             ],
             [
              0.5555555555555556,
              "#d8576b"
             ],
             [
              0.6666666666666666,
              "#ed7953"
             ],
             [
              0.7777777777777778,
              "#fb9f3a"
             ],
             [
              0.8888888888888888,
              "#fdca26"
             ],
             [
              1,
              "#f0f921"
             ]
            ],
            "type": "surface"
           }
          ],
          "table": [
           {
            "cells": {
             "fill": {
              "color": "#EBF0F8"
             },
             "line": {
              "color": "white"
             }
            },
            "header": {
             "fill": {
              "color": "#C8D4E3"
             },
             "line": {
              "color": "white"
             }
            },
            "type": "table"
           }
          ]
         },
         "layout": {
          "annotationdefaults": {
           "arrowcolor": "#2a3f5f",
           "arrowhead": 0,
           "arrowwidth": 1
          },
          "autotypenumbers": "strict",
          "coloraxis": {
           "colorbar": {
            "outlinewidth": 0,
            "ticks": ""
           }
          },
          "colorscale": {
           "diverging": [
            [
             0,
             "#8e0152"
            ],
            [
             0.1,
             "#c51b7d"
            ],
            [
             0.2,
             "#de77ae"
            ],
            [
             0.3,
             "#f1b6da"
            ],
            [
             0.4,
             "#fde0ef"
            ],
            [
             0.5,
             "#f7f7f7"
            ],
            [
             0.6,
             "#e6f5d0"
            ],
            [
             0.7,
             "#b8e186"
            ],
            [
             0.8,
             "#7fbc41"
            ],
            [
             0.9,
             "#4d9221"
            ],
            [
             1,
             "#276419"
            ]
           ],
           "sequential": [
            [
             0,
             "#0d0887"
            ],
            [
             0.1111111111111111,
             "#46039f"
            ],
            [
             0.2222222222222222,
             "#7201a8"
            ],
            [
             0.3333333333333333,
             "#9c179e"
            ],
            [
             0.4444444444444444,
             "#bd3786"
            ],
            [
             0.5555555555555556,
             "#d8576b"
            ],
            [
             0.6666666666666666,
             "#ed7953"
            ],
            [
             0.7777777777777778,
             "#fb9f3a"
            ],
            [
             0.8888888888888888,
             "#fdca26"
            ],
            [
             1,
             "#f0f921"
            ]
           ],
           "sequentialminus": [
            [
             0,
             "#0d0887"
            ],
            [
             0.1111111111111111,
             "#46039f"
            ],
            [
             0.2222222222222222,
             "#7201a8"
            ],
            [
             0.3333333333333333,
             "#9c179e"
            ],
            [
             0.4444444444444444,
             "#bd3786"
            ],
            [
             0.5555555555555556,
             "#d8576b"
            ],
            [
             0.6666666666666666,
             "#ed7953"
            ],
            [
             0.7777777777777778,
             "#fb9f3a"
            ],
            [
             0.8888888888888888,
             "#fdca26"
            ],
            [
             1,
             "#f0f921"
            ]
           ]
          },
          "colorway": [
           "#636efa",
           "#EF553B",
           "#00cc96",
           "#ab63fa",
           "#FFA15A",
           "#19d3f3",
           "#FF6692",
           "#B6E880",
           "#FF97FF",
           "#FECB52"
          ],
          "font": {
           "color": "#2a3f5f"
          },
          "geo": {
           "bgcolor": "white",
           "lakecolor": "white",
           "landcolor": "#E5ECF6",
           "showlakes": true,
           "showland": true,
           "subunitcolor": "white"
          },
          "hoverlabel": {
           "align": "left"
          },
          "hovermode": "closest",
          "mapbox": {
           "style": "light"
          },
          "paper_bgcolor": "white",
          "plot_bgcolor": "#E5ECF6",
          "polar": {
           "angularaxis": {
            "gridcolor": "white",
            "linecolor": "white",
            "ticks": ""
           },
           "bgcolor": "#E5ECF6",
           "radialaxis": {
            "gridcolor": "white",
            "linecolor": "white",
            "ticks": ""
           }
          },
          "scene": {
           "xaxis": {
            "backgroundcolor": "#E5ECF6",
            "gridcolor": "white",
            "gridwidth": 2,
            "linecolor": "white",
            "showbackground": true,
            "ticks": "",
            "zerolinecolor": "white"
           },
           "yaxis": {
            "backgroundcolor": "#E5ECF6",
            "gridcolor": "white",
            "gridwidth": 2,
            "linecolor": "white",
            "showbackground": true,
            "ticks": "",
            "zerolinecolor": "white"
           },
           "zaxis": {
            "backgroundcolor": "#E5ECF6",
            "gridcolor": "white",
            "gridwidth": 2,
            "linecolor": "white",
            "showbackground": true,
            "ticks": "",
            "zerolinecolor": "white"
           }
          },
          "shapedefaults": {
           "line": {
            "color": "#2a3f5f"
           }
          },
          "ternary": {
           "aaxis": {
            "gridcolor": "white",
            "linecolor": "white",
            "ticks": ""
           },
           "baxis": {
            "gridcolor": "white",
            "linecolor": "white",
            "ticks": ""
           },
           "bgcolor": "#E5ECF6",
           "caxis": {
            "gridcolor": "white",
            "linecolor": "white",
            "ticks": ""
           }
          },
          "title": {
           "x": 0.05
          },
          "xaxis": {
           "automargin": true,
           "gridcolor": "white",
           "linecolor": "white",
           "ticks": "",
           "title": {
            "standoff": 15
           },
           "zerolinecolor": "white",
           "zerolinewidth": 2
          },
          "yaxis": {
           "automargin": true,
           "gridcolor": "white",
           "linecolor": "white",
           "ticks": "",
           "title": {
            "standoff": 15
           },
           "zerolinecolor": "white",
           "zerolinewidth": 2
          }
         }
        },
        "title": {
         "text": "Elevation profiles at T3"
        },
        "xaxis": {
         "anchor": "y",
         "domain": [
          0,
          1
         ],
         "title": {
          "text": "distance"
         }
        },
        "yaxis": {
         "anchor": "x",
         "domain": [
          0,
          1
         ],
         "title": {
          "text": "elevation"
         }
        }
       }
      }
     },
     "metadata": {},
     "output_type": "display_data"
    }
   ],
   "source": [
    "px.line(profiles[profiles.site == \"T3\"], x=\"distance\", y=\"elevation\", color=\"date\", title=\"Elevation profiles at T3\", height=600, markers=True)"
   ]
  },
  {
   "cell_type": "code",
   "execution_count": 29,
   "metadata": {},
   "outputs": [
    {
     "data": {
      "text/html": [
       "<pre>✔️ 53.5 ms (2025-04-10T12:48:03/2025-04-10T12:48:03)</pre>"
      ],
      "text/plain": [
       "<IPython.core.display.HTML object>"
      ]
     },
     "metadata": {},
     "output_type": "display_data"
    },
    {
     "data": {
      "application/vnd.plotly.v1+json": {
       "config": {
        "plotlyServerURL": "https://plot.ly"
       },
       "data": [
        {
         "hovertemplate": "date=2017_01_25<br>distance=%{x}<br>elevation=%{y}<extra></extra>",
         "legendgroup": "2017_01_25",
         "line": {
          "color": "#636efa",
          "dash": "solid"
         },
         "marker": {
          "symbol": "circle"
         },
         "mode": "lines+markers",
         "name": "2017_01_25",
         "showlegend": true,
         "type": "scattergl",
         "x": {
          "bdata": "AAAAAAAAAABSYiqiVYroP1KR7B6Kh/c/VkNYND0GCUDqGE0kAW8OQNR6+aoUOxNA2+GPU499FkCE+6snjMwYQJ2/JSgO9xpAPOhEilkEH0CFSqqLOXUhQGi7RKSnGiNA2ed2yrg+JUDGMEbfhKInQDTqMIFK+ilAs/awfV/ELEAVescQTtYvQKfXKCpXezFANXRI1ojVMkA1Qsq3zYUzQE0sqBCX/jRAu4P9AjCkNUCx3ONBPLI2QKxhKxtEhzdAyd5vs0bfOEBHVuI7hF86QI8YP+5O+DtAALs8QxTEPEBxvPWgZVI+QKdtYaIDyT9AP5BMx5qYQEDJmmL9HulAQO1w0/sGk0FA47SW9djbQUAZI2mufH5CQJdpERJC3EJAZwcuNZ2nQ0Blep72LhVEQBE+3+ATcURAQno/O1YsRUA9PGQiWuxFQG7oWKxhTkZAcG+QasoxR0C9Kkihs51HQAhwKOAMCkhAVwjDjFbnSECwekCLPFxJQISrBIH3PkpAkr2Tw7O6SkBSt3bur7FLQAoiRHlTL0xA6j6xXbc0TUDwDpVu9ypOQC7pRIUpok5AzeVNZI8aT0AG9qo2QxVQQOWAWWpUVlBA84KpEEzWUECuFrJ3TlRRQGii3CB0kVFAQmFcEkwVUkBMWn5N1pdSQNthx379FFNAPdERhKVRU0CzC8faNclTQKYBiephCFRANRHERSeKVEBn6MPuFMpUQHfFg9IxDFVAh5BdWniOVUB/w0FiMQ9WQErQ4P+tUFZATALLpESSVkBz0s24dxRXQNcLdccplldAR8Ii078YWEB4hYkqDp1YQMvtUUMdIVlAM2q6UpxgWUDdmwzqn9lZQKT2QtHXFlpAQT8hnt5QWkDwCGtFJrhaQMqHmZ2/9FpA97liqQVtW0B+cIiiHqVbQKAgQQiPDlxAII+XSg9FXEBifDwQaJpcQJWV0UdM5FxApJpS7gcxXUC/Yq6C/H9dQGVKeFj3qV1A+hK+08rVXUDR1SYrhANeQHiwg/7EB15AxdqoMbIBXkA=",
          "dtype": "f8"
         },
         "xaxis": "x",
         "y": {
          "bdata": "N4lBYOXQ9D9zaJHtfD/1P8uhRbbz/fY/vHSTGARW+j9t5/up8dL7P1YOLbKd7/0/rBxaZDvfAECoxks3iUEAQF66SQwCKwFAZmZmZmZmAUAv3SQGgZUCQDEIrBxaZAFAnu+nxks3/z+Nl24Sg8D8P2Dl0CLb+fo/x0s3iUFg9z/4U+Olm8T2P8l2vp8aL/c/+n5qvHST9j8EVg4tsp31P39qvHSTGPQ/exSuR+F69D9xPQrXo3DzP+58PzVeuvE/YOXQItv57j9cj8L1KFzrP/Cnxks3iek/K4cW2c735z+28/3UeOnmPzMzMzMzM+c/z/dT46Wb5D8rhxbZzvfjPzEIrBxaZOM/WDm0yHa+4z/4U+Olm8TkP9Ei2/l+auQ/qMZLN4lB6D9YObTIdr7rPx1aZDvfT+0/gZVDi2zn7z/LoUW28/3sP7x0kxgEVuo/nMQgsHJo6T/VeOkmMQjoP3E9CtejcOk/mG4Sg8DK6T+6SQwCK4fqP1g5tMh2vus/mG4Sg8DK7T/jpZvEILDwP7bz/dR46fA/6SYxCKwc8j9zaJHtfD/zPzMzMzMzM/M/PQrXo3A99D8QWDm0yHb0P5zEILByaPU/Vg4tsp3v9T/NzMzMzMz2Px+F61G4Hvc/rBxaZDvf9z9OYhBYObT4P166SQwCK/k/HVpkO99P+T/Xo3A9Ctf5PwaBlUOLbPk/ObTIdr6f+j+BlUOLbOf5PzeJQWDl0Po/I9v5fmq8+j/hehSuR+H6PzVeukkMAvs/MQisHFpk+z+HFtnO91P5P9V46SYxCPY/fT81XrpJ9D9I4XoUrkfzP+F6FK5H4fI/NV66SQwC8z/4U+Olm8TwP5ZDi2zn++0/F9nO91Pj6T+LbOf7qfHiPwIrhxbZzt8/HVpkO99P1T9KDAIrhxbRP9Ei2/l+arw/aJHtfD81rj+DwMqhRbazv8P1KFyPwsW/7nw/NV660b+mm8QgsHLYv28Sg8DKod2/mpmZmZmZ5b9kO99PjZfuv3Noke18P/G/bxKDwMqh7b8=",
          "dtype": "f8"
         },
         "yaxis": "y"
        },
        {
         "hovertemplate": "date=2017_04_06<br>distance=%{x}<br>elevation=%{y}<extra></extra>",
         "legendgroup": "2017_04_06",
         "line": {
          "color": "#EF553B",
          "dash": "solid"
         },
         "marker": {
          "symbol": "circle"
         },
         "mode": "lines+markers",
         "name": "2017_04_06",
         "showlegend": true,
         "type": "scattergl",
         "x": {
          "bdata": "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",
          "dtype": "f8"
         },
         "xaxis": "x",
         "y": {
          "bdata": "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",
          "dtype": "f8"
         },
         "yaxis": "y"
        },
        {
         "hovertemplate": "date=2018_10_09<br>distance=%{x}<br>elevation=%{y}<extra></extra>",
         "legendgroup": "2018_10_09",
         "line": {
          "color": "#00cc96",
          "dash": "solid"
         },
         "marker": {
          "symbol": "circle"
         },
         "mode": "lines+markers",
         "name": "2018_10_09",
         "showlegend": true,
         "type": "scattergl",
         "x": {
          "bdata": "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",
          "dtype": "f8"
         },
         "xaxis": "x",
         "y": {
          "bdata": "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",
          "dtype": "f8"
         },
         "yaxis": "y"
        },
        {
         "hovertemplate": "date=2018_10_19<br>distance=%{x}<br>elevation=%{y}<extra></extra>",
         "legendgroup": "2018_10_19",
         "line": {
          "color": "#ab63fa",
          "dash": "solid"
         },
         "marker": {
          "symbol": "circle"
         },
         "mode": "lines+markers",
         "name": "2018_10_19",
         "showlegend": true,
         "type": "scattergl",
         "x": {
          "bdata": "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",
          "dtype": "f8"
         },
         "xaxis": "x",
         "y": {
          "bdata": "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",
          "dtype": "f8"
         },
         "yaxis": "y"
        },
        {
         "hovertemplate": "date=2019_05_21<br>distance=%{x}<br>elevation=%{y}<extra></extra>",
         "legendgroup": "2019_05_21",
         "line": {
          "color": "#FFA15A",
          "dash": "solid"
         },
         "marker": {
          "symbol": "circle"
         },
         "mode": "lines+markers",
         "name": "2019_05_21",
         "showlegend": true,
         "type": "scattergl",
         "x": {
          "bdata": "AAAAAAAAAADFiSeZL+XJPxKQ92JZOuU/GJ5q+Ug4BUDvManVgaYLQKOgLXKu/RBA2BFfPZqSF0DI6r/T6M8aQGebGqSk+CBAvTzSXqSJIkAwao2JYbslQDUe4BIqbCdAdlARBUg1KUDW69ZuplgsQFDFGUW10i1Ag+NFj9RjMECBvcegER4yQLM+YGEO/jJA4+uatoXQNEC//Q1vgLk1QNoRpEnAkjdAHytGyo6TOUCMecusQ346QJL+HOp2dDtAT5vDgAlzPUDUdX4Vzno+QIVxNRkrej9AV3Wr4fA1QEBkU5mVVbpAQPWrnfrJP0FA99v+QpDSQUACMKdIjllCQITCPKen5EJAulY7sG1aQ0CA5txP+uJDQNsShURjb0RA3wB0EOr1REA/ayjDYItFQNX3EnM8DkZAiAPRwASXRkBaoDBVaB9HQCGKMACguEdAip8f4Cw3SEB24sd2i71IQFOpw8RIP0lA3VpsGR/BSUCSI3nwKklKQMI9DPFEGktAP1kzZ2IhS0DmyD5oQ1NLQJR/lCuV+ktArqiCrkbYTECYG69qJUpNQA0eCBH2w01Ad1AX01OkTkBQUYrhNNNOQLEtq0b7T09AyhRBkqcUUEAXXkGFbEdQQKXfQGEPvVBAdhp31vkoUUAZdr8cBGtRQB1NvE60ilFAZdpHNv+MUUDSmEfpet1RQAVivY6HDlJAH54MYq0iUkBzP2XJWDlSQOmhqM5GYlJA1RaxrwbJUkA/BA/8t/pSQOLUeHmZXlNAGblh4vSKU0DUTyPaLfRTQKQ4oHjtYlRAq1mURgmfVED2KVpBRgpVQJM+tzjNeVVARhC31/OzVUBg0bj5iS9WQPt3oP3zalZAgtEqcEjYVkDHPyQb8Q5XQLQDVXjsMFdA6diFxQAxV0B/uKxIXmJXQE9sifpvo1dApt4Ha5PgV0Ah+7l/+AVYQNcrTxNiTFhASc+E5/CjWEDHIS2Og9RYQHMKxVwIAllAvNH1g4RRWUA38SCtsZBZQMbWJ0T5y1lA5Kxikr3sWUAqKwZ+CBFaQBI7jTkYZVpANCSpRNCJWkAXayxWbLNaQHMOrRUbCFtAo4yPc94wW0DNY9jBEo5bQFw4MJnCtVtA6wZCKv0MXEADePtSXzVcQPuocNeMe1xArOGo2grJXECjb8TS1PtcQDY2b4XpIV1APBezzv5MXUBjUOw7/ZBdQIh16Pb3r11As+R/R/bJXUCkXndBpuJdQICqQJ/nKF5AV9YuO79HXkCes+93K4heQHP7YTYto15AopHcxIvmXkCbqX0mWgpfQKbqoP67I19A",
          "dtype": "f8"
         },
         "xaxis": "x",
         "y": {
          "bdata": "ueF30y079T/WVuwvu6f0P4zc09Udi/I/OIWVCiqq6T8T9Bd6xGjpP29/Lhoynus/aRzqd2Fr7D+/uipQi8HqP55eKcsQR+o/cSGP4EbK5j/wMsNGWT/iPzlhwmhWtuA/yjSaXIyB1z9JRzmYTYDUPwu3fCQlPdE/sFdYcD/gzT/H2t/ZHr3HPyTUDKmieME/BmSvd3+8wT/j/E0oRMC5P+Oqsu+K4LM/pzy6ERYVxT9B9Q8iGXLEP2Yzh6QWSsg/LVvri4S2xD/j4NIx5xnFP+Au+3WnO8U/4Ln3cMlxwz89murJ/KPLP+/Jw0Ktacw/DDuMSX8vzT/MRBFSt7PNP9O+ub963NE/IsZrXtVZ0T/20akrn+XVPxe30QDeAtg/NuhLb38u1z/DRlm/mRjhP+vE5XgFouI/ttlYiXlW4z8qxY7Gof7lP5aWkXpPZeg/qd2vAny36D+Ky/EKRE/rPyAL0SFwJOw/i415HXHI7D9fXoB9dGruP9bh6CrdnfA/vcKC+wHP8D9R2ht8YbLwP5w1eF+Vi/E/l1RtN8E38j8VyOwseifyP7HbZ5WZUvE/RGlv8IXJ8T93Sgfr/1zyPzBMpgpGZfI/UDqRYKoZ8z/QYb68APvxP1rz4y8tKvE/dR+A1CbO8T+wyK8fYgPyP+S8/48TJvE/trqcEhBT8T9uhhvw+SHxP+CBAYQPpfE/66urArWY8T/MejGUE63xP031ZP7Rd/E/QdR9AFJb8T+qSIWxheDwP4pVgzC3e+8/IxPwayQJ7z9vg9pv7UTqP1bVy+80mek/V9Efmnly6D9dqPxreeXoP+OL9nghHeY/+aOoM/cQ5D+RDg9h/DTbPxpTsMbZdNg/DcUdb/Jbzj9rRDAOLh3JPxUDJJpAEcc/L9/6sN6oxT8BNEqX/iW5P/K20muzsZI/y7xV16GawL/1K50PzxLKv/sCeuHOhdS/VRUaiGUz3L8xCoLHt3fgv2kewCK//uK/AiocQSrF5r/922W/7nTwvw6ki00rhfC/Mqt3uB1a8b9pNSTusXTyv94CCYof4/K/IqtbPSc987+7fOvDeqPzv80eaAWGLPW/MNRhhVt+9b9uhbAaS9j1v8Xm49pQsfa/BfnZyHUT97+UUPpCyHn3v21zY3rCUvi/uVD51/IK+b83UOCdfPr4v6Hyr+WVK/m/C3pvDAFA+b8TKc3mcVj5vw2OklfnGPq/urpjsU2q+b8+srlqnuP5v11wBn+/GPq/HSEDeXY5+r+2heelYuP5v+hn6nWLwPq/Zwqd19il+79kWMUbmUf7v87fhEIEXPu/",
          "dtype": "f8"
         },
         "yaxis": "y"
        },
        {
         "hovertemplate": "date=2020_01_20<br>distance=%{x}<br>elevation=%{y}<extra></extra>",
         "legendgroup": "2020_01_20",
         "line": {
          "color": "#19d3f3",
          "dash": "solid"
         },
         "marker": {
          "symbol": "circle"
         },
         "mode": "lines+markers",
         "name": "2020_01_20",
         "showlegend": true,
         "type": "scattergl",
         "x": {
          "bdata": "AAAAAAAAAADB7JOd0D2LP8umGWAtW3Y/fPHYC4dahj85Z0MHoAfTPwYVRpC4RdM/dt+WNfJ80z/zveQvhuvTP9FUzDO8Yg1A5wTt84pjDUAMoxxum2cNQDCie5Z0bA1AWbsLBcPFF0BPgKWVqrgXQKowdWfJuxdAr/I05Ke4F0CdxnPaqbkXQO29V/KFPh1AzElvi/A+HUBMjCWaGTkdQIu4z86tnCRA88le+7SOJEDa0r9k0pQkQMExZdPTniRA2Lvq+IQEK0AF36Z8+AIrQOI4OA+JCitAubNMdgwOK0CC2PkNlwgrQMYb14iOiTBAIQHkdLiIMED9YtdeXYwwQEG13MzmhDBAC3l/xi5/NED2kMfIGIA0QI34Tto6gjRACavyb6WFOEDrXQBWq4Q4QHu0ki8kgjhA1T1xwbJ9OECg6bfPzR88QHJL/lQQHzxAn2KDo4YdPEDzxbFJ8YA8QCPgBDw9dzxAp1WBfnh/PECqSThGGGE9QCm08/mEukJA7M46OXS5QkAR9zMRv7dCQLIdQ1aOWERAIN0LWO9YREBpZzVq5VdEQFtQQtDbs0RAWQa8Zw62REDKk2cwFLZEQCwGOIBpPUZAJVSPQuc+RkCo0roGST5GQIWduNBgPUZAvs2mzktESkDoO14Lz0FKQBabbExSQ0pA3NLKBhTQTEA4txvivNJMQI8lmSXW0UxAU5tS3zfLTkCllch6rclOQAnECa7/C1FACEDrfekLUUDJ+fJc0gtRQEzBHwj9C1FApefuCtw3U0A3cSA6MzhTQNNkg3buN1NArcDi19LyVECtB9VEsfJUQFBHkQyA8lRAGAjudMTyVEA3zwwpU/JUQBHEQ84xdlZAC3nkbtV2VkBvwpO3VHdWQKMrNyAF1FZAsMjUMCrUVkD1+YMVWNNWQKDJBjvwD1dA867eIG0PV0C0EqU75w5XQCNmYzSBDVdACbIbnBJiV0BW1e9YzWFXQDCgMW+zYldACg1Os/ljV0Buvu7AzfJXQIThBYRD8ldAjd5+t7fxV0Bo0vOFCuRYQBl72DuJ41hA5sKI4aflWEA4EgmdiONZQEK8F8fw9VpAfDBjTy/2WkA=",
          "dtype": "f8"
         },
         "xaxis": "x",
         "y": {
          "bdata": "oBov3SQG9T+LbOf7qfH0P99PjZduEvU/y6FFtvP99D9qvHSTGAT2P9V46SYxCPY/PzVeukkM9j8AAAAAAAD2PzVeukkMAv0/TDeJQWDl/D8hsHJoke38P99PjZduEv0/9ihcj8L1A0AhsHJoke0DQBfZzvdT4wNAwcqhRbbzA0ArhxbZzvcDQN0kBoGVQwFAqMZLN4lBAUCoxks3iUEBQIGVQ4ts5/8/QmDl0CLb/z9qvHSTGAQAQGq8dJMYBABAmG4Sg8DK9z8tsp3vp8b3P+58PzVeuvc/LbKd76fG9z+BlUOLbOf3Py/dJAaBlfM/bxKDwMqh8z8v3SQGgZXzPxkEVg4tsvM/30+Nl24S9T+JQWDl0CL1P166SQwCK/U/mG4Sg8DK7T9CYOXQItvtP5MYBFYOLe4/vp8aL90k7j9mZmZmZmbqP7x0kxgEVuo/FK5H4XoU6j8AAAAAAADsP9V46SYxCOw/AAAAAAAA7D8EVg4tsp3nP/T91HjpJuU/oBov3SQG5T/NzMzMzMzkP+58PzVeuvE/mpmZmZmZ8T+F61G4HoXxP166SQwCK/M/XrpJDAIr8z9KDAIrhxbzP9Ei2/l+aug/0SLb+X5q6D8lBoGVQ4voP05iEFg5tOg/kxgEVg4t6j9oke18PzXqPz81XrpJDOo/nu+nxks38T8zMzMzMzPxPzMzMzMzM/E/FK5H4XoU9D/VeOkmMQj0PwIrhxbZzvU/w/UoXI/C9T8CK4cW2c71Py2yne+nxvU/H4XrUbge9z8K16NwPQr3PwrXo3A9Cvc/O99PjZdu+D/8qfHSTWL4P7x0kxgEVvg/JzEIrBxa+D8QWDm0yHb4Pz0K16NwPfg/aJHtfD81+D/pJjEIrBz4P0Jg5dAi2/s/Vg4tsp3v+z+BlUOLbOf7P1pkO99Pjfk/Gy/dJAaB+T8bL90kBoH5P1pkO99Pjfk/2/l+arx09T9GtvP91Hj1P/LSTWIQWPU/cT0K16Nw9T8K16NwPQrxPwrXo3A9CvE/tvP91Hjp8D8AAAAAAADkP9V46SYxCOQ/AiuHFtnO4z/FILByaJHVPz81XrpJDMK/+FPjpZvEwL8=",
          "dtype": "f8"
         },
         "yaxis": "y"
        },
        {
         "hovertemplate": "date=2020_01_27<br>distance=%{x}<br>elevation=%{y}<extra></extra>",
         "legendgroup": "2020_01_27",
         "line": {
          "color": "#FF6692",
          "dash": "solid"
         },
         "marker": {
          "symbol": "circle"
         },
         "mode": "lines+markers",
         "name": "2020_01_27",
         "showlegend": true,
         "type": "scattergl",
         "x": {
          "bdata": "AAAAAAAAAAD0wJWkXtiIPz8AamhhB5Y/Bx4w21j1mT+1Au1Xph7HP8FwbtfO/cc/drXk2U2VyT+WRJaPZCXHP1/tUdcCrBdAxlY99gqvF0BAJuLd9b0XQD3G9UhLuBdAi9Xm+oPFIEDov2TmFsogQCeWASt0xyBAeMrq8fhRJUAZ/5o92FAlQIKa0aUMUSVA0AfrvJU7LkDKlJHcrTkuQAwiE5dcNi5A1P/Q3X42LkBBbn/4d58wQNV4f4lanTBAo4DZcDOcMEC+2hcQRZkwQIBl8hKUxTRA/O7/wSbKNEAi4KBhick0QC2G38KtzTRAaHdV2rvGN0C9VLiMQcg3QIFo9/4hyDdAjGqgZu3IN0AvwvdLSxM7QP0WSs8XEztAkMt7nUMTO0BKjsp0WEk7QI1iRye7RztAtbwL2PePPECwxPkwNZE8QM1X2QFikTxA2ERaddpoPUD2ZZWo8mY9QL+1X2eoaD1A9GqEV1WPPkCGGY/RWpA+QIOa6R1Zjz5AT9WRdkAvP0BQR8EI7zA/QPEffTlcLj9ADGhjDstrP0BvK1boc2o/QGrXYMUlbD9Ar6KQXKoCQEDdTZEcdAJAQH4ZrJQuAkBA5DObg8WCQkD4ffB9noJCQOQzm4PFgkJAPL+4xx0nQ0DF/qtefShDQDlwzGNLJkNAR9aLOR01REBRWvFu0zZEQAMdbeB8N0RAkjm4KdK8REC4d5yugLdEQPWhV6ZDt0RAGnlv8w64RECyxjNzREFFQEUErxLjP0VAh/zKRvI/RUAQAIl4G0JFQNHnM6/4VkZArXQvykZXRkBlP2LKIVhGQCfpEDn0WEZAA6gLSvZZRkDd+0jBQfNLQAeaCDiL9EtAF0imTdn0S0CjUQLuM/ZLQJPO8rSrmE1AEC1iRzmYTUCndpI8UZhNQLpsKC5pyU5AnWykjz/LTkBoFA0898tOQA9yvi9aUVBA+xqEE5pRUEAlMK1t3lBQQMkd17/UUFBAmP3dR2dyUUBqJgMJlHJRQHSOrRb6clFAB9W1kOZyUUAuZVHKdnNRQKoMtuq1hlJA2IDoeu2GUkB06AOHKYdSQNE2PG/ShlJAldCEZ0+CU0BAfCQEfoJTQPxLEbhJglNA3NWJkROCU0BZt0SG41xUQLPh5DugXVRAmq/fzbNcVECCx9/C2VxUQFwEEPEOXFRAlsKR5/kNVUB28O+EPw1VQLYvdmLADVVAZhj7LbENVUCr93eaZw1VQEaYf+2sxFVArv73aj/EVUCjO1aUDcVVQKdysb93xVVAlxyDWDlzVkD1EHt0HHNWQD0Gx0rlclZAupPYzAlzVkD4KWs9TjNXQOXrUMv7MldAXqg5+2QzV0Ct7dXG8nxXQJA47J/jfFdAreAuHZx9V0APzpaYu31XQHvn8O3LfVdAcRf52A7oV0DvykpUMelXQAMPAA8X6VdAM5D4Jv3oV0BVYMjMs2FYQJodjnjWYVhAwwtI0v9hWECoj5ZulGJYQKfDLXf8YlhAiz50fiTGWEBeYzM8VcZYQF5jMzxVxlhAyG+Wd3LGWEBa+v0abcZYQAdVSnawO1lALE+XFZ47WUA9F8uspTtZQMF4wQ0qvVlASfGfk3q+WUC50dCywL5ZQHzwYOl2vllAPrUi1ew4WkBMEG78UzlaQKcCRllmOVpAcwVHj1s5WkDQ2O7op91aQGt5Dm773VpArMi38KjeWkDiaxf77klbQGVZ1yf8SVtASr4REKRJW0Bvd0TmY0tbQJB2LXWtpVtAD8O31HSoW0ACiwhCuaZbQE6Ynn6ipltA4DNIFE4DXECxkZOu+wJcQIJ+frSrA1xA",
          "dtype": "f8"
         },
         "xaxis": "x",
         "y": {
          "bdata": "O99PjZdu9D8730+Nl270P9Ei2/l+avQ/EFg5tMh29D8/NV66SQz2P4GVQ4ts5/U/hetRuB6F9T9cj8L1KFz1P6RwPQrXowNAZDvfT42XA0Dwp8ZLN4kDQMUgsHJokQNAke18PzVeAUAxCKwcWmQBQJHtfD81XgFAEoPAyqFF/j+R7Xw/NV7+PzvfT42Xbv4/w/UoXI/C8z/D9Shcj8LzPy2yne+nxvM/QmDl0CLb8z/HSzeJQWDzP1yPwvUoXPM/XI/C9Shc8z9cj8L1KFzzP+kmMQisHPQ/f2q8dJMY9D8pXI/C9Sj0P6rx0k1iEPQ/rkfhehSu7z8EVg4tsp3vPy/dJAaBle8/2/l+arx07z8j2/l+arzoP/p+arx0k+g/+FPjpZvE6D+LbOf7qfHqPwrXo3A9Cus/EoPAyqFF6j+R7Xw/NV7qP5HtfD81Xuo/PzVeukkM5j9qvHSTGATmP7x0kxgEVuY/7nw/NV665T9Ei2zn+6nlP5qZmZmZmeU/cT0K16Nw6T8bL90kBoHpP8dLN4lBYOk/d76fGi/d6D/4U+Olm8ToP05iEFg5tOg/KVyPwvUo5D/VeOkmMQjkP1TjpZvEIOQ/WDm0yHa+4z8tsp3vp8bjPy2yne+nxuM/9ihcj8L17D8hsHJoke3sP8uhRbbz/ew/4XoUrkfh7j8MAiuHFtnuPzeJQWDl0O4/i2zn+6nx8D9KDAIrhxbxP7TIdr6fGvE/XrpJDAIr8T/0/dR46SbtPx+F61G4Hu0/H4XrUbge7T8fhetRuB7tP7gehetRuOY/ObTIdr6f5j+PwvUoXI/mP7pJDAIrh+Y/Di2yne+n5j9MN4lBYOXsP3WTGARWDu0/TDeJQWDl7D+kcD0K16PsPx1aZDvfT/E/SOF6FK5H8T9zaJHtfD/xPyGwcmiR7fI/tvP91Hjp8j+28/3UeOnyPy/dJAaBlfM/RIts5/up8z8EVg4tsp3zPy/dJAaBlfM/sHJoke189T+wcmiR7Xz1P7ByaJHtfPU/8KfGSzeJ9T+amZmZmZn1P+f7qfHSTfY/kxgEVg4t9j9oke18PzX2Pz0K16NwPfY/9P3UeOkm9z+JQWDl0CL3P6AaL90kBvc/dZMYBFYO9z/P91PjpZv4P2Q730+Nl/g/j8L1KFyP+D+6SQwCK4f4Pzm0yHa+n/g/0SLb+X5q+D8QWDm0yHb4P6abxCCwcvg/5dAi2/l++D+mm8QgsHL4P9nO91Pjpfc/BFYOLbKd9z9Ei2zn+6n3P5huEoPAyvc/PzVeukkM+D9qvHSTGAT4PyuHFtnO9/c/lkOLbOf79z/Jdr6fGi/5Px1aZDvfT/k/HVpkO99P+T/VeOkmMQj2P1TjpZvEIPY/PzVeukkM9j8rhxbZzvf1PwAAAAAAAPY/hetRuB6F8T8GgZVDi2zxP9v5fmq8dPE/sHJoke188T8QWDm0yHbqP76fGi/dJOo/kxgEVg4t6j+TGARWDi3qP7x0kxgEVuo/Gy/dJAaB5T8bL90kBoHlP/Cnxks3ieU/bxKDwMqh5T/FILByaJHlP2ZmZmZmZt4/vHSTGARW3j9mZmZmZmbePxBYObTIds4/uB6F61G4zj8IrBxaZDvPP2Q730+Nl84/exSuR+F6hL/8qfHSTWKAv3sUrkfhenS/ukkMAiuHhr/FILByaJHNv7x0kxgEVs6/GQRWDi2yzb8MAiuHFtnWv2ZmZmZmZta/DAIrhxbZ1r9eukkMAivXv0oMAiuHFuG/yXa+nxov4b9KDAIrhxbhv0jhehSuR+G/SOF6FK5H6b8dWmQ730/pv/T91HjpJum/",
          "dtype": "f8"
         },
         "yaxis": "y"
        },
        {
         "hovertemplate": "date=2020_03_28<br>distance=%{x}<br>elevation=%{y}<extra></extra>",
         "legendgroup": "2020_03_28",
         "line": {
          "color": "#B6E880",
          "dash": "solid"
         },
         "marker": {
          "symbol": "circle"
         },
         "mode": "lines+markers",
         "name": "2020_03_28",
         "showlegend": true,
         "type": "scattergl",
         "x": {
          "bdata": "AAAAAAAAAAD3NQv57xGEP2EymSkkRxdATiL2jGoRG0BYyjMsDjcsQDsxcHSqKDFAHuKxxyw6NUAofdw68kk4QPRLwZpgbT1A4V8Hy2twQkDevUZHk/BCQEzi+7jiGERA+paCuwM8RUDm2czbHo1GQKunYeItc0tAEUCXQJLvTkAZNdl3nshTQCCkIqbCg1ZAy75EzFIwV0CGyt/ArKpXQM1O7+lPvVpAWP7E5ELoW0ARA+stk09cQA==",
          "dtype": "f8"
         },
         "xaxis": "x",
         "y": {
          "bdata": "PneC/dc56T8Sh2wgXWzrP1g6H54lCABAu7ThsDTw/D9T51Hxf0frPx6Jl6dzRek/9SwI5X0c5j9H6dK/JJXbPywQPSmTGsg/21Gco46Ouz8guMoTCDvXPx6NQ/0ubNk/pvELryR52j+A8+LEVzvIP91fPe5brcc/sB2M2CeA4D8xCoLHt/fwP/utnSgJie8/MzUJ3pDG8T8W3XpNDwrvP19DcFzGTee/iPVGrTC98b8L1c3F33b6vw==",
          "dtype": "f8"
         },
         "yaxis": "y"
        },
        {
         "hovertemplate": "date=2020_05_04<br>distance=%{x}<br>elevation=%{y}<extra></extra>",
         "legendgroup": "2020_05_04",
         "line": {
          "color": "#FF97FF",
          "dash": "solid"
         },
         "marker": {
          "symbol": "circle"
         },
         "mode": "lines+markers",
         "name": "2020_05_04",
         "showlegend": true,
         "type": "scattergl",
         "x": {
          "bdata": "AAAAAAAAAACsS1821UltP0rDYJkUxYk/5b53sWkntT8XHfgf6MC5P/cLJ+KXqLo/JS99aZfVtz842sHRtq+3PwShPFxZyNg/TNg1KRS42D/p59dJqDXZP/zoP7eYtxdApP6/MQm6F0AJEpJWEr0XQK0RFtCBuxdALYSVPGq7F0CmqfwjvHEbQEG96la3chtArloe8o1uG0Bh1xqREIkjQLwGqhQshiNAWx5A0+SHI0DPaqoN/WArQCaa3ZRVXStAgbkomsVkK0D1k00+7UQwQPnHUl47RTBA9xUM1/5GMED0oHD3HkYwQPaN8YaAZTFAXZ4kI6JmMUCX9gmKtWUxQNCGa9pZZDFAloU8pnBkMUCLpJkepC40QKAKEqMLMDRA0BKQhr0vNEC7SlBrjS80QPQ2a6glNTdAo43artkyN0DLfofTwTU3QCyBAsOzNTdAcWuFJeuaOkC9eiD3s5k6QPaGpbGhljpAdpE65A4XPkB6Efsm9BQ+QELXxFJKFT5AUMEyyfopQUDsS4BN8itBQFZnuZimLEFA8gs2a3UuQUCNES754jBBQEHBrPellkJAWqOGfNmVQkCxyh1KO5hCQFKJBUspmEJALI439l4SQ0A3IAG0CxNDQCz6V4XBEkNAK1dc4RS2RED3w1/hobVEQK4subout0RAz2Q8ao9VRkDj2mR/NlVGQOKj8Q3xVUZAiLTSoykiSUC1yICDvSNJQKPYQ1wuJklAsxSw1gsnSUArRykac7FLQB/BBaC9sUtAMJdDwsiyS0Cka+vgn+ZOQHkhBdFG505AV94/JIrnTkDeTJQ2CudOQGjCKR+EHVFASNeJ1QAeUUA2q5yHQB5RQKtS4/3B9VFAwHy/rb/1UUBjEbJSvPZRQPo5/bPnxVJAYl4nge/EUkC1uZCiG8VSQMUHKdWbxlJAV1Q3AZPGUkCbZSeRrddTQGkTVLD/2FNAb5dMhS/aU0Cyh6N6NNlTQE1gDi2ZG1VAFW0nhNwbVUAd4xJC5xtVQAlTpGofHFVAl7CLMgrBVkBGOdBK2sBWQFvNVPeHwVZAcHPCHt8WV0AvwkCldBZXQPoCxXNWFldAekwDKZQWV0DAcC/NOfRXQIR2KJzQ81dAuKYqgVz0V0BR7mp6PdtYQJtYIT1721hALuaYFTfbWEA6obqbu3NZQBB1fstldFlAOqG6m7tzWUAPPyoSLbRZQDN4SlLisllAsx4BXn2zWUAGwb+uKbRZQMyV02hdF1pAsplGRGkWWkCOdDueIRZaQJSltnZctVpAlAh98by1WkBBOCUczLVaQED7e0QOtlpAzt2etT1hW0A5I9gKH2FbQLk6dyCiYVtAXpzvOHSIW0A2X55oaodbQPou4MDVhltAQLpnMzSiW0C+zt3tkKFbQHwFfbfdoVtAFzEaOVCiW0C2lm3hXr5bQAuF9lCuvltAAc0LuEC+W0DPtuUhTb5bQEtUBhUh21tAfw4hRODaW0CtntaqWttbQC1sd33KFFxAkgVR72EVXECNF2ibAhZcQMncyJKdFFxAMFU6fKWKXECXa9PQoopcQNLZfB4milxA",
          "dtype": "f8"
         },
         "xaxis": "x",
         "y": {
          "bdata": "yXa+nxov9T/Jdr6fGi/1P8uhRbbz/fQ/tMh2vp8a9z8K16NwPQr3P/T91HjpJvc/XrpJDAIr9z/LoUW28/32P9ejcD0K1/U/7FG4HoXr9T8AAAAAAAD2P9NNYhBYOQRAyXa+nxovBECe76fGSzcEQAisHFpkOwRA001iEFg5BEDjpZvEILABQBkEVg4tsgFArkfhehSuAUAdWmQ7308AQJ7vp8ZLNwBA001iEFg5AEDJdr6fGi/3PzMzMzMzM/c/nu+nxks39z81XrpJDALzP2Dl0CLb+fI/yXa+nxov8z9KDAIrhxbzP9V46SYxCPQ/6SYxCKwc9D+q8dJNYhD0P39qvHSTGPQ/AAAAAAAA9D8UrkfhehT0P/7UeOkmMfQ/vp8aL90k9D/VeOkmMQj0P83MzMzMzPA/zczMzMzM8D+iRbbz/dTwP05iEFg5tPA/AAAAAAAA6D9YObTIdr7nP4PAyqFFtuc/PzVeukkM5j8UrkfhehTmPz81XrpJDOY/SgwCK4cW4T+e76fGSzfhPx1aZDvfT+E/Gy/dJAaB4T+amZmZmZnhP1pkO99PjeM/WmQ730+N4z8tsp3vp8bjP65H4XoUruM/+n5qvHST7D956SYxCKzsP/p+arx0k+w/EFg5tMh28D+mm8QgsHLwP2ZmZmZmZvA/uB6F61G45j+6SQwCK4fmP+F6FK5H4eY/vHSTGARW5j++nxov3STmP+kmMQisHOY/vp8aL90k5j8Sg8DKoUXqP5HtfD81Xuo/ke18PzVe6j9kO99PjZfyP05iEFg5tPI/ObTIdr6f8j+PwvUoXI/yP5ZDi2zn+/M/qvHSTWIQ9D/TTWIQWDn0PxSuR+F6FPY/f2q8dJMY9j9qvHSTGAT2P23n+6nx0vc/w/UoXI/C9z8CK4cW2c73P6wcWmQ73/c/mG4Sg8DK9z8GgZVDi2z3P8dLN4lBYPc/nMQgsHJo9z/HSzeJQWD3P1g5tMh2vvc/g8DKoUW29z/D9Shcj8L3P0SLbOf7qfc/dZMYBFYO+T/0/dR46Sb5P0oMAiuHFvk/sp3vp8ZL9z9zaJHtfD/3P166SQwCK/c/3SQGgZVD9z8fhetRuB7zPwrXo3A9CvM/dZMYBFYO8z/HSzeJQWDlP3E9CtejcOU/HVpkO99P5T+gGi/dJAbhP/LSTWIQWOE/H4XrUbge4T+kcD0K16PgP/p+arx0k+A/TmIQWDm04D8lBoGVQ4vgP99PjZduEtM/j8L1KFyP0j89CtejcD3SP0oMAiuHFrk/mpmZmZmZuT+R7Xw/NV66PzEIrBxaZLs/I9v5fmq8xL9zaJHtfD/Fv8P1KFyPwsW/cT0K16Nwzb956SYxCKzMv9Ei2/l+asy/cT0K16Nw1b9vEoPAyqHVv8UgsHJokdW/Gy/dJAaB1b9iEFg5tMjWvwrXo3A9Cte/tvP91Hjp1r+4HoXrUbjWvz0K16NwPdq/5/up8dJN2r/fT42XbhLbvyPb+X5qvOi/H4XrUbge6b8hsHJoke3ov1CNl24Sg+i/0SLb+X5q7L8j2/l+arzsvyPb+X5qvOy/",
          "dtype": "f8"
         },
         "yaxis": "y"
        },
        {
         "hovertemplate": "date=2022_11_21<br>distance=%{x}<br>elevation=%{y}<extra></extra>",
         "legendgroup": "2022_11_21",
         "line": {
          "color": "#FECB52",
          "dash": "solid"
         },
         "marker": {
          "symbol": "circle"
         },
         "mode": "lines+markers",
         "name": "2022_11_21",
         "showlegend": true,
         "type": "scattergl",
         "x": {
          "bdata": "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",
          "dtype": "f8"
         },
         "xaxis": "x",
         "y": {
          "bdata": "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",
          "dtype": "f8"
         },
         "yaxis": "y"
        },
        {
         "hovertemplate": "date=2023_06_09<br>distance=%{x}<br>elevation=%{y}<extra></extra>",
         "legendgroup": "2023_06_09",
         "line": {
          "color": "#636efa",
          "dash": "solid"
         },
         "marker": {
          "symbol": "circle"
         },
         "mode": "lines+markers",
         "name": "2023_06_09",
         "showlegend": true,
         "type": "scattergl",
         "x": {
          "bdata": "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",
          "dtype": "f8"
         },
         "xaxis": "x",
         "y": {
          "bdata": "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",
          "dtype": "f8"
         },
         "yaxis": "y"
        },
        {
         "hovertemplate": "date=2024_06_20<br>distance=%{x}<br>elevation=%{y}<extra></extra>",
         "legendgroup": "2024_06_20",
         "line": {
          "color": "#EF553B",
          "dash": "solid"
         },
         "marker": {
          "symbol": "circle"
         },
         "mode": "lines+markers",
         "name": "2024_06_20",
         "showlegend": true,
         "type": "scattergl",
         "x": {
          "bdata": "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",
          "dtype": "f8"
         },
         "xaxis": "x",
         "y": {
          "bdata": "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",
          "dtype": "f8"
         },
         "yaxis": "y"
        },
        {
         "hovertemplate": "date=2025_01_20<br>distance=%{x}<br>elevation=%{y}<extra></extra>",
         "legendgroup": "2025_01_20",
         "line": {
          "color": "#00cc96",
          "dash": "solid"
         },
         "marker": {
          "symbol": "circle"
         },
         "mode": "lines+markers",
         "name": "2025_01_20",
         "showlegend": true,
         "type": "scattergl",
         "x": {
          "bdata": "AAAAAAAAAADxMbnshkaoP0cp7QNe9NM/WlV0hnhR1T9I0cJzHQ3YPzVyC34/gNg/rr+YDWQCDUB6nwGBDW8QQBOASfCDKRJAPkzmhjooFECtmZ3lq7IXQI1O6yBp5hpA8I0ist9MHUD+WBQZFW0hQL8Tm/jzFSNAbP6SvSNeI0B9QmKIFtAkQIhGV6X/8yVACFLnjEshJ0BRfXGa/XopQOC7YH1bmCpAB0nNEVTRK0DgnMEsYf8sQPEVw0pgbS5AuyYM4mPiL0BZtdL6lXIxQNvdJmD2JDJAbRPtYLvWMkAdKkl+LIszQCd7ZN9x7zRAEqsxj8+VNUCqNIy7Zlc2QDc9bIUFxDdA/+HVqgZ+OEByYAwnYE06QD2jXJA5EDtACrq/ifjVPED8VF5T97Y9QJVGIGUXqj9ALz9iS8hOQEApTXDWf1xBQFBYLdG01EFAhKoFxj/EQkC2mMP5nnpDQAtReDD42kNAb5U6FQk4READvrG3SRFFQH2n841OgkVAfhaEGAHvRUB7/OkQj+pGQMBAhY5Xd0dA525CYIv8R0B5/YD1TQ5JQGw+1MvmhklAHFaAia7/SUCrzDDJBOJKQNX/tQ3rdUtA4UuAE53aS0BqL1yKPUBMQI40EUkD/0xAf2KXabtXTUBFbKQOjyBOQII87I/I9k5AIQ0huJVqT0D/wReWJc9PQJLRiiqyGVBAP2xbzxCJUEDCe8gDab1QQKt9ppOy7lBAJ9PGakhZUUDeQKXzJ5NRQNVpn+tcBVJATpj7pZk/UkBiXGMeuHRSQAy4oWWprFJAhMb0es8dU0BvzUq8mFVTQAlHWw0yj1NAmi3KJo3JU0BSGkk46ABUQPttfrYfO1RAVpG1k152VEDQRstf0K9UQOdwVIdM61RA1XXituRbVUCqneJq+5BVQC5wEKD5rVVA1HkQ12zSVUBp1e624gBWQDvhU+agNFZA9e5WTyljVkBu8aR+hJNWQDQbnIsPw1ZAI8VZ3ZPxVkBfr1fXXR9XQAZLWnS2UFdAx1amX7OHV0D9AmAo8rtXQOJE7GDx7FdAC7qrvSAKWEBoU82cZSBYQAhpdQ24SFhA8yOzbuN8WEC7o4d1B7NYQNUvEjT551hAeOVM3kcgWUAJzmqzWVhZQFrcwg03xVlAjJVmh+YwWkDnwyxbwJVaQJrAr8Va/lpAnm6CrdouW0AJWkFjfD5cQMLvqB8AXVxAPTo8pbZ6XEB15Lg+GqtcQBu+K2CkwVxAFu95EFjZXEBMgauS3/NcQD+Z9tdsEl1Am2KUMuk0XUCAy7JrklJdQPw678wAa11ANNQO3GKIXUBODanE/6tdQLy4/IV+0F1AT9NbByH3XUBIxEntqB9eQFVVJJORRV5AFiXvomSJXkDfOc2f7a5eQMq04NM8A19A3myGTgFYX0ALM/drYa1fQFFCB8zm8l9AAbLNawAKYEAdWplCDy5gQHc4Lf+aT2BAKYQdxoZcYEC4BwAemHFgQFV4rrSNf2BAKARKmwmAYEDjeOK2A4pgQJHM1t1QlmBAX5mHik2kYECm2dWCIq5gQNwEkQMNuGBAWf5BnmrCYECN1jF17MhgQFg8/Dta0mBAWLCQwxvcYEDBz2e1KeZgQCjpA4wYqVtAm9j/ij/UW0BfZloCrOxbQDxwXNfQE1xASPitr+kqXEDxiJZAD49cQPXMKavxxlxA",
          "dtype": "f8"
         },
         "xaxis": "x",
         "y": {
          "bdata": "yXa+nxov8T8dWmQ730/xP1TjpZvEIPI/Gy/dJAaB8z/b+X5qvHTzPwaBlUOLbPM/2/l+arx0+T+iRbbz/dT6P4GVQ4ts5/s/d76fGi/d/j+uR+F6FK4BQFpkO99PjQFAukkMAiuHAED0/dR46SYAQFyPwvUoXP8/CKwcWmQ7/z/b+X5qvHT9P2iR7Xw/Nfw/I9v5fmq8+j/ufD81Xrr3P5huEoPAyvU/9ihcj8L19D+wcmiR7XzzP5qZmZmZmfE/ukkMAiuH8D/hehSuR+HwPxKDwMqhRfI/rBxaZDvf8T+4HoXrUbjyP1g5tMh2vvE/TDeJQWDl8D/RItv5fmrwP90kBoGVQ+s/gZVDi2zn5z9/arx0kxjkPzVeukkMAuM/YhBYObTI4j/FILByaJHhP39qvHSTGOA/I9v5fmq83D+iRbbz/dTYP5huEoPAytk/CKwcWmQ73z8Sg8DKoUXmP6rx0k1iEOg/2c73U+Ol5z/4U+Olm8ToP1g5tMh2vuc/g8DKoUW25z+wcmiR7XzfPwIrhxbZzt8/9ihcj8L14D+kcD0K16PgP2ZmZmZmZuI/ZmZmZmZm4j/2KFyPwvXkP/p+arx0k+Q/JzEIrBxa5D9WDi2yne/jPyPb+X5qvOQ/ZmZmZmZm5j85tMh2vp/qP4GVQ4ts5+c/F9nO91Pj6T/dJAaBlUPrP+xRuB6F6+k/K4cW2c736z/4U+Olm8TsP8/3U+Olm+w/WmQ730+N6z9zaJHtfD/tP23n+6nx0u0/FK5H4XoU7j8QWDm0yHbuPxkEVg4tsu0/tvP91Hjp7j85tMh2vp/uPy/dJAaBle8/2/l+arx07z9g5dAi2/nuP+kmMQisHPA/PzVeukkM8D/ZzvdT46XvP/yp8dJNYvA/1XjpJjEI8D89CtejcD3wP76fGi/dJPA/001iEFg58D8nMQisHFrwP4XrUbgehe8/KVyPwvUo8D8EVg4tsp3vP30/NV66SfA/vp8aL90k8D/TTWIQWDnwPylcj8L1KPA/iUFg5dAi7z8CK4cW2c7vP7bz/dR46e4/MzMzMzMz7z+PwvUoXI/uP4cW2c73U+8/46WbxCCw7j9MN4lBYOXsP1TjpZvEIOw/lkOLbOf76T89CtejcD3mP2IQWDm0yOI/zczMzMzM3D/6fmq8dJPQP8uhRbbz/aQ/qvHSTWIQuL+DwMqhRbbjv9nO91PjpeO/nu+nxks34b/wp8ZLN4nhvxkEVg4tsuG/F9nO91Pj4b+WQ4ts5/vhv+kmMQisHOK/XI/C9Shc47/D9Shcj8LhvzMzMzMzM+O/uB6F61G44r9U46WbxCDkv3sUrkfheuS/9P3UeOkm5b91kxgEVg7lv+f7qfHSTea/DAIrhxbZ5r8730+Nl27mv4PAyqFFtue/PzVeukkM6r9GtvP91Hjpv7bz/dR46eq/16NwPQrX679Ei2zn+6ntv2iR7Xw/Ne6/tvP91Hjp7r9mZmZmZmbyv6RwPQrXo/K/1XjpJjEI8r/LoUW28/3yv8UgsHJokfG/x0s3iUFg8b9QjZduEoPyv6abxCCwcvK/kxgEVg4t8r/y0k1iEFjzv9v5fmq8dPO/eekmMQis8r8zMzMzMzPzv3Noke18P9W/okW28/3U2L/ByqFFtvPdvx1aZDvfT+G/7nw/NV664b9zaJHtfD/lv3Noke18P+W/",
          "dtype": "f8"
         },
         "yaxis": "y"
        }
       ],
       "layout": {
        "height": 600,
        "legend": {
         "title": {
          "text": "date"
         },
         "tracegroupgap": 0
        },
        "template": {
         "data": {
          "bar": [
           {
            "error_x": {
             "color": "#2a3f5f"
            },
            "error_y": {
             "color": "#2a3f5f"
            },
            "marker": {
             "line": {
              "color": "#E5ECF6",
              "width": 0.5
             },
             "pattern": {
              "fillmode": "overlay",
              "size": 10,
              "solidity": 0.2
             }
            },
            "type": "bar"
           }
          ],
          "barpolar": [
           {
            "marker": {
             "line": {
              "color": "#E5ECF6",
              "width": 0.5
             },
             "pattern": {
              "fillmode": "overlay",
              "size": 10,
              "solidity": 0.2
             }
            },
            "type": "barpolar"
           }
          ],
          "carpet": [
           {
            "aaxis": {
             "endlinecolor": "#2a3f5f",
             "gridcolor": "white",
             "linecolor": "white",
             "minorgridcolor": "white",
             "startlinecolor": "#2a3f5f"
            },
            "baxis": {
             "endlinecolor": "#2a3f5f",
             "gridcolor": "white",
             "linecolor": "white",
             "minorgridcolor": "white",
             "startlinecolor": "#2a3f5f"
            },
            "type": "carpet"
           }
          ],
          "choropleth": [
           {
            "colorbar": {
             "outlinewidth": 0,
             "ticks": ""
            },
            "type": "choropleth"
           }
          ],
          "contour": [
           {
            "colorbar": {
             "outlinewidth": 0,
             "ticks": ""
            },
            "colorscale": [
             [
              0,
              "#0d0887"
             ],
             [
              0.1111111111111111,
              "#46039f"
             ],
             [
              0.2222222222222222,
              "#7201a8"
             ],
             [
              0.3333333333333333,
              "#9c179e"
             ],
             [
              0.4444444444444444,
              "#bd3786"
             ],
             [
              0.5555555555555556,
              "#d8576b"
             ],
             [
              0.6666666666666666,
              "#ed7953"
             ],
             [
              0.7777777777777778,
              "#fb9f3a"
             ],
             [
              0.8888888888888888,
              "#fdca26"
             ],
             [
              1,
              "#f0f921"
             ]
            ],
            "type": "contour"
           }
          ],
          "contourcarpet": [
           {
            "colorbar": {
             "outlinewidth": 0,
             "ticks": ""
            },
            "type": "contourcarpet"
           }
          ],
          "heatmap": [
           {
            "colorbar": {
             "outlinewidth": 0,
             "ticks": ""
            },
            "colorscale": [
             [
              0,
              "#0d0887"
             ],
             [
              0.1111111111111111,
              "#46039f"
             ],
             [
              0.2222222222222222,
              "#7201a8"
             ],
             [
              0.3333333333333333,
              "#9c179e"
             ],
             [
              0.4444444444444444,
              "#bd3786"
             ],
             [
              0.5555555555555556,
              "#d8576b"
             ],
             [
              0.6666666666666666,
              "#ed7953"
             ],
             [
              0.7777777777777778,
              "#fb9f3a"
             ],
             [
              0.8888888888888888,
              "#fdca26"
             ],
             [
              1,
              "#f0f921"
             ]
            ],
            "type": "heatmap"
           }
          ],
          "histogram": [
           {
            "marker": {
             "pattern": {
              "fillmode": "overlay",
              "size": 10,
              "solidity": 0.2
             }
            },
            "type": "histogram"
           }
          ],
          "histogram2d": [
           {
            "colorbar": {
             "outlinewidth": 0,
             "ticks": ""
            },
            "colorscale": [
             [
              0,
              "#0d0887"
             ],
             [
              0.1111111111111111,
              "#46039f"
             ],
             [
              0.2222222222222222,
              "#7201a8"
             ],
             [
              0.3333333333333333,
              "#9c179e"
             ],
             [
              0.4444444444444444,
              "#bd3786"
             ],
             [
              0.5555555555555556,
              "#d8576b"
             ],
             [
              0.6666666666666666,
              "#ed7953"
             ],
             [
              0.7777777777777778,
              "#fb9f3a"
             ],
             [
              0.8888888888888888,
              "#fdca26"
             ],
             [
              1,
              "#f0f921"
             ]
            ],
            "type": "histogram2d"
           }
          ],
          "histogram2dcontour": [
           {
            "colorbar": {
             "outlinewidth": 0,
             "ticks": ""
            },
            "colorscale": [
             [
              0,
              "#0d0887"
             ],
             [
              0.1111111111111111,
              "#46039f"
             ],
             [
              0.2222222222222222,
              "#7201a8"
             ],
             [
              0.3333333333333333,
              "#9c179e"
             ],
             [
              0.4444444444444444,
              "#bd3786"
             ],
             [
              0.5555555555555556,
              "#d8576b"
             ],
             [
              0.6666666666666666,
              "#ed7953"
             ],
             [
              0.7777777777777778,
              "#fb9f3a"
             ],
             [
              0.8888888888888888,
              "#fdca26"
             ],
             [
              1,
              "#f0f921"
             ]
            ],
            "type": "histogram2dcontour"
           }
          ],
          "mesh3d": [
           {
            "colorbar": {
             "outlinewidth": 0,
             "ticks": ""
            },
            "type": "mesh3d"
           }
          ],
          "parcoords": [
           {
            "line": {
             "colorbar": {
              "outlinewidth": 0,
              "ticks": ""
             }
            },
            "type": "parcoords"
           }
          ],
          "pie": [
           {
            "automargin": true,
            "type": "pie"
           }
          ],
          "scatter": [
           {
            "fillpattern": {
             "fillmode": "overlay",
             "size": 10,
             "solidity": 0.2
            },
            "type": "scatter"
           }
          ],
          "scatter3d": [
           {
            "line": {
             "colorbar": {
              "outlinewidth": 0,
              "ticks": ""
             }
            },
            "marker": {
             "colorbar": {
              "outlinewidth": 0,
              "ticks": ""
             }
            },
            "type": "scatter3d"
           }
          ],
          "scattercarpet": [
           {
            "marker": {
             "colorbar": {
              "outlinewidth": 0,
              "ticks": ""
             }
            },
            "type": "scattercarpet"
           }
          ],
          "scattergeo": [
           {
            "marker": {
             "colorbar": {
              "outlinewidth": 0,
              "ticks": ""
             }
            },
            "type": "scattergeo"
           }
          ],
          "scattergl": [
           {
            "marker": {
             "colorbar": {
              "outlinewidth": 0,
              "ticks": ""
             }
            },
            "type": "scattergl"
           }
          ],
          "scattermap": [
           {
            "marker": {
             "colorbar": {
              "outlinewidth": 0,
              "ticks": ""
             }
            },
            "type": "scattermap"
           }
          ],
          "scattermapbox": [
           {
            "marker": {
             "colorbar": {
              "outlinewidth": 0,
              "ticks": ""
             }
            },
            "type": "scattermapbox"
           }
          ],
          "scatterpolar": [
           {
            "marker": {
             "colorbar": {
              "outlinewidth": 0,
              "ticks": ""
             }
            },
            "type": "scatterpolar"
           }
          ],
          "scatterpolargl": [
           {
            "marker": {
             "colorbar": {
              "outlinewidth": 0,
              "ticks": ""
             }
            },
            "type": "scatterpolargl"
           }
          ],
          "scatterternary": [
           {
            "marker": {
             "colorbar": {
              "outlinewidth": 0,
              "ticks": ""
             }
            },
            "type": "scatterternary"
           }
          ],
          "surface": [
           {
            "colorbar": {
             "outlinewidth": 0,
             "ticks": ""
            },
            "colorscale": [
             [
              0,
              "#0d0887"
             ],
             [
              0.1111111111111111,
              "#46039f"
             ],
             [
              0.2222222222222222,
              "#7201a8"
             ],
             [
              0.3333333333333333,
              "#9c179e"
             ],
             [
              0.4444444444444444,
              "#bd3786"
             ],
             [
              0.5555555555555556,
              "#d8576b"
             ],
             [
              0.6666666666666666,
              "#ed7953"
             ],
             [
              0.7777777777777778,
              "#fb9f3a"
             ],
             [
              0.8888888888888888,
              "#fdca26"
             ],
             [
              1,
              "#f0f921"
             ]
            ],
            "type": "surface"
           }
          ],
          "table": [
           {
            "cells": {
             "fill": {
              "color": "#EBF0F8"
             },
             "line": {
              "color": "white"
             }
            },
            "header": {
             "fill": {
              "color": "#C8D4E3"
             },
             "line": {
              "color": "white"
             }
            },
            "type": "table"
           }
          ]
         },
         "layout": {
          "annotationdefaults": {
           "arrowcolor": "#2a3f5f",
           "arrowhead": 0,
           "arrowwidth": 1
          },
          "autotypenumbers": "strict",
          "coloraxis": {
           "colorbar": {
            "outlinewidth": 0,
            "ticks": ""
           }
          },
          "colorscale": {
           "diverging": [
            [
             0,
             "#8e0152"
            ],
            [
             0.1,
             "#c51b7d"
            ],
            [
             0.2,
             "#de77ae"
            ],
            [
             0.3,
             "#f1b6da"
            ],
            [
             0.4,
             "#fde0ef"
            ],
            [
             0.5,
             "#f7f7f7"
            ],
            [
             0.6,
             "#e6f5d0"
            ],
            [
             0.7,
             "#b8e186"
            ],
            [
             0.8,
             "#7fbc41"
            ],
            [
             0.9,
             "#4d9221"
            ],
            [
             1,
             "#276419"
            ]
           ],
           "sequential": [
            [
             0,
             "#0d0887"
            ],
            [
             0.1111111111111111,
             "#46039f"
            ],
            [
             0.2222222222222222,
             "#7201a8"
            ],
            [
             0.3333333333333333,
             "#9c179e"
            ],
            [
             0.4444444444444444,
             "#bd3786"
            ],
            [
             0.5555555555555556,
             "#d8576b"
            ],
            [
             0.6666666666666666,
             "#ed7953"
            ],
            [
             0.7777777777777778,
             "#fb9f3a"
            ],
            [
             0.8888888888888888,
             "#fdca26"
            ],
            [
             1,
             "#f0f921"
            ]
           ],
           "sequentialminus": [
            [
             0,
             "#0d0887"
            ],
            [
             0.1111111111111111,
             "#46039f"
            ],
            [
             0.2222222222222222,
             "#7201a8"
            ],
            [
             0.3333333333333333,
             "#9c179e"
            ],
            [
             0.4444444444444444,
             "#bd3786"
            ],
            [
             0.5555555555555556,
             "#d8576b"
            ],
            [
             0.6666666666666666,
             "#ed7953"
            ],
            [
             0.7777777777777778,
             "#fb9f3a"
            ],
            [
             0.8888888888888888,
             "#fdca26"
            ],
            [
             1,
             "#f0f921"
            ]
           ]
          },
          "colorway": [
           "#636efa",
           "#EF553B",
           "#00cc96",
           "#ab63fa",
           "#FFA15A",
           "#19d3f3",
           "#FF6692",
           "#B6E880",
           "#FF97FF",
           "#FECB52"
          ],
          "font": {
           "color": "#2a3f5f"
          },
          "geo": {
           "bgcolor": "white",
           "lakecolor": "white",
           "landcolor": "#E5ECF6",
           "showlakes": true,
           "showland": true,
           "subunitcolor": "white"
          },
          "hoverlabel": {
           "align": "left"
          },
          "hovermode": "closest",
          "mapbox": {
           "style": "light"
          },
          "paper_bgcolor": "white",
          "plot_bgcolor": "#E5ECF6",
          "polar": {
           "angularaxis": {
            "gridcolor": "white",
            "linecolor": "white",
            "ticks": ""
           },
           "bgcolor": "#E5ECF6",
           "radialaxis": {
            "gridcolor": "white",
            "linecolor": "white",
            "ticks": ""
           }
          },
          "scene": {
           "xaxis": {
            "backgroundcolor": "#E5ECF6",
            "gridcolor": "white",
            "gridwidth": 2,
            "linecolor": "white",
            "showbackground": true,
            "ticks": "",
            "zerolinecolor": "white"
           },
           "yaxis": {
            "backgroundcolor": "#E5ECF6",
            "gridcolor": "white",
            "gridwidth": 2,
            "linecolor": "white",
            "showbackground": true,
            "ticks": "",
            "zerolinecolor": "white"
           },
           "zaxis": {
            "backgroundcolor": "#E5ECF6",
            "gridcolor": "white",
            "gridwidth": 2,
            "linecolor": "white",
            "showbackground": true,
            "ticks": "",
            "zerolinecolor": "white"
           }
          },
          "shapedefaults": {
           "line": {
            "color": "#2a3f5f"
           }
          },
          "ternary": {
           "aaxis": {
            "gridcolor": "white",
            "linecolor": "white",
            "ticks": ""
           },
           "baxis": {
            "gridcolor": "white",
            "linecolor": "white",
            "ticks": ""
           },
           "bgcolor": "#E5ECF6",
           "caxis": {
            "gridcolor": "white",
            "linecolor": "white",
            "ticks": ""
           }
          },
          "title": {
           "x": 0.05
          },
          "xaxis": {
           "automargin": true,
           "gridcolor": "white",
           "linecolor": "white",
           "ticks": "",
           "title": {
            "standoff": 15
           },
           "zerolinecolor": "white",
           "zerolinewidth": 2
          },
          "yaxis": {
           "automargin": true,
           "gridcolor": "white",
           "linecolor": "white",
           "ticks": "",
           "title": {
            "standoff": 15
           },
           "zerolinecolor": "white",
           "zerolinewidth": 2
          }
         }
        },
        "title": {
         "text": "Elevation profiles at T7"
        },
        "xaxis": {
         "anchor": "y",
         "domain": [
          0,
          1
         ],
         "title": {
          "text": "distance"
         }
        },
        "yaxis": {
         "anchor": "x",
         "domain": [
          0,
          1
         ],
         "title": {
          "text": "elevation"
         }
        }
       }
      }
     },
     "metadata": {},
     "output_type": "display_data"
    }
   ],
   "source": [
    "px.line(profiles[profiles.site == \"T7\"], x=\"distance\", y=\"elevation\", color=\"date\", title=\"Elevation profiles at T7\", height=600, markers=True)"
   ]
  },
  {
   "cell_type": "code",
   "execution_count": 30,
   "metadata": {},
   "outputs": [
    {
     "data": {
      "text/html": [
       "<pre>✔️ 376 ms (2025-04-10T12:48:07/2025-04-10T12:48:07)</pre>"
      ],
      "text/plain": [
       "<IPython.core.display.HTML object>"
      ]
     },
     "metadata": {},
     "output_type": "display_data"
    },
    {
     "name": "stderr",
     "output_type": "stream",
     "text": [
      "/home/nyou045/CoastSat/.venv/lib/python3.12/site-packages/shapely/measurement.py:72: RuntimeWarning:\n",
      "\n",
      "invalid value encountered in distance\n",
      "\n",
      "/home/nyou045/CoastSat/.venv/lib/python3.12/site-packages/shapely/measurement.py:72: RuntimeWarning:\n",
      "\n",
      "invalid value encountered in distance\n",
      "\n"
     ]
    },
    {
     "data": {
      "text/plain": [
       "('sar0941-0000', 'sar0939-0000')"
      ]
     },
     "execution_count": 30,
     "metadata": {},
     "output_type": "execute_result"
    }
   ],
   "source": [
    "transects.to_crs(df.crs).distance(df.geometry[0]).idxmin(), transects.to_crs(df.crs).distance(df.geometry[1]).idxmin()"
   ]
  },
  {
   "cell_type": "code",
   "execution_count": 31,
   "metadata": {},
   "outputs": [
    {
     "data": {
      "text/html": [
       "<pre>✔️ 123 ms (2025-04-10T12:48:09/2025-04-10T12:48:09)</pre>"
      ],
      "text/plain": [
       "<IPython.core.display.HTML object>"
      ]
     },
     "metadata": {},
     "output_type": "display_data"
    },
    {
     "data": {
      "text/plain": [
       "87.98933048805033"
      ]
     },
     "execution_count": 31,
     "metadata": {},
     "output_type": "execute_result"
    }
   ],
   "source": [
    "T7_offset = Point(df.origin_lng[0], df.origin_lat[0]).distance(Point(transects.geometry.to_crs(df.crs)[\"sar0941-0000\"].coords[0]))\n",
    "T7_offset"
   ]
  },
  {
   "cell_type": "code",
   "execution_count": 32,
   "metadata": {},
   "outputs": [
    {
     "data": {
      "text/html": [
       "<pre>✔️ 146 ms (2025-04-10T12:48:12/2025-04-10T12:48:12)</pre>"
      ],
      "text/plain": [
       "<IPython.core.display.HTML object>"
      ]
     },
     "metadata": {},
     "output_type": "display_data"
    },
    {
     "data": {
      "text/plain": [
       "101.37974964880803"
      ]
     },
     "execution_count": 32,
     "metadata": {},
     "output_type": "execute_result"
    }
   ],
   "source": [
    "T3_offset = Point(df.origin_lng[1], df.origin_lat[1]).distance(Point(transects.geometry.to_crs(df.crs)[\"sar0939-0000\"].coords[0]))\n",
    "T3_offset"
   ]
  },
  {
   "cell_type": "code",
   "execution_count": 49,
   "metadata": {},
   "outputs": [
    {
     "data": {
      "text/html": [
       "<pre>✔️ 72.2 ms (2025-04-10T13:02:21/2025-04-10T13:02:21)</pre>"
      ],
      "text/plain": [
       "<IPython.core.display.HTML object>"
      ]
     },
     "metadata": {},
     "output_type": "display_data"
    },
    {
     "data": {
      "application/vnd.plotly.v1+json": {
       "config": {
        "plotlyServerURL": "https://plot.ly"
       },
       "data": [
        {
         "hovertemplate": "variable=dist_from_origin<br>date=%{x}<br>value=%{y}<extra></extra>",
         "legendgroup": "dist_from_origin",
         "line": {
          "color": "#636efa",
          "dash": "solid"
         },
         "marker": {
          "symbol": "circle"
         },
         "mode": "lines+markers",
         "name": "dist_from_origin",
         "orientation": "v",
         "showlegend": true,
         "type": "scatter",
         "x": [
          "2017-01-25T00:00:00.000000000",
          "2017-04-06T00:00:00.000000000",
          "2018-10-09T00:00:00.000000000",
          "2018-10-19T00:00:00.000000000",
          "2019-05-21T00:00:00.000000000",
          "2020-01-20T00:00:00.000000000",
          "2020-01-27T00:00:00.000000000",
          "2020-05-04T00:00:00.000000000",
          "2022-11-21T00:00:00.000000000",
          "2023-06-09T00:00:00.000000000",
          "2024-06-20T00:00:00.000000000",
          "2025-01-20T00:00:00.000000000"
         ],
         "xaxis": "x",
         "y": {
          "bdata": "XXy/rBVqXEBBs1orqrpZQE1rVlQJX1tAmYvm6cjqWkDbpeHp+qpXQCmiKupGqVpAnXKotdc2WkCiFk80H/ZaQNGLJiXrbVpAq4jB6BWWW0B/Uv8LuYpbQKdIZWsVDVtA",
          "dtype": "f8"
         },
         "yaxis": "y"
        },
        {
         "hovertemplate": "variable=sar0941-0000<br>dates=%{x}<br>value=%{y}<extra></extra>",
         "legendgroup": "sar0941-0000",
         "line": {
          "color": "#636efa",
          "dash": "solid"
         },
         "marker": {
          "symbol": "circle"
         },
         "mode": "lines+markers",
         "name": "sar0941-0000",
         "orientation": "v",
         "showlegend": true,
         "type": "scatter",
         "x": [
          "2017-01-25T10:06:38.000000000",
          "2017-01-26T10:02:22.000000000",
          "2017-02-11T10:02:16.000000000",
          "2017-02-18T10:08:31.000000000",
          "2017-02-19T10:00:16.000000000",
          "2017-02-27T10:02:25.000000000",
          "2017-03-14T10:06:16.000000000",
          "2017-03-15T10:02:31.000000000",
          "2017-03-23T09:59:59.000000000",
          "2017-03-30T10:06:07.000000000",
          "2017-03-31T10:02:36.000000000",
          "2017-04-07T10:08:48.000000000",
          "2017-04-08T09:59:52.000000000",
          "2017-04-16T10:02:42.000000000",
          "2017-04-23T10:08:56.000000000",
          "2017-04-24T09:59:42.000000000",
          "2017-05-26T09:59:54.000000000",
          "2017-06-03T10:02:55.000000000",
          "2017-06-10T10:09:08.000000000",
          "2017-06-11T10:00:02.000000000",
          "2017-06-19T10:02:59.000000000",
          "2017-06-27T10:00:07.000000000",
          "2017-07-05T10:03:00.000000000",
          "2017-07-12T10:09:11.000000000",
          "2017-07-13T10:00:09.000000000",
          "2017-07-29T10:00:18.000000000",
          "2017-08-05T10:06:31.000000000",
          "2017-08-13T10:09:08.000000000",
          "2017-08-14T10:00:24.000000000",
          "2017-08-21T10:06:36.000000000",
          "2017-08-22T10:02:58.000000000",
          "2017-08-29T10:09:09.000000000",
          "2017-08-30T10:00:27.000000000",
          "2017-09-06T10:06:38.000000000",
          "2017-09-07T10:02:57.000000000",
          "2017-09-14T10:09:07.000000000",
          "2017-09-15T10:00:28.000000000",
          "2017-09-30T10:09:07.000000000",
          "2017-10-08T10:06:48.000000000",
          "2017-10-16T10:09:10.000000000",
          "2017-10-17T10:00:39.000000000",
          "2017-10-24T10:06:50.000000000",
          "2017-10-25T10:02:59.000000000",
          "2017-11-02T10:00:39.000000000",
          "2017-11-10T10:02:58.000000000",
          "2017-11-17T10:09:07.000000000",
          "2017-11-18T10:00:35.000000000",
          "2017-11-25T10:06:42.000000000",
          "2017-11-26T10:02:53.000000000",
          "2017-12-03T10:09:00.000000000",
          "2017-12-04T10:00:30.000000000",
          "2017-12-28T10:02:34.000000000",
          "2018-01-05T10:00:29.000000000",
          "2018-01-13T10:02:20.000000000",
          "2018-01-20T10:08:25.000000000",
          "2018-01-28T10:06:27.000000000",
          "2018-01-29T10:02:05.000000000",
          "2018-02-05T10:08:09.000000000",
          "2018-02-06T10:00:12.000000000",
          "2018-02-21T10:07:59.000000000",
          "2018-02-22T10:00:06.000000000",
          "2018-03-26T09:59:50.000000000",
          "2018-04-02T10:05:58.000000000",
          "2018-04-19T10:01:01.000000000",
          "2018-05-12T10:06:47.000000000",
          "2018-05-13T09:59:23.000000000",
          "2018-05-29T09:59:10.000000000",
          "2018-06-05T10:05:18.000000000",
          "2018-06-13T10:06:16.000000000",
          "2018-06-22T09:59:55.000000000",
          "2018-06-29T10:05:58.000000000",
          "2018-07-07T10:05:38.000000000",
          "2018-07-08T09:59:36.000000000",
          "2018-07-15T10:05:39.000000000",
          "2018-07-23T10:05:45.000000000",
          "2018-07-24T09:59:19.000000000",
          "2018-07-31T10:05:22.000000000",
          "2018-08-01T09:59:39.000000000",
          "2018-08-08T10:05:54.000000000",
          "2018-08-09T09:59:02.000000000",
          "2018-08-16T10:05:04.000000000",
          "2018-08-17T09:59:48.000000000",
          "2018-08-25T09:58:43.000000000",
          "2018-09-01T10:04:45.000000000",
          "2018-09-02T09:59:55.000000000",
          "2018-09-17T10:04:24.000000000",
          "2018-09-26T09:58:00.000000000",
          "2018-10-11T10:06:21.000000000",
          "2018-10-12T09:57:37.000000000",
          "2018-10-19T10:03:38.000000000",
          "2018-10-27T10:06:26.000000000",
          "2018-10-28T09:57:16.000000000",
          "2018-11-05T10:00:16.000000000",
          "2018-11-28T10:06:27.000000000",
          "2018-11-29T09:56:30.000000000",
          "2018-12-07T10:00:15.000000000",
          "2018-12-22T10:02:03.000000000",
          "2018-12-30T10:06:24.000000000",
          "2019-01-07T10:01:34.000000000",
          "2019-01-08T10:00:12.000000000",
          "2019-01-15T10:06:22.000000000",
          "2019-02-09T10:00:06.000000000",
          "2019-02-16T10:06:16.000000000",
          "2019-02-17T09:54:07.000000000",
          "2019-02-25T10:00:03.000000000",
          "2019-03-12T09:59:34.000000000",
          "2019-03-13T09:59:57.000000000",
          "2019-03-28T09:59:02.000000000",
          "2019-03-29T09:59:54.000000000",
          "2019-04-05T10:06:03.000000000",
          "2019-04-13T09:58:28.000000000",
          "2019-04-29T09:57:53.000000000",
          "2019-05-07T10:06:01.000000000",
          "2019-05-16T09:59:56.000000000",
          "2019-05-24T09:50:44.000000000",
          "2019-06-01T10:00:05.000000000",
          "2019-06-16T09:56:06.000000000",
          "2019-06-17T10:00:11.000000000",
          "2019-06-25T09:49:35.000000000",
          "2019-07-02T09:55:30.000000000",
          "2019-07-03T10:00:16.000000000",
          "2019-07-11T09:48:58.000000000",
          "2019-07-18T09:54:53.000000000",
          "2019-07-19T10:00:18.000000000",
          "2019-07-26T10:06:32.000000000",
          "2019-08-03T09:54:14.000000000",
          "2019-08-04T10:00:25.000000000",
          "2019-08-11T10:06:39.000000000",
          "2019-08-12T09:47:41.000000000",
          "2019-08-19T09:53:34.000000000",
          "2019-08-20T10:00:30.000000000",
          "2019-08-27T10:06:43.000000000",
          "2019-09-04T09:52:53.000000000",
          "2019-09-05T10:00:33.000000000",
          "2019-09-12T10:06:47.000000000",
          "2019-09-20T09:52:10.000000000",
          "2019-09-28T10:06:52.000000000",
          "2019-09-29T09:45:36.000000000",
          "2019-10-07T10:00:43.000000000",
          "2019-10-22T09:50:50.000000000",
          "2019-10-30T10:06:55.000000000",
          "2019-11-07T09:50:07.000000000",
          "2019-11-08T10:00:43.000000000",
          "2019-12-25T09:47:46.000000000",
          "2019-12-26T10:00:36.000000000",
          "2020-01-02T10:06:44.000000000",
          "2020-01-03T09:41:07.000000000",
          "2020-01-10T09:46:57.000000000",
          "2020-01-18T10:06:41.000000000",
          "2020-01-26T09:46:09.000000000",
          "2020-01-27T10:00:28.000000000",
          "2020-02-04T09:39:31.000000000",
          "2020-02-19T10:06:33.000000000",
          "2020-02-20T09:38:42.000000000",
          "2020-02-28T10:00:19.000000000",
          "2020-03-06T10:06:27.000000000",
          "2020-03-15T10:00:12.000000000",
          "2020-03-23T09:36:58.000000000",
          "2020-03-30T09:42:45.000000000",
          "2020-04-07T10:06:11.000000000",
          "2020-04-08T09:36:03.000000000",
          "2020-04-15T09:41:50.000000000",
          "2020-04-16T09:59:56.000000000",
          "2020-04-23T10:06:04.000000000",
          "2020-04-24T09:35:07.000000000",
          "2020-05-26T09:33:09.000000000",
          "2020-06-02T09:38:56.000000000",
          "2020-06-03T09:59:52.000000000",
          "2020-06-19T10:00:02.000000000",
          "2020-06-27T09:31:18.000000000",
          "2020-07-04T09:37:03.000000000",
          "2020-07-05T10:00:10.000000000",
          "2020-07-12T10:06:23.000000000",
          "2020-07-13T09:30:20.000000000",
          "2020-07-20T09:36:05.000000000",
          "2020-07-21T10:00:15.000000000",
          "2020-07-28T10:06:28.000000000",
          "2020-07-29T09:29:20.000000000",
          "2020-08-05T09:35:05.000000000",
          "2020-08-06T10:00:19.000000000",
          "2020-08-13T10:06:31.000000000",
          "2020-08-14T09:28:20.000000000",
          "2020-08-21T09:34:04.000000000",
          "2020-08-22T10:00:25.000000000",
          "2020-09-06T09:33:01.000000000",
          "2020-09-07T10:00:33.000000000",
          "2020-09-15T09:26:14.000000000",
          "2020-09-30T10:06:50.000000000",
          "2020-10-08T09:30:56.000000000",
          "2020-10-09T10:00:41.000000000",
          "2020-10-24T09:29:54.000000000",
          "2020-10-25T10:00:41.000000000",
          "2020-11-01T10:06:51.000000000",
          "2020-11-02T09:23:07.000000000",
          "2020-11-09T09:28:49.000000000",
          "2020-11-17T10:06:50.000000000",
          "2020-11-18T09:22:01.000000000",
          "2020-11-25T09:27:42.000000000",
          "2020-11-26T10:00:41.000000000",
          "2020-12-04T09:20:52.000000000",
          "2021-01-04T10:06:47.000000000",
          "2021-01-20T10:06:40.000000000",
          "2021-02-06T09:16:14.000000000",
          "2021-02-14T10:00:26.000000000",
          "2021-03-10T09:13:47.000000000",
          "2021-03-17T09:19:24.000000000",
          "2021-03-25T10:06:20.000000000",
          "2021-03-26T09:12:30.000000000",
          "2021-04-02T09:18:06.000000000",
          "2021-04-03T10:00:07.000000000",
          "2021-04-10T10:06:15.000000000",
          "2021-05-05T09:59:51.000000000",
          "2021-05-12T10:06:05.000000000",
          "2021-05-13T09:08:30.000000000",
          "2021-05-28T10:06:15.000000000",
          "2021-05-29T09:07:07.000000000",
          "2021-06-06T10:00:08.000000000",
          "2021-06-13T10:06:21.000000000",
          "2021-07-23T09:08:42.000000000",
          "2021-07-24T10:00:20.000000000",
          "2021-07-31T10:06:35.000000000",
          "2021-08-08T09:07:18.000000000",
          "2021-08-09T10:00:28.000000000",
          "2021-08-16T10:06:41.000000000",
          "2021-08-17T09:00:18.000000000",
          "2021-09-10T10:00:37.000000000",
          "2021-09-25T09:03:04.000000000",
          "2021-10-04T08:56:06.000000000",
          "2021-10-11T09:01:40.000000000",
          "2021-10-12T10:00:46.000000000",
          "2021-10-19T10:06:58.000000000",
          "2021-10-20T08:54:41.000000000",
          "2021-11-05T08:53:12.000000000",
          "2021-11-13T10:00:43.000000000",
          "2021-11-20T10:06:52.000000000",
          "2021-12-07T10:00:44.000000000",
          "2021-12-14T08:55:39.000000000",
          "2021-12-14T10:06:50.000000000",
          "2021-12-15T10:00:42.000000000",
          "2021-12-23T08:48:35.000000000",
          "2021-12-30T10:06:49.000000000",
          "2022-01-07T10:06:46.000000000",
          "2022-01-08T08:47:00.000000000",
          "2022-01-15T08:52:31.000000000",
          "2022-01-15T10:06:46.000000000",
          "2022-01-16T10:00:34.000000000",
          "2022-01-23T10:06:42.000000000",
          "2022-01-24T08:45:29.000000000",
          "2022-01-24T10:00:37.000000000",
          "2022-01-31T08:50:58.000000000",
          "2022-01-31T10:06:48.000000000",
          "2022-02-01T10:00:29.000000000",
          "2022-02-08T10:06:39.000000000",
          "2022-02-09T10:00:35.000000000",
          "2022-02-16T10:06:43.000000000",
          "2022-02-17T10:00:24.000000000",
          "2022-02-24T10:06:33.000000000",
          "2022-02-25T08:42:17.000000000",
          "2022-02-25T10:00:26.000000000",
          "2022-03-13T08:40:43.000000000",
          "2022-03-21T10:00:13.000000000",
          "2022-03-28T10:06:17.000000000",
          "2022-03-29T08:39:10.000000000",
          "2022-04-30T10:00:06.000000000",
          "2022-05-08T10:00:13.000000000",
          "2022-05-15T10:06:28.000000000",
          "2022-05-23T10:06:02.000000000",
          "2022-05-25T08:34:50.000000000",
          "2022-06-01T09:59:52.000000000",
          "2022-06-08T10:06:04.000000000",
          "2022-06-11T08:33:56.000000000",
          "2022-06-17T10:00:00.000000000",
          "2022-07-02T10:06:46.000000000",
          "2022-07-10T08:26:15.000000000",
          "2022-07-10T10:06:21.000000000",
          "2022-07-11T10:00:35.000000000",
          "2022-07-15T08:31:42.000000000",
          "2022-07-18T10:06:47.000000000",
          "2022-07-19T10:00:14.000000000",
          "2022-07-26T10:06:31.000000000",
          "2022-07-27T08:24:57.000000000",
          "2022-07-27T10:00:43.000000000",
          "2022-08-01T08:30:20.000000000",
          "2022-08-03T10:06:58.000000000",
          "2022-08-04T10:00:27.000000000",
          "2022-08-11T10:06:42.000000000",
          "2022-08-12T10:00:52.000000000",
          "2022-08-13T08:23:31.000000000",
          "2022-08-18T08:28:52.000000000",
          "2022-08-19T10:07:04.000000000",
          "2022-08-20T10:00:34.000000000",
          "2022-08-27T10:06:46.000000000",
          "2022-08-28T10:00:53.000000000",
          "2022-08-30T08:21:57.000000000",
          "2022-09-04T08:27:17.000000000",
          "2022-09-04T10:07:04.000000000",
          "2022-09-05T10:00:35.000000000",
          "2022-09-12T10:06:47.000000000",
          "2022-09-16T08:20:16.000000000",
          "2022-09-20T10:07:11.000000000",
          "2022-09-21T10:00:41.000000000",
          "2022-10-03T08:18:24.000000000",
          "2022-10-06T10:07:07.000000000",
          "2022-10-08T08:23:37.000000000",
          "2022-10-15T10:00:52.000000000",
          "2022-10-25T08:21:29.000000000",
          "2022-10-30T10:06:58.000000000",
          "2022-10-31T10:01:00.000000000",
          "2022-11-07T10:07:09.000000000",
          "2022-11-08T10:00:48.000000000",
          "2022-11-11T08:19:10.000000000",
          "2022-11-24T10:00:48.000000000",
          "2022-12-17T10:06:58.000000000",
          "2022-12-18T10:00:47.000000000",
          "2023-01-02T10:06:59.000000000",
          "2023-01-27T10:00:45.000000000",
          "2023-02-03T10:07:01.000000000",
          "2023-02-04T10:00:44.000000000",
          "2023-02-09T08:09:30.000000000",
          "2023-02-11T10:06:51.000000000",
          "2023-02-12T10:00:51.000000000",
          "2023-02-19T10:06:54.000000000",
          "2023-02-20T10:00:31.000000000",
          "2023-02-26T08:05:31.000000000",
          "2023-03-03T08:10:03.000000000",
          "2023-03-07T10:06:43.000000000",
          "2023-03-08T10:00:20.000000000",
          "2023-03-15T08:00:59.000000000",
          "2023-03-16T10:00:30.000000000",
          "2023-03-23T10:06:37.000000000",
          "2023-03-24T10:00:11.000000000",
          "2023-04-06T08:00:03.000000000",
          "2023-04-09T09:59:57.000000000",
          "2023-04-11T08:04:13.000000000",
          "2023-04-17T10:00:12.000000000",
          "2023-04-24T10:06:21.000000000",
          "2023-04-28T07:58:19.000000000",
          "2023-05-03T08:02:18.000000000",
          "2023-05-11T09:59:39.000000000",
          "2023-05-26T10:06:00.000000000",
          "2023-06-12T09:59:47.000000000",
          "2023-06-16T07:56:37.000000000",
          "2023-06-27T10:05:54.000000000",
          "2023-06-28T09:59:55.000000000",
          "2023-07-05T10:06:11.000000000",
          "2023-07-06T09:59:53.000000000",
          "2023-07-14T10:00:03.000000000",
          "2023-07-22T09:59:56.000000000",
          "2023-07-29T10:06:11.000000000",
          "2023-07-30T07:48:46.000000000",
          "2023-07-30T10:00:11.000000000",
          "2023-08-04T07:52:14.000000000",
          "2023-08-14T10:06:18.000000000",
          "2023-08-15T10:00:16.000000000",
          "2023-08-21T07:44:01.000000000",
          "2023-08-22T10:06:31.000000000",
          "2023-08-23T10:00:12.000000000",
          "2023-08-26T07:47:21.000000000",
          "2023-08-30T10:06:28.000000000",
          "2023-09-07T10:06:30.000000000",
          "2023-09-16T10:00:25.000000000",
          "2023-09-23T10:06:36.000000000",
          "2023-09-24T10:00:23.000000000",
          "2023-10-02T10:00:28.000000000",
          "2023-10-14T07:38:50.000000000",
          "2023-10-19T07:41:45.000000000",
          "2023-11-18T10:06:45.000000000",
          "2023-12-13T10:00:38.000000000",
          "2023-12-20T10:06:52.000000000",
          "2023-12-21T10:00:34.000000000",
          "2024-01-13T10:06:39.000000000",
          "2024-01-14T10:00:38.000000000",
          "2024-01-21T10:06:46.000000000",
          "2024-01-22T10:00:25.000000000",
          "2024-01-29T10:06:34.000000000",
          "2024-01-30T10:00:38.000000000",
          "2024-02-07T10:00:27.000000000",
          "2024-02-14T10:06:36.000000000",
          "2024-02-15T10:00:35.000000000",
          "2024-03-02T10:00:31.000000000",
          "2024-03-09T10:06:43.000000000",
          "2024-03-17T10:06:20.000000000",
          "2024-04-03T10:00:21.000000000",
          "2024-04-10T10:06:29.000000000",
          "2024-04-11T09:59:56.000000000",
          "2024-04-18T10:06:00.000000000",
          "2024-04-19T10:00:08.000000000",
          "2024-05-04T10:05:51.000000000",
          "2024-05-20T10:05:38.000000000",
          "2024-05-29T09:59:23.000000000",
          "2024-06-06T09:59:42.000000000",
          "2024-06-14T09:59:27.000000000",
          "2024-06-22T09:59:23.000000000",
          "2024-06-30T09:59:38.000000000",
          "2024-07-15T10:05:58.000000000",
          "2024-07-16T09:59:51.000000000",
          "2024-07-23T10:06:08.000000000",
          "2024-07-24T09:59:46.000000000",
          "2024-07-31T10:06:01.000000000",
          "2024-08-01T09:59:57.000000000",
          "2024-08-08T10:06:04.000000000",
          "2024-08-09T09:59:53.000000000",
          "2024-08-24T10:06:17.000000000",
          "2024-08-25T10:00:07.000000000",
          "2024-09-01T10:06:17.000000000",
          "2024-09-02T10:00:12.000000000",
          "2024-09-09T10:06:25.000000000",
          "2024-09-17T10:06:21.000000000",
          "2024-09-25T10:06:24.000000000",
          "2024-10-11T10:06:31.000000000",
          "2024-10-12T10:00:19.000000000",
          "2024-10-28T10:00:30.000000000",
          "2024-11-04T10:06:37.000000000",
          "2024-11-05T10:00:21.000000000",
          "2024-11-13T10:00:22.000000000",
          "2024-11-20T10:06:44.000000000",
          "2024-11-21T10:00:29.000000000",
          "2024-11-28T10:06:44.000000000",
          "2024-11-29T10:00:37.000000000",
          "2024-12-07T10:00:26.000000000",
          "2024-12-14T10:06:32.000000000",
          "2024-12-15T10:00:30.000000000",
          "2024-12-30T10:06:34.000000000",
          "2024-12-31T10:00:28.000000000",
          "2025-01-08T10:00:26.000000000",
          "2025-01-15T10:06:37.000000000"
         ],
         "xaxis": "x",
         "y": {
          "bdata": "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",
          "dtype": "f8"
         },
         "yaxis": "y"
        }
       ],
       "layout": {
        "template": {
         "data": {
          "bar": [
           {
            "error_x": {
             "color": "#2a3f5f"
            },
            "error_y": {
             "color": "#2a3f5f"
            },
            "marker": {
             "line": {
              "color": "#E5ECF6",
              "width": 0.5
             },
             "pattern": {
              "fillmode": "overlay",
              "size": 10,
              "solidity": 0.2
             }
            },
            "type": "bar"
           }
          ],
          "barpolar": [
           {
            "marker": {
             "line": {
              "color": "#E5ECF6",
              "width": 0.5
             },
             "pattern": {
              "fillmode": "overlay",
              "size": 10,
              "solidity": 0.2
             }
            },
            "type": "barpolar"
           }
          ],
          "carpet": [
           {
            "aaxis": {
             "endlinecolor": "#2a3f5f",
             "gridcolor": "white",
             "linecolor": "white",
             "minorgridcolor": "white",
             "startlinecolor": "#2a3f5f"
            },
            "baxis": {
             "endlinecolor": "#2a3f5f",
             "gridcolor": "white",
             "linecolor": "white",
             "minorgridcolor": "white",
             "startlinecolor": "#2a3f5f"
            },
            "type": "carpet"
           }
          ],
          "choropleth": [
           {
            "colorbar": {
             "outlinewidth": 0,
             "ticks": ""
            },
            "type": "choropleth"
           }
          ],
          "contour": [
           {
            "colorbar": {
             "outlinewidth": 0,
             "ticks": ""
            },
            "colorscale": [
             [
              0,
              "#0d0887"
             ],
             [
              0.1111111111111111,
              "#46039f"
             ],
             [
              0.2222222222222222,
              "#7201a8"
             ],
             [
              0.3333333333333333,
              "#9c179e"
             ],
             [
              0.4444444444444444,
              "#bd3786"
             ],
             [
              0.5555555555555556,
              "#d8576b"
             ],
             [
              0.6666666666666666,
              "#ed7953"
             ],
             [
              0.7777777777777778,
              "#fb9f3a"
             ],
             [
              0.8888888888888888,
              "#fdca26"
             ],
             [
              1,
              "#f0f921"
             ]
            ],
            "type": "contour"
           }
          ],
          "contourcarpet": [
           {
            "colorbar": {
             "outlinewidth": 0,
             "ticks": ""
            },
            "type": "contourcarpet"
           }
          ],
          "heatmap": [
           {
            "colorbar": {
             "outlinewidth": 0,
             "ticks": ""
            },
            "colorscale": [
             [
              0,
              "#0d0887"
             ],
             [
              0.1111111111111111,
              "#46039f"
             ],
             [
              0.2222222222222222,
              "#7201a8"
             ],
             [
              0.3333333333333333,
              "#9c179e"
             ],
             [
              0.4444444444444444,
              "#bd3786"
             ],
             [
              0.5555555555555556,
              "#d8576b"
             ],
             [
              0.6666666666666666,
              "#ed7953"
             ],
             [
              0.7777777777777778,
              "#fb9f3a"
             ],
             [
              0.8888888888888888,
              "#fdca26"
             ],
             [
              1,
              "#f0f921"
             ]
            ],
            "type": "heatmap"
           }
          ],
          "histogram": [
           {
            "marker": {
             "pattern": {
              "fillmode": "overlay",
              "size": 10,
              "solidity": 0.2
             }
            },
            "type": "histogram"
           }
          ],
          "histogram2d": [
           {
            "colorbar": {
             "outlinewidth": 0,
             "ticks": ""
            },
            "colorscale": [
             [
              0,
              "#0d0887"
             ],
             [
              0.1111111111111111,
              "#46039f"
             ],
             [
              0.2222222222222222,
              "#7201a8"
             ],
             [
              0.3333333333333333,
              "#9c179e"
             ],
             [
              0.4444444444444444,
              "#bd3786"
             ],
             [
              0.5555555555555556,
              "#d8576b"
             ],
             [
              0.6666666666666666,
              "#ed7953"
             ],
             [
              0.7777777777777778,
              "#fb9f3a"
             ],
             [
              0.8888888888888888,
              "#fdca26"
             ],
             [
              1,
              "#f0f921"
             ]
            ],
            "type": "histogram2d"
           }
          ],
          "histogram2dcontour": [
           {
            "colorbar": {
             "outlinewidth": 0,
             "ticks": ""
            },
            "colorscale": [
             [
              0,
              "#0d0887"
             ],
             [
              0.1111111111111111,
              "#46039f"
             ],
             [
              0.2222222222222222,
              "#7201a8"
             ],
             [
              0.3333333333333333,
              "#9c179e"
             ],
             [
              0.4444444444444444,
              "#bd3786"
             ],
             [
              0.5555555555555556,
              "#d8576b"
             ],
             [
              0.6666666666666666,
              "#ed7953"
             ],
             [
              0.7777777777777778,
              "#fb9f3a"
             ],
             [
              0.8888888888888888,
              "#fdca26"
             ],
             [
              1,
              "#f0f921"
             ]
            ],
            "type": "histogram2dcontour"
           }
          ],
          "mesh3d": [
           {
            "colorbar": {
             "outlinewidth": 0,
             "ticks": ""
            },
            "type": "mesh3d"
           }
          ],
          "parcoords": [
           {
            "line": {
             "colorbar": {
              "outlinewidth": 0,
              "ticks": ""
             }
            },
            "type": "parcoords"
           }
          ],
          "pie": [
           {
            "automargin": true,
            "type": "pie"
           }
          ],
          "scatter": [
           {
            "fillpattern": {
             "fillmode": "overlay",
             "size": 10,
             "solidity": 0.2
            },
            "type": "scatter"
           }
          ],
          "scatter3d": [
           {
            "line": {
             "colorbar": {
              "outlinewidth": 0,
              "ticks": ""
             }
            },
            "marker": {
             "colorbar": {
              "outlinewidth": 0,
              "ticks": ""
             }
            },
            "type": "scatter3d"
           }
          ],
          "scattercarpet": [
           {
            "marker": {
             "colorbar": {
              "outlinewidth": 0,
              "ticks": ""
             }
            },
            "type": "scattercarpet"
           }
          ],
          "scattergeo": [
           {
            "marker": {
             "colorbar": {
              "outlinewidth": 0,
              "ticks": ""
             }
            },
            "type": "scattergeo"
           }
          ],
          "scattergl": [
           {
            "marker": {
             "colorbar": {
              "outlinewidth": 0,
              "ticks": ""
             }
            },
            "type": "scattergl"
           }
          ],
          "scattermap": [
           {
            "marker": {
             "colorbar": {
              "outlinewidth": 0,
              "ticks": ""
             }
            },
            "type": "scattermap"
           }
          ],
          "scattermapbox": [
           {
            "marker": {
             "colorbar": {
              "outlinewidth": 0,
              "ticks": ""
             }
            },
            "type": "scattermapbox"
           }
          ],
          "scatterpolar": [
           {
            "marker": {
             "colorbar": {
              "outlinewidth": 0,
              "ticks": ""
             }
            },
            "type": "scatterpolar"
           }
          ],
          "scatterpolargl": [
           {
            "marker": {
             "colorbar": {
              "outlinewidth": 0,
              "ticks": ""
             }
            },
            "type": "scatterpolargl"
           }
          ],
          "scatterternary": [
           {
            "marker": {
             "colorbar": {
              "outlinewidth": 0,
              "ticks": ""
             }
            },
            "type": "scatterternary"
           }
          ],
          "surface": [
           {
            "colorbar": {
             "outlinewidth": 0,
             "ticks": ""
            },
            "colorscale": [
             [
              0,
              "#0d0887"
             ],
             [
              0.1111111111111111,
              "#46039f"
             ],
             [
              0.2222222222222222,
              "#7201a8"
             ],
             [
              0.3333333333333333,
              "#9c179e"
             ],
             [
              0.4444444444444444,
              "#bd3786"
             ],
             [
              0.5555555555555556,
              "#d8576b"
             ],
             [
              0.6666666666666666,
              "#ed7953"
             ],
             [
              0.7777777777777778,
              "#fb9f3a"
             ],
             [
              0.8888888888888888,
              "#fdca26"
             ],
             [
              1,
              "#f0f921"
             ]
            ],
            "type": "surface"
           }
          ],
          "table": [
           {
            "cells": {
             "fill": {
              "color": "#EBF0F8"
             },
             "line": {
              "color": "white"
             }
            },
            "header": {
             "fill": {
              "color": "#C8D4E3"
             },
             "line": {
              "color": "white"
             }
            },
            "type": "table"
           }
          ]
         },
         "layout": {
          "annotationdefaults": {
           "arrowcolor": "#2a3f5f",
           "arrowhead": 0,
           "arrowwidth": 1
          },
          "autotypenumbers": "strict",
          "coloraxis": {
           "colorbar": {
            "outlinewidth": 0,
            "ticks": ""
           }
          },
          "colorscale": {
           "diverging": [
            [
             0,
             "#8e0152"
            ],
            [
             0.1,
             "#c51b7d"
            ],
            [
             0.2,
             "#de77ae"
            ],
            [
             0.3,
             "#f1b6da"
            ],
            [
             0.4,
             "#fde0ef"
            ],
            [
             0.5,
             "#f7f7f7"
            ],
            [
             0.6,
             "#e6f5d0"
            ],
            [
             0.7,
             "#b8e186"
            ],
            [
             0.8,
             "#7fbc41"
            ],
            [
             0.9,
             "#4d9221"
            ],
            [
             1,
             "#276419"
            ]
           ],
           "sequential": [
            [
             0,
             "#0d0887"
            ],
            [
             0.1111111111111111,
             "#46039f"
            ],
            [
             0.2222222222222222,
             "#7201a8"
            ],
            [
             0.3333333333333333,
             "#9c179e"
            ],
            [
             0.4444444444444444,
             "#bd3786"
            ],
            [
             0.5555555555555556,
             "#d8576b"
            ],
            [
             0.6666666666666666,
             "#ed7953"
            ],
            [
             0.7777777777777778,
             "#fb9f3a"
            ],
            [
             0.8888888888888888,
             "#fdca26"
            ],
            [
             1,
             "#f0f921"
            ]
           ],
           "sequentialminus": [
            [
             0,
             "#0d0887"
            ],
            [
             0.1111111111111111,
             "#46039f"
            ],
            [
             0.2222222222222222,
             "#7201a8"
            ],
            [
             0.3333333333333333,
             "#9c179e"
            ],
            [
             0.4444444444444444,
             "#bd3786"
            ],
            [
             0.5555555555555556,
             "#d8576b"
            ],
            [
             0.6666666666666666,
             "#ed7953"
            ],
            [
             0.7777777777777778,
             "#fb9f3a"
            ],
            [
             0.8888888888888888,
             "#fdca26"
            ],
            [
             1,
             "#f0f921"
            ]
           ]
          },
          "colorway": [
           "#636efa",
           "#EF553B",
           "#00cc96",
           "#ab63fa",
           "#FFA15A",
           "#19d3f3",
           "#FF6692",
           "#B6E880",
           "#FF97FF",
           "#FECB52"
          ],
          "font": {
           "color": "#2a3f5f"
          },
          "geo": {
           "bgcolor": "white",
           "lakecolor": "white",
           "landcolor": "#E5ECF6",
           "showlakes": true,
           "showland": true,
           "subunitcolor": "white"
          },
          "hoverlabel": {
           "align": "left"
          },
          "hovermode": "closest",
          "mapbox": {
           "style": "light"
          },
          "paper_bgcolor": "white",
          "plot_bgcolor": "#E5ECF6",
          "polar": {
           "angularaxis": {
            "gridcolor": "white",
            "linecolor": "white",
            "ticks": ""
           },
           "bgcolor": "#E5ECF6",
           "radialaxis": {
            "gridcolor": "white",
            "linecolor": "white",
            "ticks": ""
           }
          },
          "scene": {
           "xaxis": {
            "backgroundcolor": "#E5ECF6",
            "gridcolor": "white",
            "gridwidth": 2,
            "linecolor": "white",
            "showbackground": true,
            "ticks": "",
            "zerolinecolor": "white"
           },
           "yaxis": {
            "backgroundcolor": "#E5ECF6",
            "gridcolor": "white",
            "gridwidth": 2,
            "linecolor": "white",
            "showbackground": true,
            "ticks": "",
            "zerolinecolor": "white"
           },
           "zaxis": {
            "backgroundcolor": "#E5ECF6",
            "gridcolor": "white",
            "gridwidth": 2,
            "linecolor": "white",
            "showbackground": true,
            "ticks": "",
            "zerolinecolor": "white"
           }
          },
          "shapedefaults": {
           "line": {
            "color": "#2a3f5f"
           }
          },
          "ternary": {
           "aaxis": {
            "gridcolor": "white",
            "linecolor": "white",
            "ticks": ""
           },
           "baxis": {
            "gridcolor": "white",
            "linecolor": "white",
            "ticks": ""
           },
           "bgcolor": "#E5ECF6",
           "caxis": {
            "gridcolor": "white",
            "linecolor": "white",
            "ticks": ""
           }
          },
          "title": {
           "x": 0.05
          },
          "xaxis": {
           "automargin": true,
           "gridcolor": "white",
           "linecolor": "white",
           "ticks": "",
           "title": {
            "standoff": 15
           },
           "zerolinecolor": "white",
           "zerolinewidth": 2
          },
          "yaxis": {
           "automargin": true,
           "gridcolor": "white",
           "linecolor": "white",
           "ticks": "",
           "title": {
            "standoff": 15
           },
           "zerolinecolor": "white",
           "zerolinewidth": 2
          }
         }
        }
       }
      }
     },
     "metadata": {},
     "output_type": "display_data"
    }
   ],
   "source": [
    "df.index = df.date\n",
    "import plotly.graph_objects as go\n",
    "fig = go.Figure()\n",
    "# Create and style traces\n",
    "fig.add_traces(df.dist_from_origin[(df.site == \"T7\")&(df[\"dist_from_origin\"]>60)].plot(title=\"T7 intersects vs CoastSat sar0941-0000\", markers=True).data)\n",
    "cs = pd.read_csv(\"data/sar0941/transect_time_series_smoothed.csv\")\n",
    "cs.dates = pd.to_datetime(cs.dates)\n",
    "cs = cs[cs.dates.between(\"2017-01-25\", \"2025-01-20\")]\n",
    "cs.set_index(\"dates\", inplace=True)\n",
    "fig.add_traces((cs[\"sar0941-0000\"] - T7_offset).plot(markers=True).data)"
   ]
  },
  {
   "cell_type": "code",
   "execution_count": 64,
   "metadata": {},
   "outputs": [
    {
     "data": {
      "text/html": [
       "<pre>✔️ 84.9 ms (2025-04-10T13:15:58/2025-04-10T13:15:58)</pre>"
      ],
      "text/plain": [
       "<IPython.core.display.HTML object>"
      ]
     },
     "metadata": {},
     "output_type": "display_data"
    },
    {
     "data": {
      "application/vnd.plotly.v1+json": {
       "config": {
        "plotlyServerURL": "https://plot.ly"
       },
       "data": [
        {
         "hovertemplate": "variable=dist_from_origin<br>date=%{x}<br>value=%{y}<extra></extra>",
         "legendgroup": "dist_from_origin",
         "marker": {
          "color": "#636efa",
          "symbol": "circle"
         },
         "mode": "markers",
         "name": "dist_from_origin",
         "orientation": "v",
         "showlegend": true,
         "type": "scatter",
         "x": [
          "2017-04-06T00:00:00.000000000",
          "2018-10-09T00:00:00.000000000",
          "2018-10-19T00:00:00.000000000",
          "2020-01-20T00:00:00.000000000",
          "2020-01-27T00:00:00.000000000",
          "2020-03-28T00:00:00.000000000",
          "2020-05-04T00:00:00.000000000",
          "2022-11-21T00:00:00.000000000",
          "2023-06-09T00:00:00.000000000",
          "2024-06-20T00:00:00.000000000",
          "2025-01-20T00:00:00.000000000"
         ],
         "xaxis": "x",
         "y": {
          "bdata": "9QoFNeT6WEDhQVr1yNFWQJmL5unI6lpAchvQirlRVUA8pxzvTctVQNc5NAyay1RA8Lux9JmVVUD7RLHdCQBTQI4LcgCSEFNAvN16x1THUkADjlbjQdNSQA==",
          "dtype": "f8"
         },
         "yaxis": "y"
        },
        {
         "hovertemplate": "variable=sar0939-0000<br>dates=%{x}<br>value=%{y}<extra></extra>",
         "legendgroup": "sar0939-0000",
         "line": {
          "color": "red",
          "dash": "solid"
         },
         "marker": {
          "symbol": "circle"
         },
         "mode": "lines+markers",
         "name": "sar0939-0000",
         "orientation": "v",
         "showlegend": true,
         "type": "scatter",
         "x": [
          "2017-01-25T10:06:38.000000000",
          "2017-01-26T10:02:22.000000000",
          "2017-02-11T10:02:16.000000000",
          "2017-02-18T10:08:31.000000000",
          "2017-02-19T10:00:16.000000000",
          "2017-02-27T10:02:25.000000000",
          "2017-03-14T10:06:16.000000000",
          "2017-03-15T10:02:31.000000000",
          "2017-03-30T10:06:07.000000000",
          "2017-03-31T10:02:36.000000000",
          "2017-04-08T09:59:52.000000000",
          "2017-04-16T10:02:42.000000000",
          "2017-04-23T10:08:56.000000000",
          "2017-04-24T09:59:42.000000000",
          "2017-05-09T10:09:00.000000000",
          "2017-05-25T10:09:03.000000000",
          "2017-05-26T09:59:54.000000000",
          "2017-06-03T10:02:55.000000000",
          "2017-06-10T10:09:08.000000000",
          "2017-06-11T10:00:02.000000000",
          "2017-06-19T10:02:59.000000000",
          "2017-06-27T10:00:07.000000000",
          "2017-07-05T10:03:00.000000000",
          "2017-07-12T10:09:11.000000000",
          "2017-07-13T10:00:09.000000000",
          "2017-07-29T10:00:18.000000000",
          "2017-08-05T10:06:31.000000000",
          "2017-08-06T10:02:58.000000000",
          "2017-08-13T10:09:08.000000000",
          "2017-08-14T10:00:24.000000000",
          "2017-08-21T10:06:36.000000000",
          "2017-08-22T10:02:58.000000000",
          "2017-08-29T10:09:09.000000000",
          "2017-08-30T10:00:27.000000000",
          "2017-09-06T10:06:38.000000000",
          "2017-09-14T10:09:07.000000000",
          "2017-09-15T10:00:28.000000000",
          "2017-09-30T10:09:07.000000000",
          "2017-10-08T10:06:48.000000000",
          "2017-10-16T10:09:10.000000000",
          "2017-11-02T10:00:39.000000000",
          "2017-11-10T10:02:58.000000000",
          "2017-11-17T10:09:07.000000000",
          "2017-11-18T10:00:35.000000000",
          "2017-11-25T10:06:42.000000000",
          "2017-11-26T10:02:53.000000000",
          "2017-12-03T10:09:00.000000000",
          "2017-12-28T10:02:34.000000000",
          "2018-01-05T10:00:29.000000000",
          "2018-01-13T10:02:20.000000000",
          "2018-01-20T10:08:25.000000000",
          "2018-01-28T10:06:27.000000000",
          "2018-01-29T10:02:05.000000000",
          "2018-02-05T10:08:09.000000000",
          "2018-02-06T10:00:12.000000000",
          "2018-02-21T10:07:59.000000000",
          "2018-02-22T10:00:06.000000000",
          "2018-03-26T09:59:50.000000000",
          "2018-04-02T10:05:58.000000000",
          "2018-04-19T10:01:01.000000000",
          "2018-05-12T10:06:47.000000000",
          "2018-05-13T09:59:23.000000000",
          "2018-05-29T09:59:10.000000000",
          "2018-06-05T10:05:18.000000000",
          "2018-06-13T10:06:16.000000000",
          "2018-06-22T09:59:55.000000000",
          "2018-07-07T10:05:38.000000000",
          "2018-07-08T09:59:36.000000000",
          "2018-07-15T10:05:39.000000000",
          "2018-07-16T09:59:31.000000000",
          "2018-07-23T10:05:45.000000000",
          "2018-07-24T09:59:19.000000000",
          "2018-07-31T10:05:22.000000000",
          "2018-08-01T09:59:39.000000000",
          "2018-08-08T10:05:54.000000000",
          "2018-08-09T09:59:02.000000000",
          "2018-08-16T10:05:04.000000000",
          "2018-08-17T09:59:48.000000000",
          "2018-08-24T10:06:02.000000000",
          "2018-08-25T09:58:43.000000000",
          "2018-09-01T10:04:45.000000000",
          "2018-09-02T09:59:55.000000000",
          "2018-09-17T10:04:24.000000000",
          "2018-09-26T09:58:00.000000000",
          "2018-10-11T10:06:21.000000000",
          "2018-10-12T09:57:37.000000000",
          "2018-10-19T10:03:38.000000000",
          "2018-10-27T10:06:26.000000000",
          "2018-10-28T09:57:16.000000000",
          "2018-11-05T10:00:16.000000000",
          "2018-11-28T10:06:27.000000000",
          "2018-11-29T09:56:30.000000000",
          "2018-12-07T10:00:15.000000000",
          "2018-12-22T10:02:03.000000000",
          "2018-12-30T10:06:24.000000000",
          "2019-01-07T10:01:34.000000000",
          "2019-01-08T10:00:12.000000000",
          "2019-01-15T10:06:22.000000000",
          "2019-02-09T10:00:06.000000000",
          "2019-02-16T10:06:16.000000000",
          "2019-02-17T09:54:07.000000000",
          "2019-02-25T10:00:03.000000000",
          "2019-03-12T09:59:34.000000000",
          "2019-03-28T09:59:02.000000000",
          "2019-03-29T09:59:54.000000000",
          "2019-04-05T10:06:03.000000000",
          "2019-04-13T09:58:28.000000000",
          "2019-05-07T10:06:01.000000000",
          "2019-05-16T09:59:56.000000000",
          "2019-05-24T09:50:44.000000000",
          "2019-05-31T09:56:40.000000000",
          "2019-06-01T10:00:05.000000000",
          "2019-06-16T09:56:06.000000000",
          "2019-06-17T10:00:11.000000000",
          "2019-06-25T09:49:35.000000000",
          "2019-07-02T09:55:30.000000000",
          "2019-07-03T10:00:16.000000000",
          "2019-07-10T10:06:28.000000000",
          "2019-07-11T09:48:58.000000000",
          "2019-07-19T10:00:18.000000000",
          "2019-07-26T10:06:32.000000000",
          "2019-08-03T09:54:14.000000000",
          "2019-08-04T10:00:25.000000000",
          "2019-08-11T10:06:39.000000000",
          "2019-08-12T09:47:41.000000000",
          "2019-08-19T09:53:34.000000000",
          "2019-08-20T10:00:30.000000000",
          "2019-08-27T10:06:43.000000000",
          "2019-09-04T09:52:53.000000000",
          "2019-09-05T10:00:33.000000000",
          "2019-09-12T10:06:47.000000000",
          "2019-09-20T09:52:10.000000000",
          "2019-09-29T09:45:36.000000000",
          "2019-10-06T09:51:30.000000000",
          "2019-10-07T10:00:43.000000000",
          "2019-10-22T09:50:50.000000000",
          "2019-10-30T10:06:55.000000000",
          "2019-11-07T09:50:07.000000000",
          "2019-11-08T10:00:43.000000000",
          "2019-12-25T09:47:46.000000000",
          "2019-12-26T10:00:36.000000000",
          "2020-01-02T10:06:44.000000000",
          "2020-01-03T09:41:07.000000000",
          "2020-01-10T09:46:57.000000000",
          "2020-01-18T10:06:41.000000000",
          "2020-01-26T09:46:09.000000000",
          "2020-01-27T10:00:28.000000000",
          "2020-02-04T09:39:31.000000000",
          "2020-02-19T10:06:33.000000000",
          "2020-02-20T09:38:42.000000000",
          "2020-02-28T10:00:19.000000000",
          "2020-03-06T10:06:27.000000000",
          "2020-03-15T10:00:12.000000000",
          "2020-03-23T09:36:58.000000000",
          "2020-03-30T09:42:45.000000000",
          "2020-04-07T10:06:11.000000000",
          "2020-04-08T09:36:03.000000000",
          "2020-04-15T09:41:50.000000000",
          "2020-04-16T09:59:56.000000000",
          "2020-04-23T10:06:04.000000000",
          "2020-05-26T09:33:09.000000000",
          "2020-06-02T09:38:56.000000000",
          "2020-06-03T09:59:52.000000000",
          "2020-06-11T09:32:14.000000000",
          "2020-07-04T09:37:03.000000000",
          "2020-07-05T10:00:10.000000000",
          "2020-07-12T10:06:23.000000000",
          "2020-07-13T09:30:20.000000000",
          "2020-07-20T09:36:05.000000000",
          "2020-07-21T10:00:15.000000000",
          "2020-07-28T10:06:28.000000000",
          "2020-07-29T09:29:20.000000000",
          "2020-08-05T09:35:05.000000000",
          "2020-08-06T10:00:19.000000000",
          "2020-08-14T09:28:20.000000000",
          "2020-08-22T10:00:25.000000000",
          "2020-09-06T09:33:01.000000000",
          "2020-09-14T10:06:46.000000000",
          "2020-09-15T09:26:14.000000000",
          "2020-09-30T10:06:50.000000000",
          "2020-10-01T09:25:12.000000000",
          "2020-10-08T09:30:56.000000000",
          "2020-10-09T10:00:41.000000000",
          "2020-10-25T10:00:41.000000000",
          "2020-11-01T10:06:51.000000000",
          "2020-11-02T09:23:07.000000000",
          "2020-11-09T09:28:49.000000000",
          "2020-11-17T10:06:50.000000000",
          "2020-11-18T09:22:01.000000000",
          "2020-11-25T09:27:42.000000000",
          "2020-11-26T10:00:41.000000000",
          "2020-12-04T09:20:52.000000000",
          "2021-01-04T10:06:47.000000000",
          "2021-01-20T10:06:40.000000000",
          "2021-02-05T10:06:39.000000000",
          "2021-02-06T09:16:14.000000000",
          "2021-02-14T10:00:26.000000000",
          "2021-03-17T09:19:24.000000000",
          "2021-03-25T10:06:20.000000000",
          "2021-03-26T09:12:30.000000000",
          "2021-04-03T10:00:07.000000000",
          "2021-04-10T10:06:15.000000000",
          "2021-05-05T09:59:51.000000000",
          "2021-05-12T10:06:05.000000000",
          "2021-05-28T10:06:15.000000000",
          "2021-06-05T09:12:43.000000000",
          "2021-06-06T10:00:08.000000000",
          "2021-07-16T09:03:08.000000000",
          "2021-07-23T09:08:42.000000000",
          "2021-07-24T10:00:20.000000000",
          "2021-07-31T10:06:35.000000000",
          "2021-08-08T09:07:18.000000000",
          "2021-08-09T10:00:28.000000000",
          "2021-08-16T10:06:41.000000000",
          "2021-08-17T09:00:18.000000000",
          "2021-09-10T10:00:37.000000000",
          "2021-09-25T09:03:04.000000000",
          "2021-10-04T08:56:06.000000000",
          "2021-10-11T09:01:40.000000000",
          "2021-10-12T10:00:46.000000000",
          "2021-10-19T10:06:58.000000000",
          "2021-10-20T08:54:41.000000000",
          "2021-11-05T08:53:12.000000000",
          "2021-11-13T10:00:43.000000000",
          "2021-11-20T10:06:52.000000000",
          "2021-12-07T08:50:08.000000000",
          "2021-12-07T10:00:44.000000000",
          "2021-12-14T08:55:39.000000000",
          "2021-12-14T10:06:50.000000000",
          "2021-12-15T10:00:42.000000000",
          "2021-12-23T08:48:35.000000000",
          "2021-12-30T10:06:49.000000000",
          "2022-01-07T10:06:46.000000000",
          "2022-01-08T08:47:00.000000000",
          "2022-01-15T08:52:31.000000000",
          "2022-01-15T10:06:46.000000000",
          "2022-01-16T10:00:34.000000000",
          "2022-01-23T10:06:42.000000000",
          "2022-01-24T08:45:29.000000000",
          "2022-01-24T10:00:37.000000000",
          "2022-01-31T08:50:58.000000000",
          "2022-02-01T10:00:29.000000000",
          "2022-02-08T10:06:39.000000000",
          "2022-02-09T08:43:52.000000000",
          "2022-02-09T10:00:35.000000000",
          "2022-02-16T10:06:43.000000000",
          "2022-02-24T10:06:33.000000000",
          "2022-02-25T08:42:17.000000000",
          "2022-02-25T10:00:26.000000000",
          "2022-03-13T08:40:43.000000000",
          "2022-03-21T10:00:13.000000000",
          "2022-03-28T10:06:17.000000000",
          "2022-03-29T08:39:10.000000000",
          "2022-04-30T10:00:06.000000000",
          "2022-05-08T10:00:13.000000000",
          "2022-05-15T10:06:28.000000000",
          "2022-05-23T10:06:02.000000000",
          "2022-05-24T10:00:17.000000000",
          "2022-05-25T08:34:50.000000000",
          "2022-06-08T10:06:04.000000000",
          "2022-06-11T08:33:56.000000000",
          "2022-06-17T10:00:00.000000000",
          "2022-07-10T08:26:15.000000000",
          "2022-07-10T10:06:21.000000000",
          "2022-07-11T10:00:35.000000000",
          "2022-07-15T08:31:42.000000000",
          "2022-07-18T10:06:47.000000000",
          "2022-07-19T10:00:14.000000000",
          "2022-07-26T10:06:31.000000000",
          "2022-07-27T10:00:43.000000000",
          "2022-08-01T08:30:20.000000000",
          "2022-08-03T10:06:58.000000000",
          "2022-08-04T10:00:27.000000000",
          "2022-08-11T10:06:42.000000000",
          "2022-08-12T10:00:52.000000000",
          "2022-08-13T08:23:31.000000000",
          "2022-08-18T08:28:52.000000000",
          "2022-08-19T10:07:04.000000000",
          "2022-08-27T10:06:46.000000000",
          "2022-08-28T10:00:53.000000000",
          "2022-08-30T08:21:57.000000000",
          "2022-09-04T08:27:17.000000000",
          "2022-09-05T10:00:35.000000000",
          "2022-09-12T10:06:47.000000000",
          "2022-09-16T08:20:16.000000000",
          "2022-09-20T10:07:11.000000000",
          "2022-09-21T10:00:41.000000000",
          "2022-10-03T08:18:24.000000000",
          "2022-10-06T10:07:07.000000000",
          "2022-10-08T08:23:37.000000000",
          "2022-10-15T10:00:52.000000000",
          "2022-10-30T10:06:58.000000000",
          "2022-10-31T10:01:00.000000000",
          "2022-11-07T10:07:09.000000000",
          "2022-11-08T10:00:48.000000000",
          "2022-11-11T08:19:10.000000000",
          "2022-11-24T10:00:48.000000000",
          "2022-12-10T10:00:48.000000000",
          "2022-12-17T10:06:58.000000000",
          "2022-12-18T10:00:47.000000000",
          "2023-01-02T10:06:59.000000000",
          "2023-01-10T10:06:54.000000000",
          "2023-01-27T10:00:45.000000000",
          "2023-02-03T10:07:01.000000000",
          "2023-02-04T10:00:44.000000000",
          "2023-02-09T08:09:30.000000000",
          "2023-02-11T10:06:51.000000000",
          "2023-02-12T10:00:51.000000000",
          "2023-02-19T10:06:54.000000000",
          "2023-02-20T10:00:31.000000000",
          "2023-02-26T08:05:31.000000000",
          "2023-03-03T08:10:03.000000000",
          "2023-03-07T10:06:43.000000000",
          "2023-03-08T10:00:20.000000000",
          "2023-03-15T10:06:29.000000000",
          "2023-03-16T10:00:30.000000000",
          "2023-03-23T10:06:37.000000000",
          "2023-03-24T10:00:11.000000000",
          "2023-04-06T08:00:03.000000000",
          "2023-04-09T09:59:57.000000000",
          "2023-04-11T08:04:13.000000000",
          "2023-04-17T10:00:12.000000000",
          "2023-04-24T10:06:21.000000000",
          "2023-04-28T07:58:19.000000000",
          "2023-05-03T08:02:18.000000000",
          "2023-05-03T10:00:01.000000000",
          "2023-05-10T10:06:11.000000000",
          "2023-05-11T09:59:39.000000000",
          "2023-05-26T10:06:00.000000000",
          "2023-05-27T09:59:40.000000000",
          "2023-06-11T07:52:53.000000000",
          "2023-06-12T09:59:47.000000000",
          "2023-06-16T07:56:37.000000000",
          "2023-06-27T10:05:54.000000000",
          "2023-06-28T09:59:55.000000000",
          "2023-07-03T07:49:21.000000000",
          "2023-07-05T10:06:11.000000000",
          "2023-07-06T09:59:53.000000000",
          "2023-07-14T10:00:03.000000000",
          "2023-07-22T09:59:56.000000000",
          "2023-07-29T10:06:11.000000000",
          "2023-07-30T07:48:46.000000000",
          "2023-07-30T10:00:11.000000000",
          "2023-08-04T07:52:14.000000000",
          "2023-08-14T10:06:18.000000000",
          "2023-08-15T10:00:16.000000000",
          "2023-08-21T07:44:01.000000000",
          "2023-08-22T10:06:31.000000000",
          "2023-08-23T10:00:12.000000000",
          "2023-08-26T07:47:21.000000000",
          "2023-08-30T10:06:28.000000000",
          "2023-09-23T10:06:36.000000000",
          "2023-09-24T10:00:23.000000000",
          "2023-10-14T07:38:50.000000000",
          "2023-10-19T07:41:45.000000000",
          "2023-11-18T10:06:45.000000000",
          "2023-12-13T10:00:38.000000000",
          "2023-12-20T10:06:52.000000000",
          "2024-01-13T10:06:39.000000000",
          "2024-01-14T10:00:38.000000000",
          "2024-01-21T10:06:46.000000000",
          "2024-01-22T10:00:25.000000000",
          "2024-01-29T10:06:34.000000000",
          "2024-01-30T10:00:38.000000000",
          "2024-02-07T10:00:27.000000000",
          "2024-02-14T10:06:36.000000000",
          "2024-02-15T10:00:35.000000000",
          "2024-03-02T10:00:31.000000000",
          "2024-03-09T10:06:43.000000000",
          "2024-03-17T10:06:20.000000000",
          "2024-03-26T09:59:58.000000000",
          "2024-04-03T10:00:21.000000000",
          "2024-04-10T10:06:29.000000000",
          "2024-04-11T09:59:56.000000000",
          "2024-04-18T10:06:00.000000000",
          "2024-04-19T10:00:08.000000000",
          "2024-04-27T09:59:46.000000000",
          "2024-05-04T10:05:51.000000000",
          "2024-05-20T10:05:38.000000000",
          "2024-05-21T09:59:49.000000000",
          "2024-06-06T09:59:42.000000000",
          "2024-06-14T09:59:27.000000000",
          "2024-06-22T09:59:23.000000000",
          "2024-06-30T09:59:38.000000000",
          "2024-07-15T10:05:58.000000000",
          "2024-07-16T09:59:51.000000000",
          "2024-07-23T10:06:08.000000000",
          "2024-07-24T09:59:46.000000000",
          "2024-07-31T10:06:01.000000000",
          "2024-08-01T09:59:57.000000000",
          "2024-08-08T10:06:04.000000000",
          "2024-08-09T09:59:53.000000000",
          "2024-08-24T10:06:17.000000000",
          "2024-08-25T10:00:07.000000000",
          "2024-09-01T10:06:17.000000000",
          "2024-09-09T10:06:25.000000000",
          "2024-09-10T10:00:09.000000000",
          "2024-09-17T10:06:21.000000000",
          "2024-09-25T10:06:24.000000000",
          "2024-09-26T10:00:11.000000000",
          "2024-10-11T10:06:31.000000000",
          "2024-10-12T10:00:19.000000000",
          "2024-11-04T10:06:37.000000000",
          "2024-11-05T10:00:21.000000000",
          "2024-11-13T10:00:22.000000000",
          "2024-11-20T10:06:44.000000000",
          "2024-11-21T10:00:29.000000000",
          "2024-11-28T10:06:44.000000000",
          "2024-11-29T10:00:37.000000000",
          "2024-12-07T10:00:26.000000000",
          "2024-12-14T10:06:32.000000000",
          "2024-12-30T10:06:34.000000000",
          "2024-12-31T10:00:28.000000000",
          "2025-01-08T10:00:26.000000000",
          "2025-01-15T10:06:37.000000000"
         ],
         "xaxis": "x",
         "y": {
          "bdata": "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",
          "dtype": "f8"
         },
         "yaxis": "y"
        }
       ],
       "layout": {
        "template": {
         "data": {
          "bar": [
           {
            "error_x": {
             "color": "#2a3f5f"
            },
            "error_y": {
             "color": "#2a3f5f"
            },
            "marker": {
             "line": {
              "color": "#E5ECF6",
              "width": 0.5
             },
             "pattern": {
              "fillmode": "overlay",
              "size": 10,
              "solidity": 0.2
             }
            },
            "type": "bar"
           }
          ],
          "barpolar": [
           {
            "marker": {
             "line": {
              "color": "#E5ECF6",
              "width": 0.5
             },
             "pattern": {
              "fillmode": "overlay",
              "size": 10,
              "solidity": 0.2
             }
            },
            "type": "barpolar"
           }
          ],
          "carpet": [
           {
            "aaxis": {
             "endlinecolor": "#2a3f5f",
             "gridcolor": "white",
             "linecolor": "white",
             "minorgridcolor": "white",
             "startlinecolor": "#2a3f5f"
            },
            "baxis": {
             "endlinecolor": "#2a3f5f",
             "gridcolor": "white",
             "linecolor": "white",
             "minorgridcolor": "white",
             "startlinecolor": "#2a3f5f"
            },
            "type": "carpet"
           }
          ],
          "choropleth": [
           {
            "colorbar": {
             "outlinewidth": 0,
             "ticks": ""
            },
            "type": "choropleth"
           }
          ],
          "contour": [
           {
            "colorbar": {
             "outlinewidth": 0,
             "ticks": ""
            },
            "colorscale": [
             [
              0,
              "#0d0887"
             ],
             [
              0.1111111111111111,
              "#46039f"
             ],
             [
              0.2222222222222222,
              "#7201a8"
             ],
             [
              0.3333333333333333,
              "#9c179e"
             ],
             [
              0.4444444444444444,
              "#bd3786"
             ],
             [
              0.5555555555555556,
              "#d8576b"
             ],
             [
              0.6666666666666666,
              "#ed7953"
             ],
             [
              0.7777777777777778,
              "#fb9f3a"
             ],
             [
              0.8888888888888888,
              "#fdca26"
             ],
             [
              1,
              "#f0f921"
             ]
            ],
            "type": "contour"
           }
          ],
          "contourcarpet": [
           {
            "colorbar": {
             "outlinewidth": 0,
             "ticks": ""
            },
            "type": "contourcarpet"
           }
          ],
          "heatmap": [
           {
            "colorbar": {
             "outlinewidth": 0,
             "ticks": ""
            },
            "colorscale": [
             [
              0,
              "#0d0887"
             ],
             [
              0.1111111111111111,
              "#46039f"
             ],
             [
              0.2222222222222222,
              "#7201a8"
             ],
             [
              0.3333333333333333,
              "#9c179e"
             ],
             [
              0.4444444444444444,
              "#bd3786"
             ],
             [
              0.5555555555555556,
              "#d8576b"
             ],
             [
              0.6666666666666666,
              "#ed7953"
             ],
             [
              0.7777777777777778,
              "#fb9f3a"
             ],
             [
              0.8888888888888888,
              "#fdca26"
             ],
             [
              1,
              "#f0f921"
             ]
            ],
            "type": "heatmap"
           }
          ],
          "histogram": [
           {
            "marker": {
             "pattern": {
              "fillmode": "overlay",
              "size": 10,
              "solidity": 0.2
             }
            },
            "type": "histogram"
           }
          ],
          "histogram2d": [
           {
            "colorbar": {
             "outlinewidth": 0,
             "ticks": ""
            },
            "colorscale": [
             [
              0,
              "#0d0887"
             ],
             [
              0.1111111111111111,
              "#46039f"
             ],
             [
              0.2222222222222222,
              "#7201a8"
             ],
             [
              0.3333333333333333,
              "#9c179e"
             ],
             [
              0.4444444444444444,
              "#bd3786"
             ],
             [
              0.5555555555555556,
              "#d8576b"
             ],
             [
              0.6666666666666666,
              "#ed7953"
             ],
             [
              0.7777777777777778,
              "#fb9f3a"
             ],
             [
              0.8888888888888888,
              "#fdca26"
             ],
             [
              1,
              "#f0f921"
             ]
            ],
            "type": "histogram2d"
           }
          ],
          "histogram2dcontour": [
           {
            "colorbar": {
             "outlinewidth": 0,
             "ticks": ""
            },
            "colorscale": [
             [
              0,
              "#0d0887"
             ],
             [
              0.1111111111111111,
              "#46039f"
             ],
             [
              0.2222222222222222,
              "#7201a8"
             ],
             [
              0.3333333333333333,
              "#9c179e"
             ],
             [
              0.4444444444444444,
              "#bd3786"
             ],
             [
              0.5555555555555556,
              "#d8576b"
             ],
             [
              0.6666666666666666,
              "#ed7953"
             ],
             [
              0.7777777777777778,
              "#fb9f3a"
             ],
             [
              0.8888888888888888,
              "#fdca26"
             ],
             [
              1,
              "#f0f921"
             ]
            ],
            "type": "histogram2dcontour"
           }
          ],
          "mesh3d": [
           {
            "colorbar": {
             "outlinewidth": 0,
             "ticks": ""
            },
            "type": "mesh3d"
           }
          ],
          "parcoords": [
           {
            "line": {
             "colorbar": {
              "outlinewidth": 0,
              "ticks": ""
             }
            },
            "type": "parcoords"
           }
          ],
          "pie": [
           {
            "automargin": true,
            "type": "pie"
           }
          ],
          "scatter": [
           {
            "fillpattern": {
             "fillmode": "overlay",
             "size": 10,
             "solidity": 0.2
            },
            "type": "scatter"
           }
          ],
          "scatter3d": [
           {
            "line": {
             "colorbar": {
              "outlinewidth": 0,
              "ticks": ""
             }
            },
            "marker": {
             "colorbar": {
              "outlinewidth": 0,
              "ticks": ""
             }
            },
            "type": "scatter3d"
           }
          ],
          "scattercarpet": [
           {
            "marker": {
             "colorbar": {
              "outlinewidth": 0,
              "ticks": ""
             }
            },
            "type": "scattercarpet"
           }
          ],
          "scattergeo": [
           {
            "marker": {
             "colorbar": {
              "outlinewidth": 0,
              "ticks": ""
             }
            },
            "type": "scattergeo"
           }
          ],
          "scattergl": [
           {
            "marker": {
             "colorbar": {
              "outlinewidth": 0,
              "ticks": ""
             }
            },
            "type": "scattergl"
           }
          ],
          "scattermap": [
           {
            "marker": {
             "colorbar": {
              "outlinewidth": 0,
              "ticks": ""
             }
            },
            "type": "scattermap"
           }
          ],
          "scattermapbox": [
           {
            "marker": {
             "colorbar": {
              "outlinewidth": 0,
              "ticks": ""
             }
            },
            "type": "scattermapbox"
           }
          ],
          "scatterpolar": [
           {
            "marker": {
             "colorbar": {
              "outlinewidth": 0,
              "ticks": ""
             }
            },
            "type": "scatterpolar"
           }
          ],
          "scatterpolargl": [
           {
            "marker": {
             "colorbar": {
              "outlinewidth": 0,
              "ticks": ""
             }
            },
            "type": "scatterpolargl"
           }
          ],
          "scatterternary": [
           {
            "marker": {
             "colorbar": {
              "outlinewidth": 0,
              "ticks": ""
             }
            },
            "type": "scatterternary"
           }
          ],
          "surface": [
           {
            "colorbar": {
             "outlinewidth": 0,
             "ticks": ""
            },
            "colorscale": [
             [
              0,
              "#0d0887"
             ],
             [
              0.1111111111111111,
              "#46039f"
             ],
             [
              0.2222222222222222,
              "#7201a8"
             ],
             [
              0.3333333333333333,
              "#9c179e"
             ],
             [
              0.4444444444444444,
              "#bd3786"
             ],
             [
              0.5555555555555556,
              "#d8576b"
             ],
             [
              0.6666666666666666,
              "#ed7953"
             ],
             [
              0.7777777777777778,
              "#fb9f3a"
             ],
             [
              0.8888888888888888,
              "#fdca26"
             ],
             [
              1,
              "#f0f921"
             ]
            ],
            "type": "surface"
           }
          ],
          "table": [
           {
            "cells": {
             "fill": {
              "color": "#EBF0F8"
             },
             "line": {
              "color": "white"
             }
            },
            "header": {
             "fill": {
              "color": "#C8D4E3"
             },
             "line": {
              "color": "white"
             }
            },
            "type": "table"
           }
          ]
         },
         "layout": {
          "annotationdefaults": {
           "arrowcolor": "#2a3f5f",
           "arrowhead": 0,
           "arrowwidth": 1
          },
          "autotypenumbers": "strict",
          "coloraxis": {
           "colorbar": {
            "outlinewidth": 0,
            "ticks": ""
           }
          },
          "colorscale": {
           "diverging": [
            [
             0,
             "#8e0152"
            ],
            [
             0.1,
             "#c51b7d"
            ],
            [
             0.2,
             "#de77ae"
            ],
            [
             0.3,
             "#f1b6da"
            ],
            [
             0.4,
             "#fde0ef"
            ],
            [
             0.5,
             "#f7f7f7"
            ],
            [
             0.6,
             "#e6f5d0"
            ],
            [
             0.7,
             "#b8e186"
            ],
            [
             0.8,
             "#7fbc41"
            ],
            [
             0.9,
             "#4d9221"
            ],
            [
             1,
             "#276419"
            ]
           ],
           "sequential": [
            [
             0,
             "#0d0887"
            ],
            [
             0.1111111111111111,
             "#46039f"
            ],
            [
             0.2222222222222222,
             "#7201a8"
            ],
            [
             0.3333333333333333,
             "#9c179e"
            ],
            [
             0.4444444444444444,
             "#bd3786"
            ],
            [
             0.5555555555555556,
             "#d8576b"
            ],
            [
             0.6666666666666666,
             "#ed7953"
            ],
            [
             0.7777777777777778,
             "#fb9f3a"
            ],
            [
             0.8888888888888888,
             "#fdca26"
            ],
            [
             1,
             "#f0f921"
            ]
           ],
           "sequentialminus": [
            [
             0,
             "#0d0887"
            ],
            [
             0.1111111111111111,
             "#46039f"
            ],
            [
             0.2222222222222222,
             "#7201a8"
            ],
            [
             0.3333333333333333,
             "#9c179e"
            ],
            [
             0.4444444444444444,
             "#bd3786"
            ],
            [
             0.5555555555555556,
             "#d8576b"
            ],
            [
             0.6666666666666666,
             "#ed7953"
            ],
            [
             0.7777777777777778,
             "#fb9f3a"
            ],
            [
             0.8888888888888888,
             "#fdca26"
            ],
            [
             1,
             "#f0f921"
            ]
           ]
          },
          "colorway": [
           "#636efa",
           "#EF553B",
           "#00cc96",
           "#ab63fa",
           "#FFA15A",
           "#19d3f3",
           "#FF6692",
           "#B6E880",
           "#FF97FF",
           "#FECB52"
          ],
          "font": {
           "color": "#2a3f5f"
          },
          "geo": {
           "bgcolor": "white",
           "lakecolor": "white",
           "landcolor": "#E5ECF6",
           "showlakes": true,
           "showland": true,
           "subunitcolor": "white"
          },
          "hoverlabel": {
           "align": "left"
          },
          "hovermode": "closest",
          "mapbox": {
           "style": "light"
          },
          "paper_bgcolor": "white",
          "plot_bgcolor": "#E5ECF6",
          "polar": {
           "angularaxis": {
            "gridcolor": "white",
            "linecolor": "white",
            "ticks": ""
           },
           "bgcolor": "#E5ECF6",
           "radialaxis": {
            "gridcolor": "white",
            "linecolor": "white",
            "ticks": ""
           }
          },
          "scene": {
           "xaxis": {
            "backgroundcolor": "#E5ECF6",
            "gridcolor": "white",
            "gridwidth": 2,
            "linecolor": "white",
            "showbackground": true,
            "ticks": "",
            "zerolinecolor": "white"
           },
           "yaxis": {
            "backgroundcolor": "#E5ECF6",
            "gridcolor": "white",
            "gridwidth": 2,
            "linecolor": "white",
            "showbackground": true,
            "ticks": "",
            "zerolinecolor": "white"
           },
           "zaxis": {
            "backgroundcolor": "#E5ECF6",
            "gridcolor": "white",
            "gridwidth": 2,
            "linecolor": "white",
            "showbackground": true,
            "ticks": "",
            "zerolinecolor": "white"
           }
          },
          "shapedefaults": {
           "line": {
            "color": "#2a3f5f"
           }
          },
          "ternary": {
           "aaxis": {
            "gridcolor": "white",
            "linecolor": "white",
            "ticks": ""
           },
           "baxis": {
            "gridcolor": "white",
            "linecolor": "white",
            "ticks": ""
           },
           "bgcolor": "#E5ECF6",
           "caxis": {
            "gridcolor": "white",
            "linecolor": "white",
            "ticks": ""
           }
          },
          "title": {
           "x": 0.05
          },
          "xaxis": {
           "automargin": true,
           "gridcolor": "white",
           "linecolor": "white",
           "ticks": "",
           "title": {
            "standoff": 15
           },
           "zerolinecolor": "white",
           "zerolinewidth": 2
          },
          "yaxis": {
           "automargin": true,
           "gridcolor": "white",
           "linecolor": "white",
           "ticks": "",
           "title": {
            "standoff": 15
           },
           "zerolinecolor": "white",
           "zerolinewidth": 2
          }
         }
        }
       }
      }
     },
     "metadata": {},
     "output_type": "display_data"
    }
   ],
   "source": [
    "import plotly.graph_objects as go\n",
    "fig = go.Figure()\n",
    "# Create and style traces\n",
    "fig.add_traces(df.dist_from_origin[df.site == \"T3\"].plot(title=\"T3 intersects vs CoastSat sar0939-0000\", kind=\"scatter\").data)\n",
    "cs = pd.read_csv(\"data/sar0939/transect_time_series_smoothed.csv\")\n",
    "cs.dates = pd.to_datetime(cs.dates)\n",
    "cs = cs[cs.dates.between(\"2017-01-25\", \"2025-01-20\")]\n",
    "cs.set_index(\"dates\", inplace=True)\n",
    "fig.add_traces((cs[\"sar0939-0000\"] - T3_offset).plot(markers=True, color_discrete_sequence=['red']).data)"
   ]
  }
 ],
 "metadata": {
  "kernelspec": {
   "display_name": ".venv",
   "language": "python",
   "name": "python3"
  },
  "language_info": {
   "codemirror_mode": {
    "name": "ipython",
    "version": 3
   },
   "file_extension": ".py",
   "mimetype": "text/x-python",
   "name": "python",
   "nbconvert_exporter": "python",
   "pygments_lexer": "ipython3",
   "version": "3.12.3"
  }
 },
 "nbformat": 4,
 "nbformat_minor": 2
}
